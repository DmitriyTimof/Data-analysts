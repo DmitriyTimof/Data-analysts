{
 "cells": [
  {
   "cell_type": "markdown",
   "metadata": {},
   "source": [
    "# Проект по принятию решение в бизнесе с помощью гипотез а А\\В тестов."
   ]
  },
  {
   "cell_type": "markdown",
   "metadata": {},
   "source": [
    "# Описание проекта"
   ]
  },
  {
   "cell_type": "markdown",
   "metadata": {},
   "source": [
    "Я как аналитик нашего крупного интернет-магазина вместе с отделом маркетинга подготовил список гипотез для увеличения выручки.\n",
    "Теперь нам нужно приоритизировать гипотезы, запустить A/B-тест и проанализируйте результаты. "
   ]
  },
  {
   "cell_type": "markdown",
   "metadata": {},
   "source": [
    "Итак, что мы имеем.\n",
    "\n",
    "У нас есть 3 датафрейма.\n",
    "\n",
    "Первый это файл с набором данных по 9 гипотезам по увеличению выручки интернет-магазина с указанными параметрами Reach, Impact, Confidence, Effort.\n",
    "\n",
    "Второй и третий - результат проведенного A/B-теста , которые описаны в файлах /datasets/orders.csv и /datasets/visitors.csv."
   ]
  },
  {
   "cell_type": "markdown",
   "metadata": {},
   "source": [
    "Работу проведем в 3 этапа.\n",
    "\n",
    "1. Посмотрим файлы и сделаем предоработку.\n",
    "2. Проведем приоритизацию гипотез.\n",
    "3. Сделаем анализ а-в тестов."
   ]
  },
  {
   "cell_type": "markdown",
   "metadata": {},
   "source": [
    "### Предоработка данных"
   ]
  },
  {
   "cell_type": "markdown",
   "metadata": {},
   "source": [
    "Для начала загрузим все нужные библиотеки ( вначале я могу все и не включить, но по мере выполнения проекта при необходимости я буду возвращаться  к этому шагу, чтобы дополнить их и в итоге все загруженные библиотеки будут в 1 месте)."
   ]
  },
  {
   "cell_type": "code",
   "execution_count": 2,
   "metadata": {},
   "outputs": [],
   "source": [
    "import pandas as pd\n",
    "from datetime import datetime, timedelta\n",
    "from matplotlib import pyplot as plt\n",
    "import numpy as np\n",
    "import scipy.stats as stats"
   ]
  },
  {
   "cell_type": "markdown",
   "metadata": {},
   "source": [
    "Теперь загрузим датасеты"
   ]
  },
  {
   "cell_type": "code",
   "execution_count": 3,
   "metadata": {},
   "outputs": [],
   "source": [
    "hypothesis = pd.read_csv('/datasets/hypothesis.csv')\n",
    "orders = pd.read_csv('/datasets/orders.csv')\n",
    "visitors  = pd.read_csv('/datasets/visitors.csv')"
   ]
  },
  {
   "cell_type": "code",
   "execution_count": 3,
   "metadata": {},
   "outputs": [],
   "source": [
    "pd.set_option('display.max_columns', None)"
   ]
  },
  {
   "cell_type": "markdown",
   "metadata": {},
   "source": [
    "Рассмотрим каждый датафрейм"
   ]
  },
  {
   "cell_type": "markdown",
   "metadata": {},
   "source": [
    "hypothesis"
   ]
  },
  {
   "cell_type": "code",
   "execution_count": 4,
   "metadata": {},
   "outputs": [
    {
     "name": "stdout",
     "output_type": "stream",
     "text": [
      "<class 'pandas.core.frame.DataFrame'>\n",
      "RangeIndex: 9 entries, 0 to 8\n",
      "Data columns (total 5 columns):\n",
      " #   Column      Non-Null Count  Dtype \n",
      "---  ------      --------------  ----- \n",
      " 0   Hypothesis  9 non-null      object\n",
      " 1   Reach       9 non-null      int64 \n",
      " 2   Impact      9 non-null      int64 \n",
      " 3   Confidence  9 non-null      int64 \n",
      " 4   Efforts     9 non-null      int64 \n",
      "dtypes: int64(4), object(1)\n",
      "memory usage: 488.0+ bytes\n"
     ]
    }
   ],
   "source": [
    "hypothesis.info()"
   ]
  },
  {
   "cell_type": "code",
   "execution_count": 5,
   "metadata": {},
   "outputs": [],
   "source": [
    "pd.options.display.max_colwidth = 130"
   ]
  },
  {
   "cell_type": "code",
   "execution_count": 6,
   "metadata": {},
   "outputs": [
    {
     "data": {
      "text/html": [
       "<div>\n",
       "<style scoped>\n",
       "    .dataframe tbody tr th:only-of-type {\n",
       "        vertical-align: middle;\n",
       "    }\n",
       "\n",
       "    .dataframe tbody tr th {\n",
       "        vertical-align: top;\n",
       "    }\n",
       "\n",
       "    .dataframe thead th {\n",
       "        text-align: right;\n",
       "    }\n",
       "</style>\n",
       "<table border=\"1\" class=\"dataframe\">\n",
       "  <thead>\n",
       "    <tr style=\"text-align: right;\">\n",
       "      <th></th>\n",
       "      <th>Hypothesis</th>\n",
       "      <th>Reach</th>\n",
       "      <th>Impact</th>\n",
       "      <th>Confidence</th>\n",
       "      <th>Efforts</th>\n",
       "    </tr>\n",
       "  </thead>\n",
       "  <tbody>\n",
       "    <tr>\n",
       "      <th>0</th>\n",
       "      <td>Добавить два новых канала привлечения трафика, что позволит привлекать на 30% больше пользователей</td>\n",
       "      <td>3</td>\n",
       "      <td>10</td>\n",
       "      <td>8</td>\n",
       "      <td>6</td>\n",
       "    </tr>\n",
       "    <tr>\n",
       "      <th>1</th>\n",
       "      <td>Запустить собственную службу доставки, что сократит срок доставки заказов</td>\n",
       "      <td>2</td>\n",
       "      <td>5</td>\n",
       "      <td>4</td>\n",
       "      <td>10</td>\n",
       "    </tr>\n",
       "    <tr>\n",
       "      <th>2</th>\n",
       "      <td>Добавить блоки рекомендаций товаров на сайт интернет магазина, чтобы повысить конверсию и средний чек заказа</td>\n",
       "      <td>8</td>\n",
       "      <td>3</td>\n",
       "      <td>7</td>\n",
       "      <td>3</td>\n",
       "    </tr>\n",
       "    <tr>\n",
       "      <th>3</th>\n",
       "      <td>Изменить структура категорий, что увеличит конверсию, т.к. пользователи быстрее найдут нужный товар</td>\n",
       "      <td>8</td>\n",
       "      <td>3</td>\n",
       "      <td>3</td>\n",
       "      <td>8</td>\n",
       "    </tr>\n",
       "    <tr>\n",
       "      <th>4</th>\n",
       "      <td>Изменить цвет фона главной страницы, чтобы увеличить вовлеченность пользователей</td>\n",
       "      <td>3</td>\n",
       "      <td>1</td>\n",
       "      <td>1</td>\n",
       "      <td>1</td>\n",
       "    </tr>\n",
       "    <tr>\n",
       "      <th>5</th>\n",
       "      <td>Добавить страницу отзывов клиентов о магазине, что позволит увеличить количество заказов</td>\n",
       "      <td>3</td>\n",
       "      <td>2</td>\n",
       "      <td>2</td>\n",
       "      <td>3</td>\n",
       "    </tr>\n",
       "    <tr>\n",
       "      <th>6</th>\n",
       "      <td>Показать на главной странице баннеры с актуальными акциями и распродажами, чтобы увеличить конверсию</td>\n",
       "      <td>5</td>\n",
       "      <td>3</td>\n",
       "      <td>8</td>\n",
       "      <td>3</td>\n",
       "    </tr>\n",
       "    <tr>\n",
       "      <th>7</th>\n",
       "      <td>Добавить форму подписки на все основные страницы, чтобы собрать базу клиентов для email-рассылок</td>\n",
       "      <td>10</td>\n",
       "      <td>7</td>\n",
       "      <td>8</td>\n",
       "      <td>5</td>\n",
       "    </tr>\n",
       "    <tr>\n",
       "      <th>8</th>\n",
       "      <td>Запустить акцию, дающую скидку на товар в день рождения</td>\n",
       "      <td>1</td>\n",
       "      <td>9</td>\n",
       "      <td>9</td>\n",
       "      <td>5</td>\n",
       "    </tr>\n",
       "  </tbody>\n",
       "</table>\n",
       "</div>"
      ],
      "text/plain": [
       "                                                                                                     Hypothesis  \\\n",
       "0            Добавить два новых канала привлечения трафика, что позволит привлекать на 30% больше пользователей   \n",
       "1                                     Запустить собственную службу доставки, что сократит срок доставки заказов   \n",
       "2  Добавить блоки рекомендаций товаров на сайт интернет магазина, чтобы повысить конверсию и средний чек заказа   \n",
       "3           Изменить структура категорий, что увеличит конверсию, т.к. пользователи быстрее найдут нужный товар   \n",
       "4                              Изменить цвет фона главной страницы, чтобы увеличить вовлеченность пользователей   \n",
       "5                      Добавить страницу отзывов клиентов о магазине, что позволит увеличить количество заказов   \n",
       "6          Показать на главной странице баннеры с актуальными акциями и распродажами, чтобы увеличить конверсию   \n",
       "7              Добавить форму подписки на все основные страницы, чтобы собрать базу клиентов для email-рассылок   \n",
       "8                                                       Запустить акцию, дающую скидку на товар в день рождения   \n",
       "\n",
       "   Reach  Impact  Confidence  Efforts  \n",
       "0      3      10           8        6  \n",
       "1      2       5           4       10  \n",
       "2      8       3           7        3  \n",
       "3      8       3           3        8  \n",
       "4      3       1           1        1  \n",
       "5      3       2           2        3  \n",
       "6      5       3           8        3  \n",
       "7     10       7           8        5  \n",
       "8      1       9           9        5  "
      ]
     },
     "execution_count": 6,
     "metadata": {},
     "output_type": "execute_result"
    }
   ],
   "source": [
    "hypothesis"
   ]
  },
  {
   "cell_type": "code",
   "execution_count": 7,
   "metadata": {},
   "outputs": [],
   "source": [
    "hypothesis.columns = hypothesis.columns.str.lower()"
   ]
  },
  {
   "cell_type": "code",
   "execution_count": 8,
   "metadata": {},
   "outputs": [
    {
     "data": {
      "text/html": [
       "<div>\n",
       "<style scoped>\n",
       "    .dataframe tbody tr th:only-of-type {\n",
       "        vertical-align: middle;\n",
       "    }\n",
       "\n",
       "    .dataframe tbody tr th {\n",
       "        vertical-align: top;\n",
       "    }\n",
       "\n",
       "    .dataframe thead th {\n",
       "        text-align: right;\n",
       "    }\n",
       "</style>\n",
       "<table border=\"1\" class=\"dataframe\">\n",
       "  <thead>\n",
       "    <tr style=\"text-align: right;\">\n",
       "      <th></th>\n",
       "      <th>hypothesis</th>\n",
       "      <th>reach</th>\n",
       "      <th>impact</th>\n",
       "      <th>confidence</th>\n",
       "      <th>efforts</th>\n",
       "    </tr>\n",
       "  </thead>\n",
       "  <tbody>\n",
       "    <tr>\n",
       "      <th>0</th>\n",
       "      <td>Добавить два новых канала привлечения трафика, что позволит привлекать на 30% больше пользователей</td>\n",
       "      <td>3</td>\n",
       "      <td>10</td>\n",
       "      <td>8</td>\n",
       "      <td>6</td>\n",
       "    </tr>\n",
       "    <tr>\n",
       "      <th>1</th>\n",
       "      <td>Запустить собственную службу доставки, что сократит срок доставки заказов</td>\n",
       "      <td>2</td>\n",
       "      <td>5</td>\n",
       "      <td>4</td>\n",
       "      <td>10</td>\n",
       "    </tr>\n",
       "    <tr>\n",
       "      <th>2</th>\n",
       "      <td>Добавить блоки рекомендаций товаров на сайт интернет магазина, чтобы повысить конверсию и средний чек заказа</td>\n",
       "      <td>8</td>\n",
       "      <td>3</td>\n",
       "      <td>7</td>\n",
       "      <td>3</td>\n",
       "    </tr>\n",
       "    <tr>\n",
       "      <th>3</th>\n",
       "      <td>Изменить структура категорий, что увеличит конверсию, т.к. пользователи быстрее найдут нужный товар</td>\n",
       "      <td>8</td>\n",
       "      <td>3</td>\n",
       "      <td>3</td>\n",
       "      <td>8</td>\n",
       "    </tr>\n",
       "    <tr>\n",
       "      <th>4</th>\n",
       "      <td>Изменить цвет фона главной страницы, чтобы увеличить вовлеченность пользователей</td>\n",
       "      <td>3</td>\n",
       "      <td>1</td>\n",
       "      <td>1</td>\n",
       "      <td>1</td>\n",
       "    </tr>\n",
       "    <tr>\n",
       "      <th>5</th>\n",
       "      <td>Добавить страницу отзывов клиентов о магазине, что позволит увеличить количество заказов</td>\n",
       "      <td>3</td>\n",
       "      <td>2</td>\n",
       "      <td>2</td>\n",
       "      <td>3</td>\n",
       "    </tr>\n",
       "    <tr>\n",
       "      <th>6</th>\n",
       "      <td>Показать на главной странице баннеры с актуальными акциями и распродажами, чтобы увеличить конверсию</td>\n",
       "      <td>5</td>\n",
       "      <td>3</td>\n",
       "      <td>8</td>\n",
       "      <td>3</td>\n",
       "    </tr>\n",
       "    <tr>\n",
       "      <th>7</th>\n",
       "      <td>Добавить форму подписки на все основные страницы, чтобы собрать базу клиентов для email-рассылок</td>\n",
       "      <td>10</td>\n",
       "      <td>7</td>\n",
       "      <td>8</td>\n",
       "      <td>5</td>\n",
       "    </tr>\n",
       "    <tr>\n",
       "      <th>8</th>\n",
       "      <td>Запустить акцию, дающую скидку на товар в день рождения</td>\n",
       "      <td>1</td>\n",
       "      <td>9</td>\n",
       "      <td>9</td>\n",
       "      <td>5</td>\n",
       "    </tr>\n",
       "  </tbody>\n",
       "</table>\n",
       "</div>"
      ],
      "text/plain": [
       "                                                                                                     hypothesis  \\\n",
       "0            Добавить два новых канала привлечения трафика, что позволит привлекать на 30% больше пользователей   \n",
       "1                                     Запустить собственную службу доставки, что сократит срок доставки заказов   \n",
       "2  Добавить блоки рекомендаций товаров на сайт интернет магазина, чтобы повысить конверсию и средний чек заказа   \n",
       "3           Изменить структура категорий, что увеличит конверсию, т.к. пользователи быстрее найдут нужный товар   \n",
       "4                              Изменить цвет фона главной страницы, чтобы увеличить вовлеченность пользователей   \n",
       "5                      Добавить страницу отзывов клиентов о магазине, что позволит увеличить количество заказов   \n",
       "6          Показать на главной странице баннеры с актуальными акциями и распродажами, чтобы увеличить конверсию   \n",
       "7              Добавить форму подписки на все основные страницы, чтобы собрать базу клиентов для email-рассылок   \n",
       "8                                                       Запустить акцию, дающую скидку на товар в день рождения   \n",
       "\n",
       "   reach  impact  confidence  efforts  \n",
       "0      3      10           8        6  \n",
       "1      2       5           4       10  \n",
       "2      8       3           7        3  \n",
       "3      8       3           3        8  \n",
       "4      3       1           1        1  \n",
       "5      3       2           2        3  \n",
       "6      5       3           8        3  \n",
       "7     10       7           8        5  \n",
       "8      1       9           9        5  "
      ]
     },
     "execution_count": 8,
     "metadata": {},
     "output_type": "execute_result"
    }
   ],
   "source": [
    "hypothesis"
   ]
  },
  {
   "cell_type": "markdown",
   "metadata": {},
   "source": [
    "Тут все понятно, есть список гипотез и расставлены оценки значимости по 10 бальной шкале."
   ]
  },
  {
   "cell_type": "markdown",
   "metadata": {},
   "source": [
    "orders"
   ]
  },
  {
   "cell_type": "code",
   "execution_count": 9,
   "metadata": {},
   "outputs": [
    {
     "name": "stdout",
     "output_type": "stream",
     "text": [
      "<class 'pandas.core.frame.DataFrame'>\n",
      "RangeIndex: 1197 entries, 0 to 1196\n",
      "Data columns (total 5 columns):\n",
      " #   Column         Non-Null Count  Dtype \n",
      "---  ------         --------------  ----- \n",
      " 0   transactionId  1197 non-null   int64 \n",
      " 1   visitorId      1197 non-null   int64 \n",
      " 2   date           1197 non-null   object\n",
      " 3   revenue        1197 non-null   int64 \n",
      " 4   group          1197 non-null   object\n",
      "dtypes: int64(3), object(2)\n",
      "memory usage: 46.9+ KB\n"
     ]
    }
   ],
   "source": [
    "orders.info()"
   ]
  },
  {
   "cell_type": "code",
   "execution_count": 10,
   "metadata": {},
   "outputs": [],
   "source": [
    "orders['date'] = pd.to_datetime(orders['date'])"
   ]
  },
  {
   "cell_type": "code",
   "execution_count": 11,
   "metadata": {},
   "outputs": [
    {
     "name": "stdout",
     "output_type": "stream",
     "text": [
      "<class 'pandas.core.frame.DataFrame'>\n",
      "RangeIndex: 1197 entries, 0 to 1196\n",
      "Data columns (total 5 columns):\n",
      " #   Column         Non-Null Count  Dtype         \n",
      "---  ------         --------------  -----         \n",
      " 0   transactionId  1197 non-null   int64         \n",
      " 1   visitorId      1197 non-null   int64         \n",
      " 2   date           1197 non-null   datetime64[ns]\n",
      " 3   revenue        1197 non-null   int64         \n",
      " 4   group          1197 non-null   object        \n",
      "dtypes: datetime64[ns](1), int64(3), object(1)\n",
      "memory usage: 46.9+ KB\n"
     ]
    }
   ],
   "source": [
    "orders.info()"
   ]
  },
  {
   "cell_type": "code",
   "execution_count": 12,
   "metadata": {},
   "outputs": [
    {
     "data": {
      "text/html": [
       "<div>\n",
       "<style scoped>\n",
       "    .dataframe tbody tr th:only-of-type {\n",
       "        vertical-align: middle;\n",
       "    }\n",
       "\n",
       "    .dataframe tbody tr th {\n",
       "        vertical-align: top;\n",
       "    }\n",
       "\n",
       "    .dataframe thead th {\n",
       "        text-align: right;\n",
       "    }\n",
       "</style>\n",
       "<table border=\"1\" class=\"dataframe\">\n",
       "  <thead>\n",
       "    <tr style=\"text-align: right;\">\n",
       "      <th></th>\n",
       "      <th>transactionId</th>\n",
       "      <th>visitorId</th>\n",
       "      <th>date</th>\n",
       "      <th>revenue</th>\n",
       "      <th>group</th>\n",
       "    </tr>\n",
       "  </thead>\n",
       "  <tbody>\n",
       "    <tr>\n",
       "      <th>0</th>\n",
       "      <td>3667963787</td>\n",
       "      <td>3312258926</td>\n",
       "      <td>2019-08-15</td>\n",
       "      <td>1650</td>\n",
       "      <td>B</td>\n",
       "    </tr>\n",
       "    <tr>\n",
       "      <th>1</th>\n",
       "      <td>2804400009</td>\n",
       "      <td>3642806036</td>\n",
       "      <td>2019-08-15</td>\n",
       "      <td>730</td>\n",
       "      <td>B</td>\n",
       "    </tr>\n",
       "    <tr>\n",
       "      <th>2</th>\n",
       "      <td>2961555356</td>\n",
       "      <td>4069496402</td>\n",
       "      <td>2019-08-15</td>\n",
       "      <td>400</td>\n",
       "      <td>A</td>\n",
       "    </tr>\n",
       "    <tr>\n",
       "      <th>3</th>\n",
       "      <td>3797467345</td>\n",
       "      <td>1196621759</td>\n",
       "      <td>2019-08-15</td>\n",
       "      <td>9759</td>\n",
       "      <td>B</td>\n",
       "    </tr>\n",
       "    <tr>\n",
       "      <th>4</th>\n",
       "      <td>2282983706</td>\n",
       "      <td>2322279887</td>\n",
       "      <td>2019-08-15</td>\n",
       "      <td>2308</td>\n",
       "      <td>B</td>\n",
       "    </tr>\n",
       "    <tr>\n",
       "      <th>...</th>\n",
       "      <td>...</td>\n",
       "      <td>...</td>\n",
       "      <td>...</td>\n",
       "      <td>...</td>\n",
       "      <td>...</td>\n",
       "    </tr>\n",
       "    <tr>\n",
       "      <th>1192</th>\n",
       "      <td>2662137336</td>\n",
       "      <td>3733762160</td>\n",
       "      <td>2019-08-14</td>\n",
       "      <td>6490</td>\n",
       "      <td>B</td>\n",
       "    </tr>\n",
       "    <tr>\n",
       "      <th>1193</th>\n",
       "      <td>2203539145</td>\n",
       "      <td>370388673</td>\n",
       "      <td>2019-08-14</td>\n",
       "      <td>3190</td>\n",
       "      <td>A</td>\n",
       "    </tr>\n",
       "    <tr>\n",
       "      <th>1194</th>\n",
       "      <td>1807773912</td>\n",
       "      <td>573423106</td>\n",
       "      <td>2019-08-14</td>\n",
       "      <td>10550</td>\n",
       "      <td>A</td>\n",
       "    </tr>\n",
       "    <tr>\n",
       "      <th>1195</th>\n",
       "      <td>1947021204</td>\n",
       "      <td>1614305549</td>\n",
       "      <td>2019-08-14</td>\n",
       "      <td>100</td>\n",
       "      <td>A</td>\n",
       "    </tr>\n",
       "    <tr>\n",
       "      <th>1196</th>\n",
       "      <td>3936777065</td>\n",
       "      <td>2108080724</td>\n",
       "      <td>2019-08-15</td>\n",
       "      <td>202740</td>\n",
       "      <td>B</td>\n",
       "    </tr>\n",
       "  </tbody>\n",
       "</table>\n",
       "<p>1197 rows × 5 columns</p>\n",
       "</div>"
      ],
      "text/plain": [
       "      transactionId   visitorId       date  revenue group\n",
       "0        3667963787  3312258926 2019-08-15     1650     B\n",
       "1        2804400009  3642806036 2019-08-15      730     B\n",
       "2        2961555356  4069496402 2019-08-15      400     A\n",
       "3        3797467345  1196621759 2019-08-15     9759     B\n",
       "4        2282983706  2322279887 2019-08-15     2308     B\n",
       "...             ...         ...        ...      ...   ...\n",
       "1192     2662137336  3733762160 2019-08-14     6490     B\n",
       "1193     2203539145   370388673 2019-08-14     3190     A\n",
       "1194     1807773912   573423106 2019-08-14    10550     A\n",
       "1195     1947021204  1614305549 2019-08-14      100     A\n",
       "1196     3936777065  2108080724 2019-08-15   202740     B\n",
       "\n",
       "[1197 rows x 5 columns]"
      ]
     },
     "execution_count": 12,
     "metadata": {},
     "output_type": "execute_result"
    }
   ],
   "source": [
    "orders"
   ]
  },
  {
   "cell_type": "code",
   "execution_count": 13,
   "metadata": {},
   "outputs": [],
   "source": [
    "orders.columns = [name.replace('Id', '_id') for name in orders.columns]"
   ]
  },
  {
   "cell_type": "code",
   "execution_count": 14,
   "metadata": {},
   "outputs": [
    {
     "data": {
      "text/html": [
       "<div>\n",
       "<style scoped>\n",
       "    .dataframe tbody tr th:only-of-type {\n",
       "        vertical-align: middle;\n",
       "    }\n",
       "\n",
       "    .dataframe tbody tr th {\n",
       "        vertical-align: top;\n",
       "    }\n",
       "\n",
       "    .dataframe thead th {\n",
       "        text-align: right;\n",
       "    }\n",
       "</style>\n",
       "<table border=\"1\" class=\"dataframe\">\n",
       "  <thead>\n",
       "    <tr style=\"text-align: right;\">\n",
       "      <th></th>\n",
       "      <th>transaction_id</th>\n",
       "      <th>visitor_id</th>\n",
       "      <th>date</th>\n",
       "      <th>revenue</th>\n",
       "      <th>group</th>\n",
       "    </tr>\n",
       "  </thead>\n",
       "  <tbody>\n",
       "    <tr>\n",
       "      <th>0</th>\n",
       "      <td>3667963787</td>\n",
       "      <td>3312258926</td>\n",
       "      <td>2019-08-15</td>\n",
       "      <td>1650</td>\n",
       "      <td>B</td>\n",
       "    </tr>\n",
       "    <tr>\n",
       "      <th>1</th>\n",
       "      <td>2804400009</td>\n",
       "      <td>3642806036</td>\n",
       "      <td>2019-08-15</td>\n",
       "      <td>730</td>\n",
       "      <td>B</td>\n",
       "    </tr>\n",
       "    <tr>\n",
       "      <th>2</th>\n",
       "      <td>2961555356</td>\n",
       "      <td>4069496402</td>\n",
       "      <td>2019-08-15</td>\n",
       "      <td>400</td>\n",
       "      <td>A</td>\n",
       "    </tr>\n",
       "    <tr>\n",
       "      <th>3</th>\n",
       "      <td>3797467345</td>\n",
       "      <td>1196621759</td>\n",
       "      <td>2019-08-15</td>\n",
       "      <td>9759</td>\n",
       "      <td>B</td>\n",
       "    </tr>\n",
       "    <tr>\n",
       "      <th>4</th>\n",
       "      <td>2282983706</td>\n",
       "      <td>2322279887</td>\n",
       "      <td>2019-08-15</td>\n",
       "      <td>2308</td>\n",
       "      <td>B</td>\n",
       "    </tr>\n",
       "    <tr>\n",
       "      <th>...</th>\n",
       "      <td>...</td>\n",
       "      <td>...</td>\n",
       "      <td>...</td>\n",
       "      <td>...</td>\n",
       "      <td>...</td>\n",
       "    </tr>\n",
       "    <tr>\n",
       "      <th>1192</th>\n",
       "      <td>2662137336</td>\n",
       "      <td>3733762160</td>\n",
       "      <td>2019-08-14</td>\n",
       "      <td>6490</td>\n",
       "      <td>B</td>\n",
       "    </tr>\n",
       "    <tr>\n",
       "      <th>1193</th>\n",
       "      <td>2203539145</td>\n",
       "      <td>370388673</td>\n",
       "      <td>2019-08-14</td>\n",
       "      <td>3190</td>\n",
       "      <td>A</td>\n",
       "    </tr>\n",
       "    <tr>\n",
       "      <th>1194</th>\n",
       "      <td>1807773912</td>\n",
       "      <td>573423106</td>\n",
       "      <td>2019-08-14</td>\n",
       "      <td>10550</td>\n",
       "      <td>A</td>\n",
       "    </tr>\n",
       "    <tr>\n",
       "      <th>1195</th>\n",
       "      <td>1947021204</td>\n",
       "      <td>1614305549</td>\n",
       "      <td>2019-08-14</td>\n",
       "      <td>100</td>\n",
       "      <td>A</td>\n",
       "    </tr>\n",
       "    <tr>\n",
       "      <th>1196</th>\n",
       "      <td>3936777065</td>\n",
       "      <td>2108080724</td>\n",
       "      <td>2019-08-15</td>\n",
       "      <td>202740</td>\n",
       "      <td>B</td>\n",
       "    </tr>\n",
       "  </tbody>\n",
       "</table>\n",
       "<p>1197 rows × 5 columns</p>\n",
       "</div>"
      ],
      "text/plain": [
       "      transaction_id  visitor_id       date  revenue group\n",
       "0         3667963787  3312258926 2019-08-15     1650     B\n",
       "1         2804400009  3642806036 2019-08-15      730     B\n",
       "2         2961555356  4069496402 2019-08-15      400     A\n",
       "3         3797467345  1196621759 2019-08-15     9759     B\n",
       "4         2282983706  2322279887 2019-08-15     2308     B\n",
       "...              ...         ...        ...      ...   ...\n",
       "1192      2662137336  3733762160 2019-08-14     6490     B\n",
       "1193      2203539145   370388673 2019-08-14     3190     A\n",
       "1194      1807773912   573423106 2019-08-14    10550     A\n",
       "1195      1947021204  1614305549 2019-08-14      100     A\n",
       "1196      3936777065  2108080724 2019-08-15   202740     B\n",
       "\n",
       "[1197 rows x 5 columns]"
      ]
     },
     "execution_count": 14,
     "metadata": {},
     "output_type": "execute_result"
    }
   ],
   "source": [
    "orders"
   ]
  },
  {
   "cell_type": "code",
   "execution_count": 15,
   "metadata": {},
   "outputs": [
    {
     "data": {
      "text/plain": [
       "transaction_id    0\n",
       "visitor_id        0\n",
       "date              0\n",
       "revenue           0\n",
       "group             0\n",
       "dtype: int64"
      ]
     },
     "execution_count": 15,
     "metadata": {},
     "output_type": "execute_result"
    }
   ],
   "source": [
    "orders.isna().sum()"
   ]
  },
  {
   "cell_type": "code",
   "execution_count": 16,
   "metadata": {},
   "outputs": [
    {
     "data": {
      "text/plain": [
       "0"
      ]
     },
     "execution_count": 16,
     "metadata": {},
     "output_type": "execute_result"
    }
   ],
   "source": [
    "orders.duplicated().sum()"
   ]
  },
  {
   "cell_type": "markdown",
   "metadata": {},
   "source": [
    "Проверяем на пропуски и дубликаты для чистоты эксперимента. Все в порядке."
   ]
  },
  {
   "cell_type": "markdown",
   "metadata": {},
   "source": [
    "visitors"
   ]
  },
  {
   "cell_type": "code",
   "execution_count": 17,
   "metadata": {},
   "outputs": [
    {
     "name": "stdout",
     "output_type": "stream",
     "text": [
      "<class 'pandas.core.frame.DataFrame'>\n",
      "RangeIndex: 62 entries, 0 to 61\n",
      "Data columns (total 3 columns):\n",
      " #   Column    Non-Null Count  Dtype \n",
      "---  ------    --------------  ----- \n",
      " 0   date      62 non-null     object\n",
      " 1   group     62 non-null     object\n",
      " 2   visitors  62 non-null     int64 \n",
      "dtypes: int64(1), object(2)\n",
      "memory usage: 1.6+ KB\n"
     ]
    }
   ],
   "source": [
    "visitors.info()"
   ]
  },
  {
   "cell_type": "code",
   "execution_count": 18,
   "metadata": {},
   "outputs": [
    {
     "data": {
      "text/html": [
       "<div>\n",
       "<style scoped>\n",
       "    .dataframe tbody tr th:only-of-type {\n",
       "        vertical-align: middle;\n",
       "    }\n",
       "\n",
       "    .dataframe tbody tr th {\n",
       "        vertical-align: top;\n",
       "    }\n",
       "\n",
       "    .dataframe thead th {\n",
       "        text-align: right;\n",
       "    }\n",
       "</style>\n",
       "<table border=\"1\" class=\"dataframe\">\n",
       "  <thead>\n",
       "    <tr style=\"text-align: right;\">\n",
       "      <th></th>\n",
       "      <th>date</th>\n",
       "      <th>group</th>\n",
       "      <th>visitors</th>\n",
       "    </tr>\n",
       "  </thead>\n",
       "  <tbody>\n",
       "    <tr>\n",
       "      <th>0</th>\n",
       "      <td>2019-08-01</td>\n",
       "      <td>A</td>\n",
       "      <td>719</td>\n",
       "    </tr>\n",
       "    <tr>\n",
       "      <th>1</th>\n",
       "      <td>2019-08-02</td>\n",
       "      <td>A</td>\n",
       "      <td>619</td>\n",
       "    </tr>\n",
       "    <tr>\n",
       "      <th>2</th>\n",
       "      <td>2019-08-03</td>\n",
       "      <td>A</td>\n",
       "      <td>507</td>\n",
       "    </tr>\n",
       "    <tr>\n",
       "      <th>3</th>\n",
       "      <td>2019-08-04</td>\n",
       "      <td>A</td>\n",
       "      <td>717</td>\n",
       "    </tr>\n",
       "    <tr>\n",
       "      <th>4</th>\n",
       "      <td>2019-08-05</td>\n",
       "      <td>A</td>\n",
       "      <td>756</td>\n",
       "    </tr>\n",
       "    <tr>\n",
       "      <th>...</th>\n",
       "      <td>...</td>\n",
       "      <td>...</td>\n",
       "      <td>...</td>\n",
       "    </tr>\n",
       "    <tr>\n",
       "      <th>57</th>\n",
       "      <td>2019-08-27</td>\n",
       "      <td>B</td>\n",
       "      <td>720</td>\n",
       "    </tr>\n",
       "    <tr>\n",
       "      <th>58</th>\n",
       "      <td>2019-08-28</td>\n",
       "      <td>B</td>\n",
       "      <td>654</td>\n",
       "    </tr>\n",
       "    <tr>\n",
       "      <th>59</th>\n",
       "      <td>2019-08-29</td>\n",
       "      <td>B</td>\n",
       "      <td>531</td>\n",
       "    </tr>\n",
       "    <tr>\n",
       "      <th>60</th>\n",
       "      <td>2019-08-30</td>\n",
       "      <td>B</td>\n",
       "      <td>490</td>\n",
       "    </tr>\n",
       "    <tr>\n",
       "      <th>61</th>\n",
       "      <td>2019-08-31</td>\n",
       "      <td>B</td>\n",
       "      <td>718</td>\n",
       "    </tr>\n",
       "  </tbody>\n",
       "</table>\n",
       "<p>62 rows × 3 columns</p>\n",
       "</div>"
      ],
      "text/plain": [
       "          date group  visitors\n",
       "0   2019-08-01     A       719\n",
       "1   2019-08-02     A       619\n",
       "2   2019-08-03     A       507\n",
       "3   2019-08-04     A       717\n",
       "4   2019-08-05     A       756\n",
       "..         ...   ...       ...\n",
       "57  2019-08-27     B       720\n",
       "58  2019-08-28     B       654\n",
       "59  2019-08-29     B       531\n",
       "60  2019-08-30     B       490\n",
       "61  2019-08-31     B       718\n",
       "\n",
       "[62 rows x 3 columns]"
      ]
     },
     "execution_count": 18,
     "metadata": {},
     "output_type": "execute_result"
    }
   ],
   "source": [
    "visitors"
   ]
  },
  {
   "cell_type": "code",
   "execution_count": 19,
   "metadata": {},
   "outputs": [
    {
     "data": {
      "text/plain": [
       "date        0\n",
       "group       0\n",
       "visitors    0\n",
       "dtype: int64"
      ]
     },
     "execution_count": 19,
     "metadata": {},
     "output_type": "execute_result"
    }
   ],
   "source": [
    "visitors.isna().sum()"
   ]
  },
  {
   "cell_type": "code",
   "execution_count": 20,
   "metadata": {},
   "outputs": [
    {
     "data": {
      "text/plain": [
       "0"
      ]
     },
     "execution_count": 20,
     "metadata": {},
     "output_type": "execute_result"
    }
   ],
   "source": [
    "visitors.duplicated().sum()"
   ]
  },
  {
   "cell_type": "code",
   "execution_count": 21,
   "metadata": {},
   "outputs": [],
   "source": [
    "visitors['date'] = pd.to_datetime(visitors['date'])"
   ]
  },
  {
   "cell_type": "code",
   "execution_count": 22,
   "metadata": {},
   "outputs": [
    {
     "name": "stdout",
     "output_type": "stream",
     "text": [
      "<class 'pandas.core.frame.DataFrame'>\n",
      "RangeIndex: 62 entries, 0 to 61\n",
      "Data columns (total 3 columns):\n",
      " #   Column    Non-Null Count  Dtype         \n",
      "---  ------    --------------  -----         \n",
      " 0   date      62 non-null     datetime64[ns]\n",
      " 1   group     62 non-null     object        \n",
      " 2   visitors  62 non-null     int64         \n",
      "dtypes: datetime64[ns](1), int64(1), object(1)\n",
      "memory usage: 1.6+ KB\n"
     ]
    }
   ],
   "source": [
    "visitors.info()"
   ]
  },
  {
   "cell_type": "markdown",
   "metadata": {},
   "source": [
    "На первом этапе мы загрузили библиотеки, загрузили сами файлы, изучили их. Убедились , что пропусков и дубликатов нет. Названия колонок привели к единому стилю. Тип данных для столбца даты перевели в нужный."
   ]
  },
  {
   "cell_type": "markdown",
   "metadata": {},
   "source": [
    "### Приоритизация гипотез."
   ]
  },
  {
   "cell_type": "markdown",
   "metadata": {},
   "source": [
    "Применим фреймворк ICE для приоритизации гипотез. Отсортируйем их по убыванию приоритета."
   ]
  },
  {
   "cell_type": "code",
   "execution_count": 23,
   "metadata": {},
   "outputs": [
    {
     "data": {
      "text/html": [
       "<div>\n",
       "<style scoped>\n",
       "    .dataframe tbody tr th:only-of-type {\n",
       "        vertical-align: middle;\n",
       "    }\n",
       "\n",
       "    .dataframe tbody tr th {\n",
       "        vertical-align: top;\n",
       "    }\n",
       "\n",
       "    .dataframe thead th {\n",
       "        text-align: right;\n",
       "    }\n",
       "</style>\n",
       "<table border=\"1\" class=\"dataframe\">\n",
       "  <thead>\n",
       "    <tr style=\"text-align: right;\">\n",
       "      <th></th>\n",
       "      <th>hypothesis</th>\n",
       "      <th>ICE</th>\n",
       "    </tr>\n",
       "  </thead>\n",
       "  <tbody>\n",
       "    <tr>\n",
       "      <th>8</th>\n",
       "      <td>Запустить акцию, дающую скидку на товар в день рождения</td>\n",
       "      <td>16.20</td>\n",
       "    </tr>\n",
       "    <tr>\n",
       "      <th>0</th>\n",
       "      <td>Добавить два новых канала привлечения трафика, что позволит привлекать на 30% больше пользователей</td>\n",
       "      <td>13.33</td>\n",
       "    </tr>\n",
       "    <tr>\n",
       "      <th>7</th>\n",
       "      <td>Добавить форму подписки на все основные страницы, чтобы собрать базу клиентов для email-рассылок</td>\n",
       "      <td>11.20</td>\n",
       "    </tr>\n",
       "    <tr>\n",
       "      <th>6</th>\n",
       "      <td>Показать на главной странице баннеры с актуальными акциями и распродажами, чтобы увеличить конверсию</td>\n",
       "      <td>8.00</td>\n",
       "    </tr>\n",
       "    <tr>\n",
       "      <th>2</th>\n",
       "      <td>Добавить блоки рекомендаций товаров на сайт интернет магазина, чтобы повысить конверсию и средний чек заказа</td>\n",
       "      <td>7.00</td>\n",
       "    </tr>\n",
       "  </tbody>\n",
       "</table>\n",
       "</div>"
      ],
      "text/plain": [
       "                                                                                                     hypothesis  \\\n",
       "8                                                       Запустить акцию, дающую скидку на товар в день рождения   \n",
       "0            Добавить два новых канала привлечения трафика, что позволит привлекать на 30% больше пользователей   \n",
       "7              Добавить форму подписки на все основные страницы, чтобы собрать базу клиентов для email-рассылок   \n",
       "6          Показать на главной странице баннеры с актуальными акциями и распродажами, чтобы увеличить конверсию   \n",
       "2  Добавить блоки рекомендаций товаров на сайт интернет магазина, чтобы повысить конверсию и средний чек заказа   \n",
       "\n",
       "     ICE  \n",
       "8  16.20  \n",
       "0  13.33  \n",
       "7  11.20  \n",
       "6   8.00  \n",
       "2   7.00  "
      ]
     },
     "execution_count": 23,
     "metadata": {},
     "output_type": "execute_result"
    }
   ],
   "source": [
    "hypothesis['ICE'] = (hypothesis['impact'] *hypothesis['confidence'])/hypothesis['efforts']\n",
    "hypothesis[['hypothesis', 'ICE']].sort_values(by='ICE', ascending=False).round(2).head()"
   ]
  },
  {
   "cell_type": "markdown",
   "metadata": {},
   "source": [
    "Первые топ-5 гипотез мы определили. Теперь применим фреймворк RICE для приоритизации гипотез. Отсортируем их по убыванию приоритета."
   ]
  },
  {
   "cell_type": "code",
   "execution_count": 24,
   "metadata": {},
   "outputs": [
    {
     "name": "stdout",
     "output_type": "stream",
     "text": [
      "                                                                                                     hypothesis  \\\n",
      "7              Добавить форму подписки на все основные страницы, чтобы собрать базу клиентов для email-рассылок   \n",
      "2  Добавить блоки рекомендаций товаров на сайт интернет магазина, чтобы повысить конверсию и средний чек заказа   \n",
      "0            Добавить два новых канала привлечения трафика, что позволит привлекать на 30% больше пользователей   \n",
      "6          Показать на главной странице баннеры с актуальными акциями и распродажами, чтобы увеличить конверсию   \n",
      "8                                                       Запустить акцию, дающую скидку на товар в день рождения   \n",
      "3           Изменить структура категорий, что увеличит конверсию, т.к. пользователи быстрее найдут нужный товар   \n",
      "1                                     Запустить собственную службу доставки, что сократит срок доставки заказов   \n",
      "5                      Добавить страницу отзывов клиентов о магазине, что позволит увеличить количество заказов   \n",
      "4                              Изменить цвет фона главной страницы, чтобы увеличить вовлеченность пользователей   \n",
      "\n",
      "    RICE  \n",
      "7  112.0  \n",
      "2   56.0  \n",
      "0   40.0  \n",
      "6   40.0  \n",
      "8   16.2  \n",
      "3    9.0  \n",
      "1    4.0  \n",
      "5    4.0  \n",
      "4    3.0  \n"
     ]
    }
   ],
   "source": [
    "hypothesis['RICE'] = (hypothesis['reach'] *hypothesis['impact'] *hypothesis['confidence'])/hypothesis['efforts']\n",
    "\n",
    "print(hypothesis[['hypothesis' , 'RICE']].sort_values(by='RICE', ascending=False))\n"
   ]
  },
  {
   "cell_type": "markdown",
   "metadata": {},
   "source": [
    "Имеется разница между приоритизацией  разными методами. Видимо потому что одна учитывает пользователей, которых затронут изменения, а другая только приоритет."
   ]
  },
  {
   "cell_type": "markdown",
   "metadata": {},
   "source": [
    "По части приоритизации гипотез следует выбрать следующие:\n",
    "    \n",
    "    - Запустить акцию, дающую скидку на товар в день рождения\n",
    "    - Добавить два новых канала привлечения трафика\n",
    "    - Добавить форму подписки на все основные страницы\n",
    "    - Добавить блоки рекомендаций товаров на сайт интернет магазина"
   ]
  },
  {
   "cell_type": "markdown",
   "metadata": {},
   "source": [
    "### Анализ A/B-теста."
   ]
  },
  {
   "cell_type": "markdown",
   "metadata": {},
   "source": [
    "Для анализа А/В теста нам нужно построить графики по кумулятивным группам. Для построения графиков нужно собрать кумулятивные данные и объявить датафреймы."
   ]
  },
  {
   "cell_type": "code",
   "execution_count": 25,
   "metadata": {},
   "outputs": [],
   "source": [
    "datesGroups = orders[['date','group']].drop_duplicates() "
   ]
  },
  {
   "cell_type": "code",
   "execution_count": 26,
   "metadata": {},
   "outputs": [],
   "source": [
    "ordersAggregated = datesGroups.apply(lambda x: orders[np.logical_and(orders['date'] <= x['date'], orders['group'] == x['group'])]\\\n",
    ".agg({'date' : 'max', 'group' : 'max', 'transaction_id' : 'nunique', 'visitor_id' : 'nunique', 'revenue' : 'sum'}), axis=1).sort_values(by=['date','group']) "
   ]
  },
  {
   "cell_type": "code",
   "execution_count": 27,
   "metadata": {},
   "outputs": [
    {
     "data": {
      "text/html": [
       "<div>\n",
       "<style scoped>\n",
       "    .dataframe tbody tr th:only-of-type {\n",
       "        vertical-align: middle;\n",
       "    }\n",
       "\n",
       "    .dataframe tbody tr th {\n",
       "        vertical-align: top;\n",
       "    }\n",
       "\n",
       "    .dataframe thead th {\n",
       "        text-align: right;\n",
       "    }\n",
       "</style>\n",
       "<table border=\"1\" class=\"dataframe\">\n",
       "  <thead>\n",
       "    <tr style=\"text-align: right;\">\n",
       "      <th></th>\n",
       "      <th>date</th>\n",
       "      <th>group</th>\n",
       "      <th>transaction_id</th>\n",
       "      <th>visitor_id</th>\n",
       "      <th>revenue</th>\n",
       "    </tr>\n",
       "  </thead>\n",
       "  <tbody>\n",
       "    <tr>\n",
       "      <th>55</th>\n",
       "      <td>2019-08-01</td>\n",
       "      <td>A</td>\n",
       "      <td>24</td>\n",
       "      <td>20</td>\n",
       "      <td>148579</td>\n",
       "    </tr>\n",
       "    <tr>\n",
       "      <th>66</th>\n",
       "      <td>2019-08-01</td>\n",
       "      <td>B</td>\n",
       "      <td>21</td>\n",
       "      <td>20</td>\n",
       "      <td>101217</td>\n",
       "    </tr>\n",
       "    <tr>\n",
       "      <th>175</th>\n",
       "      <td>2019-08-02</td>\n",
       "      <td>A</td>\n",
       "      <td>44</td>\n",
       "      <td>38</td>\n",
       "      <td>242401</td>\n",
       "    </tr>\n",
       "    <tr>\n",
       "      <th>173</th>\n",
       "      <td>2019-08-02</td>\n",
       "      <td>B</td>\n",
       "      <td>45</td>\n",
       "      <td>43</td>\n",
       "      <td>266748</td>\n",
       "    </tr>\n",
       "    <tr>\n",
       "      <th>291</th>\n",
       "      <td>2019-08-03</td>\n",
       "      <td>A</td>\n",
       "      <td>68</td>\n",
       "      <td>62</td>\n",
       "      <td>354874</td>\n",
       "    </tr>\n",
       "    <tr>\n",
       "      <th>...</th>\n",
       "      <td>...</td>\n",
       "      <td>...</td>\n",
       "      <td>...</td>\n",
       "      <td>...</td>\n",
       "      <td>...</td>\n",
       "    </tr>\n",
       "    <tr>\n",
       "      <th>496</th>\n",
       "      <td>2019-08-29</td>\n",
       "      <td>B</td>\n",
       "      <td>596</td>\n",
       "      <td>544</td>\n",
       "      <td>5559398</td>\n",
       "    </tr>\n",
       "    <tr>\n",
       "      <th>730</th>\n",
       "      <td>2019-08-30</td>\n",
       "      <td>A</td>\n",
       "      <td>545</td>\n",
       "      <td>493</td>\n",
       "      <td>4022970</td>\n",
       "    </tr>\n",
       "    <tr>\n",
       "      <th>690</th>\n",
       "      <td>2019-08-30</td>\n",
       "      <td>B</td>\n",
       "      <td>620</td>\n",
       "      <td>567</td>\n",
       "      <td>5774631</td>\n",
       "    </tr>\n",
       "    <tr>\n",
       "      <th>958</th>\n",
       "      <td>2019-08-31</td>\n",
       "      <td>A</td>\n",
       "      <td>557</td>\n",
       "      <td>503</td>\n",
       "      <td>4084803</td>\n",
       "    </tr>\n",
       "    <tr>\n",
       "      <th>930</th>\n",
       "      <td>2019-08-31</td>\n",
       "      <td>B</td>\n",
       "      <td>640</td>\n",
       "      <td>586</td>\n",
       "      <td>5907760</td>\n",
       "    </tr>\n",
       "  </tbody>\n",
       "</table>\n",
       "<p>62 rows × 5 columns</p>\n",
       "</div>"
      ],
      "text/plain": [
       "          date group  transaction_id  visitor_id  revenue\n",
       "55  2019-08-01     A              24          20   148579\n",
       "66  2019-08-01     B              21          20   101217\n",
       "175 2019-08-02     A              44          38   242401\n",
       "173 2019-08-02     B              45          43   266748\n",
       "291 2019-08-03     A              68          62   354874\n",
       "..         ...   ...             ...         ...      ...\n",
       "496 2019-08-29     B             596         544  5559398\n",
       "730 2019-08-30     A             545         493  4022970\n",
       "690 2019-08-30     B             620         567  5774631\n",
       "958 2019-08-31     A             557         503  4084803\n",
       "930 2019-08-31     B             640         586  5907760\n",
       "\n",
       "[62 rows x 5 columns]"
      ]
     },
     "execution_count": 27,
     "metadata": {},
     "output_type": "execute_result"
    }
   ],
   "source": [
    "ordersAggregated"
   ]
  },
  {
   "cell_type": "code",
   "execution_count": 28,
   "metadata": {},
   "outputs": [],
   "source": [
    "visitorsAggregated = datesGroups.apply(lambda x: visitors[np.logical_and(visitors['date'] <= x['date'], visitors['group'] == x['group'])].agg({'date' : 'max', 'group' : 'max', 'visitors' : 'sum'}), axis=1).sort_values(by=['date','group']) "
   ]
  },
  {
   "cell_type": "code",
   "execution_count": 29,
   "metadata": {},
   "outputs": [
    {
     "data": {
      "text/html": [
       "<div>\n",
       "<style scoped>\n",
       "    .dataframe tbody tr th:only-of-type {\n",
       "        vertical-align: middle;\n",
       "    }\n",
       "\n",
       "    .dataframe tbody tr th {\n",
       "        vertical-align: top;\n",
       "    }\n",
       "\n",
       "    .dataframe thead th {\n",
       "        text-align: right;\n",
       "    }\n",
       "</style>\n",
       "<table border=\"1\" class=\"dataframe\">\n",
       "  <thead>\n",
       "    <tr style=\"text-align: right;\">\n",
       "      <th></th>\n",
       "      <th>date</th>\n",
       "      <th>group</th>\n",
       "      <th>visitors</th>\n",
       "    </tr>\n",
       "  </thead>\n",
       "  <tbody>\n",
       "    <tr>\n",
       "      <th>55</th>\n",
       "      <td>2019-08-01</td>\n",
       "      <td>A</td>\n",
       "      <td>719</td>\n",
       "    </tr>\n",
       "    <tr>\n",
       "      <th>66</th>\n",
       "      <td>2019-08-01</td>\n",
       "      <td>B</td>\n",
       "      <td>713</td>\n",
       "    </tr>\n",
       "    <tr>\n",
       "      <th>175</th>\n",
       "      <td>2019-08-02</td>\n",
       "      <td>A</td>\n",
       "      <td>1338</td>\n",
       "    </tr>\n",
       "    <tr>\n",
       "      <th>173</th>\n",
       "      <td>2019-08-02</td>\n",
       "      <td>B</td>\n",
       "      <td>1294</td>\n",
       "    </tr>\n",
       "    <tr>\n",
       "      <th>291</th>\n",
       "      <td>2019-08-03</td>\n",
       "      <td>A</td>\n",
       "      <td>1845</td>\n",
       "    </tr>\n",
       "    <tr>\n",
       "      <th>...</th>\n",
       "      <td>...</td>\n",
       "      <td>...</td>\n",
       "      <td>...</td>\n",
       "    </tr>\n",
       "    <tr>\n",
       "      <th>496</th>\n",
       "      <td>2019-08-29</td>\n",
       "      <td>B</td>\n",
       "      <td>17708</td>\n",
       "    </tr>\n",
       "    <tr>\n",
       "      <th>730</th>\n",
       "      <td>2019-08-30</td>\n",
       "      <td>A</td>\n",
       "      <td>18037</td>\n",
       "    </tr>\n",
       "    <tr>\n",
       "      <th>690</th>\n",
       "      <td>2019-08-30</td>\n",
       "      <td>B</td>\n",
       "      <td>18198</td>\n",
       "    </tr>\n",
       "    <tr>\n",
       "      <th>958</th>\n",
       "      <td>2019-08-31</td>\n",
       "      <td>A</td>\n",
       "      <td>18736</td>\n",
       "    </tr>\n",
       "    <tr>\n",
       "      <th>930</th>\n",
       "      <td>2019-08-31</td>\n",
       "      <td>B</td>\n",
       "      <td>18916</td>\n",
       "    </tr>\n",
       "  </tbody>\n",
       "</table>\n",
       "<p>62 rows × 3 columns</p>\n",
       "</div>"
      ],
      "text/plain": [
       "          date group  visitors\n",
       "55  2019-08-01     A       719\n",
       "66  2019-08-01     B       713\n",
       "175 2019-08-02     A      1338\n",
       "173 2019-08-02     B      1294\n",
       "291 2019-08-03     A      1845\n",
       "..         ...   ...       ...\n",
       "496 2019-08-29     B     17708\n",
       "730 2019-08-30     A     18037\n",
       "690 2019-08-30     B     18198\n",
       "958 2019-08-31     A     18736\n",
       "930 2019-08-31     B     18916\n",
       "\n",
       "[62 rows x 3 columns]"
      ]
     },
     "execution_count": 29,
     "metadata": {},
     "output_type": "execute_result"
    }
   ],
   "source": [
    "visitorsAggregated"
   ]
  },
  {
   "cell_type": "code",
   "execution_count": 30,
   "metadata": {},
   "outputs": [
    {
     "name": "stdout",
     "output_type": "stream",
     "text": [
      "        date group  orders  buyers  revenue  visitors\n",
      "0 2019-08-01     A      24      20   148579       719\n",
      "1 2019-08-01     B      21      20   101217       713\n",
      "2 2019-08-02     A      44      38   242401      1338\n",
      "3 2019-08-02     B      45      43   266748      1294\n",
      "4 2019-08-03     A      68      62   354874      1845\n"
     ]
    }
   ],
   "source": [
    "cumulativeData = ordersAggregated.merge(visitorsAggregated, left_on=['date', 'group'], right_on=['date', 'group'])\n",
    "cumulativeData.columns = ['date', 'group', 'orders', 'buyers', 'revenue', 'visitors']\n",
    "\n",
    "print(cumulativeData.head(5)) "
   ]
  },
  {
   "cell_type": "code",
   "execution_count": 31,
   "metadata": {},
   "outputs": [
    {
     "data": {
      "text/plain": [
       "Timestamp('2019-08-01 00:00:00')"
      ]
     },
     "execution_count": 31,
     "metadata": {},
     "output_type": "execute_result"
    }
   ],
   "source": [
    "cumulativeData['date'].min()"
   ]
  },
  {
   "cell_type": "code",
   "execution_count": 32,
   "metadata": {},
   "outputs": [
    {
     "data": {
      "text/plain": [
       "Timestamp('2019-08-01 00:00:00')"
      ]
     },
     "execution_count": 32,
     "metadata": {},
     "output_type": "execute_result"
    }
   ],
   "source": [
    "visitors['date'].min()"
   ]
  },
  {
   "cell_type": "code",
   "execution_count": 33,
   "metadata": {},
   "outputs": [
    {
     "data": {
      "text/plain": [
       "Timestamp('2019-08-31 00:00:00')"
      ]
     },
     "execution_count": 33,
     "metadata": {},
     "output_type": "execute_result"
    }
   ],
   "source": [
    "cumulativeData['date'].max()"
   ]
  },
  {
   "cell_type": "code",
   "execution_count": 34,
   "metadata": {},
   "outputs": [
    {
     "data": {
      "text/plain": [
       "Timestamp('2019-08-31 00:00:00')"
      ]
     },
     "execution_count": 34,
     "metadata": {},
     "output_type": "execute_result"
    }
   ],
   "source": [
    "visitors['date'].max()"
   ]
  },
  {
   "cell_type": "markdown",
   "metadata": {},
   "source": [
    "Агрегируем кумулятивные  значения мы все получили, теперь приступаем к построению графиков."
   ]
  },
  {
   "cell_type": "markdown",
   "metadata": {},
   "source": [
    "Построим график кумулятивной выручки по группам."
   ]
  },
  {
   "cell_type": "code",
   "execution_count": 35,
   "metadata": {},
   "outputs": [
    {
     "data": {
      "image/png": "[encoded data removed]",
      "text/plain": [
       "<Figure size 432x288 with 1 Axes>"
      ]
     },
     "metadata": {
      "needs_background": "light"
     },
     "output_type": "display_data"
    }
   ],
   "source": [
    "# датафрейм с кумулятивным количеством заказов и кумулятивной выручкой по дням в группе А\n",
    "cumulativeRevenueA = cumulativeData[cumulativeData['group']=='A'][['date','revenue', 'orders']]\n",
    "\n",
    "# датафрейм с кумулятивным количеством заказов и кумулятивной выручкой по дням в группе B\n",
    "cumulativeRevenueB = cumulativeData[cumulativeData['group']=='B'][['date','revenue', 'orders']]\n",
    "\n",
    "# Строим график выручки группы А\n",
    "plt.plot(cumulativeRevenueA['date'], cumulativeRevenueA['revenue'], label='A')\n",
    "\n",
    "# Строим график выручки группы B\n",
    "plt.plot(cumulativeRevenueB['date'], cumulativeRevenueB['revenue'], label='B')\n",
    "\n",
    "plt.title('график кумулятивной выручки по группам')\n",
    "plt.ylabel(\"Выручка\")\n",
    "plt.xticks(rotation=20)\n",
    "plt.legend()\n",
    "plt.show()\n"
   ]
  },
  {
   "cell_type": "markdown",
   "metadata": {},
   "source": [
    "Выручка почти равномерно увеличивается в течение всего теста. Хороший знак.\n",
    "Однако график выручки  группы В в точке 19 августа резко вырос. Это может сигнализировать о всплесках числа заказов, либо о появлении очень дорогих заказов в выборке."
   ]
  },
  {
   "cell_type": "markdown",
   "metadata": {},
   "source": [
    "Теперь построим график кумулятивного среднего чека по группам. "
   ]
  },
  {
   "cell_type": "code",
   "execution_count": 36,
   "metadata": {},
   "outputs": [
    {
     "data": {
      "image/png": "[encoded data removed]",
      "text/plain": [
       "<Figure size 432x288 with 1 Axes>"
      ]
     },
     "metadata": {
      "needs_background": "light"
     },
     "output_type": "display_data"
    }
   ],
   "source": [
    "plt.plot(cumulativeRevenueA['date'], cumulativeRevenueA['revenue']/cumulativeRevenueA['orders'], label='A')\n",
    "plt.plot(cumulativeRevenueB['date'], cumulativeRevenueB['revenue']/cumulativeRevenueB['orders'], label='B')\n",
    "plt.title('график кумулятивного среднего чека')\n",
    "plt.ylabel(\"Выручка\")\n",
    "plt.xticks(rotation=20)\n",
    "plt.legend()\n",
    "plt.show()"
   ]
  },
  {
   "cell_type": "markdown",
   "metadata": {},
   "source": [
    "Средний чек группы А рос более равномерно и потом держался на уровне 7000, а вот группа В резко выросла и теория о дорогой покупке стала ближе к истине."
   ]
  },
  {
   "cell_type": "markdown",
   "metadata": {},
   "source": [
    "Теперь построим график относительного изменения кумулятивного среднего чека группы B к группе A."
   ]
  },
  {
   "cell_type": "code",
   "execution_count": 37,
   "metadata": {},
   "outputs": [
    {
     "data": {
      "image/png": "[encoded data removed]",
      "text/plain": [
       "<Figure size 432x288 with 1 Axes>"
      ]
     },
     "metadata": {
      "needs_background": "light"
     },
     "output_type": "display_data"
    }
   ],
   "source": [
    "# собираем данные в одном датафрейме\n",
    "mergedCumulativeRevenue = cumulativeRevenueA.merge(cumulativeRevenueB, left_on='date', right_on='date', how='left', suffixes=['A', 'B'])\n",
    "\n",
    "# cтроим отношение средних чеков\n",
    "plt.plot(mergedCumulativeRevenue['date'], (mergedCumulativeRevenue['revenueB']/mergedCumulativeRevenue['ordersB'])/(mergedCumulativeRevenue['revenueA']/mergedCumulativeRevenue['ordersA'])-1)\n",
    "\n",
    "# добавляем ось X\n",
    "plt.axhline(y=0, color='black', linestyle='--') \n",
    "\n",
    "plt.title('График относительного изменения кумулятивного среднего чека группы')\n",
    "plt.xticks(rotation=20)\n",
    "plt.show()"
   ]
  },
  {
   "cell_type": "markdown",
   "metadata": {},
   "source": [
    "Идет то резкий рост, то убыль, потом опять рост. Либо в данных ошибка, либо крупные покупки так могут влиять."
   ]
  },
  {
   "cell_type": "markdown",
   "metadata": {},
   "source": [
    "Построим график кумулятивного среднего количества заказов на посетителя по группам."
   ]
  },
  {
   "cell_type": "code",
   "execution_count": 38,
   "metadata": {},
   "outputs": [
    {
     "data": {
      "image/png": "[encoded data removed]",
      "text/plain": [
       "<Figure size 432x288 with 1 Axes>"
      ]
     },
     "metadata": {
      "needs_background": "light"
     },
     "output_type": "display_data"
    }
   ],
   "source": [
    "# считаем кумулятивную конверсию\n",
    "cumulativeData['conversion'] = cumulativeData['orders']/cumulativeData['visitors']\n",
    "\n",
    "# отделяем данные по группе A\n",
    "cumulativeDataA = cumulativeData[cumulativeData['group']=='A']\n",
    "\n",
    "# отделяем данные по группе B\n",
    "cumulativeDataB = cumulativeData[cumulativeData['group']=='B']\n",
    "\n",
    "# строим графики\n",
    "plt.plot(cumulativeDataA['date'], cumulativeDataA['conversion'], label='A')\n",
    "plt.plot(cumulativeDataB['date'], cumulativeDataB['conversion'], label='B')\n",
    "plt.legend()\n",
    "\n",
    "plt.title('График кумулятивного среднего количества заказов на посетителя по группам.')\n",
    "plt.xticks(rotation=20)\n",
    "plt.show()"
   ]
  },
  {
   "cell_type": "markdown",
   "metadata": {},
   "source": [
    "Симметричный график получился! Группы колебались около одного значения, но затем конверсия группы В вырвалась вперёд и зафиксировалась, а конверсия группы А просела и также зафиксировалась."
   ]
  },
  {
   "cell_type": "markdown",
   "metadata": {},
   "source": [
    "Построим график относительного изменения кумулятивного среднего количества заказов на посетителя группы B к группе A."
   ]
  },
  {
   "cell_type": "code",
   "execution_count": 39,
   "metadata": {},
   "outputs": [
    {
     "data": {
      "image/png": "[encoded data removed]",
      "text/plain": [
       "<Figure size 432x288 with 1 Axes>"
      ]
     },
     "metadata": {
      "needs_background": "light"
     },
     "output_type": "display_data"
    }
   ],
   "source": [
    "mergedCumulativeConversions = cumulativeDataA[['date','conversion']].merge(cumulativeDataB[['date','conversion']], left_on='date', right_on='date', how='left', suffixes=['A', 'B'])\n",
    "\n",
    "plt.plot(mergedCumulativeConversions['date'], mergedCumulativeConversions['conversionB']/mergedCumulativeConversions['conversionA']-1, label=\"Относительный прирост конверсии группы B относительно группы A\")\n",
    "plt.legend()\n",
    "\n",
    "plt.axhline(y=0, color='black', linestyle='--')\n",
    "plt.axhline(y=0.1, color='grey', linestyle='--')\n",
    "plt.title('График относительного изменения кумулятивного среднего количества заказов на посетителя группы B к группе A.')\n",
    "plt.xticks(rotation=30)\n",
    "plt.show()\n"
   ]
  },
  {
   "cell_type": "markdown",
   "metadata": {},
   "source": [
    "В начале не понятно за кем будет итог, но спустя пару дней В стремительно набрала оборот и на пике удерживала превосходство, потом немного просели значения, но в конце опять тенденция к росту. Но не дают покоя предыдущие графики, где явный намек на выборсы. Сперва стоит проанализировать аномалии, возможно, они изменят картину. А потом уже будем делать окончательные выводы."
   ]
  },
  {
   "cell_type": "markdown",
   "metadata": {},
   "source": [
    "Построим точечный график количества заказов по пользователям."
   ]
  },
  {
   "cell_type": "code",
   "execution_count": 40,
   "metadata": {},
   "outputs": [
    {
     "name": "stdout",
     "output_type": "stream",
     "text": [
      "      visitor_id  orders\n",
      "1023  4256040402      11\n",
      "591   2458001652      11\n",
      "569   2378935119       9\n",
      "487   2038680547       8\n",
      "44     199603092       5\n",
      "744   3062433592       5\n",
      "55     237748145       5\n",
      "917   3803269165       5\n",
      "299   1230306981       5\n",
      "897   3717692402       5\n"
     ]
    },
    {
     "data": {
      "image/png": "[encoded data removed]",
      "text/plain": [
       "<Figure size 432x288 with 1 Axes>"
      ]
     },
     "metadata": {
      "needs_background": "light"
     },
     "output_type": "display_data"
    }
   ],
   "source": [
    "ordersByUsers = (\n",
    "    orders.groupby('visitor_id', as_index=False)\n",
    "    .agg({'transaction_id': 'nunique'})\n",
    ")\n",
    "ordersByUsers.columns = ['visitor_id', 'orders']\n",
    "\n",
    "print(ordersByUsers.sort_values(by='orders', ascending=False).head(10))\n",
    "\n",
    "plt.hist(ordersByUsers['orders'], alpha=0.5)\n",
    "plt.title('Распределение количества заказов по пользователям')\n",
    "plt.xlabel('Количество заказов')\n",
    "plt.ylabel('Количество пользователей')\n",
    "plt.show()\n"
   ]
  },
  {
   "cell_type": "markdown",
   "metadata": {},
   "source": [
    "Обычно заказ оформляют 1 раз , очень мало 2, но есть и те, кто 11????"
   ]
  },
  {
   "cell_type": "markdown",
   "metadata": {},
   "source": [
    "Оценим стоимость заказов ещё одним способом."
   ]
  },
  {
   "cell_type": "code",
   "execution_count": 41,
   "metadata": {},
   "outputs": [
    {
     "data": {
      "image/png": "[encoded data removed]",
      "text/plain": [
       "<Figure size 432x288 with 1 Axes>"
      ]
     },
     "metadata": {
      "needs_background": "light"
     },
     "output_type": "display_data"
    }
   ],
   "source": [
    "x_values = pd.Series(range(0,len(ordersByUsers)))\n",
    "plt.scatter(x_values, ordersByUsers['orders'],color='deeppink', alpha=0.5) \n",
    "plt.show()"
   ]
  },
  {
   "cell_type": "markdown",
   "metadata": {},
   "source": [
    "2-3 заказа тоже часто встречается, от 6 и выше уже исключение."
   ]
  },
  {
   "cell_type": "markdown",
   "metadata": {},
   "source": [
    "Посчитаем 95-й и 99-й перцентили количества заказов на пользователя."
   ]
  },
  {
   "cell_type": "code",
   "execution_count": 42,
   "metadata": {},
   "outputs": [
    {
     "data": {
      "text/plain": [
       "array([2., 4.])"
      ]
     },
     "execution_count": 42,
     "metadata": {},
     "output_type": "execute_result"
    }
   ],
   "source": [
    "np.percentile(ordersByUsers['orders'], [95, 99])"
   ]
  },
  {
   "cell_type": "markdown",
   "metadata": {},
   "source": [
    "Только 5% совершали больше 2-х покупок, еще 1% купили 4 раза. 4 заказа, это потолок, его возьмем за отсечку."
   ]
  },
  {
   "cell_type": "markdown",
   "metadata": {},
   "source": [
    "Построим точечный график стоимостей заказов."
   ]
  },
  {
   "cell_type": "code",
   "execution_count": 43,
   "metadata": {},
   "outputs": [
    {
     "data": {
      "image/png": "[encoded data removed]",
      "text/plain": [
       "<Figure size 432x288 with 1 Axes>"
      ]
     },
     "metadata": {
      "needs_background": "light"
     },
     "output_type": "display_data"
    }
   ],
   "source": [
    "plt.hist(orders['revenue'], alpha=0.5)  \n",
    "plt.title('Распределение стоимости заказов по пользователям')\n",
    "plt.xlabel('Стоимость заказов')\n",
    "plt.ylabel('Количество пользователей')\n",
    "plt.show()"
   ]
  },
  {
   "cell_type": "markdown",
   "metadata": {},
   "source": [
    "Ого какой дорогой заказ получился, больше 1 млн. Но кроме этого ничего не понятно. Сейчас построим другой график."
   ]
  },
  {
   "cell_type": "code",
   "execution_count": 44,
   "metadata": {},
   "outputs": [
    {
     "data": {
      "image/png": "[encoded data removed]",
      "text/plain": [
       "<Figure size 432x288 with 1 Axes>"
      ]
     },
     "metadata": {
      "needs_background": "light"
     },
     "output_type": "display_data"
    }
   ],
   "source": [
    "x_values = pd.Series(range(0, len(orders['revenue'])))\n",
    "\n",
    "plt.scatter(x_values, orders['revenue'], alpha=0.5)\n",
    "plt.title('Распределение стоимости заказов по пользователям')\n",
    "plt.show()"
   ]
  },
  {
   "cell_type": "markdown",
   "metadata": {},
   "source": [
    "Видно, что этот заказ 1 такой, нужно его отрезать, чтобы картина стала более ясной."
   ]
  },
  {
   "cell_type": "code",
   "execution_count": 45,
   "metadata": {},
   "outputs": [
    {
     "data": {
      "image/png": "[encoded data removed]",
      "text/plain": [
       "<Figure size 432x288 with 1 Axes>"
      ]
     },
     "metadata": {
      "needs_background": "light"
     },
     "output_type": "display_data"
    }
   ],
   "source": [
    "plt.ylim(0, 130000)\n",
    "plt.scatter(x_values, orders['revenue'], color='red', alpha=0.2)\n",
    "plt.title('Распределение стоимости заказов по пользователям')\n",
    "plt.show()"
   ]
  },
  {
   "cell_type": "markdown",
   "metadata": {},
   "source": [
    "20 тыс, это основная масса. Теперь посмотрим по процентилям 95 и 99."
   ]
  },
  {
   "cell_type": "code",
   "execution_count": 46,
   "metadata": {},
   "outputs": [
    {
     "data": {
      "text/plain": [
       "array([28000. , 58233.2])"
      ]
     },
     "execution_count": 46,
     "metadata": {},
     "output_type": "execute_result"
    }
   ],
   "source": [
    "np.percentile(orders['revenue'], [95, 99])"
   ]
  },
  {
   "cell_type": "markdown",
   "metadata": {},
   "source": [
    "Как и видно было по графику, только 5% превышают заказ 28к и 1% - 58к. Дальше уже аномалии."
   ]
  },
  {
   "cell_type": "markdown",
   "metadata": {},
   "source": [
    "Теперь перейдем к анализу статистической значимости"
   ]
  },
  {
   "cell_type": "markdown",
   "metadata": {},
   "source": [
    "Итак,  мы  оценили результаты A/B-теста визуально и выяснили, что в данных, скорее всего, есть выбросы;\n",
    "Увидели выбросы и нашли границу для их определения.\n",
    "Посчитаем статистическую значимость различий в среднем числе заказов на пользователя и среднем чеке между группами по «сырым» данным — без удаления аномальных пользователей.\n",
    "Сформулируем гипотезы. Нулевая: различий в среднем количестве заказов между группами нет. Альтернативная: различия в среднем между группами есть.\n",
    "\n",
    "Уровень значимости определим - 0.05"
   ]
  },
  {
   "cell_type": "markdown",
   "metadata": {},
   "source": [
    "Посчитаем статистическую значимость различий в среднем количестве заказов на посетителя между группами по «сырым» данным."
   ]
  },
  {
   "cell_type": "code",
   "execution_count": 47,
   "metadata": {},
   "outputs": [
    {
     "name": "stdout",
     "output_type": "stream",
     "text": [
      "        date  ordersPerDateA  revenuePerDateA  ordersPerDateB  \\\n",
      "0 2019-08-01              24           148579              21   \n",
      "1 2019-08-02              20            93822              24   \n",
      "2 2019-08-03              24           112473              16   \n",
      "3 2019-08-04              16            70825              17   \n",
      "4 2019-08-05              25           124218              23   \n",
      "\n",
      "   revenuePerDateB  ordersCummulativeA  revenueCummulativeA  \\\n",
      "0           101217                  24               148579   \n",
      "1           165531                  44               242401   \n",
      "2           114248                  68               354874   \n",
      "3           108571                  84               425699   \n",
      "4            92428                 109               549917   \n",
      "\n",
      "   ordersCummulativeB  revenueCummulativeB  visitorsPerDateA  \\\n",
      "0                  21               101217               719   \n",
      "1                  45               266748               619   \n",
      "2                  61               380996               507   \n",
      "3                  78               489567               717   \n",
      "4                 101               581995               756   \n",
      "\n",
      "   visitorsPerDateB  visitorsCummulativeA  visitorsCummulativeB  \n",
      "0               713                   719                   713  \n",
      "1               581                  1338                  1294  \n",
      "2               509                  1845                  1803  \n",
      "3               770                  2562                  2573  \n",
      "4               707                  3318                  3280  \n",
      "0.01679\n",
      "0.138\n"
     ]
    }
   ],
   "source": [
    "visitorsADaily = visitors[visitors['group'] == 'A'][['date', 'visitors']]\n",
    "visitorsADaily.columns = ['date', 'visitorsPerDateA']\n",
    "\n",
    "visitorsACummulative = visitorsADaily.apply(\n",
    "    lambda x: visitorsADaily[visitorsADaily['date'] <= x['date']].agg(\n",
    "        {'date': 'max', 'visitorsPerDateA': 'sum'}\n",
    "    ),\n",
    "    axis=1,\n",
    ")\n",
    "visitorsACummulative.columns = ['date', 'visitorsCummulativeA']\n",
    "\n",
    "visitorsBDaily = visitors[visitors['group'] == 'B'][['date', 'visitors']]\n",
    "visitorsBDaily.columns = ['date', 'visitorsPerDateB']\n",
    "\n",
    "visitorsBCummulative = visitorsBDaily.apply(\n",
    "    lambda x: visitorsBDaily[visitorsBDaily['date'] <= x['date']].agg(\n",
    "        {'date': 'max', 'visitorsPerDateB': 'sum'}\n",
    "    ),\n",
    "    axis=1,\n",
    ")\n",
    "visitorsBCummulative.columns = ['date', 'visitorsCummulativeB']\n",
    "\n",
    "ordersADaily = (\n",
    "    orders[orders['group'] == 'A'][['date', 'transaction_id', 'visitor_id', 'revenue']]\n",
    "    .groupby('date', as_index=False)\n",
    "    .agg({'transaction_id': pd.Series.nunique, 'revenue': 'sum'})\n",
    ")\n",
    "ordersADaily.columns = ['date', 'ordersPerDateA', 'revenuePerDateA']\n",
    "\n",
    "ordersACummulative = ordersADaily.apply(\n",
    "    lambda x: ordersADaily[ordersADaily['date'] <= x['date']].agg(\n",
    "        {'date': 'max', 'ordersPerDateA': 'sum', 'revenuePerDateA': 'sum'}\n",
    "    ),\n",
    "    axis=1,\n",
    ").sort_values(by=['date'])\n",
    "ordersACummulative.columns = [\n",
    "    'date',\n",
    "    'ordersCummulativeA',\n",
    "    'revenueCummulativeA',\n",
    "]\n",
    "\n",
    "ordersBDaily = (\n",
    "    orders[orders['group'] == 'B'][['date', 'transaction_id', 'visitor_id', 'revenue']]\n",
    "    .groupby('date', as_index=False)\n",
    "    .agg({'transaction_id': pd.Series.nunique, 'revenue': 'sum'})\n",
    ")\n",
    "ordersBDaily.columns = ['date', 'ordersPerDateB', 'revenuePerDateB']\n",
    "\n",
    "ordersBCummulative = ordersBDaily.apply(\n",
    "    lambda x: ordersBDaily[ordersBDaily['date'] <= x['date']].agg(\n",
    "        {'date': 'max', 'ordersPerDateB': 'sum', 'revenuePerDateB': 'sum'}\n",
    "    ),\n",
    "    axis=1,\n",
    ").sort_values(by=['date'])\n",
    "ordersBCummulative.columns = [\n",
    "    'date',\n",
    "    'ordersCummulativeB',\n",
    "    'revenueCummulativeB',\n",
    "]\n",
    "\n",
    "data = (\n",
    "    ordersADaily.merge(\n",
    "        ordersBDaily, left_on='date', right_on='date', how='left'\n",
    "    )\n",
    "    .merge(ordersACummulative, left_on='date', right_on='date', how='left')\n",
    "    .merge(ordersBCummulative, left_on='date', right_on='date', how='left')\n",
    "    .merge(visitorsADaily, left_on='date', right_on='date', how='left')\n",
    "    .merge(visitorsBDaily, left_on='date', right_on='date', how='left')\n",
    "    .merge(visitorsACummulative, left_on='date', right_on='date', how='left')\n",
    "    .merge(visitorsBCummulative, left_on='date', right_on='date', how='left')\n",
    ")\n",
    "\n",
    "print(data.head(5))\n",
    "\n",
    "ordersByUsersA = (\n",
    "    orders[orders['group'] == 'A']\n",
    "    .groupby('visitor_id', as_index=False)\n",
    "    .agg({'transaction_id': pd.Series.nunique})\n",
    ")\n",
    "ordersByUsersA.columns = ['visitor_id', 'orders']\n",
    "\n",
    "ordersByUsersB = (\n",
    "    orders[orders['group'] == 'B']\n",
    "    .groupby('visitor_id', as_index=False)\n",
    "    .agg({'transaction_id': pd.Series.nunique})\n",
    ")\n",
    "ordersByUsersB.columns = ['visitor_id', 'orders']\n",
    "\n",
    "sampleA = pd.concat(\n",
    "    [\n",
    "        ordersByUsersA['orders'],\n",
    "        pd.Series(\n",
    "            0,\n",
    "            index=np.arange(\n",
    "                data['visitorsPerDateA'].sum() - len(ordersByUsersA['orders'])\n",
    "            ),\n",
    "            name='orders',\n",
    "        ),\n",
    "    ],\n",
    "    axis=0,\n",
    ")\n",
    "\n",
    "sampleB = pd.concat(\n",
    "    [\n",
    "        ordersByUsersB['orders'],\n",
    "        pd.Series(\n",
    "            0,\n",
    "            index=np.arange(\n",
    "                data['visitorsPerDateB'].sum() - len(ordersByUsersB['orders'])\n",
    "            ),\n",
    "            name='orders',\n",
    "        ),\n",
    "    ],\n",
    "    axis=0,\n",
    ")\n",
    "\n",
    "print(\"{0:.5f}\".format(stats.mannwhitneyu(sampleA, sampleB)[1]))\n",
    "\n",
    "print(\"{0:.3f}\".format(sampleB.mean() / sampleA.mean() - 1))"
   ]
  },
  {
   "cell_type": "markdown",
   "metadata": {},
   "source": [
    "P-value меньше 0.05 , поэтому нулевую гипотезу отвергаем. Относительный прирост среднего группы В к конверсии группы А всего 13,8%."
   ]
  },
  {
   "cell_type": "markdown",
   "metadata": {},
   "source": [
    "Посчитаем статистическую значимость различий в среднем чеке заказа между группами по «сырым» данным. "
   ]
  },
  {
   "cell_type": "code",
   "execution_count": 48,
   "metadata": {},
   "outputs": [
    {
     "name": "stdout",
     "output_type": "stream",
     "text": [
      "0.729\n",
      "0.259\n"
     ]
    }
   ],
   "source": [
    "print('{0:.3f}'.format(stats.mannwhitneyu(orders[orders['group']=='A']['revenue'], orders[orders['group']=='B']['revenue'])[1]))\n",
    "print('{0:.3f}'.format(orders[orders['group']=='B']['revenue'].mean()/orders[orders['group']=='A']['revenue'].mean()-1)) "
   ]
  },
  {
   "cell_type": "markdown",
   "metadata": {},
   "source": [
    "P-value значительно больше 0.05. Значит, причин отвергать нулевую гипотезу и считать, что в среднем чеке есть различия, нет. Впрочем, средний чек группы А значительно ниже среднего чека группы В."
   ]
  },
  {
   "cell_type": "code",
   "execution_count": 49,
   "metadata": {},
   "outputs": [
    {
     "name": "stdout",
     "output_type": "stream",
     "text": [
      "P-value: 0.017\n",
      "Отвергаем нулевую гипотезу: между группами есть разница\n",
      "Относительный прирост В к А: 13.808%\n"
     ]
    }
   ],
   "source": [
    "def stat_significance(data_a, data_b):\n",
    "    alpha = 0.05\n",
    "    p_value = stats.mannwhitneyu(data_a, data_b)[1]\n",
    "    print(\"P-value: {0:.3f}\".format(p_value))\n",
    "\n",
    "    if (p_value < alpha):\n",
    "        print(\"Отвергаем нулевую гипотезу: между группами есть разница\")\n",
    "    else:\n",
    "        print(\"Не получилось отвергнуть нулевую гипотезу, нет оснований считать группы разными\")\n",
    "    \n",
    "    print(\"Относительный прирост В к А: {0:.3%}\".format(data_b.mean() / data_a.mean()-1))\n",
    "\n",
    "stat_significance(sampleA, sampleB)"
   ]
  },
  {
   "cell_type": "markdown",
   "metadata": {},
   "source": [
    "Теперь возьмемся за очищенные данные. Для начала посчитаем статистическую значимость различий в среднем количестве заказов на посетителя между группами по «очищенным» данным. "
   ]
  },
  {
   "cell_type": "markdown",
   "metadata": {},
   "source": [
    "Узнаем, сколько всего аномальных пользователей атрибутом shape."
   ]
  },
  {
   "cell_type": "code",
   "execution_count": 50,
   "metadata": {},
   "outputs": [
    {
     "data": {
      "text/plain": [
       "1099     148427295\n",
       "949      887908475\n",
       "744      888512513\n",
       "1103    1164614297\n",
       "1136    1307669133\n",
       "Name: visitor_id, dtype: int64"
      ]
     },
     "metadata": {},
     "output_type": "display_data"
    },
    {
     "data": {
      "text/plain": [
       "15"
      ]
     },
     "execution_count": 50,
     "metadata": {},
     "output_type": "execute_result"
    }
   ],
   "source": [
    "many_orders = np.percentile(ordersByUsers['orders'], 99)\n",
    "expensive_orders = np.percentile(orders['revenue'], 99)\n",
    "\n",
    "\n",
    "users_with_many_orders = pd.concat(\n",
    "    [\n",
    "        ordersByUsersA[ordersByUsersA['orders'] > many_orders]['visitor_id'],\n",
    "        ordersByUsersB[ordersByUsersB['orders'] > many_orders]['visitor_id'],\n",
    "    ],\n",
    "    axis=0,\n",
    ")\n",
    "\n",
    "\n",
    "users_with_expensive_orders = orders[orders['revenue'] > expensive_orders]['visitor_id']\n",
    "\n",
    "\n",
    "abnormal_users = (\n",
    "    pd.concat([users_with_many_orders, users_with_expensive_orders], axis=0)\n",
    "    .drop_duplicates()\n",
    "    .sort_values()\n",
    ")\n",
    "display(abnormal_users.head(5))\n",
    "abnormal_users.shape[0]\n"
   ]
  },
  {
   "cell_type": "markdown",
   "metadata": {},
   "source": [
    "Всего 15 аномальных пользователей. \n",
    "Узнаем, как их действия повлияли на результаты теста. Посчитаем статистическую значимость различий в среднем количестве заказов между группами теста по очищенным данным. Сначала подготовим выборки количества заказов по пользователям по группам теста:"
   ]
  },
  {
   "cell_type": "code",
   "execution_count": 51,
   "metadata": {},
   "outputs": [],
   "source": [
    "sampleAFiltered = pd.concat(\n",
    "    [\n",
    "        ordersByUsersA[\n",
    "            np.logical_not(ordersByUsersA['visitor_id'].isin(abnormal_users))\n",
    "        ]['orders'],\n",
    "        pd.Series(\n",
    "            0,\n",
    "            index=np.arange(\n",
    "                data['visitorsPerDateA'].sum() - len(ordersByUsersA['orders'])\n",
    "            ),\n",
    "            name='orders',\n",
    "        ),\n",
    "    ],\n",
    "    axis=0,\n",
    ")\n",
    "\n",
    "sampleBFiltered = pd.concat(\n",
    "    [\n",
    "        ordersByUsersB[\n",
    "            np.logical_not(ordersByUsersB['visitor_id'].isin(abnormal_users))\n",
    "        ]['orders'],\n",
    "        pd.Series(\n",
    "            0,\n",
    "            index=np.arange(\n",
    "                data['visitorsPerDateB'].sum() - len(ordersByUsersB['orders'])\n",
    "            ),\n",
    "            name='orders',\n",
    "        ),\n",
    "    ],\n",
    "    axis=0,\n",
    ") "
   ]
  },
  {
   "cell_type": "code",
   "execution_count": 52,
   "metadata": {},
   "outputs": [
    {
     "name": "stdout",
     "output_type": "stream",
     "text": [
      "0.014\n",
      "0.153\n"
     ]
    }
   ],
   "source": [
    "print('{0:.3f}'.format(stats.mannwhitneyu(sampleAFiltered, sampleBFiltered)[1]))\n",
    "print('{0:.3f}'.format(sampleBFiltered.mean()/sampleAFiltered.mean()-1)) "
   ]
  },
  {
   "cell_type": "markdown",
   "metadata": {},
   "source": [
    "Нулевую гипотезу отвергаем, значение ниже 0.05, значит между группами есть разница. А она достигает 15% группы относительного прироста по сравнению с А группой."
   ]
  },
  {
   "cell_type": "code",
   "execution_count": 53,
   "metadata": {},
   "outputs": [
    {
     "name": "stdout",
     "output_type": "stream",
     "text": [
      "P-value: 0.014\n",
      "Отвергаем нулевую гипотезу: между группами есть разница\n",
      "Относительный прирост В к А: 15.331%\n"
     ]
    }
   ],
   "source": [
    "def stat_significance(data_c, data_d):\n",
    "    alpha = 0.05\n",
    "    p_value = stats.mannwhitneyu(data_c, data_d)[1]\n",
    "    print(\"P-value: {0:.3f}\".format(p_value))\n",
    "\n",
    "    if (p_value < alpha):\n",
    "        print(\"Отвергаем нулевую гипотезу: между группами есть разница\")\n",
    "    else:\n",
    "        print(\"Не получилось отвергнуть нулевую гипотезу, нет оснований считать группы разными\")\n",
    "    \n",
    "    print(\"Относительный прирост В к А: {0:.3%}\".format(data_d.mean() / data_c.mean()-1))\n",
    "\n",
    "stat_significance(sampleAFiltered, sampleBFiltered)"
   ]
  },
  {
   "cell_type": "markdown",
   "metadata": {},
   "source": [
    "Теперь смотрим очищенные данные по среднему чеку"
   ]
  },
  {
   "cell_type": "code",
   "execution_count": 54,
   "metadata": {},
   "outputs": [
    {
     "name": "stdout",
     "output_type": "stream",
     "text": [
      "P-value: 0.851\n",
      "Не получилось отвергнуть нулевую гипотезу, нет оснований считать группы разными\n",
      "Относительный прирост В к А: -0.575%\n"
     ]
    }
   ],
   "source": [
    "stat_significance(\n",
    "    orders[(orders['group']=='A') & np.logical_not(orders['visitor_id'].isin(abnormal_users))]['revenue'], \n",
    "    orders[(orders['group']=='B') & np.logical_not(orders['visitor_id'].isin(abnormal_users))]['revenue']\n",
    "                  )"
   ]
  },
  {
   "cell_type": "markdown",
   "metadata": {},
   "source": [
    "Тут нулевая гипотеза подтверждается, значит группы не могут быть разными. Разница по средним чекам минимальная."
   ]
  },
  {
   "cell_type": "markdown",
   "metadata": {},
   "source": [
    "# Выводы"
   ]
  },
  {
   "cell_type": "markdown",
   "metadata": {},
   "source": [
    "Итак, аналитический  отдел нашего крупного интернет-магазина вместе с отделом маркетинга подготовил список гипотез для увеличения выручки.\n",
    "\n",
    "На первом этапе мы загрузили библиотеки, загрузили сами файлы, изучили их. Убедились , что пропусков и дубликатов нет. Названия колонок привели к единому стилю. Тип данных для столбца даты перевели в нужный.\n",
    "\n",
    "Далее мы применилифреймворки ICE и RICE  для приоритизации гипотез. \n",
    "Поняли, что между двумя способами есть небольшая разница,  потому что одна учитывает пользователей, которых затронут изменения, а другая только приоритет.\n",
    "\n",
    "По части приоритизации гипотез мы выбрали следующие:\n",
    "- Запустить акцию, дающую скидку на товар в день рождения\n",
    "- Добавить два новых канала привлечения трафика\n",
    "- Добавить форму подписки на все основные страницы\n",
    "- Добавить блоки рекомендаций товаров на сайт интернет магазина\n",
    "\n",
    "\n",
    " \n",
    "\n",
    "После чего мы приступили к  A/B-тестам и анализу их  результатов.\n",
    "\n",
    "Что мы поняли:\n",
    "\n",
    "График кумулятивной выручки по группам показал , что выручка почти равномерно увеличивается в течение всего теста. Хороший знак. Однако график выручки группы В в точке 19 августа резко вырос. Это может сигнализировать о всплесках числа заказов, либо о появлении очень дорогих заказов в выборке.\n",
    "\n",
    "График кумулятивного среднего чека по группам показал, что средний чек группы А рос более равномерно и потом держался на уровне 7000, а вот группа В резко выросла и теория о дорогой покупке стала ближе к истине.\n",
    "\n",
    "График относительного изменения кумулятивного среднего чека группы выявил, что идет то резкий рост, то убыль, потом опять рост. Либо в данных была ошибка, либо крупные покупки так могут влиять.\n",
    "\n",
    "График кумулятивного среднего количества заказов на посетителя по группам был очень симметричным. Группы колебались около одного значения, но затем конверсия группы В вырвалась вперёд и зафиксировалась, а конверсия группы А просела и также зафиксировалась.\n",
    "\n",
    "График относительного изменения кумулятивного среднего количества заказов на посетителя группы B к группе A показал что спустя пару дней В стремительно набрала оборот и на пике удерживала превосходство, потом немного просели значения, но в конце опять тенденция к росту. \n",
    "\n",
    "Точечные графики помогли нам показать анамалии и по процентилям мы поняли , что :\n",
    "- Обычно заказ оформляют 1 раз , очень мало 2.\n",
    "- 2-3 заказа тоже часто встречается, от 6 и выше уже исключение.\n",
    "- Только 5% совершали больше 2-х покупок, еще 1% купили 4 раза. \n",
    "- только 5% превышают заказ 28к и 1% - 58к.\n",
    "\n",
    "Далее мы перешли к анализу статистической значимости.\n",
    "\n",
    "Итак, мы оценили результаты A/B-теста визуально и выяснили, что в данных, скорее всего, есть выбросы; Увидели выбросы и нашли границу для их определения. Посчитаем статистическую значимость различий в среднем числе заказов на пользователя и среднем чеке между группами по «сырым» данным — без удаления аномальных пользователей. Сформулируем гипотезы. Нулевая: различий в среднем количестве заказов между группами нет. Альтернативная: различия в среднем между группами есть.\n",
    "Уровень значимости определим - 0.05\n",
    "\n",
    "Мы отвергли 2 нулевых гипотезы, а именно:\n",
    "\n",
    "Отвергаем нулевую гипотезу: между группами есть разница\n",
    "Относительный прирост В к А: 13.808%\n",
    "\n",
    "Отвергаем нулевую гипотезу: между группами есть разница\n",
    "Относительный прирост В к А: 15.331%\n",
    "\n",
    "И 1 теорию подтвердили :\n",
    "\n",
    "Не получилось отвергнуть нулевую гипотезу, нет оснований считать группы разными\n",
    "Относительный прирост В к А: -0.575%\n",
    "\n",
    "\n",
    "На основании всего вышесказанного считаем, что тест следует остановить и зафиксировать победу группы В.\n"
   ]
  }
 ],
 "metadata": {
  "ExecuteTimeLog": [
   {
    "duration": 919,
    "start_time": "2023-04-03T17:33:46.422Z"
   },
   {
    "duration": 414,
    "start_time": "2023-04-03T17:36:04.760Z"
   },
   {
    "duration": 29,
    "start_time": "2023-04-03T17:37:06.628Z"
   },
   {
    "duration": 12,
    "start_time": "2023-04-03T17:37:33.890Z"
   },
   {
    "duration": 15,
    "start_time": "2023-04-03T17:41:20.722Z"
   },
   {
    "duration": 13,
    "start_time": "2023-04-03T17:41:29.005Z"
   },
   {
    "duration": 3,
    "start_time": "2023-04-03T17:43:21.261Z"
   },
   {
    "duration": 3,
    "start_time": "2023-04-03T17:43:23.256Z"
   },
   {
    "duration": 13,
    "start_time": "2023-04-03T17:43:27.916Z"
   },
   {
    "duration": 6,
    "start_time": "2023-04-03T17:43:56.400Z"
   },
   {
    "duration": 7,
    "start_time": "2023-04-03T17:44:20.142Z"
   },
   {
    "duration": 15,
    "start_time": "2023-04-03T17:45:13.822Z"
   },
   {
    "duration": 10,
    "start_time": "2023-04-03T17:45:19.008Z"
   },
   {
    "duration": 7,
    "start_time": "2023-04-03T17:45:31.371Z"
   },
   {
    "duration": 6,
    "start_time": "2023-04-03T17:45:40.366Z"
   },
   {
    "duration": 5,
    "start_time": "2023-04-03T17:50:55.070Z"
   },
   {
    "duration": 20,
    "start_time": "2023-04-03T17:51:02.461Z"
   },
   {
    "duration": 4,
    "start_time": "2023-04-03T17:51:45.690Z"
   },
   {
    "duration": 3,
    "start_time": "2023-04-03T17:51:55.117Z"
   },
   {
    "duration": 12,
    "start_time": "2023-04-03T17:51:57.905Z"
   },
   {
    "duration": 17,
    "start_time": "2023-04-03T17:52:15.354Z"
   },
   {
    "duration": 5,
    "start_time": "2023-04-03T17:53:15.403Z"
   },
   {
    "duration": 13,
    "start_time": "2023-04-03T17:53:31.716Z"
   },
   {
    "duration": 6,
    "start_time": "2023-04-03T17:53:50.421Z"
   },
   {
    "duration": 12,
    "start_time": "2023-04-03T17:53:56.465Z"
   },
   {
    "duration": 103,
    "start_time": "2023-04-03T17:57:26.406Z"
   },
   {
    "duration": 19,
    "start_time": "2023-04-03T17:57:44.607Z"
   },
   {
    "duration": 16,
    "start_time": "2023-04-03T17:57:51.168Z"
   },
   {
    "duration": 12,
    "start_time": "2023-04-03T18:00:37.863Z"
   },
   {
    "duration": 13,
    "start_time": "2023-04-03T18:01:40.559Z"
   },
   {
    "duration": 11,
    "start_time": "2023-04-03T18:01:48.162Z"
   },
   {
    "duration": 4,
    "start_time": "2023-04-03T18:05:27.942Z"
   },
   {
    "duration": 6,
    "start_time": "2023-04-03T18:14:48.653Z"
   },
   {
    "duration": 30,
    "start_time": "2023-04-03T18:15:11.216Z"
   },
   {
    "duration": 24,
    "start_time": "2023-04-03T18:15:47.604Z"
   },
   {
    "duration": 6,
    "start_time": "2023-04-03T18:16:42.762Z"
   },
   {
    "duration": 103,
    "start_time": "2023-04-03T18:16:42.774Z"
   },
   {
    "duration": 3,
    "start_time": "2023-04-03T18:16:42.879Z"
   },
   {
    "duration": 15,
    "start_time": "2023-04-03T18:16:42.884Z"
   },
   {
    "duration": 74,
    "start_time": "2023-04-03T18:16:42.901Z"
   },
   {
    "duration": 7,
    "start_time": "2023-04-03T18:16:42.978Z"
   },
   {
    "duration": 19,
    "start_time": "2023-04-03T18:16:42.987Z"
   },
   {
    "duration": 20,
    "start_time": "2023-04-03T18:16:43.008Z"
   },
   {
    "duration": 42,
    "start_time": "2023-04-03T18:16:43.030Z"
   },
   {
    "duration": 19,
    "start_time": "2023-04-03T18:16:43.074Z"
   },
   {
    "duration": 16,
    "start_time": "2023-04-03T18:16:43.095Z"
   },
   {
    "duration": 8,
    "start_time": "2023-04-03T18:16:43.114Z"
   },
   {
    "duration": 27,
    "start_time": "2023-04-03T18:16:43.125Z"
   },
   {
    "duration": 37,
    "start_time": "2023-04-03T18:16:43.155Z"
   },
   {
    "duration": 17,
    "start_time": "2023-04-03T18:16:43.194Z"
   },
   {
    "duration": 20,
    "start_time": "2023-04-03T18:16:43.214Z"
   },
   {
    "duration": 51,
    "start_time": "2023-04-03T18:16:43.236Z"
   },
   {
    "duration": 11,
    "start_time": "2023-04-03T18:16:43.289Z"
   },
   {
    "duration": 14,
    "start_time": "2023-04-03T18:16:43.302Z"
   },
   {
    "duration": 11,
    "start_time": "2023-04-03T18:16:43.318Z"
   },
   {
    "duration": 45,
    "start_time": "2023-04-03T18:16:43.331Z"
   },
   {
    "duration": 19,
    "start_time": "2023-04-03T18:16:43.378Z"
   },
   {
    "duration": 20,
    "start_time": "2023-04-03T18:16:43.399Z"
   },
   {
    "duration": 12,
    "start_time": "2023-04-03T18:16:43.421Z"
   },
   {
    "duration": 78,
    "start_time": "2023-04-03T18:16:43.435Z"
   },
   {
    "duration": 126,
    "start_time": "2023-04-03T18:18:36.833Z"
   },
   {
    "duration": 209,
    "start_time": "2023-04-03T18:19:06.208Z"
   },
   {
    "duration": 17,
    "start_time": "2023-04-03T18:19:20.303Z"
   },
   {
    "duration": 156,
    "start_time": "2023-04-03T18:20:16.165Z"
   },
   {
    "duration": 17,
    "start_time": "2023-04-03T18:20:21.163Z"
   },
   {
    "duration": 16,
    "start_time": "2023-04-03T18:21:36.966Z"
   },
   {
    "duration": 411,
    "start_time": "2023-04-03T18:24:00.318Z"
   },
   {
    "duration": 270,
    "start_time": "2023-04-03T18:24:48.691Z"
   },
   {
    "duration": 245,
    "start_time": "2023-04-03T18:36:28.404Z"
   },
   {
    "duration": 300,
    "start_time": "2023-04-03T18:36:37.317Z"
   },
   {
    "duration": 210,
    "start_time": "2023-04-03T18:43:18.447Z"
   },
   {
    "duration": 259,
    "start_time": "2023-04-03T20:09:43.200Z"
   },
   {
    "duration": 258,
    "start_time": "2023-04-03T20:09:52.910Z"
   },
   {
    "duration": 388,
    "start_time": "2023-04-03T20:11:30.089Z"
   },
   {
    "duration": 240,
    "start_time": "2023-04-03T20:15:18.856Z"
   },
   {
    "duration": 226,
    "start_time": "2023-04-03T20:16:00.449Z"
   },
   {
    "duration": 365,
    "start_time": "2023-04-03T20:18:42.524Z"
   },
   {
    "duration": 377,
    "start_time": "2023-04-03T20:19:19.926Z"
   },
   {
    "duration": 325,
    "start_time": "2023-04-03T20:19:30.885Z"
   },
   {
    "duration": 355,
    "start_time": "2023-04-03T20:19:48.099Z"
   },
   {
    "duration": 9,
    "start_time": "2023-04-03T20:26:22.988Z"
   },
   {
    "duration": 19,
    "start_time": "2023-04-03T20:26:39.307Z"
   },
   {
    "duration": 228,
    "start_time": "2023-04-03T20:26:53.462Z"
   },
   {
    "duration": 12,
    "start_time": "2023-04-03T20:28:48.011Z"
   },
   {
    "duration": 9,
    "start_time": "2023-04-03T20:28:57.978Z"
   },
   {
    "duration": 210,
    "start_time": "2023-04-03T20:29:04.196Z"
   },
   {
    "duration": 131,
    "start_time": "2023-04-03T20:30:12.950Z"
   },
   {
    "duration": 97,
    "start_time": "2023-04-03T20:31:03.904Z"
   },
   {
    "duration": 125,
    "start_time": "2023-04-03T20:31:11.006Z"
   },
   {
    "duration": 4,
    "start_time": "2023-04-03T20:33:31.283Z"
   },
   {
    "duration": 9,
    "start_time": "2023-04-03T20:33:46.146Z"
   },
   {
    "duration": 6,
    "start_time": "2023-04-03T20:34:09.591Z"
   },
   {
    "duration": 172,
    "start_time": "2023-04-03T20:40:01.168Z"
   },
   {
    "duration": 166,
    "start_time": "2023-04-03T20:40:13.102Z"
   },
   {
    "duration": 169,
    "start_time": "2023-04-03T20:42:43.413Z"
   },
   {
    "duration": 160,
    "start_time": "2023-04-03T20:44:31.224Z"
   },
   {
    "duration": 6,
    "start_time": "2023-04-03T20:45:44.936Z"
   },
   {
    "duration": 127,
    "start_time": "2023-04-03T20:53:16.155Z"
   },
   {
    "duration": 142,
    "start_time": "2023-04-03T20:57:52.247Z"
   },
   {
    "duration": 880,
    "start_time": "2023-04-03T20:58:48.145Z"
   },
   {
    "duration": 128,
    "start_time": "2023-04-03T20:59:17.707Z"
   },
   {
    "duration": 469,
    "start_time": "2023-04-03T21:01:00.886Z"
   },
   {
    "duration": 744,
    "start_time": "2023-04-03T21:01:47.011Z"
   },
   {
    "duration": 123,
    "start_time": "2023-04-03T21:01:47.758Z"
   },
   {
    "duration": 3,
    "start_time": "2023-04-03T21:01:47.884Z"
   },
   {
    "duration": 38,
    "start_time": "2023-04-03T21:01:47.890Z"
   },
   {
    "duration": 43,
    "start_time": "2023-04-03T21:01:47.930Z"
   },
   {
    "duration": 16,
    "start_time": "2023-04-03T21:01:47.976Z"
   },
   {
    "duration": 33,
    "start_time": "2023-04-03T21:01:48.000Z"
   },
   {
    "duration": 75,
    "start_time": "2023-04-03T21:01:48.035Z"
   },
   {
    "duration": 26,
    "start_time": "2023-04-03T21:01:48.112Z"
   },
   {
    "duration": 53,
    "start_time": "2023-04-03T21:01:48.142Z"
   },
   {
    "duration": 29,
    "start_time": "2023-04-03T21:01:48.197Z"
   },
   {
    "duration": 12,
    "start_time": "2023-04-03T21:01:48.228Z"
   },
   {
    "duration": 48,
    "start_time": "2023-04-03T21:01:48.246Z"
   },
   {
    "duration": 20,
    "start_time": "2023-04-03T21:01:48.297Z"
   },
   {
    "duration": 27,
    "start_time": "2023-04-03T21:01:48.320Z"
   },
   {
    "duration": 36,
    "start_time": "2023-04-03T21:01:48.349Z"
   },
   {
    "duration": 17,
    "start_time": "2023-04-03T21:01:48.388Z"
   },
   {
    "duration": 16,
    "start_time": "2023-04-03T21:01:48.407Z"
   },
   {
    "duration": 32,
    "start_time": "2023-04-03T21:01:48.425Z"
   },
   {
    "duration": 16,
    "start_time": "2023-04-03T21:01:48.459Z"
   },
   {
    "duration": 22,
    "start_time": "2023-04-03T21:01:48.478Z"
   },
   {
    "duration": 29,
    "start_time": "2023-04-03T21:01:48.503Z"
   },
   {
    "duration": 30,
    "start_time": "2023-04-03T21:01:48.534Z"
   },
   {
    "duration": 11,
    "start_time": "2023-04-03T21:01:48.570Z"
   },
   {
    "duration": 291,
    "start_time": "2023-04-03T21:01:48.583Z"
   },
   {
    "duration": 18,
    "start_time": "2023-04-03T21:01:48.876Z"
   },
   {
    "duration": 216,
    "start_time": "2023-04-03T21:01:48.897Z"
   },
   {
    "duration": 31,
    "start_time": "2023-04-03T21:01:49.118Z"
   },
   {
    "duration": 16,
    "start_time": "2023-04-03T21:01:49.151Z"
   },
   {
    "duration": 327,
    "start_time": "2023-04-03T21:01:49.170Z"
   },
   {
    "duration": 339,
    "start_time": "2023-04-03T21:01:49.500Z"
   },
   {
    "duration": 361,
    "start_time": "2023-04-03T21:01:49.842Z"
   },
   {
    "duration": 363,
    "start_time": "2023-04-03T21:01:50.206Z"
   },
   {
    "duration": 403,
    "start_time": "2023-04-03T21:01:50.571Z"
   },
   {
    "duration": 213,
    "start_time": "2023-04-03T21:01:50.977Z"
   },
   {
    "duration": 324,
    "start_time": "2023-04-03T21:01:51.193Z"
   },
   {
    "duration": 7,
    "start_time": "2023-04-03T21:01:51.519Z"
   },
   {
    "duration": 250,
    "start_time": "2023-04-03T21:01:51.536Z"
   },
   {
    "duration": 222,
    "start_time": "2023-04-03T21:01:51.788Z"
   },
   {
    "duration": 233,
    "start_time": "2023-04-03T21:01:52.013Z"
   },
   {
    "duration": 10,
    "start_time": "2023-04-03T21:01:52.249Z"
   },
   {
    "duration": 463,
    "start_time": "2023-04-03T21:01:52.263Z"
   },
   {
    "duration": 13,
    "start_time": "2023-04-03T21:07:43.154Z"
   },
   {
    "duration": 1288,
    "start_time": "2023-04-04T17:00:54.643Z"
   },
   {
    "duration": 212,
    "start_time": "2023-04-04T17:00:55.933Z"
   },
   {
    "duration": 3,
    "start_time": "2023-04-04T17:00:56.149Z"
   },
   {
    "duration": 19,
    "start_time": "2023-04-04T17:00:56.154Z"
   },
   {
    "duration": 23,
    "start_time": "2023-04-04T17:00:56.175Z"
   },
   {
    "duration": 4,
    "start_time": "2023-04-04T17:00:56.200Z"
   },
   {
    "duration": 13,
    "start_time": "2023-04-04T17:00:56.205Z"
   },
   {
    "duration": 12,
    "start_time": "2023-04-04T17:00:56.220Z"
   },
   {
    "duration": 12,
    "start_time": "2023-04-04T17:00:56.234Z"
   },
   {
    "duration": 36,
    "start_time": "2023-04-04T17:00:56.250Z"
   },
   {
    "duration": 23,
    "start_time": "2023-04-04T17:00:56.287Z"
   },
   {
    "duration": 4,
    "start_time": "2023-04-04T17:00:56.312Z"
   },
   {
    "duration": 16,
    "start_time": "2023-04-04T17:00:56.317Z"
   },
   {
    "duration": 7,
    "start_time": "2023-04-04T17:00:56.335Z"
   },
   {
    "duration": 7,
    "start_time": "2023-04-04T17:00:56.344Z"
   },
   {
    "duration": 45,
    "start_time": "2023-04-04T17:00:56.352Z"
   },
   {
    "duration": 13,
    "start_time": "2023-04-04T17:00:56.400Z"
   },
   {
    "duration": 9,
    "start_time": "2023-04-04T17:00:56.415Z"
   },
   {
    "duration": 9,
    "start_time": "2023-04-04T17:00:56.426Z"
   },
   {
    "duration": 5,
    "start_time": "2023-04-04T17:00:56.437Z"
   },
   {
    "duration": 47,
    "start_time": "2023-04-04T17:00:56.444Z"
   },
   {
    "duration": 20,
    "start_time": "2023-04-04T17:00:56.492Z"
   },
   {
    "duration": 9,
    "start_time": "2023-04-04T17:00:56.514Z"
   },
   {
    "duration": 6,
    "start_time": "2023-04-04T17:00:56.525Z"
   },
   {
    "duration": 188,
    "start_time": "2023-04-04T17:00:56.533Z"
   },
   {
    "duration": 22,
    "start_time": "2023-04-04T17:00:56.723Z"
   },
   {
    "duration": 146,
    "start_time": "2023-04-04T17:00:56.748Z"
   },
   {
    "duration": 11,
    "start_time": "2023-04-04T17:00:56.898Z"
   },
   {
    "duration": 11,
    "start_time": "2023-04-04T17:00:56.911Z"
   },
   {
    "duration": 321,
    "start_time": "2023-04-04T17:00:56.924Z"
   },
   {
    "duration": 201,
    "start_time": "2023-04-04T17:00:57.246Z"
   },
   {
    "duration": 351,
    "start_time": "2023-04-04T17:00:57.449Z"
   },
   {
    "duration": 207,
    "start_time": "2023-04-04T17:00:57.801Z"
   },
   {
    "duration": 304,
    "start_time": "2023-04-04T17:00:58.009Z"
   },
   {
    "duration": 135,
    "start_time": "2023-04-04T17:00:58.315Z"
   },
   {
    "duration": 135,
    "start_time": "2023-04-04T17:00:58.452Z"
   },
   {
    "duration": 6,
    "start_time": "2023-04-04T17:00:58.589Z"
   },
   {
    "duration": 169,
    "start_time": "2023-04-04T17:00:58.597Z"
   },
   {
    "duration": 226,
    "start_time": "2023-04-04T17:00:58.767Z"
   },
   {
    "duration": 143,
    "start_time": "2023-04-04T17:00:58.995Z"
   },
   {
    "duration": 5,
    "start_time": "2023-04-04T17:00:59.140Z"
   },
   {
    "duration": 401,
    "start_time": "2023-04-04T17:00:59.146Z"
   },
   {
    "duration": 12,
    "start_time": "2023-04-04T17:00:59.548Z"
   },
   {
    "duration": 2151,
    "start_time": "2023-04-04T17:12:24.352Z"
   },
   {
    "duration": 1865,
    "start_time": "2023-04-04T17:12:26.707Z"
   },
   {
    "duration": 11,
    "start_time": "2023-04-04T17:13:10.645Z"
   },
   {
    "duration": 11,
    "start_time": "2023-04-04T17:15:46.534Z"
   },
   {
    "duration": 22,
    "start_time": "2023-04-04T17:18:57.612Z"
   },
   {
    "duration": 1547,
    "start_time": "2023-04-04T17:20:33.100Z"
   },
   {
    "duration": 10,
    "start_time": "2023-04-04T17:20:58.713Z"
   },
   {
    "duration": 38,
    "start_time": "2023-04-04T17:21:09.452Z"
   },
   {
    "duration": 9,
    "start_time": "2023-04-04T17:22:48.635Z"
   },
   {
    "duration": 22,
    "start_time": "2023-04-04T17:23:01.820Z"
   },
   {
    "duration": 1595,
    "start_time": "2023-04-04T17:26:53.436Z"
   },
   {
    "duration": 52,
    "start_time": "2023-04-04T17:27:04.364Z"
   },
   {
    "duration": 89,
    "start_time": "2023-04-04T17:31:57.438Z"
   },
   {
    "duration": 1246,
    "start_time": "2023-04-04T17:34:16.567Z"
   },
   {
    "duration": 94,
    "start_time": "2023-04-04T17:34:17.815Z"
   },
   {
    "duration": 3,
    "start_time": "2023-04-04T17:34:17.911Z"
   },
   {
    "duration": 14,
    "start_time": "2023-04-04T17:34:17.916Z"
   },
   {
    "duration": 15,
    "start_time": "2023-04-04T17:34:17.933Z"
   },
   {
    "duration": 4,
    "start_time": "2023-04-04T17:34:17.949Z"
   },
   {
    "duration": 9,
    "start_time": "2023-04-04T17:34:17.955Z"
   },
   {
    "duration": 23,
    "start_time": "2023-04-04T17:34:17.966Z"
   },
   {
    "duration": 13,
    "start_time": "2023-04-04T17:34:17.991Z"
   },
   {
    "duration": 10,
    "start_time": "2023-04-04T17:34:18.009Z"
   },
   {
    "duration": 14,
    "start_time": "2023-04-04T17:34:18.020Z"
   },
   {
    "duration": 4,
    "start_time": "2023-04-04T17:34:18.035Z"
   },
   {
    "duration": 13,
    "start_time": "2023-04-04T17:34:18.040Z"
   },
   {
    "duration": 21,
    "start_time": "2023-04-04T17:34:18.056Z"
   },
   {
    "duration": 8,
    "start_time": "2023-04-04T17:34:18.079Z"
   },
   {
    "duration": 17,
    "start_time": "2023-04-04T17:34:18.089Z"
   },
   {
    "duration": 13,
    "start_time": "2023-04-04T17:34:18.108Z"
   },
   {
    "duration": 17,
    "start_time": "2023-04-04T17:34:18.123Z"
   },
   {
    "duration": 6,
    "start_time": "2023-04-04T17:34:18.142Z"
   },
   {
    "duration": 30,
    "start_time": "2023-04-04T17:34:18.150Z"
   },
   {
    "duration": 96,
    "start_time": "2023-04-04T17:34:18.191Z"
   },
   {
    "duration": 23,
    "start_time": "2023-04-04T17:34:18.289Z"
   },
   {
    "duration": 9,
    "start_time": "2023-04-04T17:34:18.313Z"
   },
   {
    "duration": 14,
    "start_time": "2023-04-04T17:34:18.324Z"
   },
   {
    "duration": 194,
    "start_time": "2023-04-04T17:34:18.340Z"
   },
   {
    "duration": 13,
    "start_time": "2023-04-04T17:34:18.535Z"
   },
   {
    "duration": 152,
    "start_time": "2023-04-04T17:34:18.549Z"
   },
   {
    "duration": 12,
    "start_time": "2023-04-04T17:34:18.707Z"
   },
   {
    "duration": 14,
    "start_time": "2023-04-04T17:34:18.721Z"
   },
   {
    "duration": 335,
    "start_time": "2023-04-04T17:34:18.737Z"
   },
   {
    "duration": 217,
    "start_time": "2023-04-04T17:34:19.077Z"
   },
   {
    "duration": 293,
    "start_time": "2023-04-04T17:34:19.296Z"
   },
   {
    "duration": 238,
    "start_time": "2023-04-04T17:34:19.590Z"
   },
   {
    "duration": 319,
    "start_time": "2023-04-04T17:34:19.829Z"
   },
   {
    "duration": 164,
    "start_time": "2023-04-04T17:34:20.150Z"
   },
   {
    "duration": 161,
    "start_time": "2023-04-04T17:34:20.316Z"
   },
   {
    "duration": 17,
    "start_time": "2023-04-04T17:34:20.478Z"
   },
   {
    "duration": 168,
    "start_time": "2023-04-04T17:34:20.496Z"
   },
   {
    "duration": 242,
    "start_time": "2023-04-04T17:34:20.666Z"
   },
   {
    "duration": 161,
    "start_time": "2023-04-04T17:34:20.910Z"
   },
   {
    "duration": 22,
    "start_time": "2023-04-04T17:34:21.075Z"
   },
   {
    "duration": 444,
    "start_time": "2023-04-04T17:34:21.105Z"
   },
   {
    "duration": 12,
    "start_time": "2023-04-04T17:34:21.550Z"
   },
   {
    "duration": 34,
    "start_time": "2023-04-04T17:34:21.564Z"
   },
   {
    "duration": 129,
    "start_time": "2023-04-04T17:34:21.600Z"
   },
   {
    "duration": 0,
    "start_time": "2023-04-04T17:34:21.730Z"
   },
   {
    "duration": 0,
    "start_time": "2023-04-04T17:34:21.731Z"
   },
   {
    "duration": 8,
    "start_time": "2023-04-04T17:35:21.709Z"
   },
   {
    "duration": 40,
    "start_time": "2023-04-04T17:35:25.769Z"
   },
   {
    "duration": 1247,
    "start_time": "2023-04-04T17:35:57.699Z"
   },
   {
    "duration": 80,
    "start_time": "2023-04-04T17:35:58.948Z"
   },
   {
    "duration": 3,
    "start_time": "2023-04-04T17:35:59.030Z"
   },
   {
    "duration": 13,
    "start_time": "2023-04-04T17:35:59.036Z"
   },
   {
    "duration": 12,
    "start_time": "2023-04-04T17:35:59.051Z"
   },
   {
    "duration": 4,
    "start_time": "2023-04-04T17:35:59.065Z"
   },
   {
    "duration": 18,
    "start_time": "2023-04-04T17:35:59.071Z"
   },
   {
    "duration": 21,
    "start_time": "2023-04-04T17:35:59.091Z"
   },
   {
    "duration": 8,
    "start_time": "2023-04-04T17:35:59.114Z"
   },
   {
    "duration": 11,
    "start_time": "2023-04-04T17:35:59.126Z"
   },
   {
    "duration": 14,
    "start_time": "2023-04-04T17:35:59.139Z"
   },
   {
    "duration": 4,
    "start_time": "2023-04-04T17:35:59.155Z"
   },
   {
    "duration": 27,
    "start_time": "2023-04-04T17:35:59.178Z"
   },
   {
    "duration": 9,
    "start_time": "2023-04-04T17:35:59.209Z"
   },
   {
    "duration": 7,
    "start_time": "2023-04-04T17:35:59.219Z"
   },
   {
    "duration": 10,
    "start_time": "2023-04-04T17:35:59.228Z"
   },
   {
    "duration": 39,
    "start_time": "2023-04-04T17:35:59.240Z"
   },
   {
    "duration": 26,
    "start_time": "2023-04-04T17:35:59.281Z"
   },
   {
    "duration": 7,
    "start_time": "2023-04-04T17:35:59.309Z"
   },
   {
    "duration": 5,
    "start_time": "2023-04-04T17:35:59.317Z"
   },
   {
    "duration": 40,
    "start_time": "2023-04-04T17:35:59.324Z"
   },
   {
    "duration": 28,
    "start_time": "2023-04-04T17:35:59.366Z"
   },
   {
    "duration": 11,
    "start_time": "2023-04-04T17:35:59.396Z"
   },
   {
    "duration": 11,
    "start_time": "2023-04-04T17:35:59.409Z"
   },
   {
    "duration": 231,
    "start_time": "2023-04-04T17:35:59.421Z"
   },
   {
    "duration": 34,
    "start_time": "2023-04-04T17:35:59.653Z"
   },
   {
    "duration": 153,
    "start_time": "2023-04-04T17:35:59.698Z"
   },
   {
    "duration": 36,
    "start_time": "2023-04-04T17:35:59.855Z"
   },
   {
    "duration": 15,
    "start_time": "2023-04-04T17:35:59.893Z"
   },
   {
    "duration": 331,
    "start_time": "2023-04-04T17:35:59.911Z"
   },
   {
    "duration": 269,
    "start_time": "2023-04-04T17:36:00.244Z"
   },
   {
    "duration": 310,
    "start_time": "2023-04-04T17:36:00.515Z"
   },
   {
    "duration": 243,
    "start_time": "2023-04-04T17:36:00.827Z"
   },
   {
    "duration": 357,
    "start_time": "2023-04-04T17:36:01.072Z"
   },
   {
    "duration": 161,
    "start_time": "2023-04-04T17:36:01.431Z"
   },
   {
    "duration": 142,
    "start_time": "2023-04-04T17:36:01.598Z"
   },
   {
    "duration": 6,
    "start_time": "2023-04-04T17:36:01.742Z"
   },
   {
    "duration": 238,
    "start_time": "2023-04-04T17:36:01.750Z"
   },
   {
    "duration": 235,
    "start_time": "2023-04-04T17:36:01.989Z"
   },
   {
    "duration": 191,
    "start_time": "2023-04-04T17:36:02.225Z"
   },
   {
    "duration": 6,
    "start_time": "2023-04-04T17:36:02.418Z"
   },
   {
    "duration": 417,
    "start_time": "2023-04-04T17:36:02.426Z"
   },
   {
    "duration": 10,
    "start_time": "2023-04-04T17:36:02.845Z"
   },
   {
    "duration": 42,
    "start_time": "2023-04-04T17:36:02.857Z"
   },
   {
    "duration": 10,
    "start_time": "2023-04-04T17:36:02.900Z"
   },
   {
    "duration": 23,
    "start_time": "2023-04-04T17:36:02.912Z"
   },
   {
    "duration": 124,
    "start_time": "2023-04-04T17:36:02.938Z"
   },
   {
    "duration": 36,
    "start_time": "2023-04-04T17:36:13.867Z"
   },
   {
    "duration": 1346,
    "start_time": "2023-04-04T17:46:02.486Z"
   },
   {
    "duration": 290,
    "start_time": "2023-04-04T17:46:03.834Z"
   },
   {
    "duration": 3,
    "start_time": "2023-04-04T17:46:04.125Z"
   },
   {
    "duration": 26,
    "start_time": "2023-04-04T17:46:04.130Z"
   },
   {
    "duration": 57,
    "start_time": "2023-04-04T17:46:04.158Z"
   },
   {
    "duration": 20,
    "start_time": "2023-04-04T17:46:04.217Z"
   },
   {
    "duration": 10,
    "start_time": "2023-04-04T17:46:04.240Z"
   },
   {
    "duration": 41,
    "start_time": "2023-04-04T17:46:04.252Z"
   },
   {
    "duration": 17,
    "start_time": "2023-04-04T17:46:04.298Z"
   },
   {
    "duration": 17,
    "start_time": "2023-04-04T17:46:04.320Z"
   },
   {
    "duration": 12,
    "start_time": "2023-04-04T17:46:04.339Z"
   },
   {
    "duration": 8,
    "start_time": "2023-04-04T17:46:04.352Z"
   },
   {
    "duration": 32,
    "start_time": "2023-04-04T17:46:04.361Z"
   },
   {
    "duration": 22,
    "start_time": "2023-04-04T17:46:04.394Z"
   },
   {
    "duration": 10,
    "start_time": "2023-04-04T17:46:04.418Z"
   },
   {
    "duration": 9,
    "start_time": "2023-04-04T17:46:04.430Z"
   },
   {
    "duration": 13,
    "start_time": "2023-04-04T17:46:04.440Z"
   },
   {
    "duration": 23,
    "start_time": "2023-04-04T17:46:04.454Z"
   },
   {
    "duration": 53,
    "start_time": "2023-04-04T17:46:04.478Z"
   },
   {
    "duration": 23,
    "start_time": "2023-04-04T17:46:04.533Z"
   },
   {
    "duration": 20,
    "start_time": "2023-04-04T17:46:04.557Z"
   },
   {
    "duration": 33,
    "start_time": "2023-04-04T17:46:04.580Z"
   },
   {
    "duration": 13,
    "start_time": "2023-04-04T17:46:04.614Z"
   },
   {
    "duration": 16,
    "start_time": "2023-04-04T17:46:04.629Z"
   },
   {
    "duration": 174,
    "start_time": "2023-04-04T17:46:04.647Z"
   },
   {
    "duration": 12,
    "start_time": "2023-04-04T17:46:04.823Z"
   },
   {
    "duration": 123,
    "start_time": "2023-04-04T17:46:04.837Z"
   },
   {
    "duration": 22,
    "start_time": "2023-04-04T17:46:04.963Z"
   },
   {
    "duration": 41,
    "start_time": "2023-04-04T17:46:04.986Z"
   },
   {
    "duration": 372,
    "start_time": "2023-04-04T17:46:05.029Z"
   },
   {
    "duration": 185,
    "start_time": "2023-04-04T17:46:05.403Z"
   },
   {
    "duration": 331,
    "start_time": "2023-04-04T17:46:05.593Z"
   },
   {
    "duration": 199,
    "start_time": "2023-04-04T17:46:05.927Z"
   },
   {
    "duration": 296,
    "start_time": "2023-04-04T17:46:06.128Z"
   },
   {
    "duration": 215,
    "start_time": "2023-04-04T17:46:06.426Z"
   },
   {
    "duration": 156,
    "start_time": "2023-04-04T17:46:06.643Z"
   },
   {
    "duration": 7,
    "start_time": "2023-04-04T17:46:06.806Z"
   },
   {
    "duration": 140,
    "start_time": "2023-04-04T17:46:06.815Z"
   },
   {
    "duration": 200,
    "start_time": "2023-04-04T17:46:06.957Z"
   },
   {
    "duration": 144,
    "start_time": "2023-04-04T17:46:07.159Z"
   },
   {
    "duration": 6,
    "start_time": "2023-04-04T17:46:07.306Z"
   },
   {
    "duration": 383,
    "start_time": "2023-04-04T17:46:07.314Z"
   },
   {
    "duration": 18,
    "start_time": "2023-04-04T17:46:07.705Z"
   },
   {
    "duration": 12,
    "start_time": "2023-04-04T17:46:07.725Z"
   },
   {
    "duration": 11,
    "start_time": "2023-04-04T17:46:07.739Z"
   },
   {
    "duration": 51,
    "start_time": "2023-04-04T17:46:07.752Z"
   },
   {
    "duration": 26,
    "start_time": "2023-04-04T17:46:07.806Z"
   },
   {
    "duration": 67,
    "start_time": "2023-04-06T16:35:49.549Z"
   },
   {
    "duration": 48,
    "start_time": "2023-04-06T16:37:17.592Z"
   },
   {
    "duration": 1247,
    "start_time": "2023-04-06T16:37:22.038Z"
   },
   {
    "duration": 246,
    "start_time": "2023-04-06T16:37:23.287Z"
   },
   {
    "duration": 2,
    "start_time": "2023-04-06T16:37:23.535Z"
   },
   {
    "duration": 14,
    "start_time": "2023-04-06T16:37:23.539Z"
   },
   {
    "duration": 11,
    "start_time": "2023-04-06T16:37:23.554Z"
   },
   {
    "duration": 49,
    "start_time": "2023-04-06T16:37:23.567Z"
   },
   {
    "duration": 3,
    "start_time": "2023-04-06T16:37:23.618Z"
   },
   {
    "duration": 11,
    "start_time": "2023-04-06T16:37:23.623Z"
   },
   {
    "duration": 16,
    "start_time": "2023-04-06T16:37:23.635Z"
   },
   {
    "duration": 12,
    "start_time": "2023-04-06T16:37:23.653Z"
   },
   {
    "duration": 32,
    "start_time": "2023-04-06T16:37:23.666Z"
   },
   {
    "duration": 16,
    "start_time": "2023-04-06T16:37:23.700Z"
   },
   {
    "duration": 8,
    "start_time": "2023-04-06T16:37:23.718Z"
   },
   {
    "duration": 15,
    "start_time": "2023-04-06T16:37:23.728Z"
   },
   {
    "duration": 18,
    "start_time": "2023-04-06T16:37:23.744Z"
   },
   {
    "duration": 11,
    "start_time": "2023-04-06T16:37:23.764Z"
   },
   {
    "duration": 33,
    "start_time": "2023-04-06T16:37:23.778Z"
   },
   {
    "duration": 19,
    "start_time": "2023-04-06T16:37:23.813Z"
   },
   {
    "duration": 11,
    "start_time": "2023-04-06T16:37:23.839Z"
   },
   {
    "duration": 11,
    "start_time": "2023-04-06T16:37:23.851Z"
   },
   {
    "duration": 7,
    "start_time": "2023-04-06T16:37:23.863Z"
   },
   {
    "duration": 33,
    "start_time": "2023-04-06T16:37:23.871Z"
   },
   {
    "duration": 11,
    "start_time": "2023-04-06T16:37:23.906Z"
   },
   {
    "duration": 9,
    "start_time": "2023-04-06T16:37:23.919Z"
   },
   {
    "duration": 29,
    "start_time": "2023-04-06T16:37:23.930Z"
   },
   {
    "duration": 225,
    "start_time": "2023-04-06T16:37:23.961Z"
   },
   {
    "duration": 14,
    "start_time": "2023-04-06T16:37:24.188Z"
   },
   {
    "duration": 139,
    "start_time": "2023-04-06T16:37:24.207Z"
   },
   {
    "duration": 10,
    "start_time": "2023-04-06T16:37:24.348Z"
   },
   {
    "duration": 35,
    "start_time": "2023-04-06T16:37:24.360Z"
   },
   {
    "duration": 293,
    "start_time": "2023-04-06T16:37:24.396Z"
   },
   {
    "duration": 176,
    "start_time": "2023-04-06T16:37:24.691Z"
   },
   {
    "duration": 341,
    "start_time": "2023-04-06T16:37:24.875Z"
   },
   {
    "duration": 203,
    "start_time": "2023-04-06T16:37:25.218Z"
   },
   {
    "duration": 299,
    "start_time": "2023-04-06T16:37:25.422Z"
   },
   {
    "duration": 138,
    "start_time": "2023-04-06T16:37:25.723Z"
   },
   {
    "duration": 126,
    "start_time": "2023-04-06T16:37:25.863Z"
   },
   {
    "duration": 6,
    "start_time": "2023-04-06T16:37:25.991Z"
   },
   {
    "duration": 251,
    "start_time": "2023-04-06T16:37:25.999Z"
   },
   {
    "duration": 150,
    "start_time": "2023-04-06T16:37:26.252Z"
   },
   {
    "duration": 161,
    "start_time": "2023-04-06T16:37:26.404Z"
   },
   {
    "duration": 13,
    "start_time": "2023-04-06T16:37:26.566Z"
   },
   {
    "duration": 396,
    "start_time": "2023-04-06T16:37:26.581Z"
   },
   {
    "duration": 13,
    "start_time": "2023-04-06T16:37:26.978Z"
   },
   {
    "duration": 31,
    "start_time": "2023-04-06T16:37:26.992Z"
   },
   {
    "duration": 10,
    "start_time": "2023-04-06T16:37:27.024Z"
   },
   {
    "duration": 25,
    "start_time": "2023-04-06T16:37:27.036Z"
   },
   {
    "duration": 32,
    "start_time": "2023-04-06T16:37:27.063Z"
   },
   {
    "duration": 56,
    "start_time": "2023-04-06T16:41:00.797Z"
   },
   {
    "duration": 14,
    "start_time": "2023-04-06T16:41:07.169Z"
   },
   {
    "duration": 62,
    "start_time": "2023-04-06T16:42:04.108Z"
   },
   {
    "duration": 69,
    "start_time": "2023-04-06T16:49:35.115Z"
   },
   {
    "duration": 1171,
    "start_time": "2023-04-06T16:49:41.418Z"
   },
   {
    "duration": 5,
    "start_time": "2023-04-06T16:49:53.546Z"
   },
   {
    "duration": 10,
    "start_time": "2023-04-06T16:50:05.082Z"
   },
   {
    "duration": 4,
    "start_time": "2023-04-06T16:50:59.121Z"
   },
   {
    "duration": 5,
    "start_time": "2023-04-06T16:51:00.505Z"
   },
   {
    "duration": 4,
    "start_time": "2023-04-06T16:51:11.147Z"
   },
   {
    "duration": 4,
    "start_time": "2023-04-06T16:51:22.403Z"
   },
   {
    "duration": 302,
    "start_time": "2023-04-06T16:53:03.547Z"
   },
   {
    "duration": 302,
    "start_time": "2023-04-06T16:54:19.259Z"
   },
   {
    "duration": 274,
    "start_time": "2023-04-06T16:54:30.978Z"
   },
   {
    "duration": 364,
    "start_time": "2023-04-06T16:55:09.260Z"
   },
   {
    "duration": 179,
    "start_time": "2023-04-06T16:55:34.196Z"
   },
   {
    "duration": 198,
    "start_time": "2023-04-06T16:55:51.987Z"
   },
   {
    "duration": 333,
    "start_time": "2023-04-06T16:56:37.842Z"
   },
   {
    "duration": 214,
    "start_time": "2023-04-06T16:56:52.634Z"
   },
   {
    "duration": 276,
    "start_time": "2023-04-06T16:57:04.265Z"
   },
   {
    "duration": 354,
    "start_time": "2023-04-06T16:57:13.667Z"
   },
   {
    "duration": 110,
    "start_time": "2023-04-06T16:58:31.033Z"
   },
   {
    "duration": 104,
    "start_time": "2023-04-06T17:00:39.650Z"
   },
   {
    "duration": 121,
    "start_time": "2023-04-06T17:02:15.799Z"
   },
   {
    "duration": 110,
    "start_time": "2023-04-06T17:02:45.760Z"
   },
   {
    "duration": 117,
    "start_time": "2023-04-06T17:03:05.176Z"
   },
   {
    "duration": 2,
    "start_time": "2023-04-06T17:15:48.923Z"
   },
   {
    "duration": 75,
    "start_time": "2023-04-06T17:15:48.930Z"
   },
   {
    "duration": 3,
    "start_time": "2023-04-06T17:15:49.007Z"
   },
   {
    "duration": 19,
    "start_time": "2023-04-06T17:15:49.011Z"
   },
   {
    "duration": 5,
    "start_time": "2023-04-06T17:15:49.032Z"
   },
   {
    "duration": 12,
    "start_time": "2023-04-06T17:15:49.039Z"
   },
   {
    "duration": 9,
    "start_time": "2023-04-06T17:15:49.052Z"
   },
   {
    "duration": 15,
    "start_time": "2023-04-06T17:15:49.062Z"
   },
   {
    "duration": 13,
    "start_time": "2023-04-06T17:15:49.079Z"
   },
   {
    "duration": 14,
    "start_time": "2023-04-06T17:15:49.093Z"
   },
   {
    "duration": 14,
    "start_time": "2023-04-06T17:15:49.109Z"
   },
   {
    "duration": 22,
    "start_time": "2023-04-06T17:15:49.125Z"
   },
   {
    "duration": 41,
    "start_time": "2023-04-06T17:15:49.149Z"
   },
   {
    "duration": 30,
    "start_time": "2023-04-06T17:15:49.192Z"
   },
   {
    "duration": 17,
    "start_time": "2023-04-06T17:15:49.224Z"
   },
   {
    "duration": 17,
    "start_time": "2023-04-06T17:15:49.243Z"
   },
   {
    "duration": 17,
    "start_time": "2023-04-06T17:15:49.262Z"
   },
   {
    "duration": 17,
    "start_time": "2023-04-06T17:15:49.280Z"
   },
   {
    "duration": 38,
    "start_time": "2023-04-06T17:15:49.298Z"
   },
   {
    "duration": 11,
    "start_time": "2023-04-06T17:15:49.337Z"
   },
   {
    "duration": 15,
    "start_time": "2023-04-06T17:15:49.350Z"
   },
   {
    "duration": 12,
    "start_time": "2023-04-06T17:15:49.367Z"
   },
   {
    "duration": 16,
    "start_time": "2023-04-06T17:15:49.380Z"
   },
   {
    "duration": 16,
    "start_time": "2023-04-06T17:15:49.398Z"
   },
   {
    "duration": 7,
    "start_time": "2023-04-06T17:15:49.415Z"
   },
   {
    "duration": 162,
    "start_time": "2023-04-06T17:15:49.424Z"
   },
   {
    "duration": 11,
    "start_time": "2023-04-06T17:15:49.588Z"
   },
   {
    "duration": 120,
    "start_time": "2023-04-06T17:15:49.600Z"
   },
   {
    "duration": 11,
    "start_time": "2023-04-06T17:15:49.722Z"
   },
   {
    "duration": 20,
    "start_time": "2023-04-06T17:15:49.735Z"
   },
   {
    "duration": 4,
    "start_time": "2023-04-06T17:15:49.757Z"
   },
   {
    "duration": 4,
    "start_time": "2023-04-06T17:15:49.772Z"
   },
   {
    "duration": 29,
    "start_time": "2023-04-06T17:15:49.778Z"
   },
   {
    "duration": 19,
    "start_time": "2023-04-06T17:15:49.808Z"
   },
   {
    "duration": 203,
    "start_time": "2023-04-06T17:15:49.828Z"
   },
   {
    "duration": 180,
    "start_time": "2023-04-06T17:15:50.033Z"
   },
   {
    "duration": 267,
    "start_time": "2023-04-06T17:15:50.215Z"
   },
   {
    "duration": 205,
    "start_time": "2023-04-06T17:15:50.484Z"
   },
   {
    "duration": 324,
    "start_time": "2023-04-06T17:15:50.691Z"
   },
   {
    "duration": 210,
    "start_time": "2023-04-06T17:15:51.016Z"
   },
   {
    "duration": 112,
    "start_time": "2023-04-06T17:15:51.228Z"
   },
   {
    "duration": 5,
    "start_time": "2023-04-06T17:15:51.344Z"
   },
   {
    "duration": 149,
    "start_time": "2023-04-06T17:15:51.351Z"
   },
   {
    "duration": 139,
    "start_time": "2023-04-06T17:15:51.501Z"
   },
   {
    "duration": 137,
    "start_time": "2023-04-06T17:15:51.641Z"
   },
   {
    "duration": 5,
    "start_time": "2023-04-06T17:15:51.779Z"
   },
   {
    "duration": 378,
    "start_time": "2023-04-06T17:15:51.785Z"
   },
   {
    "duration": 12,
    "start_time": "2023-04-06T17:15:52.165Z"
   },
   {
    "duration": 43,
    "start_time": "2023-04-06T17:15:52.179Z"
   },
   {
    "duration": 24,
    "start_time": "2023-04-06T17:15:52.223Z"
   },
   {
    "duration": 54,
    "start_time": "2023-04-06T17:15:52.249Z"
   },
   {
    "duration": 17,
    "start_time": "2023-04-06T17:15:52.305Z"
   },
   {
    "duration": 9,
    "start_time": "2023-04-06T17:23:40.747Z"
   },
   {
    "duration": 23,
    "start_time": "2023-04-06T17:24:20.791Z"
   },
   {
    "duration": 37,
    "start_time": "2023-04-06T17:25:29.496Z"
   },
   {
    "duration": 3,
    "start_time": "2023-04-06T17:27:09.901Z"
   },
   {
    "duration": 4,
    "start_time": "2023-04-06T17:27:12.235Z"
   },
   {
    "duration": 4,
    "start_time": "2023-04-06T17:27:15.434Z"
   },
   {
    "duration": 21,
    "start_time": "2023-04-06T17:27:23.620Z"
   },
   {
    "duration": 20,
    "start_time": "2023-04-06T17:30:43.688Z"
   },
   {
    "duration": 20,
    "start_time": "2023-04-06T17:31:00.820Z"
   },
   {
    "duration": 20,
    "start_time": "2023-04-06T17:32:04.277Z"
   },
   {
    "duration": 103,
    "start_time": "2023-04-06T17:36:53.547Z"
   },
   {
    "duration": 10,
    "start_time": "2023-04-06T17:37:04.922Z"
   },
   {
    "duration": 1001,
    "start_time": "2023-04-06T17:54:18.796Z"
   },
   {
    "duration": 91,
    "start_time": "2023-04-06T17:54:19.799Z"
   },
   {
    "duration": 3,
    "start_time": "2023-04-06T17:54:19.892Z"
   },
   {
    "duration": 17,
    "start_time": "2023-04-06T17:54:19.897Z"
   },
   {
    "duration": 10,
    "start_time": "2023-04-06T17:54:19.916Z"
   },
   {
    "duration": 17,
    "start_time": "2023-04-06T17:54:19.928Z"
   },
   {
    "duration": 3,
    "start_time": "2023-04-06T17:54:19.947Z"
   },
   {
    "duration": 13,
    "start_time": "2023-04-06T17:54:19.952Z"
   },
   {
    "duration": 35,
    "start_time": "2023-04-06T17:54:19.967Z"
   },
   {
    "duration": 15,
    "start_time": "2023-04-06T17:54:20.004Z"
   },
   {
    "duration": 22,
    "start_time": "2023-04-06T17:54:20.020Z"
   },
   {
    "duration": 24,
    "start_time": "2023-04-06T17:54:20.044Z"
   },
   {
    "duration": 16,
    "start_time": "2023-04-06T17:54:20.069Z"
   },
   {
    "duration": 23,
    "start_time": "2023-04-06T17:54:20.086Z"
   },
   {
    "duration": 13,
    "start_time": "2023-04-06T17:54:20.111Z"
   },
   {
    "duration": 16,
    "start_time": "2023-04-06T17:54:20.125Z"
   },
   {
    "duration": 11,
    "start_time": "2023-04-06T17:54:20.142Z"
   },
   {
    "duration": 43,
    "start_time": "2023-04-06T17:54:20.155Z"
   },
   {
    "duration": 6,
    "start_time": "2023-04-06T17:54:20.200Z"
   },
   {
    "duration": 7,
    "start_time": "2023-04-06T17:54:20.208Z"
   },
   {
    "duration": 9,
    "start_time": "2023-04-06T17:54:20.217Z"
   },
   {
    "duration": 11,
    "start_time": "2023-04-06T17:54:20.227Z"
   },
   {
    "duration": 13,
    "start_time": "2023-04-06T17:54:20.240Z"
   },
   {
    "duration": 7,
    "start_time": "2023-04-06T17:54:20.254Z"
   },
   {
    "duration": 25,
    "start_time": "2023-04-06T17:54:20.263Z"
   },
   {
    "duration": 147,
    "start_time": "2023-04-06T17:54:20.290Z"
   },
   {
    "duration": 10,
    "start_time": "2023-04-06T17:54:20.439Z"
   },
   {
    "duration": 142,
    "start_time": "2023-04-06T17:54:20.453Z"
   },
   {
    "duration": 9,
    "start_time": "2023-04-06T17:54:20.596Z"
   },
   {
    "duration": 20,
    "start_time": "2023-04-06T17:54:20.607Z"
   },
   {
    "duration": 8,
    "start_time": "2023-04-06T17:54:20.628Z"
   },
   {
    "duration": 24,
    "start_time": "2023-04-06T17:54:20.637Z"
   },
   {
    "duration": 27,
    "start_time": "2023-04-06T17:54:20.662Z"
   },
   {
    "duration": 11,
    "start_time": "2023-04-06T17:54:20.691Z"
   },
   {
    "duration": 281,
    "start_time": "2023-04-06T17:54:20.703Z"
   },
   {
    "duration": 180,
    "start_time": "2023-04-06T17:54:20.991Z"
   },
   {
    "duration": 311,
    "start_time": "2023-04-06T17:54:21.186Z"
   },
   {
    "duration": 224,
    "start_time": "2023-04-06T17:54:21.500Z"
   },
   {
    "duration": 382,
    "start_time": "2023-04-06T17:54:21.726Z"
   },
   {
    "duration": 139,
    "start_time": "2023-04-06T17:54:22.110Z"
   },
   {
    "duration": 112,
    "start_time": "2023-04-06T17:54:22.251Z"
   },
   {
    "duration": 16,
    "start_time": "2023-04-06T17:54:22.365Z"
   },
   {
    "duration": 168,
    "start_time": "2023-04-06T17:54:22.383Z"
   },
   {
    "duration": 206,
    "start_time": "2023-04-06T17:54:22.553Z"
   },
   {
    "duration": 154,
    "start_time": "2023-04-06T17:54:22.761Z"
   },
   {
    "duration": 5,
    "start_time": "2023-04-06T17:54:22.919Z"
   },
   {
    "duration": 407,
    "start_time": "2023-04-06T17:54:22.926Z"
   },
   {
    "duration": 10,
    "start_time": "2023-04-06T17:54:23.335Z"
   },
   {
    "duration": 50,
    "start_time": "2023-04-06T17:54:23.347Z"
   },
   {
    "duration": 13,
    "start_time": "2023-04-06T17:54:23.399Z"
   },
   {
    "duration": 18,
    "start_time": "2023-04-06T17:54:23.414Z"
   },
   {
    "duration": 35,
    "start_time": "2023-04-06T17:54:23.434Z"
   },
   {
    "duration": 31,
    "start_time": "2023-04-06T17:54:23.471Z"
   },
   {
    "duration": 13,
    "start_time": "2023-04-06T17:54:23.503Z"
   },
   {
    "duration": 1438,
    "start_time": "2023-04-10T17:43:29.694Z"
   },
   {
    "duration": 229,
    "start_time": "2023-04-10T17:43:31.134Z"
   },
   {
    "duration": 3,
    "start_time": "2023-04-10T17:43:31.365Z"
   },
   {
    "duration": 18,
    "start_time": "2023-04-10T17:43:31.370Z"
   },
   {
    "duration": 18,
    "start_time": "2023-04-10T17:43:31.393Z"
   },
   {
    "duration": 21,
    "start_time": "2023-04-10T17:43:31.413Z"
   },
   {
    "duration": 21,
    "start_time": "2023-04-10T17:43:31.436Z"
   },
   {
    "duration": 24,
    "start_time": "2023-04-10T17:43:31.458Z"
   },
   {
    "duration": 30,
    "start_time": "2023-04-10T17:43:31.484Z"
   },
   {
    "duration": 8,
    "start_time": "2023-04-10T17:43:31.517Z"
   },
   {
    "duration": 37,
    "start_time": "2023-04-10T17:43:31.526Z"
   },
   {
    "duration": 52,
    "start_time": "2023-04-10T17:43:31.565Z"
   },
   {
    "duration": 24,
    "start_time": "2023-04-10T17:43:31.618Z"
   },
   {
    "duration": 55,
    "start_time": "2023-04-10T17:43:31.644Z"
   },
   {
    "duration": 11,
    "start_time": "2023-04-10T17:43:31.702Z"
   },
   {
    "duration": 27,
    "start_time": "2023-04-10T17:43:31.714Z"
   },
   {
    "duration": 20,
    "start_time": "2023-04-10T17:43:31.743Z"
   },
   {
    "duration": 17,
    "start_time": "2023-04-10T17:43:31.765Z"
   },
   {
    "duration": 8,
    "start_time": "2023-04-10T17:43:31.783Z"
   },
   {
    "duration": 23,
    "start_time": "2023-04-10T17:43:31.794Z"
   },
   {
    "duration": 5,
    "start_time": "2023-04-10T17:43:31.819Z"
   },
   {
    "duration": 28,
    "start_time": "2023-04-10T17:43:31.826Z"
   },
   {
    "duration": 32,
    "start_time": "2023-04-10T17:43:31.856Z"
   },
   {
    "duration": 12,
    "start_time": "2023-04-10T17:43:31.894Z"
   },
   {
    "duration": 16,
    "start_time": "2023-04-10T17:43:31.908Z"
   },
   {
    "duration": 193,
    "start_time": "2023-04-10T17:43:31.926Z"
   },
   {
    "duration": 11,
    "start_time": "2023-04-10T17:43:32.120Z"
   },
   {
    "duration": 138,
    "start_time": "2023-04-10T17:43:32.134Z"
   },
   {
    "duration": 19,
    "start_time": "2023-04-10T17:43:32.274Z"
   },
   {
    "duration": 18,
    "start_time": "2023-04-10T17:43:32.301Z"
   },
   {
    "duration": 8,
    "start_time": "2023-04-10T17:43:32.320Z"
   },
   {
    "duration": 10,
    "start_time": "2023-04-10T17:43:32.329Z"
   },
   {
    "duration": 12,
    "start_time": "2023-04-10T17:43:32.340Z"
   },
   {
    "duration": 11,
    "start_time": "2023-04-10T17:43:32.353Z"
   },
   {
    "duration": 338,
    "start_time": "2023-04-10T17:43:32.365Z"
   },
   {
    "duration": 202,
    "start_time": "2023-04-10T17:43:32.704Z"
   },
   {
    "duration": 333,
    "start_time": "2023-04-10T17:43:32.908Z"
   },
   {
    "duration": 237,
    "start_time": "2023-04-10T17:43:33.243Z"
   },
   {
    "duration": 368,
    "start_time": "2023-04-10T17:43:33.481Z"
   },
   {
    "duration": 179,
    "start_time": "2023-04-10T17:43:33.850Z"
   },
   {
    "duration": 155,
    "start_time": "2023-04-10T17:43:34.032Z"
   },
   {
    "duration": 16,
    "start_time": "2023-04-10T17:43:34.189Z"
   },
   {
    "duration": 197,
    "start_time": "2023-04-10T17:43:34.209Z"
   },
   {
    "duration": 243,
    "start_time": "2023-04-10T17:43:34.408Z"
   },
   {
    "duration": 153,
    "start_time": "2023-04-10T17:43:34.653Z"
   },
   {
    "duration": 6,
    "start_time": "2023-04-10T17:43:34.808Z"
   },
   {
    "duration": 382,
    "start_time": "2023-04-10T17:43:34.815Z"
   },
   {
    "duration": 11,
    "start_time": "2023-04-10T17:43:35.198Z"
   },
   {
    "duration": 26,
    "start_time": "2023-04-10T17:43:35.211Z"
   },
   {
    "duration": 12,
    "start_time": "2023-04-10T17:43:35.239Z"
   },
   {
    "duration": 7,
    "start_time": "2023-04-10T17:43:35.252Z"
   },
   {
    "duration": 54,
    "start_time": "2023-04-10T17:43:35.260Z"
   },
   {
    "duration": 26,
    "start_time": "2023-04-10T17:43:35.317Z"
   },
   {
    "duration": 9,
    "start_time": "2023-04-10T17:43:35.345Z"
   },
   {
    "duration": 55,
    "start_time": "2023-10-07T15:51:34.723Z"
   },
   {
    "duration": 1085,
    "start_time": "2023-10-07T15:51:38.248Z"
   },
   {
    "duration": 198,
    "start_time": "2023-10-07T15:51:40.266Z"
   }
  ],
  "kernelspec": {
   "display_name": "Python 3 (ipykernel)",
   "language": "python",
   "name": "python3"
  },
  "language_info": {
   "codemirror_mode": {
    "name": "ipython",
    "version": 3
   },
   "file_extension": ".py",
   "mimetype": "text/x-python",
   "name": "python",
   "nbconvert_exporter": "python",
   "pygments_lexer": "ipython3",
   "version": "3.9.5"
  },
  "toc": {
   "base_numbering": 1,
   "nav_menu": {},
   "number_sections": true,
   "sideBar": true,
   "skip_h1_title": true,
   "title_cell": "Table of Contents",
   "title_sidebar": "Contents",
   "toc_cell": false,
   "toc_position": {},
   "toc_section_display": true,
   "toc_window_display": false
  }
 },
 "nbformat": 4,
 "nbformat_minor": 2
}
