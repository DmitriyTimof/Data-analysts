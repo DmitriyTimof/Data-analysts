{
 "cells": [
  {
   "cell_type": "markdown",
   "metadata": {},
   "source": [
    "1.\n",
    "Найдите количество вопросов, которые набрали больше 300 очков или как минимум 100 раз были добавлены в «Закладки»."
   ]
  },
  {
   "cell_type": "code",
   "execution_count": null,
   "metadata": {},
   "outputs": [],
   "source": [
    "SELECT COUNT(id)\n",
    "FROM stackoverflow.posts\n",
    "WHERE post_type_id=1 \n",
    "   AND (score>300 OR favorites_count >= 100)\n",
    "GROUP BY post_type_id;"
   ]
  },
  {
   "cell_type": "markdown",
   "metadata": {},
   "source": [
    "2.\n",
    "Сколько в среднем в день задавали вопросов с 1 по 18 ноября 2008 включительно? Результат округлите до целого числа."
   ]
  },
  {
   "cell_type": "code",
   "execution_count": null,
   "metadata": {},
   "outputs": [],
   "source": [
    "SELECT ROUND(AVG(t.count),0)\n",
    "FROM (\n",
    "      SELECT COUNT(id),\n",
    "             creation_date::date\n",
    "      FROM stackoverflow.posts\n",
    "      WHERE post_type_id = 1\n",
    "      GROUP BY creation_date::date\n",
    "      HAVING creation_date::date BETWEEN '2008-11-01' AND '2008-11-18') AS t;"
   ]
  },
  {
   "cell_type": "markdown",
   "metadata": {},
   "source": [
    "3.\n",
    "Сколько пользователей получили значки сразу в день регистрации? Выведите количество уникальных пользователей."
   ]
  },
  {
   "cell_type": "code",
   "execution_count": null,
   "metadata": {},
   "outputs": [],
   "source": [
    "SELECT COUNT(DISTINCT u.id)\n",
    "FROM stackoverflow.badges AS b\n",
    "JOIN stackoverflow.users AS u ON b.user_id=u.id\n",
    "WHERE b.creation_date::date = u.creation_date::date;"
   ]
  },
  {
   "cell_type": "markdown",
   "metadata": {},
   "source": [
    "4.\n",
    "Сколько уникальных постов пользователя с именем Joel Coehoorn получили хотя бы один голос?"
   ]
  },
  {
   "cell_type": "code",
   "execution_count": null,
   "metadata": {},
   "outputs": [],
   "source": [
    "SELECT COUNT(t.id)\n",
    "FROM (\n",
    "     SELECT p.id\n",
    "     FROM stackoverflow.posts AS p\n",
    "     JOIN stackoverflow.votes AS v ON p.id = v.post_id\n",
    "     JOIN stackoverflow.users AS u ON p.user_id = u.id\n",
    "     WHERE u.display_name LIKE 'Joel Coehoorn'\n",
    "     GROUP BY p.id\n",
    "     HAVING COUNT(v.id)>=1) as t;"
   ]
  },
  {
   "cell_type": "markdown",
   "metadata": {},
   "source": [
    "5.\n",
    "Выгрузите все поля таблицы vote_types. Добавьте к таблице поле rank, в которое войдут номера записей в обратном порядке. Таблица должна быть отсортирована по полю id."
   ]
  },
  {
   "cell_type": "code",
   "execution_count": null,
   "metadata": {},
   "outputs": [],
   "source": [
    "SELECT *,\n",
    "       ROW_NUMBER() OVER(ORDER BY id DESC) AS rank\n",
    "FROM stackoverflow.vote_types\n",
    "ORDER BY id;"
   ]
  },
  {
   "cell_type": "markdown",
   "metadata": {},
   "source": [
    "6.\n",
    "Отберите 10 пользователей, которые поставили больше всего голосов типа Close. Отобразите таблицу из двух полей: идентификатором пользователя и количеством голосов. Отсортируйте данные сначала по убыванию количества голосов, потом по убыванию значения идентификатора пользователя."
   ]
  },
  {
   "cell_type": "code",
   "execution_count": null,
   "metadata": {},
   "outputs": [],
   "source": [
    "SELECT *\n",
    "FROM (\n",
    "      SELECT v.user_id,\n",
    "             COUNT(vt.id) AS cnt\n",
    "      FROM stackoverflow.votes AS v\n",
    "      JOIN stackoverflow.vote_types as vt ON vt.id = v.vote_type_id\n",
    "      WHERE vt.name LIKE 'Close'\n",
    "      GROUP BY v.user_id\n",
    "      ORDER BY cnt DESC LIMIT 10\n",
    "    ) AS t\n",
    "ORDER BY t.cnt DESC, t.user_id DESC;"
   ]
  },
  {
   "cell_type": "markdown",
   "metadata": {},
   "source": [
    "7.\n",
    "Отберите 10 пользователей по количеству значков, полученных в период с 15 ноября по 15 декабря 2008 года включительно.\n",
    "Отобразите несколько полей:\n",
    "идентификатор пользователя;\n",
    "число значков;\n",
    "место в рейтинге — чем больше значков, тем выше рейтинг.\n",
    "Пользователям, которые набрали одинаковое количество значков, присвойте одно и то же место в рейтинге.\n",
    "Отсортируйте записи по количеству значков по убыванию, а затем по возрастанию значения идентификатора пользователя."
   ]
  },
  {
   "cell_type": "code",
   "execution_count": null,
   "metadata": {},
   "outputs": [],
   "source": [
    "SELECT *,\n",
    "      DENSE_RANK() OVER (ORDER BY t.cnt DESC) AS n\n",
    "FROM (SELECT COUNT(id) AS  cnt,\n",
    "             user_id\n",
    "      FROM stackoverflow.badges\n",
    "      WHERE creation_date::date BETWEEN '2008-11-15' AND '2008-12-15' \n",
    "      GROUP BY 2\n",
    "      ORDER BY cnt DESC, user_id LIMIT 10) as t;"
   ]
  },
  {
   "cell_type": "markdown",
   "metadata": {},
   "source": [
    "8.\n",
    "Сколько в среднем очков получает пост каждого пользователя?\n",
    "Сформируйте таблицу из следующих полей:\n",
    "заголовок поста;\n",
    "идентификатор пользователя;\n",
    "число очков поста;\n",
    "среднее число очков пользователя за пост, округлённое до целого числа.\n",
    "Не учитывайте посты без заголовка, а также те, что набрали ноль очков."
   ]
  },
  {
   "cell_type": "code",
   "execution_count": null,
   "metadata": {},
   "outputs": [],
   "source": [
    "WITH t AS (\n",
    "SELECT ROUND(AVG(score)) AS avg_score,\n",
    "       user_id\n",
    "FROM stackoverflow.posts\n",
    "WHERE title IS NOT NULL \n",
    "   AND score <> 0\n",
    "GROUP BY user_id\n",
    ")\n",
    "\n",
    "SELECT p.title,\n",
    "       t.user_id,\n",
    "       p.score,\n",
    "       t.avg_score\n",
    "FROM t \n",
    "JOIN stackoverflow.posts AS p ON t.user_id=p.user_id\n",
    "WHERE p.title IS NOT NULL \n",
    "   AND p.score <> 0; "
   ]
  },
  {
   "cell_type": "markdown",
   "metadata": {},
   "source": [
    "9.\n",
    "Отобразите заголовки постов, которые были написаны пользователями, получившими более 1000 значков. Посты без заголовков не должны попасть в список."
   ]
  },
  {
   "cell_type": "code",
   "execution_count": null,
   "metadata": {},
   "outputs": [],
   "source": [
    "SELECT title\n",
    "FROM stackoverflow.posts\n",
    "WHERE user_id IN (\n",
    "                  SELECT user_id\n",
    "                  FROM stackoverflow.badges\n",
    "                  GROUP BY user_id\n",
    "                  HAVING COUNT(id) >1000\n",
    "                  )\n",
    "  AND title IS NOT NULL;"
   ]
  },
  {
   "cell_type": "markdown",
   "metadata": {},
   "source": [
    "10.\n",
    "Напишите запрос, который выгрузит данные о пользователях из США (англ. United States). Разделите пользователей на три группы в зависимости от количества просмотров их профилей:\n",
    "пользователям с числом просмотров больше либо равным 350 присвойте группу 1;\n",
    "пользователям с числом просмотров меньше 350, но больше либо равно 100 — группу 2;\n",
    "пользователям с числом просмотров меньше 100 — группу 3.\n",
    "Отобразите в итоговой таблице идентификатор пользователя, количество просмотров профиля и группу. Пользователи с нулевым количеством просмотров не должны войти в итоговую таблицу."
   ]
  },
  {
   "cell_type": "code",
   "execution_count": null,
   "metadata": {},
   "outputs": [],
   "source": [
    "SELECT id,\n",
    "       views,\n",
    "       CASE\n",
    "          WHEN views>=350 THEN 1\n",
    "          WHEN views<100 THEN 3\n",
    "          ELSE 2\n",
    "       END AS group\n",
    "FROM stackoverflow.users\n",
    "WHERE location LIKE '%United States%'\n",
    "   AND views > 0;"
   ]
  },
  {
   "cell_type": "markdown",
   "metadata": {},
   "source": [
    "11.\n",
    "Дополните предыдущий запрос. Отобразите лидеров каждой группы — пользователей, которые набрали максимальное число просмотров в своей группе. Выведите поля с идентификатором пользователя, группой и количеством просмотров. Отсортируйте таблицу по убыванию просмотров, а затем по возрастанию значения идентификатора."
   ]
  },
  {
   "cell_type": "code",
   "execution_count": null,
   "metadata": {},
   "outputs": [],
   "source": [
    "WITH tab AS\n",
    "(SELECT t.id,\n",
    "        t.views,\n",
    "        t.group,\n",
    "        MAX(t.views) OVER (PARTITION BY t.group) AS max\t\n",
    " FROM (SELECT id,\n",
    "              views,\n",
    "              CASE\n",
    "                 WHEN views>=350 THEN 1\n",
    "                 WHEN views<100 THEN 3\n",
    "                 ELSE 2\n",
    "              END AS group\n",
    "       FROM stackoverflow.users\n",
    "       WHERE location LIKE '%United States%'\n",
    "          AND views > 0\n",
    "          ) as t\n",
    "  )\n",
    "  \n",
    "SELECT tab.id, \n",
    "       tab.views,  \n",
    "       tab.group\n",
    "FROM tab\n",
    "WHERE tab.views = tab.max\n",
    "ORDER BY tab.views DESC, tab.id;"
   ]
  },
  {
   "cell_type": "markdown",
   "metadata": {},
   "source": [
    "12.\n",
    "Посчитайте ежедневный прирост новых пользователей в ноябре 2008 года. Сформируйте таблицу с полями:\n",
    "номер дня;\n",
    "число пользователей, зарегистрированных в этот день;\n",
    "сумму пользователей с накоплением."
   ]
  },
  {
   "cell_type": "code",
   "execution_count": null,
   "metadata": {},
   "outputs": [],
   "source": [
    "SELECT *,\n",
    "       SUM(t.cnt_id) OVER (ORDER BY t.days) as nn\n",
    "FROM (\n",
    "      SELECT EXTRACT(DAY FROM creation_date::date) AS days,\n",
    "             COUNT(id) AS cnt_id\n",
    "      FROM stackoverflow.users\n",
    "      WHERE creation_date::date BETWEEN '2008-11-01' AND '2008-11-30'\n",
    "      GROUP BY EXTRACT(DAY FROM creation_date::date)\n",
    "      ) as t;"
   ]
  },
  {
   "cell_type": "markdown",
   "metadata": {},
   "source": [
    "13.\n",
    "Для каждого пользователя, который написал хотя бы один пост, найдите интервал между регистрацией и временем создания первого поста. Отобразите:\n",
    "идентификатор пользователя;\n",
    "разницу во времени между регистрацией и первым постом."
   ]
  },
  {
   "cell_type": "code",
   "execution_count": null,
   "metadata": {},
   "outputs": [],
   "source": [
    "WITH p AS\n",
    "(SELECT DISTINCT user_id,\n",
    "        MIN(creation_date) OVER (PARTITION BY user_id) AS min_dt\t\t\t\t\t\n",
    " FROM stackoverflow.posts\n",
    ")\n",
    "\n",
    "SELECT p.user_id,\n",
    "       (p.min_dt - u.creation_date) AS diff\n",
    "FROM stackoverflow.users AS u \n",
    "JOIN p ON  u.id = p.user_id;"
   ]
  },
  {
   "cell_type": "markdown",
   "metadata": {},
   "source": [
    "14.\n",
    "Выведите общую сумму просмотров постов за каждый месяц 2008 года. Если данных за какой-либо месяц в базе нет, такой месяц можно пропустить. Результат отсортируйте по убыванию общего количества просмотров."
   ]
  },
  {
   "cell_type": "code",
   "execution_count": null,
   "metadata": {},
   "outputs": [],
   "source": [
    "SELECT SUM(views_count),\n",
    "       DATE_TRUNC('month', creation_date)::date AS mnth\n",
    "FROM stackoverflow.posts\n",
    "GROUP BY DATE_TRUNC('month', creation_date)::date\n",
    "ORDER BY SUM(views_count) DESC;"
   ]
  },
  {
   "cell_type": "markdown",
   "metadata": {},
   "source": [
    "\n",
    "15.Выведите имена самых активных пользователей, которые в первый месяц после регистрации (включая день регистрации) дали больше 100 ответов. Вопросы, которые задавали пользователи, не учитывайте. Для каждого имени пользователя выведите количество уникальных значений user_id. Отсортируйте результат по полю с именами в лексикографическом порядке."
   ]
  },
  {
   "cell_type": "code",
   "execution_count": null,
   "metadata": {},
   "outputs": [],
   "source": [
    "SELECT u.display_name,\n",
    "FROM stackoverflow.posts AS p\n",
    "JOIN stackoverflow.users AS u ON p.user_id = u.id\n",
    "JOIN stackoverflow.post_types AS pt ON pt.id = p.post_type_id\n",
    "WHERE p.creation_date::date BETWEEN u.creation_date::date AND (u.creation_date::date + INTERVAL '1 month')\n",
    "   AND pt.type LIKE '%Answer%'\n",
    "GROUP BY u.display_name\n",
    "HAVING COUNT(p.id) > 100\n",
    "ORDER BY u.display_name;"
   ]
  },
  {
   "cell_type": "markdown",
   "metadata": {},
   "source": [
    "16.\n",
    "Выведите количество постов за 2008 год по месяцам. Отберите посты от пользователей, которые зарегистрировались в сентябре 2008 года и сделали хотя бы один пост в декабре того же года. Отсортируйте таблицу по значению месяца по убыванию."
   ]
  },
  {
   "cell_type": "code",
   "execution_count": null,
   "metadata": {},
   "outputs": [],
   "source": [
    "WITH t AS (\n",
    "           SELECT u.id\n",
    "           FROM stackoverflow.posts AS p\n",
    "           JOIN stackoverflow.users AS u ON p.user_id = u.id\n",
    "           WHERE DATE_TRUNC('month', u.creation_date)::date = '2008-09-01'\n",
    "              AND DATE_TRUNC('month', p.creation_date)::date = '2008-12-01'\n",
    "           GROUP BY u.id\n",
    "           HAVING COUNT(p.id)>0\n",
    "          )\n",
    "\n",
    "\n",
    "SELECT COUNT(p.id),\n",
    "       DATE_TRUNC('month', p.creation_date)::date      \n",
    "FROM stackoverflow.posts AS p\n",
    "WHERE p.user_id IN (SELECT * FROM t)\n",
    "   AND DATE_TRUNC('year', p.creation_date)::date = '2008-01-01'\n",
    "GROUP BY DATE_TRUNC('month', p.creation_date)::date\n",
    "ORDER BY DATE_TRUNC('month', p.creation_date)::date DESC;"
   ]
  },
  {
   "cell_type": "markdown",
   "metadata": {},
   "source": [
    "17.\n",
    "Используя данные о постах, выведите несколько полей:\n",
    "идентификатор пользователя, который написал пост;\n",
    "дата создания поста;\n",
    "количество просмотров у текущего поста;\n",
    "сумму просмотров постов автора с накоплением.\n",
    "Данные в таблице должны быть отсортированы по возрастанию идентификаторов пользователей, а данные об одном и том же пользователе — по возрастанию даты создания поста."
   ]
  },
  {
   "cell_type": "code",
   "execution_count": null,
   "metadata": {},
   "outputs": [],
   "source": [
    "SELECT user_id,\n",
    "       creation_date,\n",
    "       views_count,\n",
    "       SUM(views_count) OVER (PARTITION BY user_id ORDER BY creation_date)\t\t\t\t\t\t\n",
    "FROM stackoverflow.posts;"
   ]
  },
  {
   "cell_type": "markdown",
   "metadata": {},
   "source": [
    "18.\n",
    "Сколько в среднем дней в период с 1 по 7 декабря 2008 года включительно пользователи взаимодействовали с платформой? Для каждого пользователя отберите дни, в которые он или она опубликовали хотя бы один пост. Нужно получить одно целое число — не забудьте округлить результат."
   ]
  },
  {
   "cell_type": "code",
   "execution_count": null,
   "metadata": {},
   "outputs": [],
   "source": [
    "SELECT ROUND(AVG(t.cnt))\n",
    "FROM (\n",
    "      SELECT user_id,\n",
    "             COUNT(DISTINCT creation_date::date)  AS cnt\n",
    "      FROM stackoverflow.posts\n",
    "      WHERE creation_date::date BETWEEN '2008-12-01' AND '2008-12-07' \n",
    "      GROUP BY user_id\n",
    ") AS t"
   ]
  },
  {
   "cell_type": "markdown",
   "metadata": {},
   "source": [
    "19.\n",
    "На сколько процентов менялось количество постов ежемесячно с 1 сентября по 31 декабря 2008 года? Отобразите таблицу со следующими полями:\n",
    "номер месяца;\n",
    "количество постов за месяц;\n",
    "процент, который показывает, насколько изменилось количество постов в текущем месяце по сравнению с предыдущим.\n",
    "Если постов стало меньше, значение процента должно быть отрицательным, если больше — положительным. Округлите значение процента до двух знаков после запятой.\n",
    "Напомним, что при делении одного целого числа на другое в PostgreSQL в результате получится целое число, округлённое до ближайшего целого вниз. Чтобы этого избежать, переведите делимое в тип numeric."
   ]
  },
  {
   "cell_type": "code",
   "execution_count": null,
   "metadata": {},
   "outputs": [],
   "source": [
    "WITH t AS (\n",
    "SELECT EXTRACT(MONTH from creation_date::date) AS month,\n",
    "       COUNT(DISTINCT id)    \n",
    "FROM stackoverflow.posts\n",
    "WHERE creation_date::date BETWEEN '2008-09-01' AND '2008-12-31'\n",
    "GROUP BY month\n",
    ")\n",
    "\n",
    "\n",
    "SELECT *,\n",
    "       ROUND(((count::numeric / LAG(count) OVER (ORDER BY month)) - 1) * 100,2) AS user_growth\n",
    "FROM t;"
   ]
  },
  {
   "cell_type": "markdown",
   "metadata": {},
   "source": [
    "20.\n",
    "Выгрузите данные активности пользователя, который опубликовал больше всего постов за всё время. Выведите данные за октябрь 2008 года в таком виде:\n",
    "номер недели;\n",
    "дата и время последнего поста, опубликованного на этой неделе."
   ]
  },
  {
   "cell_type": "code",
   "execution_count": null,
   "metadata": {},
   "outputs": [],
   "source": [
    "WITH t AS (\n",
    "SELECT user_id,\n",
    "       COUNT(DISTINCT id) AS cnt\n",
    "FROM stackoverflow.posts\n",
    "GROUP BY user_id\n",
    "ORDER BY cnt DESC\n",
    "LIMIT 1),\n",
    "\n",
    "\n",
    "     t1 AS (\n",
    "SELECT p.user_id,\n",
    "       p.creation_date,\n",
    "       extract('week' from p.creation_date) AS week_number\n",
    "FROM stackoverflow.posts AS p\n",
    "JOIN t ON t.user_id = p.user_id\n",
    "WHERE DATE_TRUNC('month', p.creation_date)::date = '2008-10-01'\n",
    "           )\n",
    "\n",
    "\n",
    "SELECT DISTINCT week_number::numeric,\n",
    "       MAX(creation_date) OVER (PARTITION BY week_number)\n",
    "FROM t1\n",
    "ORDER BY week_number;"
   ]
  }
 ],
 "metadata": {
  "ExecuteTimeLog": [
   {
    "duration": 22855,
    "start_time": "2023-06-13T20:47:03.163Z"
   },
   {
    "duration": 585,
    "start_time": "2023-06-13T20:47:55.243Z"
   },
   {
    "duration": 143,
    "start_time": "2023-06-13T20:49:17.458Z"
   },
   {
    "duration": 194,
    "start_time": "2023-06-13T20:49:46.944Z"
   },
   {
    "duration": 162,
    "start_time": "2023-06-13T20:50:07.608Z"
   },
   {
    "duration": 162,
    "start_time": "2023-06-13T20:50:25.744Z"
   },
   {
    "duration": 153,
    "start_time": "2023-06-13T20:50:37.812Z"
   },
   {
    "duration": 138,
    "start_time": "2023-06-13T20:50:47.762Z"
   },
   {
    "duration": 130,
    "start_time": "2023-06-13T20:50:53.944Z"
   },
   {
    "duration": 157,
    "start_time": "2023-06-13T20:51:00.795Z"
   },
   {
    "duration": 164,
    "start_time": "2023-06-13T20:51:06.146Z"
   },
   {
    "duration": 208,
    "start_time": "2023-06-13T20:52:36.647Z"
   },
   {
    "duration": 148,
    "start_time": "2023-06-13T20:52:42.398Z"
   },
   {
    "duration": 4,
    "start_time": "2023-06-13T20:53:36.230Z"
   },
   {
    "duration": 828,
    "start_time": "2023-06-13T20:53:36.239Z"
   },
   {
    "duration": 140,
    "start_time": "2023-06-13T20:53:37.069Z"
   },
   {
    "duration": 163,
    "start_time": "2023-06-13T20:53:37.211Z"
   },
   {
    "duration": 181,
    "start_time": "2023-06-13T20:53:37.376Z"
   },
   {
    "duration": 180,
    "start_time": "2023-06-13T20:53:37.563Z"
   },
   {
    "duration": 176,
    "start_time": "2023-06-13T20:53:37.752Z"
   },
   {
    "duration": 185,
    "start_time": "2023-06-13T20:54:33.538Z"
   },
   {
    "duration": 416,
    "start_time": "2023-06-13T20:57:42.211Z"
   },
   {
    "duration": 205,
    "start_time": "2023-06-13T20:58:02.601Z"
   },
   {
    "duration": 145,
    "start_time": "2023-06-13T21:03:36.253Z"
   },
   {
    "duration": 100,
    "start_time": "2023-06-13T21:03:45.100Z"
   },
   {
    "duration": 110,
    "start_time": "2023-06-13T21:06:14.121Z"
   },
   {
    "duration": 112,
    "start_time": "2023-06-13T21:06:24.466Z"
   },
   {
    "duration": 110,
    "start_time": "2023-06-13T21:08:24.110Z"
   },
   {
    "duration": 125,
    "start_time": "2023-06-13T21:09:02.349Z"
   },
   {
    "duration": 249,
    "start_time": "2023-06-13T21:09:55.659Z"
   },
   {
    "duration": 207,
    "start_time": "2023-06-13T21:10:07.451Z"
   },
   {
    "duration": 2,
    "start_time": "2023-06-13T21:12:35.665Z"
   },
   {
    "duration": 4,
    "start_time": "2023-06-13T21:12:38.232Z"
   },
   {
    "duration": 253,
    "start_time": "2023-06-13T21:12:48.928Z"
   },
   {
    "duration": 113,
    "start_time": "2023-06-13T21:13:39.342Z"
   },
   {
    "duration": 83,
    "start_time": "2023-06-13T21:13:50.808Z"
   },
   {
    "duration": 105,
    "start_time": "2023-06-13T21:14:37.849Z"
   },
   {
    "duration": 198,
    "start_time": "2023-06-13T21:16:18.265Z"
   },
   {
    "duration": 109,
    "start_time": "2023-06-13T21:16:35.105Z"
   },
   {
    "duration": 105,
    "start_time": "2023-06-13T21:16:43.546Z"
   },
   {
    "duration": 110,
    "start_time": "2023-06-13T21:17:14.043Z"
   },
   {
    "duration": 113,
    "start_time": "2023-06-13T21:21:23.260Z"
   },
   {
    "duration": 108,
    "start_time": "2023-06-13T21:21:30.821Z"
   },
   {
    "duration": 109,
    "start_time": "2023-06-13T21:22:00.506Z"
   },
   {
    "duration": 310,
    "start_time": "2023-06-13T21:22:52.573Z"
   },
   {
    "duration": 132,
    "start_time": "2023-06-13T21:23:08.302Z"
   },
   {
    "duration": 123,
    "start_time": "2023-06-13T21:24:37.545Z"
   },
   {
    "duration": 122,
    "start_time": "2023-06-13T21:24:38.573Z"
   },
   {
    "duration": 8,
    "start_time": "2023-06-13T21:24:59.402Z"
   },
   {
    "duration": 464,
    "start_time": "2023-06-13T21:24:59.412Z"
   },
   {
    "duration": 125,
    "start_time": "2023-06-13T21:24:59.878Z"
   },
   {
    "duration": 110,
    "start_time": "2023-06-13T21:25:00.010Z"
   },
   {
    "duration": 115,
    "start_time": "2023-06-13T21:25:00.121Z"
   },
   {
    "duration": 119,
    "start_time": "2023-06-13T21:25:00.237Z"
   },
   {
    "duration": 114,
    "start_time": "2023-06-13T21:25:00.357Z"
   },
   {
    "duration": 194,
    "start_time": "2023-06-13T21:25:00.473Z"
   },
   {
    "duration": 107,
    "start_time": "2023-06-13T21:25:00.669Z"
   },
   {
    "duration": 134,
    "start_time": "2023-06-13T21:25:00.779Z"
   },
   {
    "duration": 137,
    "start_time": "2023-06-13T21:25:00.915Z"
   },
   {
    "duration": 15368,
    "start_time": "2023-06-13T21:32:47.442Z"
   },
   {
    "duration": 436,
    "start_time": "2023-06-13T21:33:02.817Z"
   },
   {
    "duration": 124,
    "start_time": "2023-06-13T21:33:03.258Z"
   },
   {
    "duration": 129,
    "start_time": "2023-06-13T21:33:03.384Z"
   },
   {
    "duration": 103,
    "start_time": "2023-06-13T21:33:03.515Z"
   },
   {
    "duration": 94,
    "start_time": "2023-06-13T21:33:03.620Z"
   },
   {
    "duration": 98,
    "start_time": "2023-06-13T21:33:03.716Z"
   },
   {
    "duration": 164,
    "start_time": "2023-06-13T21:33:03.816Z"
   },
   {
    "duration": 116,
    "start_time": "2023-06-13T21:33:03.982Z"
   },
   {
    "duration": 118,
    "start_time": "2023-06-13T21:33:04.100Z"
   },
   {
    "duration": 108,
    "start_time": "2023-06-13T21:33:04.224Z"
   },
   {
    "duration": 60,
    "start_time": "2023-06-14T16:56:56.746Z"
   },
   {
    "duration": 9947,
    "start_time": "2023-06-14T16:57:01.535Z"
   },
   {
    "duration": 86,
    "start_time": "2023-06-14T16:57:11.484Z"
   },
   {
    "duration": 12,
    "start_time": "2023-06-14T16:57:11.572Z"
   },
   {
    "duration": 11,
    "start_time": "2023-06-14T16:57:11.586Z"
   },
   {
    "duration": 10,
    "start_time": "2023-06-14T16:57:11.599Z"
   },
   {
    "duration": 13,
    "start_time": "2023-06-14T16:57:11.611Z"
   },
   {
    "duration": 13,
    "start_time": "2023-06-14T16:57:11.625Z"
   },
   {
    "duration": 41,
    "start_time": "2023-06-14T16:57:11.657Z"
   },
   {
    "duration": 12,
    "start_time": "2023-06-14T16:57:11.700Z"
   },
   {
    "duration": 15,
    "start_time": "2023-06-14T16:57:11.713Z"
   },
   {
    "duration": 11,
    "start_time": "2023-06-14T16:57:11.729Z"
   },
   {
    "duration": 121,
    "start_time": "2023-06-14T19:44:32.523Z"
   },
   {
    "duration": 142,
    "start_time": "2023-06-14T19:44:36.741Z"
   },
   {
    "duration": 148,
    "start_time": "2023-06-14T19:44:55.831Z"
   },
   {
    "duration": 16,
    "start_time": "2023-06-14T19:45:44.519Z"
   },
   {
    "duration": 212,
    "start_time": "2023-06-14T19:49:04.908Z"
   },
   {
    "duration": 139,
    "start_time": "2023-06-14T19:49:54.329Z"
   },
   {
    "duration": 207,
    "start_time": "2023-06-14T19:50:04.947Z"
   },
   {
    "duration": 11,
    "start_time": "2023-06-14T19:50:17.713Z"
   },
   {
    "duration": 185,
    "start_time": "2023-06-14T19:50:23.824Z"
   },
   {
    "duration": 54,
    "start_time": "2023-06-15T16:38:19.816Z"
   },
   {
    "duration": 9710,
    "start_time": "2023-06-15T16:38:25.068Z"
   },
   {
    "duration": 285,
    "start_time": "2023-06-15T16:38:34.780Z"
   },
   {
    "duration": 76,
    "start_time": "2023-06-15T16:38:35.067Z"
   },
   {
    "duration": 76,
    "start_time": "2023-06-15T16:38:35.146Z"
   },
   {
    "duration": 101,
    "start_time": "2023-06-15T16:38:35.226Z"
   },
   {
    "duration": 158,
    "start_time": "2023-06-15T16:38:35.329Z"
   },
   {
    "duration": 76,
    "start_time": "2023-06-15T16:38:35.488Z"
   },
   {
    "duration": 112,
    "start_time": "2023-06-15T16:38:35.566Z"
   },
   {
    "duration": 76,
    "start_time": "2023-06-15T16:38:35.680Z"
   },
   {
    "duration": 80,
    "start_time": "2023-06-15T16:38:35.759Z"
   },
   {
    "duration": 76,
    "start_time": "2023-06-15T16:38:35.841Z"
   },
   {
    "duration": 283,
    "start_time": "2023-06-15T16:38:35.919Z"
   },
   {
    "duration": 174,
    "start_time": "2023-06-15T16:39:52.713Z"
   },
   {
    "duration": 75,
    "start_time": "2023-06-15T16:40:21.222Z"
   },
   {
    "duration": 75,
    "start_time": "2023-06-15T16:41:29.803Z"
   },
   {
    "duration": 9587,
    "start_time": "2023-06-16T19:54:17.567Z"
   },
   {
    "duration": 61,
    "start_time": "2023-06-16T19:54:27.157Z"
   },
   {
    "duration": 11,
    "start_time": "2023-06-16T19:54:27.219Z"
   },
   {
    "duration": 10,
    "start_time": "2023-06-16T19:54:27.232Z"
   },
   {
    "duration": 11,
    "start_time": "2023-06-16T19:54:27.243Z"
   },
   {
    "duration": 11,
    "start_time": "2023-06-16T19:54:27.256Z"
   },
   {
    "duration": 12,
    "start_time": "2023-06-16T19:54:27.268Z"
   },
   {
    "duration": 30,
    "start_time": "2023-06-16T19:54:27.281Z"
   },
   {
    "duration": 13,
    "start_time": "2023-06-16T19:54:27.313Z"
   },
   {
    "duration": 27,
    "start_time": "2023-06-16T19:54:27.328Z"
   },
   {
    "duration": 14,
    "start_time": "2023-06-16T19:54:27.356Z"
   },
   {
    "duration": 17,
    "start_time": "2023-06-16T20:00:43.162Z"
   },
   {
    "duration": 4575,
    "start_time": "2023-06-16T20:08:21.263Z"
   },
   {
    "duration": 4573,
    "start_time": "2023-06-16T20:08:28.382Z"
   },
   {
    "duration": 183,
    "start_time": "2023-06-16T20:12:53.813Z"
   },
   {
    "duration": 114,
    "start_time": "2023-06-16T20:14:43.564Z"
   },
   {
    "duration": 149,
    "start_time": "2023-06-16T20:15:10.074Z"
   },
   {
    "duration": 105,
    "start_time": "2023-06-16T20:15:55.979Z"
   },
   {
    "duration": 4594,
    "start_time": "2023-06-16T20:17:02.122Z"
   },
   {
    "duration": 10172,
    "start_time": "2023-06-16T20:17:30.324Z"
   },
   {
    "duration": 109,
    "start_time": "2023-06-16T20:17:40.498Z"
   },
   {
    "duration": 10,
    "start_time": "2023-06-16T20:17:40.609Z"
   },
   {
    "duration": 11,
    "start_time": "2023-06-16T20:17:40.622Z"
   },
   {
    "duration": 10,
    "start_time": "2023-06-16T20:17:40.634Z"
   },
   {
    "duration": 21,
    "start_time": "2023-06-16T20:17:40.645Z"
   },
   {
    "duration": 10,
    "start_time": "2023-06-16T20:17:40.668Z"
   },
   {
    "duration": 29,
    "start_time": "2023-06-16T20:17:40.680Z"
   },
   {
    "duration": 11,
    "start_time": "2023-06-16T20:17:40.711Z"
   },
   {
    "duration": 14,
    "start_time": "2023-06-16T20:17:40.724Z"
   },
   {
    "duration": 33,
    "start_time": "2023-06-16T20:17:40.740Z"
   },
   {
    "duration": 14,
    "start_time": "2023-06-16T20:17:40.774Z"
   },
   {
    "duration": 4718,
    "start_time": "2023-06-16T20:17:40.790Z"
   },
   {
    "duration": 92,
    "start_time": "2023-06-16T20:17:45.509Z"
   },
   {
    "duration": 20895,
    "start_time": "2023-06-17T08:48:44.947Z"
   },
   {
    "duration": 434,
    "start_time": "2023-06-17T08:49:05.844Z"
   },
   {
    "duration": 92,
    "start_time": "2023-06-17T08:49:06.280Z"
   },
   {
    "duration": 88,
    "start_time": "2023-06-17T08:49:06.374Z"
   },
   {
    "duration": 89,
    "start_time": "2023-06-17T08:49:06.463Z"
   },
   {
    "duration": 102,
    "start_time": "2023-06-17T08:49:06.553Z"
   },
   {
    "duration": 114,
    "start_time": "2023-06-17T08:49:06.656Z"
   },
   {
    "duration": 134,
    "start_time": "2023-06-17T08:49:06.772Z"
   },
   {
    "duration": 82,
    "start_time": "2023-06-17T08:49:06.907Z"
   },
   {
    "duration": 96,
    "start_time": "2023-06-17T08:49:06.992Z"
   },
   {
    "duration": 96,
    "start_time": "2023-06-17T08:49:07.090Z"
   },
   {
    "duration": 101,
    "start_time": "2023-06-17T08:49:07.187Z"
   },
   {
    "duration": 4622,
    "start_time": "2023-06-17T08:49:07.289Z"
   },
   {
    "duration": 162,
    "start_time": "2023-06-17T08:49:11.913Z"
   }
  ],
  "kernelspec": {
   "display_name": "Python 3 (ipykernel)",
   "language": "python",
   "name": "python3"
  },
  "language_info": {
   "codemirror_mode": {
    "name": "ipython",
    "version": 3
   },
   "file_extension": ".py",
   "mimetype": "text/x-python",
   "name": "python",
   "nbconvert_exporter": "python",
   "pygments_lexer": "ipython3",
   "version": "3.9.5"
  },
  "toc": {
   "base_numbering": 1,
   "nav_menu": {},
   "number_sections": true,
   "sideBar": true,
   "skip_h1_title": true,
   "title_cell": "Table of Contents",
   "title_sidebar": "Contents",
   "toc_cell": false,
   "toc_position": {},
   "toc_section_display": true,
   "toc_window_display": false
  }
 },
 "nbformat": 4,
 "nbformat_minor": 2
}
