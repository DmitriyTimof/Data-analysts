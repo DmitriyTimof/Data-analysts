{
 "cells": [
  {
   "cell_type": "markdown",
   "metadata": {},
   "source": [
    "Проект по анализу игровой индустрии\n",
    "    \n",
    "В данном проекте я проанализирую данные взятые из свободных источников о продажах игр по всему миру\n",
    "    \n",
    "Моя цель выявить определяющие успешность игры закономерности, что позволит сделать ставку на потенциально популярный продукт и спланировать рекламные кампании.\n",
    "    \n",
    "Описание данных\n",
    "Name — название игры\n",
    "Platform — платформа\n",
    "Year_of_Release — год выпуска\n",
    "Genre — жанр игры\n",
    "NA_sales — продажи в Северной Америке (миллионы проданных копий)\n",
    "EU_sales — продажи в Европе (миллионы проданных копий)\n",
    "JP_sales — продажи в Японии (миллионы проданных копий)\n",
    "Other_sales — продажи в других странах (миллионы проданных копий)\n",
    "Critic_Score — оценка критиков (максимум 100)\n",
    "User_Score — оценка пользователей (максимум 10)\n",
    "Rating — рейтинг от организации ESRB (англ. Entertainment Software Rating Board). Эта ассоциация определяет рейтинг компьютерных игр и присваивает им подходящую возрастную категорию.\n",
    "    \n",
    "План моего проекта следующий:\n",
    "    \n",
    "- Изучить общую информацию в полученном файле\n",
    "    \n",
    "- Провести предоработку данных \n",
    "    \n",
    "- Исследовать данные и сделать анализ\n",
    "    \n",
    "- Составить портрет пользователя каждого региона\n",
    "    \n",
    " - Проверить гипотезы:\n",
    "    \n",
    "Средние пользовательские рейтинги платформ Xbox One и PC одинаковые;\n",
    "    \n",
    "Средние пользовательские рейтинги жанров Action (англ. «действие», экшен-игры) и Sports (англ. «спортивные соревнования») разные\n",
    "    \n",
    "- Сделать общий вывод и дать рекомендации\n"
   ]
  },
  {
   "cell_type": "markdown",
   "metadata": {},
   "source": [
    "### Открываем файл с данными и изучаем общую информацию. "
   ]
  },
  {
   "cell_type": "markdown",
   "metadata": {},
   "source": [
    "Для начала загрузим библиотеку pandas, следующей строкой сам файл."
   ]
  },
  {
   "cell_type": "code",
   "execution_count": 1,
   "metadata": {},
   "outputs": [],
   "source": [
    "import pandas as pd"
   ]
  },
  {
   "cell_type": "code",
   "execution_count": 2,
   "metadata": {},
   "outputs": [],
   "source": [
    "data = pd.read_csv('/datasets/games.csv')"
   ]
  },
  {
   "cell_type": "markdown",
   "metadata": {},
   "source": [
    "Теперь посмотрим, через метод info , что представляет из себя файл, какие есть колонки, их типы.\n",
    "Так же выведем первые 20 строк на экран.\n",
    "Т.к. я не знаю, что меня ждет, напишу предварительно команду, чтобы показал все колонки."
   ]
  },
  {
   "cell_type": "code",
   "execution_count": 3,
   "metadata": {},
   "outputs": [],
   "source": [
    "pd.set_option('display.max_columns', None)"
   ]
  },
  {
   "cell_type": "code",
   "execution_count": 4,
   "metadata": {
    "scrolled": true
   },
   "outputs": [
    {
     "name": "stdout",
     "output_type": "stream",
     "text": [
      "<class 'pandas.core.frame.DataFrame'>\n",
      "RangeIndex: 16715 entries, 0 to 16714\n",
      "Data columns (total 11 columns):\n",
      " #   Column           Non-Null Count  Dtype  \n",
      "---  ------           --------------  -----  \n",
      " 0   Name             16713 non-null  object \n",
      " 1   Platform         16715 non-null  object \n",
      " 2   Year_of_Release  16446 non-null  float64\n",
      " 3   Genre            16713 non-null  object \n",
      " 4   NA_sales         16715 non-null  float64\n",
      " 5   EU_sales         16715 non-null  float64\n",
      " 6   JP_sales         16715 non-null  float64\n",
      " 7   Other_sales      16715 non-null  float64\n",
      " 8   Critic_Score     8137 non-null   float64\n",
      " 9   User_Score       10014 non-null  object \n",
      " 10  Rating           9949 non-null   object \n",
      "dtypes: float64(6), object(5)\n",
      "memory usage: 1.4+ MB\n"
     ]
    }
   ],
   "source": [
    "data.info() "
   ]
  },
  {
   "cell_type": "code",
   "execution_count": 5,
   "metadata": {},
   "outputs": [
    {
     "data": {
      "text/html": [
       "<div>\n",
       "<style scoped>\n",
       "    .dataframe tbody tr th:only-of-type {\n",
       "        vertical-align: middle;\n",
       "    }\n",
       "\n",
       "    .dataframe tbody tr th {\n",
       "        vertical-align: top;\n",
       "    }\n",
       "\n",
       "    .dataframe thead th {\n",
       "        text-align: right;\n",
       "    }\n",
       "</style>\n",
       "<table border=\"1\" class=\"dataframe\">\n",
       "  <thead>\n",
       "    <tr style=\"text-align: right;\">\n",
       "      <th></th>\n",
       "      <th>Name</th>\n",
       "      <th>Platform</th>\n",
       "      <th>Year_of_Release</th>\n",
       "      <th>Genre</th>\n",
       "      <th>NA_sales</th>\n",
       "      <th>EU_sales</th>\n",
       "      <th>JP_sales</th>\n",
       "      <th>Other_sales</th>\n",
       "      <th>Critic_Score</th>\n",
       "      <th>User_Score</th>\n",
       "      <th>Rating</th>\n",
       "    </tr>\n",
       "  </thead>\n",
       "  <tbody>\n",
       "    <tr>\n",
       "      <th>0</th>\n",
       "      <td>Wii Sports</td>\n",
       "      <td>Wii</td>\n",
       "      <td>2006.0</td>\n",
       "      <td>Sports</td>\n",
       "      <td>41.36</td>\n",
       "      <td>28.96</td>\n",
       "      <td>3.77</td>\n",
       "      <td>8.45</td>\n",
       "      <td>76.0</td>\n",
       "      <td>8</td>\n",
       "      <td>E</td>\n",
       "    </tr>\n",
       "    <tr>\n",
       "      <th>1</th>\n",
       "      <td>Super Mario Bros.</td>\n",
       "      <td>NES</td>\n",
       "      <td>1985.0</td>\n",
       "      <td>Platform</td>\n",
       "      <td>29.08</td>\n",
       "      <td>3.58</td>\n",
       "      <td>6.81</td>\n",
       "      <td>0.77</td>\n",
       "      <td>NaN</td>\n",
       "      <td>NaN</td>\n",
       "      <td>NaN</td>\n",
       "    </tr>\n",
       "    <tr>\n",
       "      <th>2</th>\n",
       "      <td>Mario Kart Wii</td>\n",
       "      <td>Wii</td>\n",
       "      <td>2008.0</td>\n",
       "      <td>Racing</td>\n",
       "      <td>15.68</td>\n",
       "      <td>12.76</td>\n",
       "      <td>3.79</td>\n",
       "      <td>3.29</td>\n",
       "      <td>82.0</td>\n",
       "      <td>8.3</td>\n",
       "      <td>E</td>\n",
       "    </tr>\n",
       "    <tr>\n",
       "      <th>3</th>\n",
       "      <td>Wii Sports Resort</td>\n",
       "      <td>Wii</td>\n",
       "      <td>2009.0</td>\n",
       "      <td>Sports</td>\n",
       "      <td>15.61</td>\n",
       "      <td>10.93</td>\n",
       "      <td>3.28</td>\n",
       "      <td>2.95</td>\n",
       "      <td>80.0</td>\n",
       "      <td>8</td>\n",
       "      <td>E</td>\n",
       "    </tr>\n",
       "    <tr>\n",
       "      <th>4</th>\n",
       "      <td>Pokemon Red/Pokemon Blue</td>\n",
       "      <td>GB</td>\n",
       "      <td>1996.0</td>\n",
       "      <td>Role-Playing</td>\n",
       "      <td>11.27</td>\n",
       "      <td>8.89</td>\n",
       "      <td>10.22</td>\n",
       "      <td>1.00</td>\n",
       "      <td>NaN</td>\n",
       "      <td>NaN</td>\n",
       "      <td>NaN</td>\n",
       "    </tr>\n",
       "    <tr>\n",
       "      <th>5</th>\n",
       "      <td>Tetris</td>\n",
       "      <td>GB</td>\n",
       "      <td>1989.0</td>\n",
       "      <td>Puzzle</td>\n",
       "      <td>23.20</td>\n",
       "      <td>2.26</td>\n",
       "      <td>4.22</td>\n",
       "      <td>0.58</td>\n",
       "      <td>NaN</td>\n",
       "      <td>NaN</td>\n",
       "      <td>NaN</td>\n",
       "    </tr>\n",
       "    <tr>\n",
       "      <th>6</th>\n",
       "      <td>New Super Mario Bros.</td>\n",
       "      <td>DS</td>\n",
       "      <td>2006.0</td>\n",
       "      <td>Platform</td>\n",
       "      <td>11.28</td>\n",
       "      <td>9.14</td>\n",
       "      <td>6.50</td>\n",
       "      <td>2.88</td>\n",
       "      <td>89.0</td>\n",
       "      <td>8.5</td>\n",
       "      <td>E</td>\n",
       "    </tr>\n",
       "    <tr>\n",
       "      <th>7</th>\n",
       "      <td>Wii Play</td>\n",
       "      <td>Wii</td>\n",
       "      <td>2006.0</td>\n",
       "      <td>Misc</td>\n",
       "      <td>13.96</td>\n",
       "      <td>9.18</td>\n",
       "      <td>2.93</td>\n",
       "      <td>2.84</td>\n",
       "      <td>58.0</td>\n",
       "      <td>6.6</td>\n",
       "      <td>E</td>\n",
       "    </tr>\n",
       "    <tr>\n",
       "      <th>8</th>\n",
       "      <td>New Super Mario Bros. Wii</td>\n",
       "      <td>Wii</td>\n",
       "      <td>2009.0</td>\n",
       "      <td>Platform</td>\n",
       "      <td>14.44</td>\n",
       "      <td>6.94</td>\n",
       "      <td>4.70</td>\n",
       "      <td>2.24</td>\n",
       "      <td>87.0</td>\n",
       "      <td>8.4</td>\n",
       "      <td>E</td>\n",
       "    </tr>\n",
       "    <tr>\n",
       "      <th>9</th>\n",
       "      <td>Duck Hunt</td>\n",
       "      <td>NES</td>\n",
       "      <td>1984.0</td>\n",
       "      <td>Shooter</td>\n",
       "      <td>26.93</td>\n",
       "      <td>0.63</td>\n",
       "      <td>0.28</td>\n",
       "      <td>0.47</td>\n",
       "      <td>NaN</td>\n",
       "      <td>NaN</td>\n",
       "      <td>NaN</td>\n",
       "    </tr>\n",
       "    <tr>\n",
       "      <th>10</th>\n",
       "      <td>Nintendogs</td>\n",
       "      <td>DS</td>\n",
       "      <td>2005.0</td>\n",
       "      <td>Simulation</td>\n",
       "      <td>9.05</td>\n",
       "      <td>10.95</td>\n",
       "      <td>1.93</td>\n",
       "      <td>2.74</td>\n",
       "      <td>NaN</td>\n",
       "      <td>NaN</td>\n",
       "      <td>NaN</td>\n",
       "    </tr>\n",
       "    <tr>\n",
       "      <th>11</th>\n",
       "      <td>Mario Kart DS</td>\n",
       "      <td>DS</td>\n",
       "      <td>2005.0</td>\n",
       "      <td>Racing</td>\n",
       "      <td>9.71</td>\n",
       "      <td>7.47</td>\n",
       "      <td>4.13</td>\n",
       "      <td>1.90</td>\n",
       "      <td>91.0</td>\n",
       "      <td>8.6</td>\n",
       "      <td>E</td>\n",
       "    </tr>\n",
       "    <tr>\n",
       "      <th>12</th>\n",
       "      <td>Pokemon Gold/Pokemon Silver</td>\n",
       "      <td>GB</td>\n",
       "      <td>1999.0</td>\n",
       "      <td>Role-Playing</td>\n",
       "      <td>9.00</td>\n",
       "      <td>6.18</td>\n",
       "      <td>7.20</td>\n",
       "      <td>0.71</td>\n",
       "      <td>NaN</td>\n",
       "      <td>NaN</td>\n",
       "      <td>NaN</td>\n",
       "    </tr>\n",
       "    <tr>\n",
       "      <th>13</th>\n",
       "      <td>Wii Fit</td>\n",
       "      <td>Wii</td>\n",
       "      <td>2007.0</td>\n",
       "      <td>Sports</td>\n",
       "      <td>8.92</td>\n",
       "      <td>8.03</td>\n",
       "      <td>3.60</td>\n",
       "      <td>2.15</td>\n",
       "      <td>80.0</td>\n",
       "      <td>7.7</td>\n",
       "      <td>E</td>\n",
       "    </tr>\n",
       "    <tr>\n",
       "      <th>14</th>\n",
       "      <td>Kinect Adventures!</td>\n",
       "      <td>X360</td>\n",
       "      <td>2010.0</td>\n",
       "      <td>Misc</td>\n",
       "      <td>15.00</td>\n",
       "      <td>4.89</td>\n",
       "      <td>0.24</td>\n",
       "      <td>1.69</td>\n",
       "      <td>61.0</td>\n",
       "      <td>6.3</td>\n",
       "      <td>E</td>\n",
       "    </tr>\n",
       "    <tr>\n",
       "      <th>15</th>\n",
       "      <td>Wii Fit Plus</td>\n",
       "      <td>Wii</td>\n",
       "      <td>2009.0</td>\n",
       "      <td>Sports</td>\n",
       "      <td>9.01</td>\n",
       "      <td>8.49</td>\n",
       "      <td>2.53</td>\n",
       "      <td>1.77</td>\n",
       "      <td>80.0</td>\n",
       "      <td>7.4</td>\n",
       "      <td>E</td>\n",
       "    </tr>\n",
       "    <tr>\n",
       "      <th>16</th>\n",
       "      <td>Grand Theft Auto V</td>\n",
       "      <td>PS3</td>\n",
       "      <td>2013.0</td>\n",
       "      <td>Action</td>\n",
       "      <td>7.02</td>\n",
       "      <td>9.09</td>\n",
       "      <td>0.98</td>\n",
       "      <td>3.96</td>\n",
       "      <td>97.0</td>\n",
       "      <td>8.2</td>\n",
       "      <td>M</td>\n",
       "    </tr>\n",
       "    <tr>\n",
       "      <th>17</th>\n",
       "      <td>Grand Theft Auto: San Andreas</td>\n",
       "      <td>PS2</td>\n",
       "      <td>2004.0</td>\n",
       "      <td>Action</td>\n",
       "      <td>9.43</td>\n",
       "      <td>0.40</td>\n",
       "      <td>0.41</td>\n",
       "      <td>10.57</td>\n",
       "      <td>95.0</td>\n",
       "      <td>9</td>\n",
       "      <td>M</td>\n",
       "    </tr>\n",
       "    <tr>\n",
       "      <th>18</th>\n",
       "      <td>Super Mario World</td>\n",
       "      <td>SNES</td>\n",
       "      <td>1990.0</td>\n",
       "      <td>Platform</td>\n",
       "      <td>12.78</td>\n",
       "      <td>3.75</td>\n",
       "      <td>3.54</td>\n",
       "      <td>0.55</td>\n",
       "      <td>NaN</td>\n",
       "      <td>NaN</td>\n",
       "      <td>NaN</td>\n",
       "    </tr>\n",
       "    <tr>\n",
       "      <th>19</th>\n",
       "      <td>Brain Age: Train Your Brain in Minutes a Day</td>\n",
       "      <td>DS</td>\n",
       "      <td>2005.0</td>\n",
       "      <td>Misc</td>\n",
       "      <td>4.74</td>\n",
       "      <td>9.20</td>\n",
       "      <td>4.16</td>\n",
       "      <td>2.04</td>\n",
       "      <td>77.0</td>\n",
       "      <td>7.9</td>\n",
       "      <td>E</td>\n",
       "    </tr>\n",
       "    <tr>\n",
       "      <th>20</th>\n",
       "      <td>Pokemon Diamond/Pokemon Pearl</td>\n",
       "      <td>DS</td>\n",
       "      <td>2006.0</td>\n",
       "      <td>Role-Playing</td>\n",
       "      <td>6.38</td>\n",
       "      <td>4.46</td>\n",
       "      <td>6.04</td>\n",
       "      <td>1.36</td>\n",
       "      <td>NaN</td>\n",
       "      <td>NaN</td>\n",
       "      <td>NaN</td>\n",
       "    </tr>\n",
       "    <tr>\n",
       "      <th>21</th>\n",
       "      <td>Super Mario Land</td>\n",
       "      <td>GB</td>\n",
       "      <td>1989.0</td>\n",
       "      <td>Platform</td>\n",
       "      <td>10.83</td>\n",
       "      <td>2.71</td>\n",
       "      <td>4.18</td>\n",
       "      <td>0.42</td>\n",
       "      <td>NaN</td>\n",
       "      <td>NaN</td>\n",
       "      <td>NaN</td>\n",
       "    </tr>\n",
       "    <tr>\n",
       "      <th>22</th>\n",
       "      <td>Super Mario Bros. 3</td>\n",
       "      <td>NES</td>\n",
       "      <td>1988.0</td>\n",
       "      <td>Platform</td>\n",
       "      <td>9.54</td>\n",
       "      <td>3.44</td>\n",
       "      <td>3.84</td>\n",
       "      <td>0.46</td>\n",
       "      <td>NaN</td>\n",
       "      <td>NaN</td>\n",
       "      <td>NaN</td>\n",
       "    </tr>\n",
       "    <tr>\n",
       "      <th>23</th>\n",
       "      <td>Grand Theft Auto V</td>\n",
       "      <td>X360</td>\n",
       "      <td>2013.0</td>\n",
       "      <td>Action</td>\n",
       "      <td>9.66</td>\n",
       "      <td>5.14</td>\n",
       "      <td>0.06</td>\n",
       "      <td>1.41</td>\n",
       "      <td>97.0</td>\n",
       "      <td>8.1</td>\n",
       "      <td>M</td>\n",
       "    </tr>\n",
       "    <tr>\n",
       "      <th>24</th>\n",
       "      <td>Grand Theft Auto: Vice City</td>\n",
       "      <td>PS2</td>\n",
       "      <td>2002.0</td>\n",
       "      <td>Action</td>\n",
       "      <td>8.41</td>\n",
       "      <td>5.49</td>\n",
       "      <td>0.47</td>\n",
       "      <td>1.78</td>\n",
       "      <td>95.0</td>\n",
       "      <td>8.7</td>\n",
       "      <td>M</td>\n",
       "    </tr>\n",
       "    <tr>\n",
       "      <th>25</th>\n",
       "      <td>Pokemon Ruby/Pokemon Sapphire</td>\n",
       "      <td>GBA</td>\n",
       "      <td>2002.0</td>\n",
       "      <td>Role-Playing</td>\n",
       "      <td>6.06</td>\n",
       "      <td>3.90</td>\n",
       "      <td>5.38</td>\n",
       "      <td>0.50</td>\n",
       "      <td>NaN</td>\n",
       "      <td>NaN</td>\n",
       "      <td>NaN</td>\n",
       "    </tr>\n",
       "    <tr>\n",
       "      <th>26</th>\n",
       "      <td>Brain Age 2: More Training in Minutes a Day</td>\n",
       "      <td>DS</td>\n",
       "      <td>2005.0</td>\n",
       "      <td>Puzzle</td>\n",
       "      <td>3.43</td>\n",
       "      <td>5.35</td>\n",
       "      <td>5.32</td>\n",
       "      <td>1.18</td>\n",
       "      <td>77.0</td>\n",
       "      <td>7.1</td>\n",
       "      <td>E</td>\n",
       "    </tr>\n",
       "    <tr>\n",
       "      <th>27</th>\n",
       "      <td>Pokemon Black/Pokemon White</td>\n",
       "      <td>DS</td>\n",
       "      <td>2010.0</td>\n",
       "      <td>Role-Playing</td>\n",
       "      <td>5.51</td>\n",
       "      <td>3.17</td>\n",
       "      <td>5.65</td>\n",
       "      <td>0.80</td>\n",
       "      <td>NaN</td>\n",
       "      <td>NaN</td>\n",
       "      <td>NaN</td>\n",
       "    </tr>\n",
       "    <tr>\n",
       "      <th>28</th>\n",
       "      <td>Gran Turismo 3: A-Spec</td>\n",
       "      <td>PS2</td>\n",
       "      <td>2001.0</td>\n",
       "      <td>Racing</td>\n",
       "      <td>6.85</td>\n",
       "      <td>5.09</td>\n",
       "      <td>1.87</td>\n",
       "      <td>1.16</td>\n",
       "      <td>95.0</td>\n",
       "      <td>8.4</td>\n",
       "      <td>E</td>\n",
       "    </tr>\n",
       "    <tr>\n",
       "      <th>29</th>\n",
       "      <td>Call of Duty: Modern Warfare 3</td>\n",
       "      <td>X360</td>\n",
       "      <td>2011.0</td>\n",
       "      <td>Shooter</td>\n",
       "      <td>9.04</td>\n",
       "      <td>4.24</td>\n",
       "      <td>0.13</td>\n",
       "      <td>1.32</td>\n",
       "      <td>88.0</td>\n",
       "      <td>3.4</td>\n",
       "      <td>M</td>\n",
       "    </tr>\n",
       "    <tr>\n",
       "      <th>30</th>\n",
       "      <td>Pokémon Yellow: Special Pikachu Edition</td>\n",
       "      <td>GB</td>\n",
       "      <td>1998.0</td>\n",
       "      <td>Role-Playing</td>\n",
       "      <td>5.89</td>\n",
       "      <td>5.04</td>\n",
       "      <td>3.12</td>\n",
       "      <td>0.59</td>\n",
       "      <td>NaN</td>\n",
       "      <td>NaN</td>\n",
       "      <td>NaN</td>\n",
       "    </tr>\n",
       "    <tr>\n",
       "      <th>31</th>\n",
       "      <td>Call of Duty: Black Ops 3</td>\n",
       "      <td>PS4</td>\n",
       "      <td>2015.0</td>\n",
       "      <td>Shooter</td>\n",
       "      <td>6.03</td>\n",
       "      <td>5.86</td>\n",
       "      <td>0.36</td>\n",
       "      <td>2.38</td>\n",
       "      <td>NaN</td>\n",
       "      <td>NaN</td>\n",
       "      <td>NaN</td>\n",
       "    </tr>\n",
       "    <tr>\n",
       "      <th>32</th>\n",
       "      <td>Call of Duty: Black Ops</td>\n",
       "      <td>X360</td>\n",
       "      <td>2010.0</td>\n",
       "      <td>Shooter</td>\n",
       "      <td>9.70</td>\n",
       "      <td>3.68</td>\n",
       "      <td>0.11</td>\n",
       "      <td>1.13</td>\n",
       "      <td>87.0</td>\n",
       "      <td>6.3</td>\n",
       "      <td>M</td>\n",
       "    </tr>\n",
       "    <tr>\n",
       "      <th>33</th>\n",
       "      <td>Pokemon X/Pokemon Y</td>\n",
       "      <td>3DS</td>\n",
       "      <td>2013.0</td>\n",
       "      <td>Role-Playing</td>\n",
       "      <td>5.28</td>\n",
       "      <td>4.19</td>\n",
       "      <td>4.35</td>\n",
       "      <td>0.78</td>\n",
       "      <td>NaN</td>\n",
       "      <td>NaN</td>\n",
       "      <td>NaN</td>\n",
       "    </tr>\n",
       "    <tr>\n",
       "      <th>34</th>\n",
       "      <td>Call of Duty: Black Ops II</td>\n",
       "      <td>PS3</td>\n",
       "      <td>2012.0</td>\n",
       "      <td>Shooter</td>\n",
       "      <td>4.99</td>\n",
       "      <td>5.73</td>\n",
       "      <td>0.65</td>\n",
       "      <td>2.42</td>\n",
       "      <td>83.0</td>\n",
       "      <td>5.3</td>\n",
       "      <td>M</td>\n",
       "    </tr>\n",
       "    <tr>\n",
       "      <th>35</th>\n",
       "      <td>Call of Duty: Black Ops II</td>\n",
       "      <td>X360</td>\n",
       "      <td>2012.0</td>\n",
       "      <td>Shooter</td>\n",
       "      <td>8.25</td>\n",
       "      <td>4.24</td>\n",
       "      <td>0.07</td>\n",
       "      <td>1.12</td>\n",
       "      <td>83.0</td>\n",
       "      <td>4.8</td>\n",
       "      <td>M</td>\n",
       "    </tr>\n",
       "    <tr>\n",
       "      <th>36</th>\n",
       "      <td>Call of Duty: Modern Warfare 2</td>\n",
       "      <td>X360</td>\n",
       "      <td>2009.0</td>\n",
       "      <td>Shooter</td>\n",
       "      <td>8.52</td>\n",
       "      <td>3.59</td>\n",
       "      <td>0.08</td>\n",
       "      <td>1.28</td>\n",
       "      <td>94.0</td>\n",
       "      <td>6.3</td>\n",
       "      <td>M</td>\n",
       "    </tr>\n",
       "    <tr>\n",
       "      <th>37</th>\n",
       "      <td>Call of Duty: Modern Warfare 3</td>\n",
       "      <td>PS3</td>\n",
       "      <td>2011.0</td>\n",
       "      <td>Shooter</td>\n",
       "      <td>5.54</td>\n",
       "      <td>5.73</td>\n",
       "      <td>0.49</td>\n",
       "      <td>1.57</td>\n",
       "      <td>88.0</td>\n",
       "      <td>3.2</td>\n",
       "      <td>M</td>\n",
       "    </tr>\n",
       "    <tr>\n",
       "      <th>38</th>\n",
       "      <td>Grand Theft Auto III</td>\n",
       "      <td>PS2</td>\n",
       "      <td>2001.0</td>\n",
       "      <td>Action</td>\n",
       "      <td>6.99</td>\n",
       "      <td>4.51</td>\n",
       "      <td>0.30</td>\n",
       "      <td>1.30</td>\n",
       "      <td>97.0</td>\n",
       "      <td>8.5</td>\n",
       "      <td>M</td>\n",
       "    </tr>\n",
       "    <tr>\n",
       "      <th>39</th>\n",
       "      <td>Super Smash Bros. Brawl</td>\n",
       "      <td>Wii</td>\n",
       "      <td>2008.0</td>\n",
       "      <td>Fighting</td>\n",
       "      <td>6.62</td>\n",
       "      <td>2.55</td>\n",
       "      <td>2.66</td>\n",
       "      <td>1.01</td>\n",
       "      <td>93.0</td>\n",
       "      <td>8.9</td>\n",
       "      <td>T</td>\n",
       "    </tr>\n",
       "    <tr>\n",
       "      <th>40</th>\n",
       "      <td>Mario Kart 7</td>\n",
       "      <td>3DS</td>\n",
       "      <td>2011.0</td>\n",
       "      <td>Racing</td>\n",
       "      <td>5.03</td>\n",
       "      <td>4.02</td>\n",
       "      <td>2.69</td>\n",
       "      <td>0.91</td>\n",
       "      <td>85.0</td>\n",
       "      <td>8.2</td>\n",
       "      <td>E</td>\n",
       "    </tr>\n",
       "    <tr>\n",
       "      <th>41</th>\n",
       "      <td>Call of Duty: Black Ops</td>\n",
       "      <td>PS3</td>\n",
       "      <td>2010.0</td>\n",
       "      <td>Shooter</td>\n",
       "      <td>5.99</td>\n",
       "      <td>4.37</td>\n",
       "      <td>0.48</td>\n",
       "      <td>1.79</td>\n",
       "      <td>88.0</td>\n",
       "      <td>6.4</td>\n",
       "      <td>M</td>\n",
       "    </tr>\n",
       "    <tr>\n",
       "      <th>42</th>\n",
       "      <td>Grand Theft Auto V</td>\n",
       "      <td>PS4</td>\n",
       "      <td>2014.0</td>\n",
       "      <td>Action</td>\n",
       "      <td>3.96</td>\n",
       "      <td>6.31</td>\n",
       "      <td>0.38</td>\n",
       "      <td>1.97</td>\n",
       "      <td>97.0</td>\n",
       "      <td>8.3</td>\n",
       "      <td>M</td>\n",
       "    </tr>\n",
       "    <tr>\n",
       "      <th>43</th>\n",
       "      <td>Animal Crossing: Wild World</td>\n",
       "      <td>DS</td>\n",
       "      <td>2005.0</td>\n",
       "      <td>Simulation</td>\n",
       "      <td>2.50</td>\n",
       "      <td>3.45</td>\n",
       "      <td>5.33</td>\n",
       "      <td>0.86</td>\n",
       "      <td>86.0</td>\n",
       "      <td>8.7</td>\n",
       "      <td>E</td>\n",
       "    </tr>\n",
       "    <tr>\n",
       "      <th>44</th>\n",
       "      <td>Halo 3</td>\n",
       "      <td>X360</td>\n",
       "      <td>2007.0</td>\n",
       "      <td>Shooter</td>\n",
       "      <td>7.97</td>\n",
       "      <td>2.81</td>\n",
       "      <td>0.13</td>\n",
       "      <td>1.21</td>\n",
       "      <td>94.0</td>\n",
       "      <td>7.8</td>\n",
       "      <td>M</td>\n",
       "    </tr>\n",
       "    <tr>\n",
       "      <th>45</th>\n",
       "      <td>Super Mario 64</td>\n",
       "      <td>N64</td>\n",
       "      <td>1996.0</td>\n",
       "      <td>Platform</td>\n",
       "      <td>6.91</td>\n",
       "      <td>2.85</td>\n",
       "      <td>1.91</td>\n",
       "      <td>0.23</td>\n",
       "      <td>NaN</td>\n",
       "      <td>NaN</td>\n",
       "      <td>NaN</td>\n",
       "    </tr>\n",
       "    <tr>\n",
       "      <th>46</th>\n",
       "      <td>Pokemon HeartGold/Pokemon SoulSilver</td>\n",
       "      <td>DS</td>\n",
       "      <td>2009.0</td>\n",
       "      <td>Action</td>\n",
       "      <td>4.34</td>\n",
       "      <td>2.71</td>\n",
       "      <td>3.96</td>\n",
       "      <td>0.76</td>\n",
       "      <td>NaN</td>\n",
       "      <td>NaN</td>\n",
       "      <td>NaN</td>\n",
       "    </tr>\n",
       "    <tr>\n",
       "      <th>47</th>\n",
       "      <td>Pokemon Omega Ruby/Pokemon Alpha Sapphire</td>\n",
       "      <td>3DS</td>\n",
       "      <td>2014.0</td>\n",
       "      <td>Role-Playing</td>\n",
       "      <td>4.35</td>\n",
       "      <td>3.49</td>\n",
       "      <td>3.10</td>\n",
       "      <td>0.74</td>\n",
       "      <td>NaN</td>\n",
       "      <td>NaN</td>\n",
       "      <td>NaN</td>\n",
       "    </tr>\n",
       "    <tr>\n",
       "      <th>48</th>\n",
       "      <td>Gran Turismo 4</td>\n",
       "      <td>PS2</td>\n",
       "      <td>2004.0</td>\n",
       "      <td>Racing</td>\n",
       "      <td>3.01</td>\n",
       "      <td>0.01</td>\n",
       "      <td>1.10</td>\n",
       "      <td>7.53</td>\n",
       "      <td>89.0</td>\n",
       "      <td>8.5</td>\n",
       "      <td>E</td>\n",
       "    </tr>\n",
       "    <tr>\n",
       "      <th>49</th>\n",
       "      <td>Super Mario Galaxy</td>\n",
       "      <td>Wii</td>\n",
       "      <td>2007.0</td>\n",
       "      <td>Platform</td>\n",
       "      <td>6.06</td>\n",
       "      <td>3.35</td>\n",
       "      <td>1.20</td>\n",
       "      <td>0.74</td>\n",
       "      <td>97.0</td>\n",
       "      <td>8.9</td>\n",
       "      <td>E</td>\n",
       "    </tr>\n",
       "  </tbody>\n",
       "</table>\n",
       "</div>"
      ],
      "text/plain": [
       "                                            Name Platform  Year_of_Release  \\\n",
       "0                                     Wii Sports      Wii           2006.0   \n",
       "1                              Super Mario Bros.      NES           1985.0   \n",
       "2                                 Mario Kart Wii      Wii           2008.0   \n",
       "3                              Wii Sports Resort      Wii           2009.0   \n",
       "4                       Pokemon Red/Pokemon Blue       GB           1996.0   \n",
       "5                                         Tetris       GB           1989.0   \n",
       "6                          New Super Mario Bros.       DS           2006.0   \n",
       "7                                       Wii Play      Wii           2006.0   \n",
       "8                      New Super Mario Bros. Wii      Wii           2009.0   \n",
       "9                                      Duck Hunt      NES           1984.0   \n",
       "10                                    Nintendogs       DS           2005.0   \n",
       "11                                 Mario Kart DS       DS           2005.0   \n",
       "12                   Pokemon Gold/Pokemon Silver       GB           1999.0   \n",
       "13                                       Wii Fit      Wii           2007.0   \n",
       "14                            Kinect Adventures!     X360           2010.0   \n",
       "15                                  Wii Fit Plus      Wii           2009.0   \n",
       "16                            Grand Theft Auto V      PS3           2013.0   \n",
       "17                 Grand Theft Auto: San Andreas      PS2           2004.0   \n",
       "18                             Super Mario World     SNES           1990.0   \n",
       "19  Brain Age: Train Your Brain in Minutes a Day       DS           2005.0   \n",
       "20                 Pokemon Diamond/Pokemon Pearl       DS           2006.0   \n",
       "21                              Super Mario Land       GB           1989.0   \n",
       "22                           Super Mario Bros. 3      NES           1988.0   \n",
       "23                            Grand Theft Auto V     X360           2013.0   \n",
       "24                   Grand Theft Auto: Vice City      PS2           2002.0   \n",
       "25                 Pokemon Ruby/Pokemon Sapphire      GBA           2002.0   \n",
       "26   Brain Age 2: More Training in Minutes a Day       DS           2005.0   \n",
       "27                   Pokemon Black/Pokemon White       DS           2010.0   \n",
       "28                        Gran Turismo 3: A-Spec      PS2           2001.0   \n",
       "29                Call of Duty: Modern Warfare 3     X360           2011.0   \n",
       "30       Pokémon Yellow: Special Pikachu Edition       GB           1998.0   \n",
       "31                     Call of Duty: Black Ops 3      PS4           2015.0   \n",
       "32                       Call of Duty: Black Ops     X360           2010.0   \n",
       "33                           Pokemon X/Pokemon Y      3DS           2013.0   \n",
       "34                    Call of Duty: Black Ops II      PS3           2012.0   \n",
       "35                    Call of Duty: Black Ops II     X360           2012.0   \n",
       "36                Call of Duty: Modern Warfare 2     X360           2009.0   \n",
       "37                Call of Duty: Modern Warfare 3      PS3           2011.0   \n",
       "38                          Grand Theft Auto III      PS2           2001.0   \n",
       "39                       Super Smash Bros. Brawl      Wii           2008.0   \n",
       "40                                  Mario Kart 7      3DS           2011.0   \n",
       "41                       Call of Duty: Black Ops      PS3           2010.0   \n",
       "42                            Grand Theft Auto V      PS4           2014.0   \n",
       "43                   Animal Crossing: Wild World       DS           2005.0   \n",
       "44                                        Halo 3     X360           2007.0   \n",
       "45                                Super Mario 64      N64           1996.0   \n",
       "46          Pokemon HeartGold/Pokemon SoulSilver       DS           2009.0   \n",
       "47     Pokemon Omega Ruby/Pokemon Alpha Sapphire      3DS           2014.0   \n",
       "48                                Gran Turismo 4      PS2           2004.0   \n",
       "49                            Super Mario Galaxy      Wii           2007.0   \n",
       "\n",
       "           Genre  NA_sales  EU_sales  JP_sales  Other_sales  Critic_Score  \\\n",
       "0         Sports     41.36     28.96      3.77         8.45          76.0   \n",
       "1       Platform     29.08      3.58      6.81         0.77           NaN   \n",
       "2         Racing     15.68     12.76      3.79         3.29          82.0   \n",
       "3         Sports     15.61     10.93      3.28         2.95          80.0   \n",
       "4   Role-Playing     11.27      8.89     10.22         1.00           NaN   \n",
       "5         Puzzle     23.20      2.26      4.22         0.58           NaN   \n",
       "6       Platform     11.28      9.14      6.50         2.88          89.0   \n",
       "7           Misc     13.96      9.18      2.93         2.84          58.0   \n",
       "8       Platform     14.44      6.94      4.70         2.24          87.0   \n",
       "9        Shooter     26.93      0.63      0.28         0.47           NaN   \n",
       "10    Simulation      9.05     10.95      1.93         2.74           NaN   \n",
       "11        Racing      9.71      7.47      4.13         1.90          91.0   \n",
       "12  Role-Playing      9.00      6.18      7.20         0.71           NaN   \n",
       "13        Sports      8.92      8.03      3.60         2.15          80.0   \n",
       "14          Misc     15.00      4.89      0.24         1.69          61.0   \n",
       "15        Sports      9.01      8.49      2.53         1.77          80.0   \n",
       "16        Action      7.02      9.09      0.98         3.96          97.0   \n",
       "17        Action      9.43      0.40      0.41        10.57          95.0   \n",
       "18      Platform     12.78      3.75      3.54         0.55           NaN   \n",
       "19          Misc      4.74      9.20      4.16         2.04          77.0   \n",
       "20  Role-Playing      6.38      4.46      6.04         1.36           NaN   \n",
       "21      Platform     10.83      2.71      4.18         0.42           NaN   \n",
       "22      Platform      9.54      3.44      3.84         0.46           NaN   \n",
       "23        Action      9.66      5.14      0.06         1.41          97.0   \n",
       "24        Action      8.41      5.49      0.47         1.78          95.0   \n",
       "25  Role-Playing      6.06      3.90      5.38         0.50           NaN   \n",
       "26        Puzzle      3.43      5.35      5.32         1.18          77.0   \n",
       "27  Role-Playing      5.51      3.17      5.65         0.80           NaN   \n",
       "28        Racing      6.85      5.09      1.87         1.16          95.0   \n",
       "29       Shooter      9.04      4.24      0.13         1.32          88.0   \n",
       "30  Role-Playing      5.89      5.04      3.12         0.59           NaN   \n",
       "31       Shooter      6.03      5.86      0.36         2.38           NaN   \n",
       "32       Shooter      9.70      3.68      0.11         1.13          87.0   \n",
       "33  Role-Playing      5.28      4.19      4.35         0.78           NaN   \n",
       "34       Shooter      4.99      5.73      0.65         2.42          83.0   \n",
       "35       Shooter      8.25      4.24      0.07         1.12          83.0   \n",
       "36       Shooter      8.52      3.59      0.08         1.28          94.0   \n",
       "37       Shooter      5.54      5.73      0.49         1.57          88.0   \n",
       "38        Action      6.99      4.51      0.30         1.30          97.0   \n",
       "39      Fighting      6.62      2.55      2.66         1.01          93.0   \n",
       "40        Racing      5.03      4.02      2.69         0.91          85.0   \n",
       "41       Shooter      5.99      4.37      0.48         1.79          88.0   \n",
       "42        Action      3.96      6.31      0.38         1.97          97.0   \n",
       "43    Simulation      2.50      3.45      5.33         0.86          86.0   \n",
       "44       Shooter      7.97      2.81      0.13         1.21          94.0   \n",
       "45      Platform      6.91      2.85      1.91         0.23           NaN   \n",
       "46        Action      4.34      2.71      3.96         0.76           NaN   \n",
       "47  Role-Playing      4.35      3.49      3.10         0.74           NaN   \n",
       "48        Racing      3.01      0.01      1.10         7.53          89.0   \n",
       "49      Platform      6.06      3.35      1.20         0.74          97.0   \n",
       "\n",
       "   User_Score Rating  \n",
       "0           8      E  \n",
       "1         NaN    NaN  \n",
       "2         8.3      E  \n",
       "3           8      E  \n",
       "4         NaN    NaN  \n",
       "5         NaN    NaN  \n",
       "6         8.5      E  \n",
       "7         6.6      E  \n",
       "8         8.4      E  \n",
       "9         NaN    NaN  \n",
       "10        NaN    NaN  \n",
       "11        8.6      E  \n",
       "12        NaN    NaN  \n",
       "13        7.7      E  \n",
       "14        6.3      E  \n",
       "15        7.4      E  \n",
       "16        8.2      M  \n",
       "17          9      M  \n",
       "18        NaN    NaN  \n",
       "19        7.9      E  \n",
       "20        NaN    NaN  \n",
       "21        NaN    NaN  \n",
       "22        NaN    NaN  \n",
       "23        8.1      M  \n",
       "24        8.7      M  \n",
       "25        NaN    NaN  \n",
       "26        7.1      E  \n",
       "27        NaN    NaN  \n",
       "28        8.4      E  \n",
       "29        3.4      M  \n",
       "30        NaN    NaN  \n",
       "31        NaN    NaN  \n",
       "32        6.3      M  \n",
       "33        NaN    NaN  \n",
       "34        5.3      M  \n",
       "35        4.8      M  \n",
       "36        6.3      M  \n",
       "37        3.2      M  \n",
       "38        8.5      M  \n",
       "39        8.9      T  \n",
       "40        8.2      E  \n",
       "41        6.4      M  \n",
       "42        8.3      M  \n",
       "43        8.7      E  \n",
       "44        7.8      M  \n",
       "45        NaN    NaN  \n",
       "46        NaN    NaN  \n",
       "47        NaN    NaN  \n",
       "48        8.5      E  \n",
       "49        8.9      E  "
      ]
     },
     "execution_count": 5,
     "metadata": {},
     "output_type": "execute_result"
    }
   ],
   "source": [
    "data.head(50)"
   ]
  },
  {
   "cell_type": "markdown",
   "metadata": {},
   "source": [
    "Итак, на первый взгляд что мы видим:\n",
    "- Названия колонок нужно привести к нижнему регистру\n",
    "- Тип данныех для года выпуска float64, нужно перевести в int\n",
    "- Есть пропуски значениях в колонках Critic_Score и User_Score, Rating посмотрим что с этим можно сделать.\n",
    "Так же это влияет на тип данных в этих колонках. Сначала уберем пропуски, а потом преобразуем их во float64."
   ]
  },
  {
   "cell_type": "code",
   "execution_count": 6,
   "metadata": {
    "scrolled": true
   },
   "outputs": [
    {
     "data": {
      "text/plain": [
       "Name                  2\n",
       "Platform              0\n",
       "Year_of_Release     269\n",
       "Genre                 2\n",
       "NA_sales              0\n",
       "EU_sales              0\n",
       "JP_sales              0\n",
       "Other_sales           0\n",
       "Critic_Score       8578\n",
       "User_Score         6701\n",
       "Rating             6766\n",
       "dtype: int64"
      ]
     },
     "execution_count": 6,
     "metadata": {},
     "output_type": "execute_result"
    }
   ],
   "source": [
    "data.isna().sum()"
   ]
  },
  {
   "cell_type": "code",
   "execution_count": 7,
   "metadata": {},
   "outputs": [
    {
     "data": {
      "text/plain": [
       "Name                0.011965\n",
       "Platform            0.000000\n",
       "Year_of_Release     1.609333\n",
       "Genre               0.011965\n",
       "NA_sales            0.000000\n",
       "EU_sales            0.000000\n",
       "JP_sales            0.000000\n",
       "Other_sales         0.000000\n",
       "Critic_Score       51.319174\n",
       "User_Score         40.089740\n",
       "Rating             40.478612\n",
       "dtype: float64"
      ]
     },
     "execution_count": 7,
     "metadata": {},
     "output_type": "execute_result"
    }
   ],
   "source": [
    "data.isna().sum()/len(data)*100"
   ]
  },
  {
   "cell_type": "markdown",
   "metadata": {},
   "source": [
    "Если год выпуска, это всего 269 линий пропущено от общего массива, что составляет примерно 1,5% , что не критично.\n",
    "То пропуски в последних 3 столбцах Critic_Score, User_Score , Rating  это уже критично, такой объем данных нельзя просто так удалить."
   ]
  },
  {
   "cell_type": "code",
   "execution_count": 8,
   "metadata": {},
   "outputs": [
    {
     "data": {
      "text/plain": [
       "Index(['Name', 'Platform', 'Year_of_Release', 'Genre', 'NA_sales', 'EU_sales',\n",
       "       'JP_sales', 'Other_sales', 'Critic_Score', 'User_Score', 'Rating'],\n",
       "      dtype='object')"
      ]
     },
     "execution_count": 8,
     "metadata": {},
     "output_type": "execute_result"
    }
   ],
   "source": [
    "data.columns"
   ]
  },
  {
   "cell_type": "markdown",
   "metadata": {},
   "source": [
    "Выведем отдельно названия колонок, чтобы их было легче копировать."
   ]
  },
  {
   "cell_type": "code",
   "execution_count": 9,
   "metadata": {},
   "outputs": [
    {
     "data": {
      "text/plain": [
       "0"
      ]
     },
     "execution_count": 9,
     "metadata": {},
     "output_type": "execute_result"
    }
   ],
   "source": [
    "data.duplicated().sum()"
   ]
  },
  {
   "cell_type": "markdown",
   "metadata": {},
   "source": [
    "На всякий случай проверили есть ли явные дубликаты."
   ]
  },
  {
   "cell_type": "markdown",
   "metadata": {},
   "source": [
    "На первом этапе мы открыли файл, ознакомились с информацией. Выявили, что есть пропуски, а так же неверные типы данных в колонках. Так же поняли, что хотим перевести названия колонок в нижний регистр. Сам файл состоит из 16715 строк и 11 колонок.  "
   ]
  },
  {
   "cell_type": "markdown",
   "metadata": {},
   "source": [
    "### Предобработка данных"
   ]
  },
  {
   "cell_type": "markdown",
   "metadata": {},
   "source": [
    "Сначала заменим названия столбцов (приведем к нижнему регистру)"
   ]
  },
  {
   "cell_type": "code",
   "execution_count": 10,
   "metadata": {},
   "outputs": [],
   "source": [
    "data.columns = data.columns.str.lower()"
   ]
  },
  {
   "cell_type": "code",
   "execution_count": 11,
   "metadata": {},
   "outputs": [
    {
     "data": {
      "text/plain": [
       "Index(['name', 'platform', 'year_of_release', 'genre', 'na_sales', 'eu_sales',\n",
       "       'jp_sales', 'other_sales', 'critic_score', 'user_score', 'rating'],\n",
       "      dtype='object')"
      ]
     },
     "execution_count": 11,
     "metadata": {},
     "output_type": "execute_result"
    }
   ],
   "source": [
    "data.columns"
   ]
  },
  {
   "cell_type": "markdown",
   "metadata": {},
   "source": [
    "Колонки готовы, теперь преобразуем год релиза в int."
   ]
  },
  {
   "cell_type": "code",
   "execution_count": 12,
   "metadata": {},
   "outputs": [
    {
     "data": {
      "text/plain": [
       "array([1980., 1981., 1982., 1983., 1984., 1985., 1986., 1987., 1988.,\n",
       "       1989., 1990., 1991., 1992., 1993., 1994., 1995., 1996., 1997.,\n",
       "       1998., 1999., 2000., 2001., 2002., 2003., 2004., 2005., 2006.,\n",
       "       2007., 2008., 2009., 2010., 2011., 2012., 2013., 2014., 2015.,\n",
       "       2016.,   nan])"
      ]
     },
     "execution_count": 12,
     "metadata": {},
     "output_type": "execute_result"
    }
   ],
   "source": [
    "data['year_of_release'].sort_values().unique()"
   ]
  },
  {
   "cell_type": "code",
   "execution_count": 13,
   "metadata": {},
   "outputs": [],
   "source": [
    "data['year_of_release'] = data['year_of_release'].fillna('0')"
   ]
  },
  {
   "cell_type": "code",
   "execution_count": 14,
   "metadata": {},
   "outputs": [
    {
     "data": {
      "text/plain": [
       "0"
      ]
     },
     "execution_count": 14,
     "metadata": {},
     "output_type": "execute_result"
    }
   ],
   "source": [
    "data['year_of_release'].isna().sum()"
   ]
  },
  {
   "cell_type": "code",
   "execution_count": 15,
   "metadata": {},
   "outputs": [],
   "source": [
    "data['year_of_release'] = data['year_of_release'].astype(int)"
   ]
  },
  {
   "cell_type": "code",
   "execution_count": 16,
   "metadata": {
    "scrolled": true
   },
   "outputs": [
    {
     "name": "stdout",
     "output_type": "stream",
     "text": [
      "<class 'pandas.core.frame.DataFrame'>\n",
      "RangeIndex: 16715 entries, 0 to 16714\n",
      "Data columns (total 11 columns):\n",
      " #   Column           Non-Null Count  Dtype  \n",
      "---  ------           --------------  -----  \n",
      " 0   name             16713 non-null  object \n",
      " 1   platform         16715 non-null  object \n",
      " 2   year_of_release  16715 non-null  int64  \n",
      " 3   genre            16713 non-null  object \n",
      " 4   na_sales         16715 non-null  float64\n",
      " 5   eu_sales         16715 non-null  float64\n",
      " 6   jp_sales         16715 non-null  float64\n",
      " 7   other_sales      16715 non-null  float64\n",
      " 8   critic_score     8137 non-null   float64\n",
      " 9   user_score       10014 non-null  object \n",
      " 10  rating           9949 non-null   object \n",
      "dtypes: float64(5), int64(1), object(5)\n",
      "memory usage: 1.4+ MB\n"
     ]
    }
   ],
   "source": [
    "data.info() "
   ]
  },
  {
   "cell_type": "markdown",
   "metadata": {},
   "source": [
    "Т.к. я не хочу удалять строки , из-за отсутствия года выпуска игры, я все значения заменил на 0. После этого проверил, что пропусков действительно в колонке year_of_release нет.\n",
    "Далее перевел тип данных в этой колонке в int64  и проверил это."
   ]
  },
  {
   "cell_type": "markdown",
   "metadata": {},
   "source": [
    "Теперь займемся пропусками в колонках с оценками."
   ]
  },
  {
   "cell_type": "code",
   "execution_count": 17,
   "metadata": {
    "scrolled": true
   },
   "outputs": [
    {
     "data": {
      "text/plain": [
       "array(['0', '0.2', '0.3', '0.5', '0.6', '0.7', '0.9', '1', '1.1', '1.2',\n",
       "       '1.3', '1.4', '1.5', '1.6', '1.7', '1.8', '1.9', '2', '2.1', '2.2',\n",
       "       '2.3', '2.4', '2.5', '2.6', '2.7', '2.8', '2.9', '3', '3.1', '3.2',\n",
       "       '3.3', '3.4', '3.5', '3.6', '3.7', '3.8', '3.9', '4', '4.1', '4.2',\n",
       "       '4.3', '4.4', '4.5', '4.6', '4.7', '4.8', '4.9', '5', '5.1', '5.2',\n",
       "       '5.3', '5.4', '5.5', '5.6', '5.7', '5.8', '5.9', '6', '6.1', '6.2',\n",
       "       '6.3', '6.4', '6.5', '6.6', '6.7', '6.8', '6.9', '7', '7.1', '7.2',\n",
       "       '7.3', '7.4', '7.5', '7.6', '7.7', '7.8', '7.9', '8', '8.1', '8.2',\n",
       "       '8.3', '8.4', '8.5', '8.6', '8.7', '8.8', '8.9', '9', '9.1', '9.2',\n",
       "       '9.3', '9.4', '9.5', '9.6', '9.7', 'tbd', nan], dtype=object)"
      ]
     },
     "execution_count": 17,
     "metadata": {},
     "output_type": "execute_result"
    }
   ],
   "source": [
    "data['user_score'].sort_values().unique()"
   ]
  },
  {
   "cell_type": "code",
   "execution_count": 18,
   "metadata": {},
   "outputs": [],
   "source": [
    "data['user_score'] = data['user_score'].str.replace('tbd', '-99')"
   ]
  },
  {
   "cell_type": "code",
   "execution_count": 19,
   "metadata": {},
   "outputs": [],
   "source": [
    "data['user_score'] = data['user_score'].fillna('-99')"
   ]
  },
  {
   "cell_type": "code",
   "execution_count": 20,
   "metadata": {},
   "outputs": [],
   "source": [
    "data['user_score'] = data['user_score'].astype(float)"
   ]
  },
  {
   "cell_type": "code",
   "execution_count": 21,
   "metadata": {},
   "outputs": [
    {
     "data": {
      "text/plain": [
       "array([-99. ,   0. ,   0.2,   0.3,   0.5,   0.6,   0.7,   0.9,   1. ,\n",
       "         1.1,   1.2,   1.3,   1.4,   1.5,   1.6,   1.7,   1.8,   1.9,\n",
       "         2. ,   2.1,   2.2,   2.3,   2.4,   2.5,   2.6,   2.7,   2.8,\n",
       "         2.9,   3. ,   3.1,   3.2,   3.3,   3.4,   3.5,   3.6,   3.7,\n",
       "         3.8,   3.9,   4. ,   4.1,   4.2,   4.3,   4.4,   4.5,   4.6,\n",
       "         4.7,   4.8,   4.9,   5. ,   5.1,   5.2,   5.3,   5.4,   5.5,\n",
       "         5.6,   5.7,   5.8,   5.9,   6. ,   6.1,   6.2,   6.3,   6.4,\n",
       "         6.5,   6.6,   6.7,   6.8,   6.9,   7. ,   7.1,   7.2,   7.3,\n",
       "         7.4,   7.5,   7.6,   7.7,   7.8,   7.9,   8. ,   8.1,   8.2,\n",
       "         8.3,   8.4,   8.5,   8.6,   8.7,   8.8,   8.9,   9. ,   9.1,\n",
       "         9.2,   9.3,   9.4,   9.5,   9.6,   9.7])"
      ]
     },
     "execution_count": 21,
     "metadata": {},
     "output_type": "execute_result"
    }
   ],
   "source": [
    "data['user_score'].sort_values().unique()"
   ]
  },
  {
   "cell_type": "code",
   "execution_count": 22,
   "metadata": {},
   "outputs": [],
   "source": [
    "data['critic_score'] = data['critic_score'].fillna('-99')"
   ]
  },
  {
   "cell_type": "code",
   "execution_count": 23,
   "metadata": {},
   "outputs": [],
   "source": [
    "data['critic_score'] = data['critic_score'].astype(float)"
   ]
  },
  {
   "cell_type": "code",
   "execution_count": 24,
   "metadata": {},
   "outputs": [],
   "source": [
    "data['rating'] = data['rating'].fillna('-99')"
   ]
  },
  {
   "cell_type": "code",
   "execution_count": 25,
   "metadata": {},
   "outputs": [
    {
     "data": {
      "text/plain": [
       "name               2\n",
       "platform           0\n",
       "year_of_release    0\n",
       "genre              2\n",
       "na_sales           0\n",
       "eu_sales           0\n",
       "jp_sales           0\n",
       "other_sales        0\n",
       "critic_score       0\n",
       "user_score         0\n",
       "rating             0\n",
       "dtype: int64"
      ]
     },
     "execution_count": 25,
     "metadata": {},
     "output_type": "execute_result"
    }
   ],
   "source": [
    "data.isna().sum()"
   ]
  },
  {
   "cell_type": "markdown",
   "metadata": {},
   "source": [
    "В оценках пользователей использовали аббревиатуру 'tbd' , что значит не применимо. Видимо на тот момент еще нельзя было оценить игру и это поле так заполняли. \n",
    "Т.к. пустые строки и оценки tbd мне нечем заполнить, я поставил -99 , чтобы не удалять такое количество строк.\n",
    "В дальнейшем анализе я буду учитывать это и уберу фильтром.\n",
    "\n",
    "Итак, после проверки, мы убедились, что есть всего пара пропусков в колонке имя и жанр, их трогать не буду, считаю не критичным.\n",
    "\n",
    "Пропуски могут возникать по нескольким причинам:\n",
    "- Возможно эту графу игнорировали, при заполнении\n",
    "- Возможно при переносе данных, была утерена часть информации\n",
    "- Возможно, это сводная таблица из нескольких баз и ранее такой графы просто не было"
   ]
  },
  {
   "cell_type": "code",
   "execution_count": 26,
   "metadata": {},
   "outputs": [
    {
     "data": {
      "text/plain": [
       "Index(['name', 'platform', 'year_of_release', 'genre', 'na_sales', 'eu_sales',\n",
       "       'jp_sales', 'other_sales', 'critic_score', 'user_score', 'rating'],\n",
       "      dtype='object')"
      ]
     },
     "execution_count": 26,
     "metadata": {},
     "output_type": "execute_result"
    }
   ],
   "source": [
    "data.columns"
   ]
  },
  {
   "cell_type": "code",
   "execution_count": 27,
   "metadata": {},
   "outputs": [],
   "source": [
    "data['total_sales'] = data['na_sales'] + data['eu_sales'] + data['jp_sales']+ data['other_sales']"
   ]
  },
  {
   "cell_type": "code",
   "execution_count": 28,
   "metadata": {},
   "outputs": [
    {
     "data": {
      "text/html": [
       "<div>\n",
       "<style scoped>\n",
       "    .dataframe tbody tr th:only-of-type {\n",
       "        vertical-align: middle;\n",
       "    }\n",
       "\n",
       "    .dataframe tbody tr th {\n",
       "        vertical-align: top;\n",
       "    }\n",
       "\n",
       "    .dataframe thead th {\n",
       "        text-align: right;\n",
       "    }\n",
       "</style>\n",
       "<table border=\"1\" class=\"dataframe\">\n",
       "  <thead>\n",
       "    <tr style=\"text-align: right;\">\n",
       "      <th></th>\n",
       "      <th>name</th>\n",
       "      <th>platform</th>\n",
       "      <th>year_of_release</th>\n",
       "      <th>genre</th>\n",
       "      <th>na_sales</th>\n",
       "      <th>eu_sales</th>\n",
       "      <th>jp_sales</th>\n",
       "      <th>other_sales</th>\n",
       "      <th>critic_score</th>\n",
       "      <th>user_score</th>\n",
       "      <th>rating</th>\n",
       "      <th>total_sales</th>\n",
       "    </tr>\n",
       "  </thead>\n",
       "  <tbody>\n",
       "    <tr>\n",
       "      <th>0</th>\n",
       "      <td>Wii Sports</td>\n",
       "      <td>Wii</td>\n",
       "      <td>2006</td>\n",
       "      <td>Sports</td>\n",
       "      <td>41.36</td>\n",
       "      <td>28.96</td>\n",
       "      <td>3.77</td>\n",
       "      <td>8.45</td>\n",
       "      <td>76.0</td>\n",
       "      <td>8.0</td>\n",
       "      <td>E</td>\n",
       "      <td>82.54</td>\n",
       "    </tr>\n",
       "    <tr>\n",
       "      <th>1</th>\n",
       "      <td>Super Mario Bros.</td>\n",
       "      <td>NES</td>\n",
       "      <td>1985</td>\n",
       "      <td>Platform</td>\n",
       "      <td>29.08</td>\n",
       "      <td>3.58</td>\n",
       "      <td>6.81</td>\n",
       "      <td>0.77</td>\n",
       "      <td>-99.0</td>\n",
       "      <td>-99.0</td>\n",
       "      <td>-99</td>\n",
       "      <td>40.24</td>\n",
       "    </tr>\n",
       "    <tr>\n",
       "      <th>2</th>\n",
       "      <td>Mario Kart Wii</td>\n",
       "      <td>Wii</td>\n",
       "      <td>2008</td>\n",
       "      <td>Racing</td>\n",
       "      <td>15.68</td>\n",
       "      <td>12.76</td>\n",
       "      <td>3.79</td>\n",
       "      <td>3.29</td>\n",
       "      <td>82.0</td>\n",
       "      <td>8.3</td>\n",
       "      <td>E</td>\n",
       "      <td>35.52</td>\n",
       "    </tr>\n",
       "    <tr>\n",
       "      <th>3</th>\n",
       "      <td>Wii Sports Resort</td>\n",
       "      <td>Wii</td>\n",
       "      <td>2009</td>\n",
       "      <td>Sports</td>\n",
       "      <td>15.61</td>\n",
       "      <td>10.93</td>\n",
       "      <td>3.28</td>\n",
       "      <td>2.95</td>\n",
       "      <td>80.0</td>\n",
       "      <td>8.0</td>\n",
       "      <td>E</td>\n",
       "      <td>32.77</td>\n",
       "    </tr>\n",
       "    <tr>\n",
       "      <th>4</th>\n",
       "      <td>Pokemon Red/Pokemon Blue</td>\n",
       "      <td>GB</td>\n",
       "      <td>1996</td>\n",
       "      <td>Role-Playing</td>\n",
       "      <td>11.27</td>\n",
       "      <td>8.89</td>\n",
       "      <td>10.22</td>\n",
       "      <td>1.00</td>\n",
       "      <td>-99.0</td>\n",
       "      <td>-99.0</td>\n",
       "      <td>-99</td>\n",
       "      <td>31.38</td>\n",
       "    </tr>\n",
       "    <tr>\n",
       "      <th>5</th>\n",
       "      <td>Tetris</td>\n",
       "      <td>GB</td>\n",
       "      <td>1989</td>\n",
       "      <td>Puzzle</td>\n",
       "      <td>23.20</td>\n",
       "      <td>2.26</td>\n",
       "      <td>4.22</td>\n",
       "      <td>0.58</td>\n",
       "      <td>-99.0</td>\n",
       "      <td>-99.0</td>\n",
       "      <td>-99</td>\n",
       "      <td>30.26</td>\n",
       "    </tr>\n",
       "    <tr>\n",
       "      <th>6</th>\n",
       "      <td>New Super Mario Bros.</td>\n",
       "      <td>DS</td>\n",
       "      <td>2006</td>\n",
       "      <td>Platform</td>\n",
       "      <td>11.28</td>\n",
       "      <td>9.14</td>\n",
       "      <td>6.50</td>\n",
       "      <td>2.88</td>\n",
       "      <td>89.0</td>\n",
       "      <td>8.5</td>\n",
       "      <td>E</td>\n",
       "      <td>29.80</td>\n",
       "    </tr>\n",
       "    <tr>\n",
       "      <th>7</th>\n",
       "      <td>Wii Play</td>\n",
       "      <td>Wii</td>\n",
       "      <td>2006</td>\n",
       "      <td>Misc</td>\n",
       "      <td>13.96</td>\n",
       "      <td>9.18</td>\n",
       "      <td>2.93</td>\n",
       "      <td>2.84</td>\n",
       "      <td>58.0</td>\n",
       "      <td>6.6</td>\n",
       "      <td>E</td>\n",
       "      <td>28.91</td>\n",
       "    </tr>\n",
       "    <tr>\n",
       "      <th>8</th>\n",
       "      <td>New Super Mario Bros. Wii</td>\n",
       "      <td>Wii</td>\n",
       "      <td>2009</td>\n",
       "      <td>Platform</td>\n",
       "      <td>14.44</td>\n",
       "      <td>6.94</td>\n",
       "      <td>4.70</td>\n",
       "      <td>2.24</td>\n",
       "      <td>87.0</td>\n",
       "      <td>8.4</td>\n",
       "      <td>E</td>\n",
       "      <td>28.32</td>\n",
       "    </tr>\n",
       "    <tr>\n",
       "      <th>9</th>\n",
       "      <td>Duck Hunt</td>\n",
       "      <td>NES</td>\n",
       "      <td>1984</td>\n",
       "      <td>Shooter</td>\n",
       "      <td>26.93</td>\n",
       "      <td>0.63</td>\n",
       "      <td>0.28</td>\n",
       "      <td>0.47</td>\n",
       "      <td>-99.0</td>\n",
       "      <td>-99.0</td>\n",
       "      <td>-99</td>\n",
       "      <td>28.31</td>\n",
       "    </tr>\n",
       "  </tbody>\n",
       "</table>\n",
       "</div>"
      ],
      "text/plain": [
       "                        name platform  year_of_release         genre  \\\n",
       "0                 Wii Sports      Wii             2006        Sports   \n",
       "1          Super Mario Bros.      NES             1985      Platform   \n",
       "2             Mario Kart Wii      Wii             2008        Racing   \n",
       "3          Wii Sports Resort      Wii             2009        Sports   \n",
       "4   Pokemon Red/Pokemon Blue       GB             1996  Role-Playing   \n",
       "5                     Tetris       GB             1989        Puzzle   \n",
       "6      New Super Mario Bros.       DS             2006      Platform   \n",
       "7                   Wii Play      Wii             2006          Misc   \n",
       "8  New Super Mario Bros. Wii      Wii             2009      Platform   \n",
       "9                  Duck Hunt      NES             1984       Shooter   \n",
       "\n",
       "   na_sales  eu_sales  jp_sales  other_sales  critic_score  user_score rating  \\\n",
       "0     41.36     28.96      3.77         8.45          76.0         8.0      E   \n",
       "1     29.08      3.58      6.81         0.77         -99.0       -99.0    -99   \n",
       "2     15.68     12.76      3.79         3.29          82.0         8.3      E   \n",
       "3     15.61     10.93      3.28         2.95          80.0         8.0      E   \n",
       "4     11.27      8.89     10.22         1.00         -99.0       -99.0    -99   \n",
       "5     23.20      2.26      4.22         0.58         -99.0       -99.0    -99   \n",
       "6     11.28      9.14      6.50         2.88          89.0         8.5      E   \n",
       "7     13.96      9.18      2.93         2.84          58.0         6.6      E   \n",
       "8     14.44      6.94      4.70         2.24          87.0         8.4      E   \n",
       "9     26.93      0.63      0.28         0.47         -99.0       -99.0    -99   \n",
       "\n",
       "   total_sales  \n",
       "0        82.54  \n",
       "1        40.24  \n",
       "2        35.52  \n",
       "3        32.77  \n",
       "4        31.38  \n",
       "5        30.26  \n",
       "6        29.80  \n",
       "7        28.91  \n",
       "8        28.32  \n",
       "9        28.31  "
      ]
     },
     "execution_count": 28,
     "metadata": {},
     "output_type": "execute_result"
    }
   ],
   "source": [
    "data.head(10)"
   ]
  },
  {
   "cell_type": "markdown",
   "metadata": {},
   "source": [
    "Посчитали суммарные продажи во всех регионах и записали их в отдельный столбец."
   ]
  },
  {
   "cell_type": "markdown",
   "metadata": {},
   "source": [
    "### Исследовательский анализ данных"
   ]
  },
  {
   "cell_type": "code",
   "execution_count": 29,
   "metadata": {},
   "outputs": [],
   "source": [
    "games_per_years =  data.pivot_table(index='year_of_release', values='name', aggfunc=['count'])"
   ]
  },
  {
   "cell_type": "code",
   "execution_count": 30,
   "metadata": {},
   "outputs": [
    {
     "name": "stdout",
     "output_type": "stream",
     "text": [
      "                count\n",
      "                 name\n",
      "year_of_release      \n",
      "0                 269\n",
      "1980                9\n",
      "1981               46\n",
      "1982               36\n",
      "1983               17\n",
      "1984               14\n",
      "1985               14\n",
      "1986               21\n",
      "1987               16\n",
      "1988               15\n",
      "1989               17\n",
      "1990               16\n",
      "1991               41\n",
      "1992               43\n",
      "1993               60\n",
      "1994              121\n",
      "1995              219\n",
      "1996              263\n",
      "1997              289\n",
      "1998              379\n",
      "1999              338\n",
      "2000              350\n",
      "2001              482\n",
      "2002              829\n",
      "2003              775\n",
      "2004              762\n",
      "2005              939\n",
      "2006             1006\n",
      "2007             1197\n",
      "2008             1427\n",
      "2009             1426\n",
      "2010             1255\n",
      "2011             1136\n",
      "2012              653\n",
      "2013              544\n",
      "2014              581\n",
      "2015              606\n",
      "2016              502\n"
     ]
    }
   ],
   "source": [
    "print(games_per_years)"
   ]
  },
  {
   "cell_type": "markdown",
   "metadata": {},
   "source": [
    "Сгрупировав количество вышедших игр по годам, видим, что в 80-е это единицы ( ну ладно пара десятков), далее в 90-е счет перевалил на сотни, а вот пик в тысячи пришелся на 2006-2011 года, далее пошел спад, видимо уже стали не просто их выпускать, а работать над качеством.\n",
    "Так что данные до 2000-х не так уж и важны я считаю, было мало игр и все играли только их, потом у людей появился выбор, а там уже оценки по сравнение с конкурентами и платформы со своими эксклюзивами."
   ]
  },
  {
   "cell_type": "code",
   "execution_count": 31,
   "metadata": {},
   "outputs": [],
   "source": [
    "years_true = data.query('year_of_release != 0')"
   ]
  },
  {
   "cell_type": "code",
   "execution_count": 32,
   "metadata": {
    "scrolled": false
   },
   "outputs": [
    {
     "data": {
      "image/png": "[encoded data removed]",
      "text/plain": [
       "<Figure size 432x288 with 1 Axes>"
      ]
     },
     "metadata": {
      "needs_background": "light"
     },
     "output_type": "display_data"
    }
   ],
   "source": [
    "games_per_years_plot = years_true.pivot_table(index='year_of_release', values='name', aggfunc=['count']).plot(legend=None)"
   ]
  },
  {
   "cell_type": "markdown",
   "metadata": {},
   "source": [
    "Приложил график, для наглядности. 2000-2010 эра игр, играли все. Даже моя мама."
   ]
  },
  {
   "cell_type": "markdown",
   "metadata": {},
   "source": [
    "Теперь посмотрим, какие платформы, как продавались сумарно. Далее возьмем топ продаваемых платформ и выведем продажи по годам."
   ]
  },
  {
   "cell_type": "code",
   "execution_count": 33,
   "metadata": {},
   "outputs": [],
   "source": [
    "sales_by_platform = data.pivot_table(index = 'platform', values = 'total_sales', aggfunc = sum)\\\n",
    "    .sort_values('total_sales', ascending = False)\\\n",
    "    .reset_index()"
   ]
  },
  {
   "cell_type": "code",
   "execution_count": 34,
   "metadata": {},
   "outputs": [
    {
     "name": "stdout",
     "output_type": "stream",
     "text": [
      "   platform  total_sales\n",
      "0       PS2      1255.77\n",
      "1      X360       971.42\n",
      "2       PS3       939.65\n",
      "3       Wii       907.51\n",
      "4        DS       806.12\n",
      "5        PS       730.86\n",
      "6       GBA       317.85\n",
      "7       PS4       314.14\n",
      "8       PSP       294.05\n",
      "9        PC       259.52\n",
      "10      3DS       259.00\n",
      "11       XB       257.74\n",
      "12       GB       255.46\n",
      "13      NES       251.05\n",
      "14      N64       218.68\n",
      "15     SNES       200.04\n",
      "16       GC       198.93\n",
      "17     XOne       159.32\n",
      "18     2600        96.98\n",
      "19     WiiU        82.19\n",
      "20      PSV        54.07\n",
      "21      SAT        33.59\n",
      "22      GEN        30.77\n",
      "23       DC        15.95\n",
      "24      SCD         1.86\n",
      "25       NG         1.44\n",
      "26       WS         1.42\n",
      "27     TG16         0.16\n",
      "28      3DO         0.10\n",
      "29       GG         0.04\n",
      "30     PCFX         0.03\n"
     ]
    }
   ],
   "source": [
    "print(sales_by_platform)"
   ]
  },
  {
   "cell_type": "markdown",
   "metadata": {},
   "source": [
    "Итак, разница между 6-м местом и 7-м местом в 2 раза. Значит для отображения по годам возьму топ 6 продаж."
   ]
  },
  {
   "cell_type": "code",
   "execution_count": 35,
   "metadata": {},
   "outputs": [],
   "source": [
    "top_platform_by_year = data.query('platform == [\"PS2\" , \"X360\" , \"PS3\", \"Wii\", \"DS\", \"PS\"]')"
   ]
  },
  {
   "cell_type": "markdown",
   "metadata": {},
   "source": [
    "Сделаем датафрейм только с нужными нам платформами, и возьмем строки, с имеющимися данными по году выпуска, т.к. до этого пустые строки в годах мы заменяли 0."
   ]
  },
  {
   "cell_type": "code",
   "execution_count": 36,
   "metadata": {},
   "outputs": [],
   "source": [
    "top_platform_by_year = top_platform_by_year.query('year_of_release != 0')"
   ]
  },
  {
   "cell_type": "code",
   "execution_count": 37,
   "metadata": {
    "scrolled": true
   },
   "outputs": [
    {
     "data": {
      "text/plain": [
       "<AxesSubplot:xlabel='year_of_release'>"
      ]
     },
     "execution_count": 37,
     "metadata": {},
     "output_type": "execute_result"
    },
    {
     "data": {
      "image/png": "[encoded data removed]",
      "text/plain": [
       "<Figure size 432x288 with 1 Axes>"
      ]
     },
     "metadata": {
      "needs_background": "light"
     },
     "output_type": "display_data"
    }
   ],
   "source": [
    "top_platform_by_year.pivot_table(index='year_of_release',columns = 'platform' , values='total_sales', aggfunc=\n",
    "'sum').plot(kind='line')"
   ]
  },
  {
   "cell_type": "markdown",
   "metadata": {},
   "source": [
    "На графике видна четкая тенденция для любой платформы: сначала идет рост, достигает пика и далее начинается убыль.\n",
    "\n",
    "В среднем платформа живет около 10 лет, первые 5 стабильный рост, следующие - спад. Если хотите получать прибыль, будьте добры выпускать следующую версию платформы."
   ]
  },
  {
   "cell_type": "code",
   "execution_count": 38,
   "metadata": {},
   "outputs": [],
   "source": [
    "ps_life =  data.query('platform == [\"PS2\" , \"PS\" , \"PS3\", \"PS4\"]')"
   ]
  },
  {
   "cell_type": "code",
   "execution_count": 39,
   "metadata": {},
   "outputs": [],
   "source": [
    "ps_life = ps_life.query('year_of_release != 0')"
   ]
  },
  {
   "cell_type": "code",
   "execution_count": 40,
   "metadata": {
    "scrolled": true
   },
   "outputs": [
    {
     "data": {
      "image/png": "[encoded data removed]",
      "text/plain": [
       "<Figure size 432x288 with 1 Axes>"
      ]
     },
     "metadata": {
      "needs_background": "light"
     },
     "output_type": "display_data"
    }
   ],
   "source": [
    "ps_life.pivot_table(index='year_of_release',columns = 'platform' , values='total_sales', aggfunc=\n",
    "'sum').plot(kind='line');"
   ]
  },
  {
   "cell_type": "markdown",
   "metadata": {},
   "source": [
    "Этого нет в задании, но инетерсно посмотреть как платформа ведет себя на уровне одной компании. Я всегда слышал что PS2 была самой культовой у Сони, что и показывает нам график. Видна четкая связь, в середине цикла затухания, выходит следующая версия, при этом какую-то часть времени они существуют параллельно."
   ]
  },
  {
   "cell_type": "markdown",
   "metadata": {},
   "source": [
    "Теперь сделаем отдельный датафрейм, где возьмем только данные за актауальный период.\n",
    "\n",
    "Ранее мы сортировали данные по играм и годам и видно, что начиная с 2012 игр выходить стало меньше в 2 раза, чем в период с 2006 по 2011.\n",
    "А учитывая тот факт, что средняя продолжительность жизни платформы 10 лет, и первые 5 лет это рост, то я принимаю решение, актуальные данные = последние 5 лет ( 2012-2016)"
   ]
  },
  {
   "cell_type": "code",
   "execution_count": 41,
   "metadata": {},
   "outputs": [],
   "source": [
    "df = data.query('year_of_release > 2011')"
   ]
  },
  {
   "cell_type": "markdown",
   "metadata": {},
   "source": [
    "Посмотрим, какие платформы лидируют в \"нашем веке\""
   ]
  },
  {
   "cell_type": "code",
   "execution_count": 42,
   "metadata": {},
   "outputs": [],
   "source": [
    "sales_by_platform_new = df.pivot_table(index = 'platform', values = 'total_sales', aggfunc = sum)\\\n",
    "    .sort_values('total_sales', ascending = False)\\\n",
    "    .reset_index()"
   ]
  },
  {
   "cell_type": "code",
   "execution_count": 43,
   "metadata": {
    "scrolled": true
   },
   "outputs": [
    {
     "data": {
      "text/html": [
       "<div>\n",
       "<style scoped>\n",
       "    .dataframe tbody tr th:only-of-type {\n",
       "        vertical-align: middle;\n",
       "    }\n",
       "\n",
       "    .dataframe tbody tr th {\n",
       "        vertical-align: top;\n",
       "    }\n",
       "\n",
       "    .dataframe thead th {\n",
       "        text-align: right;\n",
       "    }\n",
       "</style>\n",
       "<table border=\"1\" class=\"dataframe\">\n",
       "  <thead>\n",
       "    <tr style=\"text-align: right;\">\n",
       "      <th></th>\n",
       "      <th>platform</th>\n",
       "      <th>total_sales</th>\n",
       "    </tr>\n",
       "  </thead>\n",
       "  <tbody>\n",
       "    <tr>\n",
       "      <th>0</th>\n",
       "      <td>PS4</td>\n",
       "      <td>314.14</td>\n",
       "    </tr>\n",
       "    <tr>\n",
       "      <th>1</th>\n",
       "      <td>PS3</td>\n",
       "      <td>288.79</td>\n",
       "    </tr>\n",
       "    <tr>\n",
       "      <th>2</th>\n",
       "      <td>X360</td>\n",
       "      <td>236.54</td>\n",
       "    </tr>\n",
       "    <tr>\n",
       "      <th>3</th>\n",
       "      <td>3DS</td>\n",
       "      <td>194.61</td>\n",
       "    </tr>\n",
       "    <tr>\n",
       "      <th>4</th>\n",
       "      <td>XOne</td>\n",
       "      <td>159.32</td>\n",
       "    </tr>\n",
       "    <tr>\n",
       "      <th>5</th>\n",
       "      <td>WiiU</td>\n",
       "      <td>82.19</td>\n",
       "    </tr>\n",
       "    <tr>\n",
       "      <th>6</th>\n",
       "      <td>PC</td>\n",
       "      <td>62.65</td>\n",
       "    </tr>\n",
       "    <tr>\n",
       "      <th>7</th>\n",
       "      <td>PSV</td>\n",
       "      <td>49.18</td>\n",
       "    </tr>\n",
       "    <tr>\n",
       "      <th>8</th>\n",
       "      <td>Wii</td>\n",
       "      <td>35.37</td>\n",
       "    </tr>\n",
       "    <tr>\n",
       "      <th>9</th>\n",
       "      <td>DS</td>\n",
       "      <td>12.55</td>\n",
       "    </tr>\n",
       "    <tr>\n",
       "      <th>10</th>\n",
       "      <td>PSP</td>\n",
       "      <td>11.19</td>\n",
       "    </tr>\n",
       "  </tbody>\n",
       "</table>\n",
       "</div>"
      ],
      "text/plain": [
       "   platform  total_sales\n",
       "0       PS4       314.14\n",
       "1       PS3       288.79\n",
       "2      X360       236.54\n",
       "3       3DS       194.61\n",
       "4      XOne       159.32\n",
       "5      WiiU        82.19\n",
       "6        PC        62.65\n",
       "7       PSV        49.18\n",
       "8       Wii        35.37\n",
       "9        DS        12.55\n",
       "10      PSP        11.19"
      ]
     },
     "execution_count": 43,
     "metadata": {},
     "output_type": "execute_result"
    }
   ],
   "source": [
    "sales_by_platform_new"
   ]
  },
  {
   "cell_type": "markdown",
   "metadata": {},
   "source": [
    "Видно, что Сони молодцы, не зря все мои знакомые сидят на \"плойках\"."
   ]
  },
  {
   "cell_type": "code",
   "execution_count": 44,
   "metadata": {
    "scrolled": true
   },
   "outputs": [
    {
     "data": {
      "image/png": "[encoded data removed]",
      "text/plain": [
       "<Figure size 432x288 with 1 Axes>"
      ]
     },
     "metadata": {
      "needs_background": "light"
     },
     "output_type": "display_data"
    }
   ],
   "source": [
    "import matplotlib.pyplot as plt\n",
    "df.pivot_table(index='year_of_release',columns = 'platform' , values='total_sales', aggfunc=\n",
    "'sum').plot(kind='line')\n",
    "plt.xticks([2012,2013,2014,2015,2016]);"
   ]
  },
  {
   "cell_type": "markdown",
   "metadata": {},
   "source": [
    "Если не брать мелкие затухающие продажи, то из 4 топ игроков видно, что PS3 и X360 уже стремятся к 0, их эра кончилась. На 2016 год PS4 и X0ne достигли своего пика, а значит стоит ожидать прихода следующих поколений им на смену. \n",
    "Однако есть вероятность, что данные за 2016 не полные и обе платформы продолжат расти. Нужно обратится к программистам, узнать, все ли данные туда вошли за 2016.\n",
    "\n",
    "П.с. сейчас то мы знаем, что это PS5 и Хbox serises X. А вот по результатам анализа, мы этого только ожидаем."
   ]
  },
  {
   "cell_type": "markdown",
   "metadata": {},
   "source": [
    "Построим график «ящик с усами» по глобальным продажам игр в разбивке по платформам. "
   ]
  },
  {
   "cell_type": "code",
   "execution_count": 45,
   "metadata": {},
   "outputs": [],
   "source": [
    "top_platform_by_year_new_age = df.query('platform == [\"PS4\" , \"PS3\" , \"X360\", \"3DS\" , \"XOne\"]')"
   ]
  },
  {
   "cell_type": "code",
   "execution_count": 46,
   "metadata": {},
   "outputs": [
    {
     "data": {
      "image/png": "[encoded data removed]",
      "text/plain": [
       "<Figure size 432x288 with 1 Axes>"
      ]
     },
     "metadata": {
      "needs_background": "light"
     },
     "output_type": "display_data"
    }
   ],
   "source": [
    "#top_platform_by_year_new_age.pivot_table(index='year_of_release',columns = 'platform' , values='year_of_release', aggfunc=\n",
    "#'sum').boxplot()\n",
    "\n",
    "top_platform_by_year_new_age.boxplot(column = 'total_sales' , by = 'platform' , showfliers = False)\n",
    "plt.show()"
   ]
  },
  {
   "cell_type": "markdown",
   "metadata": {},
   "source": [
    "\n",
    "\n",
    "Медиана у Х360 выше конкуретнов и нижнее значение тоже. Верхняя граница тоже вырывается в лидеры. Судя по всему игры для этой платформы самые прибыльные. или наоборот, платформа приносит играм доходы.\n",
    "    \n",
    "Если сравнивать поколения парами, то Х360 явно лидирует по отношению к ПС3, и ПС4 немного не дотягивает до Хоне, хотя вышли в свет они с разницей всегов  неделю.\n"
   ]
  },
  {
   "cell_type": "markdown",
   "metadata": {},
   "source": [
    "Если сравнить с графиками, то результат тот же. У всех приставок медиана примерно посередине. Отличается только PS3, у нее были продажи уже падают, а медиана ближе к верхней границе, т.к. мы брали не весь цикл этой платформы."
   ]
  },
  {
   "cell_type": "markdown",
   "metadata": {},
   "source": [
    "Теперь посмотрим, как влияют на продажи внутри одной популярной платформы отзывы пользователей и критиков. \n",
    "\n",
    "Для этого построим диаграмму рассеяния и посчитаем корреляцию между отзывами и продажами."
   ]
  },
  {
   "cell_type": "markdown",
   "metadata": {},
   "source": [
    "Для этого, не забудем, что в оценках у нас были загрушки (-99)"
   ]
  },
  {
   "cell_type": "code",
   "execution_count": 47,
   "metadata": {},
   "outputs": [],
   "source": [
    "df_graphics_user = df.query('user_score > 0')\n",
    "df_graphics_critic = df.query('critic_score > 0')"
   ]
  },
  {
   "cell_type": "code",
   "execution_count": 48,
   "metadata": {},
   "outputs": [
    {
     "name": "stdout",
     "output_type": "stream",
     "text": [
      "Коэффициент Пирсона составляет по оценкам критиков: 0.3081967459207781\n",
      "Коэффициент Пирсона составляет по оценкам игроков: 0.0044288176754932575\n"
     ]
    },
    {
     "data": {
      "text/plain": [
       "<AxesSubplot:xlabel='total_sales', ylabel='user_score'>"
      ]
     },
     "execution_count": 48,
     "metadata": {},
     "output_type": "execute_result"
    },
    {
     "data": {
      "image/png": "[encoded data removed]",
      "text/plain": [
       "<Figure size 432x288 with 1 Axes>"
      ]
     },
     "metadata": {
      "needs_background": "light"
     },
     "output_type": "display_data"
    },
    {
     "data": {
      "image/png": "[encoded data removed]",
      "text/plain": [
       "<Figure size 432x288 with 1 Axes>"
      ]
     },
     "metadata": {
      "needs_background": "light"
     },
     "output_type": "display_data"
    }
   ],
   "source": [
    "print('Коэффициент Пирсона составляет по оценкам критиков:' , df_graphics_critic['total_sales'].corr(df_graphics_critic['critic_score']))\n",
    "print('Коэффициент Пирсона составляет по оценкам игроков:' , df_graphics_user['total_sales'].corr(df_graphics_user['user_score']))\n",
    "df_graphics_critic.query('platform == \"PS4\"').plot(x='total_sales', y='critic_score', grid=True , s = 1 , c = 'red' , kind='scatter' , alpha=1)\n",
    "df_graphics_user.query('platform == \"PS4\"').plot(x='total_sales', y='user_score', grid=True , s = 1 , c = 'green' , kind='scatter' , alpha=1) "
   ]
  },
  {
   "cell_type": "markdown",
   "metadata": {},
   "source": [
    "Итак, какие выводы можно сделать. Первое, это, что влияние по Пирсону показывает, что критики больше имеют шанса угудать с продажами. Их оценка больше , чем у игроков, но в любом случае коэффициент 0.3 маловато, для этого.\n",
    "Второе, это диаграмма рассеивания показывает примерно одинаково - чем лучше оценки игр, тем лучше продажи."
   ]
  },
  {
   "cell_type": "markdown",
   "metadata": {},
   "source": [
    "Итак это была PS4, теперь посмотри на 3 поколение."
   ]
  },
  {
   "cell_type": "code",
   "execution_count": 49,
   "metadata": {
    "scrolled": true
   },
   "outputs": [
    {
     "name": "stdout",
     "output_type": "stream",
     "text": [
      "Коэффициент Пирсона составляет по оценкам критиков: 0.3314972592629587\n",
      "Коэффициент Пирсона составляет по оценкам игроков: -0.005143522887113828\n"
     ]
    },
    {
     "data": {
      "text/plain": [
       "<AxesSubplot:xlabel='total_sales', ylabel='user_score'>"
      ]
     },
     "execution_count": 49,
     "metadata": {},
     "output_type": "execute_result"
    },
    {
     "data": {
      "image/png": "[encoded data removed]",
      "text/plain": [
       "<Figure size 432x288 with 1 Axes>"
      ]
     },
     "metadata": {
      "needs_background": "light"
     },
     "output_type": "display_data"
    },
    {
     "data": {
      "image/png": "[encoded data removed]",
      "text/plain": [
       "<Figure size 432x288 with 1 Axes>"
      ]
     },
     "metadata": {
      "needs_background": "light"
     },
     "output_type": "display_data"
    }
   ],
   "source": [
    "df_ps3_c = df_graphics_critic.query('platform == \"PS3\"')\n",
    "df_ps3_u = df_graphics_user.query('platform == \"PS3\"')\n",
    "print('Коэффициент Пирсона составляет по оценкам критиков:' , df_ps3_c['total_sales'].corr(df_ps3_c['critic_score']))\n",
    "print('Коэффициент Пирсона составляет по оценкам игроков:' , df_ps3_u['total_sales'].corr(df_ps3_u['user_score']))\n",
    "\n",
    "df_graphics_critic.query('platform == \"PS3\"').plot(x='total_sales', y='critic_score', grid=True , s = 1 , c = 'red' , kind='scatter' , alpha=1)\n",
    "df_graphics_user.query('platform == \"PS3\"').plot(x='total_sales', y='user_score', grid=True , s = 1 , c = 'green' , kind='scatter' , alpha=1) "
   ]
  },
  {
   "cell_type": "markdown",
   "metadata": {},
   "source": [
    "У 3 поколения тоже самое. Ок, возьмем прямого конкурента. А коэф Пирсона для игроков, вообще отрицательный."
   ]
  },
  {
   "cell_type": "code",
   "execution_count": 50,
   "metadata": {},
   "outputs": [
    {
     "name": "stdout",
     "output_type": "stream",
     "text": [
      "Коэффициент Пирсона составляет по оценкам критиков: 0.36057348885073365\n",
      "Коэффициент Пирсона составляет по оценкам игроков: 0.0061639786462133256\n"
     ]
    },
    {
     "data": {
      "text/plain": [
       "<AxesSubplot:xlabel='total_sales', ylabel='user_score'>"
      ]
     },
     "execution_count": 50,
     "metadata": {},
     "output_type": "execute_result"
    },
    {
     "data": {
      "image/png": "[encoded data removed]",
      "text/plain": [
       "<Figure size 432x288 with 1 Axes>"
      ]
     },
     "metadata": {
      "needs_background": "light"
     },
     "output_type": "display_data"
    },
    {
     "data": {
      "image/png": "[encoded data removed]",
      "text/plain": [
       "<Figure size 432x288 with 1 Axes>"
      ]
     },
     "metadata": {
      "needs_background": "light"
     },
     "output_type": "display_data"
    }
   ],
   "source": [
    "df_x360_c = df_graphics_critic.query('platform == \"X360\"')\n",
    "df_x360_u = df_graphics_user.query('platform == \"X360\"')\n",
    "print('Коэффициент Пирсона составляет по оценкам критиков:' , df_x360_c['total_sales'].corr(df_x360_c['critic_score']))\n",
    "print('Коэффициент Пирсона составляет по оценкам игроков:' , df_x360_u['total_sales'].corr(df_x360_u['user_score']))\n",
    "\n",
    "df_graphics_critic.query('platform == \"X360\"').plot(x='total_sales', y='critic_score', grid=True , s = 1 , c = 'red' , kind='scatter' , alpha=1)\n",
    "df_graphics_user.query('platform == \"X360\"').plot(x='total_sales', y='user_score', grid=True , s = 1 , c = 'green' , kind='scatter' , alpha=1) "
   ]
  },
  {
   "cell_type": "markdown",
   "metadata": {},
   "source": [
    "Итак, можно сделать вывод. Чем лучше оценки у игры, тем выше ее продажи. А оценки игроков и критиков примерно совпадают. Но вот зависимость от оценки критиков для продаж выше, точнее она прощупывается."
   ]
  },
  {
   "cell_type": "markdown",
   "metadata": {},
   "source": [
    "Теперь посмотрим на игры со стороны жанров."
   ]
  },
  {
   "cell_type": "code",
   "execution_count": 51,
   "metadata": {},
   "outputs": [
    {
     "data": {
      "image/png": "[encoded data removed]",
      "text/plain": [
       "<Figure size 432x288 with 1 Axes>"
      ]
     },
     "metadata": {
      "needs_background": "light"
     },
     "output_type": "display_data"
    }
   ],
   "source": [
    "df.query('year_of_release >= 2012').pivot_table(index='year_of_release',columns = 'genre' , values='total_sales', aggfunc=\n",
    "'sum').plot(kind='line')\n",
    "plt.xticks([2012,2013,2014,2015,2016]);"
   ]
  },
  {
   "cell_type": "code",
   "execution_count": 52,
   "metadata": {},
   "outputs": [],
   "source": [
    "genre_by_sales = data.query('year_of_release >= 2012').pivot_table(index = 'genre', values = 'total_sales', aggfunc = sum)\\\n",
    "    .sort_values('total_sales', ascending = False)\\\n",
    "    .reset_index()"
   ]
  },
  {
   "cell_type": "code",
   "execution_count": 53,
   "metadata": {},
   "outputs": [
    {
     "data": {
      "text/html": [
       "<div>\n",
       "<style scoped>\n",
       "    .dataframe tbody tr th:only-of-type {\n",
       "        vertical-align: middle;\n",
       "    }\n",
       "\n",
       "    .dataframe tbody tr th {\n",
       "        vertical-align: top;\n",
       "    }\n",
       "\n",
       "    .dataframe thead th {\n",
       "        text-align: right;\n",
       "    }\n",
       "</style>\n",
       "<table border=\"1\" class=\"dataframe\">\n",
       "  <thead>\n",
       "    <tr style=\"text-align: right;\">\n",
       "      <th></th>\n",
       "      <th>genre</th>\n",
       "      <th>total_sales</th>\n",
       "    </tr>\n",
       "  </thead>\n",
       "  <tbody>\n",
       "    <tr>\n",
       "      <th>0</th>\n",
       "      <td>Action</td>\n",
       "      <td>441.12</td>\n",
       "    </tr>\n",
       "    <tr>\n",
       "      <th>1</th>\n",
       "      <td>Shooter</td>\n",
       "      <td>304.73</td>\n",
       "    </tr>\n",
       "    <tr>\n",
       "      <th>2</th>\n",
       "      <td>Role-Playing</td>\n",
       "      <td>192.80</td>\n",
       "    </tr>\n",
       "    <tr>\n",
       "      <th>3</th>\n",
       "      <td>Sports</td>\n",
       "      <td>181.07</td>\n",
       "    </tr>\n",
       "    <tr>\n",
       "      <th>4</th>\n",
       "      <td>Misc</td>\n",
       "      <td>85.04</td>\n",
       "    </tr>\n",
       "    <tr>\n",
       "      <th>5</th>\n",
       "      <td>Platform</td>\n",
       "      <td>61.00</td>\n",
       "    </tr>\n",
       "    <tr>\n",
       "      <th>6</th>\n",
       "      <td>Racing</td>\n",
       "      <td>53.50</td>\n",
       "    </tr>\n",
       "    <tr>\n",
       "      <th>7</th>\n",
       "      <td>Fighting</td>\n",
       "      <td>44.49</td>\n",
       "    </tr>\n",
       "    <tr>\n",
       "      <th>8</th>\n",
       "      <td>Simulation</td>\n",
       "      <td>35.12</td>\n",
       "    </tr>\n",
       "    <tr>\n",
       "      <th>9</th>\n",
       "      <td>Adventure</td>\n",
       "      <td>29.43</td>\n",
       "    </tr>\n",
       "    <tr>\n",
       "      <th>10</th>\n",
       "      <td>Strategy</td>\n",
       "      <td>13.34</td>\n",
       "    </tr>\n",
       "    <tr>\n",
       "      <th>11</th>\n",
       "      <td>Puzzle</td>\n",
       "      <td>4.89</td>\n",
       "    </tr>\n",
       "  </tbody>\n",
       "</table>\n",
       "</div>"
      ],
      "text/plain": [
       "           genre  total_sales\n",
       "0         Action       441.12\n",
       "1        Shooter       304.73\n",
       "2   Role-Playing       192.80\n",
       "3         Sports       181.07\n",
       "4           Misc        85.04\n",
       "5       Platform        61.00\n",
       "6         Racing        53.50\n",
       "7       Fighting        44.49\n",
       "8     Simulation        35.12\n",
       "9      Adventure        29.43\n",
       "10      Strategy        13.34\n",
       "11        Puzzle         4.89"
      ]
     },
     "execution_count": 53,
     "metadata": {},
     "output_type": "execute_result"
    }
   ],
   "source": [
    "genre_by_sales"
   ]
  },
  {
   "cell_type": "markdown",
   "metadata": {},
   "source": [
    "Графически наверное не так понятно, как сводная. Но если взять сразу и то и то, то уже наглядно.\n",
    "Самые продаваемые это экшн, далее спортивные сумулыторы, а вот продажи стратегий и пазлов кот наплакал."
   ]
  },
  {
   "cell_type": "code",
   "execution_count": 54,
   "metadata": {},
   "outputs": [
    {
     "data": {
      "image/png": "[encoded data removed]",
      "text/plain": [
       "<Figure size 1080x576 with 1 Axes>"
      ]
     },
     "metadata": {
      "needs_background": "light"
     },
     "output_type": "display_data"
    }
   ],
   "source": [
    "df.boxplot(column = 'total_sales' , by = 'genre' , showfliers = False , figsize=(15, 8))\n",
    "plt.show()"
   ]
  },
  {
   "cell_type": "markdown",
   "metadata": {},
   "source": [
    "### Составьте портрет пользователя каждого региона (NA, EU, JP)"
   ]
  },
  {
   "cell_type": "markdown",
   "metadata": {},
   "source": [
    "Для начала посмотрим самые популярные платформы по регионам (топ-5)."
   ]
  },
  {
   "cell_type": "code",
   "execution_count": 55,
   "metadata": {},
   "outputs": [],
   "source": [
    "sales_by_platform_na = df.pivot_table(index = 'platform', values = 'na_sales', aggfunc = sum)\\\n",
    "    .sort_values('na_sales', ascending = False)\\\n",
    "    .reset_index()"
   ]
  },
  {
   "cell_type": "code",
   "execution_count": 56,
   "metadata": {},
   "outputs": [],
   "source": [
    "sales_by_platform_eu = df.pivot_table(index = 'platform', values = 'eu_sales', aggfunc = sum)\\\n",
    "    .sort_values('eu_sales', ascending = False)\\\n",
    "    .reset_index()"
   ]
  },
  {
   "cell_type": "code",
   "execution_count": 57,
   "metadata": {},
   "outputs": [],
   "source": [
    "sales_by_platform_jp = df.pivot_table(index = 'platform', values = 'jp_sales', aggfunc = sum)\\\n",
    "    .sort_values('jp_sales', ascending = False)\\\n",
    "    .reset_index()"
   ]
  },
  {
   "cell_type": "code",
   "execution_count": 58,
   "metadata": {
    "scrolled": false
   },
   "outputs": [
    {
     "name": "stdout",
     "output_type": "stream",
     "text": [
      "  platform  na_sales\n",
      "0     X360    140.05\n",
      "1      PS4    108.74\n",
      "2      PS3    103.38\n",
      "3     XOne     93.12\n",
      "4      3DS     55.31\n",
      "  platform  eu_sales\n",
      "0      PS4    141.09\n",
      "1      PS3    106.86\n",
      "2     X360     74.52\n",
      "3     XOne     51.59\n",
      "4      3DS     42.64\n",
      "  platform  jp_sales\n",
      "0      3DS     87.79\n",
      "1      PS3     35.29\n",
      "2      PSV     21.04\n",
      "3      PS4     15.96\n",
      "4     WiiU     13.01\n"
     ]
    }
   ],
   "source": [
    "print(sales_by_platform_na.head(5))\n",
    "print(sales_by_platform_eu.head(5))\n",
    "print(sales_by_platform_jp.head(5))"
   ]
  },
  {
   "cell_type": "markdown",
   "metadata": {},
   "source": [
    "Итак лидеры платформ по регионам :\n",
    "- Северная Америка X360, не удивительно, это же майкрософт, всегда хбоксов в америке было больше, чем плоек\n",
    "- Европа PS  и сразу 2 поколения, что тоже не удивительно, европа предпочитает продукцию Сони\n",
    "- Япония нинтендо и плойки, американщиной там и не пахнет.\n",
    "\n",
    "Еще обращу внимание, что в Америке приставок продается в 2-3 раза больше. Видимо, там люди более обеспеченные и молодежи есть когда играть и на что покупать деньги. Американский рынок, привлекательнее."
   ]
  },
  {
   "cell_type": "markdown",
   "metadata": {},
   "source": [
    "Теперь разберем жанры по регионам:"
   ]
  },
  {
   "cell_type": "code",
   "execution_count": 59,
   "metadata": {},
   "outputs": [],
   "source": [
    "genre_by_sales_na = df.pivot_table(index = 'genre', values = 'na_sales', aggfunc = sum)\\\n",
    "    .sort_values('na_sales', ascending = False)\\\n",
    "    .reset_index()"
   ]
  },
  {
   "cell_type": "code",
   "execution_count": 60,
   "metadata": {},
   "outputs": [],
   "source": [
    "genre_by_sales_eu = df.pivot_table(index = 'genre', values = 'eu_sales', aggfunc = sum)\\\n",
    "    .sort_values('eu_sales', ascending = False)\\\n",
    "    .reset_index()"
   ]
  },
  {
   "cell_type": "code",
   "execution_count": 61,
   "metadata": {},
   "outputs": [],
   "source": [
    "genre_by_sales_jp = df.pivot_table(index = 'genre', values = 'jp_sales', aggfunc = sum)\\\n",
    "    .sort_values('jp_sales', ascending = False)\\\n",
    "    .reset_index()"
   ]
  },
  {
   "cell_type": "code",
   "execution_count": 62,
   "metadata": {},
   "outputs": [
    {
     "name": "stdout",
     "output_type": "stream",
     "text": [
      "          genre  na_sales\n",
      "0        Action    177.84\n",
      "1       Shooter    144.77\n",
      "2        Sports     81.53\n",
      "3  Role-Playing     64.00\n",
      "4          Misc     38.19\n",
      "          genre  eu_sales\n",
      "0        Action    159.34\n",
      "1       Shooter    113.47\n",
      "2        Sports     69.09\n",
      "3  Role-Playing     48.53\n",
      "4        Racing     27.29\n",
      "          genre  jp_sales\n",
      "0  Role-Playing     65.44\n",
      "1        Action     52.80\n",
      "2          Misc     12.86\n",
      "3    Simulation     10.41\n",
      "4      Fighting      9.44\n"
     ]
    }
   ],
   "source": [
    "print(genre_by_sales_na.head(5))\n",
    "print(genre_by_sales_eu.head(5))\n",
    "print(genre_by_sales_jp.head(5))"
   ]
  },
  {
   "cell_type": "markdown",
   "metadata": {},
   "source": [
    "Предпочтения американцев и евпропейцев одинаковые, разница только, что америка на 4 место предпочла платформеры, а европа - гонки ( видимо места мало и надо хоть где-то душу отвести, у америки длинные дороги и мощные моторы, им этого не надо).  А вот Япония на первое место ставит себе ролевые игры, чтож очень похоже на японцев."
   ]
  },
  {
   "cell_type": "markdown",
   "metadata": {},
   "source": [
    "Теперь проверим влияет ли рейтинг ESRB на продажи в отдельном регионе."
   ]
  },
  {
   "cell_type": "code",
   "execution_count": 63,
   "metadata": {},
   "outputs": [],
   "source": [
    "rating_by_sales_na = df.pivot_table(index = 'rating', values = 'na_sales', aggfunc = sum)\\\n",
    "    .sort_values('na_sales', ascending = False)\\\n",
    "    .reset_index()"
   ]
  },
  {
   "cell_type": "code",
   "execution_count": 64,
   "metadata": {},
   "outputs": [],
   "source": [
    "rating_by_sales_eu = df.pivot_table(index = 'rating', values = 'eu_sales', aggfunc = sum)\\\n",
    "    .sort_values('eu_sales', ascending = False)\\\n",
    "    .reset_index()"
   ]
  },
  {
   "cell_type": "code",
   "execution_count": 65,
   "metadata": {},
   "outputs": [],
   "source": [
    "rating_by_sales_jp = df.pivot_table(index = 'rating', values = 'jp_sales', aggfunc = sum)\\\n",
    "    .sort_values('jp_sales', ascending = False)\\\n",
    "    .reset_index()"
   ]
  },
  {
   "cell_type": "code",
   "execution_count": 66,
   "metadata": {},
   "outputs": [
    {
     "data": {
      "text/html": [
       "<div>\n",
       "<style scoped>\n",
       "    .dataframe tbody tr th:only-of-type {\n",
       "        vertical-align: middle;\n",
       "    }\n",
       "\n",
       "    .dataframe tbody tr th {\n",
       "        vertical-align: top;\n",
       "    }\n",
       "\n",
       "    .dataframe thead th {\n",
       "        text-align: right;\n",
       "    }\n",
       "</style>\n",
       "<table border=\"1\" class=\"dataframe\">\n",
       "  <thead>\n",
       "    <tr style=\"text-align: right;\">\n",
       "      <th></th>\n",
       "      <th>rating</th>\n",
       "      <th>na_sales</th>\n",
       "    </tr>\n",
       "  </thead>\n",
       "  <tbody>\n",
       "    <tr>\n",
       "      <th>0</th>\n",
       "      <td>M</td>\n",
       "      <td>231.57</td>\n",
       "    </tr>\n",
       "    <tr>\n",
       "      <th>1</th>\n",
       "      <td>E</td>\n",
       "      <td>114.37</td>\n",
       "    </tr>\n",
       "    <tr>\n",
       "      <th>2</th>\n",
       "      <td>-99</td>\n",
       "      <td>103.31</td>\n",
       "    </tr>\n",
       "    <tr>\n",
       "      <th>3</th>\n",
       "      <td>E10+</td>\n",
       "      <td>75.70</td>\n",
       "    </tr>\n",
       "    <tr>\n",
       "      <th>4</th>\n",
       "      <td>T</td>\n",
       "      <td>66.02</td>\n",
       "    </tr>\n",
       "  </tbody>\n",
       "</table>\n",
       "</div>"
      ],
      "text/plain": [
       "  rating  na_sales\n",
       "0      M    231.57\n",
       "1      E    114.37\n",
       "2    -99    103.31\n",
       "3   E10+     75.70\n",
       "4      T     66.02"
      ]
     },
     "execution_count": 66,
     "metadata": {},
     "output_type": "execute_result"
    }
   ],
   "source": [
    "rating_by_sales_na"
   ]
  },
  {
   "cell_type": "code",
   "execution_count": 67,
   "metadata": {},
   "outputs": [
    {
     "data": {
      "text/html": [
       "<div>\n",
       "<style scoped>\n",
       "    .dataframe tbody tr th:only-of-type {\n",
       "        vertical-align: middle;\n",
       "    }\n",
       "\n",
       "    .dataframe tbody tr th {\n",
       "        vertical-align: top;\n",
       "    }\n",
       "\n",
       "    .dataframe thead th {\n",
       "        text-align: right;\n",
       "    }\n",
       "</style>\n",
       "<table border=\"1\" class=\"dataframe\">\n",
       "  <thead>\n",
       "    <tr style=\"text-align: right;\">\n",
       "      <th></th>\n",
       "      <th>rating</th>\n",
       "      <th>eu_sales</th>\n",
       "    </tr>\n",
       "  </thead>\n",
       "  <tbody>\n",
       "    <tr>\n",
       "      <th>0</th>\n",
       "      <td>M</td>\n",
       "      <td>193.96</td>\n",
       "    </tr>\n",
       "    <tr>\n",
       "      <th>1</th>\n",
       "      <td>E</td>\n",
       "      <td>113.03</td>\n",
       "    </tr>\n",
       "    <tr>\n",
       "      <th>2</th>\n",
       "      <td>-99</td>\n",
       "      <td>91.50</td>\n",
       "    </tr>\n",
       "    <tr>\n",
       "      <th>3</th>\n",
       "      <td>E10+</td>\n",
       "      <td>55.37</td>\n",
       "    </tr>\n",
       "    <tr>\n",
       "      <th>4</th>\n",
       "      <td>T</td>\n",
       "      <td>52.96</td>\n",
       "    </tr>\n",
       "  </tbody>\n",
       "</table>\n",
       "</div>"
      ],
      "text/plain": [
       "  rating  eu_sales\n",
       "0      M    193.96\n",
       "1      E    113.03\n",
       "2    -99     91.50\n",
       "3   E10+     55.37\n",
       "4      T     52.96"
      ]
     },
     "execution_count": 67,
     "metadata": {},
     "output_type": "execute_result"
    }
   ],
   "source": [
    "rating_by_sales_eu"
   ]
  },
  {
   "cell_type": "code",
   "execution_count": 68,
   "metadata": {},
   "outputs": [
    {
     "data": {
      "text/html": [
       "<div>\n",
       "<style scoped>\n",
       "    .dataframe tbody tr th:only-of-type {\n",
       "        vertical-align: middle;\n",
       "    }\n",
       "\n",
       "    .dataframe tbody tr th {\n",
       "        vertical-align: top;\n",
       "    }\n",
       "\n",
       "    .dataframe thead th {\n",
       "        text-align: right;\n",
       "    }\n",
       "</style>\n",
       "<table border=\"1\" class=\"dataframe\">\n",
       "  <thead>\n",
       "    <tr style=\"text-align: right;\">\n",
       "      <th></th>\n",
       "      <th>rating</th>\n",
       "      <th>jp_sales</th>\n",
       "    </tr>\n",
       "  </thead>\n",
       "  <tbody>\n",
       "    <tr>\n",
       "      <th>0</th>\n",
       "      <td>-99</td>\n",
       "      <td>108.84</td>\n",
       "    </tr>\n",
       "    <tr>\n",
       "      <th>1</th>\n",
       "      <td>E</td>\n",
       "      <td>28.33</td>\n",
       "    </tr>\n",
       "    <tr>\n",
       "      <th>2</th>\n",
       "      <td>T</td>\n",
       "      <td>26.02</td>\n",
       "    </tr>\n",
       "    <tr>\n",
       "      <th>3</th>\n",
       "      <td>M</td>\n",
       "      <td>21.20</td>\n",
       "    </tr>\n",
       "    <tr>\n",
       "      <th>4</th>\n",
       "      <td>E10+</td>\n",
       "      <td>8.19</td>\n",
       "    </tr>\n",
       "  </tbody>\n",
       "</table>\n",
       "</div>"
      ],
      "text/plain": [
       "  rating  jp_sales\n",
       "0    -99    108.84\n",
       "1      E     28.33\n",
       "2      T     26.02\n",
       "3      M     21.20\n",
       "4   E10+      8.19"
      ]
     },
     "execution_count": 68,
     "metadata": {},
     "output_type": "execute_result"
    }
   ],
   "source": [
    "rating_by_sales_jp"
   ]
  },
  {
   "cell_type": "code",
   "execution_count": 69,
   "metadata": {},
   "outputs": [],
   "source": [
    "genre_without_rating = df.query('rating == \"-99\"').pivot_table(index = 'genre', values = 'jp_sales', aggfunc = sum)\\\n",
    "    .sort_values('jp_sales', ascending = False)\\\n",
    "    .reset_index()"
   ]
  },
  {
   "cell_type": "code",
   "execution_count": 70,
   "metadata": {},
   "outputs": [
    {
     "data": {
      "text/html": [
       "<div>\n",
       "<style scoped>\n",
       "    .dataframe tbody tr th:only-of-type {\n",
       "        vertical-align: middle;\n",
       "    }\n",
       "\n",
       "    .dataframe tbody tr th {\n",
       "        vertical-align: top;\n",
       "    }\n",
       "\n",
       "    .dataframe thead th {\n",
       "        text-align: right;\n",
       "    }\n",
       "</style>\n",
       "<table border=\"1\" class=\"dataframe\">\n",
       "  <thead>\n",
       "    <tr style=\"text-align: right;\">\n",
       "      <th></th>\n",
       "      <th>genre</th>\n",
       "      <th>jp_sales</th>\n",
       "    </tr>\n",
       "  </thead>\n",
       "  <tbody>\n",
       "    <tr>\n",
       "      <th>0</th>\n",
       "      <td>Role-Playing</td>\n",
       "      <td>45.45</td>\n",
       "    </tr>\n",
       "    <tr>\n",
       "      <th>1</th>\n",
       "      <td>Action</td>\n",
       "      <td>29.39</td>\n",
       "    </tr>\n",
       "    <tr>\n",
       "      <th>2</th>\n",
       "      <td>Misc</td>\n",
       "      <td>8.08</td>\n",
       "    </tr>\n",
       "    <tr>\n",
       "      <th>3</th>\n",
       "      <td>Adventure</td>\n",
       "      <td>7.18</td>\n",
       "    </tr>\n",
       "    <tr>\n",
       "      <th>4</th>\n",
       "      <td>Fighting</td>\n",
       "      <td>5.28</td>\n",
       "    </tr>\n",
       "    <tr>\n",
       "      <th>5</th>\n",
       "      <td>Sports</td>\n",
       "      <td>4.42</td>\n",
       "    </tr>\n",
       "    <tr>\n",
       "      <th>6</th>\n",
       "      <td>Simulation</td>\n",
       "      <td>3.06</td>\n",
       "    </tr>\n",
       "    <tr>\n",
       "      <th>7</th>\n",
       "      <td>Strategy</td>\n",
       "      <td>2.56</td>\n",
       "    </tr>\n",
       "    <tr>\n",
       "      <th>8</th>\n",
       "      <td>Puzzle</td>\n",
       "      <td>1.33</td>\n",
       "    </tr>\n",
       "    <tr>\n",
       "      <th>9</th>\n",
       "      <td>Shooter</td>\n",
       "      <td>1.09</td>\n",
       "    </tr>\n",
       "    <tr>\n",
       "      <th>10</th>\n",
       "      <td>Platform</td>\n",
       "      <td>0.66</td>\n",
       "    </tr>\n",
       "    <tr>\n",
       "      <th>11</th>\n",
       "      <td>Racing</td>\n",
       "      <td>0.34</td>\n",
       "    </tr>\n",
       "  </tbody>\n",
       "</table>\n",
       "</div>"
      ],
      "text/plain": [
       "           genre  jp_sales\n",
       "0   Role-Playing     45.45\n",
       "1         Action     29.39\n",
       "2           Misc      8.08\n",
       "3      Adventure      7.18\n",
       "4       Fighting      5.28\n",
       "5         Sports      4.42\n",
       "6     Simulation      3.06\n",
       "7       Strategy      2.56\n",
       "8         Puzzle      1.33\n",
       "9        Shooter      1.09\n",
       "10      Platform      0.66\n",
       "11        Racing      0.34"
      ]
     },
     "execution_count": 70,
     "metadata": {},
     "output_type": "execute_result"
    }
   ],
   "source": [
    "genre_without_rating"
   ]
  },
  {
   "cell_type": "markdown",
   "metadata": {},
   "source": [
    "\n",
    "\n",
    "Мне даже стало интересно, это один жанр такой без рейтингов , или тут что-то еще. \n",
    "Поэтому я вывел продажи по жанрам в Японии игр без рейтинга. Но ответа мне это не дало (\n",
    "Т.к. это новый период с 12 по 16 год, то мы точно знаем, что система рейтинга по возрасту уже есть.\n",
    "Возможно это новые игры, которые только вышли и соответсвенно еще не получили рейтинг, или же он может быть 0+ и по каким-то причинам он не проставился. Возможно существуют игры, которые не требуют проверки рейтинга.\n",
    "    \n",
    "Но общая тенденция такова, что при остуствии рейтинга, отсутствуют и оценки критиков\\пользователей.\n",
    "Точного ответа к сожалению нет. Но скорее всего, не успели либо получить рейтинг, либо указать в таблицах его.\n"
   ]
  },
  {
   "cell_type": "markdown",
   "metadata": {},
   "source": [
    "Итак, что мы видим. Америка и Европа, абсолютно одинаковые продажи по рейтингам, сначала игры для взрослых (18+), далее игры для всех, следом 10+ и завершают 13+. А вот Япония имеет другой порядок, Сначала игры для всех, потом 13+, а только потом 18+ ( видимо взрослым японцам некогда работать или продажа игр, там идет по более строгим правилам, у нас эти правила мне кажется игнорируются, иначе почему мой сын 10 лет уже играет 16+ игры?)."
   ]
  },
  {
   "cell_type": "markdown",
   "metadata": {},
   "source": [
    "### Настало время проверки гипотез"
   ]
  },
  {
   "cell_type": "markdown",
   "metadata": {},
   "source": [
    "Проверим гипотезу : Средние пользовательские рейтинги платформ Xbox One и PC одинаковые"
   ]
  },
  {
   "cell_type": "markdown",
   "metadata": {},
   "source": [
    "Нулевая гипотеза будет звучать так: средние пользовательские рейтинги платформ Xbox One и PC одинаковые\n",
    "\n",
    "Альтернативная соответственно наоборот."
   ]
  },
  {
   "cell_type": "code",
   "execution_count": 71,
   "metadata": {},
   "outputs": [],
   "source": [
    "from scipy import stats as st\n",
    "import numpy as np"
   ]
  },
  {
   "cell_type": "code",
   "execution_count": 72,
   "metadata": {},
   "outputs": [],
   "source": [
    "df_theory = df.query('user_score > 0')"
   ]
  },
  {
   "cell_type": "markdown",
   "metadata": {},
   "source": [
    "Не забываем учитывать, что пустые оценки мы заменяли на  -99"
   ]
  },
  {
   "cell_type": "code",
   "execution_count": 73,
   "metadata": {
    "scrolled": true
   },
   "outputs": [
    {
     "name": "stdout",
     "output_type": "stream",
     "text": [
      "Среднее значение для Xbox : 6.521428571428572\n",
      "Среднее значение для PC : 6.4286407766990274\n",
      "p-значение: 0.5489537965134912\n",
      "Не получилось отвергнуть нулевую гипотезу\n"
     ]
    }
   ],
   "source": [
    "sample_1 = df_theory[df_theory['platform'] == 'XOne']['user_score'].dropna()\n",
    "\n",
    "sample_2  = df_theory[df_theory['platform'] == 'PC']['user_score'].dropna()\n",
    "\n",
    "print('Среднее значение для Xbox :' , sample_1.mean())\n",
    "print('Среднее значение для PC :' , sample_2.mean())\n",
    "\n",
    "alpha = 0.05\n",
    "\n",
    "results = st.ttest_ind(sample_1, sample_2 , equal_var = False)\n",
    "print('p-значение:', results.pvalue)\n",
    "\n",
    "if results.pvalue < alpha:\n",
    "    print('Отвергаем нулевую гипотезу')\n",
    "else:\n",
    "    print('Не получилось отвергнуть нулевую гипотезу') \n"
   ]
  },
  {
   "cell_type": "markdown",
   "metadata": {},
   "source": [
    "Средние пользовательские оценки 6,5 и 6,4 действительно одинаковые, при критерии отклонения в 5%."
   ]
  },
  {
   "cell_type": "markdown",
   "metadata": {},
   "source": [
    "Теперь вторая теория: Средние пользовательские рейтинги жанров Action (англ. «действие», экшен-игры) и Sports (англ. «спортивные соревнования») разные."
   ]
  },
  {
   "cell_type": "markdown",
   "metadata": {},
   "source": [
    "Занчит нулевая теория, что рейтинги равны по этим жанрам, альтернативная -не равны."
   ]
  },
  {
   "cell_type": "code",
   "execution_count": 74,
   "metadata": {},
   "outputs": [
    {
     "name": "stdout",
     "output_type": "stream",
     "text": [
      "Среднее значение для Action : 6.825047801147227\n",
      "Среднее значение для Sports : 5.455897435897437\n",
      "p-значение: 4.24307776572644e-20\n",
      "Отвергаем нулевую гипотезу\n"
     ]
    }
   ],
   "source": [
    "sample_3 = df_theory[df_theory['genre'] == 'Action']['user_score'].dropna()\n",
    "\n",
    "sample_4  = df_theory[df_theory['genre'] == 'Sports']['user_score'].dropna()\n",
    "\n",
    "print('Среднее значение для Action :' , sample_3.mean())\n",
    "print('Среднее значение для Sports :' , sample_4.mean())\n",
    "\n",
    "alpha = 0.05\n",
    "\n",
    "results = st.ttest_ind(sample_3, sample_4 , equal_var = False)\n",
    "print('p-значение:', results.pvalue)\n",
    "\n",
    "if results.pvalue < alpha:\n",
    "    print('Отвергаем нулевую гипотезу')\n",
    "else:\n",
    "    print('Не получилось отвергнуть нулевую гипотезу') "
   ]
  },
  {
   "cell_type": "markdown",
   "metadata": {},
   "source": [
    "Тут хорошо видно, что рейтинг для экшн больше на 1,5 почти. И питон отверг теория. Все сходится, экшн оценивают лучше спортивных игр."
   ]
  },
  {
   "cell_type": "markdown",
   "metadata": {},
   "source": [
    "Гипотезы мы проверили, пришли к выводу, что пользователи не зависимо от платформ, принимает примерно равные решения по оценкам. А вот для рейтингов игр , пользователи ставят разные оценки. Экшн оценивают лучше, чем спортивные."
   ]
  },
  {
   "cell_type": "markdown",
   "metadata": {},
   "source": [
    "### Общий вывод по проекту"
   ]
  },
  {
   "cell_type": "markdown",
   "metadata": {},
   "source": [
    "Получив данные из свободного источника, мы в первую очередь проверили данные на необходимость доработки и получили общую информацию по файлу.\n",
    "Что мы узнали:\n",
    "Общее количество строк – 16715, но в отдельных столбцах были пропуски.\n",
    "Файл содержал данные по платформам и играм , а так же данные по продажам и рейтинговые оценки.\n",
    "\n",
    "Данные по играм были начиная с 1980 года и заканчивались 2016.\n",
    "\n",
    "Для доработки файла нам потребовалось:\n",
    "\n",
    "•\tПривести название колонок к нижнему регистру\n",
    "•\tТип данных для года выпуска float64 перевести в int\n",
    "•\tЕсть пропуски значениях в колонках Critic_Score и User_Score, Rating \n",
    "\n",
    "Т.к. я не хотел удалять какие-либо данные, то я заменил пропуски где-то заглушками (-99), а год 0. Далее , при анализе я использовал фильтр query, чтобы они не мешали анализу.\n",
    "\n",
    "Далее я добавил колонку total_sales , которая показывает сумарные продажи.\n",
    "Когда я убедился, что дубликатов и пропусков нет, я приступил к анализу.\n",
    "\n",
    "Сгрупировав количество вышедших игр по годам, видим, что в 80-е это единицы далее в 90-е счет перевалил на сотни, а вот пик в тысячи пришелся на 2006-2011 года, далее пошел спад, видимо уже стали не просто их выпускать, а работать над качеством. Так что данные до 2000-х не так уж и важны я считаю, было мало игр и все играли только их, потом у людей появился выбор, а там уже оценки по сравнение с конкурентами и платформы со своими эксклюзивами.\n",
    "\n",
    "\n",
    "Топ 6 платформ составили \"PS2\" , \"X360\" , \"PS3\", \"Wii\", \"DS\", \"PS\" \n",
    "разница между 6-м местом и 7-м местом в 2 раза. Значит для отображения по годам возьму топ 6 продаж.\n",
    "\n",
    "На графике видна четкая тенденция для любой платформы: сначала идет рост, достигает пика и далее начинается убыль.\n",
    "В среднем платформа живет около 10 лет, первые 5 стабильный рост, следующие - спад. Если хотите получать прибыль, будьте добры выпускать следующую версию платформы.\n",
    "\n",
    "\n",
    "Далее, для прогноза на 2017 год я пришел к выводу , что: ранее мы сортировали данные по играм и годам и видно, что начиная с 2012 игр выходить стало меньше в 2 раза, чем в период с 2006 по 2011. А учитывая тот факт, что средняя продолжительность жизни платформы 10 лет, и первые 5 лет это рост, то я принимаю решение, актуальные данные = последние 5 лет ( 2012-2016) \n",
    "\n",
    "\n",
    "Топ 5 платформ за последние 5 лет : PS4, PS3, X360, 3DS, XOne\n",
    "\n",
    "Если не брать мелкие затухающие продажи, то из 4 топ игроков видно, что PS3 и X360 уже стремятся к 0, их эра кончилась. На 2016 год PS4 и X0ne достигли своего пика, а значит стоит ожидать прихода следующих поколений им на смену. Однако есть вероятность, что данные за 2016 не полные и обе платформы продолжат расти. Нужно обратится к программистам, узнать, все ли данные туда вошли за 2016.\n",
    "\n",
    "\n",
    "П.с. сейчас то мы знаем, что это PS5 и Хbox serises X. А вот по результатам анализа, мы этого только ожидаем.\n",
    "\n",
    "\n",
    "Теперь посмотрим, как влияют на продажи внутри одной популярной платформы отзывы пользователей и критиков.\n",
    "\n",
    "\n",
    "Для этого построили диаграмму рассеяния и посчитали корреляцию между отзывами и продажами.\n",
    "\n",
    "\n",
    "Итак, какие выводы можно сделать.\n",
    "\n",
    "Первое, это, что влияние по Пирсону показывает, что критики больше имеют шанса угадать с продажами. Их оценка больше , чем у игроков, но в любом случае коэффициент 0.3 маловато, для этого. Второе, это диаграмма рассеивания показывает примерно одинаково - чем лучше оценки игр, тем лучше продажи.\n",
    "\n",
    "Теперь посмотрим на игры со стороны жанров.\n",
    "\n",
    "\n",
    "Самые продаваемые это шутеры, далее спортивные сумулыторы и платформеры, а вот продажи пазлов  кот наплакал.\n",
    "\n",
    "Составьте портрет пользователя каждого региона (NA, EU, JP)\n",
    "\n",
    "\n",
    "Итак лидеры платформ по регионам :\n",
    "\n",
    "•\tСеверная Америка X360, не удивительно, это же майкрософт, всегда хбоксов в америке было больше, чем плоек\n",
    "•\tЕвропа PS и сразу 2 поколения, что тоже не удивительно, европа предпочитает продукцию Сони\n",
    "•\tЯпония нинтендо и плойки, американщиной там и не пахнет.\n",
    "\n",
    "\n",
    "Еще обращу внимание, что в Америке приставок продается в 2-3 раза больше. Видимо, там люди более обеспеченные и молодежи есть когда играть и на что покупать деньги. Американский рынок, привлекательнее.\n",
    "\n",
    "\n",
    "Предпочтения американцев и евпропейцев одинаковые, разница только, что америка на 4 место предпочла платформеры, а европа - гонки ( видимо места мало и надо хоть где-то душу отвести, у америки длинные дороги и мощные моторы, им этого не надо). А вот Япония на первое место ставит себе ролевые игры, чтож очень похоже на японцев.\n",
    "\n",
    "\n",
    "Теперь проверим влияет ли рейтинг ESRB на продажи в отдельном регионе.\n",
    "\n",
    "\n",
    "Итак, что мы видим. Америка и Европа, абсолютно одинаковые продажи по рейтингам, сначала игры для взрослых (18+), далее игры для всех, потом игры без рейтинга, а следом 10+ и завершают 13+. А вот Япония имеет другой порядок, сначала игры без рейтинга , потом игры для всех, потом 13+, а только потом 18+ ( видимо взрослым японцам некогда работать или продажа игр, там идет по более строгим правилам, у нас эти правила мне кажется игнорируются, иначе почему мой сын 10 лет уже играет 16+ игры?).\n",
    "\n",
    "\n",
    "Проверим гипотезу : Средние пользовательские рейтинги платформ Xbox One и PC одинаковые\n",
    "\n",
    "\n",
    "Нулевая гипотеза будет звучать так: средние пользовательские рейтинги платформ Xbox One и PC одинаковые\n",
    "Среднее значение для Xbox : 6.521428571428572\n",
    "Среднее значение для PC : 6.4286407766990274\n",
    "p-значение: 0.5489537965134912\n",
    "Не получилось отвергнуть нулевую гипотезу\n",
    "\n",
    "Альтернативная соответственно наоборот.\n",
    "Средние пользовательские оценки 6,5 и 6,4 действительно одинаковые, при критерии отклонения в 5%.\n",
    "\n",
    "\n",
    "\n",
    "Теперь вторая теория: Средние пользовательские рейтинги жанров Action (англ. «действие», экшен-игры) и Sports (англ. «спортивные соревнования») разные.\n",
    "Занчит нулевая теория, что рейтинги равны по этим жанрам, альтернативная -не равны.\n",
    "\n",
    "Среднее значение для Action : 6.825047801147227\n",
    "Среднее значение для Sports : 5.455897435897437\n",
    "p-значение: 4.24307776572644e-20\n",
    "Отвергаем нулевую гипотезу\n",
    "\n",
    "\n",
    "Тут хорошо видно, что рейтинг для экшн больше на 1,5 почти. И питон отверг теория. Все сходится, экшн оценивают лучше спортивных игр.\n",
    "Гипотезы мы проверили, пришли к выводу, что пользователи не зависимо от платформ, принимает примерно равные решения по оценкам. А вот для рейтингов игр , пользователи ставят разные оценки. Экшн оценивают лучше, чем спортивные.\n",
    "\n",
    "\n",
    "И напоследок консолидируем общую информацию, чтобы можно было применить к стратегии ассортимента нашего магазина «Стримчик».\n",
    "\n",
    "Продажи игр с 2005 по 2011 росла, потом уже стала падать, не стоит в 2017 ждать продаж выше уровня последних 5 лет.\n",
    "\n",
    "Ассортимент для плоек и хбокс можно держать шире, там хорошие продажи. Альтернативные платформы продаются хуже, там надо относится к закупкам аккуратнее.\n",
    "\n",
    "Особое внимание к играм на платформах PS4 и X0ne, там сейчас хорошие продажи, но вот-вот пойдет спад, стоит ожидать появления новой платформы от каждого производителя и смело вкладываться в игры для новой поколения, их продажи будут расти.\n",
    "\n",
    "При выборе ассортимента игр, внимательнее стоит смотреть на оценки критиков, они больше приближены к реальности.\n",
    "\n",
    "По жанрам лучше вкладываться в экшен, шутера, ролевики и спортивные.\n",
    "\n",
    "На американском рынке лучше держаться игр для хбокс, в европе и японии для сони.\n",
    "\n",
    "У америки и европы главные жанры – экшн, шутер и спорт, у японии – игры без рейтинга , ролевики и экшн.\n",
    "\n",
    " Америка и Европа, абсолютно одинаковые продажи по рейтингам, сначала игры для взрослых (18+), далее игры для всех, следом 10+ и завершают 13+. А вот Япония имеет другой порядок, сначала игры без рейтинга, потом для всех, потом 13+, а только потом 18+ \n",
    "Если хотите опираться на рейтинг пользователей, то они одинаковые для игр на разных платформах.\n",
    "\n",
    "Рейтинг пользователей по жанрам разный, например экшн намного лучше оценивают, чем спорт.\n",
    "\n",
    "\n",
    "\n",
    "\n",
    "\n"
   ]
  },
  {
   "cell_type": "code",
   "execution_count": null,
   "metadata": {},
   "outputs": [],
   "source": []
  }
 ],
 "metadata": {
  "ExecuteTimeLog": [
   {
    "duration": 404,
    "start_time": "2023-01-31T19:31:01.742Z"
   },
   {
    "duration": 189,
    "start_time": "2023-01-31T19:31:42.038Z"
   },
   {
    "duration": 2,
    "start_time": "2023-01-31T19:31:55.007Z"
   },
   {
    "duration": 55,
    "start_time": "2023-01-31T19:31:55.028Z"
   },
   {
    "duration": 18,
    "start_time": "2023-01-31T19:31:55.085Z"
   },
   {
    "duration": 14,
    "start_time": "2023-01-31T19:32:37.014Z"
   },
   {
    "duration": 27,
    "start_time": "2023-01-31T19:34:13.221Z"
   },
   {
    "duration": 67,
    "start_time": "2023-01-31T19:39:08.664Z"
   },
   {
    "duration": 3,
    "start_time": "2023-01-31T19:39:15.695Z"
   },
   {
    "duration": 9,
    "start_time": "2023-01-31T19:44:44.930Z"
   },
   {
    "duration": 4,
    "start_time": "2023-01-31T19:48:20.339Z"
   },
   {
    "duration": 16,
    "start_time": "2023-01-31T19:49:13.972Z"
   },
   {
    "duration": 18,
    "start_time": "2023-01-31T19:50:27.683Z"
   },
   {
    "duration": 4,
    "start_time": "2023-01-31T19:54:29.303Z"
   },
   {
    "duration": 70,
    "start_time": "2023-01-31T19:54:29.313Z"
   },
   {
    "duration": 3,
    "start_time": "2023-01-31T19:54:29.385Z"
   },
   {
    "duration": 22,
    "start_time": "2023-01-31T19:54:29.390Z"
   },
   {
    "duration": 19,
    "start_time": "2023-01-31T19:54:29.414Z"
   },
   {
    "duration": 13,
    "start_time": "2023-01-31T19:54:29.436Z"
   },
   {
    "duration": 16,
    "start_time": "2023-01-31T19:54:29.451Z"
   },
   {
    "duration": 24,
    "start_time": "2023-01-31T19:54:29.469Z"
   },
   {
    "duration": 54,
    "start_time": "2023-01-31T19:57:04.406Z"
   },
   {
    "duration": 3,
    "start_time": "2023-01-31T20:04:12.539Z"
   },
   {
    "duration": 4,
    "start_time": "2023-01-31T20:04:19.599Z"
   },
   {
    "duration": 16,
    "start_time": "2023-01-31T20:08:09.759Z"
   },
   {
    "duration": 15,
    "start_time": "2023-01-31T20:11:15.030Z"
   },
   {
    "duration": 10,
    "start_time": "2023-01-31T20:11:17.856Z"
   },
   {
    "duration": 8,
    "start_time": "2023-01-31T20:11:28.351Z"
   },
   {
    "duration": 28,
    "start_time": "2023-01-31T20:11:39.836Z"
   },
   {
    "duration": 25,
    "start_time": "2023-01-31T20:11:44.800Z"
   },
   {
    "duration": 26,
    "start_time": "2023-01-31T20:11:49.318Z"
   },
   {
    "duration": 7,
    "start_time": "2023-01-31T20:15:17.514Z"
   },
   {
    "duration": 25,
    "start_time": "2023-01-31T20:15:43.686Z"
   },
   {
    "duration": 34,
    "start_time": "2023-01-31T20:15:50.933Z"
   },
   {
    "duration": 7,
    "start_time": "2023-01-31T20:18:04.429Z"
   },
   {
    "duration": 26,
    "start_time": "2023-01-31T20:18:51.812Z"
   },
   {
    "duration": 5,
    "start_time": "2023-01-31T20:19:55.099Z"
   },
   {
    "duration": 9,
    "start_time": "2023-01-31T20:20:27.578Z"
   },
   {
    "duration": 7,
    "start_time": "2023-01-31T20:20:33.644Z"
   },
   {
    "duration": 7,
    "start_time": "2023-01-31T20:21:10.587Z"
   },
   {
    "duration": 13,
    "start_time": "2023-01-31T20:21:21.325Z"
   },
   {
    "duration": 18,
    "start_time": "2023-01-31T20:22:58.148Z"
   },
   {
    "duration": 8,
    "start_time": "2023-01-31T20:24:16.533Z"
   },
   {
    "duration": 14,
    "start_time": "2023-01-31T20:24:25.912Z"
   },
   {
    "duration": 8,
    "start_time": "2023-01-31T20:24:34.605Z"
   },
   {
    "duration": 15,
    "start_time": "2023-01-31T20:24:45.868Z"
   },
   {
    "duration": 11,
    "start_time": "2023-01-31T20:25:02.555Z"
   },
   {
    "duration": 4,
    "start_time": "2023-01-31T20:25:05.606Z"
   },
   {
    "duration": 71,
    "start_time": "2023-01-31T20:25:05.611Z"
   },
   {
    "duration": 3,
    "start_time": "2023-01-31T20:25:05.684Z"
   },
   {
    "duration": 21,
    "start_time": "2023-01-31T20:25:05.690Z"
   },
   {
    "duration": 35,
    "start_time": "2023-01-31T20:25:05.713Z"
   },
   {
    "duration": 11,
    "start_time": "2023-01-31T20:25:05.751Z"
   },
   {
    "duration": 5,
    "start_time": "2023-01-31T20:25:05.765Z"
   },
   {
    "duration": 26,
    "start_time": "2023-01-31T20:25:05.772Z"
   },
   {
    "duration": 4,
    "start_time": "2023-01-31T20:25:05.800Z"
   },
   {
    "duration": 12,
    "start_time": "2023-01-31T20:25:05.836Z"
   },
   {
    "duration": 17,
    "start_time": "2023-01-31T20:25:05.850Z"
   },
   {
    "duration": 7,
    "start_time": "2023-01-31T20:25:05.868Z"
   },
   {
    "duration": 20,
    "start_time": "2023-01-31T20:25:05.876Z"
   },
   {
    "duration": 0,
    "start_time": "2023-01-31T20:25:05.898Z"
   },
   {
    "duration": 7,
    "start_time": "2023-01-31T20:25:24.427Z"
   },
   {
    "duration": 5,
    "start_time": "2023-01-31T20:25:36.651Z"
   },
   {
    "duration": 6,
    "start_time": "2023-01-31T20:25:39.777Z"
   },
   {
    "duration": 13,
    "start_time": "2023-01-31T20:26:38.196Z"
   },
   {
    "duration": 64,
    "start_time": "2023-01-31T20:27:16.222Z"
   },
   {
    "duration": 46,
    "start_time": "2023-01-31T20:27:27.907Z"
   },
   {
    "duration": 11,
    "start_time": "2023-01-31T20:27:38.117Z"
   },
   {
    "duration": 8,
    "start_time": "2023-01-31T20:27:47.357Z"
   },
   {
    "duration": 5,
    "start_time": "2023-01-31T20:30:50.085Z"
   },
   {
    "duration": 9,
    "start_time": "2023-01-31T20:31:12.596Z"
   },
   {
    "duration": 5,
    "start_time": "2023-01-31T20:31:21.324Z"
   },
   {
    "duration": 15,
    "start_time": "2023-01-31T20:31:35.516Z"
   },
   {
    "duration": 9,
    "start_time": "2023-01-31T20:33:43.199Z"
   },
   {
    "duration": 10,
    "start_time": "2023-01-31T20:33:57.223Z"
   },
   {
    "duration": 14,
    "start_time": "2023-01-31T20:34:07.647Z"
   },
   {
    "duration": 2,
    "start_time": "2023-01-31T20:34:49.952Z"
   },
   {
    "duration": 63,
    "start_time": "2023-01-31T20:34:49.959Z"
   },
   {
    "duration": 4,
    "start_time": "2023-01-31T20:34:50.024Z"
   },
   {
    "duration": 19,
    "start_time": "2023-01-31T20:34:50.030Z"
   },
   {
    "duration": 34,
    "start_time": "2023-01-31T20:34:50.051Z"
   },
   {
    "duration": 10,
    "start_time": "2023-01-31T20:34:50.089Z"
   },
   {
    "duration": 6,
    "start_time": "2023-01-31T20:34:50.101Z"
   },
   {
    "duration": 35,
    "start_time": "2023-01-31T20:34:50.108Z"
   },
   {
    "duration": 4,
    "start_time": "2023-01-31T20:34:50.144Z"
   },
   {
    "duration": 7,
    "start_time": "2023-01-31T20:34:50.149Z"
   },
   {
    "duration": 9,
    "start_time": "2023-01-31T20:34:50.158Z"
   },
   {
    "duration": 6,
    "start_time": "2023-01-31T20:34:50.169Z"
   },
   {
    "duration": 11,
    "start_time": "2023-01-31T20:34:50.177Z"
   },
   {
    "duration": 203,
    "start_time": "2023-01-31T20:34:50.190Z"
   },
   {
    "duration": 0,
    "start_time": "2023-01-31T20:34:50.394Z"
   },
   {
    "duration": 3,
    "start_time": "2023-01-31T20:35:33.124Z"
   },
   {
    "duration": 67,
    "start_time": "2023-01-31T20:35:33.130Z"
   },
   {
    "duration": 4,
    "start_time": "2023-01-31T20:35:33.199Z"
   },
   {
    "duration": 22,
    "start_time": "2023-01-31T20:35:33.205Z"
   },
   {
    "duration": 33,
    "start_time": "2023-01-31T20:35:33.229Z"
   },
   {
    "duration": 12,
    "start_time": "2023-01-31T20:35:33.264Z"
   },
   {
    "duration": 8,
    "start_time": "2023-01-31T20:35:33.278Z"
   },
   {
    "duration": 26,
    "start_time": "2023-01-31T20:35:33.287Z"
   },
   {
    "duration": 23,
    "start_time": "2023-01-31T20:35:33.315Z"
   },
   {
    "duration": 16,
    "start_time": "2023-01-31T20:35:33.341Z"
   },
   {
    "duration": 14,
    "start_time": "2023-01-31T20:35:33.359Z"
   },
   {
    "duration": 19,
    "start_time": "2023-01-31T20:35:33.376Z"
   },
   {
    "duration": 17,
    "start_time": "2023-01-31T20:35:33.399Z"
   },
   {
    "duration": 10,
    "start_time": "2023-01-31T20:35:33.418Z"
   },
   {
    "duration": 23,
    "start_time": "2023-01-31T20:35:33.430Z"
   },
   {
    "duration": 29,
    "start_time": "2023-01-31T20:36:47.270Z"
   },
   {
    "duration": 44,
    "start_time": "2023-01-31T20:37:35.863Z"
   },
   {
    "duration": 47,
    "start_time": "2023-01-31T20:37:41.229Z"
   },
   {
    "duration": 25,
    "start_time": "2023-01-31T20:37:45.633Z"
   },
   {
    "duration": 11,
    "start_time": "2023-01-31T20:39:59.565Z"
   },
   {
    "duration": 10,
    "start_time": "2023-01-31T20:44:09.325Z"
   },
   {
    "duration": 8,
    "start_time": "2023-01-31T20:44:20.349Z"
   },
   {
    "duration": 10,
    "start_time": "2023-01-31T20:55:18.687Z"
   },
   {
    "duration": 11,
    "start_time": "2023-01-31T20:55:24.181Z"
   },
   {
    "duration": 9,
    "start_time": "2023-01-31T20:56:49.977Z"
   },
   {
    "duration": 11,
    "start_time": "2023-01-31T20:56:52.378Z"
   },
   {
    "duration": 10,
    "start_time": "2023-01-31T20:56:58.579Z"
   },
   {
    "duration": 4,
    "start_time": "2023-01-31T20:57:38.125Z"
   },
   {
    "duration": 12,
    "start_time": "2023-01-31T20:57:40.559Z"
   },
   {
    "duration": 3,
    "start_time": "2023-01-31T20:57:45.403Z"
   },
   {
    "duration": 61,
    "start_time": "2023-01-31T20:57:45.410Z"
   },
   {
    "duration": 3,
    "start_time": "2023-01-31T20:57:45.474Z"
   },
   {
    "duration": 17,
    "start_time": "2023-01-31T20:57:45.479Z"
   },
   {
    "duration": 40,
    "start_time": "2023-01-31T20:57:45.498Z"
   },
   {
    "duration": 9,
    "start_time": "2023-01-31T20:57:45.542Z"
   },
   {
    "duration": 6,
    "start_time": "2023-01-31T20:57:45.553Z"
   },
   {
    "duration": 19,
    "start_time": "2023-01-31T20:57:45.561Z"
   },
   {
    "duration": 3,
    "start_time": "2023-01-31T20:57:45.582Z"
   },
   {
    "duration": 8,
    "start_time": "2023-01-31T20:57:45.587Z"
   },
   {
    "duration": 9,
    "start_time": "2023-01-31T20:57:45.597Z"
   },
   {
    "duration": 6,
    "start_time": "2023-01-31T20:57:45.637Z"
   },
   {
    "duration": 9,
    "start_time": "2023-01-31T20:57:45.645Z"
   },
   {
    "duration": 7,
    "start_time": "2023-01-31T20:57:45.656Z"
   },
   {
    "duration": 15,
    "start_time": "2023-01-31T20:57:45.666Z"
   },
   {
    "duration": 15,
    "start_time": "2023-01-31T20:57:45.683Z"
   },
   {
    "duration": 36,
    "start_time": "2023-01-31T20:57:45.701Z"
   },
   {
    "duration": 7,
    "start_time": "2023-01-31T20:57:45.739Z"
   },
   {
    "duration": 16,
    "start_time": "2023-01-31T20:57:45.748Z"
   },
   {
    "duration": 3,
    "start_time": "2023-01-31T20:57:57.809Z"
   },
   {
    "duration": 53,
    "start_time": "2023-01-31T20:57:57.817Z"
   },
   {
    "duration": 2,
    "start_time": "2023-01-31T20:57:57.873Z"
   },
   {
    "duration": 20,
    "start_time": "2023-01-31T20:57:57.877Z"
   },
   {
    "duration": 39,
    "start_time": "2023-01-31T20:57:57.899Z"
   },
   {
    "duration": 14,
    "start_time": "2023-01-31T20:57:57.941Z"
   },
   {
    "duration": 4,
    "start_time": "2023-01-31T20:57:57.957Z"
   },
   {
    "duration": 19,
    "start_time": "2023-01-31T20:57:57.963Z"
   },
   {
    "duration": 3,
    "start_time": "2023-01-31T20:57:57.984Z"
   },
   {
    "duration": 11,
    "start_time": "2023-01-31T20:57:57.988Z"
   },
   {
    "duration": 10,
    "start_time": "2023-01-31T20:57:58.001Z"
   },
   {
    "duration": 35,
    "start_time": "2023-01-31T20:57:58.013Z"
   },
   {
    "duration": 19,
    "start_time": "2023-01-31T20:57:58.050Z"
   },
   {
    "duration": 11,
    "start_time": "2023-01-31T20:57:58.071Z"
   },
   {
    "duration": 29,
    "start_time": "2023-01-31T20:57:58.084Z"
   },
   {
    "duration": 11,
    "start_time": "2023-01-31T20:57:58.115Z"
   },
   {
    "duration": 26,
    "start_time": "2023-01-31T20:57:58.127Z"
   },
   {
    "duration": 24,
    "start_time": "2023-01-31T20:57:58.155Z"
   },
   {
    "duration": 23,
    "start_time": "2023-01-31T20:57:58.180Z"
   },
   {
    "duration": 665,
    "start_time": "2023-01-31T20:58:40.024Z"
   },
   {
    "duration": 704,
    "start_time": "2023-01-31T20:58:50.711Z"
   },
   {
    "duration": 784,
    "start_time": "2023-01-31T20:59:02.807Z"
   },
   {
    "duration": 8,
    "start_time": "2023-01-31T20:59:18.567Z"
   },
   {
    "duration": 2,
    "start_time": "2023-01-31T20:59:21.740Z"
   },
   {
    "duration": 66,
    "start_time": "2023-01-31T20:59:21.747Z"
   },
   {
    "duration": 2,
    "start_time": "2023-01-31T20:59:21.815Z"
   },
   {
    "duration": 29,
    "start_time": "2023-01-31T20:59:21.819Z"
   },
   {
    "duration": 41,
    "start_time": "2023-01-31T20:59:21.850Z"
   },
   {
    "duration": 12,
    "start_time": "2023-01-31T20:59:21.894Z"
   },
   {
    "duration": 17,
    "start_time": "2023-01-31T20:59:21.907Z"
   },
   {
    "duration": 31,
    "start_time": "2023-01-31T20:59:21.926Z"
   },
   {
    "duration": 10,
    "start_time": "2023-01-31T20:59:21.959Z"
   },
   {
    "duration": 24,
    "start_time": "2023-01-31T20:59:21.971Z"
   },
   {
    "duration": 26,
    "start_time": "2023-01-31T20:59:21.997Z"
   },
   {
    "duration": 21,
    "start_time": "2023-01-31T20:59:22.025Z"
   },
   {
    "duration": 20,
    "start_time": "2023-01-31T20:59:22.047Z"
   },
   {
    "duration": 26,
    "start_time": "2023-01-31T20:59:22.069Z"
   },
   {
    "duration": 29,
    "start_time": "2023-01-31T20:59:22.099Z"
   },
   {
    "duration": 13,
    "start_time": "2023-01-31T20:59:22.130Z"
   },
   {
    "duration": 26,
    "start_time": "2023-01-31T20:59:22.144Z"
   },
   {
    "duration": 15,
    "start_time": "2023-01-31T20:59:22.172Z"
   },
   {
    "duration": 21,
    "start_time": "2023-01-31T20:59:22.189Z"
   },
   {
    "duration": 23,
    "start_time": "2023-01-31T20:59:22.211Z"
   },
   {
    "duration": 6,
    "start_time": "2023-01-31T20:59:48.423Z"
   },
   {
    "duration": 2,
    "start_time": "2023-01-31T20:59:52.244Z"
   },
   {
    "duration": 57,
    "start_time": "2023-01-31T20:59:52.250Z"
   },
   {
    "duration": 3,
    "start_time": "2023-01-31T20:59:52.309Z"
   },
   {
    "duration": 28,
    "start_time": "2023-01-31T20:59:52.313Z"
   },
   {
    "duration": 31,
    "start_time": "2023-01-31T20:59:52.342Z"
   },
   {
    "duration": 10,
    "start_time": "2023-01-31T20:59:52.375Z"
   },
   {
    "duration": 4,
    "start_time": "2023-01-31T20:59:52.386Z"
   },
   {
    "duration": 19,
    "start_time": "2023-01-31T20:59:52.392Z"
   },
   {
    "duration": 3,
    "start_time": "2023-01-31T20:59:52.437Z"
   },
   {
    "duration": 16,
    "start_time": "2023-01-31T20:59:52.442Z"
   },
   {
    "duration": 13,
    "start_time": "2023-01-31T20:59:52.460Z"
   },
   {
    "duration": 6,
    "start_time": "2023-01-31T20:59:52.475Z"
   },
   {
    "duration": 7,
    "start_time": "2023-01-31T20:59:52.482Z"
   },
   {
    "duration": 12,
    "start_time": "2023-01-31T20:59:52.491Z"
   },
   {
    "duration": 17,
    "start_time": "2023-01-31T20:59:52.506Z"
   },
   {
    "duration": 21,
    "start_time": "2023-01-31T20:59:52.525Z"
   },
   {
    "duration": 11,
    "start_time": "2023-01-31T20:59:52.547Z"
   },
   {
    "duration": 22,
    "start_time": "2023-01-31T20:59:52.560Z"
   },
   {
    "duration": 23,
    "start_time": "2023-01-31T20:59:52.584Z"
   },
   {
    "duration": 11,
    "start_time": "2023-01-31T20:59:52.610Z"
   },
   {
    "duration": 14,
    "start_time": "2023-01-31T20:59:52.623Z"
   },
   {
    "duration": 12,
    "start_time": "2023-01-31T21:00:09.014Z"
   },
   {
    "duration": 6,
    "start_time": "2023-01-31T21:11:05.570Z"
   },
   {
    "duration": 8,
    "start_time": "2023-01-31T21:11:19.567Z"
   },
   {
    "duration": 16,
    "start_time": "2023-01-31T21:11:34.503Z"
   },
   {
    "duration": 422,
    "start_time": "2023-02-01T19:34:58.123Z"
   },
   {
    "duration": 186,
    "start_time": "2023-02-01T19:34:58.547Z"
   },
   {
    "duration": 2,
    "start_time": "2023-02-01T19:34:58.735Z"
   },
   {
    "duration": 17,
    "start_time": "2023-02-01T19:34:58.740Z"
   },
   {
    "duration": 33,
    "start_time": "2023-02-01T19:34:58.758Z"
   },
   {
    "duration": 8,
    "start_time": "2023-02-01T19:34:58.793Z"
   },
   {
    "duration": 5,
    "start_time": "2023-02-01T19:34:58.802Z"
   },
   {
    "duration": 36,
    "start_time": "2023-02-01T19:34:58.808Z"
   },
   {
    "duration": 3,
    "start_time": "2023-02-01T19:34:58.845Z"
   },
   {
    "duration": 6,
    "start_time": "2023-02-01T19:34:58.851Z"
   },
   {
    "duration": 10,
    "start_time": "2023-02-01T19:34:58.858Z"
   },
   {
    "duration": 8,
    "start_time": "2023-02-01T19:34:58.870Z"
   },
   {
    "duration": 6,
    "start_time": "2023-02-01T19:34:58.879Z"
   },
   {
    "duration": 8,
    "start_time": "2023-02-01T19:34:58.886Z"
   },
   {
    "duration": 20,
    "start_time": "2023-02-01T19:34:58.896Z"
   },
   {
    "duration": 16,
    "start_time": "2023-02-01T19:34:58.944Z"
   },
   {
    "duration": 12,
    "start_time": "2023-02-01T19:34:58.962Z"
   },
   {
    "duration": 15,
    "start_time": "2023-02-01T19:34:58.976Z"
   },
   {
    "duration": 23,
    "start_time": "2023-02-01T19:34:58.992Z"
   },
   {
    "duration": 12,
    "start_time": "2023-02-01T19:34:59.016Z"
   },
   {
    "duration": 5,
    "start_time": "2023-02-01T19:34:59.029Z"
   },
   {
    "duration": 14,
    "start_time": "2023-02-01T19:34:59.036Z"
   },
   {
    "duration": 6,
    "start_time": "2023-02-01T19:34:59.052Z"
   },
   {
    "duration": 11,
    "start_time": "2023-02-01T19:34:59.060Z"
   },
   {
    "duration": 16,
    "start_time": "2023-02-01T19:34:59.073Z"
   },
   {
    "duration": 73,
    "start_time": "2023-02-01T20:28:43.046Z"
   },
   {
    "duration": 59,
    "start_time": "2023-02-01T20:29:10.768Z"
   },
   {
    "duration": 6,
    "start_time": "2023-02-01T20:29:51.472Z"
   },
   {
    "duration": 0,
    "start_time": "2023-02-01T20:34:03.557Z"
   },
   {
    "duration": 0,
    "start_time": "2023-02-01T20:34:03.558Z"
   },
   {
    "duration": 0,
    "start_time": "2023-02-01T20:34:03.559Z"
   },
   {
    "duration": 0,
    "start_time": "2023-02-01T20:34:03.560Z"
   },
   {
    "duration": 0,
    "start_time": "2023-02-01T20:34:03.560Z"
   },
   {
    "duration": 0,
    "start_time": "2023-02-01T20:34:03.561Z"
   },
   {
    "duration": 0,
    "start_time": "2023-02-01T20:34:03.562Z"
   },
   {
    "duration": 0,
    "start_time": "2023-02-01T20:34:03.563Z"
   },
   {
    "duration": 0,
    "start_time": "2023-02-01T20:34:03.564Z"
   },
   {
    "duration": 0,
    "start_time": "2023-02-01T20:34:03.565Z"
   },
   {
    "duration": 0,
    "start_time": "2023-02-01T20:34:03.566Z"
   },
   {
    "duration": 0,
    "start_time": "2023-02-01T20:34:03.567Z"
   },
   {
    "duration": 0,
    "start_time": "2023-02-01T20:34:03.567Z"
   },
   {
    "duration": 0,
    "start_time": "2023-02-01T20:34:03.568Z"
   },
   {
    "duration": 0,
    "start_time": "2023-02-01T20:34:03.569Z"
   },
   {
    "duration": 0,
    "start_time": "2023-02-01T20:34:03.570Z"
   },
   {
    "duration": 0,
    "start_time": "2023-02-01T20:34:03.570Z"
   },
   {
    "duration": 0,
    "start_time": "2023-02-01T20:34:03.573Z"
   },
   {
    "duration": 0,
    "start_time": "2023-02-01T20:34:03.574Z"
   },
   {
    "duration": 0,
    "start_time": "2023-02-01T20:34:03.575Z"
   },
   {
    "duration": 0,
    "start_time": "2023-02-01T20:34:03.576Z"
   },
   {
    "duration": 0,
    "start_time": "2023-02-01T20:34:03.591Z"
   },
   {
    "duration": 0,
    "start_time": "2023-02-01T20:34:03.644Z"
   },
   {
    "duration": 0,
    "start_time": "2023-02-01T20:34:03.646Z"
   },
   {
    "duration": 0,
    "start_time": "2023-02-01T20:34:03.647Z"
   },
   {
    "duration": 0,
    "start_time": "2023-02-01T20:34:03.653Z"
   },
   {
    "duration": 3,
    "start_time": "2023-02-01T20:36:22.246Z"
   },
   {
    "duration": 89,
    "start_time": "2023-02-01T20:36:22.254Z"
   },
   {
    "duration": 2,
    "start_time": "2023-02-01T20:36:22.345Z"
   },
   {
    "duration": 27,
    "start_time": "2023-02-01T20:36:22.348Z"
   },
   {
    "duration": 38,
    "start_time": "2023-02-01T20:36:22.376Z"
   },
   {
    "duration": 17,
    "start_time": "2023-02-01T20:36:22.416Z"
   },
   {
    "duration": 3,
    "start_time": "2023-02-01T20:36:22.435Z"
   },
   {
    "duration": 18,
    "start_time": "2023-02-01T20:36:22.440Z"
   },
   {
    "duration": 3,
    "start_time": "2023-02-01T20:36:22.459Z"
   },
   {
    "duration": 9,
    "start_time": "2023-02-01T20:36:22.463Z"
   },
   {
    "duration": 7,
    "start_time": "2023-02-01T20:36:22.474Z"
   },
   {
    "duration": 5,
    "start_time": "2023-02-01T20:36:22.482Z"
   },
   {
    "duration": 6,
    "start_time": "2023-02-01T20:36:22.488Z"
   },
   {
    "duration": 6,
    "start_time": "2023-02-01T20:36:22.495Z"
   },
   {
    "duration": 16,
    "start_time": "2023-02-01T20:36:22.503Z"
   },
   {
    "duration": 27,
    "start_time": "2023-02-01T20:36:22.520Z"
   },
   {
    "duration": 10,
    "start_time": "2023-02-01T20:36:22.548Z"
   },
   {
    "duration": 9,
    "start_time": "2023-02-01T20:36:22.559Z"
   },
   {
    "duration": 18,
    "start_time": "2023-02-01T20:36:22.569Z"
   },
   {
    "duration": 9,
    "start_time": "2023-02-01T20:36:22.588Z"
   },
   {
    "duration": 5,
    "start_time": "2023-02-01T20:36:22.599Z"
   },
   {
    "duration": 16,
    "start_time": "2023-02-01T20:36:22.605Z"
   },
   {
    "duration": 24,
    "start_time": "2023-02-01T20:36:22.622Z"
   },
   {
    "duration": 7,
    "start_time": "2023-02-01T20:36:22.647Z"
   },
   {
    "duration": 16,
    "start_time": "2023-02-01T20:36:22.655Z"
   },
   {
    "duration": 25,
    "start_time": "2023-02-01T20:36:22.672Z"
   },
   {
    "duration": 28,
    "start_time": "2023-02-01T20:36:40.737Z"
   },
   {
    "duration": 84,
    "start_time": "2023-02-01T20:36:59.733Z"
   },
   {
    "duration": 26,
    "start_time": "2023-02-01T20:37:26.220Z"
   },
   {
    "duration": 23,
    "start_time": "2023-02-01T20:38:49.900Z"
   },
   {
    "duration": 15,
    "start_time": "2023-02-01T20:39:14.507Z"
   },
   {
    "duration": 14,
    "start_time": "2023-02-01T20:39:28.396Z"
   },
   {
    "duration": 12,
    "start_time": "2023-02-01T20:43:58.309Z"
   },
   {
    "duration": 5,
    "start_time": "2023-02-01T20:44:05.011Z"
   },
   {
    "duration": 498,
    "start_time": "2023-02-01T20:48:43.084Z"
   },
   {
    "duration": 11,
    "start_time": "2023-02-01T20:49:19.385Z"
   },
   {
    "duration": 7,
    "start_time": "2023-02-01T20:50:42.909Z"
   },
   {
    "duration": 9,
    "start_time": "2023-02-01T20:51:14.127Z"
   },
   {
    "duration": 135,
    "start_time": "2023-02-01T20:51:37.067Z"
   },
   {
    "duration": 388,
    "start_time": "2023-02-02T15:35:26.616Z"
   },
   {
    "duration": 98,
    "start_time": "2023-02-02T15:35:27.006Z"
   },
   {
    "duration": 2,
    "start_time": "2023-02-02T15:35:27.106Z"
   },
   {
    "duration": 19,
    "start_time": "2023-02-02T15:35:27.110Z"
   },
   {
    "duration": 39,
    "start_time": "2023-02-02T15:35:27.131Z"
   },
   {
    "duration": 19,
    "start_time": "2023-02-02T15:35:27.172Z"
   },
   {
    "duration": 8,
    "start_time": "2023-02-02T15:35:27.193Z"
   },
   {
    "duration": 20,
    "start_time": "2023-02-02T15:35:27.203Z"
   },
   {
    "duration": 3,
    "start_time": "2023-02-02T15:35:27.225Z"
   },
   {
    "duration": 5,
    "start_time": "2023-02-02T15:35:27.230Z"
   },
   {
    "duration": 10,
    "start_time": "2023-02-02T15:35:27.237Z"
   },
   {
    "duration": 5,
    "start_time": "2023-02-02T15:35:27.249Z"
   },
   {
    "duration": 32,
    "start_time": "2023-02-02T15:35:27.256Z"
   },
   {
    "duration": 9,
    "start_time": "2023-02-02T15:35:27.289Z"
   },
   {
    "duration": 17,
    "start_time": "2023-02-02T15:35:27.299Z"
   },
   {
    "duration": 12,
    "start_time": "2023-02-02T15:35:27.318Z"
   },
   {
    "duration": 10,
    "start_time": "2023-02-02T15:35:27.331Z"
   },
   {
    "duration": 7,
    "start_time": "2023-02-02T15:35:27.342Z"
   },
   {
    "duration": 43,
    "start_time": "2023-02-02T15:35:27.350Z"
   },
   {
    "duration": 6,
    "start_time": "2023-02-02T15:35:27.394Z"
   },
   {
    "duration": 8,
    "start_time": "2023-02-02T15:35:27.402Z"
   },
   {
    "duration": 12,
    "start_time": "2023-02-02T15:35:27.411Z"
   },
   {
    "duration": 5,
    "start_time": "2023-02-02T15:35:27.425Z"
   },
   {
    "duration": 10,
    "start_time": "2023-02-02T15:35:27.431Z"
   },
   {
    "duration": 18,
    "start_time": "2023-02-02T15:35:27.443Z"
   },
   {
    "duration": 13,
    "start_time": "2023-02-02T15:35:27.483Z"
   },
   {
    "duration": 5,
    "start_time": "2023-02-02T15:35:27.498Z"
   },
   {
    "duration": 11,
    "start_time": "2023-02-02T15:35:27.506Z"
   },
   {
    "duration": 598,
    "start_time": "2023-02-02T15:35:27.518Z"
   },
   {
    "duration": 81,
    "start_time": "2023-02-02T15:35:57.878Z"
   },
   {
    "duration": 11,
    "start_time": "2023-02-02T15:36:26.734Z"
   },
   {
    "duration": 14,
    "start_time": "2023-02-02T15:36:37.091Z"
   },
   {
    "duration": 7,
    "start_time": "2023-02-02T15:36:46.338Z"
   },
   {
    "duration": 426,
    "start_time": "2023-02-02T17:02:20.318Z"
   },
   {
    "duration": 197,
    "start_time": "2023-02-02T17:02:20.748Z"
   },
   {
    "duration": 3,
    "start_time": "2023-02-02T17:02:20.947Z"
   },
   {
    "duration": 21,
    "start_time": "2023-02-02T17:02:20.951Z"
   },
   {
    "duration": 34,
    "start_time": "2023-02-02T17:02:20.974Z"
   },
   {
    "duration": 8,
    "start_time": "2023-02-02T17:02:21.009Z"
   },
   {
    "duration": 12,
    "start_time": "2023-02-02T17:02:21.019Z"
   },
   {
    "duration": 35,
    "start_time": "2023-02-02T17:02:21.032Z"
   },
   {
    "duration": 6,
    "start_time": "2023-02-02T17:02:21.069Z"
   },
   {
    "duration": 15,
    "start_time": "2023-02-02T17:02:21.076Z"
   },
   {
    "duration": 9,
    "start_time": "2023-02-02T17:02:21.093Z"
   },
   {
    "duration": 6,
    "start_time": "2023-02-02T17:02:21.103Z"
   },
   {
    "duration": 10,
    "start_time": "2023-02-02T17:02:21.110Z"
   },
   {
    "duration": 9,
    "start_time": "2023-02-02T17:02:21.122Z"
   },
   {
    "duration": 19,
    "start_time": "2023-02-02T17:02:21.132Z"
   },
   {
    "duration": 12,
    "start_time": "2023-02-02T17:02:21.153Z"
   },
   {
    "duration": 9,
    "start_time": "2023-02-02T17:02:21.166Z"
   },
   {
    "duration": 14,
    "start_time": "2023-02-02T17:02:21.177Z"
   },
   {
    "duration": 17,
    "start_time": "2023-02-02T17:02:21.192Z"
   },
   {
    "duration": 6,
    "start_time": "2023-02-02T17:02:21.211Z"
   },
   {
    "duration": 10,
    "start_time": "2023-02-02T17:02:21.218Z"
   },
   {
    "duration": 28,
    "start_time": "2023-02-02T17:02:21.229Z"
   },
   {
    "duration": 8,
    "start_time": "2023-02-02T17:02:21.258Z"
   },
   {
    "duration": 13,
    "start_time": "2023-02-02T17:02:21.268Z"
   },
   {
    "duration": 21,
    "start_time": "2023-02-02T17:02:21.282Z"
   },
   {
    "duration": 16,
    "start_time": "2023-02-02T17:02:21.305Z"
   },
   {
    "duration": 6,
    "start_time": "2023-02-02T17:02:21.323Z"
   },
   {
    "duration": 7,
    "start_time": "2023-02-02T17:02:21.331Z"
   },
   {
    "duration": 515,
    "start_time": "2023-02-02T17:02:21.340Z"
   },
   {
    "duration": 10,
    "start_time": "2023-02-02T17:02:21.857Z"
   },
   {
    "duration": 12,
    "start_time": "2023-02-02T17:02:21.869Z"
   },
   {
    "duration": 12,
    "start_time": "2023-02-02T17:02:21.883Z"
   },
   {
    "duration": 33,
    "start_time": "2023-02-02T17:02:21.897Z"
   },
   {
    "duration": 80,
    "start_time": "2023-02-02T17:02:35.724Z"
   },
   {
    "duration": 157,
    "start_time": "2023-02-02T17:02:59.782Z"
   },
   {
    "duration": 25,
    "start_time": "2023-02-02T17:08:20.782Z"
   },
   {
    "duration": 114,
    "start_time": "2023-02-02T17:08:27.055Z"
   },
   {
    "duration": 112,
    "start_time": "2023-02-02T17:08:50.718Z"
   },
   {
    "duration": 154,
    "start_time": "2023-02-02T17:09:33.622Z"
   },
   {
    "duration": 121,
    "start_time": "2023-02-02T17:12:15.055Z"
   },
   {
    "duration": 432,
    "start_time": "2023-02-03T19:45:30.464Z"
   },
   {
    "duration": 210,
    "start_time": "2023-02-03T19:45:30.898Z"
   },
   {
    "duration": 2,
    "start_time": "2023-02-03T19:45:31.110Z"
   },
   {
    "duration": 37,
    "start_time": "2023-02-03T19:45:31.115Z"
   },
   {
    "duration": 55,
    "start_time": "2023-02-03T19:45:31.154Z"
   },
   {
    "duration": 13,
    "start_time": "2023-02-03T19:45:31.211Z"
   },
   {
    "duration": 11,
    "start_time": "2023-02-03T19:45:31.226Z"
   },
   {
    "duration": 38,
    "start_time": "2023-02-03T19:45:31.239Z"
   },
   {
    "duration": 5,
    "start_time": "2023-02-03T19:45:31.280Z"
   },
   {
    "duration": 46,
    "start_time": "2023-02-03T19:45:31.288Z"
   },
   {
    "duration": 10,
    "start_time": "2023-02-03T19:45:31.336Z"
   },
   {
    "duration": 16,
    "start_time": "2023-02-03T19:45:31.348Z"
   },
   {
    "duration": 14,
    "start_time": "2023-02-03T19:45:31.366Z"
   },
   {
    "duration": 55,
    "start_time": "2023-02-03T19:45:31.381Z"
   },
   {
    "duration": 33,
    "start_time": "2023-02-03T19:45:31.438Z"
   },
   {
    "duration": 20,
    "start_time": "2023-02-03T19:45:31.473Z"
   },
   {
    "duration": 9,
    "start_time": "2023-02-03T19:45:31.494Z"
   },
   {
    "duration": 11,
    "start_time": "2023-02-03T19:45:31.504Z"
   },
   {
    "duration": 48,
    "start_time": "2023-02-03T19:45:31.516Z"
   },
   {
    "duration": 15,
    "start_time": "2023-02-03T19:45:31.566Z"
   },
   {
    "duration": 18,
    "start_time": "2023-02-03T19:45:31.583Z"
   },
   {
    "duration": 32,
    "start_time": "2023-02-03T19:45:31.603Z"
   },
   {
    "duration": 9,
    "start_time": "2023-02-03T19:45:31.637Z"
   },
   {
    "duration": 13,
    "start_time": "2023-02-03T19:45:31.648Z"
   },
   {
    "duration": 34,
    "start_time": "2023-02-03T19:45:31.663Z"
   },
   {
    "duration": 26,
    "start_time": "2023-02-03T19:45:31.699Z"
   },
   {
    "duration": 6,
    "start_time": "2023-02-03T19:45:31.727Z"
   },
   {
    "duration": 8,
    "start_time": "2023-02-03T19:45:31.739Z"
   },
   {
    "duration": 520,
    "start_time": "2023-02-03T19:45:31.748Z"
   },
   {
    "duration": 13,
    "start_time": "2023-02-03T19:45:32.270Z"
   },
   {
    "duration": 8,
    "start_time": "2023-02-03T19:45:32.285Z"
   },
   {
    "duration": 23,
    "start_time": "2023-02-03T19:45:32.294Z"
   },
   {
    "duration": 299,
    "start_time": "2023-02-03T19:45:32.320Z"
   },
   {
    "duration": 18,
    "start_time": "2023-02-03T19:48:05.916Z"
   },
   {
    "duration": 22,
    "start_time": "2023-02-03T19:48:22.684Z"
   },
   {
    "duration": 168,
    "start_time": "2023-02-03T19:48:45.893Z"
   },
   {
    "duration": 148,
    "start_time": "2023-02-03T19:49:08.707Z"
   },
   {
    "duration": 21,
    "start_time": "2023-02-03T19:49:28.834Z"
   },
   {
    "duration": 13,
    "start_time": "2023-02-03T19:50:03.340Z"
   },
   {
    "duration": 17,
    "start_time": "2023-02-03T19:50:10.735Z"
   },
   {
    "duration": 13,
    "start_time": "2023-02-03T19:55:49.905Z"
   },
   {
    "duration": 11,
    "start_time": "2023-02-03T19:55:53.393Z"
   },
   {
    "duration": 53,
    "start_time": "2023-02-03T19:59:54.651Z"
   },
   {
    "duration": 9,
    "start_time": "2023-02-03T19:59:57.114Z"
   },
   {
    "duration": 85,
    "start_time": "2023-02-03T20:00:01.818Z"
   },
   {
    "duration": 3,
    "start_time": "2023-02-03T20:00:06.839Z"
   },
   {
    "duration": 109,
    "start_time": "2023-02-03T20:00:06.849Z"
   },
   {
    "duration": 3,
    "start_time": "2023-02-03T20:00:06.960Z"
   },
   {
    "duration": 19,
    "start_time": "2023-02-03T20:00:06.965Z"
   },
   {
    "duration": 32,
    "start_time": "2023-02-03T20:00:06.985Z"
   },
   {
    "duration": 19,
    "start_time": "2023-02-03T20:00:07.020Z"
   },
   {
    "duration": 29,
    "start_time": "2023-02-03T20:00:07.040Z"
   },
   {
    "duration": 22,
    "start_time": "2023-02-03T20:00:07.071Z"
   },
   {
    "duration": 3,
    "start_time": "2023-02-03T20:00:07.095Z"
   },
   {
    "duration": 11,
    "start_time": "2023-02-03T20:00:07.100Z"
   },
   {
    "duration": 12,
    "start_time": "2023-02-03T20:00:07.112Z"
   },
   {
    "duration": 6,
    "start_time": "2023-02-03T20:00:07.126Z"
   },
   {
    "duration": 33,
    "start_time": "2023-02-03T20:00:07.134Z"
   },
   {
    "duration": 9,
    "start_time": "2023-02-03T20:00:07.169Z"
   },
   {
    "duration": 17,
    "start_time": "2023-02-03T20:00:07.181Z"
   },
   {
    "duration": 17,
    "start_time": "2023-02-03T20:00:07.202Z"
   },
   {
    "duration": 15,
    "start_time": "2023-02-03T20:00:07.221Z"
   },
   {
    "duration": 31,
    "start_time": "2023-02-03T20:00:07.238Z"
   },
   {
    "duration": 15,
    "start_time": "2023-02-03T20:00:07.271Z"
   },
   {
    "duration": 5,
    "start_time": "2023-02-03T20:00:07.289Z"
   },
   {
    "duration": 7,
    "start_time": "2023-02-03T20:00:07.295Z"
   },
   {
    "duration": 12,
    "start_time": "2023-02-03T20:00:07.303Z"
   },
   {
    "duration": 4,
    "start_time": "2023-02-03T20:00:07.317Z"
   },
   {
    "duration": 7,
    "start_time": "2023-02-03T20:00:07.322Z"
   },
   {
    "duration": 46,
    "start_time": "2023-02-03T20:00:07.330Z"
   },
   {
    "duration": 18,
    "start_time": "2023-02-03T20:00:07.378Z"
   },
   {
    "duration": 5,
    "start_time": "2023-02-03T20:00:07.398Z"
   },
   {
    "duration": 13,
    "start_time": "2023-02-03T20:00:07.404Z"
   },
   {
    "duration": 193,
    "start_time": "2023-02-03T20:00:07.419Z"
   },
   {
    "duration": 19,
    "start_time": "2023-02-03T20:00:07.614Z"
   },
   {
    "duration": 7,
    "start_time": "2023-02-03T20:00:07.635Z"
   },
   {
    "duration": 6,
    "start_time": "2023-02-03T20:00:07.644Z"
   },
   {
    "duration": 88,
    "start_time": "2023-02-03T20:00:07.651Z"
   },
   {
    "duration": 0,
    "start_time": "2023-02-03T20:00:07.740Z"
   },
   {
    "duration": 7,
    "start_time": "2023-02-03T20:00:26.857Z"
   },
   {
    "duration": 21,
    "start_time": "2023-02-03T20:00:31.265Z"
   },
   {
    "duration": 3,
    "start_time": "2023-02-03T20:00:44.518Z"
   },
   {
    "duration": 51,
    "start_time": "2023-02-03T20:00:44.529Z"
   },
   {
    "duration": 3,
    "start_time": "2023-02-03T20:00:44.582Z"
   },
   {
    "duration": 24,
    "start_time": "2023-02-03T20:00:44.587Z"
   },
   {
    "duration": 28,
    "start_time": "2023-02-03T20:00:44.613Z"
   },
   {
    "duration": 24,
    "start_time": "2023-02-03T20:00:44.644Z"
   },
   {
    "duration": 21,
    "start_time": "2023-02-03T20:00:44.670Z"
   },
   {
    "duration": 18,
    "start_time": "2023-02-03T20:00:44.693Z"
   },
   {
    "duration": 3,
    "start_time": "2023-02-03T20:00:44.713Z"
   },
   {
    "duration": 6,
    "start_time": "2023-02-03T20:00:44.718Z"
   },
   {
    "duration": 9,
    "start_time": "2023-02-03T20:00:44.725Z"
   },
   {
    "duration": 6,
    "start_time": "2023-02-03T20:00:44.736Z"
   },
   {
    "duration": 7,
    "start_time": "2023-02-03T20:00:44.743Z"
   },
   {
    "duration": 16,
    "start_time": "2023-02-03T20:00:44.752Z"
   },
   {
    "duration": 13,
    "start_time": "2023-02-03T20:00:44.772Z"
   },
   {
    "duration": 11,
    "start_time": "2023-02-03T20:00:44.787Z"
   },
   {
    "duration": 9,
    "start_time": "2023-02-03T20:00:44.799Z"
   },
   {
    "duration": 15,
    "start_time": "2023-02-03T20:00:44.810Z"
   },
   {
    "duration": 20,
    "start_time": "2023-02-03T20:00:44.827Z"
   },
   {
    "duration": 7,
    "start_time": "2023-02-03T20:00:44.867Z"
   },
   {
    "duration": 8,
    "start_time": "2023-02-03T20:00:44.876Z"
   },
   {
    "duration": 16,
    "start_time": "2023-02-03T20:00:44.886Z"
   },
   {
    "duration": 9,
    "start_time": "2023-02-03T20:00:44.904Z"
   },
   {
    "duration": 13,
    "start_time": "2023-02-03T20:00:44.915Z"
   },
   {
    "duration": 24,
    "start_time": "2023-02-03T20:00:44.930Z"
   },
   {
    "duration": 20,
    "start_time": "2023-02-03T20:00:44.957Z"
   },
   {
    "duration": 15,
    "start_time": "2023-02-03T20:00:44.979Z"
   },
   {
    "duration": 37,
    "start_time": "2023-02-03T20:00:44.995Z"
   },
   {
    "duration": 246,
    "start_time": "2023-02-03T20:00:45.034Z"
   },
   {
    "duration": 12,
    "start_time": "2023-02-03T20:00:45.282Z"
   },
   {
    "duration": 9,
    "start_time": "2023-02-03T20:00:45.296Z"
   },
   {
    "duration": 27,
    "start_time": "2023-02-03T20:00:45.307Z"
   },
   {
    "duration": 32,
    "start_time": "2023-02-03T20:00:45.336Z"
   },
   {
    "duration": 10,
    "start_time": "2023-02-03T20:01:44.067Z"
   },
   {
    "duration": 10,
    "start_time": "2023-02-03T20:01:45.890Z"
   },
   {
    "duration": 7,
    "start_time": "2023-02-03T20:01:49.370Z"
   },
   {
    "duration": 11,
    "start_time": "2023-02-03T20:02:32.539Z"
   },
   {
    "duration": 12,
    "start_time": "2023-02-03T20:02:43.370Z"
   },
   {
    "duration": 13,
    "start_time": "2023-02-03T20:02:52.699Z"
   },
   {
    "duration": 13,
    "start_time": "2023-02-03T20:03:05.282Z"
   },
   {
    "duration": 149,
    "start_time": "2023-02-03T20:04:44.020Z"
   },
   {
    "duration": 185,
    "start_time": "2023-02-03T20:06:58.517Z"
   },
   {
    "duration": 8,
    "start_time": "2023-02-03T20:09:00.731Z"
   },
   {
    "duration": 202,
    "start_time": "2023-02-03T20:09:02.778Z"
   },
   {
    "duration": 184,
    "start_time": "2023-02-03T20:09:20.279Z"
   },
   {
    "duration": 6,
    "start_time": "2023-02-03T20:17:11.420Z"
   },
   {
    "duration": 164,
    "start_time": "2023-02-03T20:17:32.813Z"
   },
   {
    "duration": 5,
    "start_time": "2023-02-03T20:17:59.109Z"
   },
   {
    "duration": 168,
    "start_time": "2023-02-03T20:18:00.803Z"
   },
   {
    "duration": 6,
    "start_time": "2023-02-03T20:28:17.188Z"
   },
   {
    "duration": 23,
    "start_time": "2023-02-03T20:28:28.889Z"
   },
   {
    "duration": 12,
    "start_time": "2023-02-03T20:30:13.533Z"
   },
   {
    "duration": 7,
    "start_time": "2023-02-03T20:30:17.327Z"
   },
   {
    "duration": 11,
    "start_time": "2023-02-03T20:33:42.445Z"
   },
   {
    "duration": 264,
    "start_time": "2023-02-03T20:33:58.947Z"
   },
   {
    "duration": 115,
    "start_time": "2023-02-03T20:58:13.280Z"
   },
   {
    "duration": 102,
    "start_time": "2023-02-03T20:58:41.456Z"
   },
   {
    "duration": 422,
    "start_time": "2023-02-04T20:00:44.566Z"
   },
   {
    "duration": 190,
    "start_time": "2023-02-04T20:00:44.990Z"
   },
   {
    "duration": 3,
    "start_time": "2023-02-04T20:00:45.182Z"
   },
   {
    "duration": 31,
    "start_time": "2023-02-04T20:00:45.187Z"
   },
   {
    "duration": 58,
    "start_time": "2023-02-04T20:00:45.220Z"
   },
   {
    "duration": 8,
    "start_time": "2023-02-04T20:00:45.280Z"
   },
   {
    "duration": 7,
    "start_time": "2023-02-04T20:00:45.290Z"
   },
   {
    "duration": 29,
    "start_time": "2023-02-04T20:00:45.299Z"
   },
   {
    "duration": 3,
    "start_time": "2023-02-04T20:00:45.330Z"
   },
   {
    "duration": 11,
    "start_time": "2023-02-04T20:00:45.335Z"
   },
   {
    "duration": 10,
    "start_time": "2023-02-04T20:00:45.347Z"
   },
   {
    "duration": 5,
    "start_time": "2023-02-04T20:00:45.358Z"
   },
   {
    "duration": 18,
    "start_time": "2023-02-04T20:00:45.365Z"
   },
   {
    "duration": 12,
    "start_time": "2023-02-04T20:00:45.385Z"
   },
   {
    "duration": 25,
    "start_time": "2023-02-04T20:00:45.399Z"
   },
   {
    "duration": 10,
    "start_time": "2023-02-04T20:00:45.425Z"
   },
   {
    "duration": 10,
    "start_time": "2023-02-04T20:00:45.436Z"
   },
   {
    "duration": 12,
    "start_time": "2023-02-04T20:00:45.447Z"
   },
   {
    "duration": 19,
    "start_time": "2023-02-04T20:00:45.460Z"
   },
   {
    "duration": 9,
    "start_time": "2023-02-04T20:00:45.481Z"
   },
   {
    "duration": 6,
    "start_time": "2023-02-04T20:00:45.492Z"
   },
   {
    "duration": 15,
    "start_time": "2023-02-04T20:00:45.499Z"
   },
   {
    "duration": 4,
    "start_time": "2023-02-04T20:00:45.516Z"
   },
   {
    "duration": 17,
    "start_time": "2023-02-04T20:00:45.521Z"
   },
   {
    "duration": 23,
    "start_time": "2023-02-04T20:00:45.540Z"
   },
   {
    "duration": 19,
    "start_time": "2023-02-04T20:00:45.565Z"
   },
   {
    "duration": 14,
    "start_time": "2023-02-04T20:00:45.585Z"
   },
   {
    "duration": 18,
    "start_time": "2023-02-04T20:00:45.603Z"
   },
   {
    "duration": 594,
    "start_time": "2023-02-04T20:00:45.622Z"
   },
   {
    "duration": 12,
    "start_time": "2023-02-04T20:00:46.217Z"
   },
   {
    "duration": 17,
    "start_time": "2023-02-04T20:00:46.230Z"
   },
   {
    "duration": 20,
    "start_time": "2023-02-04T20:00:46.249Z"
   },
   {
    "duration": 8,
    "start_time": "2023-02-04T20:00:46.271Z"
   },
   {
    "duration": 207,
    "start_time": "2023-02-04T20:00:46.280Z"
   },
   {
    "duration": 6,
    "start_time": "2023-02-04T20:00:46.492Z"
   },
   {
    "duration": 10,
    "start_time": "2023-02-04T20:00:46.500Z"
   },
   {
    "duration": 158,
    "start_time": "2023-02-04T20:00:46.512Z"
   },
   {
    "duration": 6,
    "start_time": "2023-02-04T20:00:46.671Z"
   },
   {
    "duration": 20,
    "start_time": "2023-02-04T20:00:46.678Z"
   },
   {
    "duration": 7,
    "start_time": "2023-02-04T20:00:46.699Z"
   },
   {
    "duration": 273,
    "start_time": "2023-02-04T20:00:46.708Z"
   },
   {
    "duration": 248,
    "start_time": "2023-02-04T20:00:46.983Z"
   },
   {
    "duration": 102,
    "start_time": "2023-02-04T20:02:40.740Z"
   },
   {
    "duration": 117,
    "start_time": "2023-02-04T20:04:20.047Z"
   },
   {
    "duration": 156,
    "start_time": "2023-02-04T20:05:35.459Z"
   },
   {
    "duration": 103,
    "start_time": "2023-02-04T20:14:39.135Z"
   },
   {
    "duration": 157,
    "start_time": "2023-02-04T20:15:22.291Z"
   },
   {
    "duration": 210,
    "start_time": "2023-02-04T20:27:11.300Z"
   },
   {
    "duration": 13,
    "start_time": "2023-02-04T20:27:44.180Z"
   },
   {
    "duration": 223,
    "start_time": "2023-02-04T20:31:04.412Z"
   },
   {
    "duration": 202,
    "start_time": "2023-02-04T20:33:02.437Z"
   },
   {
    "duration": 6,
    "start_time": "2023-02-04T20:33:13.060Z"
   },
   {
    "duration": 4,
    "start_time": "2023-02-04T20:33:15.861Z"
   },
   {
    "duration": 204,
    "start_time": "2023-02-04T20:33:21.011Z"
   },
   {
    "duration": 4,
    "start_time": "2023-02-04T20:33:57.695Z"
   },
   {
    "duration": 6,
    "start_time": "2023-02-04T20:34:06.228Z"
   },
   {
    "duration": 2,
    "start_time": "2023-02-04T20:34:12.637Z"
   },
   {
    "duration": 50,
    "start_time": "2023-02-04T20:34:12.645Z"
   },
   {
    "duration": 3,
    "start_time": "2023-02-04T20:34:12.697Z"
   },
   {
    "duration": 22,
    "start_time": "2023-02-04T20:34:12.701Z"
   },
   {
    "duration": 29,
    "start_time": "2023-02-04T20:34:12.724Z"
   },
   {
    "duration": 9,
    "start_time": "2023-02-04T20:34:12.755Z"
   },
   {
    "duration": 5,
    "start_time": "2023-02-04T20:34:12.765Z"
   },
   {
    "duration": 16,
    "start_time": "2023-02-04T20:34:12.793Z"
   },
   {
    "duration": 3,
    "start_time": "2023-02-04T20:34:12.811Z"
   },
   {
    "duration": 10,
    "start_time": "2023-02-04T20:34:12.815Z"
   },
   {
    "duration": 8,
    "start_time": "2023-02-04T20:34:12.826Z"
   },
   {
    "duration": 7,
    "start_time": "2023-02-04T20:34:12.836Z"
   },
   {
    "duration": 13,
    "start_time": "2023-02-04T20:34:12.844Z"
   },
   {
    "duration": 10,
    "start_time": "2023-02-04T20:34:12.859Z"
   },
   {
    "duration": 25,
    "start_time": "2023-02-04T20:34:12.872Z"
   },
   {
    "duration": 10,
    "start_time": "2023-02-04T20:34:12.898Z"
   },
   {
    "duration": 11,
    "start_time": "2023-02-04T20:34:12.909Z"
   },
   {
    "duration": 4,
    "start_time": "2023-02-04T20:34:12.922Z"
   },
   {
    "duration": 7,
    "start_time": "2023-02-04T20:34:12.927Z"
   },
   {
    "duration": 8,
    "start_time": "2023-02-04T20:34:12.935Z"
   },
   {
    "duration": 5,
    "start_time": "2023-02-04T20:34:12.944Z"
   },
   {
    "duration": 7,
    "start_time": "2023-02-04T20:34:12.951Z"
   },
   {
    "duration": 33,
    "start_time": "2023-02-04T20:34:12.960Z"
   },
   {
    "duration": 4,
    "start_time": "2023-02-04T20:34:12.994Z"
   },
   {
    "duration": 6,
    "start_time": "2023-02-04T20:34:13.000Z"
   },
   {
    "duration": 18,
    "start_time": "2023-02-04T20:34:13.007Z"
   },
   {
    "duration": 20,
    "start_time": "2023-02-04T20:34:13.027Z"
   },
   {
    "duration": 4,
    "start_time": "2023-02-04T20:34:13.049Z"
   },
   {
    "duration": 11,
    "start_time": "2023-02-04T20:34:13.054Z"
   },
   {
    "duration": 162,
    "start_time": "2023-02-04T20:34:13.067Z"
   },
   {
    "duration": 13,
    "start_time": "2023-02-04T20:34:13.231Z"
   },
   {
    "duration": 8,
    "start_time": "2023-02-04T20:34:13.245Z"
   },
   {
    "duration": 10,
    "start_time": "2023-02-04T20:34:13.255Z"
   },
   {
    "duration": 6,
    "start_time": "2023-02-04T20:34:13.266Z"
   },
   {
    "duration": 218,
    "start_time": "2023-02-04T20:34:13.273Z"
   },
   {
    "duration": 7,
    "start_time": "2023-02-04T20:34:13.493Z"
   },
   {
    "duration": 8,
    "start_time": "2023-02-04T20:34:13.501Z"
   },
   {
    "duration": 181,
    "start_time": "2023-02-04T20:34:13.511Z"
   },
   {
    "duration": 5,
    "start_time": "2023-02-04T20:34:13.693Z"
   },
   {
    "duration": 11,
    "start_time": "2023-02-04T20:34:13.700Z"
   },
   {
    "duration": 11,
    "start_time": "2023-02-04T20:34:13.713Z"
   },
   {
    "duration": 278,
    "start_time": "2023-02-04T20:34:13.727Z"
   },
   {
    "duration": 159,
    "start_time": "2023-02-04T20:34:14.007Z"
   },
   {
    "duration": 213,
    "start_time": "2023-02-04T20:34:14.168Z"
   },
   {
    "duration": 0,
    "start_time": "2023-02-04T20:34:14.384Z"
   },
   {
    "duration": 14,
    "start_time": "2023-02-04T20:35:24.035Z"
   },
   {
    "duration": 4,
    "start_time": "2023-02-04T20:35:49.810Z"
   },
   {
    "duration": 3,
    "start_time": "2023-02-04T20:35:52.030Z"
   },
   {
    "duration": 96,
    "start_time": "2023-02-04T20:35:52.034Z"
   },
   {
    "duration": 3,
    "start_time": "2023-02-04T20:35:52.131Z"
   },
   {
    "duration": 23,
    "start_time": "2023-02-04T20:35:52.135Z"
   },
   {
    "duration": 28,
    "start_time": "2023-02-04T20:35:52.161Z"
   },
   {
    "duration": 15,
    "start_time": "2023-02-04T20:35:52.191Z"
   },
   {
    "duration": 5,
    "start_time": "2023-02-04T20:35:52.207Z"
   },
   {
    "duration": 25,
    "start_time": "2023-02-04T20:35:52.213Z"
   },
   {
    "duration": 4,
    "start_time": "2023-02-04T20:35:52.239Z"
   },
   {
    "duration": 9,
    "start_time": "2023-02-04T20:35:52.244Z"
   },
   {
    "duration": 7,
    "start_time": "2023-02-04T20:35:52.255Z"
   },
   {
    "duration": 30,
    "start_time": "2023-02-04T20:35:52.264Z"
   },
   {
    "duration": 5,
    "start_time": "2023-02-04T20:35:52.296Z"
   },
   {
    "duration": 5,
    "start_time": "2023-02-04T20:35:52.368Z"
   },
   {
    "duration": 28,
    "start_time": "2023-02-04T20:35:52.374Z"
   },
   {
    "duration": 11,
    "start_time": "2023-02-04T20:35:52.404Z"
   },
   {
    "duration": 9,
    "start_time": "2023-02-04T20:35:52.417Z"
   },
   {
    "duration": 7,
    "start_time": "2023-02-04T20:35:52.428Z"
   },
   {
    "duration": 33,
    "start_time": "2023-02-04T20:35:52.436Z"
   },
   {
    "duration": 31,
    "start_time": "2023-02-04T20:35:52.470Z"
   },
   {
    "duration": 17,
    "start_time": "2023-02-04T20:35:52.503Z"
   },
   {
    "duration": 15,
    "start_time": "2023-02-04T20:35:52.521Z"
   },
   {
    "duration": 9,
    "start_time": "2023-02-04T20:35:52.537Z"
   },
   {
    "duration": 10,
    "start_time": "2023-02-04T20:35:52.547Z"
   },
   {
    "duration": 5,
    "start_time": "2023-02-04T20:35:52.559Z"
   },
   {
    "duration": 26,
    "start_time": "2023-02-04T20:35:52.565Z"
   },
   {
    "duration": 25,
    "start_time": "2023-02-04T20:35:52.592Z"
   },
   {
    "duration": 18,
    "start_time": "2023-02-04T20:35:52.619Z"
   },
   {
    "duration": 4,
    "start_time": "2023-02-04T20:35:52.639Z"
   },
   {
    "duration": 18,
    "start_time": "2023-02-04T20:35:52.645Z"
   },
   {
    "duration": 143,
    "start_time": "2023-02-04T20:35:52.664Z"
   },
   {
    "duration": 10,
    "start_time": "2023-02-04T20:35:52.808Z"
   },
   {
    "duration": 18,
    "start_time": "2023-02-04T20:35:52.820Z"
   },
   {
    "duration": 21,
    "start_time": "2023-02-04T20:35:52.840Z"
   },
   {
    "duration": 9,
    "start_time": "2023-02-04T20:35:52.862Z"
   },
   {
    "duration": 191,
    "start_time": "2023-02-04T20:35:52.872Z"
   },
   {
    "duration": 7,
    "start_time": "2023-02-04T20:35:53.064Z"
   },
   {
    "duration": 11,
    "start_time": "2023-02-04T20:35:53.073Z"
   },
   {
    "duration": 192,
    "start_time": "2023-02-04T20:35:53.086Z"
   },
   {
    "duration": 6,
    "start_time": "2023-02-04T20:35:53.279Z"
   },
   {
    "duration": 11,
    "start_time": "2023-02-04T20:35:53.294Z"
   },
   {
    "duration": 23,
    "start_time": "2023-02-04T20:35:53.306Z"
   },
   {
    "duration": 263,
    "start_time": "2023-02-04T20:35:53.331Z"
   },
   {
    "duration": 175,
    "start_time": "2023-02-04T20:35:53.596Z"
   },
   {
    "duration": 21,
    "start_time": "2023-02-04T20:35:53.773Z"
   },
   {
    "duration": 159,
    "start_time": "2023-02-04T20:35:53.796Z"
   },
   {
    "duration": 7,
    "start_time": "2023-02-04T20:36:18.467Z"
   },
   {
    "duration": 14,
    "start_time": "2023-02-04T20:36:24.788Z"
   },
   {
    "duration": 8,
    "start_time": "2023-02-04T20:37:12.374Z"
   },
   {
    "duration": 7,
    "start_time": "2023-02-04T20:37:31.955Z"
   },
   {
    "duration": 5,
    "start_time": "2023-02-04T20:37:36.116Z"
   },
   {
    "duration": 3,
    "start_time": "2023-02-04T20:38:08.728Z"
   },
   {
    "duration": 54,
    "start_time": "2023-02-04T20:38:08.737Z"
   },
   {
    "duration": 3,
    "start_time": "2023-02-04T20:38:08.793Z"
   },
   {
    "duration": 16,
    "start_time": "2023-02-04T20:38:08.798Z"
   },
   {
    "duration": 30,
    "start_time": "2023-02-04T20:38:08.816Z"
   },
   {
    "duration": 14,
    "start_time": "2023-02-04T20:38:08.849Z"
   },
   {
    "duration": 27,
    "start_time": "2023-02-04T20:38:08.865Z"
   },
   {
    "duration": 15,
    "start_time": "2023-02-04T20:38:08.894Z"
   },
   {
    "duration": 4,
    "start_time": "2023-02-04T20:38:08.910Z"
   },
   {
    "duration": 6,
    "start_time": "2023-02-04T20:38:08.916Z"
   },
   {
    "duration": 8,
    "start_time": "2023-02-04T20:38:08.923Z"
   },
   {
    "duration": 7,
    "start_time": "2023-02-04T20:38:08.933Z"
   },
   {
    "duration": 7,
    "start_time": "2023-02-04T20:38:08.941Z"
   },
   {
    "duration": 43,
    "start_time": "2023-02-04T20:38:08.949Z"
   },
   {
    "duration": 14,
    "start_time": "2023-02-04T20:38:08.997Z"
   },
   {
    "duration": 11,
    "start_time": "2023-02-04T20:38:09.013Z"
   },
   {
    "duration": 9,
    "start_time": "2023-02-04T20:38:09.026Z"
   },
   {
    "duration": 6,
    "start_time": "2023-02-04T20:38:09.037Z"
   },
   {
    "duration": 6,
    "start_time": "2023-02-04T20:38:09.045Z"
   },
   {
    "duration": 40,
    "start_time": "2023-02-04T20:38:09.053Z"
   },
   {
    "duration": 6,
    "start_time": "2023-02-04T20:38:09.095Z"
   },
   {
    "duration": 7,
    "start_time": "2023-02-04T20:38:09.102Z"
   },
   {
    "duration": 5,
    "start_time": "2023-02-04T20:38:09.111Z"
   },
   {
    "duration": 12,
    "start_time": "2023-02-04T20:38:09.118Z"
   },
   {
    "duration": 4,
    "start_time": "2023-02-04T20:38:09.131Z"
   },
   {
    "duration": 5,
    "start_time": "2023-02-04T20:38:09.136Z"
   },
   {
    "duration": 15,
    "start_time": "2023-02-04T20:38:09.143Z"
   },
   {
    "duration": 37,
    "start_time": "2023-02-04T20:38:09.159Z"
   },
   {
    "duration": 5,
    "start_time": "2023-02-04T20:38:09.198Z"
   },
   {
    "duration": 8,
    "start_time": "2023-02-04T20:38:09.205Z"
   },
   {
    "duration": 172,
    "start_time": "2023-02-04T20:38:09.214Z"
   },
   {
    "duration": 12,
    "start_time": "2023-02-04T20:38:09.387Z"
   },
   {
    "duration": 5,
    "start_time": "2023-02-04T20:38:09.401Z"
   },
   {
    "duration": 9,
    "start_time": "2023-02-04T20:38:09.408Z"
   },
   {
    "duration": 5,
    "start_time": "2023-02-04T20:38:09.418Z"
   },
   {
    "duration": 206,
    "start_time": "2023-02-04T20:38:09.425Z"
   },
   {
    "duration": 6,
    "start_time": "2023-02-04T20:38:09.633Z"
   },
   {
    "duration": 8,
    "start_time": "2023-02-04T20:38:09.640Z"
   },
   {
    "duration": 174,
    "start_time": "2023-02-04T20:38:09.650Z"
   },
   {
    "duration": 6,
    "start_time": "2023-02-04T20:38:09.825Z"
   },
   {
    "duration": 15,
    "start_time": "2023-02-04T20:38:09.833Z"
   },
   {
    "duration": 7,
    "start_time": "2023-02-04T20:38:09.851Z"
   },
   {
    "duration": 281,
    "start_time": "2023-02-04T20:38:09.859Z"
   },
   {
    "duration": 157,
    "start_time": "2023-02-04T20:38:10.142Z"
   },
   {
    "duration": 6,
    "start_time": "2023-02-04T20:38:10.300Z"
   },
   {
    "duration": 6,
    "start_time": "2023-02-04T20:38:10.307Z"
   },
   {
    "duration": 6,
    "start_time": "2023-02-04T20:38:22.512Z"
   },
   {
    "duration": 31,
    "start_time": "2023-02-04T20:39:24.167Z"
   },
   {
    "duration": 31,
    "start_time": "2023-02-04T20:39:44.711Z"
   },
   {
    "duration": 26,
    "start_time": "2023-02-04T20:40:56.854Z"
   },
   {
    "duration": 263,
    "start_time": "2023-02-04T20:42:02.107Z"
   },
   {
    "duration": 338,
    "start_time": "2023-02-04T20:42:28.107Z"
   },
   {
    "duration": 270,
    "start_time": "2023-02-04T20:42:48.147Z"
   },
   {
    "duration": 125,
    "start_time": "2023-02-04T20:42:53.476Z"
   },
   {
    "duration": 254,
    "start_time": "2023-02-04T20:43:14.227Z"
   },
   {
    "duration": 260,
    "start_time": "2023-02-04T20:43:21.083Z"
   },
   {
    "duration": 275,
    "start_time": "2023-02-04T20:47:33.961Z"
   },
   {
    "duration": 268,
    "start_time": "2023-02-04T20:50:45.993Z"
   },
   {
    "duration": 241,
    "start_time": "2023-02-04T20:52:14.596Z"
   },
   {
    "duration": 271,
    "start_time": "2023-02-04T20:53:05.547Z"
   },
   {
    "duration": 156,
    "start_time": "2023-02-04T20:57:15.784Z"
   },
   {
    "duration": 130,
    "start_time": "2023-02-04T20:57:44.140Z"
   },
   {
    "duration": 16,
    "start_time": "2023-02-04T20:58:41.139Z"
   },
   {
    "duration": 16,
    "start_time": "2023-02-04T20:58:53.172Z"
   },
   {
    "duration": 255,
    "start_time": "2023-02-04T20:59:32.008Z"
   },
   {
    "duration": 47,
    "start_time": "2023-02-04T21:00:59.385Z"
   },
   {
    "duration": 315,
    "start_time": "2023-02-04T21:01:10.922Z"
   },
   {
    "duration": 277,
    "start_time": "2023-02-04T21:01:33.747Z"
   },
   {
    "duration": 14,
    "start_time": "2023-02-04T21:02:53.851Z"
   },
   {
    "duration": 8,
    "start_time": "2023-02-04T21:02:57.237Z"
   },
   {
    "duration": 15,
    "start_time": "2023-02-04T21:11:44.661Z"
   },
   {
    "duration": 11,
    "start_time": "2023-02-04T21:11:50.030Z"
   },
   {
    "duration": 11,
    "start_time": "2023-02-04T21:12:06.831Z"
   },
   {
    "duration": 10,
    "start_time": "2023-02-04T21:12:22.969Z"
   },
   {
    "duration": 10,
    "start_time": "2023-02-04T21:12:56.714Z"
   },
   {
    "duration": 9,
    "start_time": "2023-02-04T21:13:04.016Z"
   },
   {
    "duration": 20,
    "start_time": "2023-02-04T21:20:04.093Z"
   },
   {
    "duration": 14,
    "start_time": "2023-02-04T21:20:18.729Z"
   },
   {
    "duration": 14,
    "start_time": "2023-02-04T21:20:39.464Z"
   },
   {
    "duration": 9,
    "start_time": "2023-02-04T21:20:58.192Z"
   },
   {
    "duration": 109,
    "start_time": "2023-02-04T21:29:24.681Z"
   },
   {
    "duration": 16,
    "start_time": "2023-02-04T21:29:33.143Z"
   },
   {
    "duration": 9,
    "start_time": "2023-02-04T21:29:35.944Z"
   },
   {
    "duration": 14,
    "start_time": "2023-02-04T21:29:52.014Z"
   },
   {
    "duration": 14,
    "start_time": "2023-02-04T21:29:54.446Z"
   },
   {
    "duration": 8,
    "start_time": "2023-02-04T21:29:55.517Z"
   },
   {
    "duration": 15,
    "start_time": "2023-02-04T21:30:24.922Z"
   },
   {
    "duration": 15,
    "start_time": "2023-02-04T21:30:41.491Z"
   },
   {
    "duration": 9,
    "start_time": "2023-02-04T21:30:50.545Z"
   },
   {
    "duration": 8,
    "start_time": "2023-02-04T21:30:56.748Z"
   },
   {
    "duration": 6,
    "start_time": "2023-02-04T21:36:29.268Z"
   },
   {
    "duration": 166,
    "start_time": "2023-02-04T21:36:31.311Z"
   },
   {
    "duration": 11,
    "start_time": "2023-02-04T21:40:03.196Z"
   },
   {
    "duration": 6,
    "start_time": "2023-02-04T21:40:10.644Z"
   },
   {
    "duration": 290,
    "start_time": "2023-02-04T21:40:12.065Z"
   },
   {
    "duration": 236,
    "start_time": "2023-02-04T21:40:33.783Z"
   },
   {
    "duration": 274,
    "start_time": "2023-02-04T21:40:40.523Z"
   },
   {
    "duration": 278,
    "start_time": "2023-02-04T21:41:00.379Z"
   },
   {
    "duration": 278,
    "start_time": "2023-02-04T21:41:17.214Z"
   },
   {
    "duration": 266,
    "start_time": "2023-02-04T21:41:36.522Z"
   },
   {
    "duration": 13,
    "start_time": "2023-02-04T21:41:54.050Z"
   },
   {
    "duration": 8,
    "start_time": "2023-02-04T21:41:55.640Z"
   },
   {
    "duration": 12,
    "start_time": "2023-02-04T21:42:47.429Z"
   },
   {
    "duration": 10,
    "start_time": "2023-02-04T21:42:49.410Z"
   },
   {
    "duration": 9,
    "start_time": "2023-02-04T21:42:50.811Z"
   },
   {
    "duration": 9,
    "start_time": "2023-02-04T21:42:52.818Z"
   },
   {
    "duration": 2,
    "start_time": "2023-02-04T21:43:08.666Z"
   },
   {
    "duration": 51,
    "start_time": "2023-02-04T21:43:08.675Z"
   },
   {
    "duration": 3,
    "start_time": "2023-02-04T21:43:08.728Z"
   },
   {
    "duration": 15,
    "start_time": "2023-02-04T21:43:08.732Z"
   },
   {
    "duration": 47,
    "start_time": "2023-02-04T21:43:08.749Z"
   },
   {
    "duration": 11,
    "start_time": "2023-02-04T21:43:08.798Z"
   },
   {
    "duration": 5,
    "start_time": "2023-02-04T21:43:08.811Z"
   },
   {
    "duration": 15,
    "start_time": "2023-02-04T21:43:08.818Z"
   },
   {
    "duration": 3,
    "start_time": "2023-02-04T21:43:08.834Z"
   },
   {
    "duration": 6,
    "start_time": "2023-02-04T21:43:08.839Z"
   },
   {
    "duration": 44,
    "start_time": "2023-02-04T21:43:08.847Z"
   },
   {
    "duration": 4,
    "start_time": "2023-02-04T21:43:08.894Z"
   },
   {
    "duration": 7,
    "start_time": "2023-02-04T21:43:08.900Z"
   },
   {
    "duration": 8,
    "start_time": "2023-02-04T21:43:08.908Z"
   },
   {
    "duration": 14,
    "start_time": "2023-02-04T21:43:08.919Z"
   },
   {
    "duration": 10,
    "start_time": "2023-02-04T21:43:08.934Z"
   },
   {
    "duration": 9,
    "start_time": "2023-02-04T21:43:08.946Z"
   },
   {
    "duration": 5,
    "start_time": "2023-02-04T21:43:08.957Z"
   },
   {
    "duration": 6,
    "start_time": "2023-02-04T21:43:08.991Z"
   },
   {
    "duration": 11,
    "start_time": "2023-02-04T21:43:08.999Z"
   },
   {
    "duration": 6,
    "start_time": "2023-02-04T21:43:09.011Z"
   },
   {
    "duration": 6,
    "start_time": "2023-02-04T21:43:09.019Z"
   },
   {
    "duration": 12,
    "start_time": "2023-02-04T21:43:09.027Z"
   },
   {
    "duration": 17,
    "start_time": "2023-02-04T21:43:09.041Z"
   },
   {
    "duration": 5,
    "start_time": "2023-02-04T21:43:09.060Z"
   },
   {
    "duration": 25,
    "start_time": "2023-02-04T21:43:09.067Z"
   },
   {
    "duration": 16,
    "start_time": "2023-02-04T21:43:09.094Z"
   },
   {
    "duration": 11,
    "start_time": "2023-02-04T21:43:09.112Z"
   },
   {
    "duration": 4,
    "start_time": "2023-02-04T21:43:09.125Z"
   },
   {
    "duration": 10,
    "start_time": "2023-02-04T21:43:09.130Z"
   },
   {
    "duration": 181,
    "start_time": "2023-02-04T21:43:09.142Z"
   },
   {
    "duration": 10,
    "start_time": "2023-02-04T21:43:09.324Z"
   },
   {
    "duration": 5,
    "start_time": "2023-02-04T21:43:09.336Z"
   },
   {
    "duration": 9,
    "start_time": "2023-02-04T21:43:09.342Z"
   },
   {
    "duration": 6,
    "start_time": "2023-02-04T21:43:09.352Z"
   },
   {
    "duration": 206,
    "start_time": "2023-02-04T21:43:09.359Z"
   },
   {
    "duration": 7,
    "start_time": "2023-02-04T21:43:09.568Z"
   },
   {
    "duration": 19,
    "start_time": "2023-02-04T21:43:09.577Z"
   },
   {
    "duration": 175,
    "start_time": "2023-02-04T21:43:09.598Z"
   },
   {
    "duration": 6,
    "start_time": "2023-02-04T21:43:09.775Z"
   },
   {
    "duration": 11,
    "start_time": "2023-02-04T21:43:09.791Z"
   },
   {
    "duration": 11,
    "start_time": "2023-02-04T21:43:09.807Z"
   },
   {
    "duration": 280,
    "start_time": "2023-02-04T21:43:09.820Z"
   },
   {
    "duration": 6,
    "start_time": "2023-02-04T21:43:10.102Z"
   },
   {
    "duration": 171,
    "start_time": "2023-02-04T21:43:10.110Z"
   },
   {
    "duration": 10,
    "start_time": "2023-02-04T21:43:10.283Z"
   },
   {
    "duration": 244,
    "start_time": "2023-02-04T21:43:10.295Z"
   },
   {
    "duration": 259,
    "start_time": "2023-02-04T21:43:10.541Z"
   },
   {
    "duration": 431,
    "start_time": "2023-02-04T21:43:10.801Z"
   },
   {
    "duration": 274,
    "start_time": "2023-02-04T21:43:11.234Z"
   },
   {
    "duration": 12,
    "start_time": "2023-02-04T21:43:11.510Z"
   },
   {
    "duration": 7,
    "start_time": "2023-02-04T21:43:11.524Z"
   },
   {
    "duration": 11,
    "start_time": "2023-02-04T21:43:11.533Z"
   },
   {
    "duration": 14,
    "start_time": "2023-02-04T21:43:11.545Z"
   },
   {
    "duration": 31,
    "start_time": "2023-02-04T21:43:11.561Z"
   },
   {
    "duration": 9,
    "start_time": "2023-02-04T21:43:11.593Z"
   },
   {
    "duration": 12,
    "start_time": "2023-02-04T21:43:11.604Z"
   },
   {
    "duration": 14,
    "start_time": "2023-02-04T21:43:11.617Z"
   },
   {
    "duration": 14,
    "start_time": "2023-02-04T21:43:11.633Z"
   },
   {
    "duration": 9,
    "start_time": "2023-02-04T21:43:11.648Z"
   },
   {
    "duration": 48,
    "start_time": "2023-02-04T21:43:11.659Z"
   },
   {
    "duration": 13,
    "start_time": "2023-02-04T21:43:11.709Z"
   },
   {
    "duration": 13,
    "start_time": "2023-02-04T21:43:11.724Z"
   },
   {
    "duration": 7,
    "start_time": "2023-02-04T21:43:11.738Z"
   },
   {
    "duration": 9,
    "start_time": "2023-02-04T21:43:11.747Z"
   },
   {
    "duration": 9,
    "start_time": "2023-02-04T21:43:11.757Z"
   },
   {
    "duration": 3,
    "start_time": "2023-02-04T21:43:19.090Z"
   },
   {
    "duration": 68,
    "start_time": "2023-02-04T21:43:19.104Z"
   },
   {
    "duration": 3,
    "start_time": "2023-02-04T21:43:19.173Z"
   },
   {
    "duration": 21,
    "start_time": "2023-02-04T21:43:19.177Z"
   },
   {
    "duration": 30,
    "start_time": "2023-02-04T21:43:19.200Z"
   },
   {
    "duration": 10,
    "start_time": "2023-02-04T21:43:19.232Z"
   },
   {
    "duration": 6,
    "start_time": "2023-02-04T21:43:19.243Z"
   },
   {
    "duration": 15,
    "start_time": "2023-02-04T21:43:19.250Z"
   },
   {
    "duration": 27,
    "start_time": "2023-02-04T21:43:19.266Z"
   },
   {
    "duration": 7,
    "start_time": "2023-02-04T21:43:19.295Z"
   },
   {
    "duration": 9,
    "start_time": "2023-02-04T21:43:19.303Z"
   },
   {
    "duration": 5,
    "start_time": "2023-02-04T21:43:19.313Z"
   },
   {
    "duration": 7,
    "start_time": "2023-02-04T21:43:19.319Z"
   },
   {
    "duration": 5,
    "start_time": "2023-02-04T21:43:19.327Z"
   },
   {
    "duration": 13,
    "start_time": "2023-02-04T21:43:19.335Z"
   },
   {
    "duration": 10,
    "start_time": "2023-02-04T21:43:19.349Z"
   },
   {
    "duration": 37,
    "start_time": "2023-02-04T21:43:19.361Z"
   },
   {
    "duration": 5,
    "start_time": "2023-02-04T21:43:19.400Z"
   },
   {
    "duration": 7,
    "start_time": "2023-02-04T21:43:19.406Z"
   },
   {
    "duration": 8,
    "start_time": "2023-02-04T21:43:19.414Z"
   },
   {
    "duration": 7,
    "start_time": "2023-02-04T21:43:19.423Z"
   },
   {
    "duration": 5,
    "start_time": "2023-02-04T21:43:19.431Z"
   },
   {
    "duration": 6,
    "start_time": "2023-02-04T21:43:19.437Z"
   },
   {
    "duration": 9,
    "start_time": "2023-02-04T21:43:19.444Z"
   },
   {
    "duration": 40,
    "start_time": "2023-02-04T21:43:19.455Z"
   },
   {
    "duration": 9,
    "start_time": "2023-02-04T21:43:19.497Z"
   },
   {
    "duration": 24,
    "start_time": "2023-02-04T21:43:19.507Z"
   },
   {
    "duration": 31,
    "start_time": "2023-02-04T21:43:19.533Z"
   },
   {
    "duration": 8,
    "start_time": "2023-02-04T21:43:19.566Z"
   },
   {
    "duration": 20,
    "start_time": "2023-02-04T21:43:19.576Z"
   },
   {
    "duration": 158,
    "start_time": "2023-02-04T21:43:19.598Z"
   },
   {
    "duration": 11,
    "start_time": "2023-02-04T21:43:19.758Z"
   },
   {
    "duration": 22,
    "start_time": "2023-02-04T21:43:19.771Z"
   },
   {
    "duration": 20,
    "start_time": "2023-02-04T21:43:19.795Z"
   },
   {
    "duration": 19,
    "start_time": "2023-02-04T21:43:19.816Z"
   },
   {
    "duration": 177,
    "start_time": "2023-02-04T21:43:19.837Z"
   },
   {
    "duration": 7,
    "start_time": "2023-02-04T21:43:20.016Z"
   },
   {
    "duration": 28,
    "start_time": "2023-02-04T21:43:20.025Z"
   },
   {
    "duration": 172,
    "start_time": "2023-02-04T21:43:20.055Z"
   },
   {
    "duration": 5,
    "start_time": "2023-02-04T21:43:20.229Z"
   },
   {
    "duration": 30,
    "start_time": "2023-02-04T21:43:20.236Z"
   },
   {
    "duration": 18,
    "start_time": "2023-02-04T21:43:20.270Z"
   },
   {
    "duration": 288,
    "start_time": "2023-02-04T21:43:20.290Z"
   },
   {
    "duration": 14,
    "start_time": "2023-02-04T21:43:20.580Z"
   },
   {
    "duration": 146,
    "start_time": "2023-02-04T21:43:20.596Z"
   },
   {
    "duration": 6,
    "start_time": "2023-02-04T21:43:20.744Z"
   },
   {
    "duration": 243,
    "start_time": "2023-02-04T21:43:20.751Z"
   },
   {
    "duration": 282,
    "start_time": "2023-02-04T21:43:20.995Z"
   },
   {
    "duration": 298,
    "start_time": "2023-02-04T21:43:21.279Z"
   },
   {
    "duration": 283,
    "start_time": "2023-02-04T21:43:21.579Z"
   },
   {
    "duration": 11,
    "start_time": "2023-02-04T21:43:21.863Z"
   },
   {
    "duration": 6,
    "start_time": "2023-02-04T21:43:21.875Z"
   },
   {
    "duration": 11,
    "start_time": "2023-02-04T21:43:21.892Z"
   },
   {
    "duration": 12,
    "start_time": "2023-02-04T21:43:21.905Z"
   },
   {
    "duration": 9,
    "start_time": "2023-02-04T21:43:21.918Z"
   },
   {
    "duration": 11,
    "start_time": "2023-02-04T21:43:21.929Z"
   },
   {
    "duration": 10,
    "start_time": "2023-02-04T21:43:21.941Z"
   },
   {
    "duration": 10,
    "start_time": "2023-02-04T21:43:21.953Z"
   },
   {
    "duration": 13,
    "start_time": "2023-02-04T21:43:21.991Z"
   },
   {
    "duration": 14,
    "start_time": "2023-02-04T21:43:22.005Z"
   },
   {
    "duration": 14,
    "start_time": "2023-02-04T21:43:22.021Z"
   },
   {
    "duration": 12,
    "start_time": "2023-02-04T21:43:22.037Z"
   },
   {
    "duration": 15,
    "start_time": "2023-02-04T21:43:22.051Z"
   },
   {
    "duration": 6,
    "start_time": "2023-02-04T21:43:22.068Z"
   },
   {
    "duration": 7,
    "start_time": "2023-02-04T21:43:22.092Z"
   },
   {
    "duration": 29,
    "start_time": "2023-02-04T21:43:22.101Z"
   },
   {
    "duration": 12,
    "start_time": "2023-02-04T21:43:51.032Z"
   },
   {
    "duration": 7,
    "start_time": "2023-02-04T21:43:54.652Z"
   },
   {
    "duration": 9,
    "start_time": "2023-02-04T21:44:10.893Z"
   },
   {
    "duration": 10,
    "start_time": "2023-02-04T21:44:13.054Z"
   },
   {
    "duration": 9,
    "start_time": "2023-02-04T21:44:18.866Z"
   },
   {
    "duration": 10,
    "start_time": "2023-02-04T21:44:23.714Z"
   },
   {
    "duration": 9,
    "start_time": "2023-02-04T21:44:25.515Z"
   },
   {
    "duration": 12,
    "start_time": "2023-02-04T21:44:37.818Z"
   },
   {
    "duration": 11,
    "start_time": "2023-02-04T21:44:42.637Z"
   },
   {
    "duration": 7,
    "start_time": "2023-02-04T21:44:45.419Z"
   },
   {
    "duration": 7,
    "start_time": "2023-02-04T21:44:46.917Z"
   },
   {
    "duration": 8,
    "start_time": "2023-02-04T21:44:48.729Z"
   },
   {
    "duration": 284,
    "start_time": "2023-02-04T21:51:32.636Z"
   },
   {
    "duration": 303,
    "start_time": "2023-02-04T21:52:09.597Z"
   },
   {
    "duration": 11,
    "start_time": "2023-02-04T21:54:02.169Z"
   },
   {
    "duration": 286,
    "start_time": "2023-02-04T21:54:43.770Z"
   },
   {
    "duration": 83,
    "start_time": "2023-02-04T21:55:00.267Z"
   },
   {
    "duration": 268,
    "start_time": "2023-02-04T21:55:14.611Z"
   },
   {
    "duration": 249,
    "start_time": "2023-02-04T21:55:38.080Z"
   },
   {
    "duration": 525,
    "start_time": "2023-02-05T19:56:15.261Z"
   },
   {
    "duration": 5,
    "start_time": "2023-02-05T19:58:02.582Z"
   },
   {
    "duration": 5,
    "start_time": "2023-02-05T19:58:34.710Z"
   },
   {
    "duration": 56,
    "start_time": "2023-02-05T20:03:04.204Z"
   },
   {
    "duration": 10,
    "start_time": "2023-02-05T20:03:53.849Z"
   },
   {
    "duration": 4,
    "start_time": "2023-02-05T20:05:06.816Z"
   },
   {
    "duration": 9,
    "start_time": "2023-02-05T20:06:33.944Z"
   },
   {
    "duration": 5,
    "start_time": "2023-02-05T20:07:47.181Z"
   },
   {
    "duration": 22,
    "start_time": "2023-02-05T20:07:56.088Z"
   },
   {
    "duration": 9,
    "start_time": "2023-02-05T20:14:19.462Z"
   },
   {
    "duration": 8,
    "start_time": "2023-02-05T20:14:38.310Z"
   },
   {
    "duration": 3,
    "start_time": "2023-02-05T20:19:47.026Z"
   },
   {
    "duration": 92,
    "start_time": "2023-02-05T20:48:33.944Z"
   },
   {
    "duration": 2,
    "start_time": "2023-02-05T20:53:39.738Z"
   },
   {
    "duration": 55,
    "start_time": "2023-02-05T20:53:39.745Z"
   },
   {
    "duration": 3,
    "start_time": "2023-02-05T20:53:39.802Z"
   },
   {
    "duration": 15,
    "start_time": "2023-02-05T20:53:39.807Z"
   },
   {
    "duration": 32,
    "start_time": "2023-02-05T20:53:39.824Z"
   },
   {
    "duration": 36,
    "start_time": "2023-02-05T20:53:39.858Z"
   },
   {
    "duration": 5,
    "start_time": "2023-02-05T20:53:39.895Z"
   },
   {
    "duration": 18,
    "start_time": "2023-02-05T20:53:39.905Z"
   },
   {
    "duration": 3,
    "start_time": "2023-02-05T20:53:39.924Z"
   },
   {
    "duration": 6,
    "start_time": "2023-02-05T20:53:39.929Z"
   },
   {
    "duration": 8,
    "start_time": "2023-02-05T20:53:39.936Z"
   },
   {
    "duration": 6,
    "start_time": "2023-02-05T20:53:39.946Z"
   },
   {
    "duration": 4,
    "start_time": "2023-02-05T20:53:39.954Z"
   },
   {
    "duration": 7,
    "start_time": "2023-02-05T20:53:39.959Z"
   },
   {
    "duration": 19,
    "start_time": "2023-02-05T20:53:39.994Z"
   },
   {
    "duration": 20,
    "start_time": "2023-02-05T20:53:40.014Z"
   },
   {
    "duration": 34,
    "start_time": "2023-02-05T20:53:40.036Z"
   },
   {
    "duration": 13,
    "start_time": "2023-02-05T20:53:40.072Z"
   },
   {
    "duration": 30,
    "start_time": "2023-02-05T20:53:40.087Z"
   },
   {
    "duration": 14,
    "start_time": "2023-02-05T20:53:40.118Z"
   },
   {
    "duration": 6,
    "start_time": "2023-02-05T20:53:40.134Z"
   },
   {
    "duration": 19,
    "start_time": "2023-02-05T20:53:40.142Z"
   },
   {
    "duration": 9,
    "start_time": "2023-02-05T20:53:40.163Z"
   },
   {
    "duration": 16,
    "start_time": "2023-02-05T20:53:40.173Z"
   },
   {
    "duration": 11,
    "start_time": "2023-02-05T20:53:40.191Z"
   },
   {
    "duration": 15,
    "start_time": "2023-02-05T20:53:40.204Z"
   },
   {
    "duration": 31,
    "start_time": "2023-02-05T20:53:40.221Z"
   },
   {
    "duration": 10,
    "start_time": "2023-02-05T20:53:40.254Z"
   },
   {
    "duration": 5,
    "start_time": "2023-02-05T20:53:40.265Z"
   },
   {
    "duration": 8,
    "start_time": "2023-02-05T20:53:40.271Z"
   },
   {
    "duration": 156,
    "start_time": "2023-02-05T20:53:40.280Z"
   },
   {
    "duration": 10,
    "start_time": "2023-02-05T20:53:40.437Z"
   },
   {
    "duration": 6,
    "start_time": "2023-02-05T20:53:40.449Z"
   },
   {
    "duration": 8,
    "start_time": "2023-02-05T20:53:40.456Z"
   },
   {
    "duration": 27,
    "start_time": "2023-02-05T20:53:40.465Z"
   },
   {
    "duration": 200,
    "start_time": "2023-02-05T20:53:40.494Z"
   },
   {
    "duration": 7,
    "start_time": "2023-02-05T20:53:40.698Z"
   },
   {
    "duration": 9,
    "start_time": "2023-02-05T20:53:40.707Z"
   },
   {
    "duration": 169,
    "start_time": "2023-02-05T20:53:40.718Z"
   },
   {
    "duration": 6,
    "start_time": "2023-02-05T20:53:40.892Z"
   },
   {
    "duration": 12,
    "start_time": "2023-02-05T20:53:40.900Z"
   },
   {
    "duration": 9,
    "start_time": "2023-02-05T20:53:40.916Z"
   },
   {
    "duration": 281,
    "start_time": "2023-02-05T20:53:40.927Z"
   },
   {
    "duration": 6,
    "start_time": "2023-02-05T20:53:41.210Z"
   },
   {
    "duration": 153,
    "start_time": "2023-02-05T20:53:41.217Z"
   },
   {
    "duration": 6,
    "start_time": "2023-02-05T20:53:41.371Z"
   },
   {
    "duration": 331,
    "start_time": "2023-02-05T20:53:41.378Z"
   },
   {
    "duration": 274,
    "start_time": "2023-02-05T20:53:41.710Z"
   },
   {
    "duration": 322,
    "start_time": "2023-02-05T20:53:41.994Z"
   },
   {
    "duration": 263,
    "start_time": "2023-02-05T20:53:42.318Z"
   },
   {
    "duration": 24,
    "start_time": "2023-02-05T20:53:42.582Z"
   },
   {
    "duration": 42,
    "start_time": "2023-02-05T20:53:42.608Z"
   },
   {
    "duration": 12,
    "start_time": "2023-02-05T20:53:42.652Z"
   },
   {
    "duration": 9,
    "start_time": "2023-02-05T20:53:42.666Z"
   },
   {
    "duration": 10,
    "start_time": "2023-02-05T20:53:42.677Z"
   },
   {
    "duration": 14,
    "start_time": "2023-02-05T20:53:42.689Z"
   },
   {
    "duration": 11,
    "start_time": "2023-02-05T20:53:42.710Z"
   },
   {
    "duration": 26,
    "start_time": "2023-02-05T20:53:42.723Z"
   },
   {
    "duration": 11,
    "start_time": "2023-02-05T20:53:42.751Z"
   },
   {
    "duration": 13,
    "start_time": "2023-02-05T20:53:42.763Z"
   },
   {
    "duration": 27,
    "start_time": "2023-02-05T20:53:42.778Z"
   },
   {
    "duration": 14,
    "start_time": "2023-02-05T20:53:42.811Z"
   },
   {
    "duration": 12,
    "start_time": "2023-02-05T20:53:42.826Z"
   },
   {
    "duration": 9,
    "start_time": "2023-02-05T20:53:42.839Z"
   },
   {
    "duration": 7,
    "start_time": "2023-02-05T20:53:42.850Z"
   },
   {
    "duration": 10,
    "start_time": "2023-02-05T20:53:42.858Z"
   },
   {
    "duration": 5,
    "start_time": "2023-02-05T20:53:42.870Z"
   },
   {
    "duration": 6,
    "start_time": "2023-02-05T20:53:42.877Z"
   },
   {
    "duration": 20,
    "start_time": "2023-02-05T20:53:42.891Z"
   },
   {
    "duration": 17,
    "start_time": "2023-02-05T20:53:42.913Z"
   },
   {
    "duration": 364,
    "start_time": "2023-02-06T16:24:27.497Z"
   },
   {
    "duration": 190,
    "start_time": "2023-02-06T16:24:27.862Z"
   },
   {
    "duration": 2,
    "start_time": "2023-02-06T16:24:28.054Z"
   },
   {
    "duration": 17,
    "start_time": "2023-02-06T16:24:28.058Z"
   },
   {
    "duration": 33,
    "start_time": "2023-02-06T16:24:28.077Z"
   },
   {
    "duration": 8,
    "start_time": "2023-02-06T16:24:28.111Z"
   },
   {
    "duration": 6,
    "start_time": "2023-02-06T16:24:28.120Z"
   },
   {
    "duration": 33,
    "start_time": "2023-02-06T16:24:28.127Z"
   },
   {
    "duration": 3,
    "start_time": "2023-02-06T16:24:28.162Z"
   },
   {
    "duration": 8,
    "start_time": "2023-02-06T16:24:28.168Z"
   },
   {
    "duration": 10,
    "start_time": "2023-02-06T16:24:28.178Z"
   },
   {
    "duration": 5,
    "start_time": "2023-02-06T16:24:28.190Z"
   },
   {
    "duration": 8,
    "start_time": "2023-02-06T16:24:28.196Z"
   },
   {
    "duration": 20,
    "start_time": "2023-02-06T16:24:28.205Z"
   },
   {
    "duration": 27,
    "start_time": "2023-02-06T16:24:28.227Z"
   },
   {
    "duration": 10,
    "start_time": "2023-02-06T16:24:28.255Z"
   },
   {
    "duration": 8,
    "start_time": "2023-02-06T16:24:28.266Z"
   },
   {
    "duration": 8,
    "start_time": "2023-02-06T16:24:28.276Z"
   },
   {
    "duration": 7,
    "start_time": "2023-02-06T16:24:28.286Z"
   },
   {
    "duration": 8,
    "start_time": "2023-02-06T16:24:28.294Z"
   },
   {
    "duration": 6,
    "start_time": "2023-02-06T16:24:28.303Z"
   },
   {
    "duration": 5,
    "start_time": "2023-02-06T16:24:28.310Z"
   },
   {
    "duration": 33,
    "start_time": "2023-02-06T16:24:28.316Z"
   },
   {
    "duration": 12,
    "start_time": "2023-02-06T16:24:28.350Z"
   },
   {
    "duration": 4,
    "start_time": "2023-02-06T16:24:28.363Z"
   },
   {
    "duration": 7,
    "start_time": "2023-02-06T16:24:28.368Z"
   },
   {
    "duration": 18,
    "start_time": "2023-02-06T16:24:28.376Z"
   },
   {
    "duration": 9,
    "start_time": "2023-02-06T16:24:28.398Z"
   },
   {
    "duration": 4,
    "start_time": "2023-02-06T16:24:28.408Z"
   },
   {
    "duration": 35,
    "start_time": "2023-02-06T16:24:28.413Z"
   },
   {
    "duration": 497,
    "start_time": "2023-02-06T16:24:28.449Z"
   },
   {
    "duration": 11,
    "start_time": "2023-02-06T16:24:28.948Z"
   },
   {
    "duration": 5,
    "start_time": "2023-02-06T16:24:28.961Z"
   },
   {
    "duration": 8,
    "start_time": "2023-02-06T16:24:28.969Z"
   },
   {
    "duration": 7,
    "start_time": "2023-02-06T16:24:28.978Z"
   },
   {
    "duration": 198,
    "start_time": "2023-02-06T16:24:28.987Z"
   },
   {
    "duration": 6,
    "start_time": "2023-02-06T16:24:29.188Z"
   },
   {
    "duration": 21,
    "start_time": "2023-02-06T16:24:29.196Z"
   },
   {
    "duration": 154,
    "start_time": "2023-02-06T16:24:29.218Z"
   },
   {
    "duration": 6,
    "start_time": "2023-02-06T16:24:29.374Z"
   },
   {
    "duration": 15,
    "start_time": "2023-02-06T16:24:29.382Z"
   },
   {
    "duration": 9,
    "start_time": "2023-02-06T16:24:29.400Z"
   },
   {
    "duration": 335,
    "start_time": "2023-02-06T16:24:29.411Z"
   },
   {
    "duration": 0,
    "start_time": "2023-02-06T16:24:29.748Z"
   },
   {
    "duration": 0,
    "start_time": "2023-02-06T16:24:29.749Z"
   },
   {
    "duration": 0,
    "start_time": "2023-02-06T16:24:29.750Z"
   },
   {
    "duration": 0,
    "start_time": "2023-02-06T16:24:29.751Z"
   },
   {
    "duration": 0,
    "start_time": "2023-02-06T16:24:29.753Z"
   },
   {
    "duration": 0,
    "start_time": "2023-02-06T16:24:29.754Z"
   },
   {
    "duration": 0,
    "start_time": "2023-02-06T16:24:29.755Z"
   },
   {
    "duration": 0,
    "start_time": "2023-02-06T16:24:29.755Z"
   },
   {
    "duration": 0,
    "start_time": "2023-02-06T16:24:29.756Z"
   },
   {
    "duration": 9,
    "start_time": "2023-02-06T16:24:55.693Z"
   },
   {
    "duration": 5,
    "start_time": "2023-02-06T16:25:00.310Z"
   },
   {
    "duration": 387,
    "start_time": "2023-02-06T16:28:47.415Z"
   },
   {
    "duration": 53,
    "start_time": "2023-02-06T16:28:47.804Z"
   },
   {
    "duration": 2,
    "start_time": "2023-02-06T16:28:47.858Z"
   },
   {
    "duration": 16,
    "start_time": "2023-02-06T16:28:47.862Z"
   },
   {
    "duration": 38,
    "start_time": "2023-02-06T16:28:47.879Z"
   },
   {
    "duration": 31,
    "start_time": "2023-02-06T16:28:47.919Z"
   },
   {
    "duration": 4,
    "start_time": "2023-02-06T16:28:47.952Z"
   },
   {
    "duration": 16,
    "start_time": "2023-02-06T16:28:47.957Z"
   },
   {
    "duration": 3,
    "start_time": "2023-02-06T16:28:47.975Z"
   },
   {
    "duration": 5,
    "start_time": "2023-02-06T16:28:47.981Z"
   },
   {
    "duration": 9,
    "start_time": "2023-02-06T16:28:47.987Z"
   },
   {
    "duration": 6,
    "start_time": "2023-02-06T16:28:47.998Z"
   },
   {
    "duration": 42,
    "start_time": "2023-02-06T16:28:48.005Z"
   },
   {
    "duration": 4,
    "start_time": "2023-02-06T16:28:48.049Z"
   },
   {
    "duration": 16,
    "start_time": "2023-02-06T16:28:48.055Z"
   },
   {
    "duration": 13,
    "start_time": "2023-02-06T16:28:48.073Z"
   },
   {
    "duration": 9,
    "start_time": "2023-02-06T16:28:48.087Z"
   },
   {
    "duration": 6,
    "start_time": "2023-02-06T16:28:48.097Z"
   },
   {
    "duration": 6,
    "start_time": "2023-02-06T16:28:48.105Z"
   },
   {
    "duration": 7,
    "start_time": "2023-02-06T16:28:48.113Z"
   },
   {
    "duration": 29,
    "start_time": "2023-02-06T16:28:48.121Z"
   },
   {
    "duration": 7,
    "start_time": "2023-02-06T16:28:48.151Z"
   },
   {
    "duration": 8,
    "start_time": "2023-02-06T16:28:48.159Z"
   },
   {
    "duration": 9,
    "start_time": "2023-02-06T16:28:48.168Z"
   },
   {
    "duration": 8,
    "start_time": "2023-02-06T16:28:48.179Z"
   },
   {
    "duration": 9,
    "start_time": "2023-02-06T16:28:48.189Z"
   },
   {
    "duration": 15,
    "start_time": "2023-02-06T16:28:48.199Z"
   },
   {
    "duration": 33,
    "start_time": "2023-02-06T16:28:48.216Z"
   },
   {
    "duration": 5,
    "start_time": "2023-02-06T16:28:48.250Z"
   },
   {
    "duration": 9,
    "start_time": "2023-02-06T16:28:48.256Z"
   },
   {
    "duration": 360,
    "start_time": "2023-02-06T16:28:48.267Z"
   },
   {
    "duration": 10,
    "start_time": "2023-02-06T16:28:48.628Z"
   },
   {
    "duration": 18,
    "start_time": "2023-02-06T16:28:48.639Z"
   },
   {
    "duration": 28,
    "start_time": "2023-02-06T16:28:48.659Z"
   },
   {
    "duration": 8,
    "start_time": "2023-02-06T16:28:48.689Z"
   },
   {
    "duration": 211,
    "start_time": "2023-02-06T16:28:48.698Z"
   },
   {
    "duration": 6,
    "start_time": "2023-02-06T16:28:48.910Z"
   },
   {
    "duration": 18,
    "start_time": "2023-02-06T16:28:48.917Z"
   },
   {
    "duration": 160,
    "start_time": "2023-02-06T16:28:48.936Z"
   },
   {
    "duration": 5,
    "start_time": "2023-02-06T16:28:49.098Z"
   },
   {
    "duration": 20,
    "start_time": "2023-02-06T16:28:49.104Z"
   },
   {
    "duration": 21,
    "start_time": "2023-02-06T16:28:49.126Z"
   },
   {
    "duration": 318,
    "start_time": "2023-02-06T16:28:49.149Z"
   },
   {
    "duration": 0,
    "start_time": "2023-02-06T16:28:49.469Z"
   },
   {
    "duration": 1,
    "start_time": "2023-02-06T16:28:49.470Z"
   },
   {
    "duration": 0,
    "start_time": "2023-02-06T16:28:49.471Z"
   },
   {
    "duration": 0,
    "start_time": "2023-02-06T16:28:49.472Z"
   },
   {
    "duration": 0,
    "start_time": "2023-02-06T16:28:49.474Z"
   },
   {
    "duration": 0,
    "start_time": "2023-02-06T16:28:49.475Z"
   },
   {
    "duration": 0,
    "start_time": "2023-02-06T16:28:49.476Z"
   },
   {
    "duration": 0,
    "start_time": "2023-02-06T16:28:49.477Z"
   },
   {
    "duration": 0,
    "start_time": "2023-02-06T16:28:49.478Z"
   },
   {
    "duration": 0,
    "start_time": "2023-02-06T16:28:49.479Z"
   },
   {
    "duration": 0,
    "start_time": "2023-02-06T16:28:49.480Z"
   },
   {
    "duration": 0,
    "start_time": "2023-02-06T16:28:49.482Z"
   },
   {
    "duration": 0,
    "start_time": "2023-02-06T16:28:49.483Z"
   },
   {
    "duration": 0,
    "start_time": "2023-02-06T16:28:49.484Z"
   },
   {
    "duration": 0,
    "start_time": "2023-02-06T16:28:49.485Z"
   },
   {
    "duration": 0,
    "start_time": "2023-02-06T16:28:49.486Z"
   },
   {
    "duration": 0,
    "start_time": "2023-02-06T16:28:49.487Z"
   },
   {
    "duration": 0,
    "start_time": "2023-02-06T16:28:49.488Z"
   },
   {
    "duration": 0,
    "start_time": "2023-02-06T16:28:49.489Z"
   },
   {
    "duration": 0,
    "start_time": "2023-02-06T16:28:49.490Z"
   },
   {
    "duration": 0,
    "start_time": "2023-02-06T16:28:49.491Z"
   },
   {
    "duration": 0,
    "start_time": "2023-02-06T16:28:49.492Z"
   },
   {
    "duration": 0,
    "start_time": "2023-02-06T16:28:49.493Z"
   },
   {
    "duration": 0,
    "start_time": "2023-02-06T16:28:49.495Z"
   },
   {
    "duration": 0,
    "start_time": "2023-02-06T16:28:49.496Z"
   },
   {
    "duration": 0,
    "start_time": "2023-02-06T16:28:49.497Z"
   },
   {
    "duration": 0,
    "start_time": "2023-02-06T16:28:49.498Z"
   },
   {
    "duration": 55,
    "start_time": "2023-02-06T16:30:56.515Z"
   },
   {
    "duration": 424,
    "start_time": "2023-02-06T16:31:04.912Z"
   },
   {
    "duration": 56,
    "start_time": "2023-02-06T16:31:05.348Z"
   },
   {
    "duration": 3,
    "start_time": "2023-02-06T16:31:05.407Z"
   },
   {
    "duration": 22,
    "start_time": "2023-02-06T16:31:05.412Z"
   },
   {
    "duration": 34,
    "start_time": "2023-02-06T16:31:05.436Z"
   },
   {
    "duration": 8,
    "start_time": "2023-02-06T16:31:05.472Z"
   },
   {
    "duration": 13,
    "start_time": "2023-02-06T16:31:05.482Z"
   },
   {
    "duration": 17,
    "start_time": "2023-02-06T16:31:05.497Z"
   },
   {
    "duration": 3,
    "start_time": "2023-02-06T16:31:05.516Z"
   },
   {
    "duration": 6,
    "start_time": "2023-02-06T16:31:05.521Z"
   },
   {
    "duration": 30,
    "start_time": "2023-02-06T16:31:05.528Z"
   },
   {
    "duration": 5,
    "start_time": "2023-02-06T16:31:05.559Z"
   },
   {
    "duration": 11,
    "start_time": "2023-02-06T16:31:05.565Z"
   },
   {
    "duration": 7,
    "start_time": "2023-02-06T16:31:05.578Z"
   },
   {
    "duration": 15,
    "start_time": "2023-02-06T16:31:05.587Z"
   },
   {
    "duration": 9,
    "start_time": "2023-02-06T16:31:05.604Z"
   },
   {
    "duration": 9,
    "start_time": "2023-02-06T16:31:05.615Z"
   },
   {
    "duration": 23,
    "start_time": "2023-02-06T16:31:05.625Z"
   },
   {
    "duration": 4,
    "start_time": "2023-02-06T16:31:05.650Z"
   },
   {
    "duration": 9,
    "start_time": "2023-02-06T16:31:05.656Z"
   },
   {
    "duration": 6,
    "start_time": "2023-02-06T16:31:05.667Z"
   },
   {
    "duration": 7,
    "start_time": "2023-02-06T16:31:05.675Z"
   },
   {
    "duration": 6,
    "start_time": "2023-02-06T16:31:05.684Z"
   },
   {
    "duration": 11,
    "start_time": "2023-02-06T16:31:05.692Z"
   },
   {
    "duration": 4,
    "start_time": "2023-02-06T16:31:05.705Z"
   },
   {
    "duration": 6,
    "start_time": "2023-02-06T16:31:05.711Z"
   },
   {
    "duration": 38,
    "start_time": "2023-02-06T16:31:05.719Z"
   },
   {
    "duration": 18,
    "start_time": "2023-02-06T16:31:05.760Z"
   },
   {
    "duration": 5,
    "start_time": "2023-02-06T16:31:05.780Z"
   },
   {
    "duration": 15,
    "start_time": "2023-02-06T16:31:05.786Z"
   },
   {
    "duration": 355,
    "start_time": "2023-02-06T16:31:05.802Z"
   },
   {
    "duration": 10,
    "start_time": "2023-02-06T16:31:06.159Z"
   },
   {
    "duration": 5,
    "start_time": "2023-02-06T16:31:06.171Z"
   },
   {
    "duration": 8,
    "start_time": "2023-02-06T16:31:06.178Z"
   },
   {
    "duration": 9,
    "start_time": "2023-02-06T16:31:06.188Z"
   },
   {
    "duration": 184,
    "start_time": "2023-02-06T16:31:06.198Z"
   },
   {
    "duration": 6,
    "start_time": "2023-02-06T16:31:06.383Z"
   },
   {
    "duration": 12,
    "start_time": "2023-02-06T16:31:06.390Z"
   },
   {
    "duration": 156,
    "start_time": "2023-02-06T16:31:06.403Z"
   },
   {
    "duration": 5,
    "start_time": "2023-02-06T16:31:06.560Z"
   },
   {
    "duration": 12,
    "start_time": "2023-02-06T16:31:06.567Z"
   },
   {
    "duration": 9,
    "start_time": "2023-02-06T16:31:06.581Z"
   },
   {
    "duration": 316,
    "start_time": "2023-02-06T16:31:06.592Z"
   },
   {
    "duration": 0,
    "start_time": "2023-02-06T16:31:06.910Z"
   },
   {
    "duration": 0,
    "start_time": "2023-02-06T16:31:06.911Z"
   },
   {
    "duration": 0,
    "start_time": "2023-02-06T16:31:06.913Z"
   },
   {
    "duration": 0,
    "start_time": "2023-02-06T16:31:06.914Z"
   },
   {
    "duration": 0,
    "start_time": "2023-02-06T16:31:06.916Z"
   },
   {
    "duration": 0,
    "start_time": "2023-02-06T16:31:06.917Z"
   },
   {
    "duration": 0,
    "start_time": "2023-02-06T16:31:06.918Z"
   },
   {
    "duration": 0,
    "start_time": "2023-02-06T16:31:06.919Z"
   },
   {
    "duration": 0,
    "start_time": "2023-02-06T16:31:06.924Z"
   },
   {
    "duration": 0,
    "start_time": "2023-02-06T16:31:06.926Z"
   },
   {
    "duration": 0,
    "start_time": "2023-02-06T16:31:06.948Z"
   },
   {
    "duration": 0,
    "start_time": "2023-02-06T16:31:06.950Z"
   },
   {
    "duration": 0,
    "start_time": "2023-02-06T16:31:06.951Z"
   },
   {
    "duration": 0,
    "start_time": "2023-02-06T16:31:06.952Z"
   },
   {
    "duration": 0,
    "start_time": "2023-02-06T16:31:06.953Z"
   },
   {
    "duration": 0,
    "start_time": "2023-02-06T16:31:06.954Z"
   },
   {
    "duration": 0,
    "start_time": "2023-02-06T16:31:06.955Z"
   },
   {
    "duration": 0,
    "start_time": "2023-02-06T16:31:06.956Z"
   },
   {
    "duration": 0,
    "start_time": "2023-02-06T16:31:06.957Z"
   },
   {
    "duration": 0,
    "start_time": "2023-02-06T16:31:06.958Z"
   },
   {
    "duration": 0,
    "start_time": "2023-02-06T16:31:06.959Z"
   },
   {
    "duration": 0,
    "start_time": "2023-02-06T16:31:06.960Z"
   },
   {
    "duration": 0,
    "start_time": "2023-02-06T16:31:06.961Z"
   },
   {
    "duration": 0,
    "start_time": "2023-02-06T16:31:06.962Z"
   },
   {
    "duration": 0,
    "start_time": "2023-02-06T16:31:06.963Z"
   },
   {
    "duration": 0,
    "start_time": "2023-02-06T16:31:06.964Z"
   },
   {
    "duration": 0,
    "start_time": "2023-02-06T16:31:06.965Z"
   },
   {
    "duration": 452,
    "start_time": "2023-02-06T20:18:47.175Z"
   },
   {
    "duration": 512,
    "start_time": "2023-02-06T20:18:47.629Z"
   },
   {
    "duration": 3,
    "start_time": "2023-02-06T20:18:48.143Z"
   },
   {
    "duration": 18,
    "start_time": "2023-02-06T20:18:48.147Z"
   },
   {
    "duration": 43,
    "start_time": "2023-02-06T20:18:48.166Z"
   },
   {
    "duration": 9,
    "start_time": "2023-02-06T20:18:48.211Z"
   },
   {
    "duration": 7,
    "start_time": "2023-02-06T20:18:48.222Z"
   },
   {
    "duration": 17,
    "start_time": "2023-02-06T20:18:48.231Z"
   },
   {
    "duration": 3,
    "start_time": "2023-02-06T20:18:48.249Z"
   },
   {
    "duration": 15,
    "start_time": "2023-02-06T20:18:48.285Z"
   },
   {
    "duration": 17,
    "start_time": "2023-02-06T20:18:48.303Z"
   },
   {
    "duration": 7,
    "start_time": "2023-02-06T20:18:48.321Z"
   },
   {
    "duration": 5,
    "start_time": "2023-02-06T20:18:48.330Z"
   },
   {
    "duration": 7,
    "start_time": "2023-02-06T20:18:48.337Z"
   },
   {
    "duration": 15,
    "start_time": "2023-02-06T20:18:48.345Z"
   },
   {
    "duration": 34,
    "start_time": "2023-02-06T20:18:48.361Z"
   },
   {
    "duration": 14,
    "start_time": "2023-02-06T20:18:48.400Z"
   },
   {
    "duration": 5,
    "start_time": "2023-02-06T20:18:48.415Z"
   },
   {
    "duration": 16,
    "start_time": "2023-02-06T20:18:48.422Z"
   },
   {
    "duration": 8,
    "start_time": "2023-02-06T20:18:48.439Z"
   },
   {
    "duration": 5,
    "start_time": "2023-02-06T20:18:48.448Z"
   },
   {
    "duration": 7,
    "start_time": "2023-02-06T20:18:48.455Z"
   },
   {
    "duration": 22,
    "start_time": "2023-02-06T20:18:48.463Z"
   },
   {
    "duration": 23,
    "start_time": "2023-02-06T20:18:48.486Z"
   },
   {
    "duration": 10,
    "start_time": "2023-02-06T20:18:48.512Z"
   },
   {
    "duration": 10,
    "start_time": "2023-02-06T20:18:48.524Z"
   },
   {
    "duration": 21,
    "start_time": "2023-02-06T20:18:48.535Z"
   },
   {
    "duration": 15,
    "start_time": "2023-02-06T20:18:48.560Z"
   },
   {
    "duration": 4,
    "start_time": "2023-02-06T20:18:48.576Z"
   },
   {
    "duration": 35,
    "start_time": "2023-02-06T20:18:48.582Z"
   },
   {
    "duration": 592,
    "start_time": "2023-02-06T20:18:48.619Z"
   },
   {
    "duration": 13,
    "start_time": "2023-02-06T20:18:49.213Z"
   },
   {
    "duration": 8,
    "start_time": "2023-02-06T20:18:49.227Z"
   },
   {
    "duration": 11,
    "start_time": "2023-02-06T20:18:49.237Z"
   },
   {
    "duration": 6,
    "start_time": "2023-02-06T20:18:49.249Z"
   },
   {
    "duration": 220,
    "start_time": "2023-02-06T20:18:49.256Z"
   },
   {
    "duration": 26,
    "start_time": "2023-02-06T20:18:49.478Z"
   },
   {
    "duration": 10,
    "start_time": "2023-02-06T20:18:49.510Z"
   },
   {
    "duration": 187,
    "start_time": "2023-02-06T20:18:49.522Z"
   },
   {
    "duration": 5,
    "start_time": "2023-02-06T20:18:49.711Z"
   },
   {
    "duration": 28,
    "start_time": "2023-02-06T20:18:49.718Z"
   },
   {
    "duration": 11,
    "start_time": "2023-02-06T20:18:49.747Z"
   },
   {
    "duration": 344,
    "start_time": "2023-02-06T20:18:49.760Z"
   },
   {
    "duration": 0,
    "start_time": "2023-02-06T20:18:50.107Z"
   },
   {
    "duration": 0,
    "start_time": "2023-02-06T20:18:50.109Z"
   },
   {
    "duration": 0,
    "start_time": "2023-02-06T20:18:50.114Z"
   },
   {
    "duration": 0,
    "start_time": "2023-02-06T20:18:50.116Z"
   },
   {
    "duration": 0,
    "start_time": "2023-02-06T20:18:50.117Z"
   },
   {
    "duration": 0,
    "start_time": "2023-02-06T20:18:50.118Z"
   },
   {
    "duration": 0,
    "start_time": "2023-02-06T20:18:50.120Z"
   },
   {
    "duration": 0,
    "start_time": "2023-02-06T20:18:50.121Z"
   },
   {
    "duration": 0,
    "start_time": "2023-02-06T20:18:50.122Z"
   },
   {
    "duration": 0,
    "start_time": "2023-02-06T20:18:50.124Z"
   },
   {
    "duration": 0,
    "start_time": "2023-02-06T20:18:50.125Z"
   },
   {
    "duration": 0,
    "start_time": "2023-02-06T20:18:50.127Z"
   },
   {
    "duration": 0,
    "start_time": "2023-02-06T20:18:50.128Z"
   },
   {
    "duration": 0,
    "start_time": "2023-02-06T20:18:50.130Z"
   },
   {
    "duration": 0,
    "start_time": "2023-02-06T20:18:50.132Z"
   },
   {
    "duration": 0,
    "start_time": "2023-02-06T20:18:50.133Z"
   },
   {
    "duration": 0,
    "start_time": "2023-02-06T20:18:50.134Z"
   },
   {
    "duration": 0,
    "start_time": "2023-02-06T20:18:50.136Z"
   },
   {
    "duration": 0,
    "start_time": "2023-02-06T20:18:50.138Z"
   },
   {
    "duration": 0,
    "start_time": "2023-02-06T20:18:50.139Z"
   },
   {
    "duration": 0,
    "start_time": "2023-02-06T20:18:50.184Z"
   },
   {
    "duration": 0,
    "start_time": "2023-02-06T20:18:50.185Z"
   },
   {
    "duration": 0,
    "start_time": "2023-02-06T20:18:50.190Z"
   },
   {
    "duration": 0,
    "start_time": "2023-02-06T20:18:50.191Z"
   },
   {
    "duration": 0,
    "start_time": "2023-02-06T20:18:50.192Z"
   },
   {
    "duration": 0,
    "start_time": "2023-02-06T20:18:50.193Z"
   },
   {
    "duration": 0,
    "start_time": "2023-02-06T20:18:50.193Z"
   },
   {
    "duration": 3,
    "start_time": "2023-02-06T20:19:19.710Z"
   },
   {
    "duration": 90,
    "start_time": "2023-02-06T20:19:19.715Z"
   },
   {
    "duration": 5,
    "start_time": "2023-02-06T20:19:19.807Z"
   },
   {
    "duration": 33,
    "start_time": "2023-02-06T20:19:19.814Z"
   },
   {
    "duration": 65,
    "start_time": "2023-02-06T20:19:19.849Z"
   },
   {
    "duration": 20,
    "start_time": "2023-02-06T20:19:19.916Z"
   },
   {
    "duration": 21,
    "start_time": "2023-02-06T20:19:19.938Z"
   },
   {
    "duration": 50,
    "start_time": "2023-02-06T20:19:19.960Z"
   },
   {
    "duration": 17,
    "start_time": "2023-02-06T20:19:20.013Z"
   },
   {
    "duration": 23,
    "start_time": "2023-02-06T20:19:20.033Z"
   },
   {
    "duration": 30,
    "start_time": "2023-02-06T20:19:20.059Z"
   },
   {
    "duration": 35,
    "start_time": "2023-02-06T20:19:20.091Z"
   },
   {
    "duration": 20,
    "start_time": "2023-02-06T20:19:20.128Z"
   },
   {
    "duration": 5,
    "start_time": "2023-02-06T20:19:20.207Z"
   },
   {
    "duration": 34,
    "start_time": "2023-02-06T20:19:20.214Z"
   },
   {
    "duration": 73,
    "start_time": "2023-02-06T20:19:20.249Z"
   },
   {
    "duration": 12,
    "start_time": "2023-02-06T20:19:20.324Z"
   },
   {
    "duration": 21,
    "start_time": "2023-02-06T20:19:20.338Z"
   },
   {
    "duration": 43,
    "start_time": "2023-02-06T20:19:20.360Z"
   },
   {
    "duration": 39,
    "start_time": "2023-02-06T20:19:20.414Z"
   },
   {
    "duration": 17,
    "start_time": "2023-02-06T20:19:20.454Z"
   },
   {
    "duration": 39,
    "start_time": "2023-02-06T20:19:20.473Z"
   },
   {
    "duration": 34,
    "start_time": "2023-02-06T20:19:20.513Z"
   },
   {
    "duration": 107,
    "start_time": "2023-02-06T20:19:20.549Z"
   },
   {
    "duration": 44,
    "start_time": "2023-02-06T20:19:20.658Z"
   },
   {
    "duration": 37,
    "start_time": "2023-02-06T20:19:20.704Z"
   },
   {
    "duration": 50,
    "start_time": "2023-02-06T20:19:20.743Z"
   },
   {
    "duration": 38,
    "start_time": "2023-02-06T20:19:20.800Z"
   },
   {
    "duration": 20,
    "start_time": "2023-02-06T20:19:20.840Z"
   },
   {
    "duration": 56,
    "start_time": "2023-02-06T20:19:20.862Z"
   },
   {
    "duration": 194,
    "start_time": "2023-02-06T20:19:20.920Z"
   },
   {
    "duration": 10,
    "start_time": "2023-02-06T20:19:21.116Z"
   },
   {
    "duration": 83,
    "start_time": "2023-02-06T20:19:21.127Z"
   },
   {
    "duration": 17,
    "start_time": "2023-02-06T20:19:21.212Z"
   },
   {
    "duration": 21,
    "start_time": "2023-02-06T20:19:21.230Z"
   },
   {
    "duration": 214,
    "start_time": "2023-02-06T20:19:21.252Z"
   },
   {
    "duration": 6,
    "start_time": "2023-02-06T20:19:21.468Z"
   },
   {
    "duration": 12,
    "start_time": "2023-02-06T20:19:21.484Z"
   },
   {
    "duration": 171,
    "start_time": "2023-02-06T20:19:21.501Z"
   },
   {
    "duration": 11,
    "start_time": "2023-02-06T20:19:21.675Z"
   },
   {
    "duration": 29,
    "start_time": "2023-02-06T20:19:21.695Z"
   },
   {
    "duration": 21,
    "start_time": "2023-02-06T20:19:21.726Z"
   },
   {
    "duration": 283,
    "start_time": "2023-02-06T20:19:21.749Z"
   },
   {
    "duration": 0,
    "start_time": "2023-02-06T20:19:22.034Z"
   },
   {
    "duration": 0,
    "start_time": "2023-02-06T20:19:22.035Z"
   },
   {
    "duration": 0,
    "start_time": "2023-02-06T20:19:22.036Z"
   },
   {
    "duration": 0,
    "start_time": "2023-02-06T20:19:22.037Z"
   },
   {
    "duration": 0,
    "start_time": "2023-02-06T20:19:22.038Z"
   },
   {
    "duration": 0,
    "start_time": "2023-02-06T20:19:22.039Z"
   },
   {
    "duration": 0,
    "start_time": "2023-02-06T20:19:22.040Z"
   },
   {
    "duration": 0,
    "start_time": "2023-02-06T20:19:22.041Z"
   },
   {
    "duration": 0,
    "start_time": "2023-02-06T20:19:22.041Z"
   },
   {
    "duration": 0,
    "start_time": "2023-02-06T20:19:22.042Z"
   },
   {
    "duration": 0,
    "start_time": "2023-02-06T20:19:22.043Z"
   },
   {
    "duration": 0,
    "start_time": "2023-02-06T20:19:22.045Z"
   },
   {
    "duration": 0,
    "start_time": "2023-02-06T20:19:22.045Z"
   },
   {
    "duration": 0,
    "start_time": "2023-02-06T20:19:22.046Z"
   },
   {
    "duration": 0,
    "start_time": "2023-02-06T20:19:22.047Z"
   },
   {
    "duration": 0,
    "start_time": "2023-02-06T20:19:22.049Z"
   },
   {
    "duration": 0,
    "start_time": "2023-02-06T20:19:22.049Z"
   },
   {
    "duration": 0,
    "start_time": "2023-02-06T20:19:22.050Z"
   },
   {
    "duration": 0,
    "start_time": "2023-02-06T20:19:22.051Z"
   },
   {
    "duration": 0,
    "start_time": "2023-02-06T20:19:22.088Z"
   },
   {
    "duration": 0,
    "start_time": "2023-02-06T20:19:22.089Z"
   },
   {
    "duration": 0,
    "start_time": "2023-02-06T20:19:22.089Z"
   },
   {
    "duration": 0,
    "start_time": "2023-02-06T20:19:22.090Z"
   },
   {
    "duration": 0,
    "start_time": "2023-02-06T20:19:22.090Z"
   },
   {
    "duration": 0,
    "start_time": "2023-02-06T20:19:22.093Z"
   },
   {
    "duration": 0,
    "start_time": "2023-02-06T20:19:22.098Z"
   },
   {
    "duration": 0,
    "start_time": "2023-02-06T20:19:22.099Z"
   },
   {
    "duration": 2,
    "start_time": "2023-02-06T20:19:54.778Z"
   },
   {
    "duration": 64,
    "start_time": "2023-02-06T20:19:56.247Z"
   },
   {
    "duration": 2,
    "start_time": "2023-02-06T20:19:58.735Z"
   },
   {
    "duration": 15,
    "start_time": "2023-02-06T20:20:01.002Z"
   },
   {
    "duration": 478,
    "start_time": "2023-02-06T20:20:37.894Z"
   },
   {
    "duration": 82,
    "start_time": "2023-02-06T20:20:38.374Z"
   },
   {
    "duration": 3,
    "start_time": "2023-02-06T20:20:38.458Z"
   },
   {
    "duration": 44,
    "start_time": "2023-02-06T20:20:38.463Z"
   },
   {
    "duration": 108,
    "start_time": "2023-02-06T20:20:38.509Z"
   },
   {
    "duration": 16,
    "start_time": "2023-02-06T20:20:38.619Z"
   },
   {
    "duration": 26,
    "start_time": "2023-02-06T20:20:38.644Z"
   },
   {
    "duration": 63,
    "start_time": "2023-02-06T20:20:38.672Z"
   },
   {
    "duration": 28,
    "start_time": "2023-02-06T20:20:38.739Z"
   },
   {
    "duration": 64,
    "start_time": "2023-02-06T20:20:38.772Z"
   },
   {
    "duration": 48,
    "start_time": "2023-02-06T20:20:38.838Z"
   },
   {
    "duration": 51,
    "start_time": "2023-02-06T20:20:38.889Z"
   },
   {
    "duration": 21,
    "start_time": "2023-02-06T20:20:38.942Z"
   },
   {
    "duration": 75,
    "start_time": "2023-02-06T20:20:38.965Z"
   },
   {
    "duration": 53,
    "start_time": "2023-02-06T20:20:39.042Z"
   },
   {
    "duration": 67,
    "start_time": "2023-02-06T20:20:39.098Z"
   },
   {
    "duration": 62,
    "start_time": "2023-02-06T20:20:39.167Z"
   },
   {
    "duration": 24,
    "start_time": "2023-02-06T20:20:39.231Z"
   },
   {
    "duration": 66,
    "start_time": "2023-02-06T20:20:39.257Z"
   },
   {
    "duration": 53,
    "start_time": "2023-02-06T20:20:39.325Z"
   },
   {
    "duration": 71,
    "start_time": "2023-02-06T20:20:39.379Z"
   },
   {
    "duration": 43,
    "start_time": "2023-02-06T20:20:39.452Z"
   },
   {
    "duration": 52,
    "start_time": "2023-02-06T20:20:39.516Z"
   },
   {
    "duration": 70,
    "start_time": "2023-02-06T20:20:39.570Z"
   },
   {
    "duration": 18,
    "start_time": "2023-02-06T20:20:39.642Z"
   },
   {
    "duration": 40,
    "start_time": "2023-02-06T20:20:39.662Z"
   },
   {
    "duration": 43,
    "start_time": "2023-02-06T20:20:39.704Z"
   },
   {
    "duration": 52,
    "start_time": "2023-02-06T20:20:39.753Z"
   },
   {
    "duration": 19,
    "start_time": "2023-02-06T20:20:39.808Z"
   },
   {
    "duration": 28,
    "start_time": "2023-02-06T20:20:39.830Z"
   },
   {
    "duration": 530,
    "start_time": "2023-02-06T20:20:39.860Z"
   },
   {
    "duration": 19,
    "start_time": "2023-02-06T20:20:40.402Z"
   },
   {
    "duration": 47,
    "start_time": "2023-02-06T20:20:40.423Z"
   },
   {
    "duration": 50,
    "start_time": "2023-02-06T20:20:40.472Z"
   },
   {
    "duration": 26,
    "start_time": "2023-02-06T20:20:40.524Z"
   },
   {
    "duration": 310,
    "start_time": "2023-02-06T20:20:40.552Z"
   },
   {
    "duration": 7,
    "start_time": "2023-02-06T20:20:40.864Z"
   },
   {
    "duration": 53,
    "start_time": "2023-02-06T20:20:40.872Z"
   },
   {
    "duration": 212,
    "start_time": "2023-02-06T20:20:40.927Z"
   },
   {
    "duration": 10,
    "start_time": "2023-02-06T20:20:41.140Z"
   },
   {
    "duration": 48,
    "start_time": "2023-02-06T20:20:41.151Z"
   },
   {
    "duration": 36,
    "start_time": "2023-02-06T20:20:41.209Z"
   },
   {
    "duration": 468,
    "start_time": "2023-02-06T20:20:41.247Z"
   },
   {
    "duration": 0,
    "start_time": "2023-02-06T20:20:41.717Z"
   },
   {
    "duration": 0,
    "start_time": "2023-02-06T20:20:41.718Z"
   },
   {
    "duration": 0,
    "start_time": "2023-02-06T20:20:41.719Z"
   },
   {
    "duration": 0,
    "start_time": "2023-02-06T20:20:41.721Z"
   },
   {
    "duration": 0,
    "start_time": "2023-02-06T20:20:41.722Z"
   },
   {
    "duration": 0,
    "start_time": "2023-02-06T20:20:41.723Z"
   },
   {
    "duration": 0,
    "start_time": "2023-02-06T20:20:41.725Z"
   },
   {
    "duration": 0,
    "start_time": "2023-02-06T20:20:41.726Z"
   },
   {
    "duration": 0,
    "start_time": "2023-02-06T20:20:41.727Z"
   },
   {
    "duration": 0,
    "start_time": "2023-02-06T20:20:41.727Z"
   },
   {
    "duration": 0,
    "start_time": "2023-02-06T20:20:41.728Z"
   },
   {
    "duration": 0,
    "start_time": "2023-02-06T20:20:41.730Z"
   },
   {
    "duration": 0,
    "start_time": "2023-02-06T20:20:41.731Z"
   },
   {
    "duration": 0,
    "start_time": "2023-02-06T20:20:41.731Z"
   },
   {
    "duration": 0,
    "start_time": "2023-02-06T20:20:41.732Z"
   },
   {
    "duration": 0,
    "start_time": "2023-02-06T20:20:41.733Z"
   },
   {
    "duration": 0,
    "start_time": "2023-02-06T20:20:41.733Z"
   },
   {
    "duration": 0,
    "start_time": "2023-02-06T20:20:41.735Z"
   },
   {
    "duration": 0,
    "start_time": "2023-02-06T20:20:41.736Z"
   },
   {
    "duration": 0,
    "start_time": "2023-02-06T20:20:41.738Z"
   },
   {
    "duration": 0,
    "start_time": "2023-02-06T20:20:41.739Z"
   },
   {
    "duration": 0,
    "start_time": "2023-02-06T20:20:41.740Z"
   },
   {
    "duration": 0,
    "start_time": "2023-02-06T20:20:41.742Z"
   },
   {
    "duration": 0,
    "start_time": "2023-02-06T20:20:41.743Z"
   },
   {
    "duration": 0,
    "start_time": "2023-02-06T20:20:41.783Z"
   },
   {
    "duration": 0,
    "start_time": "2023-02-06T20:20:41.784Z"
   },
   {
    "duration": 0,
    "start_time": "2023-02-06T20:20:41.860Z"
   },
   {
    "duration": 3,
    "start_time": "2023-02-06T20:21:08.353Z"
   },
   {
    "duration": 70,
    "start_time": "2023-02-06T20:21:08.362Z"
   },
   {
    "duration": 3,
    "start_time": "2023-02-06T20:21:08.435Z"
   },
   {
    "duration": 55,
    "start_time": "2023-02-06T20:21:08.440Z"
   },
   {
    "duration": 43,
    "start_time": "2023-02-06T20:21:08.503Z"
   },
   {
    "duration": 23,
    "start_time": "2023-02-06T20:21:08.549Z"
   },
   {
    "duration": 42,
    "start_time": "2023-02-06T20:21:08.574Z"
   },
   {
    "duration": 40,
    "start_time": "2023-02-06T20:21:08.618Z"
   },
   {
    "duration": 24,
    "start_time": "2023-02-06T20:21:08.660Z"
   },
   {
    "duration": 37,
    "start_time": "2023-02-06T20:21:08.686Z"
   },
   {
    "duration": 51,
    "start_time": "2023-02-06T20:21:08.724Z"
   },
   {
    "duration": 34,
    "start_time": "2023-02-06T20:21:08.777Z"
   },
   {
    "duration": 25,
    "start_time": "2023-02-06T20:21:08.812Z"
   },
   {
    "duration": 24,
    "start_time": "2023-02-06T20:21:08.839Z"
   },
   {
    "duration": 20,
    "start_time": "2023-02-06T20:21:08.867Z"
   },
   {
    "duration": 43,
    "start_time": "2023-02-06T20:21:08.889Z"
   },
   {
    "duration": 31,
    "start_time": "2023-02-06T20:21:08.934Z"
   },
   {
    "duration": 39,
    "start_time": "2023-02-06T20:21:08.966Z"
   },
   {
    "duration": 26,
    "start_time": "2023-02-06T20:21:09.006Z"
   },
   {
    "duration": 24,
    "start_time": "2023-02-06T20:21:09.034Z"
   },
   {
    "duration": 17,
    "start_time": "2023-02-06T20:21:09.060Z"
   },
   {
    "duration": 43,
    "start_time": "2023-02-06T20:21:09.078Z"
   },
   {
    "duration": 27,
    "start_time": "2023-02-06T20:21:09.123Z"
   },
   {
    "duration": 26,
    "start_time": "2023-02-06T20:21:09.151Z"
   },
   {
    "duration": 17,
    "start_time": "2023-02-06T20:21:09.178Z"
   },
   {
    "duration": 16,
    "start_time": "2023-02-06T20:21:09.196Z"
   },
   {
    "duration": 21,
    "start_time": "2023-02-06T20:21:09.215Z"
   },
   {
    "duration": 12,
    "start_time": "2023-02-06T20:21:09.238Z"
   },
   {
    "duration": 5,
    "start_time": "2023-02-06T20:21:09.251Z"
   },
   {
    "duration": 10,
    "start_time": "2023-02-06T20:21:09.257Z"
   },
   {
    "duration": 206,
    "start_time": "2023-02-06T20:21:09.269Z"
   },
   {
    "duration": 20,
    "start_time": "2023-02-06T20:21:09.476Z"
   },
   {
    "duration": 25,
    "start_time": "2023-02-06T20:21:09.499Z"
   },
   {
    "duration": 10,
    "start_time": "2023-02-06T20:21:09.526Z"
   },
   {
    "duration": 20,
    "start_time": "2023-02-06T20:21:09.538Z"
   },
   {
    "duration": 250,
    "start_time": "2023-02-06T20:21:09.560Z"
   },
   {
    "duration": 7,
    "start_time": "2023-02-06T20:21:09.814Z"
   },
   {
    "duration": 7,
    "start_time": "2023-02-06T20:21:09.822Z"
   },
   {
    "duration": 233,
    "start_time": "2023-02-06T20:21:09.831Z"
   },
   {
    "duration": 6,
    "start_time": "2023-02-06T20:21:10.065Z"
   },
   {
    "duration": 35,
    "start_time": "2023-02-06T20:21:10.088Z"
   },
   {
    "duration": 12,
    "start_time": "2023-02-06T20:21:10.127Z"
   },
   {
    "duration": 336,
    "start_time": "2023-02-06T20:21:10.140Z"
   },
   {
    "duration": 0,
    "start_time": "2023-02-06T20:21:10.478Z"
   },
   {
    "duration": 0,
    "start_time": "2023-02-06T20:21:10.479Z"
   },
   {
    "duration": 0,
    "start_time": "2023-02-06T20:21:10.482Z"
   },
   {
    "duration": 0,
    "start_time": "2023-02-06T20:21:10.483Z"
   },
   {
    "duration": 0,
    "start_time": "2023-02-06T20:21:10.484Z"
   },
   {
    "duration": 0,
    "start_time": "2023-02-06T20:21:10.485Z"
   },
   {
    "duration": 0,
    "start_time": "2023-02-06T20:21:10.485Z"
   },
   {
    "duration": 0,
    "start_time": "2023-02-06T20:21:10.486Z"
   },
   {
    "duration": 0,
    "start_time": "2023-02-06T20:21:10.487Z"
   },
   {
    "duration": 0,
    "start_time": "2023-02-06T20:21:10.488Z"
   },
   {
    "duration": 0,
    "start_time": "2023-02-06T20:21:10.488Z"
   },
   {
    "duration": 0,
    "start_time": "2023-02-06T20:21:10.489Z"
   },
   {
    "duration": 0,
    "start_time": "2023-02-06T20:21:10.490Z"
   },
   {
    "duration": 0,
    "start_time": "2023-02-06T20:21:10.491Z"
   },
   {
    "duration": 0,
    "start_time": "2023-02-06T20:21:10.492Z"
   },
   {
    "duration": 0,
    "start_time": "2023-02-06T20:21:10.493Z"
   },
   {
    "duration": 0,
    "start_time": "2023-02-06T20:21:10.495Z"
   },
   {
    "duration": 0,
    "start_time": "2023-02-06T20:21:10.498Z"
   },
   {
    "duration": 0,
    "start_time": "2023-02-06T20:21:10.500Z"
   },
   {
    "duration": 0,
    "start_time": "2023-02-06T20:21:10.501Z"
   },
   {
    "duration": 0,
    "start_time": "2023-02-06T20:21:10.502Z"
   },
   {
    "duration": 0,
    "start_time": "2023-02-06T20:21:10.503Z"
   },
   {
    "duration": 0,
    "start_time": "2023-02-06T20:21:10.504Z"
   },
   {
    "duration": 0,
    "start_time": "2023-02-06T20:21:10.505Z"
   },
   {
    "duration": 0,
    "start_time": "2023-02-06T20:21:10.508Z"
   },
   {
    "duration": 0,
    "start_time": "2023-02-06T20:21:10.509Z"
   },
   {
    "duration": 0,
    "start_time": "2023-02-06T20:21:10.509Z"
   },
   {
    "duration": 69,
    "start_time": "2023-02-06T20:25:02.838Z"
   },
   {
    "duration": 5,
    "start_time": "2023-02-06T20:25:09.561Z"
   },
   {
    "duration": 13,
    "start_time": "2023-02-06T20:25:10.962Z"
   },
   {
    "duration": 47,
    "start_time": "2023-02-06T20:26:19.612Z"
   },
   {
    "duration": 71,
    "start_time": "2023-02-06T20:26:25.882Z"
   },
   {
    "duration": 46,
    "start_time": "2023-02-06T20:26:32.111Z"
   },
   {
    "duration": 91,
    "start_time": "2023-02-06T20:26:45.010Z"
   },
   {
    "duration": 11,
    "start_time": "2023-02-06T20:27:44.407Z"
   },
   {
    "duration": 149,
    "start_time": "2023-02-06T20:31:16.130Z"
   },
   {
    "duration": 184,
    "start_time": "2023-02-06T20:32:52.473Z"
   },
   {
    "duration": 280,
    "start_time": "2023-02-06T20:35:19.057Z"
   },
   {
    "duration": 251,
    "start_time": "2023-02-06T20:35:29.809Z"
   },
   {
    "duration": 406,
    "start_time": "2023-02-06T20:37:42.728Z"
   },
   {
    "duration": 57,
    "start_time": "2023-02-06T20:37:43.136Z"
   },
   {
    "duration": 4,
    "start_time": "2023-02-06T20:37:43.209Z"
   },
   {
    "duration": 23,
    "start_time": "2023-02-06T20:37:43.216Z"
   },
   {
    "duration": 36,
    "start_time": "2023-02-06T20:37:43.241Z"
   },
   {
    "duration": 12,
    "start_time": "2023-02-06T20:37:43.278Z"
   },
   {
    "duration": 16,
    "start_time": "2023-02-06T20:37:43.292Z"
   },
   {
    "duration": 4,
    "start_time": "2023-02-06T20:37:43.310Z"
   },
   {
    "duration": 17,
    "start_time": "2023-02-06T20:37:43.315Z"
   },
   {
    "duration": 3,
    "start_time": "2023-02-06T20:37:43.334Z"
   },
   {
    "duration": 7,
    "start_time": "2023-02-06T20:37:43.339Z"
   },
   {
    "duration": 41,
    "start_time": "2023-02-06T20:37:43.348Z"
   },
   {
    "duration": 9,
    "start_time": "2023-02-06T20:37:43.391Z"
   },
   {
    "duration": 10,
    "start_time": "2023-02-06T20:37:43.402Z"
   },
   {
    "duration": 8,
    "start_time": "2023-02-06T20:37:43.413Z"
   },
   {
    "duration": 23,
    "start_time": "2023-02-06T20:37:43.423Z"
   },
   {
    "duration": 12,
    "start_time": "2023-02-06T20:37:43.447Z"
   },
   {
    "duration": 25,
    "start_time": "2023-02-06T20:37:43.461Z"
   },
   {
    "duration": 23,
    "start_time": "2023-02-06T20:37:43.488Z"
   },
   {
    "duration": 8,
    "start_time": "2023-02-06T20:37:43.513Z"
   },
   {
    "duration": 11,
    "start_time": "2023-02-06T20:37:43.523Z"
   },
   {
    "duration": 10,
    "start_time": "2023-02-06T20:37:43.537Z"
   },
   {
    "duration": 10,
    "start_time": "2023-02-06T20:37:43.549Z"
   },
   {
    "duration": 8,
    "start_time": "2023-02-06T20:37:43.561Z"
   },
   {
    "duration": 23,
    "start_time": "2023-02-06T20:37:43.571Z"
   },
   {
    "duration": 22,
    "start_time": "2023-02-06T20:37:43.597Z"
   },
   {
    "duration": 17,
    "start_time": "2023-02-06T20:37:43.621Z"
   },
   {
    "duration": 28,
    "start_time": "2023-02-06T20:37:43.642Z"
   },
   {
    "duration": 23,
    "start_time": "2023-02-06T20:37:43.672Z"
   },
   {
    "duration": 23,
    "start_time": "2023-02-06T20:37:43.698Z"
   },
   {
    "duration": 17,
    "start_time": "2023-02-06T20:37:43.723Z"
   },
   {
    "duration": 391,
    "start_time": "2023-02-06T20:37:43.742Z"
   },
   {
    "duration": 11,
    "start_time": "2023-02-06T20:37:44.134Z"
   },
   {
    "duration": 6,
    "start_time": "2023-02-06T20:37:44.147Z"
   },
   {
    "duration": 9,
    "start_time": "2023-02-06T20:37:44.154Z"
   },
   {
    "duration": 17,
    "start_time": "2023-02-06T20:37:44.165Z"
   },
   {
    "duration": 206,
    "start_time": "2023-02-06T20:37:44.184Z"
   },
   {
    "duration": 8,
    "start_time": "2023-02-06T20:37:44.392Z"
   },
   {
    "duration": 14,
    "start_time": "2023-02-06T20:37:44.401Z"
   },
   {
    "duration": 160,
    "start_time": "2023-02-06T20:37:44.416Z"
   },
   {
    "duration": 8,
    "start_time": "2023-02-06T20:37:44.581Z"
   },
   {
    "duration": 27,
    "start_time": "2023-02-06T20:37:44.590Z"
   },
   {
    "duration": 9,
    "start_time": "2023-02-06T20:37:44.618Z"
   },
   {
    "duration": 282,
    "start_time": "2023-02-06T20:37:44.629Z"
   },
   {
    "duration": 6,
    "start_time": "2023-02-06T20:37:44.913Z"
   },
   {
    "duration": 239,
    "start_time": "2023-02-06T20:37:44.920Z"
   },
   {
    "duration": 6,
    "start_time": "2023-02-06T20:37:45.161Z"
   },
   {
    "duration": 356,
    "start_time": "2023-02-06T20:37:45.169Z"
   },
   {
    "duration": 302,
    "start_time": "2023-02-06T20:37:45.527Z"
   },
   {
    "duration": 341,
    "start_time": "2023-02-06T20:37:45.831Z"
   },
   {
    "duration": 366,
    "start_time": "2023-02-06T20:37:46.180Z"
   },
   {
    "duration": 16,
    "start_time": "2023-02-06T20:37:46.548Z"
   },
   {
    "duration": 49,
    "start_time": "2023-02-06T20:37:46.566Z"
   },
   {
    "duration": 12,
    "start_time": "2023-02-06T20:37:46.617Z"
   },
   {
    "duration": 18,
    "start_time": "2023-02-06T20:37:46.630Z"
   },
   {
    "duration": 14,
    "start_time": "2023-02-06T20:37:46.650Z"
   },
   {
    "duration": 13,
    "start_time": "2023-02-06T20:37:46.665Z"
   },
   {
    "duration": 25,
    "start_time": "2023-02-06T20:37:46.680Z"
   },
   {
    "duration": 11,
    "start_time": "2023-02-06T20:37:46.708Z"
   },
   {
    "duration": 10,
    "start_time": "2023-02-06T20:37:46.720Z"
   },
   {
    "duration": 9,
    "start_time": "2023-02-06T20:37:46.732Z"
   },
   {
    "duration": 14,
    "start_time": "2023-02-06T20:37:46.743Z"
   },
   {
    "duration": 31,
    "start_time": "2023-02-06T20:37:46.759Z"
   },
   {
    "duration": 19,
    "start_time": "2023-02-06T20:37:46.792Z"
   },
   {
    "duration": 82,
    "start_time": "2023-02-06T20:37:46.813Z"
   },
   {
    "duration": 28,
    "start_time": "2023-02-06T20:37:46.897Z"
   },
   {
    "duration": 25,
    "start_time": "2023-02-06T20:37:46.927Z"
   },
   {
    "duration": 524,
    "start_time": "2023-02-06T20:37:46.954Z"
   },
   {
    "duration": 8,
    "start_time": "2023-02-06T20:37:47.481Z"
   },
   {
    "duration": 17,
    "start_time": "2023-02-06T20:37:47.492Z"
   },
   {
    "duration": 13,
    "start_time": "2023-02-06T20:37:47.511Z"
   },
   {
    "duration": 107,
    "start_time": "2023-02-06T20:38:52.858Z"
   },
   {
    "duration": 551,
    "start_time": "2023-02-06T20:43:53.073Z"
   },
   {
    "duration": 523,
    "start_time": "2023-02-06T20:44:15.714Z"
   },
   {
    "duration": 348,
    "start_time": "2023-02-06T20:45:18.188Z"
   },
   {
    "duration": 182,
    "start_time": "2023-02-06T20:45:48.353Z"
   },
   {
    "duration": 49,
    "start_time": "2023-02-06T20:50:11.490Z"
   },
   {
    "duration": 276,
    "start_time": "2023-02-06T20:54:47.959Z"
   },
   {
    "duration": 176,
    "start_time": "2023-02-06T20:54:52.798Z"
   },
   {
    "duration": 7,
    "start_time": "2023-02-06T20:56:23.868Z"
   },
   {
    "duration": 292,
    "start_time": "2023-02-06T20:57:27.420Z"
   },
   {
    "duration": 328,
    "start_time": "2023-02-06T20:57:55.244Z"
   },
   {
    "duration": 254,
    "start_time": "2023-02-06T21:00:03.900Z"
   },
   {
    "duration": 313,
    "start_time": "2023-02-06T21:00:06.804Z"
   },
   {
    "duration": 392,
    "start_time": "2023-02-06T21:15:02.389Z"
   },
   {
    "duration": 99,
    "start_time": "2023-02-06T21:15:02.783Z"
   },
   {
    "duration": 3,
    "start_time": "2023-02-06T21:15:02.884Z"
   },
   {
    "duration": 17,
    "start_time": "2023-02-06T21:15:02.889Z"
   },
   {
    "duration": 39,
    "start_time": "2023-02-06T21:15:02.908Z"
   },
   {
    "duration": 9,
    "start_time": "2023-02-06T21:15:02.949Z"
   },
   {
    "duration": 15,
    "start_time": "2023-02-06T21:15:02.960Z"
   },
   {
    "duration": 4,
    "start_time": "2023-02-06T21:15:02.976Z"
   },
   {
    "duration": 18,
    "start_time": "2023-02-06T21:15:02.982Z"
   },
   {
    "duration": 4,
    "start_time": "2023-02-06T21:15:03.002Z"
   },
   {
    "duration": 34,
    "start_time": "2023-02-06T21:15:03.007Z"
   },
   {
    "duration": 8,
    "start_time": "2023-02-06T21:15:03.043Z"
   },
   {
    "duration": 6,
    "start_time": "2023-02-06T21:15:03.052Z"
   },
   {
    "duration": 6,
    "start_time": "2023-02-06T21:15:03.059Z"
   },
   {
    "duration": 34,
    "start_time": "2023-02-06T21:15:03.067Z"
   },
   {
    "duration": 18,
    "start_time": "2023-02-06T21:15:03.103Z"
   },
   {
    "duration": 28,
    "start_time": "2023-02-06T21:15:03.122Z"
   },
   {
    "duration": 11,
    "start_time": "2023-02-06T21:15:03.153Z"
   },
   {
    "duration": 11,
    "start_time": "2023-02-06T21:15:03.166Z"
   },
   {
    "duration": 23,
    "start_time": "2023-02-06T21:15:03.179Z"
   },
   {
    "duration": 10,
    "start_time": "2023-02-06T21:15:03.204Z"
   },
   {
    "duration": 6,
    "start_time": "2023-02-06T21:15:03.216Z"
   },
   {
    "duration": 12,
    "start_time": "2023-02-06T21:15:03.224Z"
   },
   {
    "duration": 9,
    "start_time": "2023-02-06T21:15:03.238Z"
   },
   {
    "duration": 10,
    "start_time": "2023-02-06T21:15:03.249Z"
   },
   {
    "duration": 4,
    "start_time": "2023-02-06T21:15:03.260Z"
   },
   {
    "duration": 5,
    "start_time": "2023-02-06T21:15:03.266Z"
   },
   {
    "duration": 17,
    "start_time": "2023-02-06T21:15:03.274Z"
   },
   {
    "duration": 12,
    "start_time": "2023-02-06T21:15:03.293Z"
   },
   {
    "duration": 33,
    "start_time": "2023-02-06T21:15:03.307Z"
   },
   {
    "duration": 8,
    "start_time": "2023-02-06T21:15:03.343Z"
   },
   {
    "duration": 571,
    "start_time": "2023-02-06T21:15:03.353Z"
   },
   {
    "duration": 21,
    "start_time": "2023-02-06T21:15:03.926Z"
   },
   {
    "duration": 5,
    "start_time": "2023-02-06T21:15:03.949Z"
   },
   {
    "duration": 12,
    "start_time": "2023-02-06T21:15:03.956Z"
   },
   {
    "duration": 8,
    "start_time": "2023-02-06T21:15:03.969Z"
   },
   {
    "duration": 233,
    "start_time": "2023-02-06T21:15:03.978Z"
   },
   {
    "duration": 7,
    "start_time": "2023-02-06T21:15:04.213Z"
   },
   {
    "duration": 23,
    "start_time": "2023-02-06T21:15:04.222Z"
   },
   {
    "duration": 175,
    "start_time": "2023-02-06T21:15:04.246Z"
   },
   {
    "duration": 6,
    "start_time": "2023-02-06T21:15:04.422Z"
   },
   {
    "duration": 16,
    "start_time": "2023-02-06T21:15:04.430Z"
   },
   {
    "duration": 10,
    "start_time": "2023-02-06T21:15:04.448Z"
   },
   {
    "duration": 270,
    "start_time": "2023-02-06T21:15:04.460Z"
   },
   {
    "duration": 6,
    "start_time": "2023-02-06T21:15:04.740Z"
   },
   {
    "duration": 240,
    "start_time": "2023-02-06T21:15:04.748Z"
   },
   {
    "duration": 8,
    "start_time": "2023-02-06T21:15:04.990Z"
   },
   {
    "duration": 331,
    "start_time": "2023-02-06T21:15:04.999Z"
   },
   {
    "duration": 73,
    "start_time": "2023-02-06T21:15:05.332Z"
   },
   {
    "duration": 0,
    "start_time": "2023-02-06T21:15:05.407Z"
   },
   {
    "duration": 0,
    "start_time": "2023-02-06T21:15:05.408Z"
   },
   {
    "duration": 0,
    "start_time": "2023-02-06T21:15:05.409Z"
   },
   {
    "duration": 0,
    "start_time": "2023-02-06T21:15:05.410Z"
   },
   {
    "duration": 0,
    "start_time": "2023-02-06T21:15:05.412Z"
   },
   {
    "duration": 0,
    "start_time": "2023-02-06T21:15:05.413Z"
   },
   {
    "duration": 0,
    "start_time": "2023-02-06T21:15:05.414Z"
   },
   {
    "duration": 0,
    "start_time": "2023-02-06T21:15:05.415Z"
   },
   {
    "duration": 0,
    "start_time": "2023-02-06T21:15:05.416Z"
   },
   {
    "duration": 0,
    "start_time": "2023-02-06T21:15:05.418Z"
   },
   {
    "duration": 0,
    "start_time": "2023-02-06T21:15:05.419Z"
   },
   {
    "duration": 0,
    "start_time": "2023-02-06T21:15:05.420Z"
   },
   {
    "duration": 0,
    "start_time": "2023-02-06T21:15:05.421Z"
   },
   {
    "duration": 0,
    "start_time": "2023-02-06T21:15:05.422Z"
   },
   {
    "duration": 0,
    "start_time": "2023-02-06T21:15:05.423Z"
   },
   {
    "duration": 0,
    "start_time": "2023-02-06T21:15:05.424Z"
   },
   {
    "duration": 0,
    "start_time": "2023-02-06T21:15:05.425Z"
   },
   {
    "duration": 0,
    "start_time": "2023-02-06T21:15:05.427Z"
   },
   {
    "duration": 0,
    "start_time": "2023-02-06T21:15:05.428Z"
   },
   {
    "duration": 0,
    "start_time": "2023-02-06T21:15:05.429Z"
   },
   {
    "duration": 0,
    "start_time": "2023-02-06T21:15:05.430Z"
   },
   {
    "duration": 0,
    "start_time": "2023-02-06T21:15:05.431Z"
   },
   {
    "duration": 278,
    "start_time": "2023-02-06T21:15:45.494Z"
   },
   {
    "duration": 53,
    "start_time": "2023-02-06T21:17:21.903Z"
   },
   {
    "duration": 340,
    "start_time": "2023-02-06T21:17:39.919Z"
   },
   {
    "duration": 3,
    "start_time": "2023-02-06T21:18:04.350Z"
   },
   {
    "duration": 51,
    "start_time": "2023-02-06T21:18:04.365Z"
   },
   {
    "duration": 2,
    "start_time": "2023-02-06T21:18:04.418Z"
   },
   {
    "duration": 20,
    "start_time": "2023-02-06T21:18:04.421Z"
   },
   {
    "duration": 31,
    "start_time": "2023-02-06T21:18:04.443Z"
   },
   {
    "duration": 11,
    "start_time": "2023-02-06T21:18:04.476Z"
   },
   {
    "duration": 12,
    "start_time": "2023-02-06T21:18:04.489Z"
   },
   {
    "duration": 5,
    "start_time": "2023-02-06T21:18:04.502Z"
   },
   {
    "duration": 48,
    "start_time": "2023-02-06T21:18:04.508Z"
   },
   {
    "duration": 3,
    "start_time": "2023-02-06T21:18:04.558Z"
   },
   {
    "duration": 7,
    "start_time": "2023-02-06T21:18:04.564Z"
   },
   {
    "duration": 9,
    "start_time": "2023-02-06T21:18:04.573Z"
   },
   {
    "duration": 8,
    "start_time": "2023-02-06T21:18:04.584Z"
   },
   {
    "duration": 7,
    "start_time": "2023-02-06T21:18:04.594Z"
   },
   {
    "duration": 10,
    "start_time": "2023-02-06T21:18:04.602Z"
   },
   {
    "duration": 16,
    "start_time": "2023-02-06T21:18:04.641Z"
   },
   {
    "duration": 14,
    "start_time": "2023-02-06T21:18:04.659Z"
   },
   {
    "duration": 12,
    "start_time": "2023-02-06T21:18:04.675Z"
   },
   {
    "duration": 26,
    "start_time": "2023-02-06T21:18:04.689Z"
   },
   {
    "duration": 27,
    "start_time": "2023-02-06T21:18:04.717Z"
   },
   {
    "duration": 12,
    "start_time": "2023-02-06T21:18:04.746Z"
   },
   {
    "duration": 9,
    "start_time": "2023-02-06T21:18:04.760Z"
   },
   {
    "duration": 6,
    "start_time": "2023-02-06T21:18:04.771Z"
   },
   {
    "duration": 9,
    "start_time": "2023-02-06T21:18:04.779Z"
   },
   {
    "duration": 17,
    "start_time": "2023-02-06T21:18:04.790Z"
   },
   {
    "duration": 13,
    "start_time": "2023-02-06T21:18:04.809Z"
   },
   {
    "duration": 8,
    "start_time": "2023-02-06T21:18:04.839Z"
   },
   {
    "duration": 24,
    "start_time": "2023-02-06T21:18:04.849Z"
   },
   {
    "duration": 20,
    "start_time": "2023-02-06T21:18:04.878Z"
   },
   {
    "duration": 8,
    "start_time": "2023-02-06T21:18:04.900Z"
   },
   {
    "duration": 17,
    "start_time": "2023-02-06T21:18:04.910Z"
   },
   {
    "duration": 166,
    "start_time": "2023-02-06T21:18:04.929Z"
   },
   {
    "duration": 11,
    "start_time": "2023-02-06T21:18:05.097Z"
   },
   {
    "duration": 6,
    "start_time": "2023-02-06T21:18:05.110Z"
   },
   {
    "duration": 32,
    "start_time": "2023-02-06T21:18:05.117Z"
   },
   {
    "duration": 13,
    "start_time": "2023-02-06T21:18:05.151Z"
   },
   {
    "duration": 209,
    "start_time": "2023-02-06T21:18:05.166Z"
   },
   {
    "duration": 7,
    "start_time": "2023-02-06T21:18:05.377Z"
   },
   {
    "duration": 18,
    "start_time": "2023-02-06T21:18:05.386Z"
   },
   {
    "duration": 172,
    "start_time": "2023-02-06T21:18:05.406Z"
   },
   {
    "duration": 6,
    "start_time": "2023-02-06T21:18:05.580Z"
   },
   {
    "duration": 24,
    "start_time": "2023-02-06T21:18:05.588Z"
   },
   {
    "duration": 37,
    "start_time": "2023-02-06T21:18:05.614Z"
   },
   {
    "duration": 291,
    "start_time": "2023-02-06T21:18:05.652Z"
   },
   {
    "duration": 7,
    "start_time": "2023-02-06T21:18:05.945Z"
   },
   {
    "duration": 190,
    "start_time": "2023-02-06T21:18:05.954Z"
   },
   {
    "duration": 9,
    "start_time": "2023-02-06T21:18:06.146Z"
   },
   {
    "duration": 332,
    "start_time": "2023-02-06T21:18:06.157Z"
   },
   {
    "duration": 380,
    "start_time": "2023-02-06T21:18:06.491Z"
   },
   {
    "duration": 339,
    "start_time": "2023-02-06T21:18:06.873Z"
   },
   {
    "duration": 302,
    "start_time": "2023-02-06T21:18:07.214Z"
   },
   {
    "duration": 23,
    "start_time": "2023-02-06T21:18:07.517Z"
   },
   {
    "duration": 9,
    "start_time": "2023-02-06T21:18:07.541Z"
   },
   {
    "duration": 21,
    "start_time": "2023-02-06T21:18:07.552Z"
   },
   {
    "duration": 16,
    "start_time": "2023-02-06T21:18:07.575Z"
   },
   {
    "duration": 13,
    "start_time": "2023-02-06T21:18:07.593Z"
   },
   {
    "duration": 11,
    "start_time": "2023-02-06T21:18:07.608Z"
   },
   {
    "duration": 24,
    "start_time": "2023-02-06T21:18:07.621Z"
   },
   {
    "duration": 27,
    "start_time": "2023-02-06T21:18:07.647Z"
   },
   {
    "duration": 11,
    "start_time": "2023-02-06T21:18:07.676Z"
   },
   {
    "duration": 10,
    "start_time": "2023-02-06T21:18:07.689Z"
   },
   {
    "duration": 18,
    "start_time": "2023-02-06T21:18:07.700Z"
   },
   {
    "duration": 30,
    "start_time": "2023-02-06T21:18:07.720Z"
   },
   {
    "duration": 12,
    "start_time": "2023-02-06T21:18:07.752Z"
   },
   {
    "duration": 12,
    "start_time": "2023-02-06T21:18:07.766Z"
   },
   {
    "duration": 11,
    "start_time": "2023-02-06T21:18:07.780Z"
   },
   {
    "duration": 13,
    "start_time": "2023-02-06T21:18:07.793Z"
   },
   {
    "duration": 486,
    "start_time": "2023-02-06T21:18:07.808Z"
   },
   {
    "duration": 5,
    "start_time": "2023-02-06T21:18:08.296Z"
   },
   {
    "duration": 12,
    "start_time": "2023-02-06T21:18:08.303Z"
   },
   {
    "duration": 26,
    "start_time": "2023-02-06T21:18:08.316Z"
   },
   {
    "duration": 307,
    "start_time": "2023-02-06T21:18:31.170Z"
   },
   {
    "duration": 276,
    "start_time": "2023-02-06T21:18:36.775Z"
   },
   {
    "duration": 343,
    "start_time": "2023-02-06T21:21:01.084Z"
   },
   {
    "duration": 98,
    "start_time": "2023-02-06T21:23:01.958Z"
   },
   {
    "duration": 82,
    "start_time": "2023-02-06T21:23:21.939Z"
   },
   {
    "duration": 15,
    "start_time": "2023-02-06T21:23:34.286Z"
   },
   {
    "duration": 289,
    "start_time": "2023-02-06T21:23:41.612Z"
   },
   {
    "duration": 276,
    "start_time": "2023-02-06T21:24:37.188Z"
   },
   {
    "duration": 275,
    "start_time": "2023-02-06T21:25:55.845Z"
   },
   {
    "duration": 376,
    "start_time": "2023-02-06T21:26:00.284Z"
   },
   {
    "duration": 281,
    "start_time": "2023-02-06T21:26:04.452Z"
   },
   {
    "duration": 305,
    "start_time": "2023-02-06T21:26:08.140Z"
   },
   {
    "duration": 278,
    "start_time": "2023-02-06T21:26:38.390Z"
   },
   {
    "duration": 316,
    "start_time": "2023-02-06T21:31:32.990Z"
   },
   {
    "duration": 405,
    "start_time": "2023-02-06T21:31:42.054Z"
   },
   {
    "duration": 11,
    "start_time": "2023-02-06T21:35:31.870Z"
   },
   {
    "duration": 11,
    "start_time": "2023-02-06T21:35:34.276Z"
   },
   {
    "duration": 8,
    "start_time": "2023-02-06T21:35:44.443Z"
   },
   {
    "duration": 12,
    "start_time": "2023-02-06T21:35:53.797Z"
   },
   {
    "duration": 13,
    "start_time": "2023-02-06T21:35:58.256Z"
   },
   {
    "duration": 8,
    "start_time": "2023-02-06T21:36:00.558Z"
   },
   {
    "duration": 8,
    "start_time": "2023-02-06T21:36:02.380Z"
   },
   {
    "duration": 72,
    "start_time": "2023-02-06T21:38:59.423Z"
   },
   {
    "duration": 24,
    "start_time": "2023-02-06T21:41:04.198Z"
   },
   {
    "duration": 15,
    "start_time": "2023-02-06T21:41:28.127Z"
   },
   {
    "duration": 14,
    "start_time": "2023-02-06T21:41:30.373Z"
   },
   {
    "duration": 8,
    "start_time": "2023-02-06T21:41:37.150Z"
   },
   {
    "duration": 21,
    "start_time": "2023-02-06T21:42:58.062Z"
   },
   {
    "duration": 13,
    "start_time": "2023-02-06T21:43:06.872Z"
   },
   {
    "duration": 24,
    "start_time": "2023-02-06T21:50:08.763Z"
   },
   {
    "duration": 26,
    "start_time": "2023-02-06T21:50:16.660Z"
   },
   {
    "duration": 393,
    "start_time": "2023-02-06T21:53:32.197Z"
   },
   {
    "duration": 52,
    "start_time": "2023-02-06T21:53:32.592Z"
   },
   {
    "duration": 3,
    "start_time": "2023-02-06T21:53:32.645Z"
   },
   {
    "duration": 23,
    "start_time": "2023-02-06T21:53:32.650Z"
   },
   {
    "duration": 36,
    "start_time": "2023-02-06T21:53:32.675Z"
   },
   {
    "duration": 27,
    "start_time": "2023-02-06T21:53:32.713Z"
   },
   {
    "duration": 12,
    "start_time": "2023-02-06T21:53:32.741Z"
   },
   {
    "duration": 5,
    "start_time": "2023-02-06T21:53:32.754Z"
   },
   {
    "duration": 27,
    "start_time": "2023-02-06T21:53:32.761Z"
   },
   {
    "duration": 18,
    "start_time": "2023-02-06T21:53:32.791Z"
   },
   {
    "duration": 7,
    "start_time": "2023-02-06T21:53:32.811Z"
   },
   {
    "duration": 15,
    "start_time": "2023-02-06T21:53:32.819Z"
   },
   {
    "duration": 6,
    "start_time": "2023-02-06T21:53:32.841Z"
   },
   {
    "duration": 8,
    "start_time": "2023-02-06T21:53:32.849Z"
   },
   {
    "duration": 6,
    "start_time": "2023-02-06T21:53:32.859Z"
   },
   {
    "duration": 16,
    "start_time": "2023-02-06T21:53:32.867Z"
   },
   {
    "duration": 12,
    "start_time": "2023-02-06T21:53:32.884Z"
   },
   {
    "duration": 44,
    "start_time": "2023-02-06T21:53:32.898Z"
   },
   {
    "duration": 26,
    "start_time": "2023-02-06T21:53:32.944Z"
   },
   {
    "duration": 31,
    "start_time": "2023-02-06T21:53:32.972Z"
   },
   {
    "duration": 13,
    "start_time": "2023-02-06T21:53:33.005Z"
   },
   {
    "duration": 6,
    "start_time": "2023-02-06T21:53:33.020Z"
   },
   {
    "duration": 17,
    "start_time": "2023-02-06T21:53:33.028Z"
   },
   {
    "duration": 11,
    "start_time": "2023-02-06T21:53:33.047Z"
   },
   {
    "duration": 21,
    "start_time": "2023-02-06T21:53:33.059Z"
   },
   {
    "duration": 7,
    "start_time": "2023-02-06T21:53:33.081Z"
   },
   {
    "duration": 15,
    "start_time": "2023-02-06T21:53:33.089Z"
   },
   {
    "duration": 23,
    "start_time": "2023-02-06T21:53:33.108Z"
   },
   {
    "duration": 25,
    "start_time": "2023-02-06T21:53:33.132Z"
   },
   {
    "duration": 5,
    "start_time": "2023-02-06T21:53:33.159Z"
   },
   {
    "duration": 16,
    "start_time": "2023-02-06T21:53:33.165Z"
   },
   {
    "duration": 395,
    "start_time": "2023-02-06T21:53:33.183Z"
   },
   {
    "duration": 12,
    "start_time": "2023-02-06T21:53:33.580Z"
   },
   {
    "duration": 7,
    "start_time": "2023-02-06T21:53:33.594Z"
   },
   {
    "duration": 12,
    "start_time": "2023-02-06T21:53:33.602Z"
   },
   {
    "duration": 24,
    "start_time": "2023-02-06T21:53:33.616Z"
   },
   {
    "duration": 214,
    "start_time": "2023-02-06T21:53:33.642Z"
   },
   {
    "duration": 6,
    "start_time": "2023-02-06T21:53:33.858Z"
   },
   {
    "duration": 12,
    "start_time": "2023-02-06T21:53:33.866Z"
   },
   {
    "duration": 177,
    "start_time": "2023-02-06T21:53:33.879Z"
   },
   {
    "duration": 6,
    "start_time": "2023-02-06T21:53:34.057Z"
   },
   {
    "duration": 24,
    "start_time": "2023-02-06T21:53:34.064Z"
   },
   {
    "duration": 8,
    "start_time": "2023-02-06T21:53:34.091Z"
   },
   {
    "duration": 306,
    "start_time": "2023-02-06T21:53:34.101Z"
   },
   {
    "duration": 7,
    "start_time": "2023-02-06T21:53:34.408Z"
   },
   {
    "duration": 241,
    "start_time": "2023-02-06T21:53:34.416Z"
   },
   {
    "duration": 7,
    "start_time": "2023-02-06T21:53:34.659Z"
   },
   {
    "duration": 316,
    "start_time": "2023-02-06T21:53:34.668Z"
   },
   {
    "duration": 288,
    "start_time": "2023-02-06T21:53:34.986Z"
   },
   {
    "duration": 334,
    "start_time": "2023-02-06T21:53:35.276Z"
   },
   {
    "duration": 277,
    "start_time": "2023-02-06T21:53:35.612Z"
   },
   {
    "duration": 12,
    "start_time": "2023-02-06T21:53:35.891Z"
   },
   {
    "duration": 8,
    "start_time": "2023-02-06T21:53:35.905Z"
   },
   {
    "duration": 323,
    "start_time": "2023-02-06T21:53:35.914Z"
   },
   {
    "duration": 26,
    "start_time": "2023-02-06T21:53:36.238Z"
   },
   {
    "duration": 11,
    "start_time": "2023-02-06T21:53:36.266Z"
   },
   {
    "duration": 18,
    "start_time": "2023-02-06T21:53:36.278Z"
   },
   {
    "duration": 16,
    "start_time": "2023-02-06T21:53:36.298Z"
   },
   {
    "duration": 11,
    "start_time": "2023-02-06T21:53:36.315Z"
   },
   {
    "duration": 22,
    "start_time": "2023-02-06T21:53:36.328Z"
   },
   {
    "duration": 25,
    "start_time": "2023-02-06T21:53:36.352Z"
   },
   {
    "duration": 13,
    "start_time": "2023-02-06T21:53:36.379Z"
   },
   {
    "duration": 21,
    "start_time": "2023-02-06T21:53:36.394Z"
   },
   {
    "duration": 10,
    "start_time": "2023-02-06T21:53:36.417Z"
   },
   {
    "duration": 24,
    "start_time": "2023-02-06T21:53:36.429Z"
   },
   {
    "duration": 11,
    "start_time": "2023-02-06T21:53:36.456Z"
   },
   {
    "duration": 9,
    "start_time": "2023-02-06T21:53:36.468Z"
   },
   {
    "duration": 13,
    "start_time": "2023-02-06T21:53:36.479Z"
   },
   {
    "duration": 16,
    "start_time": "2023-02-06T21:53:36.494Z"
   },
   {
    "duration": 7,
    "start_time": "2023-02-06T21:53:36.512Z"
   },
   {
    "duration": 540,
    "start_time": "2023-02-06T21:53:36.521Z"
   },
   {
    "duration": 6,
    "start_time": "2023-02-06T21:53:37.063Z"
   },
   {
    "duration": 11,
    "start_time": "2023-02-06T21:53:37.070Z"
   },
   {
    "duration": 10,
    "start_time": "2023-02-06T21:53:37.084Z"
   },
   {
    "duration": 3,
    "start_time": "2023-02-06T22:02:38.286Z"
   },
   {
    "duration": 54,
    "start_time": "2023-02-06T22:02:38.297Z"
   },
   {
    "duration": 3,
    "start_time": "2023-02-06T22:02:38.353Z"
   },
   {
    "duration": 16,
    "start_time": "2023-02-06T22:02:38.358Z"
   },
   {
    "duration": 31,
    "start_time": "2023-02-06T22:02:38.375Z"
   },
   {
    "duration": 38,
    "start_time": "2023-02-06T22:02:38.408Z"
   },
   {
    "duration": 15,
    "start_time": "2023-02-06T22:02:38.448Z"
   },
   {
    "duration": 5,
    "start_time": "2023-02-06T22:02:38.464Z"
   },
   {
    "duration": 22,
    "start_time": "2023-02-06T22:02:38.470Z"
   },
   {
    "duration": 3,
    "start_time": "2023-02-06T22:02:38.494Z"
   },
   {
    "duration": 27,
    "start_time": "2023-02-06T22:02:38.499Z"
   },
   {
    "duration": 7,
    "start_time": "2023-02-06T22:02:38.539Z"
   },
   {
    "duration": 6,
    "start_time": "2023-02-06T22:02:38.547Z"
   },
   {
    "duration": 8,
    "start_time": "2023-02-06T22:02:38.554Z"
   },
   {
    "duration": 6,
    "start_time": "2023-02-06T22:02:38.566Z"
   },
   {
    "duration": 22,
    "start_time": "2023-02-06T22:02:38.574Z"
   },
   {
    "duration": 12,
    "start_time": "2023-02-06T22:02:38.598Z"
   },
   {
    "duration": 35,
    "start_time": "2023-02-06T22:02:38.612Z"
   },
   {
    "duration": 9,
    "start_time": "2023-02-06T22:02:38.649Z"
   },
   {
    "duration": 16,
    "start_time": "2023-02-06T22:02:38.660Z"
   },
   {
    "duration": 9,
    "start_time": "2023-02-06T22:02:38.678Z"
   },
   {
    "duration": 9,
    "start_time": "2023-02-06T22:02:38.688Z"
   },
   {
    "duration": 16,
    "start_time": "2023-02-06T22:02:38.699Z"
   },
   {
    "duration": 12,
    "start_time": "2023-02-06T22:02:38.717Z"
   },
   {
    "duration": 19,
    "start_time": "2023-02-06T22:02:38.731Z"
   },
   {
    "duration": 5,
    "start_time": "2023-02-06T22:02:38.752Z"
   },
   {
    "duration": 22,
    "start_time": "2023-02-06T22:02:38.759Z"
   },
   {
    "duration": 22,
    "start_time": "2023-02-06T22:02:38.782Z"
   },
   {
    "duration": 59,
    "start_time": "2023-02-06T22:02:38.810Z"
   },
   {
    "duration": 7,
    "start_time": "2023-02-06T22:02:38.871Z"
   },
   {
    "duration": 14,
    "start_time": "2023-02-06T22:02:38.881Z"
   },
   {
    "duration": 194,
    "start_time": "2023-02-06T22:02:38.897Z"
   },
   {
    "duration": 14,
    "start_time": "2023-02-06T22:02:39.093Z"
   },
   {
    "duration": 6,
    "start_time": "2023-02-06T22:02:39.109Z"
   },
   {
    "duration": 36,
    "start_time": "2023-02-06T22:02:39.116Z"
   },
   {
    "duration": 18,
    "start_time": "2023-02-06T22:02:39.154Z"
   },
   {
    "duration": 212,
    "start_time": "2023-02-06T22:02:39.173Z"
   },
   {
    "duration": 8,
    "start_time": "2023-02-06T22:02:39.388Z"
   },
   {
    "duration": 8,
    "start_time": "2023-02-06T22:02:39.398Z"
   },
   {
    "duration": 177,
    "start_time": "2023-02-06T22:02:39.407Z"
   },
   {
    "duration": 5,
    "start_time": "2023-02-06T22:02:39.586Z"
   },
   {
    "duration": 10,
    "start_time": "2023-02-06T22:02:39.595Z"
   },
   {
    "duration": 11,
    "start_time": "2023-02-06T22:02:39.607Z"
   },
   {
    "duration": 292,
    "start_time": "2023-02-06T22:02:39.620Z"
   },
   {
    "duration": 6,
    "start_time": "2023-02-06T22:02:39.914Z"
   },
   {
    "duration": 182,
    "start_time": "2023-02-06T22:02:39.922Z"
   },
   {
    "duration": 9,
    "start_time": "2023-02-06T22:02:40.106Z"
   },
   {
    "duration": 351,
    "start_time": "2023-02-06T22:02:40.116Z"
   },
   {
    "duration": 281,
    "start_time": "2023-02-06T22:02:40.469Z"
   },
   {
    "duration": 426,
    "start_time": "2023-02-06T22:02:40.753Z"
   },
   {
    "duration": 288,
    "start_time": "2023-02-06T22:02:41.181Z"
   },
   {
    "duration": 15,
    "start_time": "2023-02-06T22:02:41.471Z"
   },
   {
    "duration": 8,
    "start_time": "2023-02-06T22:02:41.488Z"
   },
   {
    "duration": 309,
    "start_time": "2023-02-06T22:02:41.498Z"
   },
   {
    "duration": 11,
    "start_time": "2023-02-06T22:02:41.809Z"
   },
   {
    "duration": 24,
    "start_time": "2023-02-06T22:02:41.821Z"
   },
   {
    "duration": 27,
    "start_time": "2023-02-06T22:02:41.846Z"
   },
   {
    "duration": 40,
    "start_time": "2023-02-06T22:02:41.875Z"
   },
   {
    "duration": 18,
    "start_time": "2023-02-06T22:02:41.916Z"
   },
   {
    "duration": 26,
    "start_time": "2023-02-06T22:02:41.936Z"
   },
   {
    "duration": 15,
    "start_time": "2023-02-06T22:02:41.964Z"
   },
   {
    "duration": 15,
    "start_time": "2023-02-06T22:02:41.980Z"
   },
   {
    "duration": 12,
    "start_time": "2023-02-06T22:02:41.997Z"
   },
   {
    "duration": 12,
    "start_time": "2023-02-06T22:02:42.011Z"
   },
   {
    "duration": 15,
    "start_time": "2023-02-06T22:02:42.025Z"
   },
   {
    "duration": 8,
    "start_time": "2023-02-06T22:02:42.041Z"
   },
   {
    "duration": 9,
    "start_time": "2023-02-06T22:02:42.051Z"
   },
   {
    "duration": 9,
    "start_time": "2023-02-06T22:02:42.062Z"
   },
   {
    "duration": 18,
    "start_time": "2023-02-06T22:02:42.072Z"
   },
   {
    "duration": 8,
    "start_time": "2023-02-06T22:02:42.092Z"
   },
   {
    "duration": 5,
    "start_time": "2023-02-06T22:02:42.102Z"
   },
   {
    "duration": 36,
    "start_time": "2023-02-06T22:02:42.109Z"
   },
   {
    "duration": 13,
    "start_time": "2023-02-06T22:02:42.147Z"
   },
   {
    "duration": 11,
    "start_time": "2023-02-06T22:02:42.162Z"
   },
   {
    "duration": 456,
    "start_time": "2023-02-06T22:02:57.012Z"
   },
   {
    "duration": 52,
    "start_time": "2023-02-06T22:02:57.470Z"
   },
   {
    "duration": 2,
    "start_time": "2023-02-06T22:02:57.524Z"
   },
   {
    "duration": 19,
    "start_time": "2023-02-06T22:02:57.528Z"
   },
   {
    "duration": 37,
    "start_time": "2023-02-06T22:02:57.548Z"
   },
   {
    "duration": 10,
    "start_time": "2023-02-06T22:02:57.587Z"
   },
   {
    "duration": 17,
    "start_time": "2023-02-06T22:02:57.598Z"
   },
   {
    "duration": 23,
    "start_time": "2023-02-06T22:02:57.618Z"
   },
   {
    "duration": 22,
    "start_time": "2023-02-06T22:02:57.643Z"
   },
   {
    "duration": 15,
    "start_time": "2023-02-06T22:02:57.667Z"
   },
   {
    "duration": 10,
    "start_time": "2023-02-06T22:02:57.684Z"
   },
   {
    "duration": 10,
    "start_time": "2023-02-06T22:02:57.695Z"
   },
   {
    "duration": 6,
    "start_time": "2023-02-06T22:02:57.706Z"
   },
   {
    "duration": 8,
    "start_time": "2023-02-06T22:02:57.714Z"
   },
   {
    "duration": 19,
    "start_time": "2023-02-06T22:02:57.724Z"
   },
   {
    "duration": 21,
    "start_time": "2023-02-06T22:02:57.745Z"
   },
   {
    "duration": 13,
    "start_time": "2023-02-06T22:02:57.768Z"
   },
   {
    "duration": 15,
    "start_time": "2023-02-06T22:02:57.783Z"
   },
   {
    "duration": 8,
    "start_time": "2023-02-06T22:02:57.800Z"
   },
   {
    "duration": 10,
    "start_time": "2023-02-06T22:02:57.810Z"
   },
   {
    "duration": 10,
    "start_time": "2023-02-06T22:02:57.839Z"
   },
   {
    "duration": 11,
    "start_time": "2023-02-06T22:02:57.851Z"
   },
   {
    "duration": 14,
    "start_time": "2023-02-06T22:02:57.864Z"
   },
   {
    "duration": 9,
    "start_time": "2023-02-06T22:02:57.879Z"
   },
   {
    "duration": 11,
    "start_time": "2023-02-06T22:02:57.889Z"
   },
   {
    "duration": 4,
    "start_time": "2023-02-06T22:02:57.902Z"
   },
   {
    "duration": 16,
    "start_time": "2023-02-06T22:02:57.908Z"
   },
   {
    "duration": 19,
    "start_time": "2023-02-06T22:02:57.942Z"
   },
   {
    "duration": 12,
    "start_time": "2023-02-06T22:02:57.963Z"
   },
   {
    "duration": 6,
    "start_time": "2023-02-06T22:02:57.977Z"
   },
   {
    "duration": 8,
    "start_time": "2023-02-06T22:02:57.985Z"
   },
   {
    "duration": 468,
    "start_time": "2023-02-06T22:02:57.995Z"
   },
   {
    "duration": 13,
    "start_time": "2023-02-06T22:02:58.465Z"
   },
   {
    "duration": 6,
    "start_time": "2023-02-06T22:02:58.480Z"
   },
   {
    "duration": 13,
    "start_time": "2023-02-06T22:02:58.487Z"
   },
   {
    "duration": 7,
    "start_time": "2023-02-06T22:02:58.501Z"
   },
   {
    "duration": 234,
    "start_time": "2023-02-06T22:02:58.509Z"
   },
   {
    "duration": 7,
    "start_time": "2023-02-06T22:02:58.745Z"
   },
   {
    "duration": 8,
    "start_time": "2023-02-06T22:02:58.754Z"
   },
   {
    "duration": 222,
    "start_time": "2023-02-06T22:02:58.764Z"
   },
   {
    "duration": 7,
    "start_time": "2023-02-06T22:02:58.987Z"
   },
   {
    "duration": 43,
    "start_time": "2023-02-06T22:02:58.996Z"
   },
   {
    "duration": 15,
    "start_time": "2023-02-06T22:02:59.041Z"
   },
   {
    "duration": 266,
    "start_time": "2023-02-06T22:02:59.058Z"
   },
   {
    "duration": 16,
    "start_time": "2023-02-06T22:02:59.326Z"
   },
   {
    "duration": 238,
    "start_time": "2023-02-06T22:02:59.344Z"
   },
   {
    "duration": 8,
    "start_time": "2023-02-06T22:02:59.583Z"
   },
   {
    "duration": 348,
    "start_time": "2023-02-06T22:02:59.593Z"
   },
   {
    "duration": 275,
    "start_time": "2023-02-06T22:02:59.943Z"
   },
   {
    "duration": 332,
    "start_time": "2023-02-06T22:03:00.220Z"
   },
   {
    "duration": 275,
    "start_time": "2023-02-06T22:03:00.553Z"
   },
   {
    "duration": 13,
    "start_time": "2023-02-06T22:03:00.830Z"
   },
   {
    "duration": 21,
    "start_time": "2023-02-06T22:03:00.845Z"
   },
   {
    "duration": 299,
    "start_time": "2023-02-06T22:03:00.868Z"
   },
   {
    "duration": 11,
    "start_time": "2023-02-06T22:03:01.169Z"
   },
   {
    "duration": 19,
    "start_time": "2023-02-06T22:03:01.182Z"
   },
   {
    "duration": 20,
    "start_time": "2023-02-06T22:03:01.203Z"
   },
   {
    "duration": 18,
    "start_time": "2023-02-06T22:03:01.225Z"
   },
   {
    "duration": 26,
    "start_time": "2023-02-06T22:03:01.244Z"
   },
   {
    "duration": 71,
    "start_time": "2023-02-06T22:03:01.272Z"
   },
   {
    "duration": 36,
    "start_time": "2023-02-06T22:03:01.345Z"
   },
   {
    "duration": 23,
    "start_time": "2023-02-06T22:03:01.384Z"
   },
   {
    "duration": 21,
    "start_time": "2023-02-06T22:03:01.409Z"
   },
   {
    "duration": 20,
    "start_time": "2023-02-06T22:03:01.432Z"
   },
   {
    "duration": 25,
    "start_time": "2023-02-06T22:03:01.454Z"
   },
   {
    "duration": 24,
    "start_time": "2023-02-06T22:03:01.481Z"
   },
   {
    "duration": 27,
    "start_time": "2023-02-06T22:03:01.507Z"
   },
   {
    "duration": 13,
    "start_time": "2023-02-06T22:03:01.536Z"
   },
   {
    "duration": 20,
    "start_time": "2023-02-06T22:03:01.551Z"
   },
   {
    "duration": 16,
    "start_time": "2023-02-06T22:03:01.573Z"
   },
   {
    "duration": 542,
    "start_time": "2023-02-06T22:03:01.591Z"
   },
   {
    "duration": 7,
    "start_time": "2023-02-06T22:03:02.134Z"
   },
   {
    "duration": 12,
    "start_time": "2023-02-06T22:03:02.143Z"
   },
   {
    "duration": 34,
    "start_time": "2023-02-06T22:03:02.156Z"
   }
  ],
  "kernelspec": {
   "display_name": "Python 3 (ipykernel)",
   "language": "python",
   "name": "python3"
  },
  "language_info": {
   "codemirror_mode": {
    "name": "ipython",
    "version": 3
   },
   "file_extension": ".py",
   "mimetype": "text/x-python",
   "name": "python",
   "nbconvert_exporter": "python",
   "pygments_lexer": "ipython3",
   "version": "3.9.5"
  },
  "toc": {
   "base_numbering": 1,
   "nav_menu": {},
   "number_sections": true,
   "sideBar": true,
   "skip_h1_title": true,
   "title_cell": "Table of Contents",
   "title_sidebar": "Contents",
   "toc_cell": false,
   "toc_position": {},
   "toc_section_display": true,
   "toc_window_display": false
  }
 },
 "nbformat": 4,
 "nbformat_minor": 2
}
