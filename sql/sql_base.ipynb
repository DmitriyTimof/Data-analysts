{
 "cells": [
  {
   "cell_type": "markdown",
   "metadata": {},
   "source": [
    "1.\n",
    "Посчитайте, сколько компаний закрылось."
   ]
  },
  {
   "cell_type": "code",
   "execution_count": null,
   "metadata": {},
   "outputs": [],
   "source": [
    "SELECT COUNT(name)\n",
    "FROM company\n",
    "WHERE status LIKE '%closed%'"
   ]
  },
  {
   "cell_type": "markdown",
   "metadata": {},
   "source": [
    "2.\n",
    "Отобразите количество привлечённых средств для новостных компаний США. Используйте данные из таблицы company. Отсортируйте таблицу по убыванию значений в поле funding_total ."
   ]
  },
  {
   "cell_type": "code",
   "execution_count": null,
   "metadata": {},
   "outputs": [],
   "source": [
    "SELECT funding_total\n",
    "FROM company\n",
    "WHERE category_code LIKE '%news%'\n",
    "AND country_code = 'USA'\n",
    "ORDER BY funding_total DESC"
   ]
  },
  {
   "cell_type": "markdown",
   "metadata": {},
   "source": [
    "3.\n",
    "Найдите общую сумму сделок по покупке одних компаний другими в долларах. Отберите сделки, которые осуществлялись только за наличные с 2011 по 2013 год включительно."
   ]
  },
  {
   "cell_type": "code",
   "execution_count": null,
   "metadata": {},
   "outputs": [],
   "source": [
    "SELECT SUM(price_amount)\n",
    "FROM acquisition\n",
    "WHERE term_code = 'cash'\n",
    "AND acquired_at BETWEEN '01.01.2011' AND '31.12.2013'"
   ]
  },
  {
   "cell_type": "markdown",
   "metadata": {},
   "source": [
    "4.\n",
    "Отобразите имя, фамилию и названия аккаунтов людей в твиттере, у которых названия аккаунтов начинаются на 'Silver'."
   ]
  },
  {
   "cell_type": "code",
   "execution_count": null,
   "metadata": {},
   "outputs": [],
   "source": [
    "SELECT first_name,\n",
    "last_name,\n",
    "twitter_username\n",
    "FROM people\n",
    "WHERE twitter_username LIKE 'Silver%'"
   ]
  },
  {
   "cell_type": "markdown",
   "metadata": {},
   "source": [
    "5.\n",
    "Выведите на экран всю информацию о людях, у которых названия аккаунтов в твиттере содержат подстроку 'money', а фамилия начинается на 'K'."
   ]
  },
  {
   "cell_type": "code",
   "execution_count": null,
   "metadata": {},
   "outputs": [],
   "source": [
    "SELECT *\n",
    "FROM people\n",
    "WHERE twitter_username LIKE '%money%'\n",
    "AND last_name LIKE 'K%'"
   ]
  },
  {
   "cell_type": "markdown",
   "metadata": {},
   "source": [
    "6.\n",
    "Для каждой страны отобразите общую сумму привлечённых инвестиций, которые получили компании, зарегистрированные в этой стране. Страну, в которой зарегистрирована компания, можно определить по коду страны. Отсортируйте данные по убыванию суммы."
   ]
  },
  {
   "cell_type": "code",
   "execution_count": null,
   "metadata": {},
   "outputs": [],
   "source": [
    "SELECT country_code,\n",
    "SUM(funding_total)\n",
    "FROM company\n",
    "GROUP BY country_code\n",
    "ORDER BY SUM(funding_total) DESC"
   ]
  },
  {
   "cell_type": "markdown",
   "metadata": {},
   "source": [
    "7.\n",
    "Составьте таблицу, в которую войдёт дата проведения раунда, а также минимальное и максимальное значения суммы инвестиций, привлечённых в эту дату.\n",
    "Оставьте в итоговой таблице только те записи, в которых минимальное значение суммы инвестиций не равно нулю и не равно максимальному значению."
   ]
  },
  {
   "cell_type": "code",
   "execution_count": null,
   "metadata": {},
   "outputs": [],
   "source": [
    "SELECT funded_at,\n",
    "MIN(raised_amount),\n",
    "MAX(raised_amount)\n",
    "FROM funding_round\n",
    "GROUP BY funded_at\n",
    "HAVING MIN(raised_amount) <> 0\n",
    "AND MIN(raised_amount) <> MAX(raised_amount)"
   ]
  },
  {
   "cell_type": "markdown",
   "metadata": {},
   "source": [
    "8.\n",
    "Создайте поле с категориями:\n",
    "Для фондов, которые инвестируют в 100 и более компаний, назначьте категорию high_activity.\n",
    "Для фондов, которые инвестируют в 20 и более компаний до 100, назначьте категорию middle_activity.\n",
    "Если количество инвестируемых компаний фонда не достигает 20, назначьте категорию low_activity.\n",
    "Отобразите все поля таблицы fund и новое поле с категориями."
   ]
  },
  {
   "cell_type": "code",
   "execution_count": null,
   "metadata": {},
   "outputs": [],
   "source": [
    "SELECT *,\n",
    "CASE \n",
    "WHEN invested_companies >= 100 THEN 'high_activity'\n",
    "WHEN invested_companies >= 20 AND invested_companies < 100 THEN 'middle_activity'\n",
    "WHEN invested_companies < 20 THEN 'low_activity'\n",
    "END\n",
    "FROM fund"
   ]
  },
  {
   "cell_type": "markdown",
   "metadata": {},
   "source": [
    "9.\n",
    "Для каждой из категорий, назначенных в предыдущем задании, посчитайте округлённое до ближайшего целого числа среднее количество инвестиционных раундов, в которых фонд принимал участие. Выведите на экран категории и среднее число инвестиционных раундов. Отсортируйте таблицу по возрастанию среднего."
   ]
  },
  {
   "cell_type": "code",
   "execution_count": null,
   "metadata": {},
   "outputs": [],
   "source": [
    "SELECT \n",
    "       CASE\n",
    "           WHEN invested_companies>=100 THEN 'high_activity'\n",
    "           WHEN invested_companies>=20 THEN 'middle_activity'\n",
    "           ELSE 'low_activity'\n",
    "       END AS activity,\n",
    "ROUND(AVG(investment_rounds))\n",
    "FROM fund\n",
    "GROUP BY activity\n",
    "ORDER BY ROUND(AVG(investment_rounds)) ASC"
   ]
  },
  {
   "cell_type": "markdown",
   "metadata": {},
   "source": [
    "10.\n",
    "Проанализируйте, в каких странах находятся фонды, которые чаще всего инвестируют в стартапы. \n",
    "Для каждой страны посчитайте минимальное, максимальное и среднее число компаний, в которые инвестировали фонды этой страны, основанные с 2010 по 2012 год включительно. Исключите страны с фондами, у которых минимальное число компаний, получивших инвестиции, равно нулю. \n",
    "Выгрузите десять самых активных стран-инвесторов: отсортируйте таблицу по среднему количеству компаний от большего к меньшему. Затем добавьте сортировку по коду страны в лексикографическом порядке."
   ]
  },
  {
   "cell_type": "code",
   "execution_count": null,
   "metadata": {},
   "outputs": [],
   "source": [
    "SELECT country_code,\n",
    "MIN(invested_companies),\n",
    "MAX(invested_companies),\n",
    "AVG(invested_companies)\n",
    "FROM fund\n",
    "WHERE EXTRACT (YEAR FROM CAST(founded_at AS timestamp)) BETWEEN 2010 AND 2012\n",
    "GROUP BY country_code\n",
    "HAVING MIN(invested_companies) <> 0\n",
    "ORDER BY AVG(invested_companies) DESC , country_code\n",
    "\n",
    "LIMIT 10"
   ]
  },
  {
   "cell_type": "markdown",
   "metadata": {},
   "source": [
    "11.\n",
    "Отобразите имя и фамилию всех сотрудников стартапов. Добавьте поле с названием учебного заведения, которое окончил сотрудник, если эта информация известна."
   ]
  },
  {
   "cell_type": "code",
   "execution_count": null,
   "metadata": {},
   "outputs": [],
   "source": [
    "SELECT \n",
    " p.first_name,\n",
    " p.last_name,\n",
    " e.instituition\n",
    "FROM people AS p\n",
    "LEFT JOIN education AS e ON p.id=e.person_id"
   ]
  },
  {
   "cell_type": "markdown",
   "metadata": {},
   "source": [
    "12.\n",
    "Для каждой компании найдите количество учебных заведений, которые окончили её сотрудники. Выведите название компании и число уникальных названий учебных заведений. Составьте топ-5 компаний по количеству университетов."
   ]
  },
  {
   "cell_type": "code",
   "execution_count": null,
   "metadata": {},
   "outputs": [],
   "source": [
    "SELECT c.name,\n",
    "       COUNT(DISTINCT e.instituition) AS quantity\n",
    "FROM company AS c\n",
    "LEFT JOIN people AS p ON p.company_id = c.id\n",
    "JOIN education AS e ON p.id = e.person_id\n",
    "GROUP BY c.name\n",
    "ORDER BY quantity DESC \n",
    "LIMIT 5;"
   ]
  },
  {
   "cell_type": "markdown",
   "metadata": {},
   "source": [
    "13.\n",
    "Составьте список с уникальными названиями закрытых компаний, для которых первый раунд финансирования оказался последним."
   ]
  },
  {
   "cell_type": "code",
   "execution_count": null,
   "metadata": {},
   "outputs": [],
   "source": [
    "SELECT DISTINCT c.name\n",
    "FROM company AS c INNER JOIN funding_round AS f ON c.id = f.company_id\n",
    "WHERE c.status = 'closed'\n",
    "AND f.is_first_round = 1\n",
    "AND f.is_last_round = 1"
   ]
  },
  {
   "cell_type": "markdown",
   "metadata": {},
   "source": [
    "14.\n",
    "Составьте список уникальных номеров сотрудников, которые работают в компаниях, отобранных в предыдущем задании."
   ]
  },
  {
   "cell_type": "code",
   "execution_count": null,
   "metadata": {},
   "outputs": [],
   "source": [
    "SELECT id\n",
    "FROM people \n",
    "WHERE company_id IN (SELECT id\n",
    "                     FROM company\n",
    "                     WHERE status = 'closed'\n",
    "                     AND id IN (SELECT company_id\n",
    "                                FROM funding_round\n",
    "                                WHERE is_first_round = 1\n",
    "                                AND is_last_round = 1))\n",
    "             \n"
   ]
  },
  {
   "cell_type": "markdown",
   "metadata": {},
   "source": [
    "15.\n",
    "Составьте таблицу, куда войдут уникальные пары с номерами сотрудников из предыдущей задачи и учебным заведением, которое окончил сотрудник."
   ]
  },
  {
   "cell_type": "code",
   "execution_count": null,
   "metadata": {},
   "outputs": [],
   "source": [
    "SELECT DISTINCT person_id,\n",
    "instituition\n",
    "FROM education\n",
    "WHERE person_id IN(\n",
    "SELECT id\n",
    "FROM people \n",
    "WHERE company_id IN (SELECT id\n",
    "                     FROM company\n",
    "                     WHERE status = 'closed'\n",
    "                     AND id IN (SELECT company_id\n",
    "                                FROM funding_round\n",
    "                                WHERE is_first_round = 1\n",
    "                                AND is_last_round = 1)))"
   ]
  },
  {
   "cell_type": "markdown",
   "metadata": {},
   "source": [
    "16.\n",
    "Посчитайте количество учебных заведений для каждого сотрудника из предыдущего задания. При подсчёте учитывайте, что некоторые сотрудники могли окончить одно и то же заведение дважды."
   ]
  },
  {
   "cell_type": "code",
   "execution_count": null,
   "metadata": {},
   "outputs": [],
   "source": [
    "SELECT p.id,\n",
    "COUNT(e.instituition) AS counts\n",
    "FROM people AS p\n",
    "JOIN company AS c ON p.company_id = c.id\n",
    "JOIN education AS e ON p.id=e.person_id\n",
    "WHERE status = 'closed'\n",
    "AND c.id IN ( SELECT company_id \n",
    "             FROM funding_round\n",
    "             WHERE is_last_round = 1 AND is_first_round = 1)\n",
    "GROUP BY p.id"
   ]
  },
  {
   "cell_type": "markdown",
   "metadata": {},
   "source": [
    "17.\n",
    "Дополните предыдущий запрос и выведите среднее число учебных заведений (всех, не только уникальных), которые окончили сотрудники разных компаний. Нужно вывести только одну запись, группировка здесь не понадобится."
   ]
  },
  {
   "cell_type": "code",
   "execution_count": null,
   "metadata": {},
   "outputs": [],
   "source": [
    "SELECT AVG(b.counts)\n",
    "\n",
    "FROM\n",
    "(SELECT p.id,\n",
    "COUNT(e.instituition) AS counts\n",
    "FROM people AS p\n",
    "JOIN company AS c ON p.company_id = c.id\n",
    "JOIN education AS e ON p.id=e.person_id\n",
    "WHERE status = 'closed'\n",
    "AND c.id IN ( SELECT company_id \n",
    "             FROM funding_round\n",
    "             WHERE is_last_round = 1 AND is_first_round = 1)\n",
    "GROUP BY p.id) AS b"
   ]
  },
  {
   "cell_type": "markdown",
   "metadata": {},
   "source": [
    "18.\n",
    "Напишите похожий запрос: выведите среднее число учебных заведений (всех, не только уникальных), которые окончили сотрудники Facebook*.\n",
    "*(сервис, запрещённый на территории РФ)"
   ]
  },
  {
   "cell_type": "code",
   "execution_count": null,
   "metadata": {},
   "outputs": [],
   "source": [
    "WITH\n",
    "\n",
    "i AS (SELECT COUNT(instituition) AS avg_instituition , person_id\n",
    "      FROM education\n",
    "      GROUP BY person_id),\n",
    "      \n",
    "w AS (SELECT company_id, id\n",
    "      FROM people),\n",
    "      \n",
    "q AS (SELECT name, id\n",
    "      FROM company\n",
    "      WHERE name = 'Facebook')\n",
    "      \n",
    "SELECT AVG(i.avg_instituition)  \n",
    "FROM i JOIN w ON i.person_id = w.id\n",
    "JOIN q ON w.company_id = q.id"
   ]
  },
  {
   "cell_type": "markdown",
   "metadata": {},
   "source": [
    "19.\n",
    "Составьте таблицу из полей:\n",
    "name_of_fund — название фонда;\n",
    "name_of_company — название компании;\n",
    "amount — сумма инвестиций, которую привлекла компания в раунде.\n",
    "В таблицу войдут данные о компаниях, в истории которых было больше шести важных этапов, а раунды финансирования проходили с 2012 по 2013 год включительно."
   ]
  },
  {
   "cell_type": "code",
   "execution_count": null,
   "metadata": {},
   "outputs": [],
   "source": [
    "\n",
    "SELECT g.name_of_fund name_of_fund,\n",
    "       g.name_of_company name_of_company,\n",
    "       g.amount amount\n",
    "FROM        \n",
    "        (SELECT i.fund_id,\n",
    "               f.name name_of_fund,\n",
    "               f.milestones milestones,\n",
    "               i.company_id,\n",
    "               c.name name_of_company,\n",
    "               i.funding_round_id,\n",
    "               fr.raised_amount amount\n",
    "        FROM investment i\n",
    "        JOIN fund f ON f.id = i.fund_id\n",
    "        JOIN funding_round fr ON fr.id = i.funding_round_id\n",
    "        JOIN company c ON c.id = i.company_id\n",
    "        WHERE EXTRACT(YEAR FROM CAST(fr.funded_at AS timestamp)) IN (2012, 2013) AND c.milestones > 6) AS g"
   ]
  },
  {
   "cell_type": "markdown",
   "metadata": {},
   "source": [
    "20.\n",
    "Выгрузите таблицу, в которой будут такие поля:\n",
    "название компании-покупателя;\n",
    "сумма сделки;\n",
    "название компании, которую купили;\n",
    "сумма инвестиций, вложенных в купленную компанию;\n",
    "доля, которая отображает, во сколько раз сумма покупки превысила сумму вложенных в компанию инвестиций, округлённая до ближайшего целого числа.\n",
    "Не учитывайте те сделки, в которых сумма покупки равна нулю. Если сумма инвестиций в компанию равна нулю, исключите такую компанию из таблицы. \n",
    "Отсортируйте таблицу по сумме сделки от большей к меньшей, а затем по названию купленной компании в лексикографическом порядке. Ограничьте таблицу первыми десятью записями."
   ]
  },
  {
   "cell_type": "code",
   "execution_count": null,
   "metadata": {},
   "outputs": [],
   "source": [
    "SELECT c1.name as comp_buyer,\n",
    "a.price_amount,\n",
    "c2.name as comp_sell,\n",
    "c2.funding_total,\n",
    "ROUND(a.price_amount/c2.funding_total)\n",
    "FROM acquisition AS a\n",
    "JOIN company AS c1 ON a.acquiring_company_id=c1.id\n",
    "JOIN company AS c2 ON a.acquired_company_id=c2.id\n",
    "WHERE a.price_amount > 0 AND c2.funding_total > 0\n",
    "ORDER BY a.price_amount DESC\n",
    "LIMIT 10"
   ]
  },
  {
   "cell_type": "markdown",
   "metadata": {},
   "source": [
    "21.\n",
    "Выгрузите таблицу, в которую войдут названия компаний из категории social, получившие финансирование с 2010 по 2013 год включительно. Проверьте, что сумма инвестиций не равна нулю. Выведите также номер месяца, в котором проходил раунд финансирования."
   ]
  },
  {
   "cell_type": "code",
   "execution_count": null,
   "metadata": {},
   "outputs": [],
   "source": [
    "SELECT c.name,\n",
    "EXTRACT (MONTH FROM CAST(fr.funded_at AS date)) AS month\n",
    "FROM company AS c\n",
    "LEFT JOIN funding_round AS fr ON c.id=fr.company_id\n",
    "WHERE c.category_code LIKE '%social%'\n",
    "AND EXTRACT (YEAR FROM CAST(fr.funded_at AS date)) BETWEEN '2010' AND '2013'\n",
    "AND fr.raised_amount  > 0"
   ]
  },
  {
   "cell_type": "markdown",
   "metadata": {},
   "source": [
    "22.\n",
    "Отберите данные по месяцам с 2010 по 2013 год, когда проходили инвестиционные раунды. Сгруппируйте данные по номеру месяца и получите таблицу, в которой будут поля:\n",
    "номер месяца, в котором проходили раунды;\n",
    "количество уникальных названий фондов из США, которые инвестировали в этом месяце;\n",
    "количество компаний, купленных за этот месяц;\n",
    "общая сумма сделок по покупкам в этом месяце."
   ]
  },
  {
   "cell_type": "code",
   "execution_count": null,
   "metadata": {},
   "outputs": [],
   "source": [
    "WITH\n",
    "fund_quantity AS (SELECT EXTRACT(MONTH FROM CAST(funded_at AS date)) AS month,\n",
    "       COUNT(DISTINCT f.name) AS total_funds\n",
    "       FROM funding_round AS fr\n",
    "       JOIN investment AS i ON i.funding_round_id = fr.id\n",
    "       JOIN fund AS f ON f.id = i.fund_id\n",
    "       WHERE (EXTRACT(YEAR FROM CAST(funded_at AS date)) >= 2010\n",
    "         AND EXTRACT(YEAR FROM CAST(funded_at AS date)) <= 2013)\n",
    "         AND country_code = 'USA'\n",
    "       GROUP BY month),\n",
    "acquired_companies AS (SELECT EXTRACT(MONTH FROM CAST(acquired_at AS date)) AS month,\n",
    "       COUNT(acquired_company_id) AS total_companies,\n",
    "       SUM(price_amount) AS total_amount\n",
    "       FROM acquisition\n",
    "       WHERE (EXTRACT(YEAR FROM CAST(acquired_at AS date)) >= 2010\n",
    "         AND EXTRACT(YEAR FROM CAST(acquired_at AS date)) <= 2013)                \n",
    "       GROUP BY month)\n",
    "SELECT fund_quantity.month,\n",
    "       total_funds,\n",
    "       total_companies,\n",
    "       total_amount\n",
    "FROM fund_quantity LEFT JOIN acquired_companies ON fund_quantity.month = acquired_companies.month\n",
    "ORDER BY fund_quantity.month"
   ]
  },
  {
   "cell_type": "markdown",
   "metadata": {},
   "source": [
    "23.\n",
    "Составьте сводную таблицу и выведите среднюю сумму инвестиций для стран, в которых есть стартапы, зарегистрированные в 2011, 2012 и 2013 годах. Данные за каждый год должны быть в отдельном поле. Отсортируйте таблицу по среднему значению инвестиций за 2011 год от большего к меньшему."
   ]
  },
  {
   "cell_type": "code",
   "execution_count": null,
   "metadata": {},
   "outputs": [],
   "source": [
    "WITH\n",
    "\n",
    "    y2011 AS (SELECT country_code AS country,\n",
    "                 AVG(funding_total) AS average_2011\n",
    "                 FROM company\n",
    "                 WHERE EXTRACT(YEAR FROM CAST(founded_at AS date)) = 2011\n",
    "                 GROUP BY country),\n",
    "                 \n",
    "    y2012 AS (SELECT country_code AS country,\n",
    "                 AVG(funding_total) AS average_2012\n",
    "                 FROM company\n",
    "                 WHERE EXTRACT(YEAR FROM CAST(founded_at AS date)) = 2012\n",
    "                 GROUP BY country),\n",
    "                 \n",
    "    y2013 AS (SELECT country_code AS country,\n",
    "                 AVG(funding_total) AS average_2013\n",
    "                 FROM company\n",
    "                 WHERE EXTRACT(YEAR FROM CAST(founded_at AS date)) = 2013\n",
    "                 GROUP BY country)\n",
    "    \n",
    "SELECT y2011.country,\n",
    "       y2011.average_2011,\n",
    "       y2012.average_2012,\n",
    "       y2013.average_2013\n",
    "FROM  y2011\n",
    "JOIN y2012 ON y2011.country = y2012.country\n",
    "JOIN y2013 ON y2011.country = y2013.country\n",
    "ORDER BY y2011.average_2011 DESC ;"
   ]
  }
 ],
 "metadata": {
  "ExecuteTimeLog": [
   {
    "duration": 22855,
    "start_time": "2023-06-13T20:47:03.163Z"
   },
   {
    "duration": 585,
    "start_time": "2023-06-13T20:47:55.243Z"
   },
   {
    "duration": 143,
    "start_time": "2023-06-13T20:49:17.458Z"
   },
   {
    "duration": 194,
    "start_time": "2023-06-13T20:49:46.944Z"
   },
   {
    "duration": 162,
    "start_time": "2023-06-13T20:50:07.608Z"
   },
   {
    "duration": 162,
    "start_time": "2023-06-13T20:50:25.744Z"
   },
   {
    "duration": 153,
    "start_time": "2023-06-13T20:50:37.812Z"
   },
   {
    "duration": 138,
    "start_time": "2023-06-13T20:50:47.762Z"
   },
   {
    "duration": 130,
    "start_time": "2023-06-13T20:50:53.944Z"
   },
   {
    "duration": 157,
    "start_time": "2023-06-13T20:51:00.795Z"
   },
   {
    "duration": 164,
    "start_time": "2023-06-13T20:51:06.146Z"
   },
   {
    "duration": 208,
    "start_time": "2023-06-13T20:52:36.647Z"
   },
   {
    "duration": 148,
    "start_time": "2023-06-13T20:52:42.398Z"
   },
   {
    "duration": 4,
    "start_time": "2023-06-13T20:53:36.230Z"
   },
   {
    "duration": 828,
    "start_time": "2023-06-13T20:53:36.239Z"
   },
   {
    "duration": 140,
    "start_time": "2023-06-13T20:53:37.069Z"
   },
   {
    "duration": 163,
    "start_time": "2023-06-13T20:53:37.211Z"
   },
   {
    "duration": 181,
    "start_time": "2023-06-13T20:53:37.376Z"
   },
   {
    "duration": 180,
    "start_time": "2023-06-13T20:53:37.563Z"
   },
   {
    "duration": 176,
    "start_time": "2023-06-13T20:53:37.752Z"
   },
   {
    "duration": 185,
    "start_time": "2023-06-13T20:54:33.538Z"
   },
   {
    "duration": 416,
    "start_time": "2023-06-13T20:57:42.211Z"
   },
   {
    "duration": 205,
    "start_time": "2023-06-13T20:58:02.601Z"
   },
   {
    "duration": 145,
    "start_time": "2023-06-13T21:03:36.253Z"
   },
   {
    "duration": 100,
    "start_time": "2023-06-13T21:03:45.100Z"
   },
   {
    "duration": 110,
    "start_time": "2023-06-13T21:06:14.121Z"
   },
   {
    "duration": 112,
    "start_time": "2023-06-13T21:06:24.466Z"
   },
   {
    "duration": 110,
    "start_time": "2023-06-13T21:08:24.110Z"
   },
   {
    "duration": 125,
    "start_time": "2023-06-13T21:09:02.349Z"
   },
   {
    "duration": 249,
    "start_time": "2023-06-13T21:09:55.659Z"
   },
   {
    "duration": 207,
    "start_time": "2023-06-13T21:10:07.451Z"
   },
   {
    "duration": 2,
    "start_time": "2023-06-13T21:12:35.665Z"
   },
   {
    "duration": 4,
    "start_time": "2023-06-13T21:12:38.232Z"
   },
   {
    "duration": 253,
    "start_time": "2023-06-13T21:12:48.928Z"
   },
   {
    "duration": 113,
    "start_time": "2023-06-13T21:13:39.342Z"
   },
   {
    "duration": 83,
    "start_time": "2023-06-13T21:13:50.808Z"
   },
   {
    "duration": 105,
    "start_time": "2023-06-13T21:14:37.849Z"
   },
   {
    "duration": 198,
    "start_time": "2023-06-13T21:16:18.265Z"
   },
   {
    "duration": 109,
    "start_time": "2023-06-13T21:16:35.105Z"
   },
   {
    "duration": 105,
    "start_time": "2023-06-13T21:16:43.546Z"
   },
   {
    "duration": 110,
    "start_time": "2023-06-13T21:17:14.043Z"
   },
   {
    "duration": 113,
    "start_time": "2023-06-13T21:21:23.260Z"
   },
   {
    "duration": 108,
    "start_time": "2023-06-13T21:21:30.821Z"
   },
   {
    "duration": 109,
    "start_time": "2023-06-13T21:22:00.506Z"
   },
   {
    "duration": 310,
    "start_time": "2023-06-13T21:22:52.573Z"
   },
   {
    "duration": 132,
    "start_time": "2023-06-13T21:23:08.302Z"
   },
   {
    "duration": 123,
    "start_time": "2023-06-13T21:24:37.545Z"
   },
   {
    "duration": 122,
    "start_time": "2023-06-13T21:24:38.573Z"
   },
   {
    "duration": 8,
    "start_time": "2023-06-13T21:24:59.402Z"
   },
   {
    "duration": 464,
    "start_time": "2023-06-13T21:24:59.412Z"
   },
   {
    "duration": 125,
    "start_time": "2023-06-13T21:24:59.878Z"
   },
   {
    "duration": 110,
    "start_time": "2023-06-13T21:25:00.010Z"
   },
   {
    "duration": 115,
    "start_time": "2023-06-13T21:25:00.121Z"
   },
   {
    "duration": 119,
    "start_time": "2023-06-13T21:25:00.237Z"
   },
   {
    "duration": 114,
    "start_time": "2023-06-13T21:25:00.357Z"
   },
   {
    "duration": 194,
    "start_time": "2023-06-13T21:25:00.473Z"
   },
   {
    "duration": 107,
    "start_time": "2023-06-13T21:25:00.669Z"
   },
   {
    "duration": 134,
    "start_time": "2023-06-13T21:25:00.779Z"
   },
   {
    "duration": 137,
    "start_time": "2023-06-13T21:25:00.915Z"
   },
   {
    "duration": 15368,
    "start_time": "2023-06-13T21:32:47.442Z"
   },
   {
    "duration": 436,
    "start_time": "2023-06-13T21:33:02.817Z"
   },
   {
    "duration": 124,
    "start_time": "2023-06-13T21:33:03.258Z"
   },
   {
    "duration": 129,
    "start_time": "2023-06-13T21:33:03.384Z"
   },
   {
    "duration": 103,
    "start_time": "2023-06-13T21:33:03.515Z"
   },
   {
    "duration": 94,
    "start_time": "2023-06-13T21:33:03.620Z"
   },
   {
    "duration": 98,
    "start_time": "2023-06-13T21:33:03.716Z"
   },
   {
    "duration": 164,
    "start_time": "2023-06-13T21:33:03.816Z"
   },
   {
    "duration": 116,
    "start_time": "2023-06-13T21:33:03.982Z"
   },
   {
    "duration": 118,
    "start_time": "2023-06-13T21:33:04.100Z"
   },
   {
    "duration": 108,
    "start_time": "2023-06-13T21:33:04.224Z"
   },
   {
    "duration": 60,
    "start_time": "2023-06-14T16:56:56.746Z"
   },
   {
    "duration": 9947,
    "start_time": "2023-06-14T16:57:01.535Z"
   },
   {
    "duration": 86,
    "start_time": "2023-06-14T16:57:11.484Z"
   },
   {
    "duration": 12,
    "start_time": "2023-06-14T16:57:11.572Z"
   },
   {
    "duration": 11,
    "start_time": "2023-06-14T16:57:11.586Z"
   },
   {
    "duration": 10,
    "start_time": "2023-06-14T16:57:11.599Z"
   },
   {
    "duration": 13,
    "start_time": "2023-06-14T16:57:11.611Z"
   },
   {
    "duration": 13,
    "start_time": "2023-06-14T16:57:11.625Z"
   },
   {
    "duration": 41,
    "start_time": "2023-06-14T16:57:11.657Z"
   },
   {
    "duration": 12,
    "start_time": "2023-06-14T16:57:11.700Z"
   },
   {
    "duration": 15,
    "start_time": "2023-06-14T16:57:11.713Z"
   },
   {
    "duration": 11,
    "start_time": "2023-06-14T16:57:11.729Z"
   },
   {
    "duration": 121,
    "start_time": "2023-06-14T19:44:32.523Z"
   },
   {
    "duration": 142,
    "start_time": "2023-06-14T19:44:36.741Z"
   },
   {
    "duration": 148,
    "start_time": "2023-06-14T19:44:55.831Z"
   },
   {
    "duration": 16,
    "start_time": "2023-06-14T19:45:44.519Z"
   },
   {
    "duration": 212,
    "start_time": "2023-06-14T19:49:04.908Z"
   },
   {
    "duration": 139,
    "start_time": "2023-06-14T19:49:54.329Z"
   },
   {
    "duration": 207,
    "start_time": "2023-06-14T19:50:04.947Z"
   },
   {
    "duration": 11,
    "start_time": "2023-06-14T19:50:17.713Z"
   },
   {
    "duration": 185,
    "start_time": "2023-06-14T19:50:23.824Z"
   },
   {
    "duration": 54,
    "start_time": "2023-06-15T16:38:19.816Z"
   },
   {
    "duration": 9710,
    "start_time": "2023-06-15T16:38:25.068Z"
   },
   {
    "duration": 285,
    "start_time": "2023-06-15T16:38:34.780Z"
   },
   {
    "duration": 76,
    "start_time": "2023-06-15T16:38:35.067Z"
   },
   {
    "duration": 76,
    "start_time": "2023-06-15T16:38:35.146Z"
   },
   {
    "duration": 101,
    "start_time": "2023-06-15T16:38:35.226Z"
   },
   {
    "duration": 158,
    "start_time": "2023-06-15T16:38:35.329Z"
   },
   {
    "duration": 76,
    "start_time": "2023-06-15T16:38:35.488Z"
   },
   {
    "duration": 112,
    "start_time": "2023-06-15T16:38:35.566Z"
   },
   {
    "duration": 76,
    "start_time": "2023-06-15T16:38:35.680Z"
   },
   {
    "duration": 80,
    "start_time": "2023-06-15T16:38:35.759Z"
   },
   {
    "duration": 76,
    "start_time": "2023-06-15T16:38:35.841Z"
   },
   {
    "duration": 283,
    "start_time": "2023-06-15T16:38:35.919Z"
   },
   {
    "duration": 174,
    "start_time": "2023-06-15T16:39:52.713Z"
   },
   {
    "duration": 75,
    "start_time": "2023-06-15T16:40:21.222Z"
   },
   {
    "duration": 75,
    "start_time": "2023-06-15T16:41:29.803Z"
   },
   {
    "duration": 9587,
    "start_time": "2023-06-16T19:54:17.567Z"
   },
   {
    "duration": 61,
    "start_time": "2023-06-16T19:54:27.157Z"
   },
   {
    "duration": 11,
    "start_time": "2023-06-16T19:54:27.219Z"
   },
   {
    "duration": 10,
    "start_time": "2023-06-16T19:54:27.232Z"
   },
   {
    "duration": 11,
    "start_time": "2023-06-16T19:54:27.243Z"
   },
   {
    "duration": 11,
    "start_time": "2023-06-16T19:54:27.256Z"
   },
   {
    "duration": 12,
    "start_time": "2023-06-16T19:54:27.268Z"
   },
   {
    "duration": 30,
    "start_time": "2023-06-16T19:54:27.281Z"
   },
   {
    "duration": 13,
    "start_time": "2023-06-16T19:54:27.313Z"
   },
   {
    "duration": 27,
    "start_time": "2023-06-16T19:54:27.328Z"
   },
   {
    "duration": 14,
    "start_time": "2023-06-16T19:54:27.356Z"
   },
   {
    "duration": 17,
    "start_time": "2023-06-16T20:00:43.162Z"
   },
   {
    "duration": 4575,
    "start_time": "2023-06-16T20:08:21.263Z"
   },
   {
    "duration": 4573,
    "start_time": "2023-06-16T20:08:28.382Z"
   },
   {
    "duration": 183,
    "start_time": "2023-06-16T20:12:53.813Z"
   },
   {
    "duration": 114,
    "start_time": "2023-06-16T20:14:43.564Z"
   },
   {
    "duration": 149,
    "start_time": "2023-06-16T20:15:10.074Z"
   },
   {
    "duration": 105,
    "start_time": "2023-06-16T20:15:55.979Z"
   },
   {
    "duration": 4594,
    "start_time": "2023-06-16T20:17:02.122Z"
   },
   {
    "duration": 10172,
    "start_time": "2023-06-16T20:17:30.324Z"
   },
   {
    "duration": 109,
    "start_time": "2023-06-16T20:17:40.498Z"
   },
   {
    "duration": 10,
    "start_time": "2023-06-16T20:17:40.609Z"
   },
   {
    "duration": 11,
    "start_time": "2023-06-16T20:17:40.622Z"
   },
   {
    "duration": 10,
    "start_time": "2023-06-16T20:17:40.634Z"
   },
   {
    "duration": 21,
    "start_time": "2023-06-16T20:17:40.645Z"
   },
   {
    "duration": 10,
    "start_time": "2023-06-16T20:17:40.668Z"
   },
   {
    "duration": 29,
    "start_time": "2023-06-16T20:17:40.680Z"
   },
   {
    "duration": 11,
    "start_time": "2023-06-16T20:17:40.711Z"
   },
   {
    "duration": 14,
    "start_time": "2023-06-16T20:17:40.724Z"
   },
   {
    "duration": 33,
    "start_time": "2023-06-16T20:17:40.740Z"
   },
   {
    "duration": 14,
    "start_time": "2023-06-16T20:17:40.774Z"
   },
   {
    "duration": 4718,
    "start_time": "2023-06-16T20:17:40.790Z"
   },
   {
    "duration": 92,
    "start_time": "2023-06-16T20:17:45.509Z"
   },
   {
    "duration": 20895,
    "start_time": "2023-06-17T08:48:44.947Z"
   },
   {
    "duration": 434,
    "start_time": "2023-06-17T08:49:05.844Z"
   },
   {
    "duration": 92,
    "start_time": "2023-06-17T08:49:06.280Z"
   },
   {
    "duration": 88,
    "start_time": "2023-06-17T08:49:06.374Z"
   },
   {
    "duration": 89,
    "start_time": "2023-06-17T08:49:06.463Z"
   },
   {
    "duration": 102,
    "start_time": "2023-06-17T08:49:06.553Z"
   },
   {
    "duration": 114,
    "start_time": "2023-06-17T08:49:06.656Z"
   },
   {
    "duration": 134,
    "start_time": "2023-06-17T08:49:06.772Z"
   },
   {
    "duration": 82,
    "start_time": "2023-06-17T08:49:06.907Z"
   },
   {
    "duration": 96,
    "start_time": "2023-06-17T08:49:06.992Z"
   },
   {
    "duration": 96,
    "start_time": "2023-06-17T08:49:07.090Z"
   },
   {
    "duration": 101,
    "start_time": "2023-06-17T08:49:07.187Z"
   },
   {
    "duration": 4622,
    "start_time": "2023-06-17T08:49:07.289Z"
   },
   {
    "duration": 162,
    "start_time": "2023-06-17T08:49:11.913Z"
   }
  ],
  "kernelspec": {
   "display_name": "Python 3 (ipykernel)",
   "language": "python",
   "name": "python3"
  },
  "language_info": {
   "codemirror_mode": {
    "name": "ipython",
    "version": 3
   },
   "file_extension": ".py",
   "mimetype": "text/x-python",
   "name": "python",
   "nbconvert_exporter": "python",
   "pygments_lexer": "ipython3",
   "version": "3.9.5"
  },
  "toc": {
   "base_numbering": 1,
   "nav_menu": {},
   "number_sections": true,
   "sideBar": true,
   "skip_h1_title": true,
   "title_cell": "Table of Contents",
   "title_sidebar": "Contents",
   "toc_cell": false,
   "toc_position": {},
   "toc_section_display": true,
   "toc_window_display": false
  }
 },
 "nbformat": 4,
 "nbformat_minor": 2
}
