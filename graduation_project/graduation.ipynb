{
 "cells": [
  {
   "cell_type": "markdown",
   "metadata": {},
   "source": [
    "# Проект по SQL"
   ]
  },
  {
   "cell_type": "markdown",
   "metadata": {},
   "source": [
    "### Описание проекта. Его название. Цели.Описание датасета."
   ]
  },
  {
   "cell_type": "markdown",
   "metadata": {},
   "source": [
    "Цель проекта -проанализировать базу данных,в ней — информация о книгах, издательствах, авторах, а также пользовательские обзоры книг. Эти данные помогут сформулировать ценностное предложение для нового продукта."
   ]
  },
  {
   "cell_type": "markdown",
   "metadata": {},
   "source": [
    "Задачи текущего проекта следующие:\n",
    "\n",
    "- Знакомство с каждым файлом\n",
    "- Посчитаем, сколько книг вышло после 1 января 2000 года;\n",
    "- Для каждой книги посчитаем количество обзоров и среднюю оценку;\n",
    "- Определим издательство, которое выпустило наибольшее число книг толще 50 страниц — для исключиния из анализа брошюры;\n",
    "- Определим автора с самой высокой средней оценкой книг — учтем только книги с 50 и более оценками;\n",
    "- Посчитаем среднее количество обзоров от пользователей, которые поставили больше 48 оценок.\n",
    "\n",
    "Как мы будем решать текущие задачи:\n",
    "\n",
    "- Исследуем таблицы — выведите первые строки;\n",
    "- Сделаем по одному SQL-запросу для решения каждого задания;\n",
    "- Выведем результаты каждого запроса в тетрадке;\n",
    "- Сделаем выводы по каждой из решённых задач."
   ]
  },
  {
   "cell_type": "markdown",
   "metadata": {},
   "source": [
    " **Описание данных**\n",
    " \n",
    "  **Таблица books**\n",
    " \n",
    " \n",
    "Содержит данные о книгах:\n",
    "\n",
    "\n",
    "book_id — идентификатор книги;\n",
    "\n",
    "\n",
    "author_id — идентификатор автора;\n",
    "\n",
    "\n",
    "title — название книги;\n",
    "\n",
    "\n",
    "num_pages — количество страниц;\n",
    "\n",
    "\n",
    "publication_date — дата публикации книги;\n",
    "\n",
    "\n",
    "publisher_id — идентификатор издателя.\n",
    "\n",
    "\n",
    "\n",
    "\n",
    " **Таблица authors**\n",
    "\n",
    "\n",
    "Содержит данные об авторах:\n",
    "\n",
    "\n",
    "author_id — идентификатор автора;\n",
    "\n",
    "\n",
    "author — имя автора.\n",
    "\n",
    "\n",
    "\n",
    "\n",
    "\n",
    " **Таблица publishers**\n",
    "\n",
    "\n",
    "Содержит данные об издательствах:\n",
    "\n",
    "\n",
    "publisher_id — идентификатор издательства;\n",
    "\n",
    "\n",
    "publisher — название издательства;\n",
    "\n",
    "\n",
    "\n",
    "\n",
    "\n",
    " **Таблица ratings**\n",
    "\n",
    "\n",
    "Содержит данные о пользовательских оценках книг:\n",
    "\n",
    "\n",
    "rating_id — идентификатор оценки;\n",
    "\n",
    "\n",
    "book_id — идентификатор книги;\n",
    "\n",
    "\n",
    "username — имя пользователя, оставившего оценку;\n",
    "\n",
    "\n",
    "rating — оценка книги.\n",
    "\n",
    "\n",
    "\n",
    "\n",
    "\n",
    " **Таблица reviews**\n",
    "\n",
    "\n",
    "Содержит данные о пользовательских обзорах:\n",
    "\n",
    "\n",
    "review_id — идентификатор обзора;\n",
    "\n",
    "\n",
    "book_id — идентификатор книги;\n",
    "\n",
    "\n",
    "username — имя автора обзора;\n",
    "\n",
    "\n",
    "text — текст обзора."
   ]
  },
  {
   "cell_type": "markdown",
   "metadata": {},
   "source": [
    "### Загрузка датасетов. И всех необходимых библиотек."
   ]
  },
  {
   "cell_type": "markdown",
   "metadata": {},
   "source": [
    "Воспользуемся инструкцией для доступа к базе данных:"
   ]
  },
  {
   "cell_type": "code",
   "execution_count": 1,
   "metadata": {},
   "outputs": [],
   "source": [
    "# импортируем библиотеки\n",
    "import pandas as pd\n",
    "from sqlalchemy import text, create_engine\n",
    "# устанавливаем параметры\n",
    "db_config = {'user': 'praktikum_student', # имя пользователя\n",
    "'pwd': 'Sdf4$2;d-d30pp', # пароль\n",
    "'host': 'rc1b-wcoijxj3yxfsf3fs.mdb.yandexcloud.net',\n",
    "'port': 6432, # порт подключения\n",
    "'db': 'data-analyst-final-project-db'} # название базы данных\n",
    "connection_string = 'postgresql://{user}:{pwd}@{host}:{port}/{db}'.format(**db_config)\n",
    "# сохраняем коннектор\n",
    "engine = create_engine(connection_string, connect_args={'sslmode':'require'})"
   ]
  },
  {
   "cell_type": "markdown",
   "metadata": {},
   "source": [
    "Теперь посмотрим каждый датасет."
   ]
  },
  {
   "cell_type": "markdown",
   "metadata": {},
   "source": [
    "  **Таблица books**"
   ]
  },
  {
   "cell_type": "code",
   "execution_count": 2,
   "metadata": {},
   "outputs": [
    {
     "data": {
      "text/html": [
       "<div>\n",
       "<style scoped>\n",
       "    .dataframe tbody tr th:only-of-type {\n",
       "        vertical-align: middle;\n",
       "    }\n",
       "\n",
       "    .dataframe tbody tr th {\n",
       "        vertical-align: top;\n",
       "    }\n",
       "\n",
       "    .dataframe thead th {\n",
       "        text-align: right;\n",
       "    }\n",
       "</style>\n",
       "<table border=\"1\" class=\"dataframe\">\n",
       "  <thead>\n",
       "    <tr style=\"text-align: right;\">\n",
       "      <th></th>\n",
       "      <th>book_id</th>\n",
       "      <th>author_id</th>\n",
       "      <th>title</th>\n",
       "      <th>num_pages</th>\n",
       "      <th>publication_date</th>\n",
       "      <th>publisher_id</th>\n",
       "    </tr>\n",
       "  </thead>\n",
       "  <tbody>\n",
       "    <tr>\n",
       "      <th>0</th>\n",
       "      <td>1</td>\n",
       "      <td>546</td>\n",
       "      <td>'Salem's Lot</td>\n",
       "      <td>594</td>\n",
       "      <td>2005-11-01</td>\n",
       "      <td>93</td>\n",
       "    </tr>\n",
       "    <tr>\n",
       "      <th>1</th>\n",
       "      <td>2</td>\n",
       "      <td>465</td>\n",
       "      <td>1 000 Places to See Before You Die</td>\n",
       "      <td>992</td>\n",
       "      <td>2003-05-22</td>\n",
       "      <td>336</td>\n",
       "    </tr>\n",
       "    <tr>\n",
       "      <th>2</th>\n",
       "      <td>3</td>\n",
       "      <td>407</td>\n",
       "      <td>13 Little Blue Envelopes (Little Blue Envelope...</td>\n",
       "      <td>322</td>\n",
       "      <td>2010-12-21</td>\n",
       "      <td>135</td>\n",
       "    </tr>\n",
       "    <tr>\n",
       "      <th>3</th>\n",
       "      <td>4</td>\n",
       "      <td>82</td>\n",
       "      <td>1491: New Revelations of the Americas Before C...</td>\n",
       "      <td>541</td>\n",
       "      <td>2006-10-10</td>\n",
       "      <td>309</td>\n",
       "    </tr>\n",
       "    <tr>\n",
       "      <th>4</th>\n",
       "      <td>5</td>\n",
       "      <td>125</td>\n",
       "      <td>1776</td>\n",
       "      <td>386</td>\n",
       "      <td>2006-07-04</td>\n",
       "      <td>268</td>\n",
       "    </tr>\n",
       "  </tbody>\n",
       "</table>\n",
       "</div>"
      ],
      "text/plain": [
       "   book_id  author_id                                              title  \\\n",
       "0        1        546                                       'Salem's Lot   \n",
       "1        2        465                 1 000 Places to See Before You Die   \n",
       "2        3        407  13 Little Blue Envelopes (Little Blue Envelope...   \n",
       "3        4         82  1491: New Revelations of the Americas Before C...   \n",
       "4        5        125                                               1776   \n",
       "\n",
       "   num_pages publication_date  publisher_id  \n",
       "0        594       2005-11-01            93  \n",
       "1        992       2003-05-22           336  \n",
       "2        322       2010-12-21           135  \n",
       "3        541       2006-10-10           309  \n",
       "4        386       2006-07-04           268  "
      ]
     },
     "execution_count": 2,
     "metadata": {},
     "output_type": "execute_result"
    }
   ],
   "source": [
    "query = '''SELECT *\n",
    "FROM books\n",
    "LIMIT 5'''\n",
    "\n",
    "pd.io.sql.read_sql(query, con = engine)\n"
   ]
  },
  {
   "cell_type": "markdown",
   "metadata": {},
   "source": [
    " **Таблица authors**"
   ]
  },
  {
   "cell_type": "code",
   "execution_count": 3,
   "metadata": {},
   "outputs": [
    {
     "data": {
      "text/html": [
       "<div>\n",
       "<style scoped>\n",
       "    .dataframe tbody tr th:only-of-type {\n",
       "        vertical-align: middle;\n",
       "    }\n",
       "\n",
       "    .dataframe tbody tr th {\n",
       "        vertical-align: top;\n",
       "    }\n",
       "\n",
       "    .dataframe thead th {\n",
       "        text-align: right;\n",
       "    }\n",
       "</style>\n",
       "<table border=\"1\" class=\"dataframe\">\n",
       "  <thead>\n",
       "    <tr style=\"text-align: right;\">\n",
       "      <th></th>\n",
       "      <th>author_id</th>\n",
       "      <th>author</th>\n",
       "    </tr>\n",
       "  </thead>\n",
       "  <tbody>\n",
       "    <tr>\n",
       "      <th>0</th>\n",
       "      <td>1</td>\n",
       "      <td>A.S. Byatt</td>\n",
       "    </tr>\n",
       "    <tr>\n",
       "      <th>1</th>\n",
       "      <td>2</td>\n",
       "      <td>Aesop/Laura Harris/Laura Gibbs</td>\n",
       "    </tr>\n",
       "    <tr>\n",
       "      <th>2</th>\n",
       "      <td>3</td>\n",
       "      <td>Agatha Christie</td>\n",
       "    </tr>\n",
       "    <tr>\n",
       "      <th>3</th>\n",
       "      <td>4</td>\n",
       "      <td>Alan Brennert</td>\n",
       "    </tr>\n",
       "    <tr>\n",
       "      <th>4</th>\n",
       "      <td>5</td>\n",
       "      <td>Alan Moore/David   Lloyd</td>\n",
       "    </tr>\n",
       "  </tbody>\n",
       "</table>\n",
       "</div>"
      ],
      "text/plain": [
       "   author_id                          author\n",
       "0          1                      A.S. Byatt\n",
       "1          2  Aesop/Laura Harris/Laura Gibbs\n",
       "2          3                 Agatha Christie\n",
       "3          4                   Alan Brennert\n",
       "4          5        Alan Moore/David   Lloyd"
      ]
     },
     "execution_count": 3,
     "metadata": {},
     "output_type": "execute_result"
    }
   ],
   "source": [
    "query = '''SELECT *\n",
    "FROM authors\n",
    "LIMIT 5'''\n",
    "\n",
    "pd.io.sql.read_sql(query, con = engine)\n"
   ]
  },
  {
   "cell_type": "markdown",
   "metadata": {},
   "source": [
    " **Таблица publishers**"
   ]
  },
  {
   "cell_type": "code",
   "execution_count": 4,
   "metadata": {},
   "outputs": [
    {
     "data": {
      "text/html": [
       "<div>\n",
       "<style scoped>\n",
       "    .dataframe tbody tr th:only-of-type {\n",
       "        vertical-align: middle;\n",
       "    }\n",
       "\n",
       "    .dataframe tbody tr th {\n",
       "        vertical-align: top;\n",
       "    }\n",
       "\n",
       "    .dataframe thead th {\n",
       "        text-align: right;\n",
       "    }\n",
       "</style>\n",
       "<table border=\"1\" class=\"dataframe\">\n",
       "  <thead>\n",
       "    <tr style=\"text-align: right;\">\n",
       "      <th></th>\n",
       "      <th>publisher_id</th>\n",
       "      <th>publisher</th>\n",
       "    </tr>\n",
       "  </thead>\n",
       "  <tbody>\n",
       "    <tr>\n",
       "      <th>0</th>\n",
       "      <td>1</td>\n",
       "      <td>Ace</td>\n",
       "    </tr>\n",
       "    <tr>\n",
       "      <th>1</th>\n",
       "      <td>2</td>\n",
       "      <td>Ace Book</td>\n",
       "    </tr>\n",
       "    <tr>\n",
       "      <th>2</th>\n",
       "      <td>3</td>\n",
       "      <td>Ace Books</td>\n",
       "    </tr>\n",
       "    <tr>\n",
       "      <th>3</th>\n",
       "      <td>4</td>\n",
       "      <td>Ace Hardcover</td>\n",
       "    </tr>\n",
       "    <tr>\n",
       "      <th>4</th>\n",
       "      <td>5</td>\n",
       "      <td>Addison Wesley Publishing Company</td>\n",
       "    </tr>\n",
       "  </tbody>\n",
       "</table>\n",
       "</div>"
      ],
      "text/plain": [
       "   publisher_id                          publisher\n",
       "0             1                                Ace\n",
       "1             2                           Ace Book\n",
       "2             3                          Ace Books\n",
       "3             4                      Ace Hardcover\n",
       "4             5  Addison Wesley Publishing Company"
      ]
     },
     "execution_count": 4,
     "metadata": {},
     "output_type": "execute_result"
    }
   ],
   "source": [
    "query = '''SELECT *\n",
    "FROM publishers\n",
    "LIMIT 5'''\n",
    "\n",
    "pd.io.sql.read_sql(query, con = engine)\n"
   ]
  },
  {
   "cell_type": "markdown",
   "metadata": {},
   "source": [
    " **Таблица ratings**"
   ]
  },
  {
   "cell_type": "code",
   "execution_count": 5,
   "metadata": {},
   "outputs": [
    {
     "data": {
      "text/html": [
       "<div>\n",
       "<style scoped>\n",
       "    .dataframe tbody tr th:only-of-type {\n",
       "        vertical-align: middle;\n",
       "    }\n",
       "\n",
       "    .dataframe tbody tr th {\n",
       "        vertical-align: top;\n",
       "    }\n",
       "\n",
       "    .dataframe thead th {\n",
       "        text-align: right;\n",
       "    }\n",
       "</style>\n",
       "<table border=\"1\" class=\"dataframe\">\n",
       "  <thead>\n",
       "    <tr style=\"text-align: right;\">\n",
       "      <th></th>\n",
       "      <th>rating_id</th>\n",
       "      <th>book_id</th>\n",
       "      <th>username</th>\n",
       "      <th>rating</th>\n",
       "    </tr>\n",
       "  </thead>\n",
       "  <tbody>\n",
       "    <tr>\n",
       "      <th>0</th>\n",
       "      <td>1</td>\n",
       "      <td>1</td>\n",
       "      <td>ryanfranco</td>\n",
       "      <td>4</td>\n",
       "    </tr>\n",
       "    <tr>\n",
       "      <th>1</th>\n",
       "      <td>2</td>\n",
       "      <td>1</td>\n",
       "      <td>grantpatricia</td>\n",
       "      <td>2</td>\n",
       "    </tr>\n",
       "    <tr>\n",
       "      <th>2</th>\n",
       "      <td>3</td>\n",
       "      <td>1</td>\n",
       "      <td>brandtandrea</td>\n",
       "      <td>5</td>\n",
       "    </tr>\n",
       "    <tr>\n",
       "      <th>3</th>\n",
       "      <td>4</td>\n",
       "      <td>2</td>\n",
       "      <td>lorichen</td>\n",
       "      <td>3</td>\n",
       "    </tr>\n",
       "    <tr>\n",
       "      <th>4</th>\n",
       "      <td>5</td>\n",
       "      <td>2</td>\n",
       "      <td>mariokeller</td>\n",
       "      <td>2</td>\n",
       "    </tr>\n",
       "  </tbody>\n",
       "</table>\n",
       "</div>"
      ],
      "text/plain": [
       "   rating_id  book_id       username  rating\n",
       "0          1        1     ryanfranco       4\n",
       "1          2        1  grantpatricia       2\n",
       "2          3        1   brandtandrea       5\n",
       "3          4        2       lorichen       3\n",
       "4          5        2    mariokeller       2"
      ]
     },
     "execution_count": 5,
     "metadata": {},
     "output_type": "execute_result"
    }
   ],
   "source": [
    "query = '''SELECT *\n",
    "FROM ratings\n",
    "LIMIT 5'''\n",
    "\n",
    "pd.io.sql.read_sql(query, con = engine)\n"
   ]
  },
  {
   "cell_type": "markdown",
   "metadata": {},
   "source": [
    " **Таблица reviews**"
   ]
  },
  {
   "cell_type": "code",
   "execution_count": 6,
   "metadata": {
    "scrolled": true
   },
   "outputs": [
    {
     "data": {
      "text/html": [
       "<div>\n",
       "<style scoped>\n",
       "    .dataframe tbody tr th:only-of-type {\n",
       "        vertical-align: middle;\n",
       "    }\n",
       "\n",
       "    .dataframe tbody tr th {\n",
       "        vertical-align: top;\n",
       "    }\n",
       "\n",
       "    .dataframe thead th {\n",
       "        text-align: right;\n",
       "    }\n",
       "</style>\n",
       "<table border=\"1\" class=\"dataframe\">\n",
       "  <thead>\n",
       "    <tr style=\"text-align: right;\">\n",
       "      <th></th>\n",
       "      <th>review_id</th>\n",
       "      <th>book_id</th>\n",
       "      <th>username</th>\n",
       "      <th>text</th>\n",
       "    </tr>\n",
       "  </thead>\n",
       "  <tbody>\n",
       "    <tr>\n",
       "      <th>0</th>\n",
       "      <td>1</td>\n",
       "      <td>1</td>\n",
       "      <td>brandtandrea</td>\n",
       "      <td>Mention society tell send professor analysis. ...</td>\n",
       "    </tr>\n",
       "    <tr>\n",
       "      <th>1</th>\n",
       "      <td>2</td>\n",
       "      <td>1</td>\n",
       "      <td>ryanfranco</td>\n",
       "      <td>Foot glass pretty audience hit themselves. Amo...</td>\n",
       "    </tr>\n",
       "    <tr>\n",
       "      <th>2</th>\n",
       "      <td>3</td>\n",
       "      <td>2</td>\n",
       "      <td>lorichen</td>\n",
       "      <td>Listen treat keep worry. Miss husband tax but ...</td>\n",
       "    </tr>\n",
       "    <tr>\n",
       "      <th>3</th>\n",
       "      <td>4</td>\n",
       "      <td>3</td>\n",
       "      <td>johnsonamanda</td>\n",
       "      <td>Finally month interesting blue could nature cu...</td>\n",
       "    </tr>\n",
       "    <tr>\n",
       "      <th>4</th>\n",
       "      <td>5</td>\n",
       "      <td>3</td>\n",
       "      <td>scotttamara</td>\n",
       "      <td>Nation purpose heavy give wait song will. List...</td>\n",
       "    </tr>\n",
       "  </tbody>\n",
       "</table>\n",
       "</div>"
      ],
      "text/plain": [
       "   review_id  book_id       username  \\\n",
       "0          1        1   brandtandrea   \n",
       "1          2        1     ryanfranco   \n",
       "2          3        2       lorichen   \n",
       "3          4        3  johnsonamanda   \n",
       "4          5        3    scotttamara   \n",
       "\n",
       "                                                text  \n",
       "0  Mention society tell send professor analysis. ...  \n",
       "1  Foot glass pretty audience hit themselves. Amo...  \n",
       "2  Listen treat keep worry. Miss husband tax but ...  \n",
       "3  Finally month interesting blue could nature cu...  \n",
       "4  Nation purpose heavy give wait song will. List...  "
      ]
     },
     "execution_count": 6,
     "metadata": {},
     "output_type": "execute_result"
    }
   ],
   "source": [
    "query = '''SELECT *\n",
    "FROM reviews\n",
    "LIMIT 5'''\n",
    "\n",
    "pd.io.sql.read_sql(query, con = engine)\n"
   ]
  },
  {
   "cell_type": "markdown",
   "metadata": {},
   "source": [
    "### Переходим к перечню заданий."
   ]
  },
  {
   "cell_type": "markdown",
   "metadata": {},
   "source": [
    "1.Посчитайте, сколько книг вышло после 1 января 2000 года;"
   ]
  },
  {
   "cell_type": "code",
   "execution_count": 7,
   "metadata": {},
   "outputs": [
    {
     "data": {
      "text/html": [
       "<div>\n",
       "<style scoped>\n",
       "    .dataframe tbody tr th:only-of-type {\n",
       "        vertical-align: middle;\n",
       "    }\n",
       "\n",
       "    .dataframe tbody tr th {\n",
       "        vertical-align: top;\n",
       "    }\n",
       "\n",
       "    .dataframe thead th {\n",
       "        text-align: right;\n",
       "    }\n",
       "</style>\n",
       "<table border=\"1\" class=\"dataframe\">\n",
       "  <thead>\n",
       "    <tr style=\"text-align: right;\">\n",
       "      <th></th>\n",
       "      <th>count</th>\n",
       "    </tr>\n",
       "  </thead>\n",
       "  <tbody>\n",
       "    <tr>\n",
       "      <th>0</th>\n",
       "      <td>819</td>\n",
       "    </tr>\n",
       "  </tbody>\n",
       "</table>\n",
       "</div>"
      ],
      "text/plain": [
       "   count\n",
       "0    819"
      ]
     },
     "execution_count": 7,
     "metadata": {},
     "output_type": "execute_result"
    }
   ],
   "source": [
    "query = '''SELECT COUNT(book_id)\n",
    "FROM books\n",
    "WHERE publication_date > '2000-01-01'\n",
    "'''\n",
    "\n",
    "pd.io.sql.read_sql(query, con = engine)\n"
   ]
  },
  {
   "cell_type": "markdown",
   "metadata": {},
   "source": [
    "Итак добавилось целых 819 книг."
   ]
  },
  {
   "cell_type": "markdown",
   "metadata": {},
   "source": [
    "2. Для каждой книги посчитайте количество обзоров и среднюю оценку;"
   ]
  },
  {
   "cell_type": "code",
   "execution_count": 8,
   "metadata": {},
   "outputs": [
    {
     "data": {
      "text/html": [
       "<div>\n",
       "<style scoped>\n",
       "    .dataframe tbody tr th:only-of-type {\n",
       "        vertical-align: middle;\n",
       "    }\n",
       "\n",
       "    .dataframe tbody tr th {\n",
       "        vertical-align: top;\n",
       "    }\n",
       "\n",
       "    .dataframe thead th {\n",
       "        text-align: right;\n",
       "    }\n",
       "</style>\n",
       "<table border=\"1\" class=\"dataframe\">\n",
       "  <thead>\n",
       "    <tr style=\"text-align: right;\">\n",
       "      <th></th>\n",
       "      <th>book_id</th>\n",
       "      <th>title</th>\n",
       "      <th>qty_reviews</th>\n",
       "      <th>mark_rating</th>\n",
       "    </tr>\n",
       "  </thead>\n",
       "  <tbody>\n",
       "    <tr>\n",
       "      <th>0</th>\n",
       "      <td>948</td>\n",
       "      <td>Twilight (Twilight  #1)</td>\n",
       "      <td>7</td>\n",
       "      <td>3.663</td>\n",
       "    </tr>\n",
       "    <tr>\n",
       "      <th>1</th>\n",
       "      <td>963</td>\n",
       "      <td>Water for Elephants</td>\n",
       "      <td>6</td>\n",
       "      <td>3.977</td>\n",
       "    </tr>\n",
       "    <tr>\n",
       "      <th>2</th>\n",
       "      <td>734</td>\n",
       "      <td>The Glass Castle</td>\n",
       "      <td>6</td>\n",
       "      <td>4.207</td>\n",
       "    </tr>\n",
       "    <tr>\n",
       "      <th>3</th>\n",
       "      <td>302</td>\n",
       "      <td>Harry Potter and the Prisoner of Azkaban (Harr...</td>\n",
       "      <td>6</td>\n",
       "      <td>4.415</td>\n",
       "    </tr>\n",
       "    <tr>\n",
       "      <th>4</th>\n",
       "      <td>695</td>\n",
       "      <td>The Curious Incident of the Dog in the Night-Time</td>\n",
       "      <td>6</td>\n",
       "      <td>4.081</td>\n",
       "    </tr>\n",
       "    <tr>\n",
       "      <th>...</th>\n",
       "      <td>...</td>\n",
       "      <td>...</td>\n",
       "      <td>...</td>\n",
       "      <td>...</td>\n",
       "    </tr>\n",
       "    <tr>\n",
       "      <th>995</th>\n",
       "      <td>83</td>\n",
       "      <td>Anne Rice's The Vampire Lestat: A Graphic Novel</td>\n",
       "      <td>0</td>\n",
       "      <td>3.667</td>\n",
       "    </tr>\n",
       "    <tr>\n",
       "      <th>996</th>\n",
       "      <td>808</td>\n",
       "      <td>The Natural Way to Draw</td>\n",
       "      <td>0</td>\n",
       "      <td>3.000</td>\n",
       "    </tr>\n",
       "    <tr>\n",
       "      <th>997</th>\n",
       "      <td>672</td>\n",
       "      <td>The Cat in the Hat and Other Dr. Seuss Favorites</td>\n",
       "      <td>0</td>\n",
       "      <td>5.000</td>\n",
       "    </tr>\n",
       "    <tr>\n",
       "      <th>998</th>\n",
       "      <td>221</td>\n",
       "      <td>Essential Tales and Poems</td>\n",
       "      <td>0</td>\n",
       "      <td>4.000</td>\n",
       "    </tr>\n",
       "    <tr>\n",
       "      <th>999</th>\n",
       "      <td>191</td>\n",
       "      <td>Disney's Beauty and the Beast (A Little Golden...</td>\n",
       "      <td>0</td>\n",
       "      <td>4.000</td>\n",
       "    </tr>\n",
       "  </tbody>\n",
       "</table>\n",
       "<p>1000 rows × 4 columns</p>\n",
       "</div>"
      ],
      "text/plain": [
       "     book_id                                              title  qty_reviews  \\\n",
       "0        948                            Twilight (Twilight  #1)            7   \n",
       "1        963                                Water for Elephants            6   \n",
       "2        734                                   The Glass Castle            6   \n",
       "3        302  Harry Potter and the Prisoner of Azkaban (Harr...            6   \n",
       "4        695  The Curious Incident of the Dog in the Night-Time            6   \n",
       "..       ...                                                ...          ...   \n",
       "995       83    Anne Rice's The Vampire Lestat: A Graphic Novel            0   \n",
       "996      808                            The Natural Way to Draw            0   \n",
       "997      672   The Cat in the Hat and Other Dr. Seuss Favorites            0   \n",
       "998      221                          Essential Tales and Poems            0   \n",
       "999      191  Disney's Beauty and the Beast (A Little Golden...            0   \n",
       "\n",
       "     mark_rating  \n",
       "0          3.663  \n",
       "1          3.977  \n",
       "2          4.207  \n",
       "3          4.415  \n",
       "4          4.081  \n",
       "..           ...  \n",
       "995        3.667  \n",
       "996        3.000  \n",
       "997        5.000  \n",
       "998        4.000  \n",
       "999        4.000  \n",
       "\n",
       "[1000 rows x 4 columns]"
      ]
     },
     "execution_count": 8,
     "metadata": {},
     "output_type": "execute_result"
    }
   ],
   "source": [
    "query = '''SELECT b.book_id, \n",
    "       b.title, \n",
    "       COUNT(DISTINCT rv.review_id) AS qty_reviews, \n",
    "       ROUND(AVG(ra.rating),3) AS mark_rating\n",
    "FROM books AS b\n",
    "LEFT JOIN reviews AS rv\n",
    "ON b.book_id = rv.book_id\n",
    "LEFT JOIN  ratings AS ra\n",
    "ON b.book_id = ra.book_id\n",
    "GROUP BY b.book_id, b.title\n",
    "ORDER BY qty_reviews DESC'''\n",
    "\n",
    "pd.io.sql.read_sql(query, con = engine)\n"
   ]
  },
  {
   "cell_type": "markdown",
   "metadata": {},
   "source": [
    "Итак, у нас получилось 1000 книг ровно. Для каких-то книг сделали 7 обзоров, а для каких-то вообще нет. Оценка рейтинга гуляет, причем не видно на первый взгляд зависимости от наличия обзоров. Так у книги The Cat in the Hat and Other Dr. Seuss Favorites рейтинг 5, при отсутствии обзоров, а у книги Twilight (Twilight #1) рейтинг 3,66 при максимальных 7 обзорах. Вывод, сколько обзоров не делай, на рейтинг это не повляет, можно только привлечь пользователей для прочтения, а вот выводы они уже сами сделают. И оценка уже зависит только от автора книги и личных предпочтений читателя."
   ]
  },
  {
   "cell_type": "markdown",
   "metadata": {},
   "source": [
    "3. Определите издательство, которое выпустило наибольшее число книг толще 50 страниц — так вы исключите из анализа брошюры;"
   ]
  },
  {
   "cell_type": "code",
   "execution_count": 9,
   "metadata": {},
   "outputs": [
    {
     "data": {
      "text/html": [
       "<div>\n",
       "<style scoped>\n",
       "    .dataframe tbody tr th:only-of-type {\n",
       "        vertical-align: middle;\n",
       "    }\n",
       "\n",
       "    .dataframe tbody tr th {\n",
       "        vertical-align: top;\n",
       "    }\n",
       "\n",
       "    .dataframe thead th {\n",
       "        text-align: right;\n",
       "    }\n",
       "</style>\n",
       "<table border=\"1\" class=\"dataframe\">\n",
       "  <thead>\n",
       "    <tr style=\"text-align: right;\">\n",
       "      <th></th>\n",
       "      <th>publisher_id</th>\n",
       "      <th>publisher</th>\n",
       "      <th>count_books</th>\n",
       "    </tr>\n",
       "  </thead>\n",
       "  <tbody>\n",
       "    <tr>\n",
       "      <th>0</th>\n",
       "      <td>212</td>\n",
       "      <td>Penguin Books</td>\n",
       "      <td>42</td>\n",
       "    </tr>\n",
       "    <tr>\n",
       "      <th>1</th>\n",
       "      <td>309</td>\n",
       "      <td>Vintage</td>\n",
       "      <td>31</td>\n",
       "    </tr>\n",
       "    <tr>\n",
       "      <th>2</th>\n",
       "      <td>116</td>\n",
       "      <td>Grand Central Publishing</td>\n",
       "      <td>25</td>\n",
       "    </tr>\n",
       "  </tbody>\n",
       "</table>\n",
       "</div>"
      ],
      "text/plain": [
       "   publisher_id                 publisher  count_books\n",
       "0           212             Penguin Books           42\n",
       "1           309                   Vintage           31\n",
       "2           116  Grand Central Publishing           25"
      ]
     },
     "execution_count": 9,
     "metadata": {},
     "output_type": "execute_result"
    }
   ],
   "source": [
    "query = '''SELECT b.publisher_id, p.publisher, COUNT(*) count_books\n",
    "            FROM books b\n",
    "            LEFT JOIN publishers p ON b.publisher_id = p.publisher_id\n",
    "            WHERE num_pages >= 50\n",
    "            GROUP BY b.publisher_id, p.publisher\n",
    "            ORDER BY COUNT(*) DESC\n",
    "            LIMIT 3'''\n",
    "pd.io.sql.read_sql(query, con = engine)\n"
   ]
  },
  {
   "cell_type": "markdown",
   "metadata": {},
   "source": [
    "Итак, больше всего книг выпущено издательством Penguin Books\t - 42 книги. Хороший результат. Следующий Vintage с 31 книгой и замыкает тройку Grand Central Publishing с 25 книгами."
   ]
  },
  {
   "cell_type": "markdown",
   "metadata": {},
   "source": [
    "4. Определите автора с самой высокой средней оценкой книг — учитывайте только книги с 50 и более оценками;"
   ]
  },
  {
   "cell_type": "code",
   "execution_count": 10,
   "metadata": {},
   "outputs": [
    {
     "data": {
      "text/html": [
       "<div>\n",
       "<style scoped>\n",
       "    .dataframe tbody tr th:only-of-type {\n",
       "        vertical-align: middle;\n",
       "    }\n",
       "\n",
       "    .dataframe tbody tr th {\n",
       "        vertical-align: top;\n",
       "    }\n",
       "\n",
       "    .dataframe thead th {\n",
       "        text-align: right;\n",
       "    }\n",
       "</style>\n",
       "<table border=\"1\" class=\"dataframe\">\n",
       "  <thead>\n",
       "    <tr style=\"text-align: right;\">\n",
       "      <th></th>\n",
       "      <th>author_id</th>\n",
       "      <th>имя_автора</th>\n",
       "      <th>его_рейтинг</th>\n",
       "    </tr>\n",
       "  </thead>\n",
       "  <tbody>\n",
       "    <tr>\n",
       "      <th>0</th>\n",
       "      <td>236</td>\n",
       "      <td>J.K. Rowling/Mary GrandPré</td>\n",
       "      <td>4.287097</td>\n",
       "    </tr>\n",
       "    <tr>\n",
       "      <th>1</th>\n",
       "      <td>402</td>\n",
       "      <td>Markus Zusak/Cao Xuân Việt Khương</td>\n",
       "      <td>4.264151</td>\n",
       "    </tr>\n",
       "    <tr>\n",
       "      <th>2</th>\n",
       "      <td>240</td>\n",
       "      <td>J.R.R. Tolkien</td>\n",
       "      <td>4.246914</td>\n",
       "    </tr>\n",
       "    <tr>\n",
       "      <th>3</th>\n",
       "      <td>376</td>\n",
       "      <td>Louisa May Alcott</td>\n",
       "      <td>4.192308</td>\n",
       "    </tr>\n",
       "    <tr>\n",
       "      <th>4</th>\n",
       "      <td>498</td>\n",
       "      <td>Rick Riordan</td>\n",
       "      <td>4.080645</td>\n",
       "    </tr>\n",
       "  </tbody>\n",
       "</table>\n",
       "</div>"
      ],
      "text/plain": [
       "   author_id                         имя_автора  его_рейтинг\n",
       "0        236         J.K. Rowling/Mary GrandPré     4.287097\n",
       "1        402  Markus Zusak/Cao Xuân Việt Khương     4.264151\n",
       "2        240                     J.R.R. Tolkien     4.246914\n",
       "3        376                  Louisa May Alcott     4.192308\n",
       "4        498                       Rick Riordan     4.080645"
      ]
     },
     "execution_count": 10,
     "metadata": {},
     "output_type": "execute_result"
    }
   ],
   "source": [
    "query = '''WITH \n",
    "real_books AS (\n",
    "SELECT book_id\n",
    "FROM ratings\n",
    "GROUP BY book_id\n",
    "HAVING COUNT(rating_id) > 50)\n",
    "\n",
    "\n",
    "SELECT a.author_id, \n",
    "       a.author as имя_автора, \n",
    "       AVG(r.rating) AS его_рейтинг\n",
    "FROM books AS b\n",
    "\n",
    "INNER JOIN real_books\n",
    "ON b.book_id = real_books.book_id\n",
    "\n",
    "INNER JOIN authors AS a\n",
    "ON b.author_id = a.author_id\n",
    "\n",
    "INNER JOIN ratings AS r\n",
    "ON real_books.book_id = r.book_id\n",
    "\n",
    "GROUP BY a.author_id, a.author\n",
    "ORDER BY AVG(r.rating) DESC\n",
    "\n",
    "LIMIT 5 '''\n",
    "pd.io.sql.read_sql(query, con = engine)"
   ]
  },
  {
   "cell_type": "markdown",
   "metadata": {},
   "source": [
    "Самая популярная это J.K. Rowling/Mary GrandPré с рейтингом 4,28.  Не сильно отстал Markus Zusak/Cao Xuân Việt Khương с рейтингом 4,26. И очень рядом мой любимый Джон Рональд Руэл Толкин с рейтингом 4,24. "
   ]
  },
  {
   "cell_type": "markdown",
   "metadata": {},
   "source": [
    "5. Посчитайте среднее количество обзоров от пользователей, которые поставили больше 48 оценок."
   ]
  },
  {
   "cell_type": "code",
   "execution_count": 11,
   "metadata": {},
   "outputs": [
    {
     "data": {
      "text/html": [
       "<div>\n",
       "<style scoped>\n",
       "    .dataframe tbody tr th:only-of-type {\n",
       "        vertical-align: middle;\n",
       "    }\n",
       "\n",
       "    .dataframe tbody tr th {\n",
       "        vertical-align: top;\n",
       "    }\n",
       "\n",
       "    .dataframe thead th {\n",
       "        text-align: right;\n",
       "    }\n",
       "</style>\n",
       "<table border=\"1\" class=\"dataframe\">\n",
       "  <thead>\n",
       "    <tr style=\"text-align: right;\">\n",
       "      <th></th>\n",
       "      <th>среднее_количество_обзоров</th>\n",
       "    </tr>\n",
       "  </thead>\n",
       "  <tbody>\n",
       "    <tr>\n",
       "      <th>0</th>\n",
       "      <td>24.0</td>\n",
       "    </tr>\n",
       "  </tbody>\n",
       "</table>\n",
       "</div>"
      ],
      "text/plain": [
       "   среднее_количество_обзоров\n",
       "0                        24.0"
      ]
     },
     "execution_count": 11,
     "metadata": {},
     "output_type": "execute_result"
    }
   ],
   "source": [
    "query = '''SELECT AVG (rev_count) as среднее_количество_обзоров\n",
    "  FROM ( SELECT username,\n",
    "        COUNT(review_id) as rev_count\n",
    "        FROM reviews\n",
    "        GROUP BY username\n",
    "        HAVING username IN (\n",
    "                            SELECT username\n",
    "                            FROM ratings\n",
    "                            GROUP BY username\n",
    "                            HAVING COUNT (rating_id) > 48)) as reviews'''\n",
    "pd.io.sql.read_sql(query, con = engine)\n"
   ]
  },
  {
   "cell_type": "markdown",
   "metadata": {},
   "source": [
    "Пользователи, которые поставили больше 48 оценок в среднем пишут 24 обзора."
   ]
  },
  {
   "cell_type": "markdown",
   "metadata": {},
   "source": [
    "Выведите таблицу, которая будет содержать по году публикации:\n",
    "\n",
    "- количество издательств,\n",
    "- выпущенных книг и\n",
    "- сколько всего тысяч страниц было в изданных книгах\n",
    "\n",
    "(отобразить только те года, в которых издано более 30 книг)"
   ]
  },
  {
   "cell_type": "code",
   "execution_count": 12,
   "metadata": {
    "scrolled": true
   },
   "outputs": [
    {
     "data": {
      "text/html": [
       "<div>\n",
       "<style scoped>\n",
       "    .dataframe tbody tr th:only-of-type {\n",
       "        vertical-align: middle;\n",
       "    }\n",
       "\n",
       "    .dataframe tbody tr th {\n",
       "        vertical-align: top;\n",
       "    }\n",
       "\n",
       "    .dataframe thead th {\n",
       "        text-align: right;\n",
       "    }\n",
       "</style>\n",
       "<table border=\"1\" class=\"dataframe\">\n",
       "  <thead>\n",
       "    <tr style=\"text-align: right;\">\n",
       "      <th></th>\n",
       "      <th>год_публикации</th>\n",
       "      <th>количество_издательств</th>\n",
       "      <th>количество_книг</th>\n",
       "      <th>страниц_1000</th>\n",
       "    </tr>\n",
       "  </thead>\n",
       "  <tbody>\n",
       "    <tr>\n",
       "      <th>0</th>\n",
       "      <td>1999.0</td>\n",
       "      <td>26</td>\n",
       "      <td>41</td>\n",
       "      <td>15.76</td>\n",
       "    </tr>\n",
       "    <tr>\n",
       "      <th>1</th>\n",
       "      <td>2000.0</td>\n",
       "      <td>35</td>\n",
       "      <td>38</td>\n",
       "      <td>13.33</td>\n",
       "    </tr>\n",
       "    <tr>\n",
       "      <th>2</th>\n",
       "      <td>2001.0</td>\n",
       "      <td>41</td>\n",
       "      <td>60</td>\n",
       "      <td>21.76</td>\n",
       "    </tr>\n",
       "    <tr>\n",
       "      <th>3</th>\n",
       "      <td>2002.0</td>\n",
       "      <td>62</td>\n",
       "      <td>94</td>\n",
       "      <td>38.60</td>\n",
       "    </tr>\n",
       "    <tr>\n",
       "      <th>4</th>\n",
       "      <td>2003.0</td>\n",
       "      <td>65</td>\n",
       "      <td>105</td>\n",
       "      <td>41.42</td>\n",
       "    </tr>\n",
       "    <tr>\n",
       "      <th>5</th>\n",
       "      <td>2004.0</td>\n",
       "      <td>88</td>\n",
       "      <td>124</td>\n",
       "      <td>46.78</td>\n",
       "    </tr>\n",
       "    <tr>\n",
       "      <th>6</th>\n",
       "      <td>2005.0</td>\n",
       "      <td>89</td>\n",
       "      <td>139</td>\n",
       "      <td>55.97</td>\n",
       "    </tr>\n",
       "    <tr>\n",
       "      <th>7</th>\n",
       "      <td>2006.0</td>\n",
       "      <td>109</td>\n",
       "      <td>184</td>\n",
       "      <td>68.30</td>\n",
       "    </tr>\n",
       "    <tr>\n",
       "      <th>8</th>\n",
       "      <td>2007.0</td>\n",
       "      <td>38</td>\n",
       "      <td>50</td>\n",
       "      <td>18.26</td>\n",
       "    </tr>\n",
       "  </tbody>\n",
       "</table>\n",
       "</div>"
      ],
      "text/plain": [
       "   год_публикации  количество_издательств  количество_книг  страниц_1000\n",
       "0          1999.0                      26               41         15.76\n",
       "1          2000.0                      35               38         13.33\n",
       "2          2001.0                      41               60         21.76\n",
       "3          2002.0                      62               94         38.60\n",
       "4          2003.0                      65              105         41.42\n",
       "5          2004.0                      88              124         46.78\n",
       "6          2005.0                      89              139         55.97\n",
       "7          2006.0                     109              184         68.30\n",
       "8          2007.0                      38               50         18.26"
      ]
     },
     "execution_count": 12,
     "metadata": {},
     "output_type": "execute_result"
    }
   ],
   "source": [
    "query = '''SELECT EXTRACT(YEAR FROM b.publication_date) AS год_публикации,\n",
    "COUNT(DISTINCT b.publisher_id) AS количество_издательств,\n",
    "COUNT(b.book_id) AS количество_книг,\n",
    "round(SUM(b.num_pages)::NUMERIC/1000,2) AS страниц_1000\n",
    "FROM books AS b\n",
    "GROUP BY год_публикации\n",
    "HAVING COUNT(b.book_id) > 30\n",
    "ORDER BY год_публикации\n",
    "'''\n",
    "pd.io.sql.read_sql(query, con = engine)"
   ]
  },
  {
   "cell_type": "markdown",
   "metadata": {},
   "source": [
    "Выведите в одной таблице два числа — среднюю оценку тех книг, на которые написало отзывов более 3 человек и отдельно среднюю оценку остальных книг, сделайте выводы какой рейтинг больше"
   ]
  },
  {
   "cell_type": "code",
   "execution_count": 13,
   "metadata": {},
   "outputs": [
    {
     "data": {
      "text/html": [
       "<div>\n",
       "<style scoped>\n",
       "    .dataframe tbody tr th:only-of-type {\n",
       "        vertical-align: middle;\n",
       "    }\n",
       "\n",
       "    .dataframe tbody tr th {\n",
       "        vertical-align: top;\n",
       "    }\n",
       "\n",
       "    .dataframe thead th {\n",
       "        text-align: right;\n",
       "    }\n",
       "</style>\n",
       "<table border=\"1\" class=\"dataframe\">\n",
       "  <thead>\n",
       "    <tr style=\"text-align: right;\">\n",
       "      <th></th>\n",
       "      <th>средняя_оценка</th>\n",
       "      <th>остальные_книги</th>\n",
       "    </tr>\n",
       "  </thead>\n",
       "  <tbody>\n",
       "    <tr>\n",
       "      <th>0</th>\n",
       "      <td>3.938398</td>\n",
       "      <td>3.890909</td>\n",
       "    </tr>\n",
       "  </tbody>\n",
       "</table>\n",
       "</div>"
      ],
      "text/plain": [
       "   средняя_оценка  остальные_книги\n",
       "0        3.938398         3.890909"
      ]
     },
     "execution_count": 13,
     "metadata": {},
     "output_type": "execute_result"
    }
   ],
   "source": [
    "query = '''SELECT AVG(CASE WHEN(SELECT COUNT(*)\n",
    "FROM ratings\n",
    "WHERE book_id = r.book_id)>3\n",
    "THEN r.rating END) AS средняя_оценка,\n",
    "                  AVG(CASE WHEN(SELECT COUNT(*)\n",
    "FROM ratings\n",
    "WHERE book_id = r.book_id)<= 3\n",
    "THEN r.rating END) AS остальные_книги\n",
    "FROM ratings AS r'''\n",
    "pd.io.sql.read_sql(query, con = engine)"
   ]
  },
  {
   "cell_type": "markdown",
   "metadata": {},
   "source": [
    " Выведите топ пять пользователей по суммарному показателю написанных ревью и поставленных оценок"
   ]
  },
  {
   "cell_type": "code",
   "execution_count": 14,
   "metadata": {},
   "outputs": [
    {
     "data": {
      "text/html": [
       "<div>\n",
       "<style scoped>\n",
       "    .dataframe tbody tr th:only-of-type {\n",
       "        vertical-align: middle;\n",
       "    }\n",
       "\n",
       "    .dataframe tbody tr th {\n",
       "        vertical-align: top;\n",
       "    }\n",
       "\n",
       "    .dataframe thead th {\n",
       "        text-align: right;\n",
       "    }\n",
       "</style>\n",
       "<table border=\"1\" class=\"dataframe\">\n",
       "  <thead>\n",
       "    <tr style=\"text-align: right;\">\n",
       "      <th></th>\n",
       "      <th>username</th>\n",
       "      <th>ревью</th>\n",
       "      <th>оценки</th>\n",
       "      <th>итого</th>\n",
       "    </tr>\n",
       "  </thead>\n",
       "  <tbody>\n",
       "    <tr>\n",
       "      <th>0</th>\n",
       "      <td>sfitzgerald</td>\n",
       "      <td>28</td>\n",
       "      <td>55</td>\n",
       "      <td>83</td>\n",
       "    </tr>\n",
       "    <tr>\n",
       "      <th>1</th>\n",
       "      <td>martinadam</td>\n",
       "      <td>27</td>\n",
       "      <td>56</td>\n",
       "      <td>83</td>\n",
       "    </tr>\n",
       "    <tr>\n",
       "      <th>2</th>\n",
       "      <td>richard89</td>\n",
       "      <td>26</td>\n",
       "      <td>55</td>\n",
       "      <td>81</td>\n",
       "    </tr>\n",
       "    <tr>\n",
       "      <th>3</th>\n",
       "      <td>jennifermiller</td>\n",
       "      <td>25</td>\n",
       "      <td>53</td>\n",
       "      <td>78</td>\n",
       "    </tr>\n",
       "    <tr>\n",
       "      <th>4</th>\n",
       "      <td>paul88</td>\n",
       "      <td>22</td>\n",
       "      <td>56</td>\n",
       "      <td>78</td>\n",
       "    </tr>\n",
       "  </tbody>\n",
       "</table>\n",
       "</div>"
      ],
      "text/plain": [
       "         username  ревью  оценки  итого\n",
       "0     sfitzgerald     28      55     83\n",
       "1      martinadam     27      56     83\n",
       "2       richard89     26      55     81\n",
       "3  jennifermiller     25      53     78\n",
       "4          paul88     22      56     78"
      ]
     },
     "execution_count": 14,
     "metadata": {},
     "output_type": "execute_result"
    }
   ],
   "source": [
    "query = ''' SELECT rev.username,\n",
    "            COUNT(DISTINCT review_id) AS ревью,\n",
    "            COUNT(DISTINCT rating_id) AS оценки,\n",
    "            COUNT(DISTINCT review_id) + COUNT(DISTINCT rating_id) AS  итого\n",
    "FROM reviews AS rev\n",
    "FULL JOIN ratings ON rev.username = ratings.username\n",
    "GROUP BY rev.username\n",
    "ORDER BY итого DESC\n",
    "LIMIT 5'''\n",
    "pd.io.sql.read_sql(query, con = engine)"
   ]
  },
  {
   "cell_type": "markdown",
   "metadata": {},
   "source": [
    "### Общий вывод."
   ]
  },
  {
   "cell_type": "markdown",
   "metadata": {},
   "source": [
    "Итак, нам для анализа предоставили 5 таблиц : books, authors, publishers, ratings,  и reviews.\n",
    "    \n",
    "    По поставленным вопросам мы сделали следующие выводы:\n",
    "        \n",
    "\n",
    "1.Посчитайте, сколько книг вышло после 1 января 2000 года;\n",
    "\n",
    "Добавилось целых 819 книг.\n",
    "\n",
    "2. Для каждой книги посчитайте количество обзоров и среднюю оценку;\n",
    "\n",
    "У нас получилось 1000 книг ровно. Для каких-то книг сделали 7 обзоров, а для каких-то вообще нет. Оценка рейтинга гуляет, причем не видно на первый взгляд зависимости от наличия обзоров. Так у книги The Cat in the Hat and Other Dr. Seuss Favorites рейтинг 5, при отсутствии обзоров, а у книги Twilight (Twilight #1) рейтинг 3,66 при максимальных 7 обзорах. Вывод, сколько обзоров не делай, на рейтинг это не повляет, можно только привлечь пользователей для прочтения, а вот выводы они уже сами сделают. И оценка уже зависит только от автора книги и личных предпочтений читателя.\n",
    "\n",
    "3. Определите издательство, которое выпустило наибольшее число книг толще 50 страниц — так вы исключите из анализа брошюры;\n",
    "\n",
    "Больше всего книг выпущено издательством Penguin Books - 42 книги. Хороший результат. Следующий Vintage с 31 книгой и замыкает тройку Grand Central Publishing с 25 книгами.\n",
    "\n",
    "4. Определите автора с самой высокой средней оценкой книг — учитывайте только книги с 50 и более оценками;\n",
    "\n",
    "Самая популярная это J.K. Rowling/Mary GrandPré с рейтингом 4,28. Не сильно отстал Markus Zusak/Cao Xuân Việt Khương с рейтингом 4,26. И очень рядом Джон Рональд Руэл Толкин с рейтингом 4,24.\n",
    "\n",
    "5. Посчитайте среднее количество обзоров от пользователей, которые поставили больше 48 оценок.\n",
    "\n",
    "Пользователи, которые поставили больше 48 оценок в среднем пишут 24 обзора.\n"
   ]
  },
  {
   "cell_type": "code",
   "execution_count": null,
   "metadata": {},
   "outputs": [],
   "source": []
  }
 ],
 "metadata": {
  "ExecuteTimeLog": [
   {
    "duration": 22855,
    "start_time": "2023-06-13T20:47:03.163Z"
   },
   {
    "duration": 585,
    "start_time": "2023-06-13T20:47:55.243Z"
   },
   {
    "duration": 143,
    "start_time": "2023-06-13T20:49:17.458Z"
   },
   {
    "duration": 194,
    "start_time": "2023-06-13T20:49:46.944Z"
   },
   {
    "duration": 162,
    "start_time": "2023-06-13T20:50:07.608Z"
   },
   {
    "duration": 162,
    "start_time": "2023-06-13T20:50:25.744Z"
   },
   {
    "duration": 153,
    "start_time": "2023-06-13T20:50:37.812Z"
   },
   {
    "duration": 138,
    "start_time": "2023-06-13T20:50:47.762Z"
   },
   {
    "duration": 130,
    "start_time": "2023-06-13T20:50:53.944Z"
   },
   {
    "duration": 157,
    "start_time": "2023-06-13T20:51:00.795Z"
   },
   {
    "duration": 164,
    "start_time": "2023-06-13T20:51:06.146Z"
   },
   {
    "duration": 208,
    "start_time": "2023-06-13T20:52:36.647Z"
   },
   {
    "duration": 148,
    "start_time": "2023-06-13T20:52:42.398Z"
   },
   {
    "duration": 4,
    "start_time": "2023-06-13T20:53:36.230Z"
   },
   {
    "duration": 828,
    "start_time": "2023-06-13T20:53:36.239Z"
   },
   {
    "duration": 140,
    "start_time": "2023-06-13T20:53:37.069Z"
   },
   {
    "duration": 163,
    "start_time": "2023-06-13T20:53:37.211Z"
   },
   {
    "duration": 181,
    "start_time": "2023-06-13T20:53:37.376Z"
   },
   {
    "duration": 180,
    "start_time": "2023-06-13T20:53:37.563Z"
   },
   {
    "duration": 176,
    "start_time": "2023-06-13T20:53:37.752Z"
   },
   {
    "duration": 185,
    "start_time": "2023-06-13T20:54:33.538Z"
   },
   {
    "duration": 416,
    "start_time": "2023-06-13T20:57:42.211Z"
   },
   {
    "duration": 205,
    "start_time": "2023-06-13T20:58:02.601Z"
   },
   {
    "duration": 145,
    "start_time": "2023-06-13T21:03:36.253Z"
   },
   {
    "duration": 100,
    "start_time": "2023-06-13T21:03:45.100Z"
   },
   {
    "duration": 110,
    "start_time": "2023-06-13T21:06:14.121Z"
   },
   {
    "duration": 112,
    "start_time": "2023-06-13T21:06:24.466Z"
   },
   {
    "duration": 110,
    "start_time": "2023-06-13T21:08:24.110Z"
   },
   {
    "duration": 125,
    "start_time": "2023-06-13T21:09:02.349Z"
   },
   {
    "duration": 249,
    "start_time": "2023-06-13T21:09:55.659Z"
   },
   {
    "duration": 207,
    "start_time": "2023-06-13T21:10:07.451Z"
   },
   {
    "duration": 2,
    "start_time": "2023-06-13T21:12:35.665Z"
   },
   {
    "duration": 4,
    "start_time": "2023-06-13T21:12:38.232Z"
   },
   {
    "duration": 253,
    "start_time": "2023-06-13T21:12:48.928Z"
   },
   {
    "duration": 113,
    "start_time": "2023-06-13T21:13:39.342Z"
   },
   {
    "duration": 83,
    "start_time": "2023-06-13T21:13:50.808Z"
   },
   {
    "duration": 105,
    "start_time": "2023-06-13T21:14:37.849Z"
   },
   {
    "duration": 198,
    "start_time": "2023-06-13T21:16:18.265Z"
   },
   {
    "duration": 109,
    "start_time": "2023-06-13T21:16:35.105Z"
   },
   {
    "duration": 105,
    "start_time": "2023-06-13T21:16:43.546Z"
   },
   {
    "duration": 110,
    "start_time": "2023-06-13T21:17:14.043Z"
   },
   {
    "duration": 113,
    "start_time": "2023-06-13T21:21:23.260Z"
   },
   {
    "duration": 108,
    "start_time": "2023-06-13T21:21:30.821Z"
   },
   {
    "duration": 109,
    "start_time": "2023-06-13T21:22:00.506Z"
   },
   {
    "duration": 310,
    "start_time": "2023-06-13T21:22:52.573Z"
   },
   {
    "duration": 132,
    "start_time": "2023-06-13T21:23:08.302Z"
   },
   {
    "duration": 123,
    "start_time": "2023-06-13T21:24:37.545Z"
   },
   {
    "duration": 122,
    "start_time": "2023-06-13T21:24:38.573Z"
   },
   {
    "duration": 8,
    "start_time": "2023-06-13T21:24:59.402Z"
   },
   {
    "duration": 464,
    "start_time": "2023-06-13T21:24:59.412Z"
   },
   {
    "duration": 125,
    "start_time": "2023-06-13T21:24:59.878Z"
   },
   {
    "duration": 110,
    "start_time": "2023-06-13T21:25:00.010Z"
   },
   {
    "duration": 115,
    "start_time": "2023-06-13T21:25:00.121Z"
   },
   {
    "duration": 119,
    "start_time": "2023-06-13T21:25:00.237Z"
   },
   {
    "duration": 114,
    "start_time": "2023-06-13T21:25:00.357Z"
   },
   {
    "duration": 194,
    "start_time": "2023-06-13T21:25:00.473Z"
   },
   {
    "duration": 107,
    "start_time": "2023-06-13T21:25:00.669Z"
   },
   {
    "duration": 134,
    "start_time": "2023-06-13T21:25:00.779Z"
   },
   {
    "duration": 137,
    "start_time": "2023-06-13T21:25:00.915Z"
   },
   {
    "duration": 15368,
    "start_time": "2023-06-13T21:32:47.442Z"
   },
   {
    "duration": 436,
    "start_time": "2023-06-13T21:33:02.817Z"
   },
   {
    "duration": 124,
    "start_time": "2023-06-13T21:33:03.258Z"
   },
   {
    "duration": 129,
    "start_time": "2023-06-13T21:33:03.384Z"
   },
   {
    "duration": 103,
    "start_time": "2023-06-13T21:33:03.515Z"
   },
   {
    "duration": 94,
    "start_time": "2023-06-13T21:33:03.620Z"
   },
   {
    "duration": 98,
    "start_time": "2023-06-13T21:33:03.716Z"
   },
   {
    "duration": 164,
    "start_time": "2023-06-13T21:33:03.816Z"
   },
   {
    "duration": 116,
    "start_time": "2023-06-13T21:33:03.982Z"
   },
   {
    "duration": 118,
    "start_time": "2023-06-13T21:33:04.100Z"
   },
   {
    "duration": 108,
    "start_time": "2023-06-13T21:33:04.224Z"
   },
   {
    "duration": 60,
    "start_time": "2023-06-14T16:56:56.746Z"
   },
   {
    "duration": 9947,
    "start_time": "2023-06-14T16:57:01.535Z"
   },
   {
    "duration": 86,
    "start_time": "2023-06-14T16:57:11.484Z"
   },
   {
    "duration": 12,
    "start_time": "2023-06-14T16:57:11.572Z"
   },
   {
    "duration": 11,
    "start_time": "2023-06-14T16:57:11.586Z"
   },
   {
    "duration": 10,
    "start_time": "2023-06-14T16:57:11.599Z"
   },
   {
    "duration": 13,
    "start_time": "2023-06-14T16:57:11.611Z"
   },
   {
    "duration": 13,
    "start_time": "2023-06-14T16:57:11.625Z"
   },
   {
    "duration": 41,
    "start_time": "2023-06-14T16:57:11.657Z"
   },
   {
    "duration": 12,
    "start_time": "2023-06-14T16:57:11.700Z"
   },
   {
    "duration": 15,
    "start_time": "2023-06-14T16:57:11.713Z"
   },
   {
    "duration": 11,
    "start_time": "2023-06-14T16:57:11.729Z"
   },
   {
    "duration": 121,
    "start_time": "2023-06-14T19:44:32.523Z"
   },
   {
    "duration": 142,
    "start_time": "2023-06-14T19:44:36.741Z"
   },
   {
    "duration": 148,
    "start_time": "2023-06-14T19:44:55.831Z"
   },
   {
    "duration": 16,
    "start_time": "2023-06-14T19:45:44.519Z"
   },
   {
    "duration": 212,
    "start_time": "2023-06-14T19:49:04.908Z"
   },
   {
    "duration": 139,
    "start_time": "2023-06-14T19:49:54.329Z"
   },
   {
    "duration": 207,
    "start_time": "2023-06-14T19:50:04.947Z"
   },
   {
    "duration": 11,
    "start_time": "2023-06-14T19:50:17.713Z"
   },
   {
    "duration": 185,
    "start_time": "2023-06-14T19:50:23.824Z"
   },
   {
    "duration": 54,
    "start_time": "2023-06-15T16:38:19.816Z"
   },
   {
    "duration": 9710,
    "start_time": "2023-06-15T16:38:25.068Z"
   },
   {
    "duration": 285,
    "start_time": "2023-06-15T16:38:34.780Z"
   },
   {
    "duration": 76,
    "start_time": "2023-06-15T16:38:35.067Z"
   },
   {
    "duration": 76,
    "start_time": "2023-06-15T16:38:35.146Z"
   },
   {
    "duration": 101,
    "start_time": "2023-06-15T16:38:35.226Z"
   },
   {
    "duration": 158,
    "start_time": "2023-06-15T16:38:35.329Z"
   },
   {
    "duration": 76,
    "start_time": "2023-06-15T16:38:35.488Z"
   },
   {
    "duration": 112,
    "start_time": "2023-06-15T16:38:35.566Z"
   },
   {
    "duration": 76,
    "start_time": "2023-06-15T16:38:35.680Z"
   },
   {
    "duration": 80,
    "start_time": "2023-06-15T16:38:35.759Z"
   },
   {
    "duration": 76,
    "start_time": "2023-06-15T16:38:35.841Z"
   },
   {
    "duration": 283,
    "start_time": "2023-06-15T16:38:35.919Z"
   },
   {
    "duration": 174,
    "start_time": "2023-06-15T16:39:52.713Z"
   },
   {
    "duration": 75,
    "start_time": "2023-06-15T16:40:21.222Z"
   },
   {
    "duration": 75,
    "start_time": "2023-06-15T16:41:29.803Z"
   },
   {
    "duration": 9587,
    "start_time": "2023-06-16T19:54:17.567Z"
   },
   {
    "duration": 61,
    "start_time": "2023-06-16T19:54:27.157Z"
   },
   {
    "duration": 11,
    "start_time": "2023-06-16T19:54:27.219Z"
   },
   {
    "duration": 10,
    "start_time": "2023-06-16T19:54:27.232Z"
   },
   {
    "duration": 11,
    "start_time": "2023-06-16T19:54:27.243Z"
   },
   {
    "duration": 11,
    "start_time": "2023-06-16T19:54:27.256Z"
   },
   {
    "duration": 12,
    "start_time": "2023-06-16T19:54:27.268Z"
   },
   {
    "duration": 30,
    "start_time": "2023-06-16T19:54:27.281Z"
   },
   {
    "duration": 13,
    "start_time": "2023-06-16T19:54:27.313Z"
   },
   {
    "duration": 27,
    "start_time": "2023-06-16T19:54:27.328Z"
   },
   {
    "duration": 14,
    "start_time": "2023-06-16T19:54:27.356Z"
   },
   {
    "duration": 17,
    "start_time": "2023-06-16T20:00:43.162Z"
   },
   {
    "duration": 4575,
    "start_time": "2023-06-16T20:08:21.263Z"
   },
   {
    "duration": 4573,
    "start_time": "2023-06-16T20:08:28.382Z"
   },
   {
    "duration": 183,
    "start_time": "2023-06-16T20:12:53.813Z"
   },
   {
    "duration": 114,
    "start_time": "2023-06-16T20:14:43.564Z"
   },
   {
    "duration": 149,
    "start_time": "2023-06-16T20:15:10.074Z"
   },
   {
    "duration": 105,
    "start_time": "2023-06-16T20:15:55.979Z"
   },
   {
    "duration": 4594,
    "start_time": "2023-06-16T20:17:02.122Z"
   },
   {
    "duration": 10172,
    "start_time": "2023-06-16T20:17:30.324Z"
   },
   {
    "duration": 109,
    "start_time": "2023-06-16T20:17:40.498Z"
   },
   {
    "duration": 10,
    "start_time": "2023-06-16T20:17:40.609Z"
   },
   {
    "duration": 11,
    "start_time": "2023-06-16T20:17:40.622Z"
   },
   {
    "duration": 10,
    "start_time": "2023-06-16T20:17:40.634Z"
   },
   {
    "duration": 21,
    "start_time": "2023-06-16T20:17:40.645Z"
   },
   {
    "duration": 10,
    "start_time": "2023-06-16T20:17:40.668Z"
   },
   {
    "duration": 29,
    "start_time": "2023-06-16T20:17:40.680Z"
   },
   {
    "duration": 11,
    "start_time": "2023-06-16T20:17:40.711Z"
   },
   {
    "duration": 14,
    "start_time": "2023-06-16T20:17:40.724Z"
   },
   {
    "duration": 33,
    "start_time": "2023-06-16T20:17:40.740Z"
   },
   {
    "duration": 14,
    "start_time": "2023-06-16T20:17:40.774Z"
   },
   {
    "duration": 4718,
    "start_time": "2023-06-16T20:17:40.790Z"
   },
   {
    "duration": 92,
    "start_time": "2023-06-16T20:17:45.509Z"
   },
   {
    "duration": 20895,
    "start_time": "2023-06-17T08:48:44.947Z"
   },
   {
    "duration": 434,
    "start_time": "2023-06-17T08:49:05.844Z"
   },
   {
    "duration": 92,
    "start_time": "2023-06-17T08:49:06.280Z"
   },
   {
    "duration": 88,
    "start_time": "2023-06-17T08:49:06.374Z"
   },
   {
    "duration": 89,
    "start_time": "2023-06-17T08:49:06.463Z"
   },
   {
    "duration": 102,
    "start_time": "2023-06-17T08:49:06.553Z"
   },
   {
    "duration": 114,
    "start_time": "2023-06-17T08:49:06.656Z"
   },
   {
    "duration": 134,
    "start_time": "2023-06-17T08:49:06.772Z"
   },
   {
    "duration": 82,
    "start_time": "2023-06-17T08:49:06.907Z"
   },
   {
    "duration": 96,
    "start_time": "2023-06-17T08:49:06.992Z"
   },
   {
    "duration": 96,
    "start_time": "2023-06-17T08:49:07.090Z"
   },
   {
    "duration": 101,
    "start_time": "2023-06-17T08:49:07.187Z"
   },
   {
    "duration": 4622,
    "start_time": "2023-06-17T08:49:07.289Z"
   },
   {
    "duration": 162,
    "start_time": "2023-06-17T08:49:11.913Z"
   }
  ],
  "kernelspec": {
   "display_name": "Python 3 (ipykernel)",
   "language": "python",
   "name": "python3"
  },
  "language_info": {
   "codemirror_mode": {
    "name": "ipython",
    "version": 3
   },
   "file_extension": ".py",
   "mimetype": "text/x-python",
   "name": "python",
   "nbconvert_exporter": "python",
   "pygments_lexer": "ipython3",
   "version": "3.9.5"
  },
  "toc": {
   "base_numbering": 1,
   "nav_menu": {},
   "number_sections": true,
   "sideBar": true,
   "skip_h1_title": true,
   "title_cell": "Table of Contents",
   "title_sidebar": "Contents",
   "toc_cell": false,
   "toc_position": {},
   "toc_section_display": true,
   "toc_window_display": false
  }
 },
 "nbformat": 4,
 "nbformat_minor": 2
}
