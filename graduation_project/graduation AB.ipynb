{
 "cells": [
  {
   "cell_type": "markdown",
   "metadata": {},
   "source": [
    "# Проект по А/B-тестированию"
   ]
  },
  {
   "cell_type": "markdown",
   "metadata": {},
   "source": [
    "### Описание проекта. Его название. Цели.Описание датасета."
   ]
  },
  {
   "cell_type": "markdown",
   "metadata": {},
   "source": [
    "Цель проекта — провести оценку результатов A/B-теста по имеющемуся в распоряжении датасету с действиями пользователей, техническим заданием и несколькими вспомогательными датасетами.\n",
    "Оценить корректность проведения теста и проанализировать его результаты."
   ]
  },
  {
   "cell_type": "markdown",
   "metadata": {},
   "source": [
    "Задачи текущего проекта следующие:\n",
    "\n",
    "- Предоработка данных\n",
    "- Оценка корректности проведения теста\n",
    "- Исследовательский анализ данных\n",
    "- Проведение оценки результатов A/B-тестирования\n",
    "- Выводы по этапу исследовательского анализа данных и по проведённой оценке результатов A/B-тестирования\n",
    "- Общее заключение о корректности проведения теста.\n"
   ]
  },
  {
   "cell_type": "markdown",
   "metadata": {},
   "source": [
    " **Техническое задание**\n",
    " \n",
    "Название теста: recommender_system_test;\n",
    "\n",
    "- Группы: А (контрольная), B (новая платёжная воронка);\n",
    "- Дата запуска: 2020-12-07;\n",
    "- Дата остановки набора новых пользователей: 2020-12-21;\n",
    "- Дата остановки: 2021-01-04;\n",
    "- Аудитория: 15% новых пользователей из региона EU;\n",
    "- Назначение теста: тестирование изменений, связанных с внедрением улучшенной рекомендательной системы;\n",
    "- Ожидаемое количество участников теста: 6000.\n",
    "- Ожидаемый эффект: за 14 дней с момента регистрации в системе пользователи покажут улучшение каждой метрики не менее, чем на 10%:\n",
    "- конверсии в просмотр карточек товаров — событие product_page\n",
    "- просмотры корзины — product_cart\n",
    "- покупки — purchase."
   ]
  },
  {
   "cell_type": "markdown",
   "metadata": {},
   "source": [
    " **Описание данных**\n",
    " \n",
    " У нас 4 датасета со следующими названиями и содержимым:\n",
    " \n",
    " /datasets/ab_project_marketing_events.csv — календарь маркетинговых событий на 2020 год;\n",
    " \n",
    " \n",
    "Структура файла:\n",
    "  \n",
    "- name — название маркетингового события;\n",
    "- regions — регионы, в которых будет проводиться рекламная кампания;\n",
    "- start_dt — дата начала кампании;\n",
    "- finish_dt — дата завершения кампании.\n",
    "\n",
    "\n",
    "\n",
    "/datasets/final_ab_new_users.csv — все пользователи, зарегистрировавшиеся в интернет-магазине в период с 7 по 21 декабря 2020 года;\n",
    "\n",
    "\n",
    "Структура файла:\n",
    "\n",
    "\n",
    "- user_id — идентификатор пользователя;\n",
    "- first_date — дата регистрации;\n",
    "- region — регион пользователя;\n",
    "- device — устройство, с которого происходила регистрация.\n",
    "\n",
    "\n",
    "/datasets/final_ab_events.csv — все события новых пользователей в период с 7 декабря 2020 по 4 января 2021 года;\n",
    "\n",
    "\n",
    "Структура файла:\n",
    "\n",
    "\n",
    "- user_id — идентификатор пользователя;\n",
    "- event_dt — дата и время события;\n",
    "- event_name — тип события;\n",
    "- details — дополнительные данные о событии. Например, для покупок, purchase, в этом поле хранится стоимость покупки в долларах.\n",
    "\n",
    "/datasets/final_ab_participants.csv — таблица участников тестов.\n",
    "\n",
    "\n",
    "Структура файла:\n",
    "\n",
    "\n",
    "- user_id — идентификатор пользователя;\n",
    "- ab_test — название теста;\n",
    "- group — группа пользователя."
   ]
  },
  {
   "cell_type": "markdown",
   "metadata": {},
   "source": [
    "### Загрузка датасетов. И всех необходимых библиотек."
   ]
  },
  {
   "cell_type": "markdown",
   "metadata": {},
   "source": [
    "Для начала загрузим все нужные библиотеки ( вначале я могу все и не включить, но по мере выполнения проекта при необходимости я буду возвращаться  к этому шагу, чтобы дополнить их и в итоге все загруженные библиотеки будут в 1 месте)."
   ]
  },
  {
   "cell_type": "code",
   "execution_count": 1,
   "metadata": {},
   "outputs": [],
   "source": [
    "import pandas as pd\n",
    "import numpy as np\n",
    "import matplotlib.pyplot as plt\n",
    "import seaborn as sns\n",
    "import math as mth\n",
    "import datetime as dt\n",
    "import scipy.stats as stats\n",
    "import warnings\n",
    "from plotly import graph_objects as go\n",
    "from scipy import stats as st"
   ]
  },
  {
   "cell_type": "markdown",
   "metadata": {},
   "source": [
    "Пропишем, чтобы не было ограничений по столбцам и названиям в них, а так же количество символов после запятой."
   ]
  },
  {
   "cell_type": "code",
   "execution_count": 2,
   "metadata": {},
   "outputs": [],
   "source": [
    "pd.set_option('display.max_columns', None)"
   ]
  },
  {
   "cell_type": "code",
   "execution_count": 3,
   "metadata": {},
   "outputs": [],
   "source": [
    "pd.options.display.max_colwidth = 130"
   ]
  },
  {
   "cell_type": "code",
   "execution_count": 4,
   "metadata": {},
   "outputs": [],
   "source": [
    "pd.options.display.float_format = '{:,.2f}'.format"
   ]
  },
  {
   "cell_type": "markdown",
   "metadata": {},
   "source": [
    "Добавляем функцию игнорирования красных надписей перед графиками."
   ]
  },
  {
   "cell_type": "code",
   "execution_count": 5,
   "metadata": {},
   "outputs": [],
   "source": [
    "import warnings; warnings.filterwarnings(action = 'ignore')"
   ]
  },
  {
   "cell_type": "markdown",
   "metadata": {},
   "source": [
    "Теперь загрузим датасеты"
   ]
  },
  {
   "cell_type": "code",
   "execution_count": 6,
   "metadata": {},
   "outputs": [],
   "source": [
    "try:\n",
    "    marketing_events = pd.read_csv('https://code.s3.yandex.net/datasets/ab_project_marketing_events.csv')\n",
    "    new_users = pd.read_csv('https://code.s3.yandex.net/datasets/final_ab_new_users.csv')\n",
    "    events = pd.read_csv('https://code.s3.yandex.net/datasets/final_ab_events.csv')\n",
    "    participants = pd.read_csv('https://code.s3.yandex.net/datasets/final_ab_participants.csv')\n",
    "except:\n",
    "    marketing_events = pd.read_csv('/datasets/ab_project_marketing_events.csv')\n",
    "    new_users = pd.read_csv('/datasets/final_ab_new_users.csv')\n",
    "    events = pd.read_csv('/datasets/final_ab_events.csv')\n",
    "    participants = pd.read_csv('/datasets/final_ab_participants.csv')"
   ]
  },
  {
   "cell_type": "markdown",
   "metadata": {},
   "source": [
    "participants.info()"
   ]
  },
  {
   "cell_type": "markdown",
   "metadata": {},
   "source": [
    "Названия датафреймам дал согласно названиям самых файлов, чтобы не путаться."
   ]
  },
  {
   "cell_type": "markdown",
   "metadata": {},
   "source": [
    "### Предоработка данных"
   ]
  },
  {
   "cell_type": "markdown",
   "metadata": {},
   "source": [
    "Посмотрим каждый датасет, проверим на уникальность строк , выведем типа данных."
   ]
  },
  {
   "cell_type": "code",
   "execution_count": 7,
   "metadata": {},
   "outputs": [
    {
     "name": "stdout",
     "output_type": "stream",
     "text": [
      "<class 'pandas.core.frame.DataFrame'>\n",
      "RangeIndex: 14 entries, 0 to 13\n",
      "Data columns (total 4 columns):\n",
      " #   Column     Non-Null Count  Dtype \n",
      "---  ------     --------------  ----- \n",
      " 0   name       14 non-null     object\n",
      " 1   regions    14 non-null     object\n",
      " 2   start_dt   14 non-null     object\n",
      " 3   finish_dt  14 non-null     object\n",
      "dtypes: object(4)\n",
      "memory usage: 576.0+ bytes\n"
     ]
    }
   ],
   "source": [
    "marketing_events.info()"
   ]
  },
  {
   "cell_type": "code",
   "execution_count": 8,
   "metadata": {},
   "outputs": [
    {
     "data": {
      "text/html": [
       "<div>\n",
       "<style scoped>\n",
       "    .dataframe tbody tr th:only-of-type {\n",
       "        vertical-align: middle;\n",
       "    }\n",
       "\n",
       "    .dataframe tbody tr th {\n",
       "        vertical-align: top;\n",
       "    }\n",
       "\n",
       "    .dataframe thead th {\n",
       "        text-align: right;\n",
       "    }\n",
       "</style>\n",
       "<table border=\"1\" class=\"dataframe\">\n",
       "  <thead>\n",
       "    <tr style=\"text-align: right;\">\n",
       "      <th></th>\n",
       "      <th>name</th>\n",
       "      <th>regions</th>\n",
       "      <th>start_dt</th>\n",
       "      <th>finish_dt</th>\n",
       "    </tr>\n",
       "  </thead>\n",
       "  <tbody>\n",
       "    <tr>\n",
       "      <th>0</th>\n",
       "      <td>Christmas&amp;New Year Promo</td>\n",
       "      <td>EU, N.America</td>\n",
       "      <td>2020-12-25</td>\n",
       "      <td>2021-01-03</td>\n",
       "    </tr>\n",
       "    <tr>\n",
       "      <th>1</th>\n",
       "      <td>St. Valentine's Day Giveaway</td>\n",
       "      <td>EU, CIS, APAC, N.America</td>\n",
       "      <td>2020-02-14</td>\n",
       "      <td>2020-02-16</td>\n",
       "    </tr>\n",
       "    <tr>\n",
       "      <th>2</th>\n",
       "      <td>St. Patric's Day Promo</td>\n",
       "      <td>EU, N.America</td>\n",
       "      <td>2020-03-17</td>\n",
       "      <td>2020-03-19</td>\n",
       "    </tr>\n",
       "    <tr>\n",
       "      <th>3</th>\n",
       "      <td>Easter Promo</td>\n",
       "      <td>EU, CIS, APAC, N.America</td>\n",
       "      <td>2020-04-12</td>\n",
       "      <td>2020-04-19</td>\n",
       "    </tr>\n",
       "    <tr>\n",
       "      <th>4</th>\n",
       "      <td>4th of July Promo</td>\n",
       "      <td>N.America</td>\n",
       "      <td>2020-07-04</td>\n",
       "      <td>2020-07-11</td>\n",
       "    </tr>\n",
       "    <tr>\n",
       "      <th>5</th>\n",
       "      <td>Black Friday Ads Campaign</td>\n",
       "      <td>EU, CIS, APAC, N.America</td>\n",
       "      <td>2020-11-26</td>\n",
       "      <td>2020-12-01</td>\n",
       "    </tr>\n",
       "    <tr>\n",
       "      <th>6</th>\n",
       "      <td>Chinese New Year Promo</td>\n",
       "      <td>APAC</td>\n",
       "      <td>2020-01-25</td>\n",
       "      <td>2020-02-07</td>\n",
       "    </tr>\n",
       "    <tr>\n",
       "      <th>7</th>\n",
       "      <td>Labor day (May 1st) Ads Campaign</td>\n",
       "      <td>EU, CIS, APAC</td>\n",
       "      <td>2020-05-01</td>\n",
       "      <td>2020-05-03</td>\n",
       "    </tr>\n",
       "    <tr>\n",
       "      <th>8</th>\n",
       "      <td>International Women's Day Promo</td>\n",
       "      <td>EU, CIS, APAC</td>\n",
       "      <td>2020-03-08</td>\n",
       "      <td>2020-03-10</td>\n",
       "    </tr>\n",
       "    <tr>\n",
       "      <th>9</th>\n",
       "      <td>Victory Day CIS (May 9th) Event</td>\n",
       "      <td>CIS</td>\n",
       "      <td>2020-05-09</td>\n",
       "      <td>2020-05-11</td>\n",
       "    </tr>\n",
       "  </tbody>\n",
       "</table>\n",
       "</div>"
      ],
      "text/plain": [
       "                               name                   regions    start_dt  \\\n",
       "0          Christmas&New Year Promo             EU, N.America  2020-12-25   \n",
       "1      St. Valentine's Day Giveaway  EU, CIS, APAC, N.America  2020-02-14   \n",
       "2            St. Patric's Day Promo             EU, N.America  2020-03-17   \n",
       "3                      Easter Promo  EU, CIS, APAC, N.America  2020-04-12   \n",
       "4                 4th of July Promo                 N.America  2020-07-04   \n",
       "5         Black Friday Ads Campaign  EU, CIS, APAC, N.America  2020-11-26   \n",
       "6            Chinese New Year Promo                      APAC  2020-01-25   \n",
       "7  Labor day (May 1st) Ads Campaign             EU, CIS, APAC  2020-05-01   \n",
       "8   International Women's Day Promo             EU, CIS, APAC  2020-03-08   \n",
       "9   Victory Day CIS (May 9th) Event                       CIS  2020-05-09   \n",
       "\n",
       "    finish_dt  \n",
       "0  2021-01-03  \n",
       "1  2020-02-16  \n",
       "2  2020-03-19  \n",
       "3  2020-04-19  \n",
       "4  2020-07-11  \n",
       "5  2020-12-01  \n",
       "6  2020-02-07  \n",
       "7  2020-05-03  \n",
       "8  2020-03-10  \n",
       "9  2020-05-11  "
      ]
     },
     "execution_count": 8,
     "metadata": {},
     "output_type": "execute_result"
    }
   ],
   "source": [
    "marketing_events.head(10)"
   ]
  },
  {
   "cell_type": "code",
   "execution_count": 9,
   "metadata": {},
   "outputs": [
    {
     "data": {
      "text/plain": [
       "0"
      ]
     },
     "execution_count": 9,
     "metadata": {},
     "output_type": "execute_result"
    }
   ],
   "source": [
    "marketing_events.duplicated().sum()"
   ]
  },
  {
   "cell_type": "code",
   "execution_count": 10,
   "metadata": {},
   "outputs": [
    {
     "data": {
      "text/plain": [
       "name         0\n",
       "regions      0\n",
       "start_dt     0\n",
       "finish_dt    0\n",
       "dtype: int64"
      ]
     },
     "execution_count": 10,
     "metadata": {},
     "output_type": "execute_result"
    }
   ],
   "source": [
    "marketing_events.isna().sum()"
   ]
  },
  {
   "cell_type": "markdown",
   "metadata": {},
   "source": [
    "В этом файле дубликатов нет, пропусков тоже. Даты имеют тип object, но это вроде как справочник событий. Пока не буду менять , т.к. не думаю, что буду использовать датасет для кода."
   ]
  },
  {
   "cell_type": "code",
   "execution_count": 11,
   "metadata": {},
   "outputs": [
    {
     "name": "stdout",
     "output_type": "stream",
     "text": [
      "<class 'pandas.core.frame.DataFrame'>\n",
      "RangeIndex: 61733 entries, 0 to 61732\n",
      "Data columns (total 4 columns):\n",
      " #   Column      Non-Null Count  Dtype \n",
      "---  ------      --------------  ----- \n",
      " 0   user_id     61733 non-null  object\n",
      " 1   first_date  61733 non-null  object\n",
      " 2   region      61733 non-null  object\n",
      " 3   device      61733 non-null  object\n",
      "dtypes: object(4)\n",
      "memory usage: 1.9+ MB\n"
     ]
    }
   ],
   "source": [
    "new_users.info()"
   ]
  },
  {
   "cell_type": "code",
   "execution_count": 12,
   "metadata": {},
   "outputs": [
    {
     "data": {
      "text/html": [
       "<div>\n",
       "<style scoped>\n",
       "    .dataframe tbody tr th:only-of-type {\n",
       "        vertical-align: middle;\n",
       "    }\n",
       "\n",
       "    .dataframe tbody tr th {\n",
       "        vertical-align: top;\n",
       "    }\n",
       "\n",
       "    .dataframe thead th {\n",
       "        text-align: right;\n",
       "    }\n",
       "</style>\n",
       "<table border=\"1\" class=\"dataframe\">\n",
       "  <thead>\n",
       "    <tr style=\"text-align: right;\">\n",
       "      <th></th>\n",
       "      <th>user_id</th>\n",
       "      <th>first_date</th>\n",
       "      <th>region</th>\n",
       "      <th>device</th>\n",
       "    </tr>\n",
       "  </thead>\n",
       "  <tbody>\n",
       "    <tr>\n",
       "      <th>0</th>\n",
       "      <td>D72A72121175D8BE</td>\n",
       "      <td>2020-12-07</td>\n",
       "      <td>EU</td>\n",
       "      <td>PC</td>\n",
       "    </tr>\n",
       "    <tr>\n",
       "      <th>1</th>\n",
       "      <td>F1C668619DFE6E65</td>\n",
       "      <td>2020-12-07</td>\n",
       "      <td>N.America</td>\n",
       "      <td>Android</td>\n",
       "    </tr>\n",
       "    <tr>\n",
       "      <th>2</th>\n",
       "      <td>2E1BF1D4C37EA01F</td>\n",
       "      <td>2020-12-07</td>\n",
       "      <td>EU</td>\n",
       "      <td>PC</td>\n",
       "    </tr>\n",
       "    <tr>\n",
       "      <th>3</th>\n",
       "      <td>50734A22C0C63768</td>\n",
       "      <td>2020-12-07</td>\n",
       "      <td>EU</td>\n",
       "      <td>iPhone</td>\n",
       "    </tr>\n",
       "    <tr>\n",
       "      <th>4</th>\n",
       "      <td>E1BDDCE0DAFA2679</td>\n",
       "      <td>2020-12-07</td>\n",
       "      <td>N.America</td>\n",
       "      <td>iPhone</td>\n",
       "    </tr>\n",
       "    <tr>\n",
       "      <th>5</th>\n",
       "      <td>137119F5A9E69421</td>\n",
       "      <td>2020-12-07</td>\n",
       "      <td>N.America</td>\n",
       "      <td>iPhone</td>\n",
       "    </tr>\n",
       "    <tr>\n",
       "      <th>6</th>\n",
       "      <td>62F0C741CC42D0CC</td>\n",
       "      <td>2020-12-07</td>\n",
       "      <td>APAC</td>\n",
       "      <td>iPhone</td>\n",
       "    </tr>\n",
       "    <tr>\n",
       "      <th>7</th>\n",
       "      <td>8942E64218C9A1ED</td>\n",
       "      <td>2020-12-07</td>\n",
       "      <td>EU</td>\n",
       "      <td>PC</td>\n",
       "    </tr>\n",
       "    <tr>\n",
       "      <th>8</th>\n",
       "      <td>499AFACF904BBAE3</td>\n",
       "      <td>2020-12-07</td>\n",
       "      <td>N.America</td>\n",
       "      <td>iPhone</td>\n",
       "    </tr>\n",
       "    <tr>\n",
       "      <th>9</th>\n",
       "      <td>FFCEA1179C253104</td>\n",
       "      <td>2020-12-07</td>\n",
       "      <td>EU</td>\n",
       "      <td>Android</td>\n",
       "    </tr>\n",
       "  </tbody>\n",
       "</table>\n",
       "</div>"
      ],
      "text/plain": [
       "            user_id  first_date     region   device\n",
       "0  D72A72121175D8BE  2020-12-07         EU       PC\n",
       "1  F1C668619DFE6E65  2020-12-07  N.America  Android\n",
       "2  2E1BF1D4C37EA01F  2020-12-07         EU       PC\n",
       "3  50734A22C0C63768  2020-12-07         EU   iPhone\n",
       "4  E1BDDCE0DAFA2679  2020-12-07  N.America   iPhone\n",
       "5  137119F5A9E69421  2020-12-07  N.America   iPhone\n",
       "6  62F0C741CC42D0CC  2020-12-07       APAC   iPhone\n",
       "7  8942E64218C9A1ED  2020-12-07         EU       PC\n",
       "8  499AFACF904BBAE3  2020-12-07  N.America   iPhone\n",
       "9  FFCEA1179C253104  2020-12-07         EU  Android"
      ]
     },
     "execution_count": 12,
     "metadata": {},
     "output_type": "execute_result"
    }
   ],
   "source": [
    "new_users.head(10)"
   ]
  },
  {
   "cell_type": "code",
   "execution_count": 13,
   "metadata": {},
   "outputs": [
    {
     "data": {
      "text/plain": [
       "0"
      ]
     },
     "execution_count": 13,
     "metadata": {},
     "output_type": "execute_result"
    }
   ],
   "source": [
    "new_users.duplicated().sum()"
   ]
  },
  {
   "cell_type": "code",
   "execution_count": 14,
   "metadata": {},
   "outputs": [
    {
     "data": {
      "text/plain": [
       "array(['EU', 'N.America', 'APAC', 'CIS'], dtype=object)"
      ]
     },
     "execution_count": 14,
     "metadata": {},
     "output_type": "execute_result"
    }
   ],
   "source": [
    "new_users['region'].unique()"
   ]
  },
  {
   "cell_type": "code",
   "execution_count": 15,
   "metadata": {},
   "outputs": [
    {
     "data": {
      "text/plain": [
       "user_id       0\n",
       "first_date    0\n",
       "region        0\n",
       "device        0\n",
       "dtype: int64"
      ]
     },
     "execution_count": 15,
     "metadata": {},
     "output_type": "execute_result"
    }
   ],
   "source": [
    "new_users.isna().sum()"
   ]
  },
  {
   "cell_type": "markdown",
   "metadata": {},
   "source": [
    "Пропусков и дубликатов явных и не явных нет, столбец с датой нужно заменить тип данных."
   ]
  },
  {
   "cell_type": "code",
   "execution_count": 16,
   "metadata": {},
   "outputs": [],
   "source": [
    "new_users['first_date'] = pd.to_datetime(new_users['first_date'], format = '%Y-%m-%d')"
   ]
  },
  {
   "cell_type": "code",
   "execution_count": 17,
   "metadata": {},
   "outputs": [
    {
     "name": "stdout",
     "output_type": "stream",
     "text": [
      "<class 'pandas.core.frame.DataFrame'>\n",
      "RangeIndex: 440317 entries, 0 to 440316\n",
      "Data columns (total 4 columns):\n",
      " #   Column      Non-Null Count   Dtype  \n",
      "---  ------      --------------   -----  \n",
      " 0   user_id     440317 non-null  object \n",
      " 1   event_dt    440317 non-null  object \n",
      " 2   event_name  440317 non-null  object \n",
      " 3   details     62740 non-null   float64\n",
      "dtypes: float64(1), object(3)\n",
      "memory usage: 13.4+ MB\n"
     ]
    }
   ],
   "source": [
    "events.info()"
   ]
  },
  {
   "cell_type": "code",
   "execution_count": 18,
   "metadata": {},
   "outputs": [
    {
     "data": {
      "text/html": [
       "<div>\n",
       "<style scoped>\n",
       "    .dataframe tbody tr th:only-of-type {\n",
       "        vertical-align: middle;\n",
       "    }\n",
       "\n",
       "    .dataframe tbody tr th {\n",
       "        vertical-align: top;\n",
       "    }\n",
       "\n",
       "    .dataframe thead th {\n",
       "        text-align: right;\n",
       "    }\n",
       "</style>\n",
       "<table border=\"1\" class=\"dataframe\">\n",
       "  <thead>\n",
       "    <tr style=\"text-align: right;\">\n",
       "      <th></th>\n",
       "      <th>user_id</th>\n",
       "      <th>event_dt</th>\n",
       "      <th>event_name</th>\n",
       "      <th>details</th>\n",
       "    </tr>\n",
       "  </thead>\n",
       "  <tbody>\n",
       "    <tr>\n",
       "      <th>0</th>\n",
       "      <td>E1BDDCE0DAFA2679</td>\n",
       "      <td>2020-12-07 20:22:03</td>\n",
       "      <td>purchase</td>\n",
       "      <td>99.99</td>\n",
       "    </tr>\n",
       "    <tr>\n",
       "      <th>1</th>\n",
       "      <td>7B6452F081F49504</td>\n",
       "      <td>2020-12-07 09:22:53</td>\n",
       "      <td>purchase</td>\n",
       "      <td>9.99</td>\n",
       "    </tr>\n",
       "    <tr>\n",
       "      <th>2</th>\n",
       "      <td>9CD9F34546DF254C</td>\n",
       "      <td>2020-12-07 12:59:29</td>\n",
       "      <td>purchase</td>\n",
       "      <td>4.99</td>\n",
       "    </tr>\n",
       "    <tr>\n",
       "      <th>3</th>\n",
       "      <td>96F27A054B191457</td>\n",
       "      <td>2020-12-07 04:02:40</td>\n",
       "      <td>purchase</td>\n",
       "      <td>4.99</td>\n",
       "    </tr>\n",
       "    <tr>\n",
       "      <th>4</th>\n",
       "      <td>1FD7660FDF94CA1F</td>\n",
       "      <td>2020-12-07 10:15:09</td>\n",
       "      <td>purchase</td>\n",
       "      <td>4.99</td>\n",
       "    </tr>\n",
       "    <tr>\n",
       "      <th>5</th>\n",
       "      <td>831887FE7F2D6CBA</td>\n",
       "      <td>2020-12-07 06:50:29</td>\n",
       "      <td>purchase</td>\n",
       "      <td>4.99</td>\n",
       "    </tr>\n",
       "    <tr>\n",
       "      <th>6</th>\n",
       "      <td>6B2F726BFD5F8220</td>\n",
       "      <td>2020-12-07 11:27:42</td>\n",
       "      <td>purchase</td>\n",
       "      <td>4.99</td>\n",
       "    </tr>\n",
       "    <tr>\n",
       "      <th>7</th>\n",
       "      <td>BEB37715AACF53B0</td>\n",
       "      <td>2020-12-07 04:26:15</td>\n",
       "      <td>purchase</td>\n",
       "      <td>4.99</td>\n",
       "    </tr>\n",
       "    <tr>\n",
       "      <th>8</th>\n",
       "      <td>B5FA27F582227197</td>\n",
       "      <td>2020-12-07 01:46:37</td>\n",
       "      <td>purchase</td>\n",
       "      <td>4.99</td>\n",
       "    </tr>\n",
       "    <tr>\n",
       "      <th>9</th>\n",
       "      <td>A92195E3CFB83DBD</td>\n",
       "      <td>2020-12-07 00:32:07</td>\n",
       "      <td>purchase</td>\n",
       "      <td>4.99</td>\n",
       "    </tr>\n",
       "  </tbody>\n",
       "</table>\n",
       "</div>"
      ],
      "text/plain": [
       "            user_id             event_dt event_name  details\n",
       "0  E1BDDCE0DAFA2679  2020-12-07 20:22:03   purchase    99.99\n",
       "1  7B6452F081F49504  2020-12-07 09:22:53   purchase     9.99\n",
       "2  9CD9F34546DF254C  2020-12-07 12:59:29   purchase     4.99\n",
       "3  96F27A054B191457  2020-12-07 04:02:40   purchase     4.99\n",
       "4  1FD7660FDF94CA1F  2020-12-07 10:15:09   purchase     4.99\n",
       "5  831887FE7F2D6CBA  2020-12-07 06:50:29   purchase     4.99\n",
       "6  6B2F726BFD5F8220  2020-12-07 11:27:42   purchase     4.99\n",
       "7  BEB37715AACF53B0  2020-12-07 04:26:15   purchase     4.99\n",
       "8  B5FA27F582227197  2020-12-07 01:46:37   purchase     4.99\n",
       "9  A92195E3CFB83DBD  2020-12-07 00:32:07   purchase     4.99"
      ]
     },
     "execution_count": 18,
     "metadata": {},
     "output_type": "execute_result"
    }
   ],
   "source": [
    "events.head(10)"
   ]
  },
  {
   "cell_type": "code",
   "execution_count": 19,
   "metadata": {},
   "outputs": [
    {
     "data": {
      "text/plain": [
       "0"
      ]
     },
     "execution_count": 19,
     "metadata": {},
     "output_type": "execute_result"
    }
   ],
   "source": [
    "events.duplicated().sum()"
   ]
  },
  {
   "cell_type": "code",
   "execution_count": 20,
   "metadata": {},
   "outputs": [
    {
     "data": {
      "text/plain": [
       "user_id            0\n",
       "event_dt           0\n",
       "event_name         0\n",
       "details       377577\n",
       "dtype: int64"
      ]
     },
     "execution_count": 20,
     "metadata": {},
     "output_type": "execute_result"
    }
   ],
   "source": [
    "events.isna().sum()"
   ]
  },
  {
   "cell_type": "code",
   "execution_count": 21,
   "metadata": {},
   "outputs": [
    {
     "data": {
      "text/plain": [
       "array(['purchase', 'product_cart', 'product_page', 'login'], dtype=object)"
      ]
     },
     "execution_count": 21,
     "metadata": {},
     "output_type": "execute_result"
    }
   ],
   "source": [
    "events['event_name'].unique()"
   ]
  },
  {
   "cell_type": "markdown",
   "metadata": {},
   "source": [
    "Здесь уже интереснее. Файл содержит 440317 строк. Дубликатов нет. Пропуски в поле details. Но т.к.  в этом поле хранится стоимость покупки в долларах, то логично, что оно будет пустым для строк,  которые не относятся к покупке. Столбец event_dt так же приведем к типу данных дата и время."
   ]
  },
  {
   "cell_type": "code",
   "execution_count": 22,
   "metadata": {},
   "outputs": [],
   "source": [
    "events['event_dt'] = pd.to_datetime(events['event_dt'], format = '%Y-%m-%d %H:%M:%S')"
   ]
  },
  {
   "cell_type": "code",
   "execution_count": 23,
   "metadata": {},
   "outputs": [
    {
     "name": "stdout",
     "output_type": "stream",
     "text": [
      "<class 'pandas.core.frame.DataFrame'>\n",
      "RangeIndex: 18268 entries, 0 to 18267\n",
      "Data columns (total 3 columns):\n",
      " #   Column   Non-Null Count  Dtype \n",
      "---  ------   --------------  ----- \n",
      " 0   user_id  18268 non-null  object\n",
      " 1   group    18268 non-null  object\n",
      " 2   ab_test  18268 non-null  object\n",
      "dtypes: object(3)\n",
      "memory usage: 428.3+ KB\n"
     ]
    }
   ],
   "source": [
    "participants.info()"
   ]
  },
  {
   "cell_type": "code",
   "execution_count": 24,
   "metadata": {},
   "outputs": [
    {
     "data": {
      "text/html": [
       "<div>\n",
       "<style scoped>\n",
       "    .dataframe tbody tr th:only-of-type {\n",
       "        vertical-align: middle;\n",
       "    }\n",
       "\n",
       "    .dataframe tbody tr th {\n",
       "        vertical-align: top;\n",
       "    }\n",
       "\n",
       "    .dataframe thead th {\n",
       "        text-align: right;\n",
       "    }\n",
       "</style>\n",
       "<table border=\"1\" class=\"dataframe\">\n",
       "  <thead>\n",
       "    <tr style=\"text-align: right;\">\n",
       "      <th></th>\n",
       "      <th>user_id</th>\n",
       "      <th>group</th>\n",
       "      <th>ab_test</th>\n",
       "    </tr>\n",
       "  </thead>\n",
       "  <tbody>\n",
       "    <tr>\n",
       "      <th>0</th>\n",
       "      <td>D1ABA3E2887B6A73</td>\n",
       "      <td>A</td>\n",
       "      <td>recommender_system_test</td>\n",
       "    </tr>\n",
       "    <tr>\n",
       "      <th>1</th>\n",
       "      <td>A7A3664BD6242119</td>\n",
       "      <td>A</td>\n",
       "      <td>recommender_system_test</td>\n",
       "    </tr>\n",
       "    <tr>\n",
       "      <th>2</th>\n",
       "      <td>DABC14FDDFADD29E</td>\n",
       "      <td>A</td>\n",
       "      <td>recommender_system_test</td>\n",
       "    </tr>\n",
       "    <tr>\n",
       "      <th>3</th>\n",
       "      <td>04988C5DF189632E</td>\n",
       "      <td>A</td>\n",
       "      <td>recommender_system_test</td>\n",
       "    </tr>\n",
       "    <tr>\n",
       "      <th>4</th>\n",
       "      <td>482F14783456D21B</td>\n",
       "      <td>B</td>\n",
       "      <td>recommender_system_test</td>\n",
       "    </tr>\n",
       "    <tr>\n",
       "      <th>5</th>\n",
       "      <td>4FF2998A348C484F</td>\n",
       "      <td>A</td>\n",
       "      <td>recommender_system_test</td>\n",
       "    </tr>\n",
       "    <tr>\n",
       "      <th>6</th>\n",
       "      <td>7473E0943673C09E</td>\n",
       "      <td>A</td>\n",
       "      <td>recommender_system_test</td>\n",
       "    </tr>\n",
       "    <tr>\n",
       "      <th>7</th>\n",
       "      <td>C46FE336D240A054</td>\n",
       "      <td>A</td>\n",
       "      <td>recommender_system_test</td>\n",
       "    </tr>\n",
       "    <tr>\n",
       "      <th>8</th>\n",
       "      <td>92CB588012C10D3D</td>\n",
       "      <td>A</td>\n",
       "      <td>recommender_system_test</td>\n",
       "    </tr>\n",
       "    <tr>\n",
       "      <th>9</th>\n",
       "      <td>057AB296296C7FC0</td>\n",
       "      <td>B</td>\n",
       "      <td>recommender_system_test</td>\n",
       "    </tr>\n",
       "  </tbody>\n",
       "</table>\n",
       "</div>"
      ],
      "text/plain": [
       "            user_id group                  ab_test\n",
       "0  D1ABA3E2887B6A73     A  recommender_system_test\n",
       "1  A7A3664BD6242119     A  recommender_system_test\n",
       "2  DABC14FDDFADD29E     A  recommender_system_test\n",
       "3  04988C5DF189632E     A  recommender_system_test\n",
       "4  482F14783456D21B     B  recommender_system_test\n",
       "5  4FF2998A348C484F     A  recommender_system_test\n",
       "6  7473E0943673C09E     A  recommender_system_test\n",
       "7  C46FE336D240A054     A  recommender_system_test\n",
       "8  92CB588012C10D3D     A  recommender_system_test\n",
       "9  057AB296296C7FC0     B  recommender_system_test"
      ]
     },
     "execution_count": 24,
     "metadata": {},
     "output_type": "execute_result"
    }
   ],
   "source": [
    "participants.head(10)"
   ]
  },
  {
   "cell_type": "code",
   "execution_count": 25,
   "metadata": {},
   "outputs": [
    {
     "data": {
      "text/plain": [
       "0"
      ]
     },
     "execution_count": 25,
     "metadata": {},
     "output_type": "execute_result"
    }
   ],
   "source": [
    "participants.duplicated().sum()"
   ]
  },
  {
   "cell_type": "code",
   "execution_count": 26,
   "metadata": {},
   "outputs": [
    {
     "data": {
      "text/plain": [
       "user_id    0\n",
       "group      0\n",
       "ab_test    0\n",
       "dtype: int64"
      ]
     },
     "execution_count": 26,
     "metadata": {},
     "output_type": "execute_result"
    }
   ],
   "source": [
    "participants.isna().sum()"
   ]
  },
  {
   "cell_type": "markdown",
   "metadata": {},
   "source": [
    "2 группы, пропусков нет, дубликатов тоже, все колонки с корректными типами данных."
   ]
  },
  {
   "cell_type": "markdown",
   "metadata": {},
   "source": [
    "**Выводы**\n",
    "\n",
    "Итак мы провели предоработку данных.\n",
    "\n",
    "Дубликатов нет. Данные пропущенны в 1 месте, но это логично. Все колонки приведены к нужным типам данных. Названия колонок соответсвуют общему стандарту. Можно двигаться дальше."
   ]
  },
  {
   "cell_type": "markdown",
   "metadata": {},
   "source": [
    "### Оценка корректности проведения теста."
   ]
  },
  {
   "cell_type": "markdown",
   "metadata": {},
   "source": [
    "Выведем начало и конец даты событий"
   ]
  },
  {
   "cell_type": "code",
   "execution_count": 27,
   "metadata": {},
   "outputs": [
    {
     "data": {
      "text/plain": [
       "Timestamp('2020-12-07 00:00:33')"
      ]
     },
     "execution_count": 27,
     "metadata": {},
     "output_type": "execute_result"
    }
   ],
   "source": [
    "events['event_dt'].min()"
   ]
  },
  {
   "cell_type": "code",
   "execution_count": 28,
   "metadata": {},
   "outputs": [
    {
     "data": {
      "text/plain": [
       "Timestamp('2020-12-30 23:36:33')"
      ]
     },
     "execution_count": 28,
     "metadata": {},
     "output_type": "execute_result"
    }
   ],
   "source": [
    "events['event_dt'].max()"
   ]
  },
  {
   "cell_type": "markdown",
   "metadata": {},
   "source": [
    "События у нас даны с 7 декабря, по 30 декабря. Хотя в тех. задании указана последняя дата как 4 января 2021 года. Не хватает данных что-то."
   ]
  },
  {
   "cell_type": "markdown",
   "metadata": {},
   "source": [
    "Посмотрим сроки набора пользователей"
   ]
  },
  {
   "cell_type": "code",
   "execution_count": 29,
   "metadata": {},
   "outputs": [
    {
     "data": {
      "text/plain": [
       "Timestamp('2020-12-07 00:00:00')"
      ]
     },
     "execution_count": 29,
     "metadata": {},
     "output_type": "execute_result"
    }
   ],
   "source": [
    "new_users['first_date'].min()"
   ]
  },
  {
   "cell_type": "code",
   "execution_count": 30,
   "metadata": {},
   "outputs": [
    {
     "data": {
      "text/plain": [
       "Timestamp('2020-12-23 00:00:00')"
      ]
     },
     "execution_count": 30,
     "metadata": {},
     "output_type": "execute_result"
    }
   ],
   "source": [
    "new_users['first_date'].max()"
   ]
  },
  {
   "cell_type": "markdown",
   "metadata": {},
   "source": [
    "Пользователи набирались с 7 декабря по 23 декабря.  Странно, в тех. задании указано 21 декабря остановка. Тут наоборот данных больше. Нам вообще тот файл дали? "
   ]
  },
  {
   "cell_type": "markdown",
   "metadata": {},
   "source": [
    "Аудитория теста."
   ]
  },
  {
   "cell_type": "code",
   "execution_count": 31,
   "metadata": {},
   "outputs": [
    {
     "data": {
      "text/plain": [
       "61733"
      ]
     },
     "execution_count": 31,
     "metadata": {},
     "output_type": "execute_result"
    }
   ],
   "source": [
    "new_users['user_id'].nunique()"
   ]
  },
  {
   "cell_type": "code",
   "execution_count": 32,
   "metadata": {},
   "outputs": [
    {
     "data": {
      "text/plain": [
       "7.1326033077932385"
      ]
     },
     "execution_count": 32,
     "metadata": {},
     "output_type": "execute_result"
    }
   ],
   "source": [
    "events.shape[0] / new_users['user_id'].nunique()"
   ]
  },
  {
   "cell_type": "markdown",
   "metadata": {},
   "source": [
    "Итак, у нас 61733 пользователя. По 7 событий на каждого."
   ]
  },
  {
   "cell_type": "code",
   "execution_count": 33,
   "metadata": {},
   "outputs": [
    {
     "data": {
      "text/html": [
       "<div>\n",
       "<style scoped>\n",
       "    .dataframe tbody tr th:only-of-type {\n",
       "        vertical-align: middle;\n",
       "    }\n",
       "\n",
       "    .dataframe tbody tr th {\n",
       "        vertical-align: top;\n",
       "    }\n",
       "\n",
       "    .dataframe thead th {\n",
       "        text-align: right;\n",
       "    }\n",
       "</style>\n",
       "<table border=\"1\" class=\"dataframe\">\n",
       "  <thead>\n",
       "    <tr style=\"text-align: right;\">\n",
       "      <th></th>\n",
       "      <th></th>\n",
       "      <th>user_id</th>\n",
       "    </tr>\n",
       "    <tr>\n",
       "      <th>ab_test</th>\n",
       "      <th>group</th>\n",
       "      <th></th>\n",
       "    </tr>\n",
       "  </thead>\n",
       "  <tbody>\n",
       "    <tr>\n",
       "      <th rowspan=\"2\" valign=\"top\">interface_eu_test</th>\n",
       "      <th>A</th>\n",
       "      <td>5831</td>\n",
       "    </tr>\n",
       "    <tr>\n",
       "      <th>B</th>\n",
       "      <td>5736</td>\n",
       "    </tr>\n",
       "    <tr>\n",
       "      <th rowspan=\"2\" valign=\"top\">recommender_system_test</th>\n",
       "      <th>A</th>\n",
       "      <td>3824</td>\n",
       "    </tr>\n",
       "    <tr>\n",
       "      <th>B</th>\n",
       "      <td>2877</td>\n",
       "    </tr>\n",
       "  </tbody>\n",
       "</table>\n",
       "</div>"
      ],
      "text/plain": [
       "                               user_id\n",
       "ab_test                 group         \n",
       "interface_eu_test       A         5831\n",
       "                        B         5736\n",
       "recommender_system_test A         3824\n",
       "                        B         2877"
      ]
     },
     "execution_count": 33,
     "metadata": {},
     "output_type": "execute_result"
    }
   ],
   "source": [
    "participants.groupby(['ab_test', 'group']).agg({'user_id': 'nunique'})"
   ]
  },
  {
   "cell_type": "markdown",
   "metadata": {},
   "source": [
    "Опять какая-то странность, тут есть данные еще по 1 тесту. А значит нужно удостовериться, что нет пересечений с конкурирующим тестом и нет пользователей, участвующих в двух группах теста одновременно."
   ]
  },
  {
   "cell_type": "code",
   "execution_count": 34,
   "metadata": {},
   "outputs": [],
   "source": [
    "dubbing = (participants.groupby('user_id').agg({'ab_test': 'nunique'}).reset_index().query('ab_test > 1'))"
   ]
  },
  {
   "cell_type": "code",
   "execution_count": 35,
   "metadata": {},
   "outputs": [
    {
     "data": {
      "text/plain": [
       "1602"
      ]
     },
     "execution_count": 35,
     "metadata": {},
     "output_type": "execute_result"
    }
   ],
   "source": [
    "dubbing.shape[0]"
   ]
  },
  {
   "cell_type": "markdown",
   "metadata": {},
   "source": [
    "Выходит, что есть пользователи, которые принадлежат к 2-м тестам сразу. И это целых 1602 человека.\n",
    "\n",
    "Т.к. позаданию нужно было убедиться, что таких пересечений нет, значит важно, чтобы эти пользователи не попали в дальнейший анализ. Удалим их."
   ]
  },
  {
   "cell_type": "code",
   "execution_count": 36,
   "metadata": {},
   "outputs": [],
   "source": [
    "participants = participants[~participants['user_id'].isin(dubbing['user_id'].values)]"
   ]
  },
  {
   "cell_type": "markdown",
   "metadata": {},
   "source": [
    "Так же помимо задвоенных пользователей, я удалю всех пользователей ненужного нам теста.\n",
    "\n",
    "Поясню, т.к. конечно все наверное в курсе , что группа А это пользователи без изменений, а В меняют, но тут об этом ничего не написанно. По сути если есть ошибка в данных в одном месте, то может быть и в другом. Можно было бы оставить группу А от другого теста, но где гарантии, что они там не поменяны местами? ( т.е. группа А может быть с изменениями, а В без). В реальном примере я бы пошел к коллегам за разъяснениями, тут просто дропну."
   ]
  },
  {
   "cell_type": "code",
   "execution_count": 37,
   "metadata": {},
   "outputs": [],
   "source": [
    "participants = participants.query('ab_test == \"recommender_system_test\"')"
   ]
  },
  {
   "cell_type": "markdown",
   "metadata": {},
   "source": [
    "И теперь посмотрим на распределение по А-В группам внутри нашего теста."
   ]
  },
  {
   "cell_type": "code",
   "execution_count": 38,
   "metadata": {},
   "outputs": [
    {
     "data": {
      "text/html": [
       "<div>\n",
       "<style scoped>\n",
       "    .dataframe tbody tr th:only-of-type {\n",
       "        vertical-align: middle;\n",
       "    }\n",
       "\n",
       "    .dataframe tbody tr th {\n",
       "        vertical-align: top;\n",
       "    }\n",
       "\n",
       "    .dataframe thead th {\n",
       "        text-align: right;\n",
       "    }\n",
       "</style>\n",
       "<table border=\"1\" class=\"dataframe\">\n",
       "  <thead>\n",
       "    <tr style=\"text-align: right;\">\n",
       "      <th></th>\n",
       "      <th></th>\n",
       "      <th>user_id</th>\n",
       "    </tr>\n",
       "    <tr>\n",
       "      <th>ab_test</th>\n",
       "      <th>group</th>\n",
       "      <th></th>\n",
       "    </tr>\n",
       "  </thead>\n",
       "  <tbody>\n",
       "    <tr>\n",
       "      <th rowspan=\"2\" valign=\"top\">recommender_system_test</th>\n",
       "      <th>A</th>\n",
       "      <td>2903</td>\n",
       "    </tr>\n",
       "    <tr>\n",
       "      <th>B</th>\n",
       "      <td>2196</td>\n",
       "    </tr>\n",
       "  </tbody>\n",
       "</table>\n",
       "</div>"
      ],
      "text/plain": [
       "                               user_id\n",
       "ab_test                 group         \n",
       "recommender_system_test A         2903\n",
       "                        B         2196"
      ]
     },
     "execution_count": 38,
     "metadata": {},
     "output_type": "execute_result"
    }
   ],
   "source": [
    "participants.groupby(['ab_test', 'group']).agg({'user_id': 'nunique'})"
   ]
  },
  {
   "cell_type": "code",
   "execution_count": 39,
   "metadata": {},
   "outputs": [
    {
     "name": "stdout",
     "output_type": "stream",
     "text": [
      "<class 'pandas.core.frame.DataFrame'>\n",
      "Int64Index: 5099 entries, 0 to 6700\n",
      "Data columns (total 3 columns):\n",
      " #   Column   Non-Null Count  Dtype \n",
      "---  ------   --------------  ----- \n",
      " 0   user_id  5099 non-null   object\n",
      " 1   group    5099 non-null   object\n",
      " 2   ab_test  5099 non-null   object\n",
      "dtypes: object(3)\n",
      "memory usage: 159.3+ KB\n"
     ]
    }
   ],
   "source": [
    "participants.info()"
   ]
  },
  {
   "cell_type": "markdown",
   "metadata": {},
   "source": [
    "Всего 5099 пользователей, из них 2903 в А и 2196, даже на глаз видно, что группы не равномерны."
   ]
  },
  {
   "cell_type": "code",
   "execution_count": 40,
   "metadata": {},
   "outputs": [],
   "source": [
    "second_dubbing = (participants.groupby('user_id').agg({'ab_test': 'nunique'}).reset_index().query('ab_test > 1'))"
   ]
  },
  {
   "cell_type": "code",
   "execution_count": 41,
   "metadata": {},
   "outputs": [
    {
     "data": {
      "text/plain": [
       "0"
      ]
     },
     "execution_count": 41,
     "metadata": {},
     "output_type": "execute_result"
    }
   ],
   "source": [
    "second_dubbing.shape[0]"
   ]
  },
  {
   "cell_type": "markdown",
   "metadata": {},
   "source": [
    "**Выводы**\n",
    "\n",
    "Данных по событиям  у нас не хватает, а данные по пользователям наоборот больше. Оченрь плохо выполняли тех задание по тестам.\n",
    "\n",
    "Так же у нас 1602 пересечения между тестами, которые я удалил. В итоге у нас осталось 5099 пользователя, при распределении по группам : 2903 против 2196."
   ]
  },
  {
   "cell_type": "code",
   "execution_count": 42,
   "metadata": {
    "scrolled": true
   },
   "outputs": [
    {
     "name": "stdout",
     "output_type": "stream",
     "text": [
      "Доля пользователей теста в Европейском регионе: 12.04%\n"
     ]
    }
   ],
   "source": [
    "users_eu_region = new_users.query('first_date <= \"2020-12-21 23:59:59\"')[new_users['region'] == 'EU']['user_id'].nunique()\n",
    "test_users = participants['user_id'].nunique()\n",
    "print('Доля пользователей теста в Европейском регионе: {:.2%}'.format(test_users / users_eu_region))"
   ]
  },
  {
   "cell_type": "markdown",
   "metadata": {},
   "source": [
    "### Исследовательский анализ данных."
   ]
  },
  {
   "cell_type": "markdown",
   "metadata": {},
   "source": [
    "Приведем оставшийся датафрейм к тех.заданию."
   ]
  },
  {
   "cell_type": "markdown",
   "metadata": {},
   "source": [
    "Набор пользователей должен быть с 2020-12-07  по 2020-12-21 "
   ]
  },
  {
   "cell_type": "code",
   "execution_count": 43,
   "metadata": {},
   "outputs": [],
   "source": [
    "new_users = new_users.query('first_date <= \"2020-12-21 23:59:59\"')"
   ]
  },
  {
   "cell_type": "code",
   "execution_count": 44,
   "metadata": {},
   "outputs": [
    {
     "data": {
      "text/plain": [
       "Timestamp('2020-12-07 00:00:00')"
      ]
     },
     "execution_count": 44,
     "metadata": {},
     "output_type": "execute_result"
    }
   ],
   "source": [
    "new_users['first_date'].min()"
   ]
  },
  {
   "cell_type": "code",
   "execution_count": 45,
   "metadata": {},
   "outputs": [
    {
     "data": {
      "text/plain": [
       "Timestamp('2020-12-21 00:00:00')"
      ]
     },
     "execution_count": 45,
     "metadata": {},
     "output_type": "execute_result"
    }
   ],
   "source": [
    "new_users['first_date'].max()"
   ]
  },
  {
   "cell_type": "markdown",
   "metadata": {},
   "source": [
    "Теперь внесем изменения в таблицу с событиями, отоносительно пользователей."
   ]
  },
  {
   "cell_type": "code",
   "execution_count": 46,
   "metadata": {},
   "outputs": [],
   "source": [
    "events = events.merge(participants, on = 'user_id')\n",
    "events = events.merge(new_users, on = 'user_id')"
   ]
  },
  {
   "cell_type": "markdown",
   "metadata": {},
   "source": [
    "Теперь нужно понять, сколько дней прошло с момента регистрации и событием."
   ]
  },
  {
   "cell_type": "code",
   "execution_count": 47,
   "metadata": {},
   "outputs": [],
   "source": [
    "events['difference'] = events['event_dt'] - events['first_date']"
   ]
  },
  {
   "cell_type": "markdown",
   "metadata": {},
   "source": [
    "Мы сделали это для того, чтобы убрать лишнее относительно границы 14 дней."
   ]
  },
  {
   "cell_type": "code",
   "execution_count": 48,
   "metadata": {},
   "outputs": [],
   "source": [
    "events = events.query('difference <= \"14 days 00:00:00\"')"
   ]
  },
  {
   "cell_type": "markdown",
   "metadata": {},
   "source": [
    "Выводим количество участников по группам:"
   ]
  },
  {
   "cell_type": "code",
   "execution_count": 49,
   "metadata": {},
   "outputs": [
    {
     "data": {
      "text/html": [
       "<div>\n",
       "<style scoped>\n",
       "    .dataframe tbody tr th:only-of-type {\n",
       "        vertical-align: middle;\n",
       "    }\n",
       "\n",
       "    .dataframe tbody tr th {\n",
       "        vertical-align: top;\n",
       "    }\n",
       "\n",
       "    .dataframe thead th {\n",
       "        text-align: right;\n",
       "    }\n",
       "</style>\n",
       "<table border=\"1\" class=\"dataframe\">\n",
       "  <thead>\n",
       "    <tr style=\"text-align: right;\">\n",
       "      <th></th>\n",
       "      <th>group</th>\n",
       "      <th>users</th>\n",
       "    </tr>\n",
       "  </thead>\n",
       "  <tbody>\n",
       "    <tr>\n",
       "      <th>0</th>\n",
       "      <td>A</td>\n",
       "      <td>2082</td>\n",
       "    </tr>\n",
       "    <tr>\n",
       "      <th>1</th>\n",
       "      <td>B</td>\n",
       "      <td>706</td>\n",
       "    </tr>\n",
       "  </tbody>\n",
       "</table>\n",
       "</div>"
      ],
      "text/plain": [
       "  group  users\n",
       "0     A   2082\n",
       "1     B    706"
      ]
     },
     "execution_count": 49,
     "metadata": {},
     "output_type": "execute_result"
    }
   ],
   "source": [
    "events.groupby('group').agg(users = ('user_id', 'nunique')).reset_index()"
   ]
  },
  {
   "cell_type": "markdown",
   "metadata": {},
   "source": [
    "У нас было 5099 уникальных участников, а в итоге осталось 2788. Да еще и распределение между группами с разницей почти в 300%.\n",
    "\n",
    "Мои выводы : так себе тест,  чтобы не показали результаты, какое может быть к ним доверие?"
   ]
  },
  {
   "cell_type": "markdown",
   "metadata": {},
   "source": [
    "Посмотрим, как число событий распределено по дням."
   ]
  },
  {
   "cell_type": "code",
   "execution_count": 50,
   "metadata": {},
   "outputs": [],
   "source": [
    "group_a = events.query('group == \"A\"')\n",
    "group_b = events.query('group == \"B\"')"
   ]
  },
  {
   "cell_type": "code",
   "execution_count": 51,
   "metadata": {},
   "outputs": [
    {
     "data": {
      "image/png": "[encoded data removed]",
      "text/plain": [
       "<Figure size 1080x360 with 1 Axes>"
      ]
     },
     "metadata": {
      "needs_background": "light"
     },
     "output_type": "display_data"
    }
   ],
   "source": [
    "plt.title('Распределение событий по дате и времени группы А', loc='left')\n",
    "group_a['event_dt'].hist(bins=100, xrot=15,  figsize=(15, 5), alpha=0.6)\n",
    "plt.show()\n"
   ]
  },
  {
   "cell_type": "code",
   "execution_count": 52,
   "metadata": {},
   "outputs": [
    {
     "data": {
      "image/png": "[encoded data removed]",
      "text/plain": [
       "<Figure size 1080x360 with 1 Axes>"
      ]
     },
     "metadata": {
      "needs_background": "light"
     },
     "output_type": "display_data"
    }
   ],
   "source": [
    "plt.title('Распределение событий по дате и времени группы В', loc='left')\n",
    "group_b['event_dt'].hist(bins=100, xrot=15,  figsize=(15, 5), alpha=0.6)\n",
    "plt.show()"
   ]
  },
  {
   "cell_type": "markdown",
   "metadata": {},
   "source": [
    "События явно не равномерно распределены. Видимо в этот момент начались скидки перед новым годом или очередная черная пятница, кибер понедельник и еще другие интересные эвенты."
   ]
  },
  {
   "cell_type": "code",
   "execution_count": 53,
   "metadata": {},
   "outputs": [
    {
     "name": "stdout",
     "output_type": "stream",
     "text": [
      "count   2,082.00\n",
      "mean        6.89\n",
      "std         3.82\n",
      "min         1.00\n",
      "25%         4.00\n",
      "50%         6.00\n",
      "75%         9.00\n",
      "max        24.00\n",
      "Name: event_count, dtype: float64\n"
     ]
    }
   ],
   "source": [
    "mean_a = group_a.groupby('user_id').agg(event_count = ('event_name', 'count')).reset_index()\n",
    "\n",
    "print(mean_a['event_count'].describe())  \n"
   ]
  },
  {
   "cell_type": "code",
   "execution_count": 54,
   "metadata": {},
   "outputs": [
    {
     "name": "stdout",
     "output_type": "stream",
     "text": [
      "count   706.00\n",
      "mean      5.40\n",
      "std       3.26\n",
      "min       1.00\n",
      "25%       3.00\n",
      "50%       4.00\n",
      "75%       6.00\n",
      "max      24.00\n",
      "Name: event_count, dtype: float64\n"
     ]
    }
   ],
   "source": [
    "mean_b = group_b.groupby('user_id').agg(event_count = ('event_name', 'count')).reset_index()\n",
    "\n",
    "print(mean_b['event_count'].describe())  "
   ]
  },
  {
   "cell_type": "code",
   "execution_count": 55,
   "metadata": {},
   "outputs": [
    {
     "data": {
      "image/png": "[encoded data removed]",
      "text/plain": [
       "<Figure size 1080x360 with 1 Axes>"
      ]
     },
     "metadata": {
      "needs_background": "light"
     },
     "output_type": "display_data"
    }
   ],
   "source": [
    "plt.figure(figsize=(15, 5))\n",
    "plt.title('Cреднее количество событий на пользователя группы А', loc='left')\n",
    "sns.distplot(mean_a['event_count'], bins=50)\n",
    "plt.xlabel('Cобытий')                  \n",
    "plt.ylabel('Пользователей')             \n",
    "plt.show()"
   ]
  },
  {
   "cell_type": "code",
   "execution_count": 56,
   "metadata": {},
   "outputs": [
    {
     "data": {
      "image/png": "[encoded data removed]",
      "text/plain": [
       "<Figure size 1080x360 with 1 Axes>"
      ]
     },
     "metadata": {
      "needs_background": "light"
     },
     "output_type": "display_data"
    }
   ],
   "source": [
    "plt.figure(figsize=(15, 5))\n",
    "plt.title('Cреднее количество событий на пользователя группы В', loc='left')\n",
    "sns.distplot(mean_b['event_count'], bins=50)\n",
    "plt.xlabel('Cобытий')                  \n",
    "plt.ylabel('Пользователей')             \n",
    "plt.show()"
   ]
  },
  {
   "cell_type": "markdown",
   "metadata": {},
   "source": [
    "Теперь посмотрим как меняется конверсия в воронке в выборках на разных этапах."
   ]
  },
  {
   "cell_type": "code",
   "execution_count": 57,
   "metadata": {},
   "outputs": [
    {
     "data": {
      "text/html": [
       "<div>\n",
       "<style scoped>\n",
       "    .dataframe tbody tr th:only-of-type {\n",
       "        vertical-align: middle;\n",
       "    }\n",
       "\n",
       "    .dataframe tbody tr th {\n",
       "        vertical-align: top;\n",
       "    }\n",
       "\n",
       "    .dataframe thead th {\n",
       "        text-align: right;\n",
       "    }\n",
       "</style>\n",
       "<table border=\"1\" class=\"dataframe\">\n",
       "  <thead>\n",
       "    <tr style=\"text-align: right;\">\n",
       "      <th></th>\n",
       "      <th>event_name</th>\n",
       "      <th>total_users</th>\n",
       "      <th>percent</th>\n",
       "    </tr>\n",
       "  </thead>\n",
       "  <tbody>\n",
       "    <tr>\n",
       "      <th>0</th>\n",
       "      <td>login</td>\n",
       "      <td>2787</td>\n",
       "      <td>99.96</td>\n",
       "    </tr>\n",
       "    <tr>\n",
       "      <th>2</th>\n",
       "      <td>product_page</td>\n",
       "      <td>1757</td>\n",
       "      <td>63.02</td>\n",
       "    </tr>\n",
       "    <tr>\n",
       "      <th>3</th>\n",
       "      <td>purchase</td>\n",
       "      <td>850</td>\n",
       "      <td>30.49</td>\n",
       "    </tr>\n",
       "    <tr>\n",
       "      <th>1</th>\n",
       "      <td>product_cart</td>\n",
       "      <td>826</td>\n",
       "      <td>29.63</td>\n",
       "    </tr>\n",
       "  </tbody>\n",
       "</table>\n",
       "</div>"
      ],
      "text/plain": [
       "     event_name  total_users  percent\n",
       "0         login         2787    99.96\n",
       "2  product_page         1757    63.02\n",
       "3      purchase          850    30.49\n",
       "1  product_cart          826    29.63"
      ]
     },
     "execution_count": 57,
     "metadata": {},
     "output_type": "execute_result"
    }
   ],
   "source": [
    "funnel = (events.\n",
    "              groupby('event_name').\n",
    "              agg({'user_id': 'nunique'}).\n",
    "              reset_index().\n",
    "              rename(columns={'user_id' : 'total_users'}).\n",
    "              sort_values(by='total_users', ascending=False))\n",
    "funnel['percent'] = funnel['total_users'] / events['user_id'].nunique() * 100  \n",
    "funnel"
   ]
  },
  {
   "cell_type": "markdown",
   "metadata": {},
   "source": [
    "Залогинились почти все , уже удача )))\n",
    "\n",
    "Карточку товара посмотрело 63% пользователей\n",
    "\n",
    "Совершили покупку 30,49 % , что почти на 1% , чем те, что побывал в корзине. Это глюк или можно совершить покупку 1 кнопкой по предварительным настройкам?"
   ]
  },
  {
   "cell_type": "markdown",
   "metadata": {},
   "source": [
    "На каждом шаге потеря идет 30%"
   ]
  },
  {
   "cell_type": "markdown",
   "metadata": {},
   "source": [
    "Теперь посмотрим, есть ли разница между группами по конверсии."
   ]
  },
  {
   "cell_type": "code",
   "execution_count": 58,
   "metadata": {},
   "outputs": [
    {
     "data": {
      "text/html": [
       "<div>\n",
       "<style scoped>\n",
       "    .dataframe tbody tr th:only-of-type {\n",
       "        vertical-align: middle;\n",
       "    }\n",
       "\n",
       "    .dataframe tbody tr th {\n",
       "        vertical-align: top;\n",
       "    }\n",
       "\n",
       "    .dataframe thead th {\n",
       "        text-align: right;\n",
       "    }\n",
       "</style>\n",
       "<table border=\"1\" class=\"dataframe\">\n",
       "  <thead>\n",
       "    <tr style=\"text-align: right;\">\n",
       "      <th></th>\n",
       "      <th>event_name</th>\n",
       "      <th>group</th>\n",
       "      <th>total_users</th>\n",
       "    </tr>\n",
       "  </thead>\n",
       "  <tbody>\n",
       "    <tr>\n",
       "      <th>1</th>\n",
       "      <td>login</td>\n",
       "      <td>B</td>\n",
       "      <td>705</td>\n",
       "    </tr>\n",
       "    <tr>\n",
       "      <th>5</th>\n",
       "      <td>product_page</td>\n",
       "      <td>B</td>\n",
       "      <td>397</td>\n",
       "    </tr>\n",
       "    <tr>\n",
       "      <th>7</th>\n",
       "      <td>purchase</td>\n",
       "      <td>B</td>\n",
       "      <td>198</td>\n",
       "    </tr>\n",
       "    <tr>\n",
       "      <th>3</th>\n",
       "      <td>product_cart</td>\n",
       "      <td>B</td>\n",
       "      <td>195</td>\n",
       "    </tr>\n",
       "    <tr>\n",
       "      <th>0</th>\n",
       "      <td>login</td>\n",
       "      <td>A</td>\n",
       "      <td>2082</td>\n",
       "    </tr>\n",
       "    <tr>\n",
       "      <th>4</th>\n",
       "      <td>product_page</td>\n",
       "      <td>A</td>\n",
       "      <td>1360</td>\n",
       "    </tr>\n",
       "    <tr>\n",
       "      <th>6</th>\n",
       "      <td>purchase</td>\n",
       "      <td>A</td>\n",
       "      <td>652</td>\n",
       "    </tr>\n",
       "    <tr>\n",
       "      <th>2</th>\n",
       "      <td>product_cart</td>\n",
       "      <td>A</td>\n",
       "      <td>631</td>\n",
       "    </tr>\n",
       "  </tbody>\n",
       "</table>\n",
       "</div>"
      ],
      "text/plain": [
       "     event_name group  total_users\n",
       "1         login     B          705\n",
       "5  product_page     B          397\n",
       "7      purchase     B          198\n",
       "3  product_cart     B          195\n",
       "0         login     A         2082\n",
       "4  product_page     A         1360\n",
       "6      purchase     A          652\n",
       "2  product_cart     A          631"
      ]
     },
     "execution_count": 58,
     "metadata": {},
     "output_type": "execute_result"
    }
   ],
   "source": [
    "funnel_a_b = (events.\n",
    "          groupby(['event_name', 'group']).\n",
    "          agg({'user_id': 'nunique'}).\n",
    "          reset_index().\n",
    "          rename(columns={'user_id' : 'total_users'}).\n",
    "          sort_values(by=['group','total_users'], ascending=False))\n",
    "funnel_a_b"
   ]
  },
  {
   "cell_type": "code",
   "execution_count": 59,
   "metadata": {},
   "outputs": [
    {
     "data": {
      "text/html": [
       "<div>\n",
       "<style scoped>\n",
       "    .dataframe tbody tr th:only-of-type {\n",
       "        vertical-align: middle;\n",
       "    }\n",
       "\n",
       "    .dataframe tbody tr th {\n",
       "        vertical-align: top;\n",
       "    }\n",
       "\n",
       "    .dataframe thead th {\n",
       "        text-align: right;\n",
       "    }\n",
       "</style>\n",
       "<table border=\"1\" class=\"dataframe\">\n",
       "  <thead>\n",
       "    <tr style=\"text-align: right;\">\n",
       "      <th></th>\n",
       "      <th>event_name</th>\n",
       "      <th>group</th>\n",
       "      <th>total_users</th>\n",
       "      <th>n</th>\n",
       "    </tr>\n",
       "  </thead>\n",
       "  <tbody>\n",
       "    <tr>\n",
       "      <th>1</th>\n",
       "      <td>login</td>\n",
       "      <td>B</td>\n",
       "      <td>705</td>\n",
       "      <td>1</td>\n",
       "    </tr>\n",
       "    <tr>\n",
       "      <th>0</th>\n",
       "      <td>login</td>\n",
       "      <td>A</td>\n",
       "      <td>2082</td>\n",
       "      <td>1</td>\n",
       "    </tr>\n",
       "    <tr>\n",
       "      <th>5</th>\n",
       "      <td>product_page</td>\n",
       "      <td>B</td>\n",
       "      <td>397</td>\n",
       "      <td>2</td>\n",
       "    </tr>\n",
       "    <tr>\n",
       "      <th>4</th>\n",
       "      <td>product_page</td>\n",
       "      <td>A</td>\n",
       "      <td>1360</td>\n",
       "      <td>2</td>\n",
       "    </tr>\n",
       "    <tr>\n",
       "      <th>3</th>\n",
       "      <td>product_cart</td>\n",
       "      <td>B</td>\n",
       "      <td>195</td>\n",
       "      <td>3</td>\n",
       "    </tr>\n",
       "    <tr>\n",
       "      <th>2</th>\n",
       "      <td>product_cart</td>\n",
       "      <td>A</td>\n",
       "      <td>631</td>\n",
       "      <td>3</td>\n",
       "    </tr>\n",
       "    <tr>\n",
       "      <th>7</th>\n",
       "      <td>purchase</td>\n",
       "      <td>B</td>\n",
       "      <td>198</td>\n",
       "      <td>4</td>\n",
       "    </tr>\n",
       "    <tr>\n",
       "      <th>6</th>\n",
       "      <td>purchase</td>\n",
       "      <td>A</td>\n",
       "      <td>652</td>\n",
       "      <td>4</td>\n",
       "    </tr>\n",
       "  </tbody>\n",
       "</table>\n",
       "</div>"
      ],
      "text/plain": [
       "     event_name group  total_users  n\n",
       "1         login     B          705  1\n",
       "0         login     A         2082  1\n",
       "5  product_page     B          397  2\n",
       "4  product_page     A         1360  2\n",
       "3  product_cart     B          195  3\n",
       "2  product_cart     A          631  3\n",
       "7      purchase     B          198  4\n",
       "6      purchase     A          652  4"
      ]
     },
     "execution_count": 59,
     "metadata": {},
     "output_type": "execute_result"
    }
   ],
   "source": [
    "funnel_a_b['n'] = [1, 2, 4, 3, 1, 2, 4, 3]\n",
    "funnel_a_b = funnel_a_b.sort_values(by='n')\n",
    "funnel_a_b"
   ]
  },
  {
   "cell_type": "markdown",
   "metadata": {},
   "source": [
    "**Выводы**\n",
    "\n",
    "У нас было 5099 уникальных участников, а в итоге осталось 2788. Да еще и распределение между группами с разницей почти в 300%.\n",
    "\n",
    "Данных по событиям не хватает .т.к. в тех задании указано 4 января, мы же видим данные обрываются на 29 декабря.\n",
    "\n",
    "Так же прослеживаются четкие всплески по дням, что свидетельствует явно не в пользу теста. Подсмотрел в календарь событий, увидел там промо акцию Christmas&New Year Promo. Ну и как можно проводить тест, если не понятно, что повлияло на решение пользователя, акция или все же внедренная рекомендательная система?\n",
    "\n",
    "Количество участников теста в итоге в 2 раза меньше ожидаемого, 2788 против 6000.\n",
    "\n",
    "Потеря на этапе логин-карточка товара у группы В больше, чем у А. Покупки схожи.\n",
    "\n"
   ]
  },
  {
   "cell_type": "markdown",
   "metadata": {},
   "source": [
    "### Проведение оценки результатов A/B-тестирования"
   ]
  },
  {
   "cell_type": "markdown",
   "metadata": {},
   "source": [
    "Для проверки статистической разницы долей предлагаю проверить 3 гипотезы о равенстве долей в группах А и В по следующим событиям:\n",
    "\n",
    "- карточка товара\n",
    "- корзина\n",
    "- покупка\n",
    "\n",
    "Т.к. события 3, то нужно застраховать себя от ложного результата поправкой Бонферрони А/3.\n"
   ]
  },
  {
   "cell_type": "markdown",
   "metadata": {},
   "source": [
    "Сформулируем основную и альтернативные гипотезы  для каждой пары:\n",
    "\n",
    "Нулевая - доли посетителей каждого этапа воронки одинаковы.\n",
    "Альтернативная - доли отличаются."
   ]
  },
  {
   "cell_type": "code",
   "execution_count": 61,
   "metadata": {},
   "outputs": [],
   "source": [
    "def z_test(df1, df2, event, alpha, n):\n",
    "\n",
    "    bonferroni_alpha = alpha / n\n",
    " \n",
    "\n",
    "    n_users = np.array([df1['user_id'].nunique(), \n",
    "                        df2['user_id'].nunique()])\n",
    "\n",
    "\n",
    "    success = np.array([df1[df1['event_name'] == event]['user_id'].nunique(), \n",
    "                        df2[df2['event_name'] == event]['user_id'].nunique()])\n",
    "\n",
    "\n",
    "    p1 = success[0]/n_users[0]\n",
    "    p2 = success[1]/n_users[1]\n",
    "    \n",
    "\n",
    "    p_combined = (success[0] + success[1]) / (n_users[0] + n_users[1])\n",
    "    \n",
    "\n",
    "    difference = p1 - p2 \n",
    "    \n",
    "\n",
    "    z_value = difference /  np.sqrt(p_combined * (1 - p_combined) * (1/n_users[0] + 1/n_users[1]))\n",
    "    \n",
    "\n",
    "    distr = st.norm(0, 1)  \n",
    "\n",
    "    p_value = (1 - distr.cdf(abs(z_value))) * 2   #тест двусторонний, удваиваем результат\n",
    "    \n",
    "    print('Событие:', event)\n",
    "    print('p-значение: ', p_value)\n",
    "\n",
    "    if p_value < bonferroni_alpha:\n",
    "        print('Отвергаем нулевую гипотезу: между долями есть разница')\n",
    "    else:\n",
    "        print(\n",
    "        'Не получилось отвергнуть нулевую гипотезу, нет оснований считать доли разными')\n"
   ]
  },
  {
   "cell_type": "code",
   "execution_count": 62,
   "metadata": {},
   "outputs": [
    {
     "name": "stdout",
     "output_type": "stream",
     "text": [
      "Событие: product_page\n",
      "p-значение:  1.5371909704686715e-05\n",
      "Отвергаем нулевую гипотезу: между долями есть разница\n",
      "\n",
      "Событие: product_cart\n",
      "p-значение:  0.1766337419130104\n",
      "Не получилось отвергнуть нулевую гипотезу, нет оснований считать доли разными\n",
      "\n",
      "Событие: purchase\n",
      "p-значение:  0.10281767567786759\n",
      "Не получилось отвергнуть нулевую гипотезу, нет оснований считать доли разными\n",
      "\n"
     ]
    }
   ],
   "source": [
    "for event in ['product_page', 'product_cart', 'purchase']:\n",
    "    z_test(events[events['group'] == 'A'], events[events['group'] == 'B'], event,.05, 3)\n",
    "    print()\n"
   ]
  },
  {
   "cell_type": "markdown",
   "metadata": {},
   "source": [
    "**Выводы**\n",
    "\n",
    "Что можно сказать про результаты A/B-тестирования?\n",
    "\n",
    "На этапе карточки товара есть разница между долями, соответсвенно я бы уже по этому признаку не стал бы доверять тесту.\n",
    "\n",
    "Так же группа В показала хуже конверсию, а это значит, что при равных группах , не работает наша новая система рекомендаций, но и тут есть Но, были праздники и маркетинг запустил свое промо.\n",
    "\n",
    "Про пересечение между разными тестами и неполноту данных я уже тоже писал."
   ]
  },
  {
   "cell_type": "markdown",
   "metadata": {},
   "source": [
    "### Общее заключение о корректности проведения теста."
   ]
  },
  {
   "cell_type": "markdown",
   "metadata": {},
   "source": [
    "Считаю, что тест проведен некорректно:\n",
    "- Тест проводился во время предновогодних распродаж, при этам маркетинг запустил еще и промо акцию\n",
    "- Данные по событиям заканчиваются 29 декабря, хотя по заданию нужно было закончить тест 4 января\n",
    "- У нас пересечение пользователей двух тестов, из-за чего мне пришлось часть пользователей дропнуть.\n",
    "- Разница между распределением по группам очень существенная\n",
    "- Количество активных участников 2 раза меньше, чем в тех. задании.\n",
    "\n",
    "Сам же тест показал, что конверсия у группы В даже хуже, чем у А для этапа просмотра карточки товара.\n",
    "И проверка гипотезы по равенству долей , показала разницу между группами , причем в пользу А группы.\n",
    "На других этапах она не изменилась. Соответсвенно улучшение метрики в 10% не произошло."
   ]
  },
  {
   "cell_type": "markdown",
   "metadata": {},
   "source": [
    "**Общий итог, что тест не очень, что нововведение...**"
   ]
  },
  {
   "cell_type": "code",
   "execution_count": null,
   "metadata": {},
   "outputs": [],
   "source": []
  }
 ],
 "metadata": {
  "ExecuteTimeLog": [
   {
    "duration": 1738,
    "start_time": "2023-06-07T20:33:28.607Z"
   },
   {
    "duration": 3,
    "start_time": "2023-06-07T20:34:20.502Z"
   },
   {
    "duration": 3,
    "start_time": "2023-06-07T20:34:33.888Z"
   },
   {
    "duration": 3,
    "start_time": "2023-06-07T20:34:41.854Z"
   },
   {
    "duration": 19,
    "start_time": "2023-06-07T20:35:28.910Z"
   },
   {
    "duration": 1636,
    "start_time": "2023-06-07T20:38:11.635Z"
   },
   {
    "duration": 1254,
    "start_time": "2023-06-07T20:39:53.111Z"
   },
   {
    "duration": 28,
    "start_time": "2023-06-07T20:40:04.711Z"
   },
   {
    "duration": 147,
    "start_time": "2023-06-07T20:44:27.694Z"
   },
   {
    "duration": 3,
    "start_time": "2023-06-07T20:44:39.087Z"
   },
   {
    "duration": 8,
    "start_time": "2023-06-07T20:44:39.092Z"
   },
   {
    "duration": 4,
    "start_time": "2023-06-07T20:44:39.102Z"
   },
   {
    "duration": 20,
    "start_time": "2023-06-07T20:44:39.108Z"
   },
   {
    "duration": 45,
    "start_time": "2023-06-07T20:44:39.132Z"
   },
   {
    "duration": 1150,
    "start_time": "2023-06-07T20:44:39.178Z"
   },
   {
    "duration": 8,
    "start_time": "2023-06-07T20:44:40.330Z"
   },
   {
    "duration": 12,
    "start_time": "2023-06-07T20:45:03.893Z"
   },
   {
    "duration": 14,
    "start_time": "2023-06-07T20:45:08.807Z"
   },
   {
    "duration": 5,
    "start_time": "2023-06-07T20:47:59.637Z"
   },
   {
    "duration": 25,
    "start_time": "2023-06-07T20:47:59.644Z"
   },
   {
    "duration": 8,
    "start_time": "2023-06-07T20:47:59.671Z"
   },
   {
    "duration": 8,
    "start_time": "2023-06-07T20:47:59.682Z"
   },
   {
    "duration": 35,
    "start_time": "2023-06-07T20:47:59.692Z"
   },
   {
    "duration": 1307,
    "start_time": "2023-06-07T20:47:59.730Z"
   },
   {
    "duration": 27,
    "start_time": "2023-06-07T20:48:01.039Z"
   },
   {
    "duration": 10,
    "start_time": "2023-06-07T20:48:09.787Z"
   },
   {
    "duration": 20,
    "start_time": "2023-06-07T20:49:17.554Z"
   },
   {
    "duration": 6,
    "start_time": "2023-06-07T20:50:08.686Z"
   },
   {
    "duration": 14,
    "start_time": "2023-06-07T20:51:08.954Z"
   },
   {
    "duration": 39,
    "start_time": "2023-06-07T20:56:24.094Z"
   },
   {
    "duration": 11,
    "start_time": "2023-06-07T20:56:34.846Z"
   },
   {
    "duration": 31,
    "start_time": "2023-06-07T20:56:54.171Z"
   },
   {
    "duration": 14,
    "start_time": "2023-06-07T20:57:03.091Z"
   },
   {
    "duration": 9,
    "start_time": "2023-06-07T20:58:55.038Z"
   },
   {
    "duration": 22,
    "start_time": "2023-06-07T21:00:18.233Z"
   },
   {
    "duration": 19,
    "start_time": "2023-06-07T21:00:28.146Z"
   },
   {
    "duration": 1193,
    "start_time": "2023-06-07T21:01:09.795Z"
   },
   {
    "duration": 7,
    "start_time": "2023-06-07T21:01:11.726Z"
   },
   {
    "duration": 16,
    "start_time": "2023-06-07T21:01:11.741Z"
   },
   {
    "duration": 7,
    "start_time": "2023-06-07T21:01:11.758Z"
   },
   {
    "duration": 5,
    "start_time": "2023-06-07T21:01:11.766Z"
   },
   {
    "duration": 5,
    "start_time": "2023-06-07T21:01:11.773Z"
   },
   {
    "duration": 1316,
    "start_time": "2023-06-07T21:01:11.780Z"
   },
   {
    "duration": 9,
    "start_time": "2023-06-07T21:01:13.097Z"
   },
   {
    "duration": 38,
    "start_time": "2023-06-07T21:01:13.107Z"
   },
   {
    "duration": 11,
    "start_time": "2023-06-07T21:01:13.147Z"
   },
   {
    "duration": 7,
    "start_time": "2023-06-07T21:01:13.159Z"
   },
   {
    "duration": 16,
    "start_time": "2023-06-07T21:01:13.167Z"
   },
   {
    "duration": 8,
    "start_time": "2023-06-07T21:01:13.184Z"
   },
   {
    "duration": 51,
    "start_time": "2023-06-07T21:01:13.193Z"
   },
   {
    "duration": 6,
    "start_time": "2023-06-07T21:01:13.245Z"
   },
   {
    "duration": 22,
    "start_time": "2023-06-07T21:01:13.254Z"
   },
   {
    "duration": 13,
    "start_time": "2023-06-07T21:01:13.278Z"
   },
   {
    "duration": 66,
    "start_time": "2023-06-07T21:01:33.011Z"
   },
   {
    "duration": 10,
    "start_time": "2023-06-07T21:01:51.837Z"
   },
   {
    "duration": 233,
    "start_time": "2023-06-07T21:02:15.200Z"
   },
   {
    "duration": 62,
    "start_time": "2023-06-07T21:02:26.787Z"
   },
   {
    "duration": 41,
    "start_time": "2023-06-07T21:03:51.905Z"
   },
   {
    "duration": 11,
    "start_time": "2023-06-07T21:07:42.441Z"
   },
   {
    "duration": 81,
    "start_time": "2023-06-07T21:08:08.399Z"
   },
   {
    "duration": 84,
    "start_time": "2023-06-07T21:09:50.145Z"
   },
   {
    "duration": 35,
    "start_time": "2023-06-07T21:10:04.641Z"
   },
   {
    "duration": 11,
    "start_time": "2023-06-07T21:10:31.287Z"
   },
   {
    "duration": 8,
    "start_time": "2023-06-07T21:10:41.795Z"
   },
   {
    "duration": 10,
    "start_time": "2023-06-07T21:10:59.142Z"
   },
   {
    "duration": 7,
    "start_time": "2023-06-07T21:11:09.903Z"
   },
   {
    "duration": 6,
    "start_time": "2023-06-07T21:16:23.934Z"
   },
   {
    "duration": 7,
    "start_time": "2023-06-07T21:16:35.354Z"
   },
   {
    "duration": 5,
    "start_time": "2023-06-07T21:20:07.584Z"
   },
   {
    "duration": 4,
    "start_time": "2023-06-07T21:20:15.632Z"
   },
   {
    "duration": 18,
    "start_time": "2023-06-07T21:23:20.986Z"
   },
   {
    "duration": 18,
    "start_time": "2023-06-07T21:23:35.989Z"
   },
   {
    "duration": 32,
    "start_time": "2023-06-07T21:23:51.341Z"
   },
   {
    "duration": 22,
    "start_time": "2023-06-07T21:24:05.689Z"
   },
   {
    "duration": 23,
    "start_time": "2023-06-07T21:24:20.242Z"
   },
   {
    "duration": 24,
    "start_time": "2023-06-07T21:25:05.399Z"
   },
   {
    "duration": 26,
    "start_time": "2023-06-07T21:28:08.685Z"
   },
   {
    "duration": 8,
    "start_time": "2023-06-07T21:28:21.260Z"
   },
   {
    "duration": 4,
    "start_time": "2023-06-07T21:33:10.644Z"
   },
   {
    "duration": 5,
    "start_time": "2023-06-07T21:33:55.447Z"
   },
   {
    "duration": 9,
    "start_time": "2023-06-07T21:34:32.556Z"
   },
   {
    "duration": 36,
    "start_time": "2023-06-07T21:34:36.287Z"
   },
   {
    "duration": 4,
    "start_time": "2023-06-07T21:34:37.744Z"
   },
   {
    "duration": 13,
    "start_time": "2023-06-07T21:49:14.794Z"
   },
   {
    "duration": 6,
    "start_time": "2023-06-07T21:50:24.406Z"
   },
   {
    "duration": 15,
    "start_time": "2023-06-07T21:50:39.855Z"
   },
   {
    "duration": 5,
    "start_time": "2023-06-07T21:52:11.397Z"
   },
   {
    "duration": 10,
    "start_time": "2023-06-07T21:52:21.004Z"
   },
   {
    "duration": 10,
    "start_time": "2023-06-07T21:53:04.948Z"
   },
   {
    "duration": 13,
    "start_time": "2023-06-07T21:53:27.997Z"
   },
   {
    "duration": 45,
    "start_time": "2023-06-08T20:20:21.506Z"
   },
   {
    "duration": 1421,
    "start_time": "2023-06-08T20:20:39.546Z"
   },
   {
    "duration": 3,
    "start_time": "2023-06-08T20:20:40.969Z"
   },
   {
    "duration": 7,
    "start_time": "2023-06-08T20:20:40.974Z"
   },
   {
    "duration": 5,
    "start_time": "2023-06-08T20:20:40.982Z"
   },
   {
    "duration": 13,
    "start_time": "2023-06-08T20:20:40.990Z"
   },
   {
    "duration": 1921,
    "start_time": "2023-06-08T20:20:41.004Z"
   },
   {
    "duration": 12,
    "start_time": "2023-06-08T20:20:42.927Z"
   },
   {
    "duration": 36,
    "start_time": "2023-06-08T20:20:42.941Z"
   },
   {
    "duration": 6,
    "start_time": "2023-06-08T20:20:42.979Z"
   },
   {
    "duration": 7,
    "start_time": "2023-06-08T20:20:42.988Z"
   },
   {
    "duration": 19,
    "start_time": "2023-06-08T20:20:42.997Z"
   },
   {
    "duration": 9,
    "start_time": "2023-06-08T20:20:43.018Z"
   },
   {
    "duration": 63,
    "start_time": "2023-06-08T20:20:43.028Z"
   },
   {
    "duration": 9,
    "start_time": "2023-06-08T20:20:43.095Z"
   },
   {
    "duration": 19,
    "start_time": "2023-06-08T20:20:43.106Z"
   },
   {
    "duration": 43,
    "start_time": "2023-06-08T20:20:43.127Z"
   },
   {
    "duration": 120,
    "start_time": "2023-06-08T20:20:43.172Z"
   },
   {
    "duration": 10,
    "start_time": "2023-06-08T20:20:43.294Z"
   },
   {
    "duration": 352,
    "start_time": "2023-06-08T20:20:43.306Z"
   },
   {
    "duration": 51,
    "start_time": "2023-06-08T20:20:43.660Z"
   },
   {
    "duration": 50,
    "start_time": "2023-06-08T20:20:43.712Z"
   },
   {
    "duration": 94,
    "start_time": "2023-06-08T20:20:43.764Z"
   },
   {
    "duration": 13,
    "start_time": "2023-06-08T20:20:43.860Z"
   },
   {
    "duration": 8,
    "start_time": "2023-06-08T20:20:43.875Z"
   },
   {
    "duration": 11,
    "start_time": "2023-06-08T20:20:43.885Z"
   },
   {
    "duration": 9,
    "start_time": "2023-06-08T20:20:43.897Z"
   },
   {
    "duration": 16,
    "start_time": "2023-06-08T20:20:43.908Z"
   },
   {
    "duration": 7,
    "start_time": "2023-06-08T20:20:43.956Z"
   },
   {
    "duration": 6,
    "start_time": "2023-06-08T20:20:43.965Z"
   },
   {
    "duration": 5,
    "start_time": "2023-06-08T20:20:43.973Z"
   },
   {
    "duration": 26,
    "start_time": "2023-06-08T20:20:43.980Z"
   },
   {
    "duration": 52,
    "start_time": "2023-06-08T20:20:44.009Z"
   },
   {
    "duration": 16,
    "start_time": "2023-06-08T20:20:44.063Z"
   },
   {
    "duration": 29,
    "start_time": "2023-06-08T20:20:44.081Z"
   },
   {
    "duration": 4,
    "start_time": "2023-06-08T20:20:44.111Z"
   },
   {
    "duration": 10,
    "start_time": "2023-06-08T20:20:44.117Z"
   },
   {
    "duration": 31,
    "start_time": "2023-06-08T20:20:44.129Z"
   },
   {
    "duration": 11,
    "start_time": "2023-06-08T20:20:44.162Z"
   },
   {
    "duration": 9,
    "start_time": "2023-06-08T20:20:44.175Z"
   },
   {
    "duration": 13,
    "start_time": "2023-06-08T20:20:44.186Z"
   },
   {
    "duration": 6,
    "start_time": "2023-06-08T20:21:05.245Z"
   },
   {
    "duration": 5,
    "start_time": "2023-06-08T20:21:12.746Z"
   },
   {
    "duration": 154,
    "start_time": "2023-06-08T20:24:02.519Z"
   },
   {
    "duration": 5,
    "start_time": "2023-06-08T20:26:01.570Z"
   },
   {
    "duration": 11,
    "start_time": "2023-06-08T20:27:04.633Z"
   },
   {
    "duration": 18,
    "start_time": "2023-06-08T20:28:18.284Z"
   },
   {
    "duration": 379,
    "start_time": "2023-06-08T20:33:24.570Z"
   },
   {
    "duration": 21,
    "start_time": "2023-06-08T20:38:32.882Z"
   },
   {
    "duration": 23,
    "start_time": "2023-06-08T20:52:47.410Z"
   },
   {
    "duration": 25,
    "start_time": "2023-06-08T20:53:31.375Z"
   },
   {
    "duration": 21,
    "start_time": "2023-06-08T20:54:21.660Z"
   },
   {
    "duration": 67,
    "start_time": "2023-06-08T20:55:01.940Z"
   },
   {
    "duration": 13,
    "start_time": "2023-06-08T20:55:24.220Z"
   },
   {
    "duration": 820,
    "start_time": "2023-06-08T20:55:28.243Z"
   },
   {
    "duration": 21,
    "start_time": "2023-06-08T20:55:45.972Z"
   },
   {
    "duration": 19,
    "start_time": "2023-06-08T21:01:45.587Z"
   },
   {
    "duration": 26,
    "start_time": "2023-06-08T21:02:31.665Z"
   },
   {
    "duration": 17,
    "start_time": "2023-06-08T21:02:52.362Z"
   },
   {
    "duration": 6,
    "start_time": "2023-06-08T21:04:03.257Z"
   },
   {
    "duration": 11,
    "start_time": "2023-06-08T21:04:09.379Z"
   },
   {
    "duration": 7,
    "start_time": "2023-06-08T21:04:26.742Z"
   },
   {
    "duration": 68,
    "start_time": "2023-06-08T21:04:42.979Z"
   },
   {
    "duration": 76,
    "start_time": "2023-06-08T21:12:30.662Z"
   },
   {
    "duration": 8,
    "start_time": "2023-06-08T21:15:08.395Z"
   },
   {
    "duration": 53,
    "start_time": "2023-06-08T21:15:18.715Z"
   },
   {
    "duration": 3,
    "start_time": "2023-06-08T21:15:44.491Z"
   },
   {
    "duration": 3,
    "start_time": "2023-06-08T21:15:47.017Z"
   },
   {
    "duration": 4,
    "start_time": "2023-06-08T21:15:47.022Z"
   },
   {
    "duration": 6,
    "start_time": "2023-06-08T21:15:47.028Z"
   },
   {
    "duration": 7,
    "start_time": "2023-06-08T21:15:47.036Z"
   },
   {
    "duration": 4,
    "start_time": "2023-06-08T21:15:47.044Z"
   },
   {
    "duration": 990,
    "start_time": "2023-06-08T21:15:47.050Z"
   },
   {
    "duration": 11,
    "start_time": "2023-06-08T21:15:48.042Z"
   },
   {
    "duration": 100,
    "start_time": "2023-06-08T21:15:48.054Z"
   },
   {
    "duration": 7,
    "start_time": "2023-06-08T21:15:48.156Z"
   },
   {
    "duration": 8,
    "start_time": "2023-06-08T21:15:48.164Z"
   },
   {
    "duration": 19,
    "start_time": "2023-06-08T21:15:48.174Z"
   },
   {
    "duration": 9,
    "start_time": "2023-06-08T21:15:48.194Z"
   },
   {
    "duration": 55,
    "start_time": "2023-06-08T21:15:48.205Z"
   },
   {
    "duration": 7,
    "start_time": "2023-06-08T21:15:48.263Z"
   },
   {
    "duration": 19,
    "start_time": "2023-06-08T21:15:48.271Z"
   },
   {
    "duration": 12,
    "start_time": "2023-06-08T21:15:48.292Z"
   },
   {
    "duration": 82,
    "start_time": "2023-06-08T21:15:48.305Z"
   },
   {
    "duration": 11,
    "start_time": "2023-06-08T21:15:48.389Z"
   },
   {
    "duration": 287,
    "start_time": "2023-06-08T21:15:48.402Z"
   },
   {
    "duration": 49,
    "start_time": "2023-06-08T21:15:48.690Z"
   },
   {
    "duration": 37,
    "start_time": "2023-06-08T21:15:48.740Z"
   },
   {
    "duration": 107,
    "start_time": "2023-06-08T21:15:48.778Z"
   },
   {
    "duration": 16,
    "start_time": "2023-06-08T21:15:48.887Z"
   },
   {
    "duration": 11,
    "start_time": "2023-06-08T21:15:48.904Z"
   },
   {
    "duration": 13,
    "start_time": "2023-06-08T21:15:48.918Z"
   },
   {
    "duration": 11,
    "start_time": "2023-06-08T21:15:48.957Z"
   },
   {
    "duration": 6,
    "start_time": "2023-06-08T21:15:48.970Z"
   },
   {
    "duration": 6,
    "start_time": "2023-06-08T21:15:48.978Z"
   },
   {
    "duration": 5,
    "start_time": "2023-06-08T21:15:48.986Z"
   },
   {
    "duration": 5,
    "start_time": "2023-06-08T21:15:48.993Z"
   },
   {
    "duration": 68,
    "start_time": "2023-06-08T21:15:49.001Z"
   },
   {
    "duration": 20,
    "start_time": "2023-06-08T21:15:49.071Z"
   },
   {
    "duration": 16,
    "start_time": "2023-06-08T21:15:49.093Z"
   },
   {
    "duration": 23,
    "start_time": "2023-06-08T21:15:49.111Z"
   },
   {
    "duration": 4,
    "start_time": "2023-06-08T21:15:49.159Z"
   },
   {
    "duration": 7,
    "start_time": "2023-06-08T21:15:49.164Z"
   },
   {
    "duration": 6,
    "start_time": "2023-06-08T21:15:49.173Z"
   },
   {
    "duration": 11,
    "start_time": "2023-06-08T21:15:49.180Z"
   },
   {
    "duration": 10,
    "start_time": "2023-06-08T21:15:49.193Z"
   },
   {
    "duration": 11,
    "start_time": "2023-06-08T21:15:49.205Z"
   },
   {
    "duration": 6,
    "start_time": "2023-06-08T21:15:49.218Z"
   },
   {
    "duration": 4,
    "start_time": "2023-06-08T21:15:49.257Z"
   },
   {
    "duration": 152,
    "start_time": "2023-06-08T21:15:49.263Z"
   },
   {
    "duration": 4,
    "start_time": "2023-06-08T21:15:49.417Z"
   },
   {
    "duration": 16,
    "start_time": "2023-06-08T21:15:49.423Z"
   },
   {
    "duration": 40,
    "start_time": "2023-06-08T21:15:49.440Z"
   },
   {
    "duration": 263,
    "start_time": "2023-06-08T21:15:49.482Z"
   },
   {
    "duration": 28,
    "start_time": "2023-06-08T21:15:49.747Z"
   },
   {
    "duration": 20,
    "start_time": "2023-06-08T21:15:49.777Z"
   },
   {
    "duration": 125,
    "start_time": "2023-06-08T21:15:49.799Z"
   },
   {
    "duration": 30,
    "start_time": "2023-06-08T21:15:49.926Z"
   },
   {
    "duration": 17,
    "start_time": "2023-06-08T21:15:49.958Z"
   },
   {
    "duration": 6,
    "start_time": "2023-06-08T21:15:49.977Z"
   },
   {
    "duration": 6,
    "start_time": "2023-06-08T21:15:49.984Z"
   },
   {
    "duration": 66,
    "start_time": "2023-06-08T21:15:49.992Z"
   },
   {
    "duration": 1204,
    "start_time": "2023-06-08T21:19:51.188Z"
   },
   {
    "duration": 23,
    "start_time": "2023-06-08T21:20:00.473Z"
   },
   {
    "duration": 54,
    "start_time": "2023-06-08T21:20:05.148Z"
   },
   {
    "duration": 49,
    "start_time": "2023-06-08T21:20:46.357Z"
   },
   {
    "duration": 1230,
    "start_time": "2023-06-08T21:32:20.350Z"
   },
   {
    "duration": 4,
    "start_time": "2023-06-08T21:32:21.582Z"
   },
   {
    "duration": 11,
    "start_time": "2023-06-08T21:32:21.589Z"
   },
   {
    "duration": 15,
    "start_time": "2023-06-08T21:32:21.603Z"
   },
   {
    "duration": 16,
    "start_time": "2023-06-08T21:32:21.619Z"
   },
   {
    "duration": 1784,
    "start_time": "2023-06-08T21:32:21.637Z"
   },
   {
    "duration": 11,
    "start_time": "2023-06-08T21:32:23.423Z"
   },
   {
    "duration": 35,
    "start_time": "2023-06-08T21:32:23.436Z"
   },
   {
    "duration": 24,
    "start_time": "2023-06-08T21:32:23.472Z"
   },
   {
    "duration": 11,
    "start_time": "2023-06-08T21:32:23.500Z"
   },
   {
    "duration": 26,
    "start_time": "2023-06-08T21:32:23.513Z"
   },
   {
    "duration": 9,
    "start_time": "2023-06-08T21:32:23.541Z"
   },
   {
    "duration": 46,
    "start_time": "2023-06-08T21:32:23.552Z"
   },
   {
    "duration": 8,
    "start_time": "2023-06-08T21:32:23.600Z"
   },
   {
    "duration": 37,
    "start_time": "2023-06-08T21:32:23.610Z"
   },
   {
    "duration": 32,
    "start_time": "2023-06-08T21:32:23.650Z"
   },
   {
    "duration": 71,
    "start_time": "2023-06-08T21:32:23.684Z"
   },
   {
    "duration": 10,
    "start_time": "2023-06-08T21:32:23.757Z"
   },
   {
    "duration": 361,
    "start_time": "2023-06-08T21:32:23.769Z"
   },
   {
    "duration": 64,
    "start_time": "2023-06-08T21:32:24.132Z"
   },
   {
    "duration": 34,
    "start_time": "2023-06-08T21:32:24.198Z"
   },
   {
    "duration": 98,
    "start_time": "2023-06-08T21:32:24.234Z"
   },
   {
    "duration": 23,
    "start_time": "2023-06-08T21:32:24.334Z"
   },
   {
    "duration": 14,
    "start_time": "2023-06-08T21:32:24.360Z"
   },
   {
    "duration": 22,
    "start_time": "2023-06-08T21:32:24.376Z"
   },
   {
    "duration": 10,
    "start_time": "2023-06-08T21:32:24.400Z"
   },
   {
    "duration": 9,
    "start_time": "2023-06-08T21:32:24.412Z"
   },
   {
    "duration": 28,
    "start_time": "2023-06-08T21:32:24.424Z"
   },
   {
    "duration": 18,
    "start_time": "2023-06-08T21:32:24.454Z"
   },
   {
    "duration": 13,
    "start_time": "2023-06-08T21:32:24.474Z"
   },
   {
    "duration": 31,
    "start_time": "2023-06-08T21:32:24.490Z"
   },
   {
    "duration": 29,
    "start_time": "2023-06-08T21:32:24.524Z"
   },
   {
    "duration": 18,
    "start_time": "2023-06-08T21:32:24.555Z"
   },
   {
    "duration": 34,
    "start_time": "2023-06-08T21:32:24.574Z"
   },
   {
    "duration": 4,
    "start_time": "2023-06-08T21:32:24.610Z"
   },
   {
    "duration": 23,
    "start_time": "2023-06-08T21:32:24.616Z"
   },
   {
    "duration": 32,
    "start_time": "2023-06-08T21:32:24.641Z"
   },
   {
    "duration": 19,
    "start_time": "2023-06-08T21:32:24.674Z"
   },
   {
    "duration": 45,
    "start_time": "2023-06-08T21:32:24.695Z"
   },
   {
    "duration": 15,
    "start_time": "2023-06-08T21:32:24.743Z"
   },
   {
    "duration": 18,
    "start_time": "2023-06-08T21:32:24.760Z"
   },
   {
    "duration": 29,
    "start_time": "2023-06-08T21:32:24.780Z"
   },
   {
    "duration": 204,
    "start_time": "2023-06-08T21:32:24.811Z"
   },
   {
    "duration": 5,
    "start_time": "2023-06-08T21:32:25.017Z"
   },
   {
    "duration": 37,
    "start_time": "2023-06-08T21:32:25.024Z"
   },
   {
    "duration": 36,
    "start_time": "2023-06-08T21:32:25.063Z"
   },
   {
    "duration": 402,
    "start_time": "2023-06-08T21:32:25.101Z"
   },
   {
    "duration": 24,
    "start_time": "2023-06-08T21:32:25.504Z"
   },
   {
    "duration": 73,
    "start_time": "2023-06-08T21:32:25.529Z"
   },
   {
    "duration": 186,
    "start_time": "2023-06-08T21:32:25.605Z"
   },
   {
    "duration": 5,
    "start_time": "2023-06-08T21:32:25.793Z"
   },
   {
    "duration": 103,
    "start_time": "2023-06-08T21:32:25.801Z"
   },
   {
    "duration": 1275,
    "start_time": "2023-06-09T15:19:50.460Z"
   },
   {
    "duration": 3,
    "start_time": "2023-06-09T15:19:51.737Z"
   },
   {
    "duration": 47,
    "start_time": "2023-06-09T15:19:51.742Z"
   },
   {
    "duration": 11,
    "start_time": "2023-06-09T15:19:51.791Z"
   },
   {
    "duration": 23,
    "start_time": "2023-06-09T15:19:51.809Z"
   },
   {
    "duration": 1597,
    "start_time": "2023-06-09T15:19:51.834Z"
   },
   {
    "duration": 11,
    "start_time": "2023-06-09T15:19:53.432Z"
   },
   {
    "duration": 24,
    "start_time": "2023-06-09T15:19:53.445Z"
   },
   {
    "duration": 18,
    "start_time": "2023-06-09T15:19:53.471Z"
   },
   {
    "duration": 9,
    "start_time": "2023-06-09T15:19:53.493Z"
   },
   {
    "duration": 28,
    "start_time": "2023-06-09T15:19:53.511Z"
   },
   {
    "duration": 15,
    "start_time": "2023-06-09T15:19:53.541Z"
   },
   {
    "duration": 60,
    "start_time": "2023-06-09T15:19:53.558Z"
   },
   {
    "duration": 9,
    "start_time": "2023-06-09T15:19:53.620Z"
   },
   {
    "duration": 27,
    "start_time": "2023-06-09T15:19:53.631Z"
   },
   {
    "duration": 13,
    "start_time": "2023-06-09T15:19:53.659Z"
   },
   {
    "duration": 81,
    "start_time": "2023-06-09T15:19:53.676Z"
   },
   {
    "duration": 8,
    "start_time": "2023-06-09T15:19:53.759Z"
   },
   {
    "duration": 353,
    "start_time": "2023-06-09T15:19:53.778Z"
   },
   {
    "duration": 117,
    "start_time": "2023-06-09T15:19:54.133Z"
   },
   {
    "duration": 47,
    "start_time": "2023-06-09T15:19:54.252Z"
   },
   {
    "duration": 127,
    "start_time": "2023-06-09T15:19:54.301Z"
   },
   {
    "duration": 15,
    "start_time": "2023-06-09T15:19:54.429Z"
   },
   {
    "duration": 45,
    "start_time": "2023-06-09T15:19:54.446Z"
   },
   {
    "duration": 19,
    "start_time": "2023-06-09T15:19:54.496Z"
   },
   {
    "duration": 17,
    "start_time": "2023-06-09T15:19:54.517Z"
   },
   {
    "duration": 8,
    "start_time": "2023-06-09T15:19:54.536Z"
   },
   {
    "duration": 21,
    "start_time": "2023-06-09T15:19:54.550Z"
   },
   {
    "duration": 26,
    "start_time": "2023-06-09T15:19:54.574Z"
   },
   {
    "duration": 6,
    "start_time": "2023-06-09T15:19:54.602Z"
   },
   {
    "duration": 25,
    "start_time": "2023-06-09T15:19:54.621Z"
   },
   {
    "duration": 19,
    "start_time": "2023-06-09T15:19:54.648Z"
   },
   {
    "duration": 28,
    "start_time": "2023-06-09T15:19:54.669Z"
   },
   {
    "duration": 33,
    "start_time": "2023-06-09T15:19:54.706Z"
   },
   {
    "duration": 4,
    "start_time": "2023-06-09T15:19:54.741Z"
   },
   {
    "duration": 15,
    "start_time": "2023-06-09T15:19:54.747Z"
   },
   {
    "duration": 26,
    "start_time": "2023-06-09T15:19:54.763Z"
   },
   {
    "duration": 21,
    "start_time": "2023-06-09T15:19:54.797Z"
   },
   {
    "duration": 17,
    "start_time": "2023-06-09T15:19:54.821Z"
   },
   {
    "duration": 16,
    "start_time": "2023-06-09T15:19:54.840Z"
   },
   {
    "duration": 6,
    "start_time": "2023-06-09T15:19:54.858Z"
   },
   {
    "duration": 36,
    "start_time": "2023-06-09T15:19:54.866Z"
   },
   {
    "duration": 164,
    "start_time": "2023-06-09T15:19:54.904Z"
   },
   {
    "duration": 15,
    "start_time": "2023-06-09T15:19:55.070Z"
   },
   {
    "duration": 23,
    "start_time": "2023-06-09T15:19:55.091Z"
   },
   {
    "duration": 24,
    "start_time": "2023-06-09T15:19:55.115Z"
   },
   {
    "duration": 414,
    "start_time": "2023-06-09T15:19:55.141Z"
   },
   {
    "duration": 43,
    "start_time": "2023-06-09T15:19:55.557Z"
   },
   {
    "duration": 20,
    "start_time": "2023-06-09T15:19:55.602Z"
   },
   {
    "duration": 313,
    "start_time": "2023-06-09T15:19:55.623Z"
   },
   {
    "duration": 6,
    "start_time": "2023-06-09T15:19:55.939Z"
   },
   {
    "duration": 130,
    "start_time": "2023-06-09T15:19:55.947Z"
   },
   {
    "duration": 1413,
    "start_time": "2023-06-10T20:08:41.165Z"
   },
   {
    "duration": 4,
    "start_time": "2023-06-10T20:08:42.583Z"
   },
   {
    "duration": 4,
    "start_time": "2023-06-10T20:08:42.589Z"
   },
   {
    "duration": 6,
    "start_time": "2023-06-10T20:08:42.595Z"
   },
   {
    "duration": 6,
    "start_time": "2023-06-10T20:08:42.604Z"
   },
   {
    "duration": 1109,
    "start_time": "2023-06-10T20:08:42.612Z"
   },
   {
    "duration": 13,
    "start_time": "2023-06-10T20:08:43.723Z"
   },
   {
    "duration": 15,
    "start_time": "2023-06-10T20:08:43.737Z"
   },
   {
    "duration": 5,
    "start_time": "2023-06-10T20:08:43.754Z"
   },
   {
    "duration": 17,
    "start_time": "2023-06-10T20:08:43.761Z"
   },
   {
    "duration": 22,
    "start_time": "2023-06-10T20:08:43.780Z"
   },
   {
    "duration": 8,
    "start_time": "2023-06-10T20:08:43.804Z"
   },
   {
    "duration": 64,
    "start_time": "2023-06-10T20:08:43.813Z"
   },
   {
    "duration": 10,
    "start_time": "2023-06-10T20:08:43.881Z"
   },
   {
    "duration": 38,
    "start_time": "2023-06-10T20:08:43.893Z"
   },
   {
    "duration": 24,
    "start_time": "2023-06-10T20:08:43.934Z"
   },
   {
    "duration": 75,
    "start_time": "2023-06-10T20:08:43.961Z"
   },
   {
    "duration": 24,
    "start_time": "2023-06-10T20:08:44.038Z"
   },
   {
    "duration": 374,
    "start_time": "2023-06-10T20:08:44.064Z"
   },
   {
    "duration": 65,
    "start_time": "2023-06-10T20:08:44.441Z"
   },
   {
    "duration": 28,
    "start_time": "2023-06-10T20:08:44.508Z"
   },
   {
    "duration": 119,
    "start_time": "2023-06-10T20:08:44.539Z"
   },
   {
    "duration": 0,
    "start_time": "2023-06-10T20:08:44.661Z"
   },
   {
    "duration": 0,
    "start_time": "2023-06-10T20:08:44.664Z"
   },
   {
    "duration": 0,
    "start_time": "2023-06-10T20:08:44.665Z"
   },
   {
    "duration": 0,
    "start_time": "2023-06-10T20:08:44.666Z"
   },
   {
    "duration": 0,
    "start_time": "2023-06-10T20:08:44.668Z"
   },
   {
    "duration": 0,
    "start_time": "2023-06-10T20:08:44.669Z"
   },
   {
    "duration": 0,
    "start_time": "2023-06-10T20:08:44.670Z"
   },
   {
    "duration": 0,
    "start_time": "2023-06-10T20:08:44.672Z"
   },
   {
    "duration": 0,
    "start_time": "2023-06-10T20:08:44.673Z"
   },
   {
    "duration": 0,
    "start_time": "2023-06-10T20:08:44.674Z"
   },
   {
    "duration": 0,
    "start_time": "2023-06-10T20:08:44.675Z"
   },
   {
    "duration": 0,
    "start_time": "2023-06-10T20:08:44.676Z"
   },
   {
    "duration": 0,
    "start_time": "2023-06-10T20:08:44.677Z"
   },
   {
    "duration": 0,
    "start_time": "2023-06-10T20:08:44.677Z"
   },
   {
    "duration": 0,
    "start_time": "2023-06-10T20:08:44.679Z"
   },
   {
    "duration": 0,
    "start_time": "2023-06-10T20:08:44.680Z"
   },
   {
    "duration": 0,
    "start_time": "2023-06-10T20:08:44.682Z"
   },
   {
    "duration": 0,
    "start_time": "2023-06-10T20:08:44.683Z"
   },
   {
    "duration": 0,
    "start_time": "2023-06-10T20:08:44.684Z"
   },
   {
    "duration": 0,
    "start_time": "2023-06-10T20:08:44.685Z"
   },
   {
    "duration": 0,
    "start_time": "2023-06-10T20:08:44.686Z"
   },
   {
    "duration": 0,
    "start_time": "2023-06-10T20:08:44.687Z"
   },
   {
    "duration": 0,
    "start_time": "2023-06-10T20:08:44.688Z"
   },
   {
    "duration": 0,
    "start_time": "2023-06-10T20:08:44.689Z"
   },
   {
    "duration": 0,
    "start_time": "2023-06-10T20:08:44.690Z"
   },
   {
    "duration": 0,
    "start_time": "2023-06-10T20:08:44.692Z"
   },
   {
    "duration": 1,
    "start_time": "2023-06-10T20:08:44.693Z"
   },
   {
    "duration": 0,
    "start_time": "2023-06-10T20:08:44.695Z"
   },
   {
    "duration": 0,
    "start_time": "2023-06-10T20:08:44.696Z"
   },
   {
    "duration": 0,
    "start_time": "2023-06-10T20:08:44.757Z"
   },
   {
    "duration": 0,
    "start_time": "2023-06-10T20:08:44.758Z"
   },
   {
    "duration": 9,
    "start_time": "2023-06-10T20:10:16.780Z"
   },
   {
    "duration": 13,
    "start_time": "2023-06-10T20:11:16.594Z"
   },
   {
    "duration": 56,
    "start_time": "2023-06-10T20:11:25.018Z"
   },
   {
    "duration": 15,
    "start_time": "2023-06-10T20:12:45.222Z"
   },
   {
    "duration": 14,
    "start_time": "2023-06-10T20:12:54.779Z"
   },
   {
    "duration": 3,
    "start_time": "2023-06-10T20:13:39.504Z"
   },
   {
    "duration": 7,
    "start_time": "2023-06-10T20:13:39.510Z"
   },
   {
    "duration": 6,
    "start_time": "2023-06-10T20:13:39.519Z"
   },
   {
    "duration": 6,
    "start_time": "2023-06-10T20:13:39.526Z"
   },
   {
    "duration": 10,
    "start_time": "2023-06-10T20:13:39.534Z"
   },
   {
    "duration": 1194,
    "start_time": "2023-06-10T20:13:39.546Z"
   },
   {
    "duration": 10,
    "start_time": "2023-06-10T20:13:40.742Z"
   },
   {
    "duration": 14,
    "start_time": "2023-06-10T20:13:40.754Z"
   },
   {
    "duration": 10,
    "start_time": "2023-06-10T20:13:40.770Z"
   },
   {
    "duration": 7,
    "start_time": "2023-06-10T20:13:40.781Z"
   },
   {
    "duration": 18,
    "start_time": "2023-06-10T20:13:40.790Z"
   },
   {
    "duration": 9,
    "start_time": "2023-06-10T20:13:40.810Z"
   },
   {
    "duration": 61,
    "start_time": "2023-06-10T20:13:40.821Z"
   },
   {
    "duration": 7,
    "start_time": "2023-06-10T20:13:40.887Z"
   },
   {
    "duration": 21,
    "start_time": "2023-06-10T20:13:40.896Z"
   },
   {
    "duration": 17,
    "start_time": "2023-06-10T20:13:40.919Z"
   },
   {
    "duration": 69,
    "start_time": "2023-06-10T20:13:40.937Z"
   },
   {
    "duration": 10,
    "start_time": "2023-06-10T20:13:41.009Z"
   },
   {
    "duration": 320,
    "start_time": "2023-06-10T20:13:41.021Z"
   },
   {
    "duration": 63,
    "start_time": "2023-06-10T20:13:41.343Z"
   },
   {
    "duration": 22,
    "start_time": "2023-06-10T20:13:41.408Z"
   },
   {
    "duration": 26,
    "start_time": "2023-06-10T20:13:41.432Z"
   },
   {
    "duration": 13,
    "start_time": "2023-06-10T20:13:41.459Z"
   },
   {
    "duration": 97,
    "start_time": "2023-06-10T20:13:41.473Z"
   },
   {
    "duration": 12,
    "start_time": "2023-06-10T20:13:41.571Z"
   },
   {
    "duration": 8,
    "start_time": "2023-06-10T20:13:41.585Z"
   },
   {
    "duration": 17,
    "start_time": "2023-06-10T20:13:41.594Z"
   },
   {
    "duration": 7,
    "start_time": "2023-06-10T20:13:41.613Z"
   },
   {
    "duration": 35,
    "start_time": "2023-06-10T20:13:41.622Z"
   },
   {
    "duration": 5,
    "start_time": "2023-06-10T20:13:41.659Z"
   },
   {
    "duration": 8,
    "start_time": "2023-06-10T20:13:41.666Z"
   },
   {
    "duration": 6,
    "start_time": "2023-06-10T20:13:41.675Z"
   },
   {
    "duration": 22,
    "start_time": "2023-06-10T20:13:41.682Z"
   },
   {
    "duration": 59,
    "start_time": "2023-06-10T20:13:41.706Z"
   },
   {
    "duration": 16,
    "start_time": "2023-06-10T20:13:41.767Z"
   },
   {
    "duration": 25,
    "start_time": "2023-06-10T20:13:41.785Z"
   },
   {
    "duration": 4,
    "start_time": "2023-06-10T20:13:41.812Z"
   },
   {
    "duration": 8,
    "start_time": "2023-06-10T20:13:41.819Z"
   },
   {
    "duration": 10,
    "start_time": "2023-06-10T20:13:41.857Z"
   },
   {
    "duration": 20,
    "start_time": "2023-06-10T20:13:41.869Z"
   },
   {
    "duration": 10,
    "start_time": "2023-06-10T20:13:41.894Z"
   },
   {
    "duration": 17,
    "start_time": "2023-06-10T20:13:41.906Z"
   },
   {
    "duration": 5,
    "start_time": "2023-06-10T20:13:41.925Z"
   },
   {
    "duration": 29,
    "start_time": "2023-06-10T20:13:41.931Z"
   },
   {
    "duration": 158,
    "start_time": "2023-06-10T20:13:41.962Z"
   },
   {
    "duration": 5,
    "start_time": "2023-06-10T20:13:42.122Z"
   },
   {
    "duration": 10,
    "start_time": "2023-06-10T20:13:42.128Z"
   },
   {
    "duration": 18,
    "start_time": "2023-06-10T20:13:42.156Z"
   },
   {
    "duration": 409,
    "start_time": "2023-06-10T20:13:42.175Z"
   },
   {
    "duration": 25,
    "start_time": "2023-06-10T20:13:42.585Z"
   },
   {
    "duration": 22,
    "start_time": "2023-06-10T20:13:42.611Z"
   },
   {
    "duration": 162,
    "start_time": "2023-06-10T20:13:42.656Z"
   },
   {
    "duration": 8,
    "start_time": "2023-06-10T20:13:42.821Z"
   },
   {
    "duration": 65,
    "start_time": "2023-06-10T20:13:42.830Z"
   },
   {
    "duration": 15,
    "start_time": "2023-06-10T20:14:46.907Z"
   },
   {
    "duration": 22,
    "start_time": "2023-06-10T20:15:07.972Z"
   },
   {
    "duration": 4,
    "start_time": "2023-06-10T20:15:21.741Z"
   },
   {
    "duration": 19,
    "start_time": "2023-06-10T20:15:27.562Z"
   },
   {
    "duration": 981,
    "start_time": "2023-06-10T20:16:10.031Z"
   },
   {
    "duration": 3,
    "start_time": "2023-06-10T20:16:11.333Z"
   },
   {
    "duration": 4,
    "start_time": "2023-06-10T20:16:14.974Z"
   },
   {
    "duration": 10,
    "start_time": "2023-06-10T20:16:18.529Z"
   },
   {
    "duration": 26,
    "start_time": "2023-06-10T20:16:20.546Z"
   },
   {
    "duration": 15,
    "start_time": "2023-06-10T20:16:58.930Z"
   },
   {
    "duration": 11,
    "start_time": "2023-06-10T20:17:03.382Z"
   },
   {
    "duration": 13,
    "start_time": "2023-06-10T20:18:55.448Z"
   },
   {
    "duration": 20,
    "start_time": "2023-06-10T20:20:07.228Z"
   },
   {
    "duration": 26,
    "start_time": "2023-06-10T20:20:30.652Z"
   },
   {
    "duration": 4,
    "start_time": "2023-06-10T20:21:02.798Z"
   },
   {
    "duration": 33,
    "start_time": "2023-06-10T20:21:02.805Z"
   },
   {
    "duration": 30,
    "start_time": "2023-06-10T20:21:02.840Z"
   },
   {
    "duration": 24,
    "start_time": "2023-06-10T20:21:02.872Z"
   },
   {
    "duration": 20,
    "start_time": "2023-06-10T20:21:02.898Z"
   },
   {
    "duration": 1072,
    "start_time": "2023-06-10T20:21:02.919Z"
   },
   {
    "duration": 10,
    "start_time": "2023-06-10T20:21:03.993Z"
   },
   {
    "duration": 15,
    "start_time": "2023-06-10T20:21:04.005Z"
   },
   {
    "duration": 28,
    "start_time": "2023-06-10T20:21:04.023Z"
   },
   {
    "duration": 13,
    "start_time": "2023-06-10T20:21:04.053Z"
   },
   {
    "duration": 22,
    "start_time": "2023-06-10T20:21:04.070Z"
   },
   {
    "duration": 11,
    "start_time": "2023-06-10T20:21:04.093Z"
   },
   {
    "duration": 33,
    "start_time": "2023-06-10T20:21:04.106Z"
   },
   {
    "duration": 12,
    "start_time": "2023-06-10T20:21:04.156Z"
   },
   {
    "duration": 15,
    "start_time": "2023-06-10T20:21:04.171Z"
   },
   {
    "duration": 43,
    "start_time": "2023-06-10T20:21:04.188Z"
   },
   {
    "duration": 66,
    "start_time": "2023-06-10T20:21:04.233Z"
   },
   {
    "duration": 10,
    "start_time": "2023-06-10T20:21:04.300Z"
   },
   {
    "duration": 293,
    "start_time": "2023-06-10T20:21:04.312Z"
   },
   {
    "duration": 65,
    "start_time": "2023-06-10T20:21:04.606Z"
   },
   {
    "duration": 31,
    "start_time": "2023-06-10T20:21:04.673Z"
   },
   {
    "duration": 3,
    "start_time": "2023-06-10T20:21:04.705Z"
   },
   {
    "duration": 9,
    "start_time": "2023-06-10T20:21:04.709Z"
   },
   {
    "duration": 45,
    "start_time": "2023-06-10T20:21:04.719Z"
   },
   {
    "duration": 97,
    "start_time": "2023-06-10T20:21:04.771Z"
   },
   {
    "duration": 13,
    "start_time": "2023-06-10T20:21:04.869Z"
   },
   {
    "duration": 11,
    "start_time": "2023-06-10T20:21:04.884Z"
   },
   {
    "duration": 13,
    "start_time": "2023-06-10T20:21:04.897Z"
   },
   {
    "duration": 7,
    "start_time": "2023-06-10T20:21:04.911Z"
   },
   {
    "duration": 5,
    "start_time": "2023-06-10T20:21:04.919Z"
   },
   {
    "duration": 5,
    "start_time": "2023-06-10T20:21:04.926Z"
   },
   {
    "duration": 41,
    "start_time": "2023-06-10T20:21:04.933Z"
   },
   {
    "duration": 5,
    "start_time": "2023-06-10T20:21:04.975Z"
   },
   {
    "duration": 22,
    "start_time": "2023-06-10T20:21:04.981Z"
   },
   {
    "duration": 19,
    "start_time": "2023-06-10T20:21:05.005Z"
   },
   {
    "duration": 48,
    "start_time": "2023-06-10T20:21:05.026Z"
   },
   {
    "duration": 25,
    "start_time": "2023-06-10T20:21:05.079Z"
   },
   {
    "duration": 5,
    "start_time": "2023-06-10T20:21:05.105Z"
   },
   {
    "duration": 6,
    "start_time": "2023-06-10T20:21:05.112Z"
   },
   {
    "duration": 6,
    "start_time": "2023-06-10T20:21:05.120Z"
   },
   {
    "duration": 46,
    "start_time": "2023-06-10T20:21:05.127Z"
   },
   {
    "duration": 10,
    "start_time": "2023-06-10T20:21:05.175Z"
   },
   {
    "duration": 21,
    "start_time": "2023-06-10T20:21:05.187Z"
   },
   {
    "duration": 8,
    "start_time": "2023-06-10T20:21:05.210Z"
   },
   {
    "duration": 16,
    "start_time": "2023-06-10T20:21:05.220Z"
   },
   {
    "duration": 154,
    "start_time": "2023-06-10T20:21:05.238Z"
   },
   {
    "duration": 5,
    "start_time": "2023-06-10T20:21:05.393Z"
   },
   {
    "duration": 10,
    "start_time": "2023-06-10T20:21:05.400Z"
   },
   {
    "duration": 18,
    "start_time": "2023-06-10T20:21:05.412Z"
   },
   {
    "duration": 293,
    "start_time": "2023-06-10T20:21:05.457Z"
   },
   {
    "duration": 29,
    "start_time": "2023-06-10T20:21:05.757Z"
   },
   {
    "duration": 20,
    "start_time": "2023-06-10T20:21:05.788Z"
   },
   {
    "duration": 22,
    "start_time": "2023-06-10T20:21:05.810Z"
   },
   {
    "duration": 12,
    "start_time": "2023-06-10T20:21:05.857Z"
   },
   {
    "duration": 59,
    "start_time": "2023-06-10T20:21:05.874Z"
   },
   {
    "duration": 12,
    "start_time": "2023-06-10T20:21:47.805Z"
   },
   {
    "duration": 11,
    "start_time": "2023-06-10T20:22:31.088Z"
   },
   {
    "duration": 4,
    "start_time": "2023-06-10T20:23:07.425Z"
   },
   {
    "duration": 9,
    "start_time": "2023-06-10T20:23:07.431Z"
   },
   {
    "duration": 8,
    "start_time": "2023-06-10T20:23:07.442Z"
   },
   {
    "duration": 3,
    "start_time": "2023-06-10T20:23:07.452Z"
   },
   {
    "duration": 12,
    "start_time": "2023-06-10T20:23:07.459Z"
   },
   {
    "duration": 1128,
    "start_time": "2023-06-10T20:23:07.474Z"
   },
   {
    "duration": 12,
    "start_time": "2023-06-10T20:23:08.603Z"
   },
   {
    "duration": 15,
    "start_time": "2023-06-10T20:23:08.617Z"
   },
   {
    "duration": 6,
    "start_time": "2023-06-10T20:23:08.633Z"
   },
   {
    "duration": 7,
    "start_time": "2023-06-10T20:23:08.641Z"
   },
   {
    "duration": 28,
    "start_time": "2023-06-10T20:23:08.649Z"
   },
   {
    "duration": 21,
    "start_time": "2023-06-10T20:23:08.679Z"
   },
   {
    "duration": 42,
    "start_time": "2023-06-10T20:23:08.702Z"
   },
   {
    "duration": 7,
    "start_time": "2023-06-10T20:23:08.748Z"
   },
   {
    "duration": 24,
    "start_time": "2023-06-10T20:23:08.756Z"
   },
   {
    "duration": 12,
    "start_time": "2023-06-10T20:23:08.782Z"
   },
   {
    "duration": 103,
    "start_time": "2023-06-10T20:23:08.796Z"
   },
   {
    "duration": 13,
    "start_time": "2023-06-10T20:23:08.904Z"
   },
   {
    "duration": 368,
    "start_time": "2023-06-10T20:23:08.919Z"
   },
   {
    "duration": 55,
    "start_time": "2023-06-10T20:23:09.290Z"
   },
   {
    "duration": 48,
    "start_time": "2023-06-10T20:23:09.346Z"
   },
   {
    "duration": 99,
    "start_time": "2023-06-10T20:23:09.395Z"
   },
   {
    "duration": 12,
    "start_time": "2023-06-10T20:23:09.496Z"
   },
   {
    "duration": 23,
    "start_time": "2023-06-10T20:23:09.510Z"
   },
   {
    "duration": 15,
    "start_time": "2023-06-10T20:23:09.534Z"
   },
   {
    "duration": 17,
    "start_time": "2023-06-10T20:23:09.551Z"
   },
   {
    "duration": 19,
    "start_time": "2023-06-10T20:23:09.570Z"
   },
   {
    "duration": 8,
    "start_time": "2023-06-10T20:23:09.591Z"
   },
   {
    "duration": 5,
    "start_time": "2023-06-10T20:23:09.600Z"
   },
   {
    "duration": 5,
    "start_time": "2023-06-10T20:23:09.609Z"
   },
   {
    "duration": 49,
    "start_time": "2023-06-10T20:23:09.615Z"
   },
   {
    "duration": 28,
    "start_time": "2023-06-10T20:23:09.666Z"
   },
   {
    "duration": 17,
    "start_time": "2023-06-10T20:23:09.697Z"
   },
   {
    "duration": 41,
    "start_time": "2023-06-10T20:23:09.716Z"
   },
   {
    "duration": 6,
    "start_time": "2023-06-10T20:23:09.761Z"
   },
   {
    "duration": 8,
    "start_time": "2023-06-10T20:23:09.769Z"
   },
   {
    "duration": 15,
    "start_time": "2023-06-10T20:23:09.778Z"
   },
   {
    "duration": 13,
    "start_time": "2023-06-10T20:23:09.795Z"
   },
   {
    "duration": 12,
    "start_time": "2023-06-10T20:23:09.810Z"
   },
   {
    "duration": 20,
    "start_time": "2023-06-10T20:23:09.824Z"
   },
   {
    "duration": 13,
    "start_time": "2023-06-10T20:23:09.860Z"
   },
   {
    "duration": 5,
    "start_time": "2023-06-10T20:23:09.876Z"
   },
   {
    "duration": 166,
    "start_time": "2023-06-10T20:23:09.883Z"
   },
   {
    "duration": 16,
    "start_time": "2023-06-10T20:23:10.051Z"
   },
   {
    "duration": 18,
    "start_time": "2023-06-10T20:23:10.069Z"
   },
   {
    "duration": 18,
    "start_time": "2023-06-10T20:23:10.089Z"
   },
   {
    "duration": 398,
    "start_time": "2023-06-10T20:23:10.109Z"
   },
   {
    "duration": 21,
    "start_time": "2023-06-10T20:23:10.509Z"
   },
   {
    "duration": 45,
    "start_time": "2023-06-10T20:23:10.531Z"
   },
   {
    "duration": 19,
    "start_time": "2023-06-10T20:23:10.578Z"
   },
   {
    "duration": 9,
    "start_time": "2023-06-10T20:23:10.600Z"
   },
   {
    "duration": 76,
    "start_time": "2023-06-10T20:23:10.611Z"
   },
   {
    "duration": 19,
    "start_time": "2023-06-10T20:28:49.554Z"
   },
   {
    "duration": 6,
    "start_time": "2023-06-10T20:29:08.507Z"
   },
   {
    "duration": 84,
    "start_time": "2023-06-10T20:30:36.028Z"
   },
   {
    "duration": 27,
    "start_time": "2023-06-10T20:33:32.107Z"
   },
   {
    "duration": 22,
    "start_time": "2023-06-10T20:33:42.580Z"
   },
   {
    "duration": 27,
    "start_time": "2023-06-10T20:33:49.454Z"
   },
   {
    "duration": 142,
    "start_time": "2023-06-10T20:44:38.714Z"
   },
   {
    "duration": 111,
    "start_time": "2023-06-10T20:45:20.070Z"
   },
   {
    "duration": 305,
    "start_time": "2023-06-10T20:45:24.071Z"
   },
   {
    "duration": 115,
    "start_time": "2023-06-10T20:45:41.313Z"
   },
   {
    "duration": 296,
    "start_time": "2023-06-10T20:46:01.152Z"
   },
   {
    "duration": 21,
    "start_time": "2023-06-10T20:47:35.138Z"
   },
   {
    "duration": 36,
    "start_time": "2023-06-10T20:47:37.971Z"
   },
   {
    "duration": 101,
    "start_time": "2023-06-10T20:47:54.196Z"
   },
   {
    "duration": 77,
    "start_time": "2023-06-10T20:48:17.322Z"
   },
   {
    "duration": 1391,
    "start_time": "2023-06-10T20:51:19.530Z"
   },
   {
    "duration": 364,
    "start_time": "2023-06-10T20:51:37.217Z"
   },
   {
    "duration": 14,
    "start_time": "2023-06-10T20:55:57.110Z"
   },
   {
    "duration": 8,
    "start_time": "2023-06-10T20:57:33.805Z"
   },
   {
    "duration": 15,
    "start_time": "2023-06-10T20:57:46.453Z"
   },
   {
    "duration": 418,
    "start_time": "2023-06-10T20:57:59.444Z"
   },
   {
    "duration": 316,
    "start_time": "2023-06-10T20:58:18.988Z"
   },
   {
    "duration": 18,
    "start_time": "2023-06-10T21:03:25.287Z"
   },
   {
    "duration": 15,
    "start_time": "2023-06-10T21:03:42.319Z"
   },
   {
    "duration": 17,
    "start_time": "2023-06-10T21:03:54.500Z"
   },
   {
    "duration": 220,
    "start_time": "2023-06-10T21:05:41.470Z"
   },
   {
    "duration": 217,
    "start_time": "2023-06-10T21:05:57.534Z"
   },
   {
    "duration": 12,
    "start_time": "2023-06-10T21:10:12.672Z"
   },
   {
    "duration": 24,
    "start_time": "2023-06-10T21:10:21.787Z"
   },
   {
    "duration": 2,
    "start_time": "2023-06-10T21:11:36.725Z"
   },
   {
    "duration": 29,
    "start_time": "2023-06-10T21:11:38.189Z"
   },
   {
    "duration": 14,
    "start_time": "2023-06-10T21:12:30.474Z"
   },
   {
    "duration": 19,
    "start_time": "2023-06-10T21:12:36.824Z"
   },
   {
    "duration": 26,
    "start_time": "2023-06-10T21:13:04.741Z"
   },
   {
    "duration": 16,
    "start_time": "2023-06-10T21:13:54.520Z"
   },
   {
    "duration": 10,
    "start_time": "2023-06-10T21:14:35.856Z"
   },
   {
    "duration": 8,
    "start_time": "2023-06-10T21:15:30.135Z"
   },
   {
    "duration": 10,
    "start_time": "2023-06-10T21:17:42.974Z"
   },
   {
    "duration": 12,
    "start_time": "2023-06-10T21:18:55.341Z"
   },
   {
    "duration": 31,
    "start_time": "2023-06-10T21:19:02.479Z"
   },
   {
    "duration": 105,
    "start_time": "2023-06-10T21:27:57.639Z"
   },
   {
    "duration": 8,
    "start_time": "2023-06-10T21:28:05.529Z"
   },
   {
    "duration": 12,
    "start_time": "2023-06-10T21:28:14.958Z"
   },
   {
    "duration": 10,
    "start_time": "2023-06-10T21:29:39.144Z"
   },
   {
    "duration": 8,
    "start_time": "2023-06-10T21:29:49.157Z"
   },
   {
    "duration": 7,
    "start_time": "2023-06-10T21:30:28.437Z"
   },
   {
    "duration": 7,
    "start_time": "2023-06-10T21:30:31.066Z"
   },
   {
    "duration": 21,
    "start_time": "2023-06-10T21:31:10.781Z"
   },
   {
    "duration": 1233,
    "start_time": "2023-06-10T21:31:42.170Z"
   },
   {
    "duration": 3,
    "start_time": "2023-06-10T21:31:43.405Z"
   },
   {
    "duration": 5,
    "start_time": "2023-06-10T21:31:43.410Z"
   },
   {
    "duration": 6,
    "start_time": "2023-06-10T21:31:43.416Z"
   },
   {
    "duration": 4,
    "start_time": "2023-06-10T21:31:43.424Z"
   },
   {
    "duration": 1507,
    "start_time": "2023-06-10T21:31:43.430Z"
   },
   {
    "duration": 11,
    "start_time": "2023-06-10T21:31:44.938Z"
   },
   {
    "duration": 33,
    "start_time": "2023-06-10T21:31:44.950Z"
   },
   {
    "duration": 6,
    "start_time": "2023-06-10T21:31:44.984Z"
   },
   {
    "duration": 9,
    "start_time": "2023-06-10T21:31:44.991Z"
   },
   {
    "duration": 62,
    "start_time": "2023-06-10T21:31:45.002Z"
   },
   {
    "duration": 12,
    "start_time": "2023-06-10T21:31:45.066Z"
   },
   {
    "duration": 51,
    "start_time": "2023-06-10T21:31:45.080Z"
   },
   {
    "duration": 8,
    "start_time": "2023-06-10T21:31:45.134Z"
   },
   {
    "duration": 42,
    "start_time": "2023-06-10T21:31:45.143Z"
   },
   {
    "duration": 14,
    "start_time": "2023-06-10T21:31:45.187Z"
   },
   {
    "duration": 73,
    "start_time": "2023-06-10T21:31:45.204Z"
   },
   {
    "duration": 8,
    "start_time": "2023-06-10T21:31:45.279Z"
   },
   {
    "duration": 326,
    "start_time": "2023-06-10T21:31:45.289Z"
   },
   {
    "duration": 61,
    "start_time": "2023-06-10T21:31:45.617Z"
   },
   {
    "duration": 24,
    "start_time": "2023-06-10T21:31:45.680Z"
   },
   {
    "duration": 108,
    "start_time": "2023-06-10T21:31:45.705Z"
   },
   {
    "duration": 31,
    "start_time": "2023-06-10T21:31:45.815Z"
   },
   {
    "duration": 26,
    "start_time": "2023-06-10T21:31:45.848Z"
   },
   {
    "duration": 43,
    "start_time": "2023-06-10T21:31:45.876Z"
   },
   {
    "duration": 22,
    "start_time": "2023-06-10T21:31:45.921Z"
   },
   {
    "duration": 8,
    "start_time": "2023-06-10T21:31:45.946Z"
   },
   {
    "duration": 15,
    "start_time": "2023-06-10T21:31:45.956Z"
   },
   {
    "duration": 9,
    "start_time": "2023-06-10T21:31:45.973Z"
   },
   {
    "duration": 41,
    "start_time": "2023-06-10T21:31:45.983Z"
   },
   {
    "duration": 27,
    "start_time": "2023-06-10T21:31:46.026Z"
   },
   {
    "duration": 30,
    "start_time": "2023-06-10T21:31:46.055Z"
   },
   {
    "duration": 18,
    "start_time": "2023-06-10T21:31:46.086Z"
   },
   {
    "duration": 27,
    "start_time": "2023-06-10T21:31:46.106Z"
   },
   {
    "duration": 25,
    "start_time": "2023-06-10T21:31:46.134Z"
   },
   {
    "duration": 12,
    "start_time": "2023-06-10T21:31:46.161Z"
   },
   {
    "duration": 9,
    "start_time": "2023-06-10T21:31:46.174Z"
   },
   {
    "duration": 13,
    "start_time": "2023-06-10T21:31:46.185Z"
   },
   {
    "duration": 11,
    "start_time": "2023-06-10T21:31:46.200Z"
   },
   {
    "duration": 18,
    "start_time": "2023-06-10T21:31:46.212Z"
   },
   {
    "duration": 5,
    "start_time": "2023-06-10T21:31:46.234Z"
   },
   {
    "duration": 24,
    "start_time": "2023-06-10T21:31:46.258Z"
   },
   {
    "duration": 9,
    "start_time": "2023-06-10T21:31:46.284Z"
   },
   {
    "duration": 6,
    "start_time": "2023-06-10T21:31:46.295Z"
   },
   {
    "duration": 6,
    "start_time": "2023-06-10T21:31:46.302Z"
   },
   {
    "duration": 195,
    "start_time": "2023-06-10T21:31:46.310Z"
   },
   {
    "duration": 5,
    "start_time": "2023-06-10T21:31:46.507Z"
   },
   {
    "duration": 14,
    "start_time": "2023-06-10T21:31:46.513Z"
   },
   {
    "duration": 41,
    "start_time": "2023-06-10T21:31:46.528Z"
   },
   {
    "duration": 11,
    "start_time": "2023-06-10T21:31:46.572Z"
   },
   {
    "duration": 375,
    "start_time": "2023-06-10T21:31:46.584Z"
   },
   {
    "duration": 318,
    "start_time": "2023-06-10T21:31:46.960Z"
   },
   {
    "duration": 19,
    "start_time": "2023-06-10T21:31:47.280Z"
   },
   {
    "duration": 14,
    "start_time": "2023-06-10T21:31:47.300Z"
   },
   {
    "duration": 258,
    "start_time": "2023-06-10T21:31:47.315Z"
   },
   {
    "duration": 211,
    "start_time": "2023-06-10T21:31:47.575Z"
   },
   {
    "duration": 21,
    "start_time": "2023-06-10T21:31:47.787Z"
   },
   {
    "duration": 21,
    "start_time": "2023-06-10T21:31:47.810Z"
   },
   {
    "duration": 40,
    "start_time": "2023-06-10T21:31:47.832Z"
   },
   {
    "duration": 246,
    "start_time": "2023-06-10T21:31:47.874Z"
   },
   {
    "duration": 5,
    "start_time": "2023-06-10T21:31:48.122Z"
   },
   {
    "duration": 144,
    "start_time": "2023-06-10T21:31:48.129Z"
   },
   {
    "duration": 10,
    "start_time": "2023-06-10T21:36:35.329Z"
   },
   {
    "duration": 14,
    "start_time": "2023-06-10T21:36:41.281Z"
   },
   {
    "duration": 11,
    "start_time": "2023-06-10T21:36:55.425Z"
   },
   {
    "duration": 1204,
    "start_time": "2023-06-10T21:37:51.814Z"
   },
   {
    "duration": 4,
    "start_time": "2023-06-10T21:37:53.020Z"
   },
   {
    "duration": 26,
    "start_time": "2023-06-10T21:37:53.025Z"
   },
   {
    "duration": 57,
    "start_time": "2023-06-10T21:37:53.053Z"
   },
   {
    "duration": 31,
    "start_time": "2023-06-10T21:37:53.112Z"
   },
   {
    "duration": 1213,
    "start_time": "2023-06-10T21:37:53.145Z"
   },
   {
    "duration": 17,
    "start_time": "2023-06-10T21:37:54.360Z"
   },
   {
    "duration": 15,
    "start_time": "2023-06-10T21:37:54.379Z"
   },
   {
    "duration": 6,
    "start_time": "2023-06-10T21:37:54.395Z"
   },
   {
    "duration": 9,
    "start_time": "2023-06-10T21:37:54.402Z"
   },
   {
    "duration": 20,
    "start_time": "2023-06-10T21:37:54.413Z"
   },
   {
    "duration": 36,
    "start_time": "2023-06-10T21:37:54.435Z"
   },
   {
    "duration": 36,
    "start_time": "2023-06-10T21:37:54.474Z"
   },
   {
    "duration": 7,
    "start_time": "2023-06-10T21:37:54.513Z"
   },
   {
    "duration": 43,
    "start_time": "2023-06-10T21:37:54.522Z"
   },
   {
    "duration": 14,
    "start_time": "2023-06-10T21:37:54.567Z"
   },
   {
    "duration": 56,
    "start_time": "2023-06-10T21:37:54.583Z"
   },
   {
    "duration": 23,
    "start_time": "2023-06-10T21:37:54.641Z"
   },
   {
    "duration": 351,
    "start_time": "2023-06-10T21:37:54.666Z"
   },
   {
    "duration": 66,
    "start_time": "2023-06-10T21:37:55.019Z"
   },
   {
    "duration": 44,
    "start_time": "2023-06-10T21:37:55.086Z"
   },
   {
    "duration": 123,
    "start_time": "2023-06-10T21:37:55.131Z"
   },
   {
    "duration": 20,
    "start_time": "2023-06-10T21:37:55.256Z"
   },
   {
    "duration": 8,
    "start_time": "2023-06-10T21:37:55.278Z"
   },
   {
    "duration": 12,
    "start_time": "2023-06-10T21:37:55.288Z"
   },
   {
    "duration": 7,
    "start_time": "2023-06-10T21:37:55.302Z"
   },
   {
    "duration": 8,
    "start_time": "2023-06-10T21:37:55.311Z"
   },
   {
    "duration": 42,
    "start_time": "2023-06-10T21:37:55.320Z"
   },
   {
    "duration": 9,
    "start_time": "2023-06-10T21:37:55.363Z"
   },
   {
    "duration": 5,
    "start_time": "2023-06-10T21:37:55.374Z"
   },
   {
    "duration": 23,
    "start_time": "2023-06-10T21:37:55.380Z"
   },
   {
    "duration": 22,
    "start_time": "2023-06-10T21:37:55.405Z"
   },
   {
    "duration": 41,
    "start_time": "2023-06-10T21:37:55.429Z"
   },
   {
    "duration": 27,
    "start_time": "2023-06-10T21:37:55.471Z"
   },
   {
    "duration": 4,
    "start_time": "2023-06-10T21:37:55.500Z"
   },
   {
    "duration": 26,
    "start_time": "2023-06-10T21:37:55.506Z"
   },
   {
    "duration": 15,
    "start_time": "2023-06-10T21:37:55.534Z"
   },
   {
    "duration": 23,
    "start_time": "2023-06-10T21:37:55.551Z"
   },
   {
    "duration": 18,
    "start_time": "2023-06-10T21:37:55.577Z"
   },
   {
    "duration": 21,
    "start_time": "2023-06-10T21:37:55.597Z"
   },
   {
    "duration": 4,
    "start_time": "2023-06-10T21:37:55.622Z"
   },
   {
    "duration": 44,
    "start_time": "2023-06-10T21:37:55.628Z"
   },
   {
    "duration": 9,
    "start_time": "2023-06-10T21:37:55.674Z"
   },
   {
    "duration": 6,
    "start_time": "2023-06-10T21:37:55.685Z"
   },
   {
    "duration": 9,
    "start_time": "2023-06-10T21:37:55.692Z"
   },
   {
    "duration": 184,
    "start_time": "2023-06-10T21:37:55.702Z"
   },
   {
    "duration": 5,
    "start_time": "2023-06-10T21:37:55.887Z"
   },
   {
    "duration": 13,
    "start_time": "2023-06-10T21:37:55.893Z"
   },
   {
    "duration": 16,
    "start_time": "2023-06-10T21:37:55.908Z"
   },
   {
    "duration": 38,
    "start_time": "2023-06-10T21:37:55.926Z"
   },
   {
    "duration": 379,
    "start_time": "2023-06-10T21:37:55.965Z"
   },
   {
    "duration": 308,
    "start_time": "2023-06-10T21:37:56.346Z"
   },
   {
    "duration": 27,
    "start_time": "2023-06-10T21:37:56.658Z"
   },
   {
    "duration": 19,
    "start_time": "2023-06-10T21:37:56.687Z"
   },
   {
    "duration": 245,
    "start_time": "2023-06-10T21:37:56.708Z"
   },
   {
    "duration": 223,
    "start_time": "2023-06-10T21:37:56.957Z"
   },
   {
    "duration": 24,
    "start_time": "2023-06-10T21:37:57.182Z"
   },
   {
    "duration": 61,
    "start_time": "2023-06-10T21:37:57.208Z"
   },
   {
    "duration": 11,
    "start_time": "2023-06-10T21:37:57.270Z"
   },
   {
    "duration": 263,
    "start_time": "2023-06-10T21:37:57.283Z"
   },
   {
    "duration": 5,
    "start_time": "2023-06-10T21:37:57.548Z"
   },
   {
    "duration": 123,
    "start_time": "2023-06-10T21:37:57.555Z"
   },
   {
    "duration": 1296,
    "start_time": "2023-06-11T07:16:21.208Z"
   },
   {
    "duration": 3,
    "start_time": "2023-06-11T07:16:22.505Z"
   },
   {
    "duration": 39,
    "start_time": "2023-06-11T07:16:22.510Z"
   },
   {
    "duration": 26,
    "start_time": "2023-06-11T07:16:22.551Z"
   },
   {
    "duration": 5,
    "start_time": "2023-06-11T07:16:22.579Z"
   },
   {
    "duration": 974,
    "start_time": "2023-06-11T07:16:22.586Z"
   },
   {
    "duration": 9,
    "start_time": "2023-06-11T07:16:23.562Z"
   },
   {
    "duration": 21,
    "start_time": "2023-06-11T07:16:23.572Z"
   },
   {
    "duration": 14,
    "start_time": "2023-06-11T07:16:23.595Z"
   },
   {
    "duration": 29,
    "start_time": "2023-06-11T07:16:23.612Z"
   },
   {
    "duration": 31,
    "start_time": "2023-06-11T07:16:23.642Z"
   },
   {
    "duration": 9,
    "start_time": "2023-06-11T07:16:23.675Z"
   },
   {
    "duration": 35,
    "start_time": "2023-06-11T07:16:23.685Z"
   },
   {
    "duration": 6,
    "start_time": "2023-06-11T07:16:23.722Z"
   },
   {
    "duration": 31,
    "start_time": "2023-06-11T07:16:23.730Z"
   },
   {
    "duration": 23,
    "start_time": "2023-06-11T07:16:23.762Z"
   },
   {
    "duration": 60,
    "start_time": "2023-06-11T07:16:23.786Z"
   },
   {
    "duration": 8,
    "start_time": "2023-06-11T07:16:23.847Z"
   },
   {
    "duration": 232,
    "start_time": "2023-06-11T07:16:23.856Z"
   },
   {
    "duration": 59,
    "start_time": "2023-06-11T07:16:24.090Z"
   },
   {
    "duration": 58,
    "start_time": "2023-06-11T07:16:24.151Z"
   },
   {
    "duration": 109,
    "start_time": "2023-06-11T07:16:24.210Z"
   },
   {
    "duration": 24,
    "start_time": "2023-06-11T07:16:24.320Z"
   },
   {
    "duration": 50,
    "start_time": "2023-06-11T07:16:24.346Z"
   },
   {
    "duration": 22,
    "start_time": "2023-06-11T07:16:24.398Z"
   },
   {
    "duration": 7,
    "start_time": "2023-06-11T07:16:24.421Z"
   },
   {
    "duration": 13,
    "start_time": "2023-06-11T07:16:24.430Z"
   },
   {
    "duration": 10,
    "start_time": "2023-06-11T07:16:24.446Z"
   },
   {
    "duration": 7,
    "start_time": "2023-06-11T07:16:24.457Z"
   },
   {
    "duration": 17,
    "start_time": "2023-06-11T07:16:24.466Z"
   },
   {
    "duration": 28,
    "start_time": "2023-06-11T07:16:24.485Z"
   },
   {
    "duration": 31,
    "start_time": "2023-06-11T07:16:24.515Z"
   },
   {
    "duration": 36,
    "start_time": "2023-06-11T07:16:24.547Z"
   },
   {
    "duration": 23,
    "start_time": "2023-06-11T07:16:24.585Z"
   },
   {
    "duration": 3,
    "start_time": "2023-06-11T07:16:24.609Z"
   },
   {
    "duration": 9,
    "start_time": "2023-06-11T07:16:24.614Z"
   },
   {
    "duration": 7,
    "start_time": "2023-06-11T07:16:24.624Z"
   },
   {
    "duration": 12,
    "start_time": "2023-06-11T07:16:24.632Z"
   },
   {
    "duration": 9,
    "start_time": "2023-06-11T07:16:24.645Z"
   },
   {
    "duration": 15,
    "start_time": "2023-06-11T07:16:24.656Z"
   },
   {
    "duration": 3,
    "start_time": "2023-06-11T07:16:24.672Z"
   },
   {
    "duration": 32,
    "start_time": "2023-06-11T07:16:24.677Z"
   },
   {
    "duration": 22,
    "start_time": "2023-06-11T07:16:24.710Z"
   },
   {
    "duration": 16,
    "start_time": "2023-06-11T07:16:24.733Z"
   },
   {
    "duration": 20,
    "start_time": "2023-06-11T07:16:24.750Z"
   },
   {
    "duration": 144,
    "start_time": "2023-06-11T07:16:24.772Z"
   },
   {
    "duration": 9,
    "start_time": "2023-06-11T07:16:24.917Z"
   },
   {
    "duration": 12,
    "start_time": "2023-06-11T07:16:24.927Z"
   },
   {
    "duration": 15,
    "start_time": "2023-06-11T07:16:24.940Z"
   },
   {
    "duration": 8,
    "start_time": "2023-06-11T07:16:24.957Z"
   },
   {
    "duration": 346,
    "start_time": "2023-06-11T07:16:24.966Z"
   },
   {
    "duration": 265,
    "start_time": "2023-06-11T07:16:25.314Z"
   },
   {
    "duration": 15,
    "start_time": "2023-06-11T07:16:25.580Z"
   },
   {
    "duration": 28,
    "start_time": "2023-06-11T07:16:25.596Z"
   },
   {
    "duration": 192,
    "start_time": "2023-06-11T07:16:25.626Z"
   },
   {
    "duration": 184,
    "start_time": "2023-06-11T07:16:25.819Z"
   },
   {
    "duration": 25,
    "start_time": "2023-06-11T07:16:26.005Z"
   },
   {
    "duration": 16,
    "start_time": "2023-06-11T07:16:26.032Z"
   },
   {
    "duration": 26,
    "start_time": "2023-06-11T07:16:26.050Z"
   },
   {
    "duration": 308,
    "start_time": "2023-06-11T07:16:26.077Z"
   },
   {
    "duration": 5,
    "start_time": "2023-06-11T07:16:26.387Z"
   },
   {
    "duration": 75,
    "start_time": "2023-06-11T07:16:26.393Z"
   },
   {
    "duration": 4,
    "start_time": "2023-06-11T07:17:44.708Z"
   },
   {
    "duration": 3,
    "start_time": "2023-06-11T07:17:53.648Z"
   },
   {
    "duration": 55,
    "start_time": "2023-06-11T12:25:12.567Z"
   },
   {
    "duration": 1147,
    "start_time": "2023-06-11T12:25:18.824Z"
   },
   {
    "duration": 3,
    "start_time": "2023-06-11T12:25:19.973Z"
   },
   {
    "duration": 10,
    "start_time": "2023-06-11T12:25:19.977Z"
   },
   {
    "duration": 6,
    "start_time": "2023-06-11T12:25:19.989Z"
   },
   {
    "duration": 20,
    "start_time": "2023-06-11T12:25:19.997Z"
   },
   {
    "duration": 1864,
    "start_time": "2023-06-11T12:25:20.018Z"
   },
   {
    "duration": 11,
    "start_time": "2023-06-11T12:25:21.884Z"
   },
   {
    "duration": 14,
    "start_time": "2023-06-11T12:25:21.896Z"
   },
   {
    "duration": 8,
    "start_time": "2023-06-11T12:25:21.912Z"
   },
   {
    "duration": 14,
    "start_time": "2023-06-11T12:25:21.921Z"
   },
   {
    "duration": 27,
    "start_time": "2023-06-11T12:25:21.937Z"
   },
   {
    "duration": 9,
    "start_time": "2023-06-11T12:25:21.965Z"
   },
   {
    "duration": 34,
    "start_time": "2023-06-11T12:25:21.975Z"
   },
   {
    "duration": 6,
    "start_time": "2023-06-11T12:25:22.012Z"
   },
   {
    "duration": 16,
    "start_time": "2023-06-11T12:25:22.019Z"
   },
   {
    "duration": 19,
    "start_time": "2023-06-11T12:25:22.036Z"
   },
   {
    "duration": 53,
    "start_time": "2023-06-11T12:25:22.057Z"
   },
   {
    "duration": 8,
    "start_time": "2023-06-11T12:25:22.111Z"
   },
   {
    "duration": 239,
    "start_time": "2023-06-11T12:25:22.120Z"
   },
   {
    "duration": 65,
    "start_time": "2023-06-11T12:25:22.361Z"
   },
   {
    "duration": 28,
    "start_time": "2023-06-11T12:25:22.428Z"
   },
   {
    "duration": 105,
    "start_time": "2023-06-11T12:25:22.458Z"
   },
   {
    "duration": 12,
    "start_time": "2023-06-11T12:25:22.565Z"
   },
   {
    "duration": 26,
    "start_time": "2023-06-11T12:25:22.579Z"
   },
   {
    "duration": 22,
    "start_time": "2023-06-11T12:25:22.607Z"
   },
   {
    "duration": 9,
    "start_time": "2023-06-11T12:25:22.631Z"
   },
   {
    "duration": 23,
    "start_time": "2023-06-11T12:25:22.642Z"
   },
   {
    "duration": 29,
    "start_time": "2023-06-11T12:25:22.666Z"
   },
   {
    "duration": 19,
    "start_time": "2023-06-11T12:25:22.696Z"
   },
   {
    "duration": 9,
    "start_time": "2023-06-11T12:25:22.716Z"
   },
   {
    "duration": 22,
    "start_time": "2023-06-11T12:25:22.726Z"
   },
   {
    "duration": 21,
    "start_time": "2023-06-11T12:25:22.750Z"
   },
   {
    "duration": 15,
    "start_time": "2023-06-11T12:25:22.773Z"
   },
   {
    "duration": 30,
    "start_time": "2023-06-11T12:25:22.805Z"
   },
   {
    "duration": 4,
    "start_time": "2023-06-11T12:25:22.837Z"
   },
   {
    "duration": 11,
    "start_time": "2023-06-11T12:25:22.842Z"
   },
   {
    "duration": 17,
    "start_time": "2023-06-11T12:25:22.855Z"
   },
   {
    "duration": 19,
    "start_time": "2023-06-11T12:25:22.874Z"
   },
   {
    "duration": 20,
    "start_time": "2023-06-11T12:25:22.895Z"
   },
   {
    "duration": 30,
    "start_time": "2023-06-11T12:25:22.917Z"
   },
   {
    "duration": 7,
    "start_time": "2023-06-11T12:25:22.951Z"
   },
   {
    "duration": 34,
    "start_time": "2023-06-11T12:25:22.960Z"
   },
   {
    "duration": 31,
    "start_time": "2023-06-11T12:25:22.996Z"
   },
   {
    "duration": 10,
    "start_time": "2023-06-11T12:25:23.030Z"
   },
   {
    "duration": 8,
    "start_time": "2023-06-11T12:25:23.042Z"
   },
   {
    "duration": 14,
    "start_time": "2023-06-11T12:25:23.051Z"
   },
   {
    "duration": 138,
    "start_time": "2023-06-11T12:25:23.066Z"
   },
   {
    "duration": 6,
    "start_time": "2023-06-11T12:25:23.206Z"
   },
   {
    "duration": 15,
    "start_time": "2023-06-11T12:25:23.213Z"
   },
   {
    "duration": 16,
    "start_time": "2023-06-11T12:25:23.229Z"
   },
   {
    "duration": 13,
    "start_time": "2023-06-11T12:25:23.247Z"
   },
   {
    "duration": 350,
    "start_time": "2023-06-11T12:25:23.262Z"
   },
   {
    "duration": 269,
    "start_time": "2023-06-11T12:25:23.614Z"
   },
   {
    "duration": 28,
    "start_time": "2023-06-11T12:25:23.885Z"
   },
   {
    "duration": 17,
    "start_time": "2023-06-11T12:25:23.914Z"
   },
   {
    "duration": 192,
    "start_time": "2023-06-11T12:25:23.932Z"
   },
   {
    "duration": 188,
    "start_time": "2023-06-11T12:25:24.126Z"
   },
   {
    "duration": 17,
    "start_time": "2023-06-11T12:25:24.315Z"
   },
   {
    "duration": 20,
    "start_time": "2023-06-11T12:25:24.334Z"
   },
   {
    "duration": 14,
    "start_time": "2023-06-11T12:25:24.356Z"
   },
   {
    "duration": 232,
    "start_time": "2023-06-11T12:25:24.371Z"
   },
   {
    "duration": 6,
    "start_time": "2023-06-11T12:25:24.605Z"
   },
   {
    "duration": 47,
    "start_time": "2023-06-11T12:25:24.612Z"
   },
   {
    "duration": 5,
    "start_time": "2023-06-11T12:26:07.079Z"
   },
   {
    "duration": 22,
    "start_time": "2023-06-11T12:30:58.373Z"
   },
   {
    "duration": 27,
    "start_time": "2023-06-11T12:31:06.113Z"
   },
   {
    "duration": 4,
    "start_time": "2023-06-11T12:35:00.665Z"
   },
   {
    "duration": 5,
    "start_time": "2023-06-11T12:35:10.765Z"
   },
   {
    "duration": 10,
    "start_time": "2023-06-11T12:35:41.287Z"
   },
   {
    "duration": 7,
    "start_time": "2023-06-11T12:35:46.283Z"
   },
   {
    "duration": 7,
    "start_time": "2023-06-11T12:36:35.366Z"
   },
   {
    "duration": 26,
    "start_time": "2023-06-11T12:36:52.071Z"
   },
   {
    "duration": 16,
    "start_time": "2023-06-11T12:37:16.462Z"
   },
   {
    "duration": 68,
    "start_time": "2023-06-11T12:37:49.259Z"
   },
   {
    "duration": 8,
    "start_time": "2023-06-11T12:38:00.079Z"
   },
   {
    "duration": 3,
    "start_time": "2023-06-11T12:38:08.669Z"
   },
   {
    "duration": 4,
    "start_time": "2023-06-11T12:38:08.674Z"
   },
   {
    "duration": 9,
    "start_time": "2023-06-11T12:38:08.680Z"
   },
   {
    "duration": 4,
    "start_time": "2023-06-11T12:38:08.690Z"
   },
   {
    "duration": 3,
    "start_time": "2023-06-11T12:38:08.696Z"
   },
   {
    "duration": 1452,
    "start_time": "2023-06-11T12:38:08.701Z"
   },
   {
    "duration": 9,
    "start_time": "2023-06-11T12:38:10.155Z"
   },
   {
    "duration": 20,
    "start_time": "2023-06-11T12:38:10.165Z"
   },
   {
    "duration": 16,
    "start_time": "2023-06-11T12:38:10.187Z"
   },
   {
    "duration": 16,
    "start_time": "2023-06-11T12:38:10.204Z"
   },
   {
    "duration": 16,
    "start_time": "2023-06-11T12:38:10.221Z"
   },
   {
    "duration": 8,
    "start_time": "2023-06-11T12:38:10.238Z"
   },
   {
    "duration": 34,
    "start_time": "2023-06-11T12:38:10.247Z"
   },
   {
    "duration": 6,
    "start_time": "2023-06-11T12:38:10.283Z"
   },
   {
    "duration": 22,
    "start_time": "2023-06-11T12:38:10.290Z"
   },
   {
    "duration": 24,
    "start_time": "2023-06-11T12:38:10.314Z"
   },
   {
    "duration": 61,
    "start_time": "2023-06-11T12:38:10.339Z"
   },
   {
    "duration": 8,
    "start_time": "2023-06-11T12:38:10.401Z"
   },
   {
    "duration": 219,
    "start_time": "2023-06-11T12:38:10.411Z"
   },
   {
    "duration": 46,
    "start_time": "2023-06-11T12:38:10.631Z"
   },
   {
    "duration": 31,
    "start_time": "2023-06-11T12:38:10.678Z"
   },
   {
    "duration": 67,
    "start_time": "2023-06-11T12:38:10.710Z"
   },
   {
    "duration": 27,
    "start_time": "2023-06-11T12:38:10.779Z"
   },
   {
    "duration": 7,
    "start_time": "2023-06-11T12:38:10.807Z"
   },
   {
    "duration": 17,
    "start_time": "2023-06-11T12:38:10.815Z"
   },
   {
    "duration": 10,
    "start_time": "2023-06-11T12:38:10.833Z"
   },
   {
    "duration": 18,
    "start_time": "2023-06-11T12:38:10.844Z"
   },
   {
    "duration": 12,
    "start_time": "2023-06-11T12:38:10.864Z"
   },
   {
    "duration": 4,
    "start_time": "2023-06-11T12:38:10.878Z"
   },
   {
    "duration": 4,
    "start_time": "2023-06-11T12:38:10.884Z"
   },
   {
    "duration": 24,
    "start_time": "2023-06-11T12:38:10.889Z"
   },
   {
    "duration": 16,
    "start_time": "2023-06-11T12:38:10.914Z"
   },
   {
    "duration": 14,
    "start_time": "2023-06-11T12:38:10.931Z"
   },
   {
    "duration": 21,
    "start_time": "2023-06-11T12:38:10.946Z"
   },
   {
    "duration": 4,
    "start_time": "2023-06-11T12:38:10.968Z"
   },
   {
    "duration": 11,
    "start_time": "2023-06-11T12:38:10.973Z"
   },
   {
    "duration": 5,
    "start_time": "2023-06-11T12:38:11.007Z"
   },
   {
    "duration": 12,
    "start_time": "2023-06-11T12:38:11.013Z"
   },
   {
    "duration": 8,
    "start_time": "2023-06-11T12:38:11.027Z"
   },
   {
    "duration": 10,
    "start_time": "2023-06-11T12:38:11.038Z"
   },
   {
    "duration": 9,
    "start_time": "2023-06-11T12:38:11.049Z"
   },
   {
    "duration": 18,
    "start_time": "2023-06-11T12:38:11.060Z"
   },
   {
    "duration": 31,
    "start_time": "2023-06-11T12:38:11.080Z"
   },
   {
    "duration": 0,
    "start_time": "2023-06-11T12:38:11.112Z"
   },
   {
    "duration": 0,
    "start_time": "2023-06-11T12:38:11.114Z"
   },
   {
    "duration": 1,
    "start_time": "2023-06-11T12:38:11.114Z"
   },
   {
    "duration": 0,
    "start_time": "2023-06-11T12:38:11.116Z"
   },
   {
    "duration": 0,
    "start_time": "2023-06-11T12:38:11.116Z"
   },
   {
    "duration": 0,
    "start_time": "2023-06-11T12:38:11.117Z"
   },
   {
    "duration": 0,
    "start_time": "2023-06-11T12:38:11.118Z"
   },
   {
    "duration": 0,
    "start_time": "2023-06-11T12:38:11.119Z"
   },
   {
    "duration": 0,
    "start_time": "2023-06-11T12:38:11.120Z"
   },
   {
    "duration": 0,
    "start_time": "2023-06-11T12:38:11.121Z"
   },
   {
    "duration": 0,
    "start_time": "2023-06-11T12:38:11.122Z"
   },
   {
    "duration": 0,
    "start_time": "2023-06-11T12:38:11.123Z"
   },
   {
    "duration": 0,
    "start_time": "2023-06-11T12:38:11.125Z"
   },
   {
    "duration": 0,
    "start_time": "2023-06-11T12:38:11.126Z"
   },
   {
    "duration": 0,
    "start_time": "2023-06-11T12:38:11.127Z"
   },
   {
    "duration": 0,
    "start_time": "2023-06-11T12:38:11.128Z"
   },
   {
    "duration": 0,
    "start_time": "2023-06-11T12:38:11.129Z"
   },
   {
    "duration": 0,
    "start_time": "2023-06-11T12:38:11.131Z"
   },
   {
    "duration": 0,
    "start_time": "2023-06-11T12:38:11.132Z"
   },
   {
    "duration": 0,
    "start_time": "2023-06-11T12:38:11.133Z"
   },
   {
    "duration": 0,
    "start_time": "2023-06-11T12:38:11.134Z"
   },
   {
    "duration": 0,
    "start_time": "2023-06-11T12:38:11.135Z"
   },
   {
    "duration": 0,
    "start_time": "2023-06-11T12:38:11.136Z"
   },
   {
    "duration": 0,
    "start_time": "2023-06-11T12:38:11.137Z"
   },
   {
    "duration": 4,
    "start_time": "2023-06-11T12:38:25.461Z"
   },
   {
    "duration": 3,
    "start_time": "2023-06-11T12:38:41.179Z"
   },
   {
    "duration": 5,
    "start_time": "2023-06-11T12:40:36.479Z"
   },
   {
    "duration": 5,
    "start_time": "2023-06-11T12:40:38.457Z"
   },
   {
    "duration": 8,
    "start_time": "2023-06-11T12:40:39.957Z"
   },
   {
    "duration": 3,
    "start_time": "2023-06-11T12:46:24.489Z"
   },
   {
    "duration": 9,
    "start_time": "2023-06-11T12:46:24.494Z"
   },
   {
    "duration": 19,
    "start_time": "2023-06-11T12:46:24.505Z"
   },
   {
    "duration": 19,
    "start_time": "2023-06-11T12:46:24.526Z"
   },
   {
    "duration": 15,
    "start_time": "2023-06-11T12:46:24.546Z"
   },
   {
    "duration": 1596,
    "start_time": "2023-06-11T12:46:24.562Z"
   },
   {
    "duration": 10,
    "start_time": "2023-06-11T12:46:26.159Z"
   },
   {
    "duration": 11,
    "start_time": "2023-06-11T12:46:26.170Z"
   },
   {
    "duration": 5,
    "start_time": "2023-06-11T12:46:26.182Z"
   },
   {
    "duration": 7,
    "start_time": "2023-06-11T12:46:26.189Z"
   },
   {
    "duration": 16,
    "start_time": "2023-06-11T12:46:26.197Z"
   },
   {
    "duration": 10,
    "start_time": "2023-06-11T12:46:26.215Z"
   },
   {
    "duration": 28,
    "start_time": "2023-06-11T12:46:26.226Z"
   },
   {
    "duration": 6,
    "start_time": "2023-06-11T12:46:26.257Z"
   },
   {
    "duration": 42,
    "start_time": "2023-06-11T12:46:26.265Z"
   },
   {
    "duration": 17,
    "start_time": "2023-06-11T12:46:26.309Z"
   },
   {
    "duration": 57,
    "start_time": "2023-06-11T12:46:26.327Z"
   },
   {
    "duration": 21,
    "start_time": "2023-06-11T12:46:26.386Z"
   },
   {
    "duration": 215,
    "start_time": "2023-06-11T12:46:26.409Z"
   },
   {
    "duration": 55,
    "start_time": "2023-06-11T12:46:26.626Z"
   },
   {
    "duration": 32,
    "start_time": "2023-06-11T12:46:26.683Z"
   },
   {
    "duration": 71,
    "start_time": "2023-06-11T12:46:26.716Z"
   },
   {
    "duration": 23,
    "start_time": "2023-06-11T12:46:26.789Z"
   },
   {
    "duration": 14,
    "start_time": "2023-06-11T12:46:26.813Z"
   },
   {
    "duration": 16,
    "start_time": "2023-06-11T12:46:26.829Z"
   },
   {
    "duration": 12,
    "start_time": "2023-06-11T12:46:26.847Z"
   },
   {
    "duration": 6,
    "start_time": "2023-06-11T12:46:26.861Z"
   },
   {
    "duration": 30,
    "start_time": "2023-06-11T12:46:26.868Z"
   },
   {
    "duration": 16,
    "start_time": "2023-06-11T12:46:26.899Z"
   },
   {
    "duration": 9,
    "start_time": "2023-06-11T12:46:26.916Z"
   },
   {
    "duration": 22,
    "start_time": "2023-06-11T12:46:26.927Z"
   },
   {
    "duration": 17,
    "start_time": "2023-06-11T12:46:26.950Z"
   },
   {
    "duration": 13,
    "start_time": "2023-06-11T12:46:26.969Z"
   },
   {
    "duration": 34,
    "start_time": "2023-06-11T12:46:26.984Z"
   },
   {
    "duration": 3,
    "start_time": "2023-06-11T12:46:27.020Z"
   },
   {
    "duration": 6,
    "start_time": "2023-06-11T12:46:27.025Z"
   },
   {
    "duration": 6,
    "start_time": "2023-06-11T12:46:27.032Z"
   },
   {
    "duration": 15,
    "start_time": "2023-06-11T12:46:27.039Z"
   },
   {
    "duration": 10,
    "start_time": "2023-06-11T12:46:27.056Z"
   },
   {
    "duration": 20,
    "start_time": "2023-06-11T12:46:27.067Z"
   },
   {
    "duration": 4,
    "start_time": "2023-06-11T12:46:27.105Z"
   },
   {
    "duration": 30,
    "start_time": "2023-06-11T12:46:27.110Z"
   },
   {
    "duration": 4,
    "start_time": "2023-06-11T12:46:27.141Z"
   },
   {
    "duration": 10,
    "start_time": "2023-06-11T12:46:27.147Z"
   },
   {
    "duration": 7,
    "start_time": "2023-06-11T12:46:27.159Z"
   },
   {
    "duration": 4,
    "start_time": "2023-06-11T12:46:27.168Z"
   },
   {
    "duration": 13,
    "start_time": "2023-06-11T12:46:27.174Z"
   },
   {
    "duration": 19,
    "start_time": "2023-06-11T12:46:27.188Z"
   },
   {
    "duration": 10,
    "start_time": "2023-06-11T12:46:27.209Z"
   },
   {
    "duration": 4,
    "start_time": "2023-06-11T12:46:27.221Z"
   },
   {
    "duration": 5,
    "start_time": "2023-06-11T12:46:27.226Z"
   },
   {
    "duration": 128,
    "start_time": "2023-06-11T12:46:27.232Z"
   },
   {
    "duration": 4,
    "start_time": "2023-06-11T12:46:27.361Z"
   },
   {
    "duration": 15,
    "start_time": "2023-06-11T12:46:27.366Z"
   },
   {
    "duration": 23,
    "start_time": "2023-06-11T12:46:27.383Z"
   },
   {
    "duration": 8,
    "start_time": "2023-06-11T12:46:27.408Z"
   },
   {
    "duration": 257,
    "start_time": "2023-06-11T12:46:27.417Z"
   },
   {
    "duration": 250,
    "start_time": "2023-06-11T12:46:27.676Z"
   },
   {
    "duration": 14,
    "start_time": "2023-06-11T12:46:27.928Z"
   },
   {
    "duration": 11,
    "start_time": "2023-06-11T12:46:27.944Z"
   },
   {
    "duration": 204,
    "start_time": "2023-06-11T12:46:27.957Z"
   },
   {
    "duration": 202,
    "start_time": "2023-06-11T12:46:28.162Z"
   },
   {
    "duration": 20,
    "start_time": "2023-06-11T12:46:28.366Z"
   },
   {
    "duration": 29,
    "start_time": "2023-06-11T12:46:28.388Z"
   },
   {
    "duration": 9,
    "start_time": "2023-06-11T12:46:28.419Z"
   },
   {
    "duration": 65,
    "start_time": "2023-06-11T12:46:28.429Z"
   },
   {
    "duration": 14,
    "start_time": "2023-06-11T12:46:28.495Z"
   },
   {
    "duration": 56,
    "start_time": "2023-06-11T12:46:28.511Z"
   },
   {
    "duration": 20,
    "start_time": "2023-06-11T12:47:34.453Z"
   },
   {
    "duration": 5,
    "start_time": "2023-06-11T12:47:51.162Z"
   },
   {
    "duration": 24,
    "start_time": "2023-06-11T12:49:32.854Z"
   },
   {
    "duration": 1212,
    "start_time": "2023-06-11T12:49:48.218Z"
   },
   {
    "duration": 4,
    "start_time": "2023-06-11T12:49:49.432Z"
   },
   {
    "duration": 5,
    "start_time": "2023-06-11T12:49:49.437Z"
   },
   {
    "duration": 4,
    "start_time": "2023-06-11T12:49:49.444Z"
   },
   {
    "duration": 9,
    "start_time": "2023-06-11T12:49:49.450Z"
   },
   {
    "duration": 1327,
    "start_time": "2023-06-11T12:49:49.461Z"
   },
   {
    "duration": 10,
    "start_time": "2023-06-11T12:49:50.790Z"
   },
   {
    "duration": 27,
    "start_time": "2023-06-11T12:49:50.801Z"
   },
   {
    "duration": 17,
    "start_time": "2023-06-11T12:49:50.830Z"
   },
   {
    "duration": 18,
    "start_time": "2023-06-11T12:49:50.850Z"
   },
   {
    "duration": 24,
    "start_time": "2023-06-11T12:49:50.869Z"
   },
   {
    "duration": 48,
    "start_time": "2023-06-11T12:49:50.894Z"
   },
   {
    "duration": 55,
    "start_time": "2023-06-11T12:49:50.944Z"
   },
   {
    "duration": 6,
    "start_time": "2023-06-11T12:49:51.000Z"
   },
   {
    "duration": 33,
    "start_time": "2023-06-11T12:49:51.008Z"
   },
   {
    "duration": 12,
    "start_time": "2023-06-11T12:49:51.043Z"
   },
   {
    "duration": 59,
    "start_time": "2023-06-11T12:49:51.056Z"
   },
   {
    "duration": 8,
    "start_time": "2023-06-11T12:49:51.117Z"
   },
   {
    "duration": 247,
    "start_time": "2023-06-11T12:49:51.126Z"
   },
   {
    "duration": 48,
    "start_time": "2023-06-11T12:49:51.375Z"
   },
   {
    "duration": 34,
    "start_time": "2023-06-11T12:49:51.424Z"
   },
   {
    "duration": 80,
    "start_time": "2023-06-11T12:49:51.460Z"
   },
   {
    "duration": 10,
    "start_time": "2023-06-11T12:49:51.541Z"
   },
   {
    "duration": 18,
    "start_time": "2023-06-11T12:49:51.553Z"
   },
   {
    "duration": 17,
    "start_time": "2023-06-11T12:49:51.573Z"
   },
   {
    "duration": 37,
    "start_time": "2023-06-11T12:49:51.591Z"
   },
   {
    "duration": 19,
    "start_time": "2023-06-11T12:49:51.629Z"
   },
   {
    "duration": 12,
    "start_time": "2023-06-11T12:49:51.651Z"
   },
   {
    "duration": 11,
    "start_time": "2023-06-11T12:49:51.664Z"
   },
   {
    "duration": 11,
    "start_time": "2023-06-11T12:49:51.677Z"
   },
   {
    "duration": 27,
    "start_time": "2023-06-11T12:49:51.689Z"
   },
   {
    "duration": 24,
    "start_time": "2023-06-11T12:49:51.717Z"
   },
   {
    "duration": 37,
    "start_time": "2023-06-11T12:49:51.743Z"
   },
   {
    "duration": 23,
    "start_time": "2023-06-11T12:49:51.782Z"
   },
   {
    "duration": 3,
    "start_time": "2023-06-11T12:49:51.807Z"
   },
   {
    "duration": 27,
    "start_time": "2023-06-11T12:49:51.812Z"
   },
   {
    "duration": 12,
    "start_time": "2023-06-11T12:49:51.841Z"
   },
   {
    "duration": 14,
    "start_time": "2023-06-11T12:49:51.855Z"
   },
   {
    "duration": 12,
    "start_time": "2023-06-11T12:49:51.870Z"
   },
   {
    "duration": 29,
    "start_time": "2023-06-11T12:49:51.884Z"
   },
   {
    "duration": 19,
    "start_time": "2023-06-11T12:49:51.914Z"
   },
   {
    "duration": 59,
    "start_time": "2023-06-11T12:49:51.935Z"
   },
   {
    "duration": 7,
    "start_time": "2023-06-11T12:49:51.996Z"
   },
   {
    "duration": 24,
    "start_time": "2023-06-11T12:49:52.004Z"
   },
   {
    "duration": 29,
    "start_time": "2023-06-11T12:49:52.029Z"
   },
   {
    "duration": 159,
    "start_time": "2023-06-11T12:49:52.060Z"
   },
   {
    "duration": 4,
    "start_time": "2023-06-11T12:49:52.221Z"
   },
   {
    "duration": 42,
    "start_time": "2023-06-11T12:49:52.227Z"
   },
   {
    "duration": 24,
    "start_time": "2023-06-11T12:49:52.270Z"
   },
   {
    "duration": 22,
    "start_time": "2023-06-11T12:49:52.295Z"
   },
   {
    "duration": 407,
    "start_time": "2023-06-11T12:49:52.318Z"
   },
   {
    "duration": 241,
    "start_time": "2023-06-11T12:49:52.727Z"
   },
   {
    "duration": 17,
    "start_time": "2023-06-11T12:49:52.970Z"
   },
   {
    "duration": 42,
    "start_time": "2023-06-11T12:49:52.989Z"
   },
   {
    "duration": 205,
    "start_time": "2023-06-11T12:49:53.033Z"
   },
   {
    "duration": 185,
    "start_time": "2023-06-11T12:49:53.240Z"
   },
   {
    "duration": 17,
    "start_time": "2023-06-11T12:49:53.427Z"
   },
   {
    "duration": 33,
    "start_time": "2023-06-11T12:49:53.445Z"
   },
   {
    "duration": 11,
    "start_time": "2023-06-11T12:49:53.479Z"
   },
   {
    "duration": 231,
    "start_time": "2023-06-11T12:49:53.492Z"
   },
   {
    "duration": 7,
    "start_time": "2023-06-11T12:49:53.725Z"
   },
   {
    "duration": 103,
    "start_time": "2023-06-11T12:49:53.733Z"
   },
   {
    "duration": 154,
    "start_time": "2023-06-11T12:51:20.366Z"
   },
   {
    "duration": 17,
    "start_time": "2023-06-11T12:51:45.919Z"
   },
   {
    "duration": 17,
    "start_time": "2023-06-11T12:51:59.071Z"
   },
   {
    "duration": 25,
    "start_time": "2023-06-11T12:52:18.101Z"
   },
   {
    "duration": 7,
    "start_time": "2023-06-11T12:53:03.683Z"
   },
   {
    "duration": 16,
    "start_time": "2023-06-11T12:53:06.374Z"
   },
   {
    "duration": 1056,
    "start_time": "2023-06-11T12:55:11.256Z"
   },
   {
    "duration": 3,
    "start_time": "2023-06-11T12:55:12.314Z"
   },
   {
    "duration": 6,
    "start_time": "2023-06-11T12:55:12.318Z"
   },
   {
    "duration": 10,
    "start_time": "2023-06-11T12:55:12.326Z"
   },
   {
    "duration": 7,
    "start_time": "2023-06-11T12:55:12.338Z"
   },
   {
    "duration": 1246,
    "start_time": "2023-06-11T12:55:12.347Z"
   },
   {
    "duration": 9,
    "start_time": "2023-06-11T12:55:13.595Z"
   },
   {
    "duration": 16,
    "start_time": "2023-06-11T12:55:13.606Z"
   },
   {
    "duration": 10,
    "start_time": "2023-06-11T12:55:13.624Z"
   },
   {
    "duration": 25,
    "start_time": "2023-06-11T12:55:13.636Z"
   },
   {
    "duration": 24,
    "start_time": "2023-06-11T12:55:13.663Z"
   },
   {
    "duration": 6,
    "start_time": "2023-06-11T12:55:13.689Z"
   },
   {
    "duration": 39,
    "start_time": "2023-06-11T12:55:13.697Z"
   },
   {
    "duration": 5,
    "start_time": "2023-06-11T12:55:13.739Z"
   },
   {
    "duration": 12,
    "start_time": "2023-06-11T12:55:13.746Z"
   },
   {
    "duration": 37,
    "start_time": "2023-06-11T12:55:13.759Z"
   },
   {
    "duration": 52,
    "start_time": "2023-06-11T12:55:13.797Z"
   },
   {
    "duration": 7,
    "start_time": "2023-06-11T12:55:13.851Z"
   },
   {
    "duration": 1232,
    "start_time": "2023-06-11T19:45:46.171Z"
   },
   {
    "duration": 3,
    "start_time": "2023-06-11T19:45:47.406Z"
   },
   {
    "duration": 12,
    "start_time": "2023-06-11T19:45:47.410Z"
   },
   {
    "duration": 4,
    "start_time": "2023-06-11T19:45:47.424Z"
   },
   {
    "duration": 4,
    "start_time": "2023-06-11T19:45:47.430Z"
   },
   {
    "duration": 1585,
    "start_time": "2023-06-11T19:45:47.435Z"
   },
   {
    "duration": 10,
    "start_time": "2023-06-11T19:45:49.022Z"
   },
   {
    "duration": 18,
    "start_time": "2023-06-11T19:45:49.034Z"
   },
   {
    "duration": 6,
    "start_time": "2023-06-11T19:45:49.054Z"
   },
   {
    "duration": 8,
    "start_time": "2023-06-11T19:45:49.063Z"
   },
   {
    "duration": 23,
    "start_time": "2023-06-11T19:45:49.073Z"
   },
   {
    "duration": 10,
    "start_time": "2023-06-11T19:45:49.097Z"
   },
   {
    "duration": 74,
    "start_time": "2023-06-11T19:45:49.108Z"
   },
   {
    "duration": 10,
    "start_time": "2023-06-11T19:45:49.184Z"
   },
   {
    "duration": 13,
    "start_time": "2023-06-11T19:45:49.196Z"
   },
   {
    "duration": 21,
    "start_time": "2023-06-11T19:45:49.211Z"
   },
   {
    "duration": 55,
    "start_time": "2023-06-11T19:45:49.234Z"
   },
   {
    "duration": 9,
    "start_time": "2023-06-11T19:45:49.291Z"
   },
   {
    "duration": 287,
    "start_time": "2023-06-11T19:45:49.302Z"
   },
   {
    "duration": 47,
    "start_time": "2023-06-11T19:45:49.590Z"
   },
   {
    "duration": 37,
    "start_time": "2023-06-11T19:45:49.639Z"
   },
   {
    "duration": 100,
    "start_time": "2023-06-11T19:45:49.678Z"
   },
   {
    "duration": 13,
    "start_time": "2023-06-11T19:45:49.780Z"
   },
   {
    "duration": 14,
    "start_time": "2023-06-11T19:45:49.795Z"
   },
   {
    "duration": 14,
    "start_time": "2023-06-11T19:45:49.811Z"
   },
   {
    "duration": 29,
    "start_time": "2023-06-11T19:45:49.827Z"
   },
   {
    "duration": 8,
    "start_time": "2023-06-11T19:45:49.859Z"
   },
   {
    "duration": 7,
    "start_time": "2023-06-11T19:45:49.871Z"
   },
   {
    "duration": 6,
    "start_time": "2023-06-11T19:45:49.880Z"
   },
   {
    "duration": 16,
    "start_time": "2023-06-11T19:45:49.887Z"
   },
   {
    "duration": 19,
    "start_time": "2023-06-11T19:45:49.905Z"
   },
   {
    "duration": 55,
    "start_time": "2023-06-11T19:45:49.925Z"
   },
   {
    "duration": 17,
    "start_time": "2023-06-11T19:45:49.982Z"
   },
   {
    "duration": 28,
    "start_time": "2023-06-11T19:45:50.000Z"
   },
   {
    "duration": 35,
    "start_time": "2023-06-11T19:45:50.029Z"
   },
   {
    "duration": 28,
    "start_time": "2023-06-11T19:45:50.067Z"
   },
   {
    "duration": 12,
    "start_time": "2023-06-11T19:45:50.097Z"
   },
   {
    "duration": 14,
    "start_time": "2023-06-11T19:45:50.111Z"
   },
   {
    "duration": 10,
    "start_time": "2023-06-11T19:45:50.127Z"
   },
   {
    "duration": 23,
    "start_time": "2023-06-11T19:45:50.138Z"
   },
   {
    "duration": 13,
    "start_time": "2023-06-11T19:45:50.164Z"
   },
   {
    "duration": 30,
    "start_time": "2023-06-11T19:45:50.180Z"
   },
   {
    "duration": 10,
    "start_time": "2023-06-11T19:45:50.212Z"
   },
   {
    "duration": 5,
    "start_time": "2023-06-11T19:45:50.224Z"
   },
   {
    "duration": 36,
    "start_time": "2023-06-11T19:45:50.231Z"
   },
   {
    "duration": 169,
    "start_time": "2023-06-11T19:45:50.270Z"
   },
   {
    "duration": 5,
    "start_time": "2023-06-11T19:45:50.441Z"
   },
   {
    "duration": 16,
    "start_time": "2023-06-11T19:45:50.458Z"
   },
   {
    "duration": 19,
    "start_time": "2023-06-11T19:45:50.476Z"
   },
   {
    "duration": 10,
    "start_time": "2023-06-11T19:45:50.497Z"
   },
   {
    "duration": 460,
    "start_time": "2023-06-11T19:45:50.508Z"
   },
   {
    "duration": 317,
    "start_time": "2023-06-11T19:45:50.971Z"
   },
   {
    "duration": 19,
    "start_time": "2023-06-11T19:45:51.290Z"
   },
   {
    "duration": 65,
    "start_time": "2023-06-11T19:45:51.311Z"
   },
   {
    "duration": 237,
    "start_time": "2023-06-11T19:45:51.379Z"
   },
   {
    "duration": 246,
    "start_time": "2023-06-11T19:45:51.617Z"
   },
   {
    "duration": 24,
    "start_time": "2023-06-11T19:45:51.865Z"
   },
   {
    "duration": 24,
    "start_time": "2023-06-11T19:45:51.892Z"
   },
   {
    "duration": 7,
    "start_time": "2023-06-11T19:45:51.918Z"
   },
   {
    "duration": 365,
    "start_time": "2023-06-11T19:45:51.927Z"
   },
   {
    "duration": 8,
    "start_time": "2023-06-11T19:45:52.294Z"
   },
   {
    "duration": 107,
    "start_time": "2023-06-11T19:45:52.303Z"
   },
   {
    "duration": 4,
    "start_time": "2023-06-11T19:47:21.327Z"
   },
   {
    "duration": 4,
    "start_time": "2023-06-11T19:47:27.823Z"
   },
   {
    "duration": 4,
    "start_time": "2023-06-11T20:27:51.551Z"
   },
   {
    "duration": 4,
    "start_time": "2023-06-11T20:29:33.044Z"
   },
   {
    "duration": 57,
    "start_time": "2023-06-12T07:37:01.525Z"
   },
   {
    "duration": 14,
    "start_time": "2023-06-12T07:37:05.510Z"
   },
   {
    "duration": 1269,
    "start_time": "2023-06-12T07:37:09.741Z"
   },
   {
    "duration": 6,
    "start_time": "2023-06-12T07:37:11.012Z"
   },
   {
    "duration": 11,
    "start_time": "2023-06-12T07:37:11.023Z"
   },
   {
    "duration": 12,
    "start_time": "2023-06-12T07:37:11.035Z"
   },
   {
    "duration": 7,
    "start_time": "2023-06-12T07:37:11.049Z"
   },
   {
    "duration": 2222,
    "start_time": "2023-06-12T07:37:11.057Z"
   },
   {
    "duration": 29,
    "start_time": "2023-06-12T07:37:13.281Z"
   },
   {
    "duration": 26,
    "start_time": "2023-06-12T07:37:13.314Z"
   },
   {
    "duration": 7,
    "start_time": "2023-06-12T07:37:13.342Z"
   },
   {
    "duration": 11,
    "start_time": "2023-06-12T07:37:13.351Z"
   },
   {
    "duration": 16,
    "start_time": "2023-06-12T07:37:13.363Z"
   },
   {
    "duration": 39,
    "start_time": "2023-06-12T07:37:13.380Z"
   },
   {
    "duration": 40,
    "start_time": "2023-06-12T07:37:13.421Z"
   },
   {
    "duration": 6,
    "start_time": "2023-06-12T07:37:13.464Z"
   },
   {
    "duration": 23,
    "start_time": "2023-06-12T07:37:13.471Z"
   },
   {
    "duration": 45,
    "start_time": "2023-06-12T07:37:13.495Z"
   },
   {
    "duration": 55,
    "start_time": "2023-06-12T07:37:13.541Z"
   },
   {
    "duration": 32,
    "start_time": "2023-06-12T07:37:13.600Z"
   },
   {
    "duration": 224,
    "start_time": "2023-06-12T07:37:13.633Z"
   },
   {
    "duration": 70,
    "start_time": "2023-06-12T07:37:13.859Z"
   },
   {
    "duration": 30,
    "start_time": "2023-06-12T07:37:13.931Z"
   },
   {
    "duration": 101,
    "start_time": "2023-06-12T07:37:13.963Z"
   },
   {
    "duration": 16,
    "start_time": "2023-06-12T07:37:14.066Z"
   },
   {
    "duration": 51,
    "start_time": "2023-06-12T07:37:14.083Z"
   },
   {
    "duration": 13,
    "start_time": "2023-06-12T07:37:14.135Z"
   },
   {
    "duration": 10,
    "start_time": "2023-06-12T07:37:14.150Z"
   },
   {
    "duration": 6,
    "start_time": "2023-06-12T07:37:14.161Z"
   },
   {
    "duration": 9,
    "start_time": "2023-06-12T07:37:14.168Z"
   },
   {
    "duration": 4,
    "start_time": "2023-06-12T07:37:14.178Z"
   },
   {
    "duration": 55,
    "start_time": "2023-06-12T07:37:14.183Z"
   },
   {
    "duration": 31,
    "start_time": "2023-06-12T07:37:14.240Z"
   },
   {
    "duration": 34,
    "start_time": "2023-06-12T07:37:14.272Z"
   },
   {
    "duration": 50,
    "start_time": "2023-06-12T07:37:14.307Z"
   },
   {
    "duration": 38,
    "start_time": "2023-06-12T07:37:14.359Z"
   },
   {
    "duration": 4,
    "start_time": "2023-06-12T07:37:14.409Z"
   },
   {
    "duration": 30,
    "start_time": "2023-06-12T07:37:14.414Z"
   },
   {
    "duration": 10,
    "start_time": "2023-06-12T07:37:14.446Z"
   },
   {
    "duration": 18,
    "start_time": "2023-06-12T07:37:14.457Z"
   },
   {
    "duration": 18,
    "start_time": "2023-06-12T07:37:14.476Z"
   },
   {
    "duration": 45,
    "start_time": "2023-06-12T07:37:14.495Z"
   },
   {
    "duration": 5,
    "start_time": "2023-06-12T07:37:14.544Z"
   },
   {
    "duration": 49,
    "start_time": "2023-06-12T07:37:14.551Z"
   },
   {
    "duration": 14,
    "start_time": "2023-06-12T07:37:14.611Z"
   },
   {
    "duration": 11,
    "start_time": "2023-06-12T07:37:14.627Z"
   },
   {
    "duration": 16,
    "start_time": "2023-06-12T07:37:14.640Z"
   },
   {
    "duration": 139,
    "start_time": "2023-06-12T07:37:14.657Z"
   },
   {
    "duration": 12,
    "start_time": "2023-06-12T07:37:14.807Z"
   },
   {
    "duration": 20,
    "start_time": "2023-06-12T07:37:14.827Z"
   },
   {
    "duration": 30,
    "start_time": "2023-06-12T07:37:14.849Z"
   },
   {
    "duration": 23,
    "start_time": "2023-06-12T07:37:14.880Z"
   },
   {
    "duration": 421,
    "start_time": "2023-06-12T07:37:14.907Z"
   },
   {
    "duration": 282,
    "start_time": "2023-06-12T07:37:15.331Z"
   },
   {
    "duration": 20,
    "start_time": "2023-06-12T07:37:15.615Z"
   },
   {
    "duration": 16,
    "start_time": "2023-06-12T07:37:15.637Z"
   },
   {
    "duration": 251,
    "start_time": "2023-06-12T07:37:15.655Z"
   },
   {
    "duration": 243,
    "start_time": "2023-06-12T07:37:15.919Z"
   },
   {
    "duration": 29,
    "start_time": "2023-06-12T07:37:16.165Z"
   },
   {
    "duration": 24,
    "start_time": "2023-06-12T07:37:16.195Z"
   },
   {
    "duration": 25,
    "start_time": "2023-06-12T07:37:16.220Z"
   },
   {
    "duration": 325,
    "start_time": "2023-06-12T07:37:16.247Z"
   },
   {
    "duration": 5,
    "start_time": "2023-06-12T07:37:16.574Z"
   },
   {
    "duration": 119,
    "start_time": "2023-06-12T07:37:16.580Z"
   },
   {
    "duration": 9,
    "start_time": "2023-06-12T07:38:29.613Z"
   },
   {
    "duration": 11,
    "start_time": "2023-06-12T07:38:29.627Z"
   },
   {
    "duration": 16,
    "start_time": "2023-06-12T07:38:29.640Z"
   },
   {
    "duration": 9,
    "start_time": "2023-06-12T07:38:29.658Z"
   },
   {
    "duration": 6,
    "start_time": "2023-06-12T07:38:29.668Z"
   },
   {
    "duration": 1175,
    "start_time": "2023-06-12T07:38:29.675Z"
   },
   {
    "duration": 11,
    "start_time": "2023-06-12T07:38:30.851Z"
   },
   {
    "duration": 106,
    "start_time": "2023-06-12T07:38:30.864Z"
   },
   {
    "duration": 75,
    "start_time": "2023-06-12T07:38:30.972Z"
   },
   {
    "duration": 93,
    "start_time": "2023-06-12T07:38:31.049Z"
   },
   {
    "duration": 62,
    "start_time": "2023-06-12T07:38:31.144Z"
   },
   {
    "duration": 48,
    "start_time": "2023-06-12T07:38:31.219Z"
   },
   {
    "duration": 93,
    "start_time": "2023-06-12T07:38:31.268Z"
   },
   {
    "duration": 62,
    "start_time": "2023-06-12T07:38:31.363Z"
   },
   {
    "duration": 44,
    "start_time": "2023-06-12T07:38:31.427Z"
   },
   {
    "duration": 100,
    "start_time": "2023-06-12T07:38:31.473Z"
   },
   {
    "duration": 157,
    "start_time": "2023-06-12T07:38:31.575Z"
   },
   {
    "duration": 10,
    "start_time": "2023-06-12T07:38:31.734Z"
   },
   {
    "duration": 337,
    "start_time": "2023-06-12T07:38:31.746Z"
   },
   {
    "duration": 62,
    "start_time": "2023-06-12T07:38:32.110Z"
   },
   {
    "duration": 188,
    "start_time": "2023-06-12T07:38:32.173Z"
   },
   {
    "duration": 140,
    "start_time": "2023-06-12T07:38:32.363Z"
   },
   {
    "duration": 34,
    "start_time": "2023-06-12T07:38:32.519Z"
   },
   {
    "duration": 20,
    "start_time": "2023-06-12T07:38:32.555Z"
   },
   {
    "duration": 42,
    "start_time": "2023-06-12T07:38:32.577Z"
   },
   {
    "duration": 27,
    "start_time": "2023-06-12T07:38:32.620Z"
   },
   {
    "duration": 23,
    "start_time": "2023-06-12T07:38:32.648Z"
   },
   {
    "duration": 49,
    "start_time": "2023-06-12T07:38:32.674Z"
   },
   {
    "duration": 20,
    "start_time": "2023-06-12T07:38:32.724Z"
   },
   {
    "duration": 92,
    "start_time": "2023-06-12T07:38:32.745Z"
   },
   {
    "duration": 35,
    "start_time": "2023-06-12T07:38:32.839Z"
   },
   {
    "duration": 25,
    "start_time": "2023-06-12T07:38:32.875Z"
   },
   {
    "duration": 66,
    "start_time": "2023-06-12T07:38:32.906Z"
   },
   {
    "duration": 53,
    "start_time": "2023-06-12T07:38:32.973Z"
   },
   {
    "duration": 41,
    "start_time": "2023-06-12T07:38:33.028Z"
   },
   {
    "duration": 65,
    "start_time": "2023-06-12T07:38:33.071Z"
   },
   {
    "duration": 9,
    "start_time": "2023-06-12T07:38:33.138Z"
   },
   {
    "duration": 45,
    "start_time": "2023-06-12T07:38:33.148Z"
   },
   {
    "duration": 41,
    "start_time": "2023-06-12T07:38:33.194Z"
   },
   {
    "duration": 38,
    "start_time": "2023-06-12T07:38:33.237Z"
   },
   {
    "duration": 39,
    "start_time": "2023-06-12T07:38:33.277Z"
   },
   {
    "duration": 32,
    "start_time": "2023-06-12T07:38:33.325Z"
   },
   {
    "duration": 6,
    "start_time": "2023-06-12T07:38:33.359Z"
   },
   {
    "duration": 14,
    "start_time": "2023-06-12T07:38:33.367Z"
   },
   {
    "duration": 61,
    "start_time": "2023-06-12T07:38:33.382Z"
   },
   {
    "duration": 187,
    "start_time": "2023-06-12T07:38:33.445Z"
   },
   {
    "duration": 5,
    "start_time": "2023-06-12T07:38:33.635Z"
   },
   {
    "duration": 15,
    "start_time": "2023-06-12T07:38:33.642Z"
   },
   {
    "duration": 16,
    "start_time": "2023-06-12T07:38:33.659Z"
   },
   {
    "duration": 63,
    "start_time": "2023-06-12T07:38:33.677Z"
   },
   {
    "duration": 336,
    "start_time": "2023-06-12T07:38:33.742Z"
   },
   {
    "duration": 287,
    "start_time": "2023-06-12T07:38:34.079Z"
   },
   {
    "duration": 30,
    "start_time": "2023-06-12T07:38:34.368Z"
   },
   {
    "duration": 24,
    "start_time": "2023-06-12T07:38:34.420Z"
   },
   {
    "duration": 259,
    "start_time": "2023-06-12T07:38:34.445Z"
   },
   {
    "duration": 209,
    "start_time": "2023-06-12T07:38:34.711Z"
   },
   {
    "duration": 22,
    "start_time": "2023-06-12T07:38:34.921Z"
   },
   {
    "duration": 25,
    "start_time": "2023-06-12T07:38:34.945Z"
   },
   {
    "duration": 34,
    "start_time": "2023-06-12T07:38:34.972Z"
   },
   {
    "duration": 61,
    "start_time": "2023-06-12T07:38:35.008Z"
   },
   {
    "duration": 11,
    "start_time": "2023-06-12T07:38:35.071Z"
   },
   {
    "duration": 98,
    "start_time": "2023-06-12T07:38:35.084Z"
   },
   {
    "duration": 1185,
    "start_time": "2023-06-12T07:38:58.140Z"
   },
   {
    "duration": 4,
    "start_time": "2023-06-12T07:38:59.331Z"
   },
   {
    "duration": 12,
    "start_time": "2023-06-12T07:38:59.337Z"
   },
   {
    "duration": 12,
    "start_time": "2023-06-12T07:38:59.351Z"
   },
   {
    "duration": 17,
    "start_time": "2023-06-12T07:38:59.365Z"
   },
   {
    "duration": 1176,
    "start_time": "2023-06-12T07:38:59.383Z"
   },
   {
    "duration": 9,
    "start_time": "2023-06-12T07:39:00.560Z"
   },
   {
    "duration": 79,
    "start_time": "2023-06-12T07:39:00.570Z"
   },
   {
    "duration": 96,
    "start_time": "2023-06-12T07:39:00.651Z"
   },
   {
    "duration": 76,
    "start_time": "2023-06-12T07:39:00.750Z"
   },
   {
    "duration": 44,
    "start_time": "2023-06-12T07:39:00.829Z"
   },
   {
    "duration": 74,
    "start_time": "2023-06-12T07:39:00.875Z"
   },
   {
    "duration": 179,
    "start_time": "2023-06-12T07:39:00.951Z"
   },
   {
    "duration": 66,
    "start_time": "2023-06-12T07:39:01.132Z"
   },
   {
    "duration": 137,
    "start_time": "2023-06-12T07:39:01.203Z"
   },
   {
    "duration": 127,
    "start_time": "2023-06-12T07:39:01.341Z"
   },
   {
    "duration": 166,
    "start_time": "2023-06-12T07:39:01.469Z"
   },
   {
    "duration": 95,
    "start_time": "2023-06-12T07:39:01.637Z"
   },
   {
    "duration": 388,
    "start_time": "2023-06-12T07:39:01.735Z"
   },
   {
    "duration": 67,
    "start_time": "2023-06-12T07:39:02.124Z"
   },
   {
    "duration": 71,
    "start_time": "2023-06-12T07:39:02.192Z"
   },
   {
    "duration": 183,
    "start_time": "2023-06-12T07:39:02.264Z"
   },
   {
    "duration": 17,
    "start_time": "2023-06-12T07:39:02.450Z"
   },
   {
    "duration": 25,
    "start_time": "2023-06-12T07:39:02.469Z"
   },
   {
    "duration": 53,
    "start_time": "2023-06-12T07:39:02.495Z"
   },
   {
    "duration": 8,
    "start_time": "2023-06-12T07:39:02.550Z"
   },
   {
    "duration": 7,
    "start_time": "2023-06-12T07:39:02.559Z"
   },
   {
    "duration": 5,
    "start_time": "2023-06-12T07:39:02.569Z"
   },
   {
    "duration": 63,
    "start_time": "2023-06-12T07:39:02.575Z"
   },
   {
    "duration": 9,
    "start_time": "2023-06-12T07:39:02.639Z"
   },
   {
    "duration": 28,
    "start_time": "2023-06-12T07:39:02.650Z"
   },
   {
    "duration": 39,
    "start_time": "2023-06-12T07:39:02.680Z"
   },
   {
    "duration": 40,
    "start_time": "2023-06-12T07:39:02.721Z"
   },
   {
    "duration": 65,
    "start_time": "2023-06-12T07:39:02.762Z"
   },
   {
    "duration": 19,
    "start_time": "2023-06-12T07:39:02.829Z"
   },
   {
    "duration": 11,
    "start_time": "2023-06-12T07:39:02.849Z"
   },
   {
    "duration": 16,
    "start_time": "2023-06-12T07:39:02.862Z"
   },
   {
    "duration": 43,
    "start_time": "2023-06-12T07:39:02.879Z"
   },
   {
    "duration": 37,
    "start_time": "2023-06-12T07:39:02.929Z"
   },
   {
    "duration": 46,
    "start_time": "2023-06-12T07:39:02.967Z"
   },
   {
    "duration": 21,
    "start_time": "2023-06-12T07:39:03.015Z"
   },
   {
    "duration": 26,
    "start_time": "2023-06-12T07:39:03.038Z"
   },
   {
    "duration": 7,
    "start_time": "2023-06-12T07:39:03.066Z"
   },
   {
    "duration": 58,
    "start_time": "2023-06-12T07:39:03.075Z"
   },
   {
    "duration": 10,
    "start_time": "2023-06-12T07:39:03.135Z"
   },
   {
    "duration": 151,
    "start_time": "2023-06-12T07:39:03.147Z"
   },
   {
    "duration": 5,
    "start_time": "2023-06-12T07:39:03.299Z"
   },
   {
    "duration": 44,
    "start_time": "2023-06-12T07:39:03.305Z"
   },
   {
    "duration": 28,
    "start_time": "2023-06-12T07:39:03.351Z"
   },
   {
    "duration": 22,
    "start_time": "2023-06-12T07:39:03.380Z"
   },
   {
    "duration": 438,
    "start_time": "2023-06-12T07:39:03.403Z"
   },
   {
    "duration": 279,
    "start_time": "2023-06-12T07:39:03.842Z"
   },
   {
    "duration": 17,
    "start_time": "2023-06-12T07:39:04.123Z"
   },
   {
    "duration": 11,
    "start_time": "2023-06-12T07:39:04.141Z"
   },
   {
    "duration": 220,
    "start_time": "2023-06-12T07:39:04.153Z"
   },
   {
    "duration": 201,
    "start_time": "2023-06-12T07:39:04.375Z"
   },
   {
    "duration": 38,
    "start_time": "2023-06-12T07:39:04.577Z"
   },
   {
    "duration": 31,
    "start_time": "2023-06-12T07:39:04.616Z"
   },
   {
    "duration": 11,
    "start_time": "2023-06-12T07:39:04.648Z"
   },
   {
    "duration": 251,
    "start_time": "2023-06-12T07:39:04.661Z"
   },
   {
    "duration": 11,
    "start_time": "2023-06-12T07:39:04.914Z"
   },
   {
    "duration": 83,
    "start_time": "2023-06-12T07:39:04.927Z"
   },
   {
    "duration": 1439,
    "start_time": "2023-06-13T08:49:14.851Z"
   },
   {
    "duration": 3,
    "start_time": "2023-06-13T08:49:16.292Z"
   },
   {
    "duration": 49,
    "start_time": "2023-06-13T08:49:16.296Z"
   },
   {
    "duration": 16,
    "start_time": "2023-06-13T08:49:16.347Z"
   },
   {
    "duration": 42,
    "start_time": "2023-06-13T08:49:16.364Z"
   },
   {
    "duration": 1297,
    "start_time": "2023-06-13T08:49:16.408Z"
   },
   {
    "duration": 11,
    "start_time": "2023-06-13T08:49:17.707Z"
   },
   {
    "duration": 16,
    "start_time": "2023-06-13T08:49:17.720Z"
   },
   {
    "duration": 5,
    "start_time": "2023-06-13T08:49:17.738Z"
   },
   {
    "duration": 7,
    "start_time": "2023-06-13T08:49:17.745Z"
   },
   {
    "duration": 17,
    "start_time": "2023-06-13T08:49:17.753Z"
   },
   {
    "duration": 11,
    "start_time": "2023-06-13T08:49:17.771Z"
   },
   {
    "duration": 33,
    "start_time": "2023-06-13T08:49:17.783Z"
   },
   {
    "duration": 6,
    "start_time": "2023-06-13T08:49:17.818Z"
   },
   {
    "duration": 13,
    "start_time": "2023-06-13T08:49:17.825Z"
   },
   {
    "duration": 31,
    "start_time": "2023-06-13T08:49:17.840Z"
   },
   {
    "duration": 51,
    "start_time": "2023-06-13T08:49:17.873Z"
   },
   {
    "duration": 7,
    "start_time": "2023-06-13T08:49:17.926Z"
   },
   {
    "duration": 267,
    "start_time": "2023-06-13T08:49:17.935Z"
   },
   {
    "duration": 44,
    "start_time": "2023-06-13T08:49:18.204Z"
   },
   {
    "duration": 37,
    "start_time": "2023-06-13T08:49:18.250Z"
   },
   {
    "duration": 126,
    "start_time": "2023-06-13T08:49:18.288Z"
   },
   {
    "duration": 12,
    "start_time": "2023-06-13T08:49:18.416Z"
   },
   {
    "duration": 23,
    "start_time": "2023-06-13T08:49:18.429Z"
   },
   {
    "duration": 22,
    "start_time": "2023-06-13T08:49:18.454Z"
   },
   {
    "duration": 18,
    "start_time": "2023-06-13T08:49:18.478Z"
   },
   {
    "duration": 18,
    "start_time": "2023-06-13T08:49:18.497Z"
   },
   {
    "duration": 10,
    "start_time": "2023-06-13T08:49:18.518Z"
   },
   {
    "duration": 19,
    "start_time": "2023-06-13T08:49:18.529Z"
   },
   {
    "duration": 13,
    "start_time": "2023-06-13T08:49:18.549Z"
   },
   {
    "duration": 25,
    "start_time": "2023-06-13T08:49:18.563Z"
   },
   {
    "duration": 34,
    "start_time": "2023-06-13T08:49:18.590Z"
   },
   {
    "duration": 15,
    "start_time": "2023-06-13T08:49:18.626Z"
   },
   {
    "duration": 23,
    "start_time": "2023-06-13T08:49:18.642Z"
   },
   {
    "duration": 7,
    "start_time": "2023-06-13T08:49:18.666Z"
   },
   {
    "duration": 10,
    "start_time": "2023-06-13T08:49:18.674Z"
   },
   {
    "duration": 13,
    "start_time": "2023-06-13T08:49:18.685Z"
   },
   {
    "duration": 14,
    "start_time": "2023-06-13T08:49:18.699Z"
   },
   {
    "duration": 14,
    "start_time": "2023-06-13T08:49:18.715Z"
   },
   {
    "duration": 21,
    "start_time": "2023-06-13T08:49:18.730Z"
   },
   {
    "duration": 4,
    "start_time": "2023-06-13T08:49:18.752Z"
   },
   {
    "duration": 33,
    "start_time": "2023-06-13T08:49:18.757Z"
   },
   {
    "duration": 7,
    "start_time": "2023-06-13T08:49:18.791Z"
   },
   {
    "duration": 8,
    "start_time": "2023-06-13T08:49:18.799Z"
   },
   {
    "duration": 14,
    "start_time": "2023-06-13T08:49:18.808Z"
   },
   {
    "duration": 147,
    "start_time": "2023-06-13T08:49:18.823Z"
   },
   {
    "duration": 5,
    "start_time": "2023-06-13T08:49:18.972Z"
   },
   {
    "duration": 19,
    "start_time": "2023-06-13T08:49:18.978Z"
   },
   {
    "duration": 63,
    "start_time": "2023-06-13T08:49:18.999Z"
   },
   {
    "duration": 9,
    "start_time": "2023-06-13T08:49:19.063Z"
   },
   {
    "duration": 352,
    "start_time": "2023-06-13T08:49:19.073Z"
   },
   {
    "duration": 261,
    "start_time": "2023-06-13T08:49:19.427Z"
   },
   {
    "duration": 17,
    "start_time": "2023-06-13T08:49:19.689Z"
   },
   {
    "duration": 12,
    "start_time": "2023-06-13T08:49:19.708Z"
   },
   {
    "duration": 209,
    "start_time": "2023-06-13T08:49:19.722Z"
   },
   {
    "duration": 210,
    "start_time": "2023-06-13T08:49:19.932Z"
   },
   {
    "duration": 18,
    "start_time": "2023-06-13T08:49:20.144Z"
   },
   {
    "duration": 26,
    "start_time": "2023-06-13T08:49:20.172Z"
   },
   {
    "duration": 22,
    "start_time": "2023-06-13T08:49:20.200Z"
   },
   {
    "duration": 390,
    "start_time": "2023-06-13T08:49:20.223Z"
   },
   {
    "duration": 7,
    "start_time": "2023-06-13T08:49:20.615Z"
   },
   {
    "duration": 75,
    "start_time": "2023-06-13T08:49:20.623Z"
   },
   {
    "duration": 1161,
    "start_time": "2023-06-13T08:49:39.015Z"
   },
   {
    "duration": 2,
    "start_time": "2023-06-13T08:49:40.178Z"
   },
   {
    "duration": 8,
    "start_time": "2023-06-13T08:49:40.182Z"
   },
   {
    "duration": 5,
    "start_time": "2023-06-13T08:49:40.192Z"
   },
   {
    "duration": 16,
    "start_time": "2023-06-13T08:49:40.198Z"
   },
   {
    "duration": 1176,
    "start_time": "2023-06-13T08:49:40.216Z"
   },
   {
    "duration": 9,
    "start_time": "2023-06-13T08:49:41.394Z"
   },
   {
    "duration": 23,
    "start_time": "2023-06-13T08:49:41.405Z"
   },
   {
    "duration": 11,
    "start_time": "2023-06-13T08:49:41.430Z"
   },
   {
    "duration": 12,
    "start_time": "2023-06-13T08:49:41.443Z"
   },
   {
    "duration": 16,
    "start_time": "2023-06-13T08:49:41.457Z"
   },
   {
    "duration": 16,
    "start_time": "2023-06-13T08:49:41.475Z"
   },
   {
    "duration": 33,
    "start_time": "2023-06-13T08:49:41.493Z"
   },
   {
    "duration": 6,
    "start_time": "2023-06-13T08:49:41.527Z"
   },
   {
    "duration": 36,
    "start_time": "2023-06-13T08:49:41.534Z"
   },
   {
    "duration": 15,
    "start_time": "2023-06-13T08:49:41.571Z"
   },
   {
    "duration": 49,
    "start_time": "2023-06-13T08:49:41.587Z"
   },
   {
    "duration": 9,
    "start_time": "2023-06-13T08:49:41.637Z"
   },
   {
    "duration": 268,
    "start_time": "2023-06-13T08:49:41.648Z"
   },
   {
    "duration": 56,
    "start_time": "2023-06-13T08:49:41.918Z"
   },
   {
    "duration": 45,
    "start_time": "2023-06-13T08:49:41.976Z"
   },
   {
    "duration": 160,
    "start_time": "2023-06-13T08:49:42.022Z"
   },
   {
    "duration": 11,
    "start_time": "2023-06-13T08:49:42.184Z"
   },
   {
    "duration": 10,
    "start_time": "2023-06-13T08:49:42.197Z"
   },
   {
    "duration": 14,
    "start_time": "2023-06-13T08:49:42.209Z"
   },
   {
    "duration": 20,
    "start_time": "2023-06-13T08:49:42.224Z"
   },
   {
    "duration": 13,
    "start_time": "2023-06-13T08:49:42.245Z"
   },
   {
    "duration": 6,
    "start_time": "2023-06-13T08:49:42.276Z"
   },
   {
    "duration": 46,
    "start_time": "2023-06-13T08:49:42.285Z"
   },
   {
    "duration": 11,
    "start_time": "2023-06-13T08:49:42.332Z"
   },
   {
    "duration": 24,
    "start_time": "2023-06-13T08:49:42.345Z"
   },
   {
    "duration": 19,
    "start_time": "2023-06-13T08:49:42.370Z"
   },
   {
    "duration": 17,
    "start_time": "2023-06-13T08:49:42.391Z"
   },
   {
    "duration": 25,
    "start_time": "2023-06-13T08:49:42.409Z"
   },
   {
    "duration": 5,
    "start_time": "2023-06-13T08:49:42.436Z"
   },
   {
    "duration": 30,
    "start_time": "2023-06-13T08:49:42.443Z"
   },
   {
    "duration": 8,
    "start_time": "2023-06-13T08:49:42.475Z"
   },
   {
    "duration": 16,
    "start_time": "2023-06-13T08:49:42.484Z"
   },
   {
    "duration": 14,
    "start_time": "2023-06-13T08:49:42.502Z"
   },
   {
    "duration": 12,
    "start_time": "2023-06-13T08:49:42.517Z"
   },
   {
    "duration": 4,
    "start_time": "2023-06-13T08:49:42.531Z"
   },
   {
    "duration": 60,
    "start_time": "2023-06-13T08:49:42.537Z"
   },
   {
    "duration": 9,
    "start_time": "2023-06-13T08:49:42.599Z"
   },
   {
    "duration": 6,
    "start_time": "2023-06-13T08:49:42.609Z"
   },
   {
    "duration": 9,
    "start_time": "2023-06-13T08:49:42.616Z"
   },
   {
    "duration": 168,
    "start_time": "2023-06-13T08:49:42.626Z"
   },
   {
    "duration": 6,
    "start_time": "2023-06-13T08:49:42.795Z"
   },
   {
    "duration": 11,
    "start_time": "2023-06-13T08:49:42.803Z"
   },
   {
    "duration": 17,
    "start_time": "2023-06-13T08:49:42.815Z"
   },
   {
    "duration": 11,
    "start_time": "2023-06-13T08:49:42.833Z"
   },
   {
    "duration": 371,
    "start_time": "2023-06-13T08:49:42.846Z"
   },
   {
    "duration": 261,
    "start_time": "2023-06-13T08:49:43.219Z"
   },
   {
    "duration": 17,
    "start_time": "2023-06-13T08:49:43.481Z"
   },
   {
    "duration": 13,
    "start_time": "2023-06-13T08:49:43.499Z"
   },
   {
    "duration": 209,
    "start_time": "2023-06-13T08:49:43.513Z"
   },
   {
    "duration": 198,
    "start_time": "2023-06-13T08:49:43.724Z"
   },
   {
    "duration": 20,
    "start_time": "2023-06-13T08:49:43.924Z"
   },
   {
    "duration": 35,
    "start_time": "2023-06-13T08:49:43.945Z"
   },
   {
    "duration": 8,
    "start_time": "2023-06-13T08:49:43.982Z"
   },
   {
    "duration": 513,
    "start_time": "2023-06-13T08:49:43.992Z"
   },
   {
    "duration": 6,
    "start_time": "2023-06-13T08:49:44.507Z"
   },
   {
    "duration": 81,
    "start_time": "2023-06-13T08:49:44.515Z"
   }
  ],
  "kernelspec": {
   "display_name": "Python 3 (ipykernel)",
   "language": "python",
   "name": "python3"
  },
  "language_info": {
   "codemirror_mode": {
    "name": "ipython",
    "version": 3
   },
   "file_extension": ".py",
   "mimetype": "text/x-python",
   "name": "python",
   "nbconvert_exporter": "python",
   "pygments_lexer": "ipython3",
   "version": "3.9.5"
  },
  "toc": {
   "base_numbering": 1,
   "nav_menu": {},
   "number_sections": true,
   "sideBar": true,
   "skip_h1_title": true,
   "title_cell": "Table of Contents",
   "title_sidebar": "Contents",
   "toc_cell": false,
   "toc_position": {},
   "toc_section_display": true,
   "toc_window_display": false
  }
 },
 "nbformat": 4,
 "nbformat_minor": 2
}
