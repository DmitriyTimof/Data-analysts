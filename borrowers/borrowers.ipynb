{
 "cells": [
  {
   "cell_type": "markdown",
   "id": "fbfd892e",
   "metadata": {
    "deletable": false,
    "editable": false,
    "id": "c81daeeb"
   },
   "source": [
    "# Исследование надежности заемщиков\n"
   ]
  },
  {
   "cell_type": "markdown",
   "id": "2872cd53",
   "metadata": {
    "deletable": false,
    "editable": false,
    "id": "827c20bf"
   },
   "source": [
    "Во второй части проекта вы выполните шаги 3 и 4. Их вручную проверит ревьюер.\n",
    "Чтобы вам не пришлось писать код заново для шагов 1 и 2, мы добавили авторские решения в ячейки с кодом. \n",
    "\n"
   ]
  },
  {
   "cell_type": "markdown",
   "id": "547a70a7",
   "metadata": {
    "deletable": false,
    "editable": false,
    "id": "744d7639"
   },
   "source": [
    "## Откройте таблицу и изучите общую информацию о данных"
   ]
  },
  {
   "cell_type": "markdown",
   "id": "f68bae5a",
   "metadata": {
    "deletable": false,
    "editable": false,
    "id": "e7a14c31"
   },
   "source": [
    "**Задание 1. Импортируйте библиотеку pandas. Считайте данные из csv-файла в датафрейм и сохраните в переменную `data`. Путь к файлу:**\n",
    "\n",
    "`/datasets/data.csv`"
   ]
  },
  {
   "cell_type": "code",
   "execution_count": 1,
   "id": "7190de05",
   "metadata": {
    "deletable": false,
    "id": "7bcf75c9"
   },
   "outputs": [],
   "source": [
    "import pandas as pd\n",
    "data = pd.read_csv('/datasets/data.csv')\n"
   ]
  },
  {
   "cell_type": "markdown",
   "id": "fe982b05",
   "metadata": {
    "deletable": false,
    "editable": false,
    "id": "b8038fe3"
   },
   "source": [
    "**Задание 2. Выведите первые 20 строчек датафрейма `data` на экран.**"
   ]
  },
  {
   "cell_type": "code",
   "execution_count": 2,
   "id": "6d313482",
   "metadata": {
    "deletable": false,
    "id": "2a7cab99",
    "outputId": "1a8f3ef2-d323-4ec2-ddf7-89670b5944c4"
   },
   "outputs": [
    {
     "data": {
      "text/html": [
       "<div>\n",
       "<style scoped>\n",
       "    .dataframe tbody tr th:only-of-type {\n",
       "        vertical-align: middle;\n",
       "    }\n",
       "\n",
       "    .dataframe tbody tr th {\n",
       "        vertical-align: top;\n",
       "    }\n",
       "\n",
       "    .dataframe thead th {\n",
       "        text-align: right;\n",
       "    }\n",
       "</style>\n",
       "<table border=\"1\" class=\"dataframe\">\n",
       "  <thead>\n",
       "    <tr style=\"text-align: right;\">\n",
       "      <th></th>\n",
       "      <th>children</th>\n",
       "      <th>days_employed</th>\n",
       "      <th>dob_years</th>\n",
       "      <th>education</th>\n",
       "      <th>education_id</th>\n",
       "      <th>family_status</th>\n",
       "      <th>family_status_id</th>\n",
       "      <th>gender</th>\n",
       "      <th>income_type</th>\n",
       "      <th>debt</th>\n",
       "      <th>total_income</th>\n",
       "      <th>purpose</th>\n",
       "    </tr>\n",
       "  </thead>\n",
       "  <tbody>\n",
       "    <tr>\n",
       "      <th>0</th>\n",
       "      <td>1</td>\n",
       "      <td>-8437.673028</td>\n",
       "      <td>42</td>\n",
       "      <td>высшее</td>\n",
       "      <td>0</td>\n",
       "      <td>женат / замужем</td>\n",
       "      <td>0</td>\n",
       "      <td>F</td>\n",
       "      <td>сотрудник</td>\n",
       "      <td>0</td>\n",
       "      <td>253875.639453</td>\n",
       "      <td>покупка жилья</td>\n",
       "    </tr>\n",
       "    <tr>\n",
       "      <th>1</th>\n",
       "      <td>1</td>\n",
       "      <td>-4024.803754</td>\n",
       "      <td>36</td>\n",
       "      <td>среднее</td>\n",
       "      <td>1</td>\n",
       "      <td>женат / замужем</td>\n",
       "      <td>0</td>\n",
       "      <td>F</td>\n",
       "      <td>сотрудник</td>\n",
       "      <td>0</td>\n",
       "      <td>112080.014102</td>\n",
       "      <td>приобретение автомобиля</td>\n",
       "    </tr>\n",
       "    <tr>\n",
       "      <th>2</th>\n",
       "      <td>0</td>\n",
       "      <td>-5623.422610</td>\n",
       "      <td>33</td>\n",
       "      <td>Среднее</td>\n",
       "      <td>1</td>\n",
       "      <td>женат / замужем</td>\n",
       "      <td>0</td>\n",
       "      <td>M</td>\n",
       "      <td>сотрудник</td>\n",
       "      <td>0</td>\n",
       "      <td>145885.952297</td>\n",
       "      <td>покупка жилья</td>\n",
       "    </tr>\n",
       "    <tr>\n",
       "      <th>3</th>\n",
       "      <td>3</td>\n",
       "      <td>-4124.747207</td>\n",
       "      <td>32</td>\n",
       "      <td>среднее</td>\n",
       "      <td>1</td>\n",
       "      <td>женат / замужем</td>\n",
       "      <td>0</td>\n",
       "      <td>M</td>\n",
       "      <td>сотрудник</td>\n",
       "      <td>0</td>\n",
       "      <td>267628.550329</td>\n",
       "      <td>дополнительное образование</td>\n",
       "    </tr>\n",
       "    <tr>\n",
       "      <th>4</th>\n",
       "      <td>0</td>\n",
       "      <td>340266.072047</td>\n",
       "      <td>53</td>\n",
       "      <td>среднее</td>\n",
       "      <td>1</td>\n",
       "      <td>гражданский брак</td>\n",
       "      <td>1</td>\n",
       "      <td>F</td>\n",
       "      <td>пенсионер</td>\n",
       "      <td>0</td>\n",
       "      <td>158616.077870</td>\n",
       "      <td>сыграть свадьбу</td>\n",
       "    </tr>\n",
       "    <tr>\n",
       "      <th>5</th>\n",
       "      <td>0</td>\n",
       "      <td>-926.185831</td>\n",
       "      <td>27</td>\n",
       "      <td>высшее</td>\n",
       "      <td>0</td>\n",
       "      <td>гражданский брак</td>\n",
       "      <td>1</td>\n",
       "      <td>M</td>\n",
       "      <td>компаньон</td>\n",
       "      <td>0</td>\n",
       "      <td>255763.565419</td>\n",
       "      <td>покупка жилья</td>\n",
       "    </tr>\n",
       "    <tr>\n",
       "      <th>6</th>\n",
       "      <td>0</td>\n",
       "      <td>-2879.202052</td>\n",
       "      <td>43</td>\n",
       "      <td>высшее</td>\n",
       "      <td>0</td>\n",
       "      <td>женат / замужем</td>\n",
       "      <td>0</td>\n",
       "      <td>F</td>\n",
       "      <td>компаньон</td>\n",
       "      <td>0</td>\n",
       "      <td>240525.971920</td>\n",
       "      <td>операции с жильем</td>\n",
       "    </tr>\n",
       "    <tr>\n",
       "      <th>7</th>\n",
       "      <td>0</td>\n",
       "      <td>-152.779569</td>\n",
       "      <td>50</td>\n",
       "      <td>СРЕДНЕЕ</td>\n",
       "      <td>1</td>\n",
       "      <td>женат / замужем</td>\n",
       "      <td>0</td>\n",
       "      <td>M</td>\n",
       "      <td>сотрудник</td>\n",
       "      <td>0</td>\n",
       "      <td>135823.934197</td>\n",
       "      <td>образование</td>\n",
       "    </tr>\n",
       "    <tr>\n",
       "      <th>8</th>\n",
       "      <td>2</td>\n",
       "      <td>-6929.865299</td>\n",
       "      <td>35</td>\n",
       "      <td>ВЫСШЕЕ</td>\n",
       "      <td>0</td>\n",
       "      <td>гражданский брак</td>\n",
       "      <td>1</td>\n",
       "      <td>F</td>\n",
       "      <td>сотрудник</td>\n",
       "      <td>0</td>\n",
       "      <td>95856.832424</td>\n",
       "      <td>на проведение свадьбы</td>\n",
       "    </tr>\n",
       "    <tr>\n",
       "      <th>9</th>\n",
       "      <td>0</td>\n",
       "      <td>-2188.756445</td>\n",
       "      <td>41</td>\n",
       "      <td>среднее</td>\n",
       "      <td>1</td>\n",
       "      <td>женат / замужем</td>\n",
       "      <td>0</td>\n",
       "      <td>M</td>\n",
       "      <td>сотрудник</td>\n",
       "      <td>0</td>\n",
       "      <td>144425.938277</td>\n",
       "      <td>покупка жилья для семьи</td>\n",
       "    </tr>\n",
       "    <tr>\n",
       "      <th>10</th>\n",
       "      <td>2</td>\n",
       "      <td>-4171.483647</td>\n",
       "      <td>36</td>\n",
       "      <td>высшее</td>\n",
       "      <td>0</td>\n",
       "      <td>женат / замужем</td>\n",
       "      <td>0</td>\n",
       "      <td>M</td>\n",
       "      <td>компаньон</td>\n",
       "      <td>0</td>\n",
       "      <td>113943.491460</td>\n",
       "      <td>покупка недвижимости</td>\n",
       "    </tr>\n",
       "    <tr>\n",
       "      <th>11</th>\n",
       "      <td>0</td>\n",
       "      <td>-792.701887</td>\n",
       "      <td>40</td>\n",
       "      <td>среднее</td>\n",
       "      <td>1</td>\n",
       "      <td>женат / замужем</td>\n",
       "      <td>0</td>\n",
       "      <td>F</td>\n",
       "      <td>сотрудник</td>\n",
       "      <td>0</td>\n",
       "      <td>77069.234271</td>\n",
       "      <td>покупка коммерческой недвижимости</td>\n",
       "    </tr>\n",
       "    <tr>\n",
       "      <th>12</th>\n",
       "      <td>0</td>\n",
       "      <td>NaN</td>\n",
       "      <td>65</td>\n",
       "      <td>среднее</td>\n",
       "      <td>1</td>\n",
       "      <td>гражданский брак</td>\n",
       "      <td>1</td>\n",
       "      <td>M</td>\n",
       "      <td>пенсионер</td>\n",
       "      <td>0</td>\n",
       "      <td>NaN</td>\n",
       "      <td>сыграть свадьбу</td>\n",
       "    </tr>\n",
       "    <tr>\n",
       "      <th>13</th>\n",
       "      <td>0</td>\n",
       "      <td>-1846.641941</td>\n",
       "      <td>54</td>\n",
       "      <td>неоконченное высшее</td>\n",
       "      <td>2</td>\n",
       "      <td>женат / замужем</td>\n",
       "      <td>0</td>\n",
       "      <td>F</td>\n",
       "      <td>сотрудник</td>\n",
       "      <td>0</td>\n",
       "      <td>130458.228857</td>\n",
       "      <td>приобретение автомобиля</td>\n",
       "    </tr>\n",
       "    <tr>\n",
       "      <th>14</th>\n",
       "      <td>0</td>\n",
       "      <td>-1844.956182</td>\n",
       "      <td>56</td>\n",
       "      <td>высшее</td>\n",
       "      <td>0</td>\n",
       "      <td>гражданский брак</td>\n",
       "      <td>1</td>\n",
       "      <td>F</td>\n",
       "      <td>компаньон</td>\n",
       "      <td>1</td>\n",
       "      <td>165127.911772</td>\n",
       "      <td>покупка жилой недвижимости</td>\n",
       "    </tr>\n",
       "    <tr>\n",
       "      <th>15</th>\n",
       "      <td>1</td>\n",
       "      <td>-972.364419</td>\n",
       "      <td>26</td>\n",
       "      <td>среднее</td>\n",
       "      <td>1</td>\n",
       "      <td>женат / замужем</td>\n",
       "      <td>0</td>\n",
       "      <td>F</td>\n",
       "      <td>сотрудник</td>\n",
       "      <td>0</td>\n",
       "      <td>116820.904450</td>\n",
       "      <td>строительство собственной недвижимости</td>\n",
       "    </tr>\n",
       "    <tr>\n",
       "      <th>16</th>\n",
       "      <td>0</td>\n",
       "      <td>-1719.934226</td>\n",
       "      <td>35</td>\n",
       "      <td>среднее</td>\n",
       "      <td>1</td>\n",
       "      <td>женат / замужем</td>\n",
       "      <td>0</td>\n",
       "      <td>F</td>\n",
       "      <td>сотрудник</td>\n",
       "      <td>0</td>\n",
       "      <td>289202.704229</td>\n",
       "      <td>недвижимость</td>\n",
       "    </tr>\n",
       "    <tr>\n",
       "      <th>17</th>\n",
       "      <td>0</td>\n",
       "      <td>-2369.999720</td>\n",
       "      <td>33</td>\n",
       "      <td>высшее</td>\n",
       "      <td>0</td>\n",
       "      <td>гражданский брак</td>\n",
       "      <td>1</td>\n",
       "      <td>M</td>\n",
       "      <td>сотрудник</td>\n",
       "      <td>0</td>\n",
       "      <td>90410.586745</td>\n",
       "      <td>строительство недвижимости</td>\n",
       "    </tr>\n",
       "    <tr>\n",
       "      <th>18</th>\n",
       "      <td>0</td>\n",
       "      <td>400281.136913</td>\n",
       "      <td>53</td>\n",
       "      <td>среднее</td>\n",
       "      <td>1</td>\n",
       "      <td>вдовец / вдова</td>\n",
       "      <td>2</td>\n",
       "      <td>F</td>\n",
       "      <td>пенсионер</td>\n",
       "      <td>0</td>\n",
       "      <td>56823.777243</td>\n",
       "      <td>на покупку подержанного автомобиля</td>\n",
       "    </tr>\n",
       "    <tr>\n",
       "      <th>19</th>\n",
       "      <td>0</td>\n",
       "      <td>-10038.818549</td>\n",
       "      <td>48</td>\n",
       "      <td>СРЕДНЕЕ</td>\n",
       "      <td>1</td>\n",
       "      <td>в разводе</td>\n",
       "      <td>3</td>\n",
       "      <td>F</td>\n",
       "      <td>сотрудник</td>\n",
       "      <td>0</td>\n",
       "      <td>242831.107982</td>\n",
       "      <td>на покупку своего автомобиля</td>\n",
       "    </tr>\n",
       "  </tbody>\n",
       "</table>\n",
       "</div>"
      ],
      "text/plain": [
       "    children  days_employed  dob_years            education  education_id  \\\n",
       "0          1   -8437.673028         42               высшее             0   \n",
       "1          1   -4024.803754         36              среднее             1   \n",
       "2          0   -5623.422610         33              Среднее             1   \n",
       "3          3   -4124.747207         32              среднее             1   \n",
       "4          0  340266.072047         53              среднее             1   \n",
       "5          0    -926.185831         27               высшее             0   \n",
       "6          0   -2879.202052         43               высшее             0   \n",
       "7          0    -152.779569         50              СРЕДНЕЕ             1   \n",
       "8          2   -6929.865299         35               ВЫСШЕЕ             0   \n",
       "9          0   -2188.756445         41              среднее             1   \n",
       "10         2   -4171.483647         36               высшее             0   \n",
       "11         0    -792.701887         40              среднее             1   \n",
       "12         0            NaN         65              среднее             1   \n",
       "13         0   -1846.641941         54  неоконченное высшее             2   \n",
       "14         0   -1844.956182         56               высшее             0   \n",
       "15         1    -972.364419         26              среднее             1   \n",
       "16         0   -1719.934226         35              среднее             1   \n",
       "17         0   -2369.999720         33               высшее             0   \n",
       "18         0  400281.136913         53              среднее             1   \n",
       "19         0  -10038.818549         48              СРЕДНЕЕ             1   \n",
       "\n",
       "       family_status  family_status_id gender income_type  debt  \\\n",
       "0    женат / замужем                 0      F   сотрудник     0   \n",
       "1    женат / замужем                 0      F   сотрудник     0   \n",
       "2    женат / замужем                 0      M   сотрудник     0   \n",
       "3    женат / замужем                 0      M   сотрудник     0   \n",
       "4   гражданский брак                 1      F   пенсионер     0   \n",
       "5   гражданский брак                 1      M   компаньон     0   \n",
       "6    женат / замужем                 0      F   компаньон     0   \n",
       "7    женат / замужем                 0      M   сотрудник     0   \n",
       "8   гражданский брак                 1      F   сотрудник     0   \n",
       "9    женат / замужем                 0      M   сотрудник     0   \n",
       "10   женат / замужем                 0      M   компаньон     0   \n",
       "11   женат / замужем                 0      F   сотрудник     0   \n",
       "12  гражданский брак                 1      M   пенсионер     0   \n",
       "13   женат / замужем                 0      F   сотрудник     0   \n",
       "14  гражданский брак                 1      F   компаньон     1   \n",
       "15   женат / замужем                 0      F   сотрудник     0   \n",
       "16   женат / замужем                 0      F   сотрудник     0   \n",
       "17  гражданский брак                 1      M   сотрудник     0   \n",
       "18    вдовец / вдова                 2      F   пенсионер     0   \n",
       "19         в разводе                 3      F   сотрудник     0   \n",
       "\n",
       "     total_income                                 purpose  \n",
       "0   253875.639453                           покупка жилья  \n",
       "1   112080.014102                 приобретение автомобиля  \n",
       "2   145885.952297                           покупка жилья  \n",
       "3   267628.550329              дополнительное образование  \n",
       "4   158616.077870                         сыграть свадьбу  \n",
       "5   255763.565419                           покупка жилья  \n",
       "6   240525.971920                       операции с жильем  \n",
       "7   135823.934197                             образование  \n",
       "8    95856.832424                   на проведение свадьбы  \n",
       "9   144425.938277                 покупка жилья для семьи  \n",
       "10  113943.491460                    покупка недвижимости  \n",
       "11   77069.234271       покупка коммерческой недвижимости  \n",
       "12            NaN                         сыграть свадьбу  \n",
       "13  130458.228857                 приобретение автомобиля  \n",
       "14  165127.911772              покупка жилой недвижимости  \n",
       "15  116820.904450  строительство собственной недвижимости  \n",
       "16  289202.704229                            недвижимость  \n",
       "17   90410.586745              строительство недвижимости  \n",
       "18   56823.777243      на покупку подержанного автомобиля  \n",
       "19  242831.107982            на покупку своего автомобиля  "
      ]
     },
     "execution_count": 2,
     "metadata": {},
     "output_type": "execute_result"
    }
   ],
   "source": [
    "data.head(20)"
   ]
  },
  {
   "cell_type": "markdown",
   "id": "23d7fd7f",
   "metadata": {
    "deletable": false,
    "editable": false,
    "id": "1c12e233"
   },
   "source": [
    "**Задание 3. Выведите основную информацию о датафрейме с помощью метода `info()`.**"
   ]
  },
  {
   "cell_type": "code",
   "execution_count": 3,
   "id": "7bff310a",
   "metadata": {
    "deletable": false,
    "id": "2b757bca",
    "outputId": "15376089-8dad-46c9-b520-c05248d43158"
   },
   "outputs": [
    {
     "name": "stdout",
     "output_type": "stream",
     "text": [
      "<class 'pandas.core.frame.DataFrame'>\n",
      "RangeIndex: 21525 entries, 0 to 21524\n",
      "Data columns (total 12 columns):\n",
      " #   Column            Non-Null Count  Dtype  \n",
      "---  ------            --------------  -----  \n",
      " 0   children          21525 non-null  int64  \n",
      " 1   days_employed     19351 non-null  float64\n",
      " 2   dob_years         21525 non-null  int64  \n",
      " 3   education         21525 non-null  object \n",
      " 4   education_id      21525 non-null  int64  \n",
      " 5   family_status     21525 non-null  object \n",
      " 6   family_status_id  21525 non-null  int64  \n",
      " 7   gender            21525 non-null  object \n",
      " 8   income_type       21525 non-null  object \n",
      " 9   debt              21525 non-null  int64  \n",
      " 10  total_income      19351 non-null  float64\n",
      " 11  purpose           21525 non-null  object \n",
      "dtypes: float64(2), int64(5), object(5)\n",
      "memory usage: 2.0+ MB\n"
     ]
    }
   ],
   "source": [
    "data.info()"
   ]
  },
  {
   "cell_type": "markdown",
   "id": "c0e77040",
   "metadata": {
    "deletable": false,
    "editable": false,
    "id": "333ec665"
   },
   "source": [
    "## Предобработка данных"
   ]
  },
  {
   "cell_type": "markdown",
   "id": "df5a7b28",
   "metadata": {
    "deletable": false,
    "editable": false,
    "id": "02d92d53"
   },
   "source": [
    "### Удаление пропусков"
   ]
  },
  {
   "cell_type": "markdown",
   "id": "2de0c480",
   "metadata": {
    "deletable": false,
    "editable": false,
    "id": "cd84967c"
   },
   "source": [
    "**Задание 4. Выведите количество пропущенных значений для каждого столбца. Используйте комбинацию двух методов.**"
   ]
  },
  {
   "cell_type": "code",
   "execution_count": 4,
   "id": "320ddbe4",
   "metadata": {
    "deletable": false,
    "id": "7f9b2309",
    "outputId": "81f4d817-781c-465c-ed15-91ce4446810d"
   },
   "outputs": [
    {
     "data": {
      "text/plain": [
       "children               0\n",
       "days_employed       2174\n",
       "dob_years              0\n",
       "education              0\n",
       "education_id           0\n",
       "family_status          0\n",
       "family_status_id       0\n",
       "gender                 0\n",
       "income_type            0\n",
       "debt                   0\n",
       "total_income        2174\n",
       "purpose                0\n",
       "dtype: int64"
      ]
     },
     "execution_count": 4,
     "metadata": {},
     "output_type": "execute_result"
    }
   ],
   "source": [
    "data.isna().sum()"
   ]
  },
  {
   "cell_type": "markdown",
   "id": "f564784d",
   "metadata": {
    "deletable": false,
    "editable": false,
    "id": "db86e27b"
   },
   "source": [
    "**Задание 5. В двух столбцах есть пропущенные значения. Один из них — `days_employed`. Пропуски в этом столбце вы обработаете на следующем этапе. Другой столбец с пропущенными значениями — `total_income` — хранит данные о доходах. На сумму дохода сильнее всего влияет тип занятости, поэтому заполнить пропуски в этом столбце нужно медианным значением по каждому типу из столбца `income_type`. Например, у человека с типом занятости `сотрудник` пропуск в столбце `total_income` должен быть заполнен медианным доходом среди всех записей с тем же типом.**"
   ]
  },
  {
   "cell_type": "code",
   "execution_count": 5,
   "id": "b0b8c934",
   "metadata": {
    "deletable": false,
    "id": "42006a93"
   },
   "outputs": [],
   "source": [
    "for t in data['income_type'].unique():\n",
    "    data.loc[(data['income_type'] == t) & (data['total_income'].isna()), 'total_income'] = \\\n",
    "    data.loc[(data['income_type'] == t), 'total_income'].median()"
   ]
  },
  {
   "cell_type": "markdown",
   "id": "d634c81b",
   "metadata": {
    "deletable": false,
    "editable": false,
    "id": "89da5ece"
   },
   "source": [
    "### Обработка аномальных значений"
   ]
  },
  {
   "cell_type": "markdown",
   "id": "ccc13fd9",
   "metadata": {
    "deletable": false,
    "editable": false,
    "id": "57964554"
   },
   "source": [
    "**Задание 6. В данных могут встречаться артефакты (аномалии) — значения, которые не отражают действительность и появились по какой-то ошибке. таким артефактом будет отрицательное количество дней трудового стажа в столбце `days_employed`. Для реальных данных это нормально. Обработайте значения в этом столбце: замените все отрицательные значения положительными с помощью метода `abs()`.**"
   ]
  },
  {
   "cell_type": "code",
   "execution_count": 6,
   "id": "b2b6d446",
   "metadata": {
    "deletable": false,
    "id": "f6f055bf"
   },
   "outputs": [],
   "source": [
    "data['days_employed'] = data['days_employed'].abs()"
   ]
  },
  {
   "cell_type": "markdown",
   "id": "04ab4ffb",
   "metadata": {
    "deletable": false,
    "editable": false,
    "id": "6107dd2f"
   },
   "source": [
    "**Задание 7. Для каждого типа занятости выведите медианное значение трудового стажа `days_employed` в днях.**"
   ]
  },
  {
   "cell_type": "code",
   "execution_count": 7,
   "id": "cf2d0a1a",
   "metadata": {
    "deletable": false,
    "id": "85a5faf6",
    "outputId": "801ef80e-522b-4668-f34e-565af7432bcf"
   },
   "outputs": [
    {
     "data": {
      "text/plain": [
       "income_type\n",
       "безработный        366413.652744\n",
       "в декрете            3296.759962\n",
       "госслужащий          2689.368353\n",
       "компаньон            1547.382223\n",
       "пенсионер          365213.306266\n",
       "предприниматель       520.848083\n",
       "сотрудник            1574.202821\n",
       "студент               578.751554\n",
       "Name: days_employed, dtype: float64"
      ]
     },
     "execution_count": 7,
     "metadata": {},
     "output_type": "execute_result"
    }
   ],
   "source": [
    "data.groupby('income_type')['days_employed'].agg('median')"
   ]
  },
  {
   "cell_type": "markdown",
   "id": "9cb596eb",
   "metadata": {
    "deletable": false,
    "editable": false,
    "id": "38d1a030"
   },
   "source": [
    "У двух типов (безработные и пенсионеры) получатся аномально большие значения. Исправить такие значения сложно, поэтому оставьте их как есть. Тем более этот столбец не понадобится вам для исследования."
   ]
  },
  {
   "cell_type": "markdown",
   "id": "2a59a6e1",
   "metadata": {
    "deletable": false,
    "editable": false,
    "id": "d8a9f147"
   },
   "source": [
    "**Задание 8. Выведите перечень уникальных значений столбца `children`.**"
   ]
  },
  {
   "cell_type": "code",
   "execution_count": 8,
   "id": "82d960d0",
   "metadata": {
    "deletable": false,
    "id": "ef5056eb",
    "outputId": "6975b15c-7f95-4697-d16d-a0c79b657b03"
   },
   "outputs": [
    {
     "data": {
      "text/plain": [
       "array([ 1,  0,  3,  2, -1,  4, 20,  5])"
      ]
     },
     "execution_count": 8,
     "metadata": {},
     "output_type": "execute_result"
    }
   ],
   "source": [
    "data['children'].unique()"
   ]
  },
  {
   "cell_type": "markdown",
   "id": "710017da",
   "metadata": {
    "deletable": false,
    "editable": false,
    "id": "40b9ebf2"
   },
   "source": [
    "**Задание 9. В столбце `children` есть два аномальных значения. Удалите строки, в которых встречаются такие аномальные значения из датафрейма `data`.**"
   ]
  },
  {
   "cell_type": "code",
   "execution_count": 9,
   "id": "f1c16959",
   "metadata": {
    "deletable": false,
    "id": "3ff9801d"
   },
   "outputs": [],
   "source": [
    "data = data[(data['children'] != -1) & (data['children'] != 20)]"
   ]
  },
  {
   "cell_type": "markdown",
   "id": "33749f19",
   "metadata": {
    "deletable": false,
    "editable": false,
    "id": "bbc4d0ce"
   },
   "source": [
    "**Задание 10. Ещё раз выведите перечень уникальных значений столбца `children`, чтобы убедиться, что артефакты удалены.**"
   ]
  },
  {
   "cell_type": "code",
   "execution_count": 10,
   "id": "c9b3a564",
   "metadata": {
    "deletable": false,
    "id": "ad4fa8b7",
    "outputId": "b2097101-d49d-44d9-901b-32a65c9463d1"
   },
   "outputs": [
    {
     "data": {
      "text/plain": [
       "array([1, 0, 3, 2, 4, 5])"
      ]
     },
     "execution_count": 10,
     "metadata": {},
     "output_type": "execute_result"
    }
   ],
   "source": [
    "data['children'].unique()"
   ]
  },
  {
   "cell_type": "markdown",
   "id": "fbd042bd",
   "metadata": {
    "deletable": false,
    "editable": false,
    "id": "75440b63"
   },
   "source": [
    "### Удаление пропусков (продолжение)"
   ]
  },
  {
   "cell_type": "markdown",
   "id": "d65530c1",
   "metadata": {
    "deletable": false,
    "editable": false,
    "id": "f4ea573f"
   },
   "source": [
    "**Задание 11. Заполните пропуски в столбце `days_employed` медианными значениями по каждого типа занятости `income_type`.**"
   ]
  },
  {
   "cell_type": "code",
   "execution_count": 11,
   "id": "0cfbbee1",
   "metadata": {
    "deletable": false,
    "id": "af6b1a7e"
   },
   "outputs": [],
   "source": [
    "for t in data['income_type'].unique():\n",
    "    data.loc[(data['income_type'] == t) & (data['days_employed'].isna()), 'days_employed'] = \\\n",
    "    data.loc[(data['income_type'] == t), 'days_employed'].median()"
   ]
  },
  {
   "cell_type": "markdown",
   "id": "5e9825e1",
   "metadata": {
    "deletable": false,
    "editable": false,
    "id": "2753f40d"
   },
   "source": [
    "**Задание 12. Убедитесь, что все пропуски заполнены. Проверьте себя и ещё раз выведите количество пропущенных значений для каждого столбца с помощью двух методов.**"
   ]
  },
  {
   "cell_type": "code",
   "execution_count": 12,
   "id": "5a0cbe3a",
   "metadata": {
    "deletable": false,
    "id": "55f78bc2",
    "outputId": "8da1e4e1-358e-4e87-98c9-f261bce0a7b2"
   },
   "outputs": [
    {
     "data": {
      "text/plain": [
       "children            0\n",
       "days_employed       0\n",
       "dob_years           0\n",
       "education           0\n",
       "education_id        0\n",
       "family_status       0\n",
       "family_status_id    0\n",
       "gender              0\n",
       "income_type         0\n",
       "debt                0\n",
       "total_income        0\n",
       "purpose             0\n",
       "dtype: int64"
      ]
     },
     "execution_count": 12,
     "metadata": {},
     "output_type": "execute_result"
    }
   ],
   "source": [
    "data.isna().sum()"
   ]
  },
  {
   "cell_type": "markdown",
   "id": "ce186a50",
   "metadata": {
    "deletable": false,
    "editable": false,
    "id": "ddc81e43"
   },
   "source": [
    "### Изменение типов данных"
   ]
  },
  {
   "cell_type": "markdown",
   "id": "d9b2f547",
   "metadata": {
    "deletable": false,
    "editable": false,
    "id": "42d19d24"
   },
   "source": [
    "**Задание 13. Замените вещественный тип данных в столбце `total_income` на целочисленный с помощью метода `astype()`.**"
   ]
  },
  {
   "cell_type": "code",
   "execution_count": 13,
   "id": "a05915f7",
   "metadata": {
    "deletable": false,
    "id": "920b65ad"
   },
   "outputs": [],
   "source": [
    "data['total_income'] = data['total_income'].astype(int)"
   ]
  },
  {
   "cell_type": "markdown",
   "id": "a10e4189",
   "metadata": {
    "deletable": false,
    "editable": false,
    "id": "80c420ba"
   },
   "source": [
    "### Обработка дубликатов"
   ]
  },
  {
   "cell_type": "markdown",
   "id": "93fdc039",
   "metadata": {
    "deletable": false,
    "editable": false
   },
   "source": [
    "**Задание 14. Обработайте неявные дубликаты в столбце `education`. В этом столбце есть одни и те же значения, но записанные по-разному: с использованием заглавных и строчных букв. Приведите их к нижнему регистру. Проверьте остальные столбцы.**"
   ]
  },
  {
   "cell_type": "code",
   "execution_count": 14,
   "id": "bb2006a0",
   "metadata": {
    "deletable": false
   },
   "outputs": [],
   "source": [
    "data['education'] = data['education'].str.lower()"
   ]
  },
  {
   "cell_type": "markdown",
   "id": "15f87fbd",
   "metadata": {
    "deletable": false,
    "editable": false,
    "id": "dc587695"
   },
   "source": [
    "**Задание 15. Выведите на экран количество строк-дубликатов в данных. Если такие строки присутствуют, удалите их.**"
   ]
  },
  {
   "cell_type": "code",
   "execution_count": 15,
   "id": "c6fe1348",
   "metadata": {
    "deletable": false,
    "id": "3ee445e4",
    "outputId": "9684deba-1934-42d1-99e1-cda61740f822"
   },
   "outputs": [
    {
     "data": {
      "text/plain": [
       "71"
      ]
     },
     "execution_count": 15,
     "metadata": {},
     "output_type": "execute_result"
    }
   ],
   "source": [
    "data.duplicated().sum()"
   ]
  },
  {
   "cell_type": "code",
   "execution_count": 16,
   "id": "7a86a9ab",
   "metadata": {
    "deletable": false,
    "id": "8575fe05"
   },
   "outputs": [],
   "source": [
    "data = data.drop_duplicates()"
   ]
  },
  {
   "cell_type": "markdown",
   "id": "68f13da8",
   "metadata": {
    "deletable": false,
    "editable": false,
    "id": "9904cf55"
   },
   "source": [
    "### Категоризация данных"
   ]
  },
  {
   "cell_type": "markdown",
   "id": "a52ea448",
   "metadata": {
    "deletable": false,
    "editable": false,
    "id": "72fcc8a2"
   },
   "source": [
    "**Задание 16. На основании диапазонов, указанных ниже, создайте в датафрейме `data` столбец `total_income_category` с категориями:**\n",
    "\n",
    "- 0–30000 — `'E'`;\n",
    "- 30001–50000 — `'D'`;\n",
    "- 50001–200000 — `'C'`;\n",
    "- 200001–1000000 — `'B'`;\n",
    "- 1000001 и выше — `'A'`.\n",
    "\n",
    "\n",
    "**Например, кредитополучателю с доходом 25000 нужно назначить категорию `'E'`, а клиенту, получающему 235000, — `'B'`. Используйте собственную функцию с именем `categorize_income()` и метод `apply()`.**"
   ]
  },
  {
   "cell_type": "code",
   "execution_count": 17,
   "id": "2c320ce3",
   "metadata": {
    "deletable": false,
    "id": "e1771346"
   },
   "outputs": [],
   "source": [
    "def categorize_income(income):\n",
    "    try:\n",
    "        if 0 <= income <= 30000:\n",
    "            return 'E'\n",
    "        elif 30001 <= income <= 50000:\n",
    "            return 'D'\n",
    "        elif 50001 <= income <= 200000:\n",
    "            return 'C'\n",
    "        elif 200001 <= income <= 1000000:\n",
    "            return 'B'\n",
    "        elif income >= 1000001:\n",
    "            return 'A'\n",
    "    except:\n",
    "        pass"
   ]
  },
  {
   "cell_type": "code",
   "execution_count": 18,
   "id": "318704ad",
   "metadata": {
    "deletable": false,
    "id": "d5f3586d"
   },
   "outputs": [],
   "source": [
    "data['total_income_category'] = data['total_income'].apply(categorize_income)"
   ]
  },
  {
   "cell_type": "markdown",
   "id": "a1f36668",
   "metadata": {
    "deletable": false,
    "editable": false,
    "id": "dde49b5c"
   },
   "source": [
    "**Задание 17. Выведите на экран перечень уникальных целей взятия кредита из столбца `purpose`.**"
   ]
  },
  {
   "cell_type": "code",
   "execution_count": 19,
   "id": "09b67131",
   "metadata": {
    "deletable": false,
    "id": "f67ce9b3",
    "outputId": "673c12d9-7d7e-4ae0-9812-c622c89dd244"
   },
   "outputs": [
    {
     "data": {
      "text/plain": [
       "array(['покупка жилья', 'приобретение автомобиля',\n",
       "       'дополнительное образование', 'сыграть свадьбу',\n",
       "       'операции с жильем', 'образование', 'на проведение свадьбы',\n",
       "       'покупка жилья для семьи', 'покупка недвижимости',\n",
       "       'покупка коммерческой недвижимости', 'покупка жилой недвижимости',\n",
       "       'строительство собственной недвижимости', 'недвижимость',\n",
       "       'строительство недвижимости', 'на покупку подержанного автомобиля',\n",
       "       'на покупку своего автомобиля',\n",
       "       'операции с коммерческой недвижимостью',\n",
       "       'строительство жилой недвижимости', 'жилье',\n",
       "       'операции со своей недвижимостью', 'автомобили',\n",
       "       'заняться образованием', 'сделка с подержанным автомобилем',\n",
       "       'получение образования', 'автомобиль', 'свадьба',\n",
       "       'получение дополнительного образования', 'покупка своего жилья',\n",
       "       'операции с недвижимостью', 'получение высшего образования',\n",
       "       'свой автомобиль', 'сделка с автомобилем',\n",
       "       'профильное образование', 'высшее образование',\n",
       "       'покупка жилья для сдачи', 'на покупку автомобиля', 'ремонт жилью',\n",
       "       'заняться высшим образованием'], dtype=object)"
      ]
     },
     "execution_count": 19,
     "metadata": {},
     "output_type": "execute_result"
    }
   ],
   "source": [
    "data['purpose'].unique()"
   ]
  },
  {
   "cell_type": "markdown",
   "id": "d7d126c9",
   "metadata": {
    "deletable": false,
    "editable": false,
    "id": "85d0aef0"
   },
   "source": [
    "**Задание 18. Создайте функцию, которая на основании данных из столбца `purpose` сформирует новый столбец `purpose_category`, в который войдут следующие категории:**\n",
    "\n",
    "- `'операции с автомобилем'`,\n",
    "- `'операции с недвижимостью'`,\n",
    "- `'проведение свадьбы'`,\n",
    "- `'получение образования'`.\n",
    "\n",
    "**Например, если в столбце `purpose` находится подстрока `'на покупку автомобиля'`, то в столбце `purpose_category` должна появиться строка `'операции с автомобилем'`.**\n",
    "\n",
    "**Используйте собственную функцию с именем `categorize_purpose()` и метод `apply()`. Изучите данные в столбце `purpose` и определите, какие подстроки помогут вам правильно определить категорию.**"
   ]
  },
  {
   "cell_type": "code",
   "execution_count": 20,
   "id": "df49cd60",
   "metadata": {
    "deletable": false,
    "id": "e149fab4"
   },
   "outputs": [],
   "source": [
    "def categorize_purpose(row):\n",
    "    try:\n",
    "        if 'автом' in row:\n",
    "            return 'операции с автомобилем'\n",
    "        elif 'жил' in row or 'недвиж' in row:\n",
    "            return 'операции с недвижимостью'\n",
    "        elif 'свад' in row:\n",
    "            return 'проведение свадьбы'\n",
    "        elif 'образов' in row:\n",
    "            return 'получение образования'\n",
    "    except:\n",
    "        return 'нет категории'"
   ]
  },
  {
   "cell_type": "code",
   "execution_count": 21,
   "id": "b424da3e",
   "metadata": {
    "deletable": false,
    "id": "bf36e69b"
   },
   "outputs": [],
   "source": [
    "data['purpose_category'] = data['purpose'].apply(categorize_purpose)"
   ]
  },
  {
   "cell_type": "markdown",
   "id": "08f29651",
   "metadata": {
    "deletable": false,
    "editable": false,
    "id": "09b242bf"
   },
   "source": [
    "### Шаг 3. Исследуйте данные и ответьте на вопросы"
   ]
  },
  {
   "cell_type": "markdown",
   "id": "aab286b1",
   "metadata": {
    "deletable": false,
    "editable": false,
    "id": "c5d66278"
   },
   "source": [
    "#### 3.1 Есть ли зависимость между количеством детей и возвратом кредита в срок?"
   ]
  },
  {
   "cell_type": "code",
   "execution_count": 22,
   "id": "a3d637e5",
   "metadata": {
    "deletable": false,
    "id": "2cacfc4a"
   },
   "outputs": [
    {
     "name": "stdout",
     "output_type": "stream",
     "text": [
      "          count   sum      mean\n",
      "           debt  debt      debt\n",
      "children                       \n",
      "4            41     4  0.097561\n",
      "2          2052   194  0.094542\n",
      "1          4808   444  0.092346\n",
      "3           330    27  0.081818\n",
      "0         14091  1063  0.075438\n",
      "5             9     0  0.000000\n"
     ]
    }
   ],
   "source": [
    "child_infl = data.pivot_table(index = 'children', values = 'debt', aggfunc = ['count', 'sum', 'mean'])\\\n",
    "    .sort_values(by = ('mean', 'debt'), ascending = False)\n",
    "print(child_infl)"
   ]
  },
  {
   "cell_type": "markdown",
   "id": "fcf13c6a",
   "metadata": {
    "deletable": false,
    "id": "3a6b99ec"
   },
   "source": [
    "**Вывод:** Цифры показывают, что наличие детей делает заемщиков болле ответственными. Если родители, детей выплачивают, более 90% кредитов, то без них - всего 75%.\n",
    "\n"
   ]
  },
  {
   "cell_type": "markdown",
   "id": "d548729c",
   "metadata": {
    "deletable": false,
    "editable": false,
    "id": "97be82ca"
   },
   "source": [
    "#### 3.2 Есть ли зависимость между семейным положением и возвратом кредита в срок?"
   ]
  },
  {
   "cell_type": "code",
   "execution_count": 23,
   "id": "7d68f1da",
   "metadata": {
    "deletable": false,
    "id": "dc3f7ee8"
   },
   "outputs": [
    {
     "name": "stdout",
     "output_type": "stream",
     "text": [
      "                       count  sum      mean\n",
      "                        debt debt      debt\n",
      "family_status                              \n",
      "Не женат / не замужем   2796  273  0.097639\n",
      "гражданский брак        4134  385  0.093130\n",
      "женат / замужем        12261  927  0.075606\n",
      "в разводе               1189   84  0.070648\n",
      "вдовец / вдова           951   63  0.066246\n"
     ]
    }
   ],
   "source": [
    "family_infl = data.pivot_table(index = 'family_status', values = 'debt', aggfunc = ['count', 'sum', 'mean'])\\\n",
    "    .sort_values(by = ('mean', 'debt'), ascending = False)\n",
    "print(family_infl)\n"
   ]
  },
  {
   "cell_type": "code",
   "execution_count": 3,
   "id": "d43fa4b7",
   "metadata": {},
   "outputs": [
    {
     "data": {
      "text/html": [
       "<style  type=\"text/css\" >\n",
       "</style><table id=\"T_87d3b_\" ><thead>    <tr>        <th class=\"blank level0\" ></th>        <th class=\"col_heading level0 col0\" >credits_count</th>        <th class=\"col_heading level0 col1\" >debitors_count</th>        <th class=\"col_heading level0 col2\" >percent_debitors</th>    </tr>    <tr>        <th class=\"index_name level0\" >family_status</th>        <th class=\"blank\" ></th>        <th class=\"blank\" ></th>        <th class=\"blank\" ></th>    </tr></thead><tbody>\n",
       "                <tr>\n",
       "                        <th id=\"T_87d3b_level0_row0\" class=\"row_heading level0 row0\" >Не женат / не замужем</th>\n",
       "                        <td id=\"T_87d3b_row0_col0\" class=\"data row0 col0\" >2813</td>\n",
       "                        <td id=\"T_87d3b_row0_col1\" class=\"data row0 col1\" >274</td>\n",
       "                        <td id=\"T_87d3b_row0_col2\" class=\"data row0 col2\" >9.74%</td>\n",
       "            </tr>\n",
       "            <tr>\n",
       "                        <th id=\"T_87d3b_level0_row1\" class=\"row_heading level0 row1\" >гражданский брак</th>\n",
       "                        <td id=\"T_87d3b_row1_col0\" class=\"data row1 col0\" >4177</td>\n",
       "                        <td id=\"T_87d3b_row1_col1\" class=\"data row1 col1\" >388</td>\n",
       "                        <td id=\"T_87d3b_row1_col2\" class=\"data row1 col2\" >9.29%</td>\n",
       "            </tr>\n",
       "            <tr>\n",
       "                        <th id=\"T_87d3b_level0_row2\" class=\"row_heading level0 row2\" >женат / замужем</th>\n",
       "                        <td id=\"T_87d3b_row2_col0\" class=\"data row2 col0\" >12380</td>\n",
       "                        <td id=\"T_87d3b_row2_col1\" class=\"data row2 col1\" >931</td>\n",
       "                        <td id=\"T_87d3b_row2_col2\" class=\"data row2 col2\" >7.52%</td>\n",
       "            </tr>\n",
       "            <tr>\n",
       "                        <th id=\"T_87d3b_level0_row3\" class=\"row_heading level0 row3\" >в разводе</th>\n",
       "                        <td id=\"T_87d3b_row3_col0\" class=\"data row3 col0\" >1195</td>\n",
       "                        <td id=\"T_87d3b_row3_col1\" class=\"data row3 col1\" >85</td>\n",
       "                        <td id=\"T_87d3b_row3_col2\" class=\"data row3 col2\" >7.11%</td>\n",
       "            </tr>\n",
       "            <tr>\n",
       "                        <th id=\"T_87d3b_level0_row4\" class=\"row_heading level0 row4\" >вдовец / вдова</th>\n",
       "                        <td id=\"T_87d3b_row4_col0\" class=\"data row4 col0\" >960</td>\n",
       "                        <td id=\"T_87d3b_row4_col1\" class=\"data row4 col1\" >63</td>\n",
       "                        <td id=\"T_87d3b_row4_col2\" class=\"data row4 col2\" >6.56%</td>\n",
       "            </tr>\n",
       "    </tbody></table>"
      ],
      "text/plain": [
       "<pandas.io.formats.style.Styler at 0x7ffb6b169490>"
      ]
     },
     "execution_count": 3,
     "metadata": {},
     "output_type": "execute_result"
    }
   ],
   "source": [
    "data.groupby('family_status').agg(credits_count = ('debt','count'),\n",
    "                             debitors_count = ('debt','sum'),\n",
    "                             percent_debitors=('debt','mean'))\\\n",
    "                            .sort_values(by = 'percent_debitors', ascending = False)\\\n",
    "                            .style.format({'percent_debitors' : '{:.2%}'})"
   ]
  },
  {
   "cell_type": "markdown",
   "id": "655c0d5b",
   "metadata": {
    "deletable": false,
    "id": "1cef7837"
   },
   "source": [
    "**Вывод:** Сводная таблица показывает, что меньше всего доверяй вдовам, хм, а что случилось с ее мужем? \n",
    "самые ответсвенные не женатые, а это прекрасно вяжется с первым выводом, обычно не женатые и без детей."
   ]
  },
  {
   "cell_type": "markdown",
   "id": "f886505f",
   "metadata": {
    "deletable": false,
    "editable": false,
    "id": "1e8b2fca"
   },
   "source": [
    "#### 3.3 Есть ли зависимость между уровнем дохода и возвратом кредита в срок?"
   ]
  },
  {
   "cell_type": "code",
   "execution_count": 24,
   "id": "bcea8582",
   "metadata": {
    "deletable": false,
    "id": "cd7e3720"
   },
   "outputs": [
    {
     "name": "stdout",
     "output_type": "stream",
     "text": [
      "                       count   sum      mean\n",
      "                        debt  debt      debt\n",
      "total_income_category                       \n",
      "E                         22     2  0.090909\n",
      "C                      15921  1353  0.084982\n",
      "A                         25     2  0.080000\n",
      "B                       5014   354  0.070602\n",
      "D                        349    21  0.060172\n"
     ]
    }
   ],
   "source": [
    "income_infl = data.pivot_table(index = 'total_income_category', values = 'debt', aggfunc = ['count', 'sum', 'mean'])\\\n",
    "    .sort_values(by = ('mean', 'debt'), ascending = False)\n",
    "print(income_infl) "
   ]
  },
  {
   "cell_type": "markdown",
   "id": "3e7cccef",
   "metadata": {
    "deletable": false,
    "id": "e8593def"
   },
   "source": [
    "**Вывод:** Самые ответственные Е и С, хм странно, ведь А и В имеют лучше доход... "
   ]
  },
  {
   "cell_type": "markdown",
   "id": "4c53d1e4",
   "metadata": {
    "deletable": false,
    "editable": false,
    "id": "99ecbd1f"
   },
   "source": [
    "#### 3.4 Как разные цели кредита влияют на его возврат в срок?"
   ]
  },
  {
   "cell_type": "code",
   "execution_count": 25,
   "id": "62d3b70c",
   "metadata": {
    "deletable": false,
    "id": "2b687290"
   },
   "outputs": [
    {
     "name": "stdout",
     "output_type": "stream",
     "text": [
      "                          count  sum      mean\n",
      "                           debt debt      debt\n",
      "purpose_category                              \n",
      "операции с автомобилем     4279  400  0.093480\n",
      "получение образования      3988  369  0.092528\n",
      "проведение свадьбы         2313  183  0.079118\n",
      "операции с недвижимостью  10751  780  0.072551\n"
     ]
    }
   ],
   "source": [
    "purpose_infl = data.pivot_table(index = 'purpose_category', values = 'debt', aggfunc = ['count', 'sum', 'mean'])\\\n",
    "    .sort_values(by = ('mean', 'debt'), ascending = False)\n",
    "print(purpose_infl)"
   ]
  },
  {
   "cell_type": "markdown",
   "id": "41ef2725",
   "metadata": {
    "deletable": false,
    "id": "b4bb2ce6"
   },
   "source": [
    "**Вывод:** Лучше всего отдают кредиты за авто, ну конечно, все любят своих ласточек. А вот операции с недвижимостью... ну за 20 лет многое может произойти."
   ]
  },
  {
   "cell_type": "markdown",
   "id": "8ce5046e",
   "metadata": {
    "deletable": false,
    "editable": false,
    "id": "09c3ac4c"
   },
   "source": [
    "#### 3.5 Приведите возможные причины появления пропусков в исходных данных."
   ]
  },
  {
   "cell_type": "markdown",
   "id": "3a7ba714",
   "metadata": {
    "deletable": false,
    "id": "9da2ceda"
   },
   "source": [
    "*Ответ:* В проекте мы столкнулись с отсутствием данных в категориях трудовой стаж. Это были как пропуски, так и отрицательные значение. Такое могло быть по причине испорченного файла с данными у заказчика. Так же по причине халатности сотрудника, которые должен заполнять данные. Так же причина может быть в отсутсвии самого стажа, но при этом оставили пропуск , а не поставили 0. Отрицательные данные могут быть если для расчета использовалась формула, но что-то пошло не так и она стала неверно считать данные. Или изначально данные заводились по одной системе, потом по другой, при переносе могло что-то слететь. Так же мы столкнулись с аномальными данными в колонке дети - это значения -1 и 20. 20 конечно мы убрали, но я бы перепроверил, все-таки есть хоть и маленькая но возможность. А вот -1, это конечно опять ошибка, которая могла возникнуть и по вине формул, и по невнимательности. "
   ]
  },
  {
   "cell_type": "markdown",
   "id": "15f583cc",
   "metadata": {
    "deletable": false,
    "editable": false,
    "id": "7b0487d6"
   },
   "source": [
    "#### 3.6 Объясните, почему заполнить пропуски медианным значением — лучшее решение для количественных переменных."
   ]
  },
  {
   "cell_type": "markdown",
   "id": "eaf0c0d3",
   "metadata": {
    "deletable": false,
    "id": "7ecf2b8e"
   },
   "source": [
    "*Ответ:* Хоть мы в жизни обычно и считаем среднее, среднестатистическое, но в аналитике я убдеждаюсь, что это неверная дорожка. Если по каким-то причинам ( например как это сейчас модно в Европе, если человек себя кем-то чувствует другим, то полагается ему потакать и ни в коем случае не ушемлять права), так вот, если вдргу дедушка 99 лет, почувствует себя малышом, а по сути, за ним уже надо примерно так же ухаживать, то попав в ясли, группа из 5-летних деток при среднем, ой как подрастет, и их уже пора бы и в школу отправить и это сказывать всего 1 большая величина. Тоже самое в примере из теории по зарплате в отделе. Да и средней зарплате по стране так же ((( В общем чтобы получить достоверную информацию, а особенно, чтобы использовать ее для пропусков, тут нуэно конечно медиану и чем больше есть параметров по ее выборке, тем лучше. Как в примере, одно дело медиана по всем доходам, другое уже с доп. условиями , таким как , наличие детей,стаж работы и т.д. И чем точнее данные, тем точнее выводы )"
   ]
  },
  {
   "cell_type": "markdown",
   "id": "079742f9",
   "metadata": {
    "deletable": false,
    "editable": false,
    "id": "6db5255a"
   },
   "source": [
    "### Шаг 4: общий вывод."
   ]
  },
  {
   "cell_type": "markdown",
   "id": "5cd3d91e",
   "metadata": {
    "deletable": false,
    "id": "bad65432"
   },
   "source": [
    "Имея дело с даже самым проверенным клиентом, не доверяй до конца его данным. Всегда сначала проверь их. От человекческих ошибок никто не застрахован. Так по файлу заказчика оказалось невозможно сразу приступить к анализу, хорошо , что мы решили сделать предоработку и выявили много факторов, влияющих на результат. \n",
    "Пройденный курс помог нам легко справится с такими трудностями как:\n",
    "- пропущенные значения и замена их медианой,\n",
    "- удаление аномалия, которые не похожи на настоящие данные,\n",
    "- отрицательные числа в данных, что тоже не может быть правдой,\n",
    "- явные и неявные дубликаты,\n",
    "- создание диапазона для доходов, чтобы не считать каждый отдельно,\n",
    "- объединение целей кредита в несколько доступных и понятных категорий\n",
    "По факту анализа мы видим, что банк не зря решил ввести модель кредитного скоринга, т.к. зависимость по категориям очень четкая и легко прослеживается.\n",
    "Так, отсутсвие детей - это показатель, что вернуть кредит получится, только в 75% случаях, а их наличие уснижает риски до 90%.\n",
    "Так же, видно, что не женатые и те, кто в гражданском браке более ответсвенные, а это скорее всего молодеж, тут можно попробовать еще сделать анализ во возрастной группе.\n",
    "Если смотреть доход, то из 2-х самые многочисленных групп С и В , В имеют лучше кредитную историю 85% против 70%, что очень существенно.\n",
    "В целях кредита, выдать автокредит намного безопаснее, чем дать недвижимость, поэтому в последнем нужно позаботится о страховках не только имущества, но и здоровья заямщика, т.к. суммы там не маленькие. Туи опять мой совет банку, сделать анализ по сумме кредита, возможно кросс анализ сумма кредита и доход. В общем еще есть поле для действий."
   ]
  },
  {
   "cell_type": "code",
   "execution_count": null,
   "id": "fd82fde3",
   "metadata": {},
   "outputs": [],
   "source": []
  }
 ],
 "metadata": {
  "ExecuteTimeLog": [
   {
    "duration": 420,
    "start_time": "2022-12-16T20:50:31.538Z"
   },
   {
    "duration": 20,
    "start_time": "2022-12-16T20:50:31.960Z"
   },
   {
    "duration": 13,
    "start_time": "2022-12-16T20:50:31.982Z"
   },
   {
    "duration": 9,
    "start_time": "2022-12-16T20:50:31.997Z"
   },
   {
    "duration": 35,
    "start_time": "2022-12-16T20:50:32.007Z"
   },
   {
    "duration": 2,
    "start_time": "2022-12-16T20:50:32.044Z"
   },
   {
    "duration": 12,
    "start_time": "2022-12-16T20:50:32.048Z"
   },
   {
    "duration": 20,
    "start_time": "2022-12-16T20:50:32.061Z"
   },
   {
    "duration": 8,
    "start_time": "2022-12-16T20:50:32.082Z"
   },
   {
    "duration": 4,
    "start_time": "2022-12-16T20:50:32.093Z"
   },
   {
    "duration": 32,
    "start_time": "2022-12-16T20:50:32.098Z"
   },
   {
    "duration": 9,
    "start_time": "2022-12-16T20:50:32.132Z"
   },
   {
    "duration": 36,
    "start_time": "2022-12-16T20:50:32.142Z"
   },
   {
    "duration": 10,
    "start_time": "2022-12-16T20:50:32.180Z"
   },
   {
    "duration": 20,
    "start_time": "2022-12-16T20:50:32.191Z"
   },
   {
    "duration": 14,
    "start_time": "2022-12-16T20:50:32.212Z"
   },
   {
    "duration": 7,
    "start_time": "2022-12-16T20:50:32.228Z"
   },
   {
    "duration": 25,
    "start_time": "2022-12-16T20:50:32.236Z"
   },
   {
    "duration": 5,
    "start_time": "2022-12-16T20:50:32.262Z"
   },
   {
    "duration": 3,
    "start_time": "2022-12-16T20:50:32.269Z"
   },
   {
    "duration": 8,
    "start_time": "2022-12-16T20:50:32.278Z"
   },
   {
    "duration": 6,
    "start_time": "2022-12-16T20:50:32.287Z"
   },
   {
    "duration": 8,
    "start_time": "2022-12-16T20:50:32.295Z"
   },
   {
    "duration": 9,
    "start_time": "2022-12-16T20:50:32.304Z"
   },
   {
    "duration": 5,
    "start_time": "2022-12-16T20:50:32.314Z"
   },
   {
    "duration": 1099,
    "start_time": "2022-12-17T15:47:36.386Z"
   },
   {
    "duration": 31,
    "start_time": "2022-12-17T15:47:37.487Z"
   },
   {
    "duration": 18,
    "start_time": "2022-12-17T15:47:37.520Z"
   },
   {
    "duration": 12,
    "start_time": "2022-12-17T15:47:37.541Z"
   },
   {
    "duration": 70,
    "start_time": "2022-12-17T15:47:37.555Z"
   },
   {
    "duration": 3,
    "start_time": "2022-12-17T15:47:37.627Z"
   },
   {
    "duration": 12,
    "start_time": "2022-12-17T15:47:37.632Z"
   },
   {
    "duration": 5,
    "start_time": "2022-12-17T15:47:37.646Z"
   },
   {
    "duration": 13,
    "start_time": "2022-12-17T15:47:37.653Z"
   },
   {
    "duration": 6,
    "start_time": "2022-12-17T15:47:37.669Z"
   },
   {
    "duration": 48,
    "start_time": "2022-12-17T15:47:37.676Z"
   },
   {
    "duration": 11,
    "start_time": "2022-12-17T15:47:37.725Z"
   },
   {
    "duration": 9,
    "start_time": "2022-12-17T15:47:37.738Z"
   },
   {
    "duration": 14,
    "start_time": "2022-12-17T15:47:37.748Z"
   },
   {
    "duration": 42,
    "start_time": "2022-12-17T15:47:37.764Z"
   },
   {
    "duration": 20,
    "start_time": "2022-12-17T15:47:37.808Z"
   },
   {
    "duration": 5,
    "start_time": "2022-12-17T15:47:37.830Z"
   },
   {
    "duration": 27,
    "start_time": "2022-12-17T15:47:37.837Z"
   },
   {
    "duration": 14,
    "start_time": "2022-12-17T15:47:37.866Z"
   },
   {
    "duration": 19,
    "start_time": "2022-12-17T15:47:37.881Z"
   },
   {
    "duration": 56,
    "start_time": "2022-12-17T15:47:37.902Z"
   },
   {
    "duration": 18,
    "start_time": "2022-12-17T15:47:37.960Z"
   },
   {
    "duration": 11,
    "start_time": "2022-12-17T15:47:37.980Z"
   },
   {
    "duration": 9,
    "start_time": "2022-12-17T15:47:37.993Z"
   },
   {
    "duration": 6,
    "start_time": "2022-12-17T15:47:38.004Z"
   },
   {
    "duration": 6,
    "start_time": "2022-12-17T15:51:19.671Z"
   },
   {
    "duration": 15,
    "start_time": "2022-12-17T15:51:40.316Z"
   },
   {
    "duration": 53,
    "start_time": "2022-12-17T15:52:05.511Z"
   },
   {
    "duration": 7,
    "start_time": "2022-12-17T15:52:14.509Z"
   },
   {
    "duration": 73,
    "start_time": "2022-12-17T15:58:05.555Z"
   },
   {
    "duration": 17,
    "start_time": "2022-12-17T16:00:18.817Z"
   },
   {
    "duration": 5,
    "start_time": "2022-12-17T16:01:04.778Z"
   },
   {
    "duration": 5,
    "start_time": "2022-12-17T16:01:26.413Z"
   },
   {
    "duration": 9,
    "start_time": "2022-12-17T16:16:35.370Z"
   },
   {
    "duration": 14,
    "start_time": "2022-12-17T16:16:49.236Z"
   },
   {
    "duration": 15,
    "start_time": "2022-12-17T16:17:24.861Z"
   },
   {
    "duration": 53,
    "start_time": "2022-12-17T16:21:07.437Z"
   },
   {
    "duration": 10,
    "start_time": "2022-12-17T16:21:16.980Z"
   },
   {
    "duration": 12,
    "start_time": "2022-12-17T16:26:59.813Z"
   },
   {
    "duration": 947,
    "start_time": "2022-12-17T16:27:14.818Z"
   },
   {
    "duration": 392,
    "start_time": "2022-12-17T16:27:54.933Z"
   },
   {
    "duration": 13,
    "start_time": "2022-12-17T16:28:15.195Z"
   },
   {
    "duration": 10,
    "start_time": "2022-12-17T16:32:09.784Z"
   },
   {
    "duration": 13,
    "start_time": "2022-12-17T16:32:16.125Z"
   },
   {
    "duration": 16,
    "start_time": "2022-12-17T16:32:32.171Z"
   },
   {
    "duration": 10,
    "start_time": "2022-12-17T16:36:57.286Z"
   },
   {
    "duration": 9,
    "start_time": "2022-12-17T16:40:40.213Z"
   },
   {
    "duration": 17,
    "start_time": "2022-12-17T16:42:09.480Z"
   },
   {
    "duration": 12,
    "start_time": "2022-12-17T16:42:43.924Z"
   },
   {
    "duration": 14,
    "start_time": "2022-12-17T16:43:34.840Z"
   },
   {
    "duration": 13,
    "start_time": "2022-12-17T17:19:53.857Z"
   },
   {
    "duration": 10,
    "start_time": "2022-12-17T17:20:01.722Z"
   },
   {
    "duration": 13,
    "start_time": "2022-12-17T17:20:55.689Z"
   },
   {
    "duration": 17,
    "start_time": "2022-12-17T17:30:57.602Z"
   },
   {
    "duration": 17,
    "start_time": "2022-12-17T17:31:38.581Z"
   },
   {
    "duration": 9,
    "start_time": "2022-12-17T18:07:37.779Z"
   },
   {
    "duration": 658,
    "start_time": "2022-12-17T18:08:27.240Z"
   },
   {
    "duration": 8,
    "start_time": "2022-12-17T18:08:48.432Z"
   },
   {
    "duration": 8,
    "start_time": "2022-12-17T18:08:56.464Z"
   },
   {
    "duration": 9,
    "start_time": "2022-12-17T18:09:11.284Z"
   },
   {
    "duration": 60,
    "start_time": "2022-12-17T18:12:16.191Z"
   },
   {
    "duration": 402,
    "start_time": "2022-12-17T18:18:59.850Z"
   },
   {
    "duration": 68,
    "start_time": "2022-12-17T18:19:54.684Z"
   },
   {
    "duration": 15,
    "start_time": "2022-12-17T18:19:54.753Z"
   },
   {
    "duration": 15,
    "start_time": "2022-12-17T18:19:54.769Z"
   },
   {
    "duration": 8,
    "start_time": "2022-12-17T18:19:54.796Z"
   },
   {
    "duration": 30,
    "start_time": "2022-12-17T18:19:54.805Z"
   },
   {
    "duration": 3,
    "start_time": "2022-12-17T18:19:54.837Z"
   },
   {
    "duration": 11,
    "start_time": "2022-12-17T18:19:54.842Z"
   },
   {
    "duration": 4,
    "start_time": "2022-12-17T18:19:54.855Z"
   },
   {
    "duration": 35,
    "start_time": "2022-12-17T18:19:54.861Z"
   },
   {
    "duration": 5,
    "start_time": "2022-12-17T18:19:54.899Z"
   },
   {
    "duration": 48,
    "start_time": "2022-12-17T18:19:54.905Z"
   },
   {
    "duration": 12,
    "start_time": "2022-12-17T18:19:54.958Z"
   },
   {
    "duration": 25,
    "start_time": "2022-12-17T18:19:54.971Z"
   },
   {
    "duration": 10,
    "start_time": "2022-12-17T18:19:54.998Z"
   },
   {
    "duration": 25,
    "start_time": "2022-12-17T18:19:55.010Z"
   },
   {
    "duration": 16,
    "start_time": "2022-12-17T18:19:55.037Z"
   },
   {
    "duration": 4,
    "start_time": "2022-12-17T18:19:55.055Z"
   },
   {
    "duration": 35,
    "start_time": "2022-12-17T18:19:55.061Z"
   },
   {
    "duration": 6,
    "start_time": "2022-12-17T18:19:55.098Z"
   },
   {
    "duration": 3,
    "start_time": "2022-12-17T18:19:55.106Z"
   },
   {
    "duration": 10,
    "start_time": "2022-12-17T18:19:55.111Z"
   },
   {
    "duration": 17,
    "start_time": "2022-12-17T18:19:55.123Z"
   },
   {
    "duration": 0,
    "start_time": "2022-12-17T18:19:55.142Z"
   },
   {
    "duration": 0,
    "start_time": "2022-12-17T18:19:55.143Z"
   },
   {
    "duration": 0,
    "start_time": "2022-12-17T18:19:55.145Z"
   },
   {
    "duration": 10,
    "start_time": "2022-12-17T18:20:12.295Z"
   },
   {
    "duration": 372,
    "start_time": "2022-12-17T18:20:15.660Z"
   },
   {
    "duration": 9,
    "start_time": "2022-12-17T18:20:39.745Z"
   },
   {
    "duration": 6,
    "start_time": "2022-12-17T18:22:06.408Z"
   },
   {
    "duration": 17,
    "start_time": "2022-12-17T18:27:35.650Z"
   },
   {
    "duration": 7,
    "start_time": "2022-12-17T18:33:21.183Z"
   },
   {
    "duration": 5,
    "start_time": "2022-12-17T18:33:41.207Z"
   },
   {
    "duration": 9,
    "start_time": "2022-12-17T18:34:08.130Z"
   },
   {
    "duration": 25,
    "start_time": "2022-12-17T18:37:26.645Z"
   },
   {
    "duration": 24,
    "start_time": "2022-12-17T18:37:51.850Z"
   },
   {
    "duration": 21,
    "start_time": "2022-12-17T18:38:06.196Z"
   },
   {
    "duration": 22,
    "start_time": "2022-12-17T18:38:50.097Z"
   },
   {
    "duration": 20,
    "start_time": "2022-12-17T18:40:12.318Z"
   },
   {
    "duration": 20,
    "start_time": "2022-12-17T18:40:16.695Z"
   },
   {
    "duration": 23,
    "start_time": "2022-12-17T18:40:28.588Z"
   },
   {
    "duration": 21,
    "start_time": "2022-12-17T18:41:01.496Z"
   },
   {
    "duration": 20,
    "start_time": "2022-12-17T18:41:42.241Z"
   },
   {
    "duration": 20,
    "start_time": "2022-12-17T18:45:57.722Z"
   },
   {
    "duration": 44,
    "start_time": "2022-12-17T18:59:34.382Z"
   },
   {
    "duration": 48,
    "start_time": "2022-12-17T18:59:57.701Z"
   },
   {
    "duration": 18,
    "start_time": "2022-12-17T19:03:06.513Z"
   },
   {
    "duration": 23,
    "start_time": "2022-12-17T19:03:36.292Z"
   },
   {
    "duration": 24,
    "start_time": "2022-12-17T19:03:53.423Z"
   },
   {
    "duration": 21,
    "start_time": "2022-12-17T19:04:12.161Z"
   },
   {
    "duration": 15,
    "start_time": "2022-12-17T19:10:23.478Z"
   },
   {
    "duration": 17,
    "start_time": "2022-12-17T19:10:56.496Z"
   },
   {
    "duration": 11,
    "start_time": "2022-12-17T19:12:12.953Z"
   },
   {
    "duration": 13,
    "start_time": "2022-12-17T19:22:01.212Z"
   },
   {
    "duration": 16,
    "start_time": "2022-12-17T19:27:33.352Z"
   },
   {
    "duration": 91,
    "start_time": "2022-12-18T11:27:43.424Z"
   },
   {
    "duration": 42,
    "start_time": "2022-12-18T11:28:02.101Z"
   },
   {
    "duration": 541,
    "start_time": "2022-12-18T11:28:28.675Z"
   },
   {
    "duration": 24,
    "start_time": "2022-12-18T11:28:29.219Z"
   },
   {
    "duration": 15,
    "start_time": "2022-12-18T11:28:29.244Z"
   },
   {
    "duration": 10,
    "start_time": "2022-12-18T11:28:29.261Z"
   },
   {
    "duration": 56,
    "start_time": "2022-12-18T11:28:29.277Z"
   },
   {
    "duration": 5,
    "start_time": "2022-12-18T11:28:29.335Z"
   },
   {
    "duration": 14,
    "start_time": "2022-12-18T11:28:29.341Z"
   },
   {
    "duration": 24,
    "start_time": "2022-12-18T11:28:29.357Z"
   },
   {
    "duration": 10,
    "start_time": "2022-12-18T11:28:29.383Z"
   },
   {
    "duration": 9,
    "start_time": "2022-12-18T11:28:29.394Z"
   },
   {
    "duration": 47,
    "start_time": "2022-12-18T11:28:29.405Z"
   },
   {
    "duration": 28,
    "start_time": "2022-12-18T11:28:29.454Z"
   },
   {
    "duration": 5,
    "start_time": "2022-12-18T11:28:29.484Z"
   },
   {
    "duration": 14,
    "start_time": "2022-12-18T11:28:29.493Z"
   },
   {
    "duration": 26,
    "start_time": "2022-12-18T11:28:29.509Z"
   },
   {
    "duration": 43,
    "start_time": "2022-12-18T11:28:29.537Z"
   },
   {
    "duration": 4,
    "start_time": "2022-12-18T11:28:29.582Z"
   },
   {
    "duration": 16,
    "start_time": "2022-12-18T11:28:29.588Z"
   },
   {
    "duration": 12,
    "start_time": "2022-12-18T11:28:29.606Z"
   },
   {
    "duration": 7,
    "start_time": "2022-12-18T11:28:29.620Z"
   },
   {
    "duration": 11,
    "start_time": "2022-12-18T11:28:29.630Z"
   },
   {
    "duration": 36,
    "start_time": "2022-12-18T11:28:29.643Z"
   },
   {
    "duration": 15,
    "start_time": "2022-12-18T11:28:29.681Z"
   },
   {
    "duration": 41,
    "start_time": "2022-12-18T11:28:29.697Z"
   },
   {
    "duration": 41,
    "start_time": "2022-12-18T11:28:29.740Z"
   },
   {
    "duration": 71,
    "start_time": "2022-12-18T11:29:17.561Z"
   },
   {
    "duration": 39,
    "start_time": "2022-12-18T11:29:25.565Z"
   },
   {
    "duration": 9,
    "start_time": "2022-12-18T11:34:16.881Z"
   },
   {
    "duration": 10,
    "start_time": "2022-12-18T11:34:38.105Z"
   },
   {
    "duration": 70,
    "start_time": "2022-12-18T11:39:27.739Z"
   },
   {
    "duration": 12,
    "start_time": "2022-12-18T11:39:46.370Z"
   },
   {
    "duration": 12,
    "start_time": "2022-12-18T11:39:55.609Z"
   },
   {
    "duration": 10,
    "start_time": "2022-12-18T11:41:48.181Z"
   },
   {
    "duration": 12,
    "start_time": "2022-12-18T11:45:49.563Z"
   },
   {
    "duration": 866,
    "start_time": "2022-12-18T11:46:20.309Z"
   },
   {
    "duration": 811,
    "start_time": "2022-12-18T11:46:39.512Z"
   },
   {
    "duration": 10,
    "start_time": "2022-12-18T12:00:28.525Z"
   },
   {
    "duration": 1123,
    "start_time": "2022-12-18T12:03:24.745Z"
   },
   {
    "duration": 1093,
    "start_time": "2022-12-18T12:03:39.739Z"
   },
   {
    "duration": 13,
    "start_time": "2022-12-18T12:04:52.299Z"
   },
   {
    "duration": 71,
    "start_time": "2022-12-18T12:05:47.950Z"
   },
   {
    "duration": 70,
    "start_time": "2022-12-18T12:06:12.253Z"
   },
   {
    "duration": 70,
    "start_time": "2022-12-18T12:06:22.044Z"
   },
   {
    "duration": 72,
    "start_time": "2022-12-18T12:07:30.573Z"
   },
   {
    "duration": 74,
    "start_time": "2022-12-18T12:07:44.137Z"
   },
   {
    "duration": 70,
    "start_time": "2022-12-18T12:09:42.672Z"
   },
   {
    "duration": 9,
    "start_time": "2022-12-18T12:13:25.866Z"
   },
   {
    "duration": 10,
    "start_time": "2022-12-18T12:15:09.703Z"
   },
   {
    "duration": 11,
    "start_time": "2022-12-18T12:17:58.558Z"
   },
   {
    "duration": 12,
    "start_time": "2022-12-18T12:20:04.204Z"
   },
   {
    "duration": 14,
    "start_time": "2022-12-18T12:20:16.754Z"
   },
   {
    "duration": 13,
    "start_time": "2022-12-18T12:20:38.724Z"
   },
   {
    "duration": 10,
    "start_time": "2022-12-18T12:20:51.230Z"
   },
   {
    "duration": 11,
    "start_time": "2022-12-18T12:21:03.749Z"
   },
   {
    "duration": 15,
    "start_time": "2022-12-18T12:21:16.980Z"
   },
   {
    "duration": 72,
    "start_time": "2022-12-18T12:21:43.763Z"
   },
   {
    "duration": 15,
    "start_time": "2022-12-18T12:21:49.639Z"
   },
   {
    "duration": 10,
    "start_time": "2022-12-18T12:22:06.120Z"
   },
   {
    "duration": 11,
    "start_time": "2022-12-18T12:22:42.047Z"
   },
   {
    "duration": 12,
    "start_time": "2022-12-18T12:23:18.712Z"
   },
   {
    "duration": 12,
    "start_time": "2022-12-18T12:23:33.531Z"
   },
   {
    "duration": 15,
    "start_time": "2022-12-18T12:23:50.023Z"
   },
   {
    "duration": 14,
    "start_time": "2022-12-18T12:26:47.231Z"
   },
   {
    "duration": 75,
    "start_time": "2022-12-18T12:27:20.480Z"
   },
   {
    "duration": 13,
    "start_time": "2022-12-18T12:27:31.423Z"
   },
   {
    "duration": 13,
    "start_time": "2022-12-18T12:27:48.408Z"
   },
   {
    "duration": 13,
    "start_time": "2022-12-18T12:28:14.646Z"
   },
   {
    "duration": 12,
    "start_time": "2022-12-18T12:28:40.429Z"
   },
   {
    "duration": 21,
    "start_time": "2022-12-18T12:28:54.109Z"
   },
   {
    "duration": 12,
    "start_time": "2022-12-18T12:29:06.221Z"
   },
   {
    "duration": 11,
    "start_time": "2022-12-18T12:33:07.831Z"
   },
   {
    "duration": 11,
    "start_time": "2022-12-18T12:33:10.591Z"
   },
   {
    "duration": 8,
    "start_time": "2022-12-18T12:33:13.803Z"
   },
   {
    "duration": 71,
    "start_time": "2022-12-18T12:33:17.501Z"
   },
   {
    "duration": 14,
    "start_time": "2022-12-18T12:33:17.574Z"
   },
   {
    "duration": 21,
    "start_time": "2022-12-18T12:33:17.589Z"
   },
   {
    "duration": 20,
    "start_time": "2022-12-18T12:33:17.611Z"
   },
   {
    "duration": 32,
    "start_time": "2022-12-18T12:33:17.633Z"
   },
   {
    "duration": 6,
    "start_time": "2022-12-18T12:33:17.666Z"
   },
   {
    "duration": 15,
    "start_time": "2022-12-18T12:33:17.674Z"
   },
   {
    "duration": 20,
    "start_time": "2022-12-18T12:33:17.690Z"
   },
   {
    "duration": 28,
    "start_time": "2022-12-18T12:33:17.712Z"
   },
   {
    "duration": 14,
    "start_time": "2022-12-18T12:33:17.741Z"
   },
   {
    "duration": 56,
    "start_time": "2022-12-18T12:33:17.756Z"
   },
   {
    "duration": 8,
    "start_time": "2022-12-18T12:33:17.814Z"
   },
   {
    "duration": 13,
    "start_time": "2022-12-18T12:33:17.824Z"
   },
   {
    "duration": 34,
    "start_time": "2022-12-18T12:33:17.839Z"
   },
   {
    "duration": 32,
    "start_time": "2022-12-18T12:33:17.874Z"
   },
   {
    "duration": 24,
    "start_time": "2022-12-18T12:33:17.907Z"
   },
   {
    "duration": 6,
    "start_time": "2022-12-18T12:33:17.932Z"
   },
   {
    "duration": 32,
    "start_time": "2022-12-18T12:33:17.939Z"
   },
   {
    "duration": 24,
    "start_time": "2022-12-18T12:33:17.973Z"
   },
   {
    "duration": 20,
    "start_time": "2022-12-18T12:33:17.999Z"
   },
   {
    "duration": 25,
    "start_time": "2022-12-18T12:33:18.020Z"
   },
   {
    "duration": 24,
    "start_time": "2022-12-18T12:33:18.047Z"
   },
   {
    "duration": 25,
    "start_time": "2022-12-18T12:33:18.073Z"
   },
   {
    "duration": 33,
    "start_time": "2022-12-18T12:33:18.100Z"
   },
   {
    "duration": 0,
    "start_time": "2022-12-18T12:33:18.134Z"
   },
   {
    "duration": 10,
    "start_time": "2022-12-18T12:33:38.720Z"
   },
   {
    "duration": 14,
    "start_time": "2022-12-18T12:33:53.424Z"
   },
   {
    "duration": 17,
    "start_time": "2022-12-18T12:34:00.148Z"
   },
   {
    "duration": 10,
    "start_time": "2022-12-18T12:34:41.378Z"
   },
   {
    "duration": 11,
    "start_time": "2022-12-18T12:36:40.853Z"
   },
   {
    "duration": 11,
    "start_time": "2022-12-18T12:36:50.247Z"
   },
   {
    "duration": 12,
    "start_time": "2022-12-18T12:37:05.576Z"
   },
   {
    "duration": 73,
    "start_time": "2022-12-18T12:37:30.106Z"
   },
   {
    "duration": 12,
    "start_time": "2022-12-18T12:37:36.256Z"
   },
   {
    "duration": 11,
    "start_time": "2022-12-18T12:39:02.610Z"
   },
   {
    "duration": 13,
    "start_time": "2022-12-18T12:39:27.475Z"
   },
   {
    "duration": 14,
    "start_time": "2022-12-18T12:40:23.962Z"
   },
   {
    "duration": 11,
    "start_time": "2022-12-18T12:41:23.274Z"
   },
   {
    "duration": 14,
    "start_time": "2022-12-18T12:44:46.803Z"
   },
   {
    "duration": 15,
    "start_time": "2022-12-18T12:45:01.058Z"
   },
   {
    "duration": 23,
    "start_time": "2022-12-18T12:47:05.691Z"
   },
   {
    "duration": 10,
    "start_time": "2022-12-18T12:47:11.013Z"
   },
   {
    "duration": 11,
    "start_time": "2022-12-18T12:47:21.025Z"
   },
   {
    "duration": 9,
    "start_time": "2022-12-18T12:47:26.433Z"
   },
   {
    "duration": 10,
    "start_time": "2022-12-18T12:49:29.520Z"
   },
   {
    "duration": 23,
    "start_time": "2022-12-18T12:51:48.073Z"
   },
   {
    "duration": 17,
    "start_time": "2022-12-18T12:52:17.833Z"
   },
   {
    "duration": 19,
    "start_time": "2022-12-18T12:52:35.005Z"
   },
   {
    "duration": 12,
    "start_time": "2022-12-18T12:52:51.161Z"
   },
   {
    "duration": 9,
    "start_time": "2022-12-18T12:56:53.142Z"
   },
   {
    "duration": 11,
    "start_time": "2022-12-18T13:00:04.666Z"
   },
   {
    "duration": 13,
    "start_time": "2022-12-18T13:00:57.850Z"
   },
   {
    "duration": 13,
    "start_time": "2022-12-18T13:02:01.859Z"
   },
   {
    "duration": 12,
    "start_time": "2022-12-18T13:02:30.736Z"
   },
   {
    "duration": 747,
    "start_time": "2022-12-19T16:47:39.983Z"
   },
   {
    "duration": 29,
    "start_time": "2022-12-19T16:47:40.733Z"
   },
   {
    "duration": 16,
    "start_time": "2022-12-19T16:47:40.764Z"
   },
   {
    "duration": 11,
    "start_time": "2022-12-19T16:47:40.783Z"
   },
   {
    "duration": 65,
    "start_time": "2022-12-19T16:47:40.795Z"
   },
   {
    "duration": 4,
    "start_time": "2022-12-19T16:47:40.861Z"
   },
   {
    "duration": 23,
    "start_time": "2022-12-19T16:47:40.866Z"
   },
   {
    "duration": 13,
    "start_time": "2022-12-19T16:47:40.890Z"
   },
   {
    "duration": 22,
    "start_time": "2022-12-19T16:47:40.904Z"
   },
   {
    "duration": 24,
    "start_time": "2022-12-19T16:47:40.929Z"
   },
   {
    "duration": 39,
    "start_time": "2022-12-19T16:47:40.955Z"
   },
   {
    "duration": 10,
    "start_time": "2022-12-19T16:47:40.996Z"
   },
   {
    "duration": 17,
    "start_time": "2022-12-19T16:47:41.007Z"
   },
   {
    "duration": 32,
    "start_time": "2022-12-19T16:47:41.026Z"
   },
   {
    "duration": 31,
    "start_time": "2022-12-19T16:47:41.060Z"
   },
   {
    "duration": 19,
    "start_time": "2022-12-19T16:47:41.092Z"
   },
   {
    "duration": 16,
    "start_time": "2022-12-19T16:47:41.113Z"
   },
   {
    "duration": 38,
    "start_time": "2022-12-19T16:47:41.131Z"
   },
   {
    "duration": 21,
    "start_time": "2022-12-19T16:47:41.171Z"
   },
   {
    "duration": 24,
    "start_time": "2022-12-19T16:47:41.194Z"
   },
   {
    "duration": 33,
    "start_time": "2022-12-19T16:47:41.220Z"
   },
   {
    "duration": 17,
    "start_time": "2022-12-19T16:47:41.255Z"
   },
   {
    "duration": 17,
    "start_time": "2022-12-19T16:47:41.273Z"
   },
   {
    "duration": 17,
    "start_time": "2022-12-19T16:47:41.291Z"
   },
   {
    "duration": 14,
    "start_time": "2022-12-19T16:47:41.310Z"
   },
   {
    "duration": 22,
    "start_time": "2022-12-19T16:48:46.116Z"
   },
   {
    "duration": 39,
    "start_time": "2022-12-19T16:50:56.148Z"
   },
   {
    "duration": 35,
    "start_time": "2022-12-19T16:53:11.883Z"
   },
   {
    "duration": 76,
    "start_time": "2022-12-19T16:53:53.859Z"
   },
   {
    "duration": 31,
    "start_time": "2022-12-19T16:54:02.335Z"
   },
   {
    "duration": 36,
    "start_time": "2022-12-19T16:54:40.431Z"
   },
   {
    "duration": 23,
    "start_time": "2022-12-19T16:55:16.154Z"
   },
   {
    "duration": 27,
    "start_time": "2022-12-19T16:58:33.798Z"
   },
   {
    "duration": 27,
    "start_time": "2022-12-19T17:01:37.230Z"
   },
   {
    "duration": 27,
    "start_time": "2022-12-19T17:03:08.369Z"
   },
   {
    "duration": 418,
    "start_time": "2022-12-20T07:11:08.133Z"
   },
   {
    "duration": 21,
    "start_time": "2022-12-20T07:11:08.553Z"
   },
   {
    "duration": 21,
    "start_time": "2022-12-20T07:11:08.576Z"
   },
   {
    "duration": 8,
    "start_time": "2022-12-20T07:11:08.599Z"
   },
   {
    "duration": 46,
    "start_time": "2022-12-20T07:11:08.608Z"
   },
   {
    "duration": 3,
    "start_time": "2022-12-20T07:11:08.656Z"
   },
   {
    "duration": 16,
    "start_time": "2022-12-20T07:11:08.661Z"
   },
   {
    "duration": 12,
    "start_time": "2022-12-20T07:11:08.679Z"
   },
   {
    "duration": 17,
    "start_time": "2022-12-20T07:11:08.692Z"
   },
   {
    "duration": 10,
    "start_time": "2022-12-20T07:11:08.711Z"
   },
   {
    "duration": 40,
    "start_time": "2022-12-20T07:11:08.722Z"
   },
   {
    "duration": 9,
    "start_time": "2022-12-20T07:11:08.763Z"
   },
   {
    "duration": 35,
    "start_time": "2022-12-20T07:11:08.773Z"
   },
   {
    "duration": 32,
    "start_time": "2022-12-20T07:11:08.810Z"
   },
   {
    "duration": 31,
    "start_time": "2022-12-20T07:11:08.844Z"
   },
   {
    "duration": 16,
    "start_time": "2022-12-20T07:11:08.877Z"
   },
   {
    "duration": 4,
    "start_time": "2022-12-20T07:11:08.894Z"
   },
   {
    "duration": 18,
    "start_time": "2022-12-20T07:11:08.899Z"
   },
   {
    "duration": 5,
    "start_time": "2022-12-20T07:11:08.919Z"
   },
   {
    "duration": 5,
    "start_time": "2022-12-20T07:11:08.925Z"
   },
   {
    "duration": 24,
    "start_time": "2022-12-20T07:11:08.931Z"
   },
   {
    "duration": 26,
    "start_time": "2022-12-20T07:11:08.957Z"
   },
   {
    "duration": 35,
    "start_time": "2022-12-20T07:11:08.984Z"
   },
   {
    "duration": 24,
    "start_time": "2022-12-20T07:11:09.020Z"
   },
   {
    "duration": 27,
    "start_time": "2022-12-20T07:11:09.046Z"
   },
   {
    "duration": 386,
    "start_time": "2022-12-20T07:14:05.995Z"
   },
   {
    "duration": 15,
    "start_time": "2022-12-20T07:14:43.559Z"
   },
   {
    "duration": 818,
    "start_time": "2023-10-03T20:28:25.389Z"
   },
   {
    "duration": 516,
    "start_time": "2023-10-03T20:29:39.266Z"
   },
   {
    "duration": 19,
    "start_time": "2023-10-03T20:29:48.389Z"
   }
  ],
  "colab": {
   "name": "dpp_template_part2.ipynb",
   "provenance": []
  },
  "kernelspec": {
   "display_name": "Python 3 (ipykernel)",
   "language": "python",
   "name": "python3"
  },
  "language_info": {
   "codemirror_mode": {
    "name": "ipython",
    "version": 3
   },
   "file_extension": ".py",
   "mimetype": "text/x-python",
   "name": "python",
   "nbconvert_exporter": "python",
   "pygments_lexer": "ipython3",
   "version": "3.9.5"
  },
  "toc": {
   "base_numbering": 1,
   "nav_menu": {},
   "number_sections": true,
   "sideBar": true,
   "skip_h1_title": true,
   "title_cell": "Table of Contents",
   "title_sidebar": "Contents",
   "toc_cell": false,
   "toc_position": {},
   "toc_section_display": true,
   "toc_window_display": false
  }
 },
 "nbformat": 4,
 "nbformat_minor": 5
}
